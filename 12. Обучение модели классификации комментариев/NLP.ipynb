{
 "cells": [
  {
   "cell_type": "markdown",
   "metadata": {},
   "source": [
    "# Обучение модели классификации комментариев"
   ]
  },
  {
   "cell_type": "markdown",
   "metadata": {},
   "source": [
    "**Описание проектной работы**\n",
    "\n",
    "Интернет-магазин `«Викишоп»` запускает новый сервис. Теперь пользователи могут редактировать и дополнять описания товаров, как в вики-сообществах. То есть клиенты предлагают свои правки и комментируют изменения других. Магазину нужен инструмент, который будет искать токсичные комментарии и отправлять их на модерацию. \n",
    "\n",
    "В качестве исходных данных передан набор данных с разметкой о токсичности правок. Данные находятся в файле `toxic_comments.csv`. Столбец **text** в нём содержит текст комментария, а **toxic** — целевой признак.\n",
    "\n",
    "**Цель проекта**\n",
    "\n",
    "Требуется обучить модель классифицировать комментарии на позитивные и негативные. Для оценки качества модели необходимо применить метрику качества `F1`. Значение `F1` должно быть не менее `0.75`.\n",
    "\n",
    "**Ход  выполнения проекта**\n",
    "\n",
    "1. Загрузка и подготовка данных.\n",
    "2. Обучение моделей.\n",
    "3. Анализ моделей.\n",
    "4. Тестирование наилучшей модели.\n",
    "3. Выводы."
   ]
  },
  {
   "cell_type": "markdown",
   "metadata": {
    "toc": true
   },
   "source": [
    "<h1>Содержание<span class=\"tocSkip\"></span></h1>\n",
    "<div class=\"toc\"><ul class=\"toc-item\"><li><span><a href=\"#Изучение-общей-информации\" data-toc-modified-id=\"Изучение-общей-информации-1\"><span class=\"toc-item-num\">1&nbsp;&nbsp;</span>Изучение общей информации</a></span></li><li><span><a href=\"#Обучение\" data-toc-modified-id=\"Обучение-2\"><span class=\"toc-item-num\">2&nbsp;&nbsp;</span>Обучение</a></span><ul class=\"toc-item\"><li><span><a href=\"#Обучение-с-помощью-логистической-регрессии\" data-toc-modified-id=\"Обучение-с-помощью-логистической-регрессии-2.1\"><span class=\"toc-item-num\">2.1&nbsp;&nbsp;</span>Обучение с помощью логистической регрессии</a></span></li><li><span><a href=\"#Обучение-модели-с-помощью-дерева-решений\" data-toc-modified-id=\"Обучение-модели-с-помощью-дерева-решений-2.2\"><span class=\"toc-item-num\">2.2&nbsp;&nbsp;</span>Обучение модели с помощью дерева решений</a></span></li><li><span><a href=\"#Обучение-модели-с-помощью-случайного-леса\" data-toc-modified-id=\"Обучение-модели-с-помощью-случайного-леса-2.3\"><span class=\"toc-item-num\">2.3&nbsp;&nbsp;</span>Обучение модели с помощью случайного леса</a></span></li><li><span><a href=\"#Обучение-с-помощью-SGDClassifier\" data-toc-modified-id=\"Обучение-с-помощью-SGDClassifier-2.4\"><span class=\"toc-item-num\">2.4&nbsp;&nbsp;</span>Обучение с помощью SGDClassifier</a></span></li></ul></li><li><span><a href=\"#Анализ-моделей\" data-toc-modified-id=\"Анализ-моделей-3\"><span class=\"toc-item-num\">3&nbsp;&nbsp;</span>Анализ моделей</a></span></li><li><span><a href=\"#Тестирование-наилучшей-модели\" data-toc-modified-id=\"Тестирование-наилучшей-модели-4\"><span class=\"toc-item-num\">4&nbsp;&nbsp;</span>Тестирование наилучшей модели</a></span></li><li><span><a href=\"#Выводы\" data-toc-modified-id=\"Выводы-5\"><span class=\"toc-item-num\">5&nbsp;&nbsp;</span>Выводы</a></span></li></ul></div>"
   ]
  },
  {
   "cell_type": "markdown",
   "metadata": {},
   "source": [
    "## Изучение общей информации"
   ]
  },
  {
   "cell_type": "markdown",
   "metadata": {},
   "source": [
    "[Назад к содержанию](#Содержание)"
   ]
  },
  {
   "cell_type": "markdown",
   "metadata": {},
   "source": [
    "Импортируем необходимые бибилотеки и выполним настройки."
   ]
  },
  {
   "cell_type": "code",
   "execution_count": 1,
   "metadata": {},
   "outputs": [],
   "source": [
    "# импорт библиотек\n",
    "\n",
    "import pandas as pd\n",
    "import matplotlib.pyplot as plt\n",
    "import numpy as np\n",
    "import re\n",
    "import spacy\n",
    "from tqdm.notebook import tqdm\n",
    "tqdm.pandas()\n",
    "\n",
    "import nltk\n",
    "from nltk.corpus import stopwords\n",
    "from nltk.corpus import stopwords as nltk_stopwords\n",
    "\n",
    "from sklearn.model_selection import train_test_split, GridSearchCV\n",
    "from sklearn.metrics import f1_score, recall_score, roc_curve, roc_auc_score\n",
    "from sklearn.pipeline import Pipeline\n",
    "from sklearn.feature_extraction.text import TfidfVectorizer\n",
    "\n",
    "from sklearn.ensemble import RandomForestClassifier\n",
    "from sklearn.linear_model import SGDClassifier\n",
    "from sklearn.linear_model import LogisticRegression\n",
    "from sklearn.tree import DecisionTreeClassifier\n"
   ]
  },
  {
   "cell_type": "code",
   "execution_count": 2,
   "metadata": {},
   "outputs": [
    {
     "name": "stderr",
     "output_type": "stream",
     "text": [
      "[nltk_data] Downloading package stopwords to /home/jovyan/nltk_data...\n",
      "[nltk_data]   Package stopwords is already up-to-date!\n"
     ]
    }
   ],
   "source": [
    "# настройки\n",
    "\n",
    "# включим возможность отображения всех столбцов в датафреймах:\n",
    "pd.set_option('display.max_columns', None)\n",
    "\n",
    "# зададим random_state:\n",
    "RANDOM_STATE = 42\n",
    "\n",
    "# определение набора стоп-слов:\n",
    "nltk.download('stopwords')\n",
    "stoplist = set(nltk_stopwords.words('english'))\n"
   ]
  },
  {
   "cell_type": "code",
   "execution_count": 3,
   "metadata": {},
   "outputs": [
    {
     "name": "stdout",
     "output_type": "stream",
     "text": [
      "Датафрейм сформирован\n"
     ]
    }
   ],
   "source": [
    "# чтение исходного датасета:\n",
    "df = pd.read_csv('/datasets/toxic_comments.csv')\n",
    "print('Датафрейм сформирован')"
   ]
  },
  {
   "cell_type": "code",
   "execution_count": 4,
   "metadata": {},
   "outputs": [
    {
     "data": {
      "text/html": [
       "<div>\n",
       "<style scoped>\n",
       "    .dataframe tbody tr th:only-of-type {\n",
       "        vertical-align: middle;\n",
       "    }\n",
       "\n",
       "    .dataframe tbody tr th {\n",
       "        vertical-align: top;\n",
       "    }\n",
       "\n",
       "    .dataframe thead th {\n",
       "        text-align: right;\n",
       "    }\n",
       "</style>\n",
       "<table border=\"1\" class=\"dataframe\">\n",
       "  <thead>\n",
       "    <tr style=\"text-align: right;\">\n",
       "      <th></th>\n",
       "      <th>Unnamed: 0</th>\n",
       "      <th>text</th>\n",
       "      <th>toxic</th>\n",
       "    </tr>\n",
       "  </thead>\n",
       "  <tbody>\n",
       "    <tr>\n",
       "      <th>0</th>\n",
       "      <td>0</td>\n",
       "      <td>Explanation\\nWhy the edits made under my usern...</td>\n",
       "      <td>0</td>\n",
       "    </tr>\n",
       "    <tr>\n",
       "      <th>1</th>\n",
       "      <td>1</td>\n",
       "      <td>D'aww! He matches this background colour I'm s...</td>\n",
       "      <td>0</td>\n",
       "    </tr>\n",
       "    <tr>\n",
       "      <th>2</th>\n",
       "      <td>2</td>\n",
       "      <td>Hey man, I'm really not trying to edit war. It...</td>\n",
       "      <td>0</td>\n",
       "    </tr>\n",
       "    <tr>\n",
       "      <th>3</th>\n",
       "      <td>3</td>\n",
       "      <td>\"\\nMore\\nI can't make any real suggestions on ...</td>\n",
       "      <td>0</td>\n",
       "    </tr>\n",
       "    <tr>\n",
       "      <th>4</th>\n",
       "      <td>4</td>\n",
       "      <td>You, sir, are my hero. Any chance you remember...</td>\n",
       "      <td>0</td>\n",
       "    </tr>\n",
       "  </tbody>\n",
       "</table>\n",
       "</div>"
      ],
      "text/plain": [
       "   Unnamed: 0                                               text  toxic\n",
       "0           0  Explanation\\nWhy the edits made under my usern...      0\n",
       "1           1  D'aww! He matches this background colour I'm s...      0\n",
       "2           2  Hey man, I'm really not trying to edit war. It...      0\n",
       "3           3  \"\\nMore\\nI can't make any real suggestions on ...      0\n",
       "4           4  You, sir, are my hero. Any chance you remember...      0"
      ]
     },
     "execution_count": 4,
     "metadata": {},
     "output_type": "execute_result"
    }
   ],
   "source": [
    "# вывод первых строк датафрейма:\n",
    "\n",
    "df.head()"
   ]
  },
  {
   "cell_type": "code",
   "execution_count": 5,
   "metadata": {},
   "outputs": [
    {
     "data": {
      "text/html": [
       "<div>\n",
       "<style scoped>\n",
       "    .dataframe tbody tr th:only-of-type {\n",
       "        vertical-align: middle;\n",
       "    }\n",
       "\n",
       "    .dataframe tbody tr th {\n",
       "        vertical-align: top;\n",
       "    }\n",
       "\n",
       "    .dataframe thead th {\n",
       "        text-align: right;\n",
       "    }\n",
       "</style>\n",
       "<table border=\"1\" class=\"dataframe\">\n",
       "  <thead>\n",
       "    <tr style=\"text-align: right;\">\n",
       "      <th></th>\n",
       "      <th>Unnamed: 0</th>\n",
       "      <th>text</th>\n",
       "      <th>toxic</th>\n",
       "    </tr>\n",
       "  </thead>\n",
       "  <tbody>\n",
       "    <tr>\n",
       "      <th>159287</th>\n",
       "      <td>159446</td>\n",
       "      <td>\":::::And for the second time of asking, when ...</td>\n",
       "      <td>0</td>\n",
       "    </tr>\n",
       "    <tr>\n",
       "      <th>159288</th>\n",
       "      <td>159447</td>\n",
       "      <td>You should be ashamed of yourself \\n\\nThat is ...</td>\n",
       "      <td>0</td>\n",
       "    </tr>\n",
       "    <tr>\n",
       "      <th>159289</th>\n",
       "      <td>159448</td>\n",
       "      <td>Spitzer \\n\\nUmm, theres no actual article for ...</td>\n",
       "      <td>0</td>\n",
       "    </tr>\n",
       "    <tr>\n",
       "      <th>159290</th>\n",
       "      <td>159449</td>\n",
       "      <td>And it looks like it was actually you who put ...</td>\n",
       "      <td>0</td>\n",
       "    </tr>\n",
       "    <tr>\n",
       "      <th>159291</th>\n",
       "      <td>159450</td>\n",
       "      <td>\"\\nAnd ... I really don't think you understand...</td>\n",
       "      <td>0</td>\n",
       "    </tr>\n",
       "  </tbody>\n",
       "</table>\n",
       "</div>"
      ],
      "text/plain": [
       "        Unnamed: 0                                               text  toxic\n",
       "159287      159446  \":::::And for the second time of asking, when ...      0\n",
       "159288      159447  You should be ashamed of yourself \\n\\nThat is ...      0\n",
       "159289      159448  Spitzer \\n\\nUmm, theres no actual article for ...      0\n",
       "159290      159449  And it looks like it was actually you who put ...      0\n",
       "159291      159450  \"\\nAnd ... I really don't think you understand...      0"
      ]
     },
     "execution_count": 5,
     "metadata": {},
     "output_type": "execute_result"
    }
   ],
   "source": [
    "# вывод последних строк датафрейма:\n",
    "\n",
    "df.tail()"
   ]
  },
  {
   "cell_type": "code",
   "execution_count": 6,
   "metadata": {},
   "outputs": [
    {
     "name": "stdout",
     "output_type": "stream",
     "text": [
      "<class 'pandas.core.frame.DataFrame'>\n",
      "RangeIndex: 159292 entries, 0 to 159291\n",
      "Data columns (total 3 columns):\n",
      " #   Column      Non-Null Count   Dtype \n",
      "---  ------      --------------   ----- \n",
      " 0   Unnamed: 0  159292 non-null  int64 \n",
      " 1   text        159292 non-null  object\n",
      " 2   toxic       159292 non-null  int64 \n",
      "dtypes: int64(2), object(1)\n",
      "memory usage: 3.6+ MB\n"
     ]
    }
   ],
   "source": [
    "# вывод общей информации о датафрейме:\n",
    "\n",
    "df.info()"
   ]
  },
  {
   "cell_type": "markdown",
   "metadata": {},
   "source": [
    "Для нашей задачи признак Unnamed: 0 не потребуется, поэтому удалим его."
   ]
  },
  {
   "cell_type": "code",
   "execution_count": 7,
   "metadata": {},
   "outputs": [],
   "source": [
    "df.drop('Unnamed: 0', axis=1, inplace= True)"
   ]
  },
  {
   "cell_type": "code",
   "execution_count": 8,
   "metadata": {},
   "outputs": [
    {
     "data": {
      "text/plain": [
       "text     0\n",
       "toxic    0\n",
       "dtype: int64"
      ]
     },
     "execution_count": 8,
     "metadata": {},
     "output_type": "execute_result"
    }
   ],
   "source": [
    "# поиск пропусков:\n",
    "\n",
    "df.isna().sum()"
   ]
  },
  {
   "cell_type": "code",
   "execution_count": 9,
   "metadata": {},
   "outputs": [
    {
     "data": {
      "text/plain": [
       "0"
      ]
     },
     "execution_count": 9,
     "metadata": {},
     "output_type": "execute_result"
    }
   ],
   "source": [
    "# поиск дубликатов:\n",
    "\n",
    "df.duplicated().sum()"
   ]
  },
  {
   "cell_type": "code",
   "execution_count": 10,
   "metadata": {},
   "outputs": [
    {
     "data": {
      "image/png": "[encoded data removed]",
      "text/plain": [
       "<Figure size 432x288 with 1 Axes>"
      ]
     },
     "metadata": {
      "needs_background": "light"
     },
     "output_type": "display_data"
    }
   ],
   "source": [
    "# подсчет классов в целевом признаке:\n",
    "class_frequency = df['toxic'].value_counts(normalize=True)\n",
    "\n",
    "# построение графика:\n",
    "plt.figure()\n",
    "\n",
    "class_frequency.plot(kind='bar');\n",
    "\n",
    "# наименование графика:\n",
    "plt.title('Частота классов в целевом признаке:')\n",
    "\n",
    "plt.show()"
   ]
  },
  {
   "cell_type": "code",
   "execution_count": 11,
   "metadata": {},
   "outputs": [
    {
     "name": "stdout",
     "output_type": "stream",
     "text": [
      "Частота классов в целевом признаке:\n",
      "0    0.898388\n",
      "1    0.101612\n",
      "Name: toxic, dtype: float64\n"
     ]
    }
   ],
   "source": [
    "# вывод частоты классов в целевом признаке:\n",
    "\n",
    "print('Частота классов в целевом признаке:')\n",
    "print(class_frequency)"
   ]
  },
  {
   "cell_type": "markdown",
   "metadata": {},
   "source": [
    "Наблюдаем дисбаланс классов в целевом признаке. "
   ]
  },
  {
   "cell_type": "markdown",
   "metadata": {},
   "source": [
    "Очистим текст - оставим английские слова и пробелы. И приведем все слова к нижнему регистру."
   ]
  },
  {
   "cell_type": "code",
   "execution_count": 12,
   "metadata": {},
   "outputs": [],
   "source": [
    "# функция по чистке текста:\n",
    "\n",
    "def clear_text(text):\n",
    "    clear_text = \" \".join(re.sub(r'[^a-zA-Z ]', ' ', text.lower()).split())\n",
    "            \n",
    "    return clear_text"
   ]
  },
  {
   "cell_type": "code",
   "execution_count": 13,
   "metadata": {},
   "outputs": [],
   "source": [
    "# создание нового столбца с очищенным текстом:\n",
    "\n",
    "df['clear_text'] = df['text'].apply(clear_text)"
   ]
  },
  {
   "cell_type": "code",
   "execution_count": 14,
   "metadata": {},
   "outputs": [
    {
     "data": {
      "text/html": [
       "<div>\n",
       "<style scoped>\n",
       "    .dataframe tbody tr th:only-of-type {\n",
       "        vertical-align: middle;\n",
       "    }\n",
       "\n",
       "    .dataframe tbody tr th {\n",
       "        vertical-align: top;\n",
       "    }\n",
       "\n",
       "    .dataframe thead th {\n",
       "        text-align: right;\n",
       "    }\n",
       "</style>\n",
       "<table border=\"1\" class=\"dataframe\">\n",
       "  <thead>\n",
       "    <tr style=\"text-align: right;\">\n",
       "      <th></th>\n",
       "      <th>text</th>\n",
       "      <th>toxic</th>\n",
       "      <th>clear_text</th>\n",
       "    </tr>\n",
       "  </thead>\n",
       "  <tbody>\n",
       "    <tr>\n",
       "      <th>0</th>\n",
       "      <td>Explanation\\nWhy the edits made under my usern...</td>\n",
       "      <td>0</td>\n",
       "      <td>explanation why the edits made under my userna...</td>\n",
       "    </tr>\n",
       "    <tr>\n",
       "      <th>1</th>\n",
       "      <td>D'aww! He matches this background colour I'm s...</td>\n",
       "      <td>0</td>\n",
       "      <td>d aww he matches this background colour i m se...</td>\n",
       "    </tr>\n",
       "    <tr>\n",
       "      <th>2</th>\n",
       "      <td>Hey man, I'm really not trying to edit war. It...</td>\n",
       "      <td>0</td>\n",
       "      <td>hey man i m really not trying to edit war it s...</td>\n",
       "    </tr>\n",
       "    <tr>\n",
       "      <th>3</th>\n",
       "      <td>\"\\nMore\\nI can't make any real suggestions on ...</td>\n",
       "      <td>0</td>\n",
       "      <td>more i can t make any real suggestions on impr...</td>\n",
       "    </tr>\n",
       "    <tr>\n",
       "      <th>4</th>\n",
       "      <td>You, sir, are my hero. Any chance you remember...</td>\n",
       "      <td>0</td>\n",
       "      <td>you sir are my hero any chance you remember wh...</td>\n",
       "    </tr>\n",
       "  </tbody>\n",
       "</table>\n",
       "</div>"
      ],
      "text/plain": [
       "                                                text  toxic  \\\n",
       "0  Explanation\\nWhy the edits made under my usern...      0   \n",
       "1  D'aww! He matches this background colour I'm s...      0   \n",
       "2  Hey man, I'm really not trying to edit war. It...      0   \n",
       "3  \"\\nMore\\nI can't make any real suggestions on ...      0   \n",
       "4  You, sir, are my hero. Any chance you remember...      0   \n",
       "\n",
       "                                          clear_text  \n",
       "0  explanation why the edits made under my userna...  \n",
       "1  d aww he matches this background colour i m se...  \n",
       "2  hey man i m really not trying to edit war it s...  \n",
       "3  more i can t make any real suggestions on impr...  \n",
       "4  you sir are my hero any chance you remember wh...  "
      ]
     },
     "execution_count": 14,
     "metadata": {},
     "output_type": "execute_result"
    }
   ],
   "source": [
    "# проверка:\n",
    "\n",
    "df.head()"
   ]
  },
  {
   "cell_type": "markdown",
   "metadata": {},
   "source": [
    "Создадим функции по лемматизации очищенного текста. Лемматизацию выполним с помощью библиотеки `spaCy`. Помимо лемматизации текста `spaCy` решает много других задач. Для ускорения процесса лемматизации отключим не используемые параметры `spaCy`."
   ]
  },
  {
   "cell_type": "code",
   "execution_count": 15,
   "metadata": {},
   "outputs": [],
   "source": [
    "# список не используемых параметров spaCy:\n",
    "disabled_params = ['parser', 'ner']\n",
    "\n",
    "# объект типа spaCy:\n",
    "nlp = spacy.load(\"en_core_web_sm\", disable=disabled_params)"
   ]
  },
  {
   "cell_type": "code",
   "execution_count": 16,
   "metadata": {},
   "outputs": [],
   "source": [
    "# подготовка текста к лемматизации:\n",
    "\n",
    "lemm_text = lambda text: \" \".join([token.lemma_ for token in nlp(text)])"
   ]
  },
  {
   "cell_type": "code",
   "execution_count": 17,
   "metadata": {},
   "outputs": [
    {
     "data": {
      "application/vnd.jupyter.widget-view+json": {
       "model_id": "9b6420489ac440b69763186410321d1e",
       "version_major": 2,
       "version_minor": 0
      },
      "text/plain": [
       "  0%|          | 0/159292 [00:00<?, ?it/s]"
      ]
     },
     "metadata": {},
     "output_type": "display_data"
    }
   ],
   "source": [
    "# создание нового столбца с лемматизированным текстом:\n",
    "\n",
    "df['lemmas_clear'] = df['clear_text'].progress_apply(lemm_text)"
   ]
  },
  {
   "cell_type": "code",
   "execution_count": 18,
   "metadata": {},
   "outputs": [
    {
     "data": {
      "text/html": [
       "<div>\n",
       "<style scoped>\n",
       "    .dataframe tbody tr th:only-of-type {\n",
       "        vertical-align: middle;\n",
       "    }\n",
       "\n",
       "    .dataframe tbody tr th {\n",
       "        vertical-align: top;\n",
       "    }\n",
       "\n",
       "    .dataframe thead th {\n",
       "        text-align: right;\n",
       "    }\n",
       "</style>\n",
       "<table border=\"1\" class=\"dataframe\">\n",
       "  <thead>\n",
       "    <tr style=\"text-align: right;\">\n",
       "      <th></th>\n",
       "      <th>text</th>\n",
       "      <th>toxic</th>\n",
       "      <th>clear_text</th>\n",
       "      <th>lemmas_clear</th>\n",
       "    </tr>\n",
       "  </thead>\n",
       "  <tbody>\n",
       "    <tr>\n",
       "      <th>0</th>\n",
       "      <td>Explanation\\nWhy the edits made under my usern...</td>\n",
       "      <td>0</td>\n",
       "      <td>explanation why the edits made under my userna...</td>\n",
       "      <td>explanation why the edit make under my usernam...</td>\n",
       "    </tr>\n",
       "    <tr>\n",
       "      <th>1</th>\n",
       "      <td>D'aww! He matches this background colour I'm s...</td>\n",
       "      <td>0</td>\n",
       "      <td>d aww he matches this background colour i m se...</td>\n",
       "      <td>d aww he match this background colour I m seem...</td>\n",
       "    </tr>\n",
       "    <tr>\n",
       "      <th>2</th>\n",
       "      <td>Hey man, I'm really not trying to edit war. It...</td>\n",
       "      <td>0</td>\n",
       "      <td>hey man i m really not trying to edit war it s...</td>\n",
       "      <td>hey man I m really not try to edit war it s ju...</td>\n",
       "    </tr>\n",
       "    <tr>\n",
       "      <th>3</th>\n",
       "      <td>\"\\nMore\\nI can't make any real suggestions on ...</td>\n",
       "      <td>0</td>\n",
       "      <td>more i can t make any real suggestions on impr...</td>\n",
       "      <td>more I can t make any real suggestion on impro...</td>\n",
       "    </tr>\n",
       "    <tr>\n",
       "      <th>4</th>\n",
       "      <td>You, sir, are my hero. Any chance you remember...</td>\n",
       "      <td>0</td>\n",
       "      <td>you sir are my hero any chance you remember wh...</td>\n",
       "      <td>you sir be my hero any chance you remember wha...</td>\n",
       "    </tr>\n",
       "  </tbody>\n",
       "</table>\n",
       "</div>"
      ],
      "text/plain": [
       "                                                text  toxic  \\\n",
       "0  Explanation\\nWhy the edits made under my usern...      0   \n",
       "1  D'aww! He matches this background colour I'm s...      0   \n",
       "2  Hey man, I'm really not trying to edit war. It...      0   \n",
       "3  \"\\nMore\\nI can't make any real suggestions on ...      0   \n",
       "4  You, sir, are my hero. Any chance you remember...      0   \n",
       "\n",
       "                                          clear_text  \\\n",
       "0  explanation why the edits made under my userna...   \n",
       "1  d aww he matches this background colour i m se...   \n",
       "2  hey man i m really not trying to edit war it s...   \n",
       "3  more i can t make any real suggestions on impr...   \n",
       "4  you sir are my hero any chance you remember wh...   \n",
       "\n",
       "                                        lemmas_clear  \n",
       "0  explanation why the edit make under my usernam...  \n",
       "1  d aww he match this background colour I m seem...  \n",
       "2  hey man I m really not try to edit war it s ju...  \n",
       "3  more I can t make any real suggestion on impro...  \n",
       "4  you sir be my hero any chance you remember wha...  "
      ]
     },
     "execution_count": 18,
     "metadata": {},
     "output_type": "execute_result"
    }
   ],
   "source": [
    "# проверка:\n",
    "\n",
    "df.head()"
   ]
  },
  {
   "cell_type": "code",
   "execution_count": 19,
   "metadata": {},
   "outputs": [],
   "source": [
    "# импорт датафрейма в csv:\n",
    "\n",
    "df.to_csv('df_lemmas.csv', index=False)"
   ]
  },
  {
   "cell_type": "code",
   "execution_count": 20,
   "metadata": {},
   "outputs": [],
   "source": [
    "# загрузка датафрейма с подготовленным текстом:\n",
    "\n",
    "df_lemmas = pd.read_csv('df_lemmas.csv')"
   ]
  },
  {
   "cell_type": "code",
   "execution_count": 21,
   "metadata": {},
   "outputs": [
    {
     "data": {
      "text/html": [
       "<div>\n",
       "<style scoped>\n",
       "    .dataframe tbody tr th:only-of-type {\n",
       "        vertical-align: middle;\n",
       "    }\n",
       "\n",
       "    .dataframe tbody tr th {\n",
       "        vertical-align: top;\n",
       "    }\n",
       "\n",
       "    .dataframe thead th {\n",
       "        text-align: right;\n",
       "    }\n",
       "</style>\n",
       "<table border=\"1\" class=\"dataframe\">\n",
       "  <thead>\n",
       "    <tr style=\"text-align: right;\">\n",
       "      <th></th>\n",
       "      <th>text</th>\n",
       "      <th>toxic</th>\n",
       "      <th>clear_text</th>\n",
       "      <th>lemmas_clear</th>\n",
       "    </tr>\n",
       "  </thead>\n",
       "  <tbody>\n",
       "    <tr>\n",
       "      <th>0</th>\n",
       "      <td>Explanation\\nWhy the edits made under my usern...</td>\n",
       "      <td>0</td>\n",
       "      <td>explanation why the edits made under my userna...</td>\n",
       "      <td>explanation why the edit make under my usernam...</td>\n",
       "    </tr>\n",
       "    <tr>\n",
       "      <th>1</th>\n",
       "      <td>D'aww! He matches this background colour I'm s...</td>\n",
       "      <td>0</td>\n",
       "      <td>d aww he matches this background colour i m se...</td>\n",
       "      <td>d aww he match this background colour I m seem...</td>\n",
       "    </tr>\n",
       "    <tr>\n",
       "      <th>2</th>\n",
       "      <td>Hey man, I'm really not trying to edit war. It...</td>\n",
       "      <td>0</td>\n",
       "      <td>hey man i m really not trying to edit war it s...</td>\n",
       "      <td>hey man I m really not try to edit war it s ju...</td>\n",
       "    </tr>\n",
       "    <tr>\n",
       "      <th>3</th>\n",
       "      <td>\"\\nMore\\nI can't make any real suggestions on ...</td>\n",
       "      <td>0</td>\n",
       "      <td>more i can t make any real suggestions on impr...</td>\n",
       "      <td>more I can t make any real suggestion on impro...</td>\n",
       "    </tr>\n",
       "    <tr>\n",
       "      <th>4</th>\n",
       "      <td>You, sir, are my hero. Any chance you remember...</td>\n",
       "      <td>0</td>\n",
       "      <td>you sir are my hero any chance you remember wh...</td>\n",
       "      <td>you sir be my hero any chance you remember wha...</td>\n",
       "    </tr>\n",
       "  </tbody>\n",
       "</table>\n",
       "</div>"
      ],
      "text/plain": [
       "                                                text  toxic  \\\n",
       "0  Explanation\\nWhy the edits made under my usern...      0   \n",
       "1  D'aww! He matches this background colour I'm s...      0   \n",
       "2  Hey man, I'm really not trying to edit war. It...      0   \n",
       "3  \"\\nMore\\nI can't make any real suggestions on ...      0   \n",
       "4  You, sir, are my hero. Any chance you remember...      0   \n",
       "\n",
       "                                          clear_text  \\\n",
       "0  explanation why the edits made under my userna...   \n",
       "1  d aww he matches this background colour i m se...   \n",
       "2  hey man i m really not trying to edit war it s...   \n",
       "3  more i can t make any real suggestions on impr...   \n",
       "4  you sir are my hero any chance you remember wh...   \n",
       "\n",
       "                                        lemmas_clear  \n",
       "0  explanation why the edit make under my usernam...  \n",
       "1  d aww he match this background colour I m seem...  \n",
       "2  hey man I m really not try to edit war it s ju...  \n",
       "3  more I can t make any real suggestion on impro...  \n",
       "4  you sir be my hero any chance you remember wha...  "
      ]
     },
     "execution_count": 21,
     "metadata": {},
     "output_type": "execute_result"
    }
   ],
   "source": [
    "# проверка:\n",
    "\n",
    "df_lemmas.head()"
   ]
  },
  {
   "cell_type": "code",
   "execution_count": 22,
   "metadata": {},
   "outputs": [
    {
     "data": {
      "text/plain": [
       "11"
      ]
     },
     "execution_count": 22,
     "metadata": {},
     "output_type": "execute_result"
    }
   ],
   "source": [
    "# проверка на пропуски:\n",
    "\n",
    "df_lemmas.lemmas_clear.isna().sum()"
   ]
  },
  {
   "cell_type": "code",
   "execution_count": 23,
   "metadata": {},
   "outputs": [
    {
     "data": {
      "text/html": [
       "<div>\n",
       "<style scoped>\n",
       "    .dataframe tbody tr th:only-of-type {\n",
       "        vertical-align: middle;\n",
       "    }\n",
       "\n",
       "    .dataframe tbody tr th {\n",
       "        vertical-align: top;\n",
       "    }\n",
       "\n",
       "    .dataframe thead th {\n",
       "        text-align: right;\n",
       "    }\n",
       "</style>\n",
       "<table border=\"1\" class=\"dataframe\">\n",
       "  <thead>\n",
       "    <tr style=\"text-align: right;\">\n",
       "      <th></th>\n",
       "      <th>text</th>\n",
       "      <th>toxic</th>\n",
       "      <th>clear_text</th>\n",
       "      <th>lemmas_clear</th>\n",
       "    </tr>\n",
       "  </thead>\n",
       "  <tbody>\n",
       "    <tr>\n",
       "      <th>4475</th>\n",
       "      <td>1993\\n\\n1994\\n\\n1995\\n\\n1996\\n\\n1997\\n\\n1998\\n...</td>\n",
       "      <td>0</td>\n",
       "      <td>NaN</td>\n",
       "      <td>NaN</td>\n",
       "    </tr>\n",
       "    <tr>\n",
       "      <th>6289</th>\n",
       "      <td>193.61.111.53  15:00</td>\n",
       "      <td>0</td>\n",
       "      <td>NaN</td>\n",
       "      <td>NaN</td>\n",
       "    </tr>\n",
       "    <tr>\n",
       "      <th>10193</th>\n",
       "      <td>64.86.141.133\"</td>\n",
       "      <td>0</td>\n",
       "      <td>NaN</td>\n",
       "      <td>NaN</td>\n",
       "    </tr>\n",
       "    <tr>\n",
       "      <th>17280</th>\n",
       "      <td>~ \\n\\n68.193.147.157</td>\n",
       "      <td>0</td>\n",
       "      <td>NaN</td>\n",
       "      <td>NaN</td>\n",
       "    </tr>\n",
       "    <tr>\n",
       "      <th>38743</th>\n",
       "      <td>88.104.31.21\"</td>\n",
       "      <td>0</td>\n",
       "      <td>NaN</td>\n",
       "      <td>NaN</td>\n",
       "    </tr>\n",
       "    <tr>\n",
       "      <th>52336</th>\n",
       "      <td>14:53,</td>\n",
       "      <td>0</td>\n",
       "      <td>NaN</td>\n",
       "      <td>NaN</td>\n",
       "    </tr>\n",
       "    <tr>\n",
       "      <th>53679</th>\n",
       "      <td>92.24.199.233|92.24.199.233]]</td>\n",
       "      <td>0</td>\n",
       "      <td>NaN</td>\n",
       "      <td>NaN</td>\n",
       "    </tr>\n",
       "    <tr>\n",
       "      <th>61644</th>\n",
       "      <td>\"\\n\\n 199.209.144.211  \"</td>\n",
       "      <td>0</td>\n",
       "      <td>NaN</td>\n",
       "      <td>NaN</td>\n",
       "    </tr>\n",
       "    <tr>\n",
       "      <th>82541</th>\n",
       "      <td>\"\\n '''''' 2010/2013 \"</td>\n",
       "      <td>0</td>\n",
       "      <td>NaN</td>\n",
       "      <td>NaN</td>\n",
       "    </tr>\n",
       "    <tr>\n",
       "      <th>119018</th>\n",
       "      <td>\"\"\"</td>\n",
       "      <td>1</td>\n",
       "      <td>NaN</td>\n",
       "      <td>NaN</td>\n",
       "    </tr>\n",
       "    <tr>\n",
       "      <th>137400</th>\n",
       "      <td>== \"\"\"</td>\n",
       "      <td>0</td>\n",
       "      <td>NaN</td>\n",
       "      <td>NaN</td>\n",
       "    </tr>\n",
       "  </tbody>\n",
       "</table>\n",
       "</div>"
      ],
      "text/plain": [
       "                                                     text  toxic clear_text  \\\n",
       "4475    1993\\n\\n1994\\n\\n1995\\n\\n1996\\n\\n1997\\n\\n1998\\n...      0        NaN   \n",
       "6289                                 193.61.111.53  15:00      0        NaN   \n",
       "10193                                      64.86.141.133\"      0        NaN   \n",
       "17280                                ~ \\n\\n68.193.147.157      0        NaN   \n",
       "38743                                       88.104.31.21\"      0        NaN   \n",
       "52336                                              14:53,      0        NaN   \n",
       "53679                       92.24.199.233|92.24.199.233]]      0        NaN   \n",
       "61644                            \"\\n\\n 199.209.144.211  \"      0        NaN   \n",
       "82541                              \"\\n '''''' 2010/2013 \"      0        NaN   \n",
       "119018                                                \"\"\"      1        NaN   \n",
       "137400                                             == \"\"\"      0        NaN   \n",
       "\n",
       "       lemmas_clear  \n",
       "4475            NaN  \n",
       "6289            NaN  \n",
       "10193           NaN  \n",
       "17280           NaN  \n",
       "38743           NaN  \n",
       "52336           NaN  \n",
       "53679           NaN  \n",
       "61644           NaN  \n",
       "82541           NaN  \n",
       "119018          NaN  \n",
       "137400          NaN  "
      ]
     },
     "execution_count": 23,
     "metadata": {},
     "output_type": "execute_result"
    }
   ],
   "source": [
    "# вывод строк с пропусками:\n",
    "\n",
    "df_lemmas.query('lemmas_clear.isna()')"
   ]
  },
  {
   "cell_type": "code",
   "execution_count": 24,
   "metadata": {},
   "outputs": [],
   "source": [
    "# удаление пропусков:\n",
    "\n",
    "df_lemmas.dropna(subset=['lemmas_clear'], inplace=True)"
   ]
  },
  {
   "cell_type": "code",
   "execution_count": 25,
   "metadata": {},
   "outputs": [
    {
     "data": {
      "text/plain": [
       "0"
      ]
     },
     "execution_count": 25,
     "metadata": {},
     "output_type": "execute_result"
    }
   ],
   "source": [
    "# проверка на пропуски:\n",
    "\n",
    "df_lemmas.lemmas_clear.isna().sum()"
   ]
  },
  {
   "cell_type": "code",
   "execution_count": 26,
   "metadata": {},
   "outputs": [
    {
     "data": {
      "text/plain": [
       "0"
      ]
     },
     "execution_count": 26,
     "metadata": {},
     "output_type": "execute_result"
    }
   ],
   "source": [
    "# поиск дубликатов:\n",
    "\n",
    "df_lemmas.duplicated().sum()"
   ]
  },
  {
   "cell_type": "markdown",
   "metadata": {},
   "source": [
    "Датафрейм `df_lemmas` подготовлен для обучения моделей: \n",
    "\n",
    "   - в качестве признаков будем использовать столбец `lemmas_clear`;\n",
    "   - в качестве целевого признака - столбец `toxic`."
   ]
  },
  {
   "cell_type": "markdown",
   "metadata": {},
   "source": [
    "## Обучение"
   ]
  },
  {
   "cell_type": "markdown",
   "metadata": {},
   "source": [
    "[Назад к содержанию](#Содержание)"
   ]
  },
  {
   "cell_type": "markdown",
   "metadata": {},
   "source": [
    "Перед нами стоит задача бинарной классификации. Обучим различные модели и выберем среди них модель с наилучшей метрикой `F1`.\n",
    "\n",
    "Ещё введём дополнительную метрику `recall`, т.к. важно минимизировать количество ложно-отрицательных предсказаний `FN`. \n",
    "\n",
    "Для решения задачи подходят следующие модели:\n",
    "\n",
    "   - логистическая регрессия;\n",
    "   - дерево решений;\n",
    "   - случайные лес;\n",
    "   - SGDClassifier"
   ]
  },
  {
   "cell_type": "code",
   "execution_count": 27,
   "metadata": {},
   "outputs": [
    {
     "data": {
      "text/html": [
       "<div>\n",
       "<style scoped>\n",
       "    .dataframe tbody tr th:only-of-type {\n",
       "        vertical-align: middle;\n",
       "    }\n",
       "\n",
       "    .dataframe tbody tr th {\n",
       "        vertical-align: top;\n",
       "    }\n",
       "\n",
       "    .dataframe thead th {\n",
       "        text-align: right;\n",
       "    }\n",
       "</style>\n",
       "<table border=\"1\" class=\"dataframe\">\n",
       "  <thead>\n",
       "    <tr style=\"text-align: right;\">\n",
       "      <th></th>\n",
       "      <th>text</th>\n",
       "      <th>toxic</th>\n",
       "      <th>clear_text</th>\n",
       "      <th>lemmas_clear</th>\n",
       "    </tr>\n",
       "  </thead>\n",
       "  <tbody>\n",
       "    <tr>\n",
       "      <th>0</th>\n",
       "      <td>Explanation\\nWhy the edits made under my usern...</td>\n",
       "      <td>0</td>\n",
       "      <td>explanation why the edits made under my userna...</td>\n",
       "      <td>explanation why the edit make under my usernam...</td>\n",
       "    </tr>\n",
       "    <tr>\n",
       "      <th>1</th>\n",
       "      <td>D'aww! He matches this background colour I'm s...</td>\n",
       "      <td>0</td>\n",
       "      <td>d aww he matches this background colour i m se...</td>\n",
       "      <td>d aww he match this background colour I m seem...</td>\n",
       "    </tr>\n",
       "    <tr>\n",
       "      <th>2</th>\n",
       "      <td>Hey man, I'm really not trying to edit war. It...</td>\n",
       "      <td>0</td>\n",
       "      <td>hey man i m really not trying to edit war it s...</td>\n",
       "      <td>hey man I m really not try to edit war it s ju...</td>\n",
       "    </tr>\n",
       "    <tr>\n",
       "      <th>3</th>\n",
       "      <td>\"\\nMore\\nI can't make any real suggestions on ...</td>\n",
       "      <td>0</td>\n",
       "      <td>more i can t make any real suggestions on impr...</td>\n",
       "      <td>more I can t make any real suggestion on impro...</td>\n",
       "    </tr>\n",
       "    <tr>\n",
       "      <th>4</th>\n",
       "      <td>You, sir, are my hero. Any chance you remember...</td>\n",
       "      <td>0</td>\n",
       "      <td>you sir are my hero any chance you remember wh...</td>\n",
       "      <td>you sir be my hero any chance you remember wha...</td>\n",
       "    </tr>\n",
       "  </tbody>\n",
       "</table>\n",
       "</div>"
      ],
      "text/plain": [
       "                                                text  toxic  \\\n",
       "0  Explanation\\nWhy the edits made under my usern...      0   \n",
       "1  D'aww! He matches this background colour I'm s...      0   \n",
       "2  Hey man, I'm really not trying to edit war. It...      0   \n",
       "3  \"\\nMore\\nI can't make any real suggestions on ...      0   \n",
       "4  You, sir, are my hero. Any chance you remember...      0   \n",
       "\n",
       "                                          clear_text  \\\n",
       "0  explanation why the edits made under my userna...   \n",
       "1  d aww he matches this background colour i m se...   \n",
       "2  hey man i m really not trying to edit war it s...   \n",
       "3  more i can t make any real suggestions on impr...   \n",
       "4  you sir are my hero any chance you remember wh...   \n",
       "\n",
       "                                        lemmas_clear  \n",
       "0  explanation why the edit make under my usernam...  \n",
       "1  d aww he match this background colour I m seem...  \n",
       "2  hey man I m really not try to edit war it s ju...  \n",
       "3  more I can t make any real suggestion on impro...  \n",
       "4  you sir be my hero any chance you remember wha...  "
      ]
     },
     "execution_count": 27,
     "metadata": {},
     "output_type": "execute_result"
    }
   ],
   "source": [
    "df_lemmas.head()"
   ]
  },
  {
   "cell_type": "code",
   "execution_count": 28,
   "metadata": {},
   "outputs": [],
   "source": [
    "# определение признаков:\n",
    "\n",
    "features = df_lemmas['lemmas_clear']\n",
    "target = df_lemmas['toxic']"
   ]
  },
  {
   "cell_type": "code",
   "execution_count": 29,
   "metadata": {},
   "outputs": [],
   "source": [
    "# разбиение признаков на обучающую и тестовую выборки:\n",
    "\n",
    "texts_train, texts_test, target_train, target_test = \\\n",
    "    train_test_split(features, target, test_size=0.1, random_state=RANDOM_STATE, stratify=target)"
   ]
  },
  {
   "cell_type": "markdown",
   "metadata": {},
   "source": [
    "Создадим переменные для хранения качественных метрик обученных моделей. "
   ]
  },
  {
   "cell_type": "code",
   "execution_count": 30,
   "metadata": {},
   "outputs": [],
   "source": [
    "# список с наименованиями обученных моделей:\n",
    "models = []\n",
    "\n",
    "# список для хранения значений f1:\n",
    "f1_results = []\n",
    "\n",
    "# список для хранения значений recall:\n",
    "recall_results = []"
   ]
  },
  {
   "cell_type": "markdown",
   "metadata": {},
   "source": [
    "Создадим функцию `get_model` для обучения моделей и подбора гиперпараметров. Для подбора гиперпараметров используем `GridSearchCV`. Количество фолдов возьмем `3`, в связи с большой выборкой. \n",
    "\n",
    "Для обучения моделей сперва необходимо векторизовать обучающую выборку. Поскольку `GridSearchCV` использует крос-валидацию, то векторизовать всю обучающую выборку было бы не верным, т.к. при кросс-валидации выборка будет разделена на обучающую и валидационную. Если выполнить векторизацию всей обучающей выборки, то будет утечка данных в валидационную выборку при кросс-валидации. Для избежания векторизовать выборку будем с помощью `Pipeline`, который будет состоять из векторайзера и обучаемой модели.\n"
   ]
  },
  {
   "cell_type": "code",
   "execution_count": 31,
   "metadata": {},
   "outputs": [],
   "source": [
    "# создаём функцию для обучения моделей и подбора гиперпараметров:\n",
    "\n",
    "def get_model(model, parameters, model_name):\n",
    "    \n",
    "    pipe = Pipeline([('vct', TfidfVectorizer(stop_words=stoplist)),\n",
    "                 ('clf', model)])\n",
    "    \n",
    "    params = parameters\n",
    "    \n",
    "    search_model = GridSearchCV( \\\n",
    "                pipe,\n",
    "                params,\n",
    "                scoring={'f1', 'recall'},\n",
    "                refit='f1',\n",
    "                cv=3,\n",
    "                n_jobs=-1,\n",
    "                verbose=1)\n",
    "    \n",
    "    # обучение модели с помощью кросс-валидации:\n",
    "    search_model.fit(texts_train, target_train)\n",
    "    \n",
    "    # F1 на кросс-валидации:\n",
    "    search_f1 = search_model.best_score_\n",
    "    print('f1 на кросс-валидации:', search_f1)\n",
    "    \n",
    "    # recall на кросс-валидации:          \n",
    "    search_recall = search_model.cv_results_['mean_test_recall'].mean()\n",
    "    print('Среднее значение recall на кросс-валидации:', search_recall)\n",
    "       \n",
    "    # лучшие найденные гиперпараметры:\n",
    "    search_params = search_model.best_params_\n",
    "    print('Наилучшие гиперпараметры модели:', search_params)\n",
    "    \n",
    "    # сохранение результатов:\n",
    "    models.append(model_name)\n",
    "    f1_results.append(search_f1)\n",
    "    recall_results.append(search_recall)\n",
    "    \n",
    "    return search_model, search_f1, search_recall, search_params\n"
   ]
  },
  {
   "cell_type": "markdown",
   "metadata": {},
   "source": [
    "### Обучение с помощью логистической регрессии"
   ]
  },
  {
   "cell_type": "markdown",
   "metadata": {},
   "source": [
    "[Назад к содержанию](#Содержание)"
   ]
  },
  {
   "cell_type": "code",
   "execution_count": 32,
   "metadata": {},
   "outputs": [
    {
     "name": "stdout",
     "output_type": "stream",
     "text": [
      "Fitting 3 folds for each of 5 candidates, totalling 15 fits\n",
      "f1 на кросс-валидации: 0.7629018273011852\n",
      "Среднее значение recall на кросс-валидации: 0.8155431313698577\n",
      "Наилучшие гиперпараметры модели: {'clf__C': 10}\n",
      "CPU times: user 15min 56s, sys: 15min 38s, total: 31min 35s\n",
      "Wall time: 31min 45s\n"
     ]
    }
   ],
   "source": [
    "%%time\n",
    "\n",
    "# задание параметров для LogisticRegression:\n",
    "lgr_params = {'clf__C': [9, 10, 11, 12, 13]}\n",
    "\n",
    "# создание объекта типа LogisticRegression:\n",
    "lgr = LogisticRegression( \\\n",
    "                C=1.0,\n",
    "                class_weight='balanced',\n",
    "                max_iter=1000,\n",
    "                n_jobs=-1,\n",
    "                random_state=RANDOM_STATE, \n",
    "                solver='lbfgs',\n",
    "                verbose=0)\n",
    "\n",
    "# поиск модели с оптимальными гиперпараметрами\n",
    "# и расчет метрик с помощью кросс-валидации:\n",
    "search_lgr, f1_lgr, recall_lgr, params_lgr = get_model(lgr, lgr_params, 'LogisticRegression') "
   ]
  },
  {
   "cell_type": "markdown",
   "metadata": {},
   "source": [
    "### Обучение модели с помощью дерева решений"
   ]
  },
  {
   "cell_type": "markdown",
   "metadata": {},
   "source": [
    "[Назад к содержанию](#Содержание)"
   ]
  },
  {
   "cell_type": "code",
   "execution_count": 33,
   "metadata": {},
   "outputs": [
    {
     "name": "stdout",
     "output_type": "stream",
     "text": [
      "Fitting 3 folds for each of 90 candidates, totalling 270 fits\n",
      "f1 на кросс-валидации: 0.20303258212620032\n",
      "Среднее значение recall на кросс-валидации: 0.748337945391646\n",
      "Наилучшие гиперпараметры модели: {'clf__ccp_alpha': 0.001, 'clf__criterion': 'gini', 'clf__max_depth': 9, 'clf__max_features': 'auto'}\n",
      "CPU times: user 30min 12s, sys: 23.3 s, total: 30min 35s\n",
      "Wall time: 30min 37s\n"
     ]
    }
   ],
   "source": [
    "%%time\n",
    "\n",
    "# задание параметров для DecisionTreeClassifier:\n",
    "\n",
    "dtc_parameters = { \\\n",
    "                  'clf__max_features': ['auto', 'sqrt', 'log2'],\n",
    "                  'clf__ccp_alpha': [0.1, .01, .001],\n",
    "                  'clf__max_depth' : [5, 6, 7, 8, 9],\n",
    "                  'clf__criterion' : ['gini', 'entropy']\n",
    "             }\n",
    "\n",
    "# создание объекта типа DecisionTreeClassifier:\n",
    "dtc = DecisionTreeClassifier(random_state=RANDOM_STATE, class_weight='balanced')\n",
    "\n",
    "# поиск модели с оптимальными гиперпараметрами и расчет f1:\n",
    "search_dtc, f1_dtc, recall_dtc, params_dtc = get_model(dtc, dtc_parameters, 'DecisionTreeClassifier') \n"
   ]
  },
  {
   "cell_type": "markdown",
   "metadata": {},
   "source": [
    "### Обучение модели с помощью случайного леса"
   ]
  },
  {
   "cell_type": "markdown",
   "metadata": {},
   "source": [
    "[Назад к содержанию](#Содержание)"
   ]
  },
  {
   "cell_type": "code",
   "execution_count": 34,
   "metadata": {},
   "outputs": [
    {
     "name": "stdout",
     "output_type": "stream",
     "text": [
      "Fitting 3 folds for each of 24 candidates, totalling 72 fits\n",
      "f1 на кросс-валидации: 0.35243529363616505\n",
      "Среднее значение recall на кросс-валидации: 0.8469726745677738\n",
      "Наилучшие гиперпараметры модели: {'clf__criterion': 'gini', 'clf__max_depth': 6, 'clf__max_features': 'auto', 'clf__n_estimators': 200}\n",
      "CPU times: user 17min 16s, sys: 6.98 s, total: 17min 23s\n",
      "Wall time: 17min 24s\n"
     ]
    }
   ],
   "source": [
    "%%time\n",
    "\n",
    "# задание параметров для RandomForestClassifier:\n",
    "\n",
    "rfc_params = { \n",
    "    'clf__n_estimators': [200, 500],\n",
    "    'clf__max_features': ['auto', 'log2'],\n",
    "    'clf__max_depth' : [4, 5, 6],\n",
    "    'clf__criterion' : ['gini', 'entropy']\n",
    "}\n",
    "\n",
    "# создание объекта типа RandomForestClassifier:\n",
    "rfc = RandomForestClassifier( \\\n",
    "        random_state=RANDOM_STATE,\n",
    "        class_weight='balanced')\n",
    "\n",
    "# поиск модели с оптимальными гиперпараметрами и расчет f1:\n",
    "search_rfc, f1_rfc, recall_rfc, params_rfc = get_model(rfc, rfc_params, 'RandomForestClassifier')"
   ]
  },
  {
   "cell_type": "markdown",
   "metadata": {},
   "source": [
    "### Обучение с помощью SGDClassifier"
   ]
  },
  {
   "cell_type": "markdown",
   "metadata": {},
   "source": [
    "[Назад к содержанию](#Содержание)"
   ]
  },
  {
   "cell_type": "code",
   "execution_count": 35,
   "metadata": {
    "scrolled": true
   },
   "outputs": [
    {
     "name": "stdout",
     "output_type": "stream",
     "text": [
      "Fitting 3 folds for each of 27 candidates, totalling 81 fits\n",
      "f1 на кросс-валидации: 0.71569935168032\n",
      "Среднее значение recall на кросс-валидации: 0.6540563622075602\n",
      "Наилучшие гиперпараметры модели: {'clf__alpha': 0.001, 'clf__loss': 'squared_hinge', 'clf__penalty': 'l2'}\n",
      "CPU times: user 10min 16s, sys: 10.3 s, total: 10min 26s\n",
      "Wall time: 10min 27s\n"
     ]
    }
   ],
   "source": [
    "%%time\n",
    "\n",
    "sgd_params = {\n",
    "    \"clf__loss\" : [\"hinge\", \"log\", \"squared_hinge\"],\n",
    "    \"clf__alpha\" : [0.001, 0.01, 0.1],\n",
    "    \"clf__penalty\" : [\"l2\", \"l1\", \"none\"],\n",
    "}\n",
    "\n",
    "sgd = SGDClassifier( \\\n",
    "    random_state = RANDOM_STATE,\n",
    "    class_weight='balanced')\n",
    "\n",
    "search_sgd, f1_sgd, recall_sgd, params_sgd = get_model(sgd, sgd_params, 'SGDClassifier')"
   ]
  },
  {
   "cell_type": "markdown",
   "metadata": {},
   "source": [
    "## Анализ моделей"
   ]
  },
  {
   "cell_type": "markdown",
   "metadata": {},
   "source": [
    "[Назад к содержанию](#Содержание)"
   ]
  },
  {
   "cell_type": "markdown",
   "metadata": {},
   "source": [
    "Выведем полученные метрики в таблицу."
   ]
  },
  {
   "cell_type": "code",
   "execution_count": 36,
   "metadata": {},
   "outputs": [
    {
     "data": {
      "text/html": [
       "<div>\n",
       "<style scoped>\n",
       "    .dataframe tbody tr th:only-of-type {\n",
       "        vertical-align: middle;\n",
       "    }\n",
       "\n",
       "    .dataframe tbody tr th {\n",
       "        vertical-align: top;\n",
       "    }\n",
       "\n",
       "    .dataframe thead th {\n",
       "        text-align: right;\n",
       "    }\n",
       "</style>\n",
       "<table border=\"1\" class=\"dataframe\">\n",
       "  <thead>\n",
       "    <tr style=\"text-align: right;\">\n",
       "      <th></th>\n",
       "      <th>Model</th>\n",
       "      <th>F1 score</th>\n",
       "      <th>Recall</th>\n",
       "    </tr>\n",
       "  </thead>\n",
       "  <tbody>\n",
       "    <tr>\n",
       "      <th>0</th>\n",
       "      <td>LogisticRegression</td>\n",
       "      <td>0.762902</td>\n",
       "      <td>0.815543</td>\n",
       "    </tr>\n",
       "    <tr>\n",
       "      <th>1</th>\n",
       "      <td>SGDClassifier</td>\n",
       "      <td>0.715699</td>\n",
       "      <td>0.654056</td>\n",
       "    </tr>\n",
       "    <tr>\n",
       "      <th>2</th>\n",
       "      <td>RandomForestClassifier</td>\n",
       "      <td>0.352435</td>\n",
       "      <td>0.846973</td>\n",
       "    </tr>\n",
       "    <tr>\n",
       "      <th>3</th>\n",
       "      <td>DecisionTreeClassifier</td>\n",
       "      <td>0.203033</td>\n",
       "      <td>0.748338</td>\n",
       "    </tr>\n",
       "  </tbody>\n",
       "</table>\n",
       "</div>"
      ],
      "text/plain": [
       "                    Model  F1 score    Recall\n",
       "0      LogisticRegression  0.762902  0.815543\n",
       "1           SGDClassifier  0.715699  0.654056\n",
       "2  RandomForestClassifier  0.352435  0.846973\n",
       "3  DecisionTreeClassifier  0.203033  0.748338"
      ]
     },
     "execution_count": 36,
     "metadata": {},
     "output_type": "execute_result"
    }
   ],
   "source": [
    "# таблица с полученными результатами:\n",
    "results = (pd.DataFrame({\n",
    "                        'Model':models,\n",
    "                        'F1 score':f1_results,\n",
    "                        'Recall': recall_results,\n",
    "                        }).sort_values(by='F1 score', ascending=False).\n",
    "                              reset_index(drop=True))\n",
    "\n",
    "# вывод результатов:\n",
    "results"
   ]
  },
  {
   "cell_type": "markdown",
   "metadata": {},
   "source": [
    "Из полученных результатов `F1` и `recall` на обучающей выборке можно сделать вывод, что наилучшей моделью является модель, обученная с помощью `логистической регресии`.\n",
    "\n",
    "Далее заново обучим логистическую регрессию с найденными оптимальными гиперпараметрами и протестируем на тестовой выборке."
   ]
  },
  {
   "cell_type": "code",
   "execution_count": 54,
   "metadata": {},
   "outputs": [],
   "source": [
    "# создание векторайзера TF-IDF:\n",
    "vect_word = TfidfVectorizer(\n",
    "                    ngram_range=(1,3),\n",
    "                    min_df=3,\n",
    "                    max_df=0.9,\n",
    "                    use_idf=1,\n",
    "                    smooth_idf=1,\n",
    "                    sublinear_tf=1,\n",
    "                    stop_words=stoplist)\n",
    "\n",
    "# преобразование выборок:\n",
    "X_train = vect_word.fit_transform(texts_train)\n",
    "X_test = vect_word.transform(texts_test)"
   ]
  },
  {
   "cell_type": "code",
   "execution_count": 55,
   "metadata": {},
   "outputs": [
    {
     "name": "stdout",
     "output_type": "stream",
     "text": [
      "CPU times: user 26.4 s, sys: 20.8 s, total: 47.3 s\n",
      "Wall time: 47.4 s\n"
     ]
    },
    {
     "data": {
      "text/plain": [
       "LogisticRegression(C=10, class_weight='balanced', random_state=42)"
      ]
     },
     "execution_count": 55,
     "metadata": {},
     "output_type": "execute_result"
    }
   ],
   "source": [
    "%%time\n",
    "\n",
    "# обучение логистической регрессии с оптимальными гиперпараметрами:\n",
    "lgr_optimal = LogisticRegression(\n",
    "                        C = params_lgr['clf__C'],\n",
    "                        class_weight='balanced',    \n",
    "                        random_state=RANDOM_STATE)\n",
    "lgr_optimal.fit(X_train, target_train)"
   ]
  },
  {
   "cell_type": "markdown",
   "metadata": {},
   "source": [
    "## Тестирование наилучшей модели"
   ]
  },
  {
   "cell_type": "markdown",
   "metadata": {},
   "source": [
    "[Назад к содержанию](#Содержание)"
   ]
  },
  {
   "cell_type": "markdown",
   "metadata": {},
   "source": [
    "Далее выполним предсказания наилучшей модели на тестовой выборке."
   ]
  },
  {
   "cell_type": "code",
   "execution_count": 57,
   "metadata": {},
   "outputs": [
    {
     "name": "stdout",
     "output_type": "stream",
     "text": [
      "F1 логистической регрессии на тестовой выборке: 0.7932591032199819\n",
      "Recall логистической регрессии на тестовой выборке: 0.81408276714021\n"
     ]
    }
   ],
   "source": [
    "# предсказания логистической регрессии на тестовой выборке:\n",
    "predicted = lgr_optimal.predict(X_test)\n",
    "\n",
    "# вычисление f1-меры:\n",
    "f1 = f1_score(target_test, predicted)\n",
    "print('F1 логистической регрессии на тестовой выборке:', f1)\n",
    "\n",
    "# вычисление recall:\n",
    "recall = recall_score(target_test, predicted)\n",
    "print('Recall логистической регрессии на тестовой выборке:', recall)"
   ]
  },
  {
   "cell_type": "markdown",
   "metadata": {},
   "source": [
    "Построим `ROC-кривую` для наилучшей модели и вычислим значение `AUC-ROC`."
   ]
  },
  {
   "cell_type": "code",
   "execution_count": 61,
   "metadata": {},
   "outputs": [
    {
     "data": {
      "image/png": "[encoded data removed]",
      "text/plain": [
       "<Figure size 432x288 with 1 Axes>"
      ]
     },
     "metadata": {
      "needs_background": "light"
     },
     "output_type": "display_data"
    },
    {
     "name": "stdout",
     "output_type": "stream",
     "text": [
      "AUC-ROC для логистической регрессии: 0.9710695061138498\n"
     ]
    }
   ],
   "source": [
    "# вероятности положительного класса:\n",
    "probabilities_test_lgr = lgr_optimal.predict_proba(X_test)\n",
    "probabilities_one_test_lgr = probabilities_test_lgr[:, 1]\n",
    "\n",
    "# вычисление значений FPR, TPR и рассмотренные пороги:\n",
    "fpr_lgr, tpr_lgr, thresholds_lgr = roc_curve(target_test, probabilities_one_test_lgr)\n",
    "\n",
    "# построение графика:\n",
    "plt.figure()\n",
    "\n",
    "plt.plot(fpr_lgr, tpr_lgr, label='FPR')\n",
    "\n",
    "\n",
    "# ROC-кривая случайной модели:\n",
    "plt.plot([0, 1], [0, 1], linestyle='--')\n",
    "\n",
    "# установка границ осей от 0 до 1:\n",
    "plt.xlim([0.0, 1.0])\n",
    "plt.ylim([0.0, 1.0])\n",
    "\n",
    "# подпись осей \"False Positive Rate\" и \"True Positive Rate\":\n",
    "plt.xlabel('False Positive Rate')\n",
    "plt.ylabel('True Positive Rate')\n",
    "\n",
    "# заголовок \"ROC-кривая\":\n",
    "plt.title('ROC-кривая для логистической регрессии:')\n",
    "\n",
    "plt.legend(fontsize='large')\n",
    "\n",
    "plt.show()\n",
    "\n",
    "# вывод AUC-ROC значения:\n",
    "auc_roc = roc_auc_score(target_test, probabilities_one_test_lgr)\n",
    "print(f'AUC-ROC для логистической регрессии:', auc_roc)"
   ]
  },
  {
   "cell_type": "markdown",
   "metadata": {},
   "source": [
    "## Выводы"
   ]
  },
  {
   "cell_type": "markdown",
   "metadata": {},
   "source": [
    "[Назад к содержанию](#Содержание)"
   ]
  },
  {
   "cell_type": "markdown",
   "metadata": {},
   "source": [
    "В данной работе разработали инструмент для интернет-магазина `Викишоп`, позволяющий классифицировать комментарии пользователей на негативные и позитивные. Под инструментом подразумевается модель машинного обучения. \n",
    "\n",
    "В качестве исходных данных был предоставлен датасет из порядка 160 тысяч твитов. Датасет был предоставлен с размеченными данными - каждому твиту был присвоен свой класс - `0` (положительный комментарий) или `1` (негативный). Эти данные использовали для обучения нескольких моделей. Были смоделированы следующие модели:\n",
    "\n",
    "   - логистическая регрессия;\n",
    "   - дерево решений;\n",
    "   - случайный лес;\n",
    "   - SGDClassifier.\n",
    "   \n",
    "Лучше всех себя проявила `логистическая регрессия`. Поэтому в качестве наилучшей модели была выбрана именно эта модель. \n",
    "\n",
    "Заданная метрика `F1` наилучшей модели составила более заданного минимального значения `0.75` и составляет:\n"
   ]
  },
  {
   "cell_type": "code",
   "execution_count": 62,
   "metadata": {},
   "outputs": [
    {
     "data": {
      "text/plain": [
       "0.7932591032199819"
      ]
     },
     "execution_count": 62,
     "metadata": {},
     "output_type": "execute_result"
    }
   ],
   "source": [
    "f1"
   ]
  },
  {
   "cell_type": "markdown",
   "metadata": {},
   "source": [
    "Также логистическая регрессия показала отличное значение `AUC-ROC`:"
   ]
  },
  {
   "cell_type": "code",
   "execution_count": 63,
   "metadata": {
    "scrolled": true
   },
   "outputs": [
    {
     "data": {
      "text/plain": [
       "0.9710695061138498"
      ]
     },
     "execution_count": 63,
     "metadata": {},
     "output_type": "execute_result"
    }
   ],
   "source": [
    "auc_roc"
   ]
  }
 ],
 "metadata": {
  "ExecuteTimeLog": [
   {
    "duration": 1689,
    "start_time": "2023-04-09T12:05:13.257Z"
   },
   {
    "duration": 5,
    "start_time": "2023-04-09T12:08:57.445Z"
   },
   {
    "duration": 3,
    "start_time": "2023-04-09T12:09:33.666Z"
   },
   {
    "duration": 3268,
    "start_time": "2023-04-09T12:10:49.534Z"
   },
   {
    "duration": 899,
    "start_time": "2023-04-09T12:11:17.475Z"
   },
   {
    "duration": 2182,
    "start_time": "2023-04-09T12:12:07.084Z"
   },
   {
    "duration": 13,
    "start_time": "2023-04-09T12:12:46.825Z"
   },
   {
    "duration": 21,
    "start_time": "2023-04-09T12:13:37.654Z"
   },
   {
    "duration": 40,
    "start_time": "2023-04-09T12:14:28.116Z"
   },
   {
    "duration": 251,
    "start_time": "2023-04-09T12:15:25.485Z"
   },
   {
    "duration": 29,
    "start_time": "2023-04-09T12:16:34.404Z"
   },
   {
    "duration": 12,
    "start_time": "2023-04-09T12:17:14.341Z"
   },
   {
    "duration": 29,
    "start_time": "2023-04-09T12:18:27.075Z"
   },
   {
    "duration": 121,
    "start_time": "2023-04-09T12:23:05.980Z"
   },
   {
    "duration": 99,
    "start_time": "2023-04-09T12:23:13.255Z"
   },
   {
    "duration": 412,
    "start_time": "2023-04-09T12:24:59.009Z"
   },
   {
    "duration": 0,
    "start_time": "2023-04-09T12:28:22.113Z"
   },
   {
    "duration": 5764,
    "start_time": "2023-04-09T12:28:44.297Z"
   },
   {
    "duration": 6,
    "start_time": "2023-04-09T12:32:30.360Z"
   },
   {
    "duration": 7,
    "start_time": "2023-04-09T12:32:49.669Z"
   },
   {
    "duration": 74,
    "start_time": "2023-04-09T12:39:15.329Z"
   },
   {
    "duration": 13,
    "start_time": "2023-04-09T12:39:20.835Z"
   },
   {
    "duration": 11,
    "start_time": "2023-04-09T12:39:32.118Z"
   },
   {
    "duration": 34,
    "start_time": "2023-04-09T12:39:41.838Z"
   },
   {
    "duration": 29,
    "start_time": "2023-04-09T12:39:58.407Z"
   },
   {
    "duration": 222,
    "start_time": "2023-04-09T12:40:00.889Z"
   },
   {
    "duration": 98,
    "start_time": "2023-04-09T12:40:03.139Z"
   },
   {
    "duration": 38335,
    "start_time": "2023-04-09T13:30:58.219Z"
   },
   {
    "duration": 4048,
    "start_time": "2023-04-09T13:50:28.640Z"
   },
   {
    "duration": 3,
    "start_time": "2023-04-09T13:50:32.690Z"
   },
   {
    "duration": 3655,
    "start_time": "2023-04-09T13:50:32.695Z"
   },
   {
    "duration": 17,
    "start_time": "2023-04-09T13:50:36.352Z"
   },
   {
    "duration": 8,
    "start_time": "2023-04-09T13:50:36.372Z"
   },
   {
    "duration": 64,
    "start_time": "2023-04-09T13:50:36.384Z"
   },
   {
    "duration": 17,
    "start_time": "2023-04-09T13:50:36.450Z"
   },
   {
    "duration": 34,
    "start_time": "2023-04-09T13:50:36.470Z"
   },
   {
    "duration": 321,
    "start_time": "2023-04-09T13:50:36.507Z"
   },
   {
    "duration": 401,
    "start_time": "2023-04-09T13:50:36.831Z"
   },
   {
    "duration": 3,
    "start_time": "2023-04-09T13:50:37.235Z"
   },
   {
    "duration": 2146,
    "start_time": "2023-04-09T13:50:37.244Z"
   },
   {
    "duration": 3803,
    "start_time": "2023-04-09T13:53:46.941Z"
   },
   {
    "duration": 3,
    "start_time": "2023-04-09T13:53:50.746Z"
   },
   {
    "duration": 3456,
    "start_time": "2023-04-09T13:53:50.752Z"
   },
   {
    "duration": 19,
    "start_time": "2023-04-09T13:53:54.210Z"
   },
   {
    "duration": 9,
    "start_time": "2023-04-09T13:53:54.236Z"
   },
   {
    "duration": 35,
    "start_time": "2023-04-09T13:53:54.247Z"
   },
   {
    "duration": 12,
    "start_time": "2023-04-09T13:53:54.284Z"
   },
   {
    "duration": 50,
    "start_time": "2023-04-09T13:53:54.298Z"
   },
   {
    "duration": 247,
    "start_time": "2023-04-09T13:53:54.350Z"
   },
   {
    "duration": 352,
    "start_time": "2023-04-09T13:53:54.599Z"
   },
   {
    "duration": 3,
    "start_time": "2023-04-09T13:53:54.953Z"
   },
   {
    "duration": 2219,
    "start_time": "2023-04-09T13:53:54.957Z"
   },
   {
    "duration": 61,
    "start_time": "2023-04-09T13:53:57.178Z"
   },
   {
    "duration": 1083,
    "start_time": "2023-04-09T14:00:56.069Z"
   },
   {
    "duration": 144,
    "start_time": "2023-04-09T14:04:50.910Z"
   },
   {
    "duration": 18,
    "start_time": "2023-04-09T14:05:52.591Z"
   },
   {
    "duration": 2048,
    "start_time": "2023-04-09T14:06:40.299Z"
   },
   {
    "duration": 869,
    "start_time": "2023-04-09T14:06:43.113Z"
   },
   {
    "duration": 24,
    "start_time": "2023-04-09T14:06:48.413Z"
   },
   {
    "duration": 11,
    "start_time": "2023-04-09T14:07:02.323Z"
   },
   {
    "duration": 28,
    "start_time": "2023-04-09T14:07:12.565Z"
   },
   {
    "duration": 9,
    "start_time": "2023-04-09T14:07:32.882Z"
   },
   {
    "duration": 2096,
    "start_time": "2023-04-09T14:11:16.901Z"
   },
   {
    "duration": 16,
    "start_time": "2023-04-09T14:12:56.572Z"
   },
   {
    "duration": 2175,
    "start_time": "2023-04-09T14:13:24.621Z"
   },
   {
    "duration": 30,
    "start_time": "2023-04-09T14:14:19.937Z"
   },
   {
    "duration": 25,
    "start_time": "2023-04-09T14:14:37.256Z"
   },
   {
    "duration": 55,
    "start_time": "2023-04-09T14:15:21.191Z"
   },
   {
    "duration": 3804,
    "start_time": "2023-04-09T14:15:48.200Z"
   },
   {
    "duration": 4,
    "start_time": "2023-04-09T14:15:52.006Z"
   },
   {
    "duration": 3206,
    "start_time": "2023-04-09T14:15:52.012Z"
   },
   {
    "duration": 18,
    "start_time": "2023-04-09T14:15:55.220Z"
   },
   {
    "duration": 17,
    "start_time": "2023-04-09T14:15:55.240Z"
   },
   {
    "duration": 45,
    "start_time": "2023-04-09T14:15:55.260Z"
   },
   {
    "duration": 28,
    "start_time": "2023-04-09T14:15:55.309Z"
   },
   {
    "duration": 37,
    "start_time": "2023-04-09T14:15:55.340Z"
   },
   {
    "duration": 273,
    "start_time": "2023-04-09T14:15:55.379Z"
   },
   {
    "duration": 422,
    "start_time": "2023-04-09T14:15:55.654Z"
   },
   {
    "duration": 4,
    "start_time": "2023-04-09T14:15:56.078Z"
   },
   {
    "duration": 2305,
    "start_time": "2023-04-09T14:15:56.084Z"
   },
   {
    "duration": 835,
    "start_time": "2023-04-09T14:15:58.391Z"
   },
   {
    "duration": 1804,
    "start_time": "2023-04-09T17:01:14.760Z"
   },
   {
    "duration": 56,
    "start_time": "2023-04-09T17:30:46.467Z"
   },
   {
    "duration": 2,
    "start_time": "2023-04-09T17:30:59.967Z"
   },
   {
    "duration": 2,
    "start_time": "2023-04-09T17:31:06.387Z"
   },
   {
    "duration": 3,
    "start_time": "2023-04-09T17:31:11.607Z"
   },
   {
    "duration": 3,
    "start_time": "2023-04-09T17:31:26.618Z"
   },
   {
    "duration": 1442,
    "start_time": "2023-04-09T17:31:47.759Z"
   },
   {
    "duration": 3,
    "start_time": "2023-04-09T17:31:49.203Z"
   },
   {
    "duration": 2370,
    "start_time": "2023-04-09T17:31:49.207Z"
   },
   {
    "duration": 13,
    "start_time": "2023-04-09T17:31:51.579Z"
   },
   {
    "duration": 9,
    "start_time": "2023-04-09T17:31:51.594Z"
   },
   {
    "duration": 38,
    "start_time": "2023-04-09T17:31:51.604Z"
   },
   {
    "duration": 10,
    "start_time": "2023-04-09T17:31:51.643Z"
   },
   {
    "duration": 32,
    "start_time": "2023-04-09T17:31:51.655Z"
   },
   {
    "duration": 221,
    "start_time": "2023-04-09T17:31:51.689Z"
   },
   {
    "duration": 543,
    "start_time": "2023-04-09T17:31:51.912Z"
   },
   {
    "duration": 2,
    "start_time": "2023-04-09T17:31:52.457Z"
   },
   {
    "duration": 6,
    "start_time": "2023-04-09T17:31:52.460Z"
   },
   {
    "duration": 138,
    "start_time": "2023-04-09T17:31:52.467Z"
   },
   {
    "duration": 0,
    "start_time": "2023-04-09T17:31:52.606Z"
   },
   {
    "duration": 0,
    "start_time": "2023-04-09T17:31:52.608Z"
   },
   {
    "duration": 0,
    "start_time": "2023-04-09T17:31:52.608Z"
   },
   {
    "duration": 0,
    "start_time": "2023-04-09T17:31:52.610Z"
   },
   {
    "duration": 27,
    "start_time": "2023-04-09T17:32:22.597Z"
   },
   {
    "duration": 1259,
    "start_time": "2023-04-09T17:33:49.486Z"
   },
   {
    "duration": 9,
    "start_time": "2023-04-09T17:36:46.858Z"
   },
   {
    "duration": 1790,
    "start_time": "2023-04-09T17:40:13.996Z"
   },
   {
    "duration": 120006,
    "start_time": "2023-04-09T17:40:47.346Z"
   },
   {
    "duration": 16,
    "start_time": "2023-04-09T17:43:12.006Z"
   },
   {
    "duration": 10,
    "start_time": "2023-04-09T17:46:19.357Z"
   },
   {
    "duration": 4,
    "start_time": "2023-04-09T17:52:10.106Z"
   },
   {
    "duration": 1491,
    "start_time": "2023-04-09T17:53:00.120Z"
   },
   {
    "duration": 2,
    "start_time": "2023-04-09T17:53:06.020Z"
   },
   {
    "duration": 861,
    "start_time": "2023-04-09T17:53:06.429Z"
   },
   {
    "duration": 106,
    "start_time": "2023-04-09T17:53:26.491Z"
   },
   {
    "duration": 31,
    "start_time": "2023-04-09T17:53:54.133Z"
   },
   {
    "duration": 3,
    "start_time": "2023-04-09T17:54:10.149Z"
   },
   {
    "duration": 5,
    "start_time": "2023-04-09T17:54:17.345Z"
   },
   {
    "duration": 120205,
    "start_time": "2023-04-09T17:54:28.229Z"
   },
   {
    "duration": 6,
    "start_time": "2023-04-09T17:56:42.786Z"
   },
   {
    "duration": 19,
    "start_time": "2023-04-09T17:56:50.429Z"
   },
   {
    "duration": 5,
    "start_time": "2023-04-09T18:02:05.875Z"
   },
   {
    "duration": 15154,
    "start_time": "2023-04-09T18:36:57.093Z"
   },
   {
    "duration": 2,
    "start_time": "2023-04-09T18:37:12.249Z"
   },
   {
    "duration": 913,
    "start_time": "2023-04-09T18:37:12.253Z"
   },
   {
    "duration": 2,
    "start_time": "2023-04-09T18:37:35.596Z"
   },
   {
    "duration": 3,
    "start_time": "2023-04-09T18:37:44.402Z"
   },
   {
    "duration": 3,
    "start_time": "2023-04-09T18:37:56.856Z"
   },
   {
    "duration": 269,
    "start_time": "2023-04-09T18:39:02.013Z"
   },
   {
    "duration": 3,
    "start_time": "2023-04-09T18:39:24.290Z"
   },
   {
    "duration": 2,
    "start_time": "2023-04-09T18:39:37.005Z"
   },
   {
    "duration": 4,
    "start_time": "2023-04-09T18:39:52.713Z"
   },
   {
    "duration": 127654,
    "start_time": "2023-04-09T18:39:53.921Z"
   },
   {
    "duration": 17,
    "start_time": "2023-04-09T18:42:01.577Z"
   },
   {
    "duration": 3,
    "start_time": "2023-04-09T18:46:26.451Z"
   },
   {
    "duration": 1692,
    "start_time": "2023-04-09T19:27:47.085Z"
   },
   {
    "duration": 2,
    "start_time": "2023-04-09T19:27:48.780Z"
   },
   {
    "duration": 924,
    "start_time": "2023-04-09T19:27:48.784Z"
   },
   {
    "duration": 14,
    "start_time": "2023-04-09T19:27:49.710Z"
   },
   {
    "duration": 7,
    "start_time": "2023-04-09T19:27:49.734Z"
   },
   {
    "duration": 50,
    "start_time": "2023-04-09T19:27:49.743Z"
   },
   {
    "duration": 11,
    "start_time": "2023-04-09T19:27:49.796Z"
   },
   {
    "duration": 43,
    "start_time": "2023-04-09T19:27:49.808Z"
   },
   {
    "duration": 246,
    "start_time": "2023-04-09T19:27:49.852Z"
   },
   {
    "duration": 312,
    "start_time": "2023-04-09T19:27:50.101Z"
   },
   {
    "duration": 3,
    "start_time": "2023-04-09T19:27:50.414Z"
   },
   {
    "duration": 2191,
    "start_time": "2023-04-09T19:27:50.418Z"
   },
   {
    "duration": 125,
    "start_time": "2023-04-09T19:28:49.217Z"
   },
   {
    "duration": 1894,
    "start_time": "2023-04-09T19:29:01.526Z"
   },
   {
    "duration": 11,
    "start_time": "2023-04-09T19:29:08.174Z"
   },
   {
    "duration": 4435,
    "start_time": "2023-04-09T19:30:26.794Z"
   },
   {
    "duration": 3,
    "start_time": "2023-04-09T19:30:31.231Z"
   },
   {
    "duration": 2460,
    "start_time": "2023-04-09T19:30:31.235Z"
   },
   {
    "duration": 15,
    "start_time": "2023-04-09T19:30:33.697Z"
   },
   {
    "duration": 16,
    "start_time": "2023-04-09T19:30:33.715Z"
   },
   {
    "duration": 44,
    "start_time": "2023-04-09T19:30:33.733Z"
   },
   {
    "duration": 12,
    "start_time": "2023-04-09T19:30:33.778Z"
   },
   {
    "duration": 34,
    "start_time": "2023-04-09T19:30:33.791Z"
   },
   {
    "duration": 223,
    "start_time": "2023-04-09T19:30:33.826Z"
   },
   {
    "duration": 296,
    "start_time": "2023-04-09T19:30:34.050Z"
   },
   {
    "duration": 3,
    "start_time": "2023-04-09T19:30:34.347Z"
   },
   {
    "duration": 1990,
    "start_time": "2023-04-09T19:30:34.351Z"
   },
   {
    "duration": 4116,
    "start_time": "2023-04-09T19:31:53.263Z"
   },
   {
    "duration": 3,
    "start_time": "2023-04-09T19:31:57.381Z"
   },
   {
    "duration": 2516,
    "start_time": "2023-04-09T19:31:57.386Z"
   },
   {
    "duration": 15,
    "start_time": "2023-04-09T19:31:59.904Z"
   },
   {
    "duration": 16,
    "start_time": "2023-04-09T19:31:59.921Z"
   },
   {
    "duration": 36,
    "start_time": "2023-04-09T19:31:59.939Z"
   },
   {
    "duration": 12,
    "start_time": "2023-04-09T19:31:59.977Z"
   },
   {
    "duration": 44,
    "start_time": "2023-04-09T19:31:59.992Z"
   },
   {
    "duration": 242,
    "start_time": "2023-04-09T19:32:00.037Z"
   },
   {
    "duration": 301,
    "start_time": "2023-04-09T19:32:00.282Z"
   },
   {
    "duration": 3,
    "start_time": "2023-04-09T19:32:00.585Z"
   },
   {
    "duration": 41,
    "start_time": "2023-04-09T19:32:00.590Z"
   },
   {
    "duration": 28,
    "start_time": "2023-04-09T19:32:00.633Z"
   },
   {
    "duration": 3,
    "start_time": "2023-04-09T19:32:28.811Z"
   },
   {
    "duration": 2256,
    "start_time": "2023-04-09T19:32:31.226Z"
   },
   {
    "duration": 1680,
    "start_time": "2023-04-09T20:32:35.444Z"
   },
   {
    "duration": 3,
    "start_time": "2023-04-09T20:32:37.126Z"
   },
   {
    "duration": 890,
    "start_time": "2023-04-09T20:32:37.130Z"
   },
   {
    "duration": 16,
    "start_time": "2023-04-09T20:32:38.022Z"
   },
   {
    "duration": 7,
    "start_time": "2023-04-09T20:32:38.039Z"
   },
   {
    "duration": 36,
    "start_time": "2023-04-09T20:32:38.048Z"
   },
   {
    "duration": 10,
    "start_time": "2023-04-09T20:32:38.086Z"
   },
   {
    "duration": 44,
    "start_time": "2023-04-09T20:32:38.097Z"
   },
   {
    "duration": 216,
    "start_time": "2023-04-09T20:32:38.143Z"
   },
   {
    "duration": 265,
    "start_time": "2023-04-09T20:32:38.361Z"
   },
   {
    "duration": 9,
    "start_time": "2023-04-09T20:32:38.627Z"
   },
   {
    "duration": 6,
    "start_time": "2023-04-09T20:32:38.637Z"
   },
   {
    "duration": 5,
    "start_time": "2023-04-09T20:32:38.645Z"
   },
   {
    "duration": 5,
    "start_time": "2023-04-09T20:32:38.651Z"
   },
   {
    "duration": 12,
    "start_time": "2023-04-09T20:32:38.657Z"
   },
   {
    "duration": 11,
    "start_time": "2023-04-09T20:32:38.670Z"
   },
   {
    "duration": 22561,
    "start_time": "2023-04-10T20:36:16.772Z"
   },
   {
    "duration": 5,
    "start_time": "2023-04-10T20:38:38.107Z"
   },
   {
    "duration": 4062,
    "start_time": "2023-04-10T20:38:39.408Z"
   },
   {
    "duration": 2,
    "start_time": "2023-04-10T20:39:05.760Z"
   },
   {
    "duration": 400,
    "start_time": "2023-04-10T20:39:34.920Z"
   },
   {
    "duration": 12664,
    "start_time": "2023-04-10T20:40:18.492Z"
   },
   {
    "duration": 71,
    "start_time": "2023-04-10T20:41:15.911Z"
   },
   {
    "duration": 590,
    "start_time": "2023-04-10T20:41:25.906Z"
   },
   {
    "duration": 70,
    "start_time": "2023-04-10T20:41:41.775Z"
   },
   {
    "duration": 2,
    "start_time": "2023-04-10T20:42:03.139Z"
   },
   {
    "duration": 30,
    "start_time": "2023-04-10T20:42:38.631Z"
   },
   {
    "duration": 6,
    "start_time": "2023-04-10T20:45:24.683Z"
   },
   {
    "duration": 3115055,
    "start_time": "2023-04-10T20:45:37.715Z"
   },
   {
    "duration": 18,
    "start_time": "2023-04-10T21:37:32.772Z"
   },
   {
    "duration": 4,
    "start_time": "2023-04-10T21:46:31.763Z"
   },
   {
    "duration": 26,
    "start_time": "2023-04-10T21:46:50.887Z"
   },
   {
    "duration": 30,
    "start_time": "2023-04-10T21:48:14.075Z"
   },
   {
    "duration": 3,
    "start_time": "2023-04-10T21:48:22.015Z"
   },
   {
    "duration": 2442,
    "start_time": "2023-04-10T21:48:23.263Z"
   },
   {
    "duration": 14,
    "start_time": "2023-04-10T21:48:29.706Z"
   },
   {
    "duration": 11427,
    "start_time": "2023-04-10T21:50:44.514Z"
   },
   {
    "duration": 8494,
    "start_time": "2023-04-10T21:58:31.642Z"
   },
   {
    "duration": 18,
    "start_time": "2023-04-10T21:59:57.539Z"
   },
   {
    "duration": 828,
    "start_time": "2023-04-10T22:00:36.213Z"
   },
   {
    "duration": 30,
    "start_time": "2023-04-10T22:00:48.830Z"
   },
   {
    "duration": 7600,
    "start_time": "2023-04-10T22:01:44.774Z"
   },
   {
    "duration": 5,
    "start_time": "2023-04-10T22:03:02.974Z"
   },
   {
    "duration": 4,
    "start_time": "2023-04-10T22:03:23.017Z"
   },
   {
    "duration": 30,
    "start_time": "2023-04-10T22:06:36.217Z"
   },
   {
    "duration": 70,
    "start_time": "2023-04-10T22:10:02.305Z"
   },
   {
    "duration": 5186,
    "start_time": "2023-04-10T22:10:30.829Z"
   },
   {
    "duration": 3,
    "start_time": "2023-04-10T22:10:36.017Z"
   },
   {
    "duration": 390,
    "start_time": "2023-04-10T22:11:04.077Z"
   },
   {
    "duration": 3894,
    "start_time": "2023-04-10T22:11:10.657Z"
   },
   {
    "duration": 16,
    "start_time": "2023-04-10T22:11:17.377Z"
   },
   {
    "duration": 23,
    "start_time": "2023-04-10T22:11:42.390Z"
   },
   {
    "duration": 3,
    "start_time": "2023-04-10T22:13:09.537Z"
   },
   {
    "duration": 26,
    "start_time": "2023-04-10T22:13:53.089Z"
   },
   {
    "duration": 3,
    "start_time": "2023-04-10T22:17:17.741Z"
   },
   {
    "duration": 26,
    "start_time": "2023-04-10T22:18:03.045Z"
   },
   {
    "duration": 20,
    "start_time": "2023-04-10T22:19:34.130Z"
   },
   {
    "duration": 17,
    "start_time": "2023-04-10T22:20:10.770Z"
   },
   {
    "duration": 19675,
    "start_time": "2023-04-10T22:20:43.758Z"
   },
   {
    "duration": 45,
    "start_time": "2023-04-10T22:22:34.584Z"
   },
   {
    "duration": 24,
    "start_time": "2023-04-10T22:22:50.076Z"
   },
   {
    "duration": 12,
    "start_time": "2023-04-10T22:24:27.725Z"
   },
   {
    "duration": 2185,
    "start_time": "2023-04-10T22:27:37.356Z"
   },
   {
    "duration": 5286,
    "start_time": "2023-04-10T22:31:23.164Z"
   },
   {
    "duration": 6,
    "start_time": "2023-04-10T22:31:28.452Z"
   },
   {
    "duration": 3941,
    "start_time": "2023-04-10T22:31:31.624Z"
   },
   {
    "duration": 16,
    "start_time": "2023-04-10T22:31:35.595Z"
   },
   {
    "duration": 5030,
    "start_time": "2023-04-10T22:33:33.832Z"
   },
   {
    "duration": 3904,
    "start_time": "2023-04-10T22:33:40.636Z"
   },
   {
    "duration": 7479,
    "start_time": "2023-04-10T22:34:03.887Z"
   },
   {
    "duration": 9,
    "start_time": "2023-04-10T22:34:22.183Z"
   },
   {
    "duration": 4801,
    "start_time": "2023-04-11T11:44:02.205Z"
   },
   {
    "duration": 5,
    "start_time": "2023-04-11T11:44:25.147Z"
   },
   {
    "duration": 2471,
    "start_time": "2023-04-11T11:44:26.355Z"
   },
   {
    "duration": 18,
    "start_time": "2023-04-11T11:46:28.360Z"
   },
   {
    "duration": 18,
    "start_time": "2023-04-11T11:49:44.260Z"
   },
   {
    "duration": 4,
    "start_time": "2023-04-11T11:49:52.748Z"
   },
   {
    "duration": 13,
    "start_time": "2023-04-11T11:50:45.593Z"
   },
   {
    "duration": 362,
    "start_time": "2023-04-11T11:59:40.116Z"
   },
   {
    "duration": 47,
    "start_time": "2023-04-11T12:00:06.261Z"
   },
   {
    "duration": 5,
    "start_time": "2023-04-11T12:00:21.306Z"
   },
   {
    "duration": 5,
    "start_time": "2023-04-11T12:00:32.211Z"
   },
   {
    "duration": 2,
    "start_time": "2023-04-11T12:00:55.468Z"
   },
   {
    "duration": 4,
    "start_time": "2023-04-11T12:01:02.202Z"
   },
   {
    "duration": 36,
    "start_time": "2023-04-11T12:01:20.370Z"
   },
   {
    "duration": 17,
    "start_time": "2023-04-11T12:02:08.208Z"
   },
   {
    "duration": 4,
    "start_time": "2023-04-11T12:02:13.856Z"
   },
   {
    "duration": 5,
    "start_time": "2023-04-11T12:02:19.816Z"
   },
   {
    "duration": 4,
    "start_time": "2023-04-11T12:02:40.728Z"
   },
   {
    "duration": 4,
    "start_time": "2023-04-11T12:02:46.492Z"
   },
   {
    "duration": 7,
    "start_time": "2023-04-11T12:03:01.735Z"
   },
   {
    "duration": 4,
    "start_time": "2023-04-11T12:03:22.626Z"
   },
   {
    "duration": 3,
    "start_time": "2023-04-11T12:08:49.652Z"
   },
   {
    "duration": 16,
    "start_time": "2023-04-11T12:12:08.913Z"
   },
   {
    "duration": 26,
    "start_time": "2023-04-11T12:13:36.783Z"
   },
   {
    "duration": 694,
    "start_time": "2023-04-11T12:13:58.719Z"
   },
   {
    "duration": 85,
    "start_time": "2023-04-11T12:14:09.335Z"
   },
   {
    "duration": 4,
    "start_time": "2023-04-11T12:14:18.630Z"
   },
   {
    "duration": 65,
    "start_time": "2023-04-11T14:42:05.698Z"
   },
   {
    "duration": 3,
    "start_time": "2023-04-11T14:42:12.306Z"
   },
   {
    "duration": 64,
    "start_time": "2023-04-11T14:55:41.940Z"
   },
   {
    "duration": 17,
    "start_time": "2023-04-11T15:01:04.932Z"
   },
   {
    "duration": 2,
    "start_time": "2023-04-11T15:01:19.483Z"
   },
   {
    "duration": 19,
    "start_time": "2023-04-11T15:02:16.994Z"
   },
   {
    "duration": 24,
    "start_time": "2023-04-11T15:03:15.928Z"
   },
   {
    "duration": 4362,
    "start_time": "2023-04-11T15:03:52.567Z"
   },
   {
    "duration": 4,
    "start_time": "2023-04-11T15:03:57.232Z"
   },
   {
    "duration": 849,
    "start_time": "2023-04-11T15:04:02.150Z"
   },
   {
    "duration": 21,
    "start_time": "2023-04-11T15:04:33.246Z"
   },
   {
    "duration": 3,
    "start_time": "2023-04-11T15:06:16.163Z"
   },
   {
    "duration": 41044,
    "start_time": "2023-04-11T15:07:25.018Z"
   },
   {
    "duration": 5,
    "start_time": "2023-04-11T15:08:17.856Z"
   },
   {
    "duration": 554,
    "start_time": "2023-04-11T15:09:41.246Z"
   },
   {
    "duration": 3,
    "start_time": "2023-04-11T15:10:23.143Z"
   },
   {
    "duration": 883399,
    "start_time": "2023-04-11T15:11:05.398Z"
   },
   {
    "duration": 0,
    "start_time": "2023-04-11T15:25:48.799Z"
   },
   {
    "duration": 2,
    "start_time": "2023-04-11T15:25:59.095Z"
   },
   {
    "duration": 2,
    "start_time": "2023-04-11T15:26:04.130Z"
   },
   {
    "duration": 3,
    "start_time": "2023-04-11T15:28:20.684Z"
   },
   {
    "duration": 18,
    "start_time": "2023-04-11T15:28:48.657Z"
   },
   {
    "duration": 2495301,
    "start_time": "2023-04-11T15:29:10.200Z"
   },
   {
    "duration": 13,
    "start_time": "2023-04-11T16:10:45.502Z"
   },
   {
    "duration": 3,
    "start_time": "2023-04-11T16:14:06.092Z"
   },
   {
    "duration": 2048,
    "start_time": "2023-04-11T16:14:09.658Z"
   },
   {
    "duration": 14,
    "start_time": "2023-04-11T16:14:11.812Z"
   },
   {
    "duration": 8737,
    "start_time": "2023-04-11T16:15:12.770Z"
   },
   {
    "duration": 56,
    "start_time": "2023-04-11T16:16:21.376Z"
   },
   {
    "duration": 25,
    "start_time": "2023-04-11T16:16:29.983Z"
   },
   {
    "duration": 3585,
    "start_time": "2023-04-11T16:16:59.094Z"
   },
   {
    "duration": 14,
    "start_time": "2023-04-11T16:17:08.144Z"
   },
   {
    "duration": 3820,
    "start_time": "2023-04-11T16:18:08.709Z"
   },
   {
    "duration": 12,
    "start_time": "2023-04-11T16:18:14.423Z"
   },
   {
    "duration": 3,
    "start_time": "2023-04-11T16:46:12.625Z"
   },
   {
    "duration": 20,
    "start_time": "2023-04-11T16:48:52.124Z"
   },
   {
    "duration": 23,
    "start_time": "2023-04-11T16:50:04.291Z"
   },
   {
    "duration": 64,
    "start_time": "2023-04-11T16:50:35.731Z"
   },
   {
    "duration": 164,
    "start_time": "2023-04-11T16:55:21.034Z"
   },
   {
    "duration": 4887,
    "start_time": "2023-04-11T16:56:04.144Z"
   },
   {
    "duration": 4,
    "start_time": "2023-04-11T16:56:21.808Z"
   },
   {
    "duration": 1436,
    "start_time": "2023-04-11T16:58:34.989Z"
   },
   {
    "duration": 52370,
    "start_time": "2023-04-11T16:59:33.819Z"
   },
   {
    "duration": 8,
    "start_time": "2023-04-11T17:07:22.872Z"
   },
   {
    "duration": 5,
    "start_time": "2023-04-11T17:07:43.710Z"
   },
   {
    "duration": 17,
    "start_time": "2023-04-11T17:07:49.742Z"
   },
   {
    "duration": 4,
    "start_time": "2023-04-11T17:09:32.568Z"
   },
   {
    "duration": 32,
    "start_time": "2023-04-11T17:10:32.305Z"
   },
   {
    "duration": 17,
    "start_time": "2023-04-11T17:10:47.681Z"
   },
   {
    "duration": 217,
    "start_time": "2023-04-11T20:07:10.440Z"
   },
   {
    "duration": 5,
    "start_time": "2023-04-11T20:07:14.780Z"
   },
   {
    "duration": 4756,
    "start_time": "2023-04-11T20:15:09.744Z"
   },
   {
    "duration": 14,
    "start_time": "2023-04-11T20:15:14.501Z"
   },
   {
    "duration": 13,
    "start_time": "2023-04-11T20:17:32.296Z"
   },
   {
    "duration": 3,
    "start_time": "2023-04-11T20:20:40.779Z"
   },
   {
    "duration": 5,
    "start_time": "2023-04-11T20:26:35.087Z"
   },
   {
    "duration": 3,
    "start_time": "2023-04-11T20:27:01.770Z"
   },
   {
    "duration": 84,
    "start_time": "2023-04-11T20:27:04.910Z"
   },
   {
    "duration": 31,
    "start_time": "2023-04-11T20:27:26.011Z"
   },
   {
    "duration": 3,
    "start_time": "2023-04-11T20:27:52.755Z"
   },
   {
    "duration": 985,
    "start_time": "2023-04-11T20:27:53.650Z"
   },
   {
    "duration": 3,
    "start_time": "2023-04-11T20:29:04.890Z"
   },
   {
    "duration": 66,
    "start_time": "2023-04-11T20:29:05.535Z"
   },
   {
    "duration": 3,
    "start_time": "2023-04-11T20:29:07.635Z"
   },
   {
    "duration": 1015,
    "start_time": "2023-04-11T20:29:08.594Z"
   },
   {
    "duration": 27,
    "start_time": "2023-04-11T20:30:09.315Z"
   },
   {
    "duration": 33,
    "start_time": "2023-04-11T20:30:59.106Z"
   },
   {
    "duration": 4090,
    "start_time": "2023-04-11T20:32:37.662Z"
   },
   {
    "duration": 4,
    "start_time": "2023-04-11T20:32:47.842Z"
   },
   {
    "duration": 1331,
    "start_time": "2023-04-11T20:35:41.514Z"
   },
   {
    "duration": 104,
    "start_time": "2023-04-11T20:38:08.718Z"
   },
   {
    "duration": 3501,
    "start_time": "2023-04-11T20:38:20.689Z"
   },
   {
    "duration": 17,
    "start_time": "2023-04-11T20:38:24.192Z"
   },
   {
    "duration": 26,
    "start_time": "2023-04-11T21:12:18.936Z"
   },
   {
    "duration": 36,
    "start_time": "2023-04-11T21:12:46.728Z"
   },
   {
    "duration": 66,
    "start_time": "2023-04-11T21:19:48.128Z"
   },
   {
    "duration": 30,
    "start_time": "2023-04-11T21:19:55.568Z"
   },
   {
    "duration": 26,
    "start_time": "2023-04-11T21:20:48.259Z"
   },
   {
    "duration": 608,
    "start_time": "2023-04-11T21:21:14.615Z"
   },
   {
    "duration": 3,
    "start_time": "2023-04-11T21:23:36.619Z"
   },
   {
    "duration": 11,
    "start_time": "2023-04-11T21:23:38.951Z"
   },
   {
    "duration": 5,
    "start_time": "2023-04-11T21:23:47.839Z"
   },
   {
    "duration": 4,
    "start_time": "2023-04-11T21:23:50.259Z"
   },
   {
    "duration": 61,
    "start_time": "2023-04-11T21:23:58.563Z"
   },
   {
    "duration": 13,
    "start_time": "2023-04-11T21:24:14.195Z"
   },
   {
    "duration": 4,
    "start_time": "2023-04-11T21:24:30.671Z"
   },
   {
    "duration": 4758,
    "start_time": "2023-04-11T21:24:31.647Z"
   },
   {
    "duration": 1571,
    "start_time": "2023-04-11T21:25:15.392Z"
   },
   {
    "duration": 37068,
    "start_time": "2023-04-11T21:25:28.519Z"
   },
   {
    "duration": 17,
    "start_time": "2023-04-11T21:29:18.691Z"
   },
   {
    "duration": 16,
    "start_time": "2023-04-11T21:31:00.118Z"
   },
   {
    "duration": 13,
    "start_time": "2023-04-11T21:32:03.903Z"
   },
   {
    "duration": 17,
    "start_time": "2023-04-11T21:32:48.435Z"
   },
   {
    "duration": 3,
    "start_time": "2023-04-11T21:33:56.075Z"
   },
   {
    "duration": 10,
    "start_time": "2023-04-11T21:47:40.402Z"
   },
   {
    "duration": 34151,
    "start_time": "2023-04-11T21:48:27.846Z"
   },
   {
    "duration": 17,
    "start_time": "2023-04-11T21:49:15.461Z"
   },
   {
    "duration": 15,
    "start_time": "2023-04-11T21:50:41.849Z"
   },
   {
    "duration": 158,
    "start_time": "2023-04-11T21:52:13.981Z"
   },
   {
    "duration": 22,
    "start_time": "2023-04-11T21:52:30.413Z"
   },
   {
    "duration": 439,
    "start_time": "2023-04-11T21:53:24.769Z"
   },
   {
    "duration": 128,
    "start_time": "2023-04-11T21:53:33.237Z"
   },
   {
    "duration": 135,
    "start_time": "2023-04-11T21:54:45.968Z"
   },
   {
    "duration": 151,
    "start_time": "2023-04-11T21:55:45.513Z"
   },
   {
    "duration": 138,
    "start_time": "2023-04-11T21:56:00.297Z"
   },
   {
    "duration": 131,
    "start_time": "2023-04-11T21:56:28.261Z"
   },
   {
    "duration": 142,
    "start_time": "2023-04-11T21:57:14.057Z"
   },
   {
    "duration": 152,
    "start_time": "2023-04-11T21:57:42.033Z"
   },
   {
    "duration": 148,
    "start_time": "2023-04-11T21:58:13.577Z"
   },
   {
    "duration": 134,
    "start_time": "2023-04-11T21:58:33.033Z"
   },
   {
    "duration": 11,
    "start_time": "2023-04-11T22:25:25.470Z"
   },
   {
    "duration": 6,
    "start_time": "2023-04-11T22:26:23.950Z"
   },
   {
    "duration": 4,
    "start_time": "2023-04-11T22:26:32.770Z"
   },
   {
    "duration": 5,
    "start_time": "2023-04-11T22:26:45.106Z"
   },
   {
    "duration": 13,
    "start_time": "2023-04-11T22:27:02.426Z"
   },
   {
    "duration": 3,
    "start_time": "2023-04-11T22:30:22.563Z"
   },
   {
    "duration": 785723,
    "start_time": "2023-04-11T22:38:22.085Z"
   },
   {
    "duration": 4,
    "start_time": "2023-04-11T22:58:32.632Z"
   },
   {
    "duration": 4,
    "start_time": "2023-04-11T22:58:43.516Z"
   },
   {
    "duration": 1835,
    "start_time": "2023-04-12T20:24:24.684Z"
   },
   {
    "duration": 4,
    "start_time": "2023-04-12T20:24:27.877Z"
   },
   {
    "duration": 2668,
    "start_time": "2023-04-12T20:25:08.427Z"
   },
   {
    "duration": 4043,
    "start_time": "2023-04-12T20:26:32.473Z"
   },
   {
    "duration": 17,
    "start_time": "2023-04-12T20:26:40.973Z"
   },
   {
    "duration": 29,
    "start_time": "2023-04-12T20:26:56.800Z"
   },
   {
    "duration": 37,
    "start_time": "2023-04-12T20:27:06.393Z"
   },
   {
    "duration": 63,
    "start_time": "2023-04-12T20:27:13.652Z"
   },
   {
    "duration": 651,
    "start_time": "2023-04-12T20:27:17.672Z"
   },
   {
    "duration": 2,
    "start_time": "2023-04-12T20:27:28.576Z"
   },
   {
    "duration": 58,
    "start_time": "2023-04-12T20:27:32.288Z"
   },
   {
    "duration": 3,
    "start_time": "2023-04-12T20:27:37.777Z"
   },
   {
    "duration": 5051,
    "start_time": "2023-04-12T20:27:45.479Z"
   },
   {
    "duration": 1536,
    "start_time": "2023-04-12T20:27:53.508Z"
   },
   {
    "duration": 35404,
    "start_time": "2023-04-12T20:28:14.833Z"
   },
   {
    "duration": 19,
    "start_time": "2023-04-12T20:28:59.943Z"
   },
   {
    "duration": 147,
    "start_time": "2023-04-12T20:29:04.295Z"
   },
   {
    "duration": 3,
    "start_time": "2023-04-12T20:30:27.200Z"
   },
   {
    "duration": 5,
    "start_time": "2023-04-12T20:47:26.176Z"
   },
   {
    "duration": 6083199,
    "start_time": "2023-04-12T20:47:58.842Z"
   },
   {
    "duration": 0,
    "start_time": "2023-04-12T22:29:22.044Z"
   },
   {
    "duration": 20,
    "start_time": "2023-04-12T22:29:30.580Z"
   },
   {
    "duration": 233,
    "start_time": "2023-04-12T22:29:58.960Z"
   },
   {
    "duration": 90963,
    "start_time": "2023-04-12T22:30:12.036Z"
   },
   {
    "duration": 0,
    "start_time": "2023-04-12T22:31:43.001Z"
   },
   {
    "duration": 17,
    "start_time": "2023-04-12T22:31:49.960Z"
   },
   {
    "duration": 5,
    "start_time": "2023-04-12T22:32:35.983Z"
   },
   {
    "duration": 703227,
    "start_time": "2023-04-12T22:32:43.568Z"
   },
   {
    "duration": 0,
    "start_time": "2023-04-12T22:44:26.797Z"
   },
   {
    "duration": 65,
    "start_time": "2023-04-12T22:45:08.402Z"
   },
   {
    "duration": 414912,
    "start_time": "2023-04-12T22:46:00.871Z"
   },
   {
    "duration": 0,
    "start_time": "2023-04-12T22:52:55.786Z"
   },
   {
    "duration": 216048,
    "start_time": "2023-04-12T22:53:04.006Z"
   },
   {
    "duration": 6,
    "start_time": "2023-04-12T22:57:52.826Z"
   },
   {
    "duration": 23,
    "start_time": "2023-04-12T22:59:58.850Z"
   },
   {
    "duration": 14,
    "start_time": "2023-04-12T23:05:33.682Z"
   },
   {
    "duration": 1930,
    "start_time": "2023-04-12T23:06:11.409Z"
   },
   {
    "duration": 4,
    "start_time": "2023-04-12T23:06:13.341Z"
   },
   {
    "duration": 3769,
    "start_time": "2023-04-12T23:06:30.693Z"
   },
   {
    "duration": 17,
    "start_time": "2023-04-12T23:06:35.305Z"
   },
   {
    "duration": 25,
    "start_time": "2023-04-12T23:06:38.481Z"
   },
   {
    "duration": 32,
    "start_time": "2023-04-12T23:06:42.921Z"
   },
   {
    "duration": 63,
    "start_time": "2023-04-12T23:06:47.925Z"
   },
   {
    "duration": 587,
    "start_time": "2023-04-12T23:06:49.641Z"
   },
   {
    "duration": 3,
    "start_time": "2023-04-12T23:06:56.429Z"
   },
   {
    "duration": 57,
    "start_time": "2023-04-12T23:06:58.313Z"
   },
   {
    "duration": 115,
    "start_time": "2023-04-12T23:07:02.325Z"
   },
   {
    "duration": 4,
    "start_time": "2023-04-12T23:07:56.929Z"
   },
   {
    "duration": 4,
    "start_time": "2023-04-12T23:08:17.673Z"
   },
   {
    "duration": 4593,
    "start_time": "2023-04-12T23:08:21.421Z"
   },
   {
    "duration": 1455,
    "start_time": "2023-04-12T23:08:27.653Z"
   },
   {
    "duration": 10,
    "start_time": "2023-04-12T23:08:38.909Z"
   },
   {
    "duration": 1836,
    "start_time": "2023-04-12T23:09:28.705Z"
   },
   {
    "duration": 126,
    "start_time": "2023-04-12T23:09:30.543Z"
   },
   {
    "duration": 4,
    "start_time": "2023-04-12T23:10:00.745Z"
   },
   {
    "duration": 3779,
    "start_time": "2023-04-12T23:10:16.277Z"
   },
   {
    "duration": 38,
    "start_time": "2023-04-12T23:10:25.769Z"
   },
   {
    "duration": 65,
    "start_time": "2023-04-12T23:10:29.845Z"
   },
   {
    "duration": 624,
    "start_time": "2023-04-12T23:10:30.997Z"
   },
   {
    "duration": 4,
    "start_time": "2023-04-12T23:10:35.006Z"
   },
   {
    "duration": 63,
    "start_time": "2023-04-12T23:10:35.901Z"
   },
   {
    "duration": 4,
    "start_time": "2023-04-12T23:10:37.225Z"
   },
   {
    "duration": 4521,
    "start_time": "2023-04-12T23:10:39.152Z"
   },
   {
    "duration": 1582,
    "start_time": "2023-04-12T23:10:43.675Z"
   },
   {
    "duration": 13,
    "start_time": "2023-04-12T23:11:11.077Z"
   },
   {
    "duration": 22,
    "start_time": "2023-04-12T23:11:37.961Z"
   },
   {
    "duration": 2000,
    "start_time": "2023-04-12T23:12:15.722Z"
   },
   {
    "duration": 9,
    "start_time": "2023-04-12T23:12:17.724Z"
   },
   {
    "duration": 3915,
    "start_time": "2023-04-12T23:12:32.881Z"
   },
   {
    "duration": 68,
    "start_time": "2023-04-12T23:12:40.725Z"
   },
   {
    "duration": 3,
    "start_time": "2023-04-12T23:12:44.985Z"
   },
   {
    "duration": 62,
    "start_time": "2023-04-12T23:12:45.409Z"
   },
   {
    "duration": 4,
    "start_time": "2023-04-12T23:12:45.989Z"
   },
   {
    "duration": 4649,
    "start_time": "2023-04-12T23:12:47.157Z"
   },
   {
    "duration": 1467,
    "start_time": "2023-04-12T23:12:51.808Z"
   },
   {
    "duration": 5,
    "start_time": "2023-04-12T23:18:56.701Z"
   },
   {
    "duration": 2003,
    "start_time": "2023-04-13T13:44:06.736Z"
   },
   {
    "duration": 5,
    "start_time": "2023-04-13T13:44:15.617Z"
   },
   {
    "duration": 3896,
    "start_time": "2023-04-13T13:44:31.694Z"
   },
   {
    "duration": 19,
    "start_time": "2023-04-13T13:44:35.592Z"
   },
   {
    "duration": 28,
    "start_time": "2023-04-13T13:44:37.662Z"
   },
   {
    "duration": 36,
    "start_time": "2023-04-13T13:44:39.153Z"
   },
   {
    "duration": 59,
    "start_time": "2023-04-13T13:44:43.846Z"
   },
   {
    "duration": 664,
    "start_time": "2023-04-13T13:44:44.933Z"
   },
   {
    "duration": 3,
    "start_time": "2023-04-13T13:44:57.030Z"
   },
   {
    "duration": 66,
    "start_time": "2023-04-13T13:44:59.131Z"
   },
   {
    "duration": 4,
    "start_time": "2023-04-13T13:44:59.438Z"
   },
   {
    "duration": 5516,
    "start_time": "2023-04-13T13:45:01.141Z"
   },
   {
    "duration": 1838,
    "start_time": "2023-04-13T13:45:06.659Z"
   },
   {
    "duration": 216,
    "start_time": "2023-04-13T13:47:00.949Z"
   },
   {
    "duration": 2030,
    "start_time": "2023-04-13T13:55:47.237Z"
   },
   {
    "duration": 5,
    "start_time": "2023-04-13T13:55:50.249Z"
   },
   {
    "duration": 3427,
    "start_time": "2023-04-13T13:55:51.772Z"
   },
   {
    "duration": 17,
    "start_time": "2023-04-13T13:58:29.584Z"
   },
   {
    "duration": 134,
    "start_time": "2023-04-13T13:59:23.806Z"
   },
   {
    "duration": 13,
    "start_time": "2023-04-13T13:59:38.161Z"
   },
   {
    "duration": 13,
    "start_time": "2023-04-13T13:59:51.285Z"
   },
   {
    "duration": 4,
    "start_time": "2023-04-13T14:01:55.522Z"
   },
   {
    "duration": 2047,
    "start_time": "2023-04-13T14:02:42.025Z"
   },
   {
    "duration": 27,
    "start_time": "2023-04-13T14:04:43.962Z"
   },
   {
    "duration": 14,
    "start_time": "2023-04-13T14:06:06.548Z"
   },
   {
    "duration": 31,
    "start_time": "2023-04-13T14:08:08.209Z"
   },
   {
    "duration": 3,
    "start_time": "2023-04-13T14:08:25.873Z"
   },
   {
    "duration": 4,
    "start_time": "2023-04-13T14:10:28.348Z"
   },
   {
    "duration": 45147,
    "start_time": "2023-04-13T14:10:37.133Z"
   },
   {
    "duration": 14,
    "start_time": "2023-04-13T14:44:48.503Z"
   },
   {
    "duration": 3,
    "start_time": "2023-04-13T14:53:25.163Z"
   },
   {
    "duration": 161666,
    "start_time": "2023-04-13T14:54:32.224Z"
   },
   {
    "duration": 13,
    "start_time": "2023-04-13T14:57:13.892Z"
   },
   {
    "duration": 3,
    "start_time": "2023-04-13T14:57:42.747Z"
   },
   {
    "duration": 160756,
    "start_time": "2023-04-13T14:57:44.595Z"
   },
   {
    "duration": 14,
    "start_time": "2023-04-13T15:00:25.353Z"
   },
   {
    "duration": 47,
    "start_time": "2023-04-13T15:09:59.575Z"
   },
   {
    "duration": 3,
    "start_time": "2023-04-13T15:10:14.253Z"
   },
   {
    "duration": 298,
    "start_time": "2023-04-13T15:10:38.725Z"
   },
   {
    "duration": 4,
    "start_time": "2023-04-13T15:11:16.251Z"
   },
   {
    "duration": 241,
    "start_time": "2023-04-13T15:11:17.572Z"
   },
   {
    "duration": 225,
    "start_time": "2023-04-13T15:11:33.292Z"
   },
   {
    "duration": 3,
    "start_time": "2023-04-13T15:11:47.891Z"
   },
   {
    "duration": 260,
    "start_time": "2023-04-13T15:11:48.643Z"
   },
   {
    "duration": 3,
    "start_time": "2023-04-13T15:14:13.295Z"
   },
   {
    "duration": 213,
    "start_time": "2023-04-13T15:14:14.144Z"
   },
   {
    "duration": 38,
    "start_time": "2023-04-13T15:15:16.648Z"
   },
   {
    "duration": 4,
    "start_time": "2023-04-13T15:15:26.637Z"
   },
   {
    "duration": 238,
    "start_time": "2023-04-13T15:15:28.022Z"
   },
   {
    "duration": 3,
    "start_time": "2023-04-13T15:15:38.301Z"
   },
   {
    "duration": 227,
    "start_time": "2023-04-13T15:15:39.189Z"
   },
   {
    "duration": 4,
    "start_time": "2023-04-13T15:17:51.489Z"
   },
   {
    "duration": 197,
    "start_time": "2023-04-13T15:17:56.241Z"
   },
   {
    "duration": 3,
    "start_time": "2023-04-13T15:25:50.583Z"
   },
   {
    "duration": 3,
    "start_time": "2023-04-13T15:26:51.810Z"
   },
   {
    "duration": 3,
    "start_time": "2023-04-13T15:35:59.852Z"
   },
   {
    "duration": 66,
    "start_time": "2023-04-13T15:36:15.380Z"
   },
   {
    "duration": 11346,
    "start_time": "2023-04-13T15:37:33.770Z"
   },
   {
    "duration": 2030,
    "start_time": "2023-04-13T15:57:41.788Z"
   },
   {
    "duration": 4,
    "start_time": "2023-04-13T15:57:43.820Z"
   },
   {
    "duration": 5537,
    "start_time": "2023-04-13T15:57:59.848Z"
   },
   {
    "duration": 18,
    "start_time": "2023-04-13T15:58:06.900Z"
   },
   {
    "duration": 27,
    "start_time": "2023-04-13T15:58:21.266Z"
   },
   {
    "duration": 35,
    "start_time": "2023-04-13T15:58:22.298Z"
   },
   {
    "duration": 62,
    "start_time": "2023-04-13T15:58:28.898Z"
   },
   {
    "duration": 3,
    "start_time": "2023-04-13T15:58:38.204Z"
   },
   {
    "duration": 72,
    "start_time": "2023-04-13T15:58:39.194Z"
   },
   {
    "duration": 4,
    "start_time": "2023-04-13T15:58:40.580Z"
   },
   {
    "duration": 5208,
    "start_time": "2023-04-13T15:58:41.314Z"
   },
   {
    "duration": 1654,
    "start_time": "2023-04-13T15:58:46.524Z"
   },
   {
    "duration": 276,
    "start_time": "2023-04-13T19:28:17.234Z"
   },
   {
    "duration": 3,
    "start_time": "2023-04-13T19:28:23.142Z"
   },
   {
    "duration": 3109,
    "start_time": "2023-04-13T19:28:23.795Z"
   },
   {
    "duration": 10,
    "start_time": "2023-04-13T19:29:05.122Z"
   },
   {
    "duration": 3,
    "start_time": "2023-04-13T19:29:09.858Z"
   },
   {
    "duration": 2032,
    "start_time": "2023-04-13T19:29:14.075Z"
   },
   {
    "duration": 13,
    "start_time": "2023-04-13T19:29:16.479Z"
   },
   {
    "duration": 3,
    "start_time": "2023-04-13T19:29:20.258Z"
   },
   {
    "duration": 44090,
    "start_time": "2023-04-13T19:29:22.054Z"
   },
   {
    "duration": 3,
    "start_time": "2023-04-13T19:30:06.146Z"
   },
   {
    "duration": 159888,
    "start_time": "2023-04-13T19:30:11.483Z"
   },
   {
    "duration": 21,
    "start_time": "2023-04-13T19:32:51.373Z"
   },
   {
    "duration": 1835,
    "start_time": "2023-04-13T19:37:56.622Z"
   },
   {
    "duration": 4,
    "start_time": "2023-04-13T19:37:58.536Z"
   },
   {
    "duration": 3798,
    "start_time": "2023-04-13T19:38:25.045Z"
   },
   {
    "duration": 25,
    "start_time": "2023-04-13T19:38:28.846Z"
   },
   {
    "duration": 64,
    "start_time": "2023-04-13T19:38:39.181Z"
   },
   {
    "duration": 3,
    "start_time": "2023-04-13T19:39:41.396Z"
   },
   {
    "duration": 60,
    "start_time": "2023-04-13T19:39:43.025Z"
   },
   {
    "duration": 4,
    "start_time": "2023-04-13T19:39:46.810Z"
   },
   {
    "duration": 5194,
    "start_time": "2023-04-13T19:39:58.718Z"
   },
   {
    "duration": 1658,
    "start_time": "2023-04-13T19:40:03.914Z"
   },
   {
    "duration": 7,
    "start_time": "2023-04-13T20:30:54.250Z"
   },
   {
    "duration": 139,
    "start_time": "2023-04-13T20:33:21.763Z"
   },
   {
    "duration": 4,
    "start_time": "2023-04-13T20:33:33.433Z"
   },
   {
    "duration": 6356193,
    "start_time": "2023-04-13T20:34:03.229Z"
   },
   {
    "duration": 47,
    "start_time": "2023-04-13T22:22:26.294Z"
   },
   {
    "duration": 428160,
    "start_time": "2023-04-13T22:22:40.235Z"
   },
   {
    "duration": 288,
    "start_time": "2023-04-14T08:11:48.900Z"
   },
   {
    "duration": 5,
    "start_time": "2023-04-14T08:11:54.501Z"
   },
   {
    "duration": 813,
    "start_time": "2023-04-14T08:13:08.867Z"
   },
   {
    "duration": 3675,
    "start_time": "2023-04-14T08:13:11.077Z"
   },
   {
    "duration": 9,
    "start_time": "2023-04-14T08:13:52.592Z"
   },
   {
    "duration": 745,
    "start_time": "2023-04-14T08:14:29.558Z"
   },
   {
    "duration": 3,
    "start_time": "2023-04-14T08:14:39.208Z"
   },
   {
    "duration": 10,
    "start_time": "2023-04-14T08:14:39.629Z"
   },
   {
    "duration": 10,
    "start_time": "2023-04-14T08:14:41.103Z"
   },
   {
    "duration": 33,
    "start_time": "2023-04-14T08:14:43.933Z"
   },
   {
    "duration": 12,
    "start_time": "2023-04-14T08:14:49.351Z"
   },
   {
    "duration": 28,
    "start_time": "2023-04-14T08:14:49.799Z"
   },
   {
    "duration": 226,
    "start_time": "2023-04-14T08:14:53.101Z"
   },
   {
    "duration": 112,
    "start_time": "2023-04-14T08:14:54.991Z"
   },
   {
    "duration": 3,
    "start_time": "2023-04-14T08:18:51.905Z"
   },
   {
    "duration": 813,
    "start_time": "2023-04-14T08:20:21.933Z"
   },
   {
    "duration": 2203,
    "start_time": "2023-04-14T08:20:45.843Z"
   },
   {
    "duration": 13,
    "start_time": "2023-04-14T08:21:15.284Z"
   },
   {
    "duration": 10713,
    "start_time": "2023-04-14T08:25:22.607Z"
   },
   {
    "duration": 3128,
    "start_time": "2023-04-14T08:26:02.177Z"
   },
   {
    "duration": 507,
    "start_time": "2023-04-14T08:28:10.686Z"
   },
   {
    "duration": 3,
    "start_time": "2023-04-14T08:32:36.783Z"
   },
   {
    "duration": 1015425,
    "start_time": "2023-04-14T08:32:38.426Z"
   },
   {
    "duration": 20,
    "start_time": "2023-04-14T08:49:33.854Z"
   },
   {
    "duration": 10869,
    "start_time": "2023-04-14T08:52:31.028Z"
   },
   {
    "duration": 3576,
    "start_time": "2023-04-14T08:53:12.690Z"
   },
   {
    "duration": 18,
    "start_time": "2023-04-14T08:53:16.362Z"
   },
   {
    "duration": 28,
    "start_time": "2023-04-14T08:53:20.954Z"
   },
   {
    "duration": 58,
    "start_time": "2023-04-14T08:53:29.154Z"
   },
   {
    "duration": 624,
    "start_time": "2023-04-14T08:53:30.457Z"
   },
   {
    "duration": 3,
    "start_time": "2023-04-14T08:54:38.552Z"
   },
   {
    "duration": 85,
    "start_time": "2023-04-14T08:54:47.513Z"
   },
   {
    "duration": 4,
    "start_time": "2023-04-14T08:54:52.134Z"
   },
   {
    "duration": 5696,
    "start_time": "2023-04-14T08:54:54.206Z"
   },
   {
    "duration": 1437,
    "start_time": "2023-04-14T08:54:59.904Z"
   },
   {
    "duration": 4,
    "start_time": "2023-04-14T08:55:14.694Z"
   },
   {
    "duration": 236,
    "start_time": "2023-04-14T08:55:56.406Z"
   },
   {
    "duration": 3731446,
    "start_time": "2023-04-14T08:56:08.053Z"
   },
   {
    "duration": 265412,
    "start_time": "2023-04-14T11:37:29.543Z"
   },
   {
    "duration": 290,
    "start_time": "2023-04-14T14:42:06.301Z"
   },
   {
    "duration": 20,
    "start_time": "2023-04-14T14:59:27.066Z"
   },
   {
    "duration": 11,
    "start_time": "2023-04-14T15:01:50.938Z"
   },
   {
    "duration": 0,
    "start_time": "2023-04-14T16:00:27.348Z"
   },
   {
    "duration": 0,
    "start_time": "2023-04-14T16:00:27.349Z"
   },
   {
    "duration": 2193,
    "start_time": "2023-04-14T16:00:54.694Z"
   },
   {
    "duration": 11,
    "start_time": "2023-04-14T16:00:56.895Z"
   },
   {
    "duration": 3797,
    "start_time": "2023-04-14T16:01:11.964Z"
   },
   {
    "duration": 22,
    "start_time": "2023-04-14T16:01:15.763Z"
   },
   {
    "duration": 30,
    "start_time": "2023-04-14T16:01:24.829Z"
   },
   {
    "duration": 73,
    "start_time": "2023-04-14T16:01:28.750Z"
   },
   {
    "duration": 3,
    "start_time": "2023-04-14T16:01:32.052Z"
   },
   {
    "duration": 78,
    "start_time": "2023-04-14T16:01:32.574Z"
   },
   {
    "duration": 4,
    "start_time": "2023-04-14T16:01:33.620Z"
   },
   {
    "duration": 6070,
    "start_time": "2023-04-14T16:01:34.060Z"
   },
   {
    "duration": 1452,
    "start_time": "2023-04-14T16:01:40.133Z"
   },
   {
    "duration": 151,
    "start_time": "2023-04-14T16:01:50.173Z"
   },
   {
    "duration": 4,
    "start_time": "2023-04-14T16:02:04.083Z"
   },
   {
    "duration": 2414,
    "start_time": "2023-04-14T19:23:28.262Z"
   },
   {
    "duration": 6,
    "start_time": "2023-04-14T19:23:31.910Z"
   },
   {
    "duration": 144,
    "start_time": "2023-04-14T19:23:39.318Z"
   },
   {
    "duration": 3,
    "start_time": "2023-04-14T19:23:52.874Z"
   },
   {
    "duration": 3460,
    "start_time": "2023-04-14T19:23:54.622Z"
   },
   {
    "duration": 12,
    "start_time": "2023-04-14T19:24:02.966Z"
   },
   {
    "duration": 8,
    "start_time": "2023-04-14T19:24:05.218Z"
   },
   {
    "duration": 35,
    "start_time": "2023-04-14T19:24:07.910Z"
   },
   {
    "duration": 15,
    "start_time": "2023-04-14T19:24:10.238Z"
   },
   {
    "duration": 30,
    "start_time": "2023-04-14T19:24:12.091Z"
   },
   {
    "duration": 242,
    "start_time": "2023-04-14T19:24:16.683Z"
   },
   {
    "duration": 118,
    "start_time": "2023-04-14T19:24:17.558Z"
   },
   {
    "duration": 4,
    "start_time": "2023-04-14T19:24:23.545Z"
   },
   {
    "duration": 2362,
    "start_time": "2023-04-14T19:24:25.522Z"
   },
   {
    "duration": 24,
    "start_time": "2023-04-14T19:24:27.886Z"
   },
   {
    "duration": 13734,
    "start_time": "2023-04-14T19:24:33.578Z"
   },
   {
    "duration": 2917,
    "start_time": "2023-04-14T19:24:47.315Z"
   },
   {
    "duration": 693,
    "start_time": "2023-04-14T19:24:50.235Z"
   },
   {
    "duration": 4,
    "start_time": "2023-04-14T19:24:56.822Z"
   },
   {
    "duration": 1157804,
    "start_time": "2023-04-14T19:24:57.997Z"
   },
   {
    "duration": 19,
    "start_time": "2023-04-14T19:44:15.807Z"
   },
   {
    "duration": 263,
    "start_time": "2023-04-14T19:48:51.051Z"
   },
   {
    "duration": 28,
    "start_time": "2023-04-14T19:49:07.216Z"
   },
   {
    "duration": 3,
    "start_time": "2023-04-14T19:49:20.255Z"
   },
   {
    "duration": 19,
    "start_time": "2023-04-14T19:49:21.326Z"
   },
   {
    "duration": 599,
    "start_time": "2023-04-14T19:49:27.030Z"
   },
   {
    "duration": 10457,
    "start_time": "2023-04-14T19:50:02.858Z"
   },
   {
    "duration": 3841,
    "start_time": "2023-04-14T19:50:15.878Z"
   },
   {
    "duration": 8,
    "start_time": "2023-04-14T19:50:19.722Z"
   },
   {
    "duration": 3,
    "start_time": "2023-04-14T19:50:56.659Z"
   },
   {
    "duration": 80,
    "start_time": "2023-04-14T19:50:58.159Z"
   },
   {
    "duration": 4,
    "start_time": "2023-04-14T19:51:00.239Z"
   },
   {
    "duration": 634,
    "start_time": "2023-04-14T19:51:01.578Z"
   },
   {
    "duration": 27,
    "start_time": "2023-04-14T19:51:56.316Z"
   },
   {
    "duration": 38,
    "start_time": "2023-04-14T19:52:33.266Z"
   },
   {
    "duration": 27,
    "start_time": "2023-04-14T19:55:00.816Z"
   },
   {
    "duration": 35,
    "start_time": "2023-04-14T19:55:34.617Z"
   },
   {
    "duration": 43,
    "start_time": "2023-04-14T19:56:31.367Z"
   },
   {
    "duration": 62,
    "start_time": "2023-04-14T19:56:37.287Z"
   },
   {
    "duration": 27,
    "start_time": "2023-04-14T19:56:54.116Z"
   },
   {
    "duration": 633,
    "start_time": "2023-04-14T19:57:41.698Z"
   },
   {
    "duration": 3,
    "start_time": "2023-04-14T19:57:47.522Z"
   },
   {
    "duration": 74,
    "start_time": "2023-04-14T19:57:49.117Z"
   },
   {
    "duration": 5,
    "start_time": "2023-04-14T19:57:50.254Z"
   },
   {
    "duration": 6591,
    "start_time": "2023-04-14T19:57:51.552Z"
   },
   {
    "duration": 1586,
    "start_time": "2023-04-14T19:57:58.146Z"
   },
   {
    "duration": 63762,
    "start_time": "2023-04-14T19:58:08.530Z"
   },
   {
    "duration": 31,
    "start_time": "2023-04-14T19:59:12.294Z"
   },
   {
    "duration": 222,
    "start_time": "2023-04-14T19:59:12.327Z"
   },
   {
    "duration": 5,
    "start_time": "2023-04-14T19:59:37.271Z"
   },
   {
    "duration": 0,
    "start_time": "2023-04-14T20:01:01.851Z"
   },
   {
    "duration": 726828,
    "start_time": "2023-04-14T20:01:27.785Z"
   },
   {
    "duration": 5,
    "start_time": "2023-04-14T20:13:34.615Z"
   },
   {
    "duration": 4,
    "start_time": "2023-04-14T20:15:15.970Z"
   },
   {
    "duration": 70,
    "start_time": "2023-04-14T20:16:42.112Z"
   },
   {
    "duration": 68,
    "start_time": "2023-04-14T20:16:51.833Z"
   },
   {
    "duration": 130,
    "start_time": "2023-04-14T20:17:13.848Z"
   },
   {
    "duration": 5,
    "start_time": "2023-04-14T20:23:40.394Z"
   },
   {
    "duration": 90,
    "start_time": "2023-04-14T20:24:57.214Z"
   },
   {
    "duration": 4,
    "start_time": "2023-04-14T20:25:21.566Z"
   },
   {
    "duration": 434823,
    "start_time": "2023-04-14T20:25:28.189Z"
   },
   {
    "duration": 4,
    "start_time": "2023-04-14T20:35:36.213Z"
   },
   {
    "duration": 4,
    "start_time": "2023-04-14T20:36:04.688Z"
   },
   {
    "duration": 97,
    "start_time": "2023-04-14T20:36:59.889Z"
   },
   {
    "duration": 94,
    "start_time": "2023-04-14T20:39:12.428Z"
   },
   {
    "duration": 99,
    "start_time": "2023-04-14T20:39:33.937Z"
   },
   {
    "duration": 109,
    "start_time": "2023-04-14T20:42:55.799Z"
   },
   {
    "duration": 19,
    "start_time": "2023-04-14T20:43:40.260Z"
   },
   {
    "duration": 23,
    "start_time": "2023-04-14T20:44:00.724Z"
   },
   {
    "duration": 25,
    "start_time": "2023-04-14T20:44:07.084Z"
   },
   {
    "duration": 5,
    "start_time": "2023-04-14T20:44:47.855Z"
   },
   {
    "duration": 4,
    "start_time": "2023-04-14T20:46:03.660Z"
   },
   {
    "duration": 110,
    "start_time": "2023-04-14T20:47:01.908Z"
   },
   {
    "duration": 36485,
    "start_time": "2023-04-14T20:50:58.767Z"
   },
   {
    "duration": 3,
    "start_time": "2023-04-14T20:51:35.254Z"
   },
   {
    "duration": 73811,
    "start_time": "2023-04-14T20:52:02.363Z"
   },
   {
    "duration": 1351441,
    "start_time": "2023-04-14T20:54:13.495Z"
   },
   {
    "duration": 3,
    "start_time": "2023-04-14T21:16:44.938Z"
   },
   {
    "duration": 6000723,
    "start_time": "2023-04-14T21:18:46.882Z"
   },
   {
    "duration": 60,
    "start_time": "2023-04-14T22:58:47.607Z"
   },
   {
    "duration": 1876,
    "start_time": "2023-04-14T23:01:06.826Z"
   },
   {
    "duration": 4,
    "start_time": "2023-04-14T23:01:08.705Z"
   },
   {
    "duration": 3532,
    "start_time": "2023-04-14T23:01:21.018Z"
   },
   {
    "duration": 15,
    "start_time": "2023-04-14T23:01:24.552Z"
   },
   {
    "duration": 30,
    "start_time": "2023-04-14T23:01:24.569Z"
   },
   {
    "duration": 35,
    "start_time": "2023-04-14T23:01:28.626Z"
   },
   {
    "duration": 54,
    "start_time": "2023-04-14T23:01:32.978Z"
   },
   {
    "duration": 27,
    "start_time": "2023-04-14T23:01:38.262Z"
   },
   {
    "duration": 591,
    "start_time": "2023-04-14T23:01:39.697Z"
   },
   {
    "duration": 3,
    "start_time": "2023-04-14T23:01:43.766Z"
   },
   {
    "duration": 62,
    "start_time": "2023-04-14T23:01:44.261Z"
   },
   {
    "duration": 4,
    "start_time": "2023-04-14T23:01:45.310Z"
   },
   {
    "duration": 5482,
    "start_time": "2023-04-14T23:01:45.905Z"
   },
   {
    "duration": 1370,
    "start_time": "2023-04-14T23:01:51.389Z"
   },
   {
    "duration": 179,
    "start_time": "2023-04-14T23:01:57.694Z"
   },
   {
    "duration": 11,
    "start_time": "2023-04-14T23:01:58.191Z"
   },
   {
    "duration": 4,
    "start_time": "2023-04-14T23:02:19.958Z"
   },
   {
    "duration": 61,
    "start_time": "2023-04-14T23:02:28.178Z"
   },
   {
    "duration": 52,
    "start_time": "2023-04-14T23:03:27.046Z"
   },
   {
    "duration": 11,
    "start_time": "2023-04-14T23:12:17.047Z"
   },
   {
    "duration": 6,
    "start_time": "2023-04-14T23:31:02.027Z"
   },
   {
    "duration": 10,
    "start_time": "2023-04-14T23:31:07.876Z"
   },
   {
    "duration": 8,
    "start_time": "2023-04-14T23:31:26.135Z"
   },
   {
    "duration": 10,
    "start_time": "2023-04-14T23:31:27.539Z"
   },
   {
    "duration": 6,
    "start_time": "2023-04-14T23:31:38.019Z"
   },
   {
    "duration": 3,
    "start_time": "2023-04-14T23:31:38.715Z"
   },
   {
    "duration": 1537,
    "start_time": "2023-04-15T01:05:30.600Z"
   },
   {
    "duration": 126,
    "start_time": "2023-04-15T01:05:34.996Z"
   },
   {
    "duration": 5,
    "start_time": "2023-04-15T01:05:48.220Z"
   },
   {
    "duration": 4,
    "start_time": "2023-04-15T01:05:49.380Z"
   },
   {
    "duration": 3422,
    "start_time": "2023-04-15T01:06:04.980Z"
   },
   {
    "duration": 27,
    "start_time": "2023-04-15T01:06:08.692Z"
   },
   {
    "duration": 60,
    "start_time": "2023-04-15T01:06:13.256Z"
   },
   {
    "duration": 25,
    "start_time": "2023-04-15T01:06:13.928Z"
   },
   {
    "duration": 4,
    "start_time": "2023-04-15T01:06:22.064Z"
   },
   {
    "duration": 85,
    "start_time": "2023-04-15T01:06:33.472Z"
   },
   {
    "duration": 3,
    "start_time": "2023-04-15T01:06:46.012Z"
   },
   {
    "duration": 62,
    "start_time": "2023-04-15T01:06:47.712Z"
   },
   {
    "duration": 174,
    "start_time": "2023-04-15T01:06:48.664Z"
   },
   {
    "duration": 4961,
    "start_time": "2023-04-15T01:06:49.812Z"
   },
   {
    "duration": 1146,
    "start_time": "2023-04-15T01:06:54.775Z"
   },
   {
    "duration": 76,
    "start_time": "2023-04-15T01:07:21.360Z"
   },
   {
    "duration": 60,
    "start_time": "2023-04-15T01:07:31.836Z"
   },
   {
    "duration": 75,
    "start_time": "2023-04-15T01:08:26.324Z"
   },
   {
    "duration": 10,
    "start_time": "2023-04-15T01:08:46.148Z"
   },
   {
    "duration": 28,
    "start_time": "2023-04-15T01:09:02.984Z"
   },
   {
    "duration": 1511,
    "start_time": "2023-04-15T01:56:33.874Z"
   },
   {
    "duration": 5,
    "start_time": "2023-04-15T01:56:35.387Z"
   },
   {
    "duration": 792,
    "start_time": "2023-04-15T01:56:35.394Z"
   },
   {
    "duration": 11,
    "start_time": "2023-04-15T01:56:36.188Z"
   },
   {
    "duration": 20,
    "start_time": "2023-04-15T01:56:36.200Z"
   },
   {
    "duration": 41,
    "start_time": "2023-04-15T01:56:36.221Z"
   },
   {
    "duration": 11,
    "start_time": "2023-04-15T01:56:36.263Z"
   },
   {
    "duration": 35,
    "start_time": "2023-04-15T01:56:36.276Z"
   },
   {
    "duration": 231,
    "start_time": "2023-04-15T01:56:36.312Z"
   },
   {
    "duration": 190,
    "start_time": "2023-04-15T01:56:36.545Z"
   },
   {
    "duration": 3,
    "start_time": "2023-04-15T01:56:36.737Z"
   },
   {
    "duration": 2014,
    "start_time": "2023-04-15T01:56:36.741Z"
   },
   {
    "duration": 11,
    "start_time": "2023-04-15T01:56:38.757Z"
   },
   {
    "duration": 9181,
    "start_time": "2023-04-15T01:56:38.769Z"
   },
   {
    "duration": 2427,
    "start_time": "2023-04-15T01:56:47.952Z"
   },
   {
    "duration": 471,
    "start_time": "2023-04-15T01:56:50.381Z"
   },
   {
    "duration": 3,
    "start_time": "2023-04-15T01:56:50.854Z"
   },
   {
    "duration": 919687,
    "start_time": "2023-04-15T01:56:50.858Z"
   },
   {
    "duration": 17,
    "start_time": "2023-04-15T02:12:10.547Z"
   },
   {
    "duration": 7398,
    "start_time": "2023-04-15T02:12:10.565Z"
   },
   {
    "duration": 5784,
    "start_time": "2023-04-15T02:12:17.965Z"
   },
   {
    "duration": 8,
    "start_time": "2023-04-15T02:12:23.751Z"
   },
   {
    "duration": 31,
    "start_time": "2023-04-15T02:12:23.760Z"
   },
   {
    "duration": 32,
    "start_time": "2023-04-15T02:12:23.793Z"
   },
   {
    "duration": 63,
    "start_time": "2023-04-15T02:12:23.827Z"
   },
   {
    "duration": 25,
    "start_time": "2023-04-15T02:12:23.891Z"
   },
   {
    "duration": 540,
    "start_time": "2023-04-15T02:12:23.917Z"
   },
   {
    "duration": 3,
    "start_time": "2023-04-15T02:12:24.460Z"
   },
   {
    "duration": 70,
    "start_time": "2023-04-15T02:12:24.464Z"
   },
   {
    "duration": 215,
    "start_time": "2023-04-15T02:12:24.536Z"
   },
   {
    "duration": 4945,
    "start_time": "2023-04-15T02:12:24.752Z"
   },
   {
    "duration": 1370,
    "start_time": "2023-04-15T02:12:29.699Z"
   },
   {
    "duration": 4,
    "start_time": "2023-04-15T02:12:31.071Z"
   },
   {
    "duration": 450337,
    "start_time": "2023-04-15T02:12:31.076Z"
   },
   {
    "duration": 3,
    "start_time": "2023-04-15T02:20:01.415Z"
   },
   {
    "duration": 66770,
    "start_time": "2023-04-15T02:20:01.420Z"
   },
   {
    "duration": 3,
    "start_time": "2023-04-15T02:21:08.192Z"
   },
   {
    "duration": 1520,
    "start_time": "2023-04-15T08:55:48.110Z"
   },
   {
    "duration": 6,
    "start_time": "2023-04-15T08:55:49.632Z"
   },
   {
    "duration": 2997,
    "start_time": "2023-04-15T08:55:49.639Z"
   },
   {
    "duration": 10,
    "start_time": "2023-04-15T08:55:52.637Z"
   },
   {
    "duration": 17,
    "start_time": "2023-04-15T08:55:52.649Z"
   },
   {
    "duration": 27,
    "start_time": "2023-04-15T08:55:52.667Z"
   },
   {
    "duration": 8,
    "start_time": "2023-04-15T08:55:52.696Z"
   },
   {
    "duration": 40,
    "start_time": "2023-04-15T08:55:52.705Z"
   },
   {
    "duration": 207,
    "start_time": "2023-04-15T08:55:52.746Z"
   },
   {
    "duration": 158,
    "start_time": "2023-04-15T08:55:52.955Z"
   },
   {
    "duration": 3,
    "start_time": "2023-04-15T08:55:53.114Z"
   },
   {
    "duration": 2148,
    "start_time": "2023-04-15T08:55:53.118Z"
   },
   {
    "duration": 12,
    "start_time": "2023-04-15T08:55:55.268Z"
   },
   {
    "duration": 9568,
    "start_time": "2023-04-15T08:55:55.284Z"
   },
   {
    "duration": 2204,
    "start_time": "2023-04-15T08:56:04.853Z"
   },
   {
    "duration": 460,
    "start_time": "2023-04-15T08:56:07.059Z"
   },
   {
    "duration": 3,
    "start_time": "2023-04-15T08:56:07.520Z"
   },
   {
    "duration": 834331,
    "start_time": "2023-04-15T08:56:07.524Z"
   },
   {
    "duration": 14,
    "start_time": "2023-04-15T09:10:01.858Z"
   },
   {
    "duration": 7327,
    "start_time": "2023-04-15T09:10:01.874Z"
   },
   {
    "duration": 5809,
    "start_time": "2023-04-15T09:10:09.203Z"
   },
   {
    "duration": 9,
    "start_time": "2023-04-15T09:10:15.014Z"
   },
   {
    "duration": 53,
    "start_time": "2023-04-15T09:10:15.024Z"
   },
   {
    "duration": 50,
    "start_time": "2023-04-15T09:10:15.078Z"
   },
   {
    "duration": 44,
    "start_time": "2023-04-15T09:10:15.129Z"
   },
   {
    "duration": 19,
    "start_time": "2023-04-15T09:10:15.175Z"
   },
   {
    "duration": 523,
    "start_time": "2023-04-15T09:10:15.196Z"
   },
   {
    "duration": 3,
    "start_time": "2023-04-15T09:10:15.720Z"
   },
   {
    "duration": 55,
    "start_time": "2023-04-15T09:10:15.724Z"
   },
   {
    "duration": 139,
    "start_time": "2023-04-15T09:10:15.781Z"
   },
   {
    "duration": 4552,
    "start_time": "2023-04-15T09:10:15.921Z"
   },
   {
    "duration": 1120,
    "start_time": "2023-04-15T09:10:20.475Z"
   },
   {
    "duration": 4,
    "start_time": "2023-04-15T09:10:21.596Z"
   },
   {
    "duration": 382246,
    "start_time": "2023-04-15T09:10:21.601Z"
   },
   {
    "duration": 3,
    "start_time": "2023-04-15T09:16:43.849Z"
   },
   {
    "duration": 62004,
    "start_time": "2023-04-15T09:16:43.853Z"
   },
   {
    "duration": 3,
    "start_time": "2023-04-15T09:17:45.858Z"
   },
   {
    "duration": 1133573,
    "start_time": "2023-04-15T09:31:46.482Z"
   },
   {
    "duration": 3,
    "start_time": "2023-04-15T09:50:40.057Z"
   },
   {
    "duration": 1129807,
    "start_time": "2023-04-15T10:15:09.770Z"
   },
   {
    "duration": 50,
    "start_time": "2023-04-15T10:33:59.579Z"
   },
   {
    "duration": 0,
    "start_time": "2023-04-15T10:33:59.631Z"
   },
   {
    "duration": 0,
    "start_time": "2023-04-15T10:33:59.632Z"
   },
   {
    "duration": 0,
    "start_time": "2023-04-15T10:33:59.633Z"
   },
   {
    "duration": 4,
    "start_time": "2023-04-15T10:34:06.428Z"
   },
   {
    "duration": 3865536,
    "start_time": "2023-04-15T10:34:14.093Z"
   },
   {
    "duration": 63,
    "start_time": "2023-04-15T11:38:39.636Z"
   },
   {
    "duration": 0,
    "start_time": "2023-04-15T11:38:39.703Z"
   },
   {
    "duration": 0,
    "start_time": "2023-04-15T11:38:39.705Z"
   },
   {
    "duration": 0,
    "start_time": "2023-04-15T11:38:39.706Z"
   },
   {
    "duration": 3,
    "start_time": "2023-04-15T11:46:06.283Z"
   },
   {
    "duration": 35347,
    "start_time": "2023-04-15T11:46:16.755Z"
   },
   {
    "duration": 25,
    "start_time": "2023-04-15T11:46:52.105Z"
   },
   {
    "duration": 56808,
    "start_time": "2023-04-15T11:46:54.859Z"
   },
   {
    "duration": 20,
    "start_time": "2023-04-15T11:47:51.669Z"
   },
   {
    "duration": 29430,
    "start_time": "2023-04-15T11:48:30.096Z"
   },
   {
    "duration": 9,
    "start_time": "2023-04-15T11:48:59.527Z"
   },
   {
    "duration": 11,
    "start_time": "2023-04-15T11:49:27.257Z"
   },
   {
    "duration": 122637,
    "start_time": "2023-04-15T11:49:46.701Z"
   },
   {
    "duration": 5,
    "start_time": "2023-04-15T11:51:49.340Z"
   },
   {
    "duration": 5,
    "start_time": "2023-04-15T11:52:11.382Z"
   },
   {
    "duration": 4,
    "start_time": "2023-04-15T11:54:35.651Z"
   },
   {
    "duration": 9,
    "start_time": "2023-04-15T11:54:46.546Z"
   },
   {
    "duration": 16,
    "start_time": "2023-04-15T11:55:17.306Z"
   },
   {
    "duration": 11,
    "start_time": "2023-04-15T11:55:58.358Z"
   },
   {
    "duration": 142,
    "start_time": "2023-04-15T11:56:19.377Z"
   },
   {
    "duration": 18,
    "start_time": "2023-04-15T12:00:23.679Z"
   },
   {
    "duration": 14,
    "start_time": "2023-04-15T12:02:22.681Z"
   },
   {
    "duration": 1584,
    "start_time": "2023-04-15T13:02:41.429Z"
   },
   {
    "duration": 1686,
    "start_time": "2023-04-16T10:19:45.002Z"
   },
   {
    "duration": 6,
    "start_time": "2023-04-16T10:19:46.690Z"
   },
   {
    "duration": 3270,
    "start_time": "2023-04-16T10:19:46.697Z"
   },
   {
    "duration": 10,
    "start_time": "2023-04-16T10:19:49.969Z"
   },
   {
    "duration": 9,
    "start_time": "2023-04-16T10:19:49.981Z"
   },
   {
    "duration": 54,
    "start_time": "2023-04-16T10:19:49.993Z"
   },
   {
    "duration": 16,
    "start_time": "2023-04-16T10:19:50.048Z"
   },
   {
    "duration": 40,
    "start_time": "2023-04-16T10:19:50.065Z"
   },
   {
    "duration": 219,
    "start_time": "2023-04-16T10:19:50.108Z"
   },
   {
    "duration": 180,
    "start_time": "2023-04-16T10:19:50.329Z"
   },
   {
    "duration": 5,
    "start_time": "2023-04-16T10:19:50.510Z"
   },
   {
    "duration": 2052,
    "start_time": "2023-04-16T10:19:50.516Z"
   },
   {
    "duration": 12,
    "start_time": "2023-04-16T10:19:52.569Z"
   },
   {
    "duration": 11208,
    "start_time": "2023-04-16T10:19:52.584Z"
   },
   {
    "duration": 906,
    "start_time": "2023-04-16T10:20:03.794Z"
   },
   {
    "duration": 2552,
    "start_time": "2023-04-16T10:20:04.702Z"
   },
   {
    "duration": 615,
    "start_time": "2023-04-16T10:20:07.256Z"
   },
   {
    "duration": 2,
    "start_time": "2023-04-16T10:20:07.873Z"
   },
   {
    "duration": 1511,
    "start_time": "2023-04-16T10:22:48.182Z"
   },
   {
    "duration": 4,
    "start_time": "2023-04-16T10:22:53.889Z"
   },
   {
    "duration": 752,
    "start_time": "2023-04-16T10:22:54.598Z"
   },
   {
    "duration": 12,
    "start_time": "2023-04-16T10:23:01.758Z"
   },
   {
    "duration": 7,
    "start_time": "2023-04-16T10:23:03.178Z"
   },
   {
    "duration": 29,
    "start_time": "2023-04-16T10:23:15.346Z"
   },
   {
    "duration": 15,
    "start_time": "2023-04-16T10:23:18.721Z"
   },
   {
    "duration": 24,
    "start_time": "2023-04-16T10:23:22.432Z"
   },
   {
    "duration": 209,
    "start_time": "2023-04-16T10:23:23.046Z"
   },
   {
    "duration": 19,
    "start_time": "2023-04-16T10:29:12.252Z"
   },
   {
    "duration": 7,
    "start_time": "2023-04-16T10:29:28.616Z"
   },
   {
    "duration": 6,
    "start_time": "2023-04-16T10:29:51.114Z"
   },
   {
    "duration": 7,
    "start_time": "2023-04-16T10:30:14.894Z"
   },
   {
    "duration": 194,
    "start_time": "2023-04-16T10:30:24.283Z"
   },
   {
    "duration": 186,
    "start_time": "2023-04-16T10:31:19.683Z"
   },
   {
    "duration": 156,
    "start_time": "2023-04-16T10:31:41.952Z"
   },
   {
    "duration": 254,
    "start_time": "2023-04-16T10:32:02.313Z"
   },
   {
    "duration": 138,
    "start_time": "2023-04-16T10:32:42.727Z"
   },
   {
    "duration": 117,
    "start_time": "2023-04-16T10:34:21.196Z"
   },
   {
    "duration": 4,
    "start_time": "2023-04-16T10:36:26.891Z"
   },
   {
    "duration": 2037,
    "start_time": "2023-04-16T10:36:30.908Z"
   },
   {
    "duration": 7,
    "start_time": "2023-04-16T10:37:20.135Z"
   },
   {
    "duration": 825,
    "start_time": "2023-04-16T10:38:42.430Z"
   },
   {
    "duration": 3,
    "start_time": "2023-04-16T10:41:12.140Z"
   },
   {
    "duration": 2782,
    "start_time": "2023-04-16T10:43:46.902Z"
   },
   {
    "duration": 502,
    "start_time": "2023-04-16T10:43:52.748Z"
   },
   {
    "duration": 3,
    "start_time": "2023-04-16T10:47:27.606Z"
   },
   {
    "duration": 5,
    "start_time": "2023-04-16T10:50:07.618Z"
   },
   {
    "duration": 1042824,
    "start_time": "2023-04-16T10:50:52.202Z"
   },
   {
    "duration": 6,
    "start_time": "2023-04-16T11:09:22.858Z"
   },
   {
    "duration": 6,
    "start_time": "2023-04-16T11:10:38.532Z"
   },
   {
    "duration": 11,
    "start_time": "2023-04-16T11:12:30.543Z"
   },
   {
    "duration": 10120,
    "start_time": "2023-04-16T11:12:50.120Z"
   },
   {
    "duration": 3312,
    "start_time": "2023-04-16T11:13:07.438Z"
   },
   {
    "duration": 9,
    "start_time": "2023-04-16T11:13:14.321Z"
   },
   {
    "duration": 24,
    "start_time": "2023-04-16T11:13:23.036Z"
   },
   {
    "duration": 41,
    "start_time": "2023-04-16T11:13:25.833Z"
   },
   {
    "duration": 70,
    "start_time": "2023-04-16T11:13:37.006Z"
   },
   {
    "duration": 33,
    "start_time": "2023-04-16T11:13:39.250Z"
   },
   {
    "duration": 643,
    "start_time": "2023-04-16T11:13:42.521Z"
   },
   {
    "duration": 3,
    "start_time": "2023-04-16T11:14:00.839Z"
   },
   {
    "duration": 75,
    "start_time": "2023-04-16T11:14:07.185Z"
   },
   {
    "duration": 225,
    "start_time": "2023-04-16T11:14:17.426Z"
   },
   {
    "duration": 7143,
    "start_time": "2023-04-16T11:14:20.152Z"
   },
   {
    "duration": 705,
    "start_time": "2023-04-16T11:14:28.042Z"
   },
   {
    "duration": 321,
    "start_time": "2023-04-16T12:36:49.431Z"
   },
   {
    "duration": 107,
    "start_time": "2023-04-16T12:38:48.318Z"
   },
   {
    "duration": 115,
    "start_time": "2023-04-16T12:41:21.311Z"
   },
   {
    "duration": 138,
    "start_time": "2023-04-16T12:47:35.206Z"
   },
   {
    "duration": 116,
    "start_time": "2023-04-16T12:49:32.915Z"
   },
   {
    "duration": 4,
    "start_time": "2023-04-16T12:52:47.032Z"
   },
   {
    "duration": 386,
    "start_time": "2023-04-16T12:53:47.634Z"
   },
   {
    "duration": 248,
    "start_time": "2023-04-16T12:55:54.440Z"
   },
   {
    "duration": 592752,
    "start_time": "2023-04-16T12:56:29.120Z"
   },
   {
    "duration": 38,
    "start_time": "2023-04-16T13:06:21.874Z"
   },
   {
    "duration": 22,
    "start_time": "2023-04-16T13:10:35.284Z"
   },
   {
    "duration": 3,
    "start_time": "2023-04-16T14:31:04.166Z"
   },
   {
    "duration": 516550,
    "start_time": "2023-04-16T14:31:10.268Z"
   },
   {
    "duration": 167,
    "start_time": "2023-04-16T14:39:46.820Z"
   },
   {
    "duration": 2,
    "start_time": "2023-04-16T14:49:39.704Z"
   },
   {
    "duration": 3,
    "start_time": "2023-04-16T14:49:45.830Z"
   },
   {
    "duration": 4,
    "start_time": "2023-04-16T14:58:41.136Z"
   },
   {
    "duration": 516413,
    "start_time": "2023-04-16T15:19:16.318Z"
   },
   {
    "duration": 40,
    "start_time": "2023-04-16T15:40:38.536Z"
   },
   {
    "duration": 16,
    "start_time": "2023-04-16T15:40:46.207Z"
   },
   {
    "duration": 3,
    "start_time": "2023-04-16T15:41:37.719Z"
   },
   {
    "duration": 14,
    "start_time": "2023-04-16T15:41:52.827Z"
   },
   {
    "duration": 4,
    "start_time": "2023-04-16T15:42:04.839Z"
   },
   {
    "duration": 1651165,
    "start_time": "2023-04-16T15:47:13.884Z"
   },
   {
    "duration": 3,
    "start_time": "2023-04-16T16:14:45.051Z"
   },
   {
    "duration": 920906,
    "start_time": "2023-04-16T16:15:29.450Z"
   },
   {
    "duration": 3,
    "start_time": "2023-04-16T16:30:50.358Z"
   },
   {
    "duration": 18,
    "start_time": "2023-04-16T16:58:53.936Z"
   },
   {
    "duration": 5,
    "start_time": "2023-04-16T16:59:08.628Z"
   },
   {
    "duration": 539642,
    "start_time": "2023-04-16T16:59:15.771Z"
   },
   {
    "duration": 4,
    "start_time": "2023-04-16T17:08:15.415Z"
   },
   {
    "duration": 29,
    "start_time": "2023-04-16T17:08:15.427Z"
   },
   {
    "duration": 17,
    "start_time": "2023-04-16T17:08:35.980Z"
   },
   {
    "duration": 515991,
    "start_time": "2023-04-16T17:09:01.222Z"
   },
   {
    "duration": 4,
    "start_time": "2023-04-16T17:17:37.217Z"
   },
   {
    "duration": 14,
    "start_time": "2023-04-16T17:17:37.223Z"
   },
   {
    "duration": 733,
    "start_time": "2023-04-16T17:17:37.246Z"
   },
   {
    "duration": 14,
    "start_time": "2023-04-16T17:48:04.134Z"
   },
   {
    "duration": 612,
    "start_time": "2023-04-16T17:48:22.583Z"
   },
   {
    "duration": 27,
    "start_time": "2023-04-16T17:48:41.680Z"
   },
   {
    "duration": 822,
    "start_time": "2023-04-16T17:49:56.130Z"
   },
   {
    "duration": 8,
    "start_time": "2023-04-16T17:50:03.087Z"
   },
   {
    "duration": 6,
    "start_time": "2023-04-16T17:52:53.835Z"
   },
   {
    "duration": 10,
    "start_time": "2023-04-16T17:56:00.145Z"
   },
   {
    "duration": 10,
    "start_time": "2023-04-16T17:56:28.094Z"
   },
   {
    "duration": 7122,
    "start_time": "2023-04-16T19:29:08.426Z"
   },
   {
    "duration": 145,
    "start_time": "2023-04-16T19:29:15.550Z"
   },
   {
    "duration": 2503,
    "start_time": "2023-04-16T19:29:15.697Z"
   },
   {
    "duration": 10,
    "start_time": "2023-04-16T19:29:18.202Z"
   },
   {
    "duration": 10,
    "start_time": "2023-04-16T19:29:18.213Z"
   },
   {
    "duration": 29,
    "start_time": "2023-04-16T19:29:18.224Z"
   },
   {
    "duration": 9,
    "start_time": "2023-04-16T19:29:18.254Z"
   },
   {
    "duration": 38,
    "start_time": "2023-04-16T19:29:18.264Z"
   },
   {
    "duration": 234,
    "start_time": "2023-04-16T19:29:18.304Z"
   },
   {
    "duration": 344,
    "start_time": "2023-04-16T19:29:18.540Z"
   },
   {
    "duration": 5004,
    "start_time": "2023-04-16T20:27:46.237Z"
   },
   {
    "duration": 212,
    "start_time": "2023-04-16T20:27:51.243Z"
   },
   {
    "duration": 3419,
    "start_time": "2023-04-16T20:27:51.457Z"
   },
   {
    "duration": 159,
    "start_time": "2023-04-16T20:28:59.045Z"
   },
   {
    "duration": 5,
    "start_time": "2023-04-16T20:29:46.759Z"
   },
   {
    "duration": 4080,
    "start_time": "2024-02-05T15:11:54.176Z"
   },
   {
    "duration": 229,
    "start_time": "2024-02-05T15:12:04.961Z"
   },
   {
    "duration": 3322,
    "start_time": "2024-02-05T15:12:36.639Z"
   },
   {
    "duration": 11,
    "start_time": "2024-02-05T15:12:39.963Z"
   },
   {
    "duration": 7,
    "start_time": "2024-02-05T15:12:41.120Z"
   },
   {
    "duration": 30,
    "start_time": "2024-02-05T15:13:06.727Z"
   },
   {
    "duration": 9,
    "start_time": "2024-02-05T15:13:33.958Z"
   },
   {
    "duration": 30,
    "start_time": "2024-02-05T15:13:47.155Z"
   },
   {
    "duration": 25,
    "start_time": "2024-02-05T15:13:59.949Z"
   },
   {
    "duration": 224,
    "start_time": "2024-02-05T15:14:00.951Z"
   },
   {
    "duration": 110,
    "start_time": "2024-02-05T15:14:12.069Z"
   },
   {
    "duration": 104,
    "start_time": "2024-02-06T10:09:54.282Z"
   },
   {
    "duration": 4,
    "start_time": "2024-02-06T10:10:40.362Z"
   },
   {
    "duration": 3,
    "start_time": "2024-02-06T10:11:26.069Z"
   },
   {
    "duration": 2295,
    "start_time": "2024-02-06T10:11:26.533Z"
   },
   {
    "duration": 8,
    "start_time": "2024-02-06T10:11:50.827Z"
   },
   {
    "duration": 1645,
    "start_time": "2024-02-06T10:14:13.376Z"
   },
   {
    "duration": 583,
    "start_time": "2024-02-06T10:14:31.911Z"
   },
   {
    "duration": 4,
    "start_time": "2024-02-06T10:14:45.352Z"
   },
   {
    "duration": 979959,
    "start_time": "2024-02-06T10:14:58.207Z"
   },
   {
    "duration": 21,
    "start_time": "2024-02-06T10:31:18.168Z"
   },
   {
    "duration": 8696,
    "start_time": "2024-02-06T11:07:03.907Z"
   },
   {
    "duration": 3288,
    "start_time": "2024-02-06T11:07:17.489Z"
   },
   {
    "duration": 8,
    "start_time": "2024-02-06T11:07:31.475Z"
   },
   {
    "duration": 23,
    "start_time": "2024-02-06T11:07:36.089Z"
   },
   {
    "duration": 28,
    "start_time": "2024-02-06T11:07:38.435Z"
   },
   {
    "duration": 45,
    "start_time": "2024-02-06T11:07:43.376Z"
   },
   {
    "duration": 23,
    "start_time": "2024-02-06T11:07:44.865Z"
   },
   {
    "duration": 530,
    "start_time": "2024-02-06T11:07:45.506Z"
   },
   {
    "duration": 3,
    "start_time": "2024-02-06T20:05:51.090Z"
   },
   {
    "duration": 60,
    "start_time": "2024-02-06T20:06:22.865Z"
   },
   {
    "duration": 4,
    "start_time": "2024-02-06T20:12:20.753Z"
   },
   {
    "duration": 6,
    "start_time": "2024-02-06T20:21:06.957Z"
   },
   {
    "duration": 584618,
    "start_time": "2024-02-06T20:23:57.089Z"
   },
   {
    "duration": 3,
    "start_time": "2024-02-06T20:33:41.708Z"
   },
   {
    "duration": 1568075,
    "start_time": "2024-02-06T20:35:38.123Z"
   },
   {
    "duration": 874858,
    "start_time": "2024-02-06T21:01:46.200Z"
   },
   {
    "duration": 560046,
    "start_time": "2024-02-06T21:16:21.059Z"
   },
   {
    "duration": 457,
    "start_time": "2024-02-06T21:25:41.109Z"
   },
   {
    "duration": 37,
    "start_time": "2024-02-07T08:00:31.052Z"
   },
   {
    "duration": 2231,
    "start_time": "2024-02-07T08:00:38.866Z"
   },
   {
    "duration": 738,
    "start_time": "2024-02-07T08:05:42.980Z"
   },
   {
    "duration": 120,
    "start_time": "2024-02-07T08:19:12.160Z"
   },
   {
    "duration": 2297,
    "start_time": "2024-02-07T08:19:36.343Z"
   },
   {
    "duration": 3,
    "start_time": "2024-02-07T08:22:38.298Z"
   },
   {
    "duration": 4,
    "start_time": "2024-02-07T08:23:53.112Z"
   },
   {
    "duration": 42906,
    "start_time": "2024-02-07T08:24:06.304Z"
   },
   {
    "duration": 14578,
    "start_time": "2024-02-07T08:24:57.374Z"
   },
   {
    "duration": 10308322,
    "start_time": "2024-02-07T08:25:26.776Z"
   },
   {
    "duration": 302964,
    "start_time": "2024-02-07T11:35:44.456Z"
   },
   {
    "duration": 13,
    "start_time": "2024-02-07T13:49:22.940Z"
   },
   {
    "duration": 151,
    "start_time": "2024-02-07T13:50:08.402Z"
   },
   {
    "duration": 4024,
    "start_time": "2024-02-07T13:50:22.305Z"
   },
   {
    "duration": 152,
    "start_time": "2024-02-07T13:50:26.841Z"
   },
   {
    "duration": 369,
    "start_time": "2024-02-07T13:50:33.081Z"
   },
   {
    "duration": 16,
    "start_time": "2024-02-07T13:50:48.816Z"
   },
   {
    "duration": 3930,
    "start_time": "2024-02-07T13:51:42.992Z"
   },
   {
    "duration": 215,
    "start_time": "2024-02-07T13:51:46.924Z"
   },
   {
    "duration": 3,
    "start_time": "2024-02-07T13:51:47.141Z"
   },
   {
    "duration": 3278,
    "start_time": "2024-02-07T13:51:47.146Z"
   },
   {
    "duration": 11,
    "start_time": "2024-02-07T13:51:50.426Z"
   },
   {
    "duration": 6,
    "start_time": "2024-02-07T13:51:50.439Z"
   },
   {
    "duration": 29,
    "start_time": "2024-02-07T13:51:50.447Z"
   },
   {
    "duration": 10,
    "start_time": "2024-02-07T13:51:50.486Z"
   },
   {
    "duration": 38,
    "start_time": "2024-02-07T13:51:50.497Z"
   },
   {
    "duration": 215,
    "start_time": "2024-02-07T13:51:50.538Z"
   },
   {
    "duration": 114,
    "start_time": "2024-02-07T13:51:50.755Z"
   },
   {
    "duration": 4,
    "start_time": "2024-02-07T13:51:50.870Z"
   },
   {
    "duration": 13,
    "start_time": "2024-02-07T13:51:50.875Z"
   },
   {
    "duration": 2150,
    "start_time": "2024-02-07T13:51:50.890Z"
   },
   {
    "duration": 10,
    "start_time": "2024-02-07T13:51:53.042Z"
   },
   {
    "duration": 518,
    "start_time": "2024-02-07T13:51:53.053Z"
   },
   {
    "duration": 3,
    "start_time": "2024-02-07T13:51:53.573Z"
   },
   {
    "duration": 12552,
    "start_time": "2024-02-07T13:51:53.578Z"
   },
   {
    "duration": 0,
    "start_time": "2024-02-07T13:52:06.132Z"
   },
   {
    "duration": 0,
    "start_time": "2024-02-07T13:52:06.133Z"
   },
   {
    "duration": 0,
    "start_time": "2024-02-07T13:52:06.134Z"
   },
   {
    "duration": 0,
    "start_time": "2024-02-07T13:52:06.135Z"
   },
   {
    "duration": 0,
    "start_time": "2024-02-07T13:52:06.136Z"
   },
   {
    "duration": 0,
    "start_time": "2024-02-07T13:52:06.137Z"
   },
   {
    "duration": 0,
    "start_time": "2024-02-07T13:52:06.138Z"
   },
   {
    "duration": 0,
    "start_time": "2024-02-07T13:52:06.139Z"
   },
   {
    "duration": 0,
    "start_time": "2024-02-07T13:52:06.140Z"
   },
   {
    "duration": 0,
    "start_time": "2024-02-07T13:52:06.141Z"
   },
   {
    "duration": 0,
    "start_time": "2024-02-07T13:52:06.142Z"
   },
   {
    "duration": 0,
    "start_time": "2024-02-07T13:52:06.143Z"
   },
   {
    "duration": 0,
    "start_time": "2024-02-07T13:52:06.144Z"
   },
   {
    "duration": 0,
    "start_time": "2024-02-07T13:52:06.146Z"
   },
   {
    "duration": 0,
    "start_time": "2024-02-07T13:52:06.147Z"
   },
   {
    "duration": 0,
    "start_time": "2024-02-07T13:52:06.148Z"
   },
   {
    "duration": 0,
    "start_time": "2024-02-07T13:52:06.148Z"
   },
   {
    "duration": 0,
    "start_time": "2024-02-07T13:52:06.149Z"
   },
   {
    "duration": 0,
    "start_time": "2024-02-07T13:52:06.150Z"
   },
   {
    "duration": 0,
    "start_time": "2024-02-07T13:52:06.151Z"
   },
   {
    "duration": 0,
    "start_time": "2024-02-07T13:52:06.152Z"
   },
   {
    "duration": 8,
    "start_time": "2024-02-07T13:56:15.191Z"
   },
   {
    "duration": 3859,
    "start_time": "2024-02-07T14:07:05.846Z"
   },
   {
    "duration": 167,
    "start_time": "2024-02-07T14:07:09.707Z"
   },
   {
    "duration": 801,
    "start_time": "2024-02-07T14:07:09.875Z"
   },
   {
    "duration": 15,
    "start_time": "2024-02-07T14:07:10.678Z"
   },
   {
    "duration": 9,
    "start_time": "2024-02-07T14:07:10.694Z"
   },
   {
    "duration": 39,
    "start_time": "2024-02-07T14:07:10.704Z"
   },
   {
    "duration": 9,
    "start_time": "2024-02-07T14:07:10.744Z"
   },
   {
    "duration": 40,
    "start_time": "2024-02-07T14:07:10.754Z"
   },
   {
    "duration": 211,
    "start_time": "2024-02-07T14:07:10.795Z"
   },
   {
    "duration": 114,
    "start_time": "2024-02-07T14:07:11.008Z"
   },
   {
    "duration": 3,
    "start_time": "2024-02-07T14:07:11.124Z"
   },
   {
    "duration": 8,
    "start_time": "2024-02-07T14:07:11.129Z"
   },
   {
    "duration": 2108,
    "start_time": "2024-02-07T14:07:11.138Z"
   },
   {
    "duration": 6,
    "start_time": "2024-02-07T14:07:13.248Z"
   },
   {
    "duration": 474,
    "start_time": "2024-02-07T14:07:13.256Z"
   },
   {
    "duration": 3,
    "start_time": "2024-02-07T14:07:13.732Z"
   },
   {
    "duration": 959336,
    "start_time": "2024-02-07T14:07:13.736Z"
   },
   {
    "duration": 16,
    "start_time": "2024-02-07T14:23:13.073Z"
   },
   {
    "duration": 8736,
    "start_time": "2024-02-07T14:23:13.091Z"
   },
   {
    "duration": 5361,
    "start_time": "2024-02-07T14:23:21.829Z"
   },
   {
    "duration": 9,
    "start_time": "2024-02-07T14:23:27.192Z"
   },
   {
    "duration": 27,
    "start_time": "2024-02-07T14:23:27.203Z"
   },
   {
    "duration": 32,
    "start_time": "2024-02-07T14:23:27.232Z"
   },
   {
    "duration": 58,
    "start_time": "2024-02-07T14:23:27.266Z"
   },
   {
    "duration": 20,
    "start_time": "2024-02-07T14:23:27.326Z"
   },
   {
    "duration": 557,
    "start_time": "2024-02-07T14:23:27.347Z"
   },
   {
    "duration": 2,
    "start_time": "2024-02-07T14:23:27.906Z"
   },
   {
    "duration": 59,
    "start_time": "2024-02-07T14:23:27.911Z"
   },
   {
    "duration": 3,
    "start_time": "2024-02-07T14:23:27.971Z"
   },
   {
    "duration": 36,
    "start_time": "2024-02-07T14:23:27.975Z"
   },
   {
    "duration": 6,
    "start_time": "2024-02-07T14:23:28.013Z"
   },
   {
    "duration": 421,
    "start_time": "2024-02-07T14:23:28.020Z"
   },
   {
    "duration": 115,
    "start_time": "2024-02-07T14:23:28.442Z"
   },
   {
    "duration": 16,
    "start_time": "2024-02-07T14:23:28.559Z"
   },
   {
    "duration": 0,
    "start_time": "2024-02-07T14:23:28.576Z"
   },
   {
    "duration": 0,
    "start_time": "2024-02-07T14:23:28.578Z"
   },
   {
    "duration": 0,
    "start_time": "2024-02-07T14:23:28.579Z"
   },
   {
    "duration": 0,
    "start_time": "2024-02-07T14:23:28.581Z"
   },
   {
    "duration": 0,
    "start_time": "2024-02-07T14:23:28.582Z"
   },
   {
    "duration": 0,
    "start_time": "2024-02-07T14:23:28.584Z"
   },
   {
    "duration": 601331,
    "start_time": "2024-02-07T14:47:13.184Z"
   },
   {
    "duration": 3,
    "start_time": "2024-02-07T15:24:02.193Z"
   },
   {
    "duration": 1623072,
    "start_time": "2024-02-07T15:24:38.247Z"
   },
   {
    "duration": 925575,
    "start_time": "2024-02-07T15:51:41.321Z"
   },
   {
    "duration": 544449,
    "start_time": "2024-02-07T16:07:06.897Z"
   },
   {
    "duration": 4092,
    "start_time": "2024-02-07T17:13:37.401Z"
   },
   {
    "duration": 230,
    "start_time": "2024-02-07T17:13:41.495Z"
   },
   {
    "duration": 3328,
    "start_time": "2024-02-07T17:13:41.726Z"
   },
   {
    "duration": 13,
    "start_time": "2024-02-07T17:13:45.056Z"
   },
   {
    "duration": 11,
    "start_time": "2024-02-07T17:13:45.070Z"
   },
   {
    "duration": 70,
    "start_time": "2024-02-07T17:13:45.082Z"
   },
   {
    "duration": 38,
    "start_time": "2024-02-07T17:13:45.153Z"
   },
   {
    "duration": 48,
    "start_time": "2024-02-07T17:13:45.192Z"
   },
   {
    "duration": 217,
    "start_time": "2024-02-07T17:13:45.242Z"
   },
   {
    "duration": 107,
    "start_time": "2024-02-07T17:13:45.462Z"
   },
   {
    "duration": 4,
    "start_time": "2024-02-07T17:13:45.570Z"
   },
   {
    "duration": 15,
    "start_time": "2024-02-07T17:13:45.575Z"
   },
   {
    "duration": 2237,
    "start_time": "2024-02-07T17:13:45.591Z"
   },
   {
    "duration": 7,
    "start_time": "2024-02-07T17:13:47.829Z"
   },
   {
    "duration": 518,
    "start_time": "2024-02-07T17:13:47.837Z"
   },
   {
    "duration": 2,
    "start_time": "2024-02-07T17:13:48.357Z"
   },
   {
    "duration": 960139,
    "start_time": "2024-02-07T17:13:48.361Z"
   },
   {
    "duration": 8,
    "start_time": "2024-02-07T17:29:48.502Z"
   },
   {
    "duration": 8845,
    "start_time": "2024-02-07T17:29:48.511Z"
   },
   {
    "duration": 5660,
    "start_time": "2024-02-07T17:29:57.357Z"
   },
   {
    "duration": 10,
    "start_time": "2024-02-07T17:30:03.018Z"
   },
   {
    "duration": 33,
    "start_time": "2024-02-07T17:30:03.029Z"
   },
   {
    "duration": 38,
    "start_time": "2024-02-07T17:30:03.064Z"
   },
   {
    "duration": 43,
    "start_time": "2024-02-07T17:30:03.103Z"
   },
   {
    "duration": 42,
    "start_time": "2024-02-07T17:30:03.148Z"
   },
   {
    "duration": 544,
    "start_time": "2024-02-07T17:30:03.191Z"
   },
   {
    "duration": 2,
    "start_time": "2024-02-07T17:30:03.737Z"
   },
   {
    "duration": 69,
    "start_time": "2024-02-07T17:30:03.743Z"
   },
   {
    "duration": 3,
    "start_time": "2024-02-07T17:30:03.813Z"
   },
   {
    "duration": 27,
    "start_time": "2024-02-07T17:30:03.818Z"
   },
   {
    "duration": 3381348,
    "start_time": "2024-02-07T17:30:03.846Z"
   },
   {
    "duration": 2148332,
    "start_time": "2024-02-07T20:05:57.557Z"
   },
   {
    "duration": 4752,
    "start_time": "2024-02-09T10:20:25.606Z"
   },
   {
    "duration": 157,
    "start_time": "2024-02-09T10:20:30.360Z"
   },
   {
    "duration": 3560,
    "start_time": "2024-02-09T10:20:30.519Z"
   },
   {
    "duration": 12,
    "start_time": "2024-02-09T10:20:34.080Z"
   },
   {
    "duration": 41,
    "start_time": "2024-02-09T10:20:34.095Z"
   },
   {
    "duration": 51,
    "start_time": "2024-02-09T10:20:34.138Z"
   },
   {
    "duration": 11,
    "start_time": "2024-02-09T10:20:34.191Z"
   },
   {
    "duration": 31,
    "start_time": "2024-02-09T10:20:34.203Z"
   },
   {
    "duration": 254,
    "start_time": "2024-02-09T10:20:34.236Z"
   },
   {
    "duration": 119,
    "start_time": "2024-02-09T10:20:34.492Z"
   },
   {
    "duration": 4,
    "start_time": "2024-02-09T10:20:34.613Z"
   },
   {
    "duration": 16,
    "start_time": "2024-02-09T10:20:34.619Z"
   },
   {
    "duration": 2400,
    "start_time": "2024-02-09T10:20:34.637Z"
   },
   {
    "duration": 8,
    "start_time": "2024-02-09T10:20:37.040Z"
   },
   {
    "duration": 560,
    "start_time": "2024-02-09T10:20:37.049Z"
   },
   {
    "duration": 4,
    "start_time": "2024-02-09T10:20:37.610Z"
   },
   {
    "duration": 1090321,
    "start_time": "2024-02-09T10:20:37.617Z"
   },
   {
    "duration": 9,
    "start_time": "2024-02-09T10:38:47.940Z"
   },
   {
    "duration": 9715,
    "start_time": "2024-02-09T10:38:47.950Z"
   },
   {
    "duration": 5909,
    "start_time": "2024-02-09T10:38:57.667Z"
   },
   {
    "duration": 9,
    "start_time": "2024-02-09T10:39:03.578Z"
   },
   {
    "duration": 65,
    "start_time": "2024-02-09T10:39:03.588Z"
   },
   {
    "duration": 56,
    "start_time": "2024-02-09T10:39:03.655Z"
   },
   {
    "duration": 50,
    "start_time": "2024-02-09T10:39:03.712Z"
   },
   {
    "duration": 47,
    "start_time": "2024-02-09T10:39:03.764Z"
   },
   {
    "duration": 604,
    "start_time": "2024-02-09T10:39:03.812Z"
   },
   {
    "duration": 4,
    "start_time": "2024-02-09T10:39:04.418Z"
   },
   {
    "duration": 92,
    "start_time": "2024-02-09T10:39:04.423Z"
   },
   {
    "duration": 3,
    "start_time": "2024-02-09T10:39:04.516Z"
   },
   {
    "duration": 15,
    "start_time": "2024-02-09T10:39:04.521Z"
   },
   {
    "duration": 613680,
    "start_time": "2024-02-09T10:39:04.537Z"
   },
   {
    "duration": 2239277,
    "start_time": "2024-02-09T10:49:18.219Z"
   },
   {
    "duration": 1838487,
    "start_time": "2024-02-09T11:26:37.498Z"
   },
   {
    "duration": 1027978,
    "start_time": "2024-02-09T11:57:15.987Z"
   },
   {
    "duration": 612252,
    "start_time": "2024-02-09T12:14:23.967Z"
   },
   {
    "duration": 3,
    "start_time": "2024-02-09T12:24:36.223Z"
   },
   {
    "duration": 4,
    "start_time": "2024-02-09T12:51:06.858Z"
   },
   {
    "duration": 4,
    "start_time": "2024-02-09T12:51:15.553Z"
   },
   {
    "duration": 10,
    "start_time": "2024-02-09T12:51:26.315Z"
   },
   {
    "duration": 5002,
    "start_time": "2024-02-11T12:27:48.997Z"
   },
   {
    "duration": 125,
    "start_time": "2024-02-11T12:27:54.001Z"
   },
   {
    "duration": 2303,
    "start_time": "2024-02-11T12:27:54.127Z"
   },
   {
    "duration": 11,
    "start_time": "2024-02-11T12:27:56.432Z"
   },
   {
    "duration": 55,
    "start_time": "2024-02-11T12:27:56.445Z"
   },
   {
    "duration": 44,
    "start_time": "2024-02-11T12:27:56.501Z"
   },
   {
    "duration": 18,
    "start_time": "2024-02-11T12:27:56.547Z"
   },
   {
    "duration": 31,
    "start_time": "2024-02-11T12:27:56.566Z"
   },
   {
    "duration": 227,
    "start_time": "2024-02-11T12:27:56.599Z"
   },
   {
    "duration": 115,
    "start_time": "2024-02-11T12:27:56.828Z"
   },
   {
    "duration": 4,
    "start_time": "2024-02-11T12:27:56.945Z"
   },
   {
    "duration": 17,
    "start_time": "2024-02-11T12:27:56.950Z"
   },
   {
    "duration": 2220,
    "start_time": "2024-02-11T12:27:56.968Z"
   },
   {
    "duration": 8,
    "start_time": "2024-02-11T12:27:59.189Z"
   },
   {
    "duration": 527,
    "start_time": "2024-02-11T12:27:59.198Z"
   },
   {
    "duration": 2,
    "start_time": "2024-02-11T12:27:59.727Z"
   },
   {
    "duration": 1003149,
    "start_time": "2024-02-11T12:27:59.731Z"
   },
   {
    "duration": 8,
    "start_time": "2024-02-11T12:44:42.882Z"
   },
   {
    "duration": 9214,
    "start_time": "2024-02-11T12:44:42.892Z"
   },
   {
    "duration": 5072,
    "start_time": "2024-02-11T12:44:52.107Z"
   },
   {
    "duration": 8,
    "start_time": "2024-02-11T12:44:57.180Z"
   },
   {
    "duration": 29,
    "start_time": "2024-02-11T12:44:57.190Z"
   },
   {
    "duration": 45,
    "start_time": "2024-02-11T12:44:57.221Z"
   },
   {
    "duration": 44,
    "start_time": "2024-02-11T12:44:57.268Z"
   },
   {
    "duration": 21,
    "start_time": "2024-02-11T12:44:57.314Z"
   },
   {
    "duration": 567,
    "start_time": "2024-02-11T12:44:57.337Z"
   },
   {
    "duration": 3,
    "start_time": "2024-02-11T12:44:57.906Z"
   },
   {
    "duration": 69,
    "start_time": "2024-02-11T12:44:57.912Z"
   },
   {
    "duration": 4,
    "start_time": "2024-02-11T12:44:57.983Z"
   },
   {
    "duration": 36,
    "start_time": "2024-02-11T12:44:57.988Z"
   },
   {
    "duration": 7,
    "start_time": "2024-02-11T12:44:58.026Z"
   },
   {
    "duration": 0,
    "start_time": "2024-02-11T12:44:58.034Z"
   },
   {
    "duration": 0,
    "start_time": "2024-02-11T12:44:58.036Z"
   },
   {
    "duration": 0,
    "start_time": "2024-02-11T12:44:58.037Z"
   },
   {
    "duration": 0,
    "start_time": "2024-02-11T12:44:58.038Z"
   },
   {
    "duration": 0,
    "start_time": "2024-02-11T12:44:58.039Z"
   },
   {
    "duration": 0,
    "start_time": "2024-02-11T12:44:58.039Z"
   },
   {
    "duration": 6,
    "start_time": "2024-02-11T12:45:31.077Z"
   },
   {
    "duration": 1855222,
    "start_time": "2024-02-11T12:45:36.345Z"
   },
   {
    "duration": 550238,
    "start_time": "2024-02-11T13:16:31.569Z"
   },
   {
    "duration": 884685,
    "start_time": "2024-02-11T13:25:41.808Z"
   },
   {
    "duration": 539671,
    "start_time": "2024-02-11T13:40:26.495Z"
   },
   {
    "duration": 10,
    "start_time": "2024-02-11T13:49:26.167Z"
   },
   {
    "duration": 5,
    "start_time": "2024-02-11T13:49:26.178Z"
   },
   {
    "duration": 88,
    "start_time": "2024-02-11T13:49:26.312Z"
   },
   {
    "duration": 0,
    "start_time": "2024-02-11T13:49:26.420Z"
   },
   {
    "duration": 26,
    "start_time": "2024-02-11T15:26:51.723Z"
   },
   {
    "duration": 16,
    "start_time": "2024-02-11T15:27:59.638Z"
   },
   {
    "duration": 8,
    "start_time": "2024-02-11T15:28:30.151Z"
   },
   {
    "duration": 3,
    "start_time": "2024-02-11T15:28:51.447Z"
   },
   {
    "duration": 15,
    "start_time": "2024-02-11T15:29:41.318Z"
   },
   {
    "duration": 4,
    "start_time": "2024-02-11T15:29:48.406Z"
   },
   {
    "duration": 105,
    "start_time": "2024-02-11T15:30:03.958Z"
   },
   {
    "duration": 3,
    "start_time": "2024-02-11T15:30:04.186Z"
   },
   {
    "duration": 93,
    "start_time": "2024-02-11T15:30:37.010Z"
   },
   {
    "duration": 96,
    "start_time": "2024-02-11T15:31:29.814Z"
   },
   {
    "duration": 5,
    "start_time": "2024-02-11T19:14:25.341Z"
   },
   {
    "duration": 8,
    "start_time": "2024-02-11T19:14:55.173Z"
   },
   {
    "duration": 3,
    "start_time": "2024-02-11T19:20:14.344Z"
   },
   {
    "duration": 31,
    "start_time": "2024-02-11T19:20:28.500Z"
   },
   {
    "duration": 3,
    "start_time": "2024-02-11T19:21:26.636Z"
   },
   {
    "duration": 21,
    "start_time": "2024-02-11T19:21:31.392Z"
   },
   {
    "duration": 6,
    "start_time": "2024-02-11T19:22:02.279Z"
   },
   {
    "duration": 619,
    "start_time": "2024-02-11T19:25:10.199Z"
   },
   {
    "duration": 667,
    "start_time": "2024-02-11T19:27:03.862Z"
   },
   {
    "duration": 747,
    "start_time": "2024-02-11T19:28:01.727Z"
   },
   {
    "duration": 6,
    "start_time": "2024-02-11T19:31:20.528Z"
   },
   {
    "duration": 818,
    "start_time": "2024-02-11T19:33:19.567Z"
   },
   {
    "duration": 767,
    "start_time": "2024-02-11T19:34:37.099Z"
   },
   {
    "duration": 4,
    "start_time": "2024-02-11T19:48:09.009Z"
   },
   {
    "duration": 3,
    "start_time": "2024-02-11T19:49:00.445Z"
   },
   {
    "duration": 4444,
    "start_time": "2024-02-12T10:17:29.965Z"
   },
   {
    "duration": 129,
    "start_time": "2024-02-12T10:17:34.411Z"
   },
   {
    "duration": 2300,
    "start_time": "2024-02-12T10:17:34.542Z"
   },
   {
    "duration": 13,
    "start_time": "2024-02-12T10:17:36.844Z"
   },
   {
    "duration": 33,
    "start_time": "2024-02-12T10:17:36.861Z"
   },
   {
    "duration": 46,
    "start_time": "2024-02-12T10:17:36.896Z"
   },
   {
    "duration": 18,
    "start_time": "2024-02-12T10:17:36.945Z"
   },
   {
    "duration": 55,
    "start_time": "2024-02-12T10:17:36.965Z"
   },
   {
    "duration": 262,
    "start_time": "2024-02-12T10:17:37.022Z"
   },
   {
    "duration": 122,
    "start_time": "2024-02-12T10:17:37.286Z"
   },
   {
    "duration": 4,
    "start_time": "2024-02-12T10:17:37.410Z"
   },
   {
    "duration": 53,
    "start_time": "2024-02-12T10:17:37.416Z"
   },
   {
    "duration": 2306,
    "start_time": "2024-02-12T10:17:37.470Z"
   },
   {
    "duration": 9,
    "start_time": "2024-02-12T10:17:39.780Z"
   },
   {
    "duration": 538,
    "start_time": "2024-02-12T10:17:39.791Z"
   },
   {
    "duration": 3,
    "start_time": "2024-02-12T10:17:40.331Z"
   },
   {
    "duration": 952960,
    "start_time": "2024-02-12T10:17:40.335Z"
   },
   {
    "duration": 8,
    "start_time": "2024-02-12T10:33:33.297Z"
   },
   {
    "duration": 9272,
    "start_time": "2024-02-12T10:33:33.307Z"
   },
   {
    "duration": 5127,
    "start_time": "2024-02-12T10:33:42.581Z"
   },
   {
    "duration": 8,
    "start_time": "2024-02-12T10:33:47.709Z"
   },
   {
    "duration": 32,
    "start_time": "2024-02-12T10:33:47.719Z"
   },
   {
    "duration": 36,
    "start_time": "2024-02-12T10:33:47.753Z"
   },
   {
    "duration": 61,
    "start_time": "2024-02-12T10:33:47.791Z"
   },
   {
    "duration": 22,
    "start_time": "2024-02-12T10:33:47.853Z"
   },
   {
    "duration": 533,
    "start_time": "2024-02-12T10:33:47.877Z"
   },
   {
    "duration": 3,
    "start_time": "2024-02-12T10:33:48.412Z"
   },
   {
    "duration": 67,
    "start_time": "2024-02-12T10:33:48.417Z"
   },
   {
    "duration": 2,
    "start_time": "2024-02-12T10:33:48.486Z"
   },
   {
    "duration": 5,
    "start_time": "2024-02-12T10:33:48.490Z"
   },
   {
    "duration": 1876636,
    "start_time": "2024-02-12T10:33:48.497Z"
   },
   {
    "duration": 1619425,
    "start_time": "2024-02-12T11:05:05.135Z"
   },
   {
    "duration": 904861,
    "start_time": "2024-02-12T11:32:04.561Z"
   },
   {
    "duration": 538845,
    "start_time": "2024-02-12T11:47:09.424Z"
   },
   {
    "duration": 10,
    "start_time": "2024-02-12T11:56:08.271Z"
   },
   {
    "duration": 695,
    "start_time": "2024-02-12T11:56:08.282Z"
   },
   {
    "duration": 782,
    "start_time": "2024-02-12T11:56:08.979Z"
   },
   {
    "duration": 4,
    "start_time": "2024-02-12T11:56:09.763Z"
   },
   {
    "duration": 6,
    "start_time": "2024-02-12T11:56:09.768Z"
   },
   {
    "duration": 792,
    "start_time": "2024-02-13T10:15:49.846Z"
   },
   {
    "duration": 103,
    "start_time": "2024-02-13T10:19:14.609Z"
   },
   {
    "duration": 5,
    "start_time": "2024-02-13T10:19:15.800Z"
   },
   {
    "duration": 5,
    "start_time": "2024-02-13T10:25:02.491Z"
   },
   {
    "duration": 5,
    "start_time": "2024-02-13T10:28:13.708Z"
   },
   {
    "duration": 362,
    "start_time": "2024-02-13T10:28:23.807Z"
   },
   {
    "duration": 3,
    "start_time": "2024-02-13T10:28:48.741Z"
   },
   {
    "duration": 28,
    "start_time": "2024-02-13T10:28:52.932Z"
   },
   {
    "duration": 7,
    "start_time": "2024-02-13T10:31:34.051Z"
   },
   {
    "duration": 1855291,
    "start_time": "2024-02-13T10:34:27.855Z"
   },
   {
    "duration": 5,
    "start_time": "2024-02-13T13:22:31.473Z"
   },
   {
    "duration": 139,
    "start_time": "2024-02-13T13:23:45.027Z"
   },
   {
    "duration": 4,
    "start_time": "2024-02-13T13:24:37.570Z"
   },
   {
    "duration": 789043,
    "start_time": "2024-02-13T13:24:37.916Z"
   },
   {
    "duration": 6,
    "start_time": "2024-02-13T13:40:04.025Z"
   },
   {
    "duration": 783616,
    "start_time": "2024-02-13T13:40:04.628Z"
   },
   {
    "duration": 702,
    "start_time": "2024-02-13T14:37:44.350Z"
   },
   {
    "duration": 755,
    "start_time": "2024-02-13T14:42:08.059Z"
   },
   {
    "duration": 5,
    "start_time": "2024-02-13T14:46:13.793Z"
   },
   {
    "duration": 4,
    "start_time": "2024-02-13T14:46:24.781Z"
   },
   {
    "duration": 6,
    "start_time": "2024-02-13T20:01:36.714Z"
   },
   {
    "duration": 62,
    "start_time": "2024-02-13T20:02:37.488Z"
   },
   {
    "duration": 10,
    "start_time": "2024-02-13T20:03:11.712Z"
   },
   {
    "duration": 2,
    "start_time": "2024-02-13T20:09:44.352Z"
   },
   {
    "duration": 5,
    "start_time": "2024-02-13T20:16:22.099Z"
   },
   {
    "duration": 2772487,
    "start_time": "2024-02-13T20:17:25.259Z"
   },
   {
    "duration": 797,
    "start_time": "2024-02-13T21:03:37.748Z"
   },
   {
    "duration": 887,
    "start_time": "2024-02-13T21:03:38.546Z"
   },
   {
    "duration": 6,
    "start_time": "2024-02-14T20:13:38.214Z"
   },
   {
    "duration": 27,
    "start_time": "2024-02-14T20:13:51.458Z"
   },
   {
    "duration": 6,
    "start_time": "2024-02-14T20:14:57.306Z"
   },
   {
    "duration": 6,
    "start_time": "2024-02-14T20:15:29.210Z"
   },
   {
    "duration": 5,
    "start_time": "2024-02-14T20:15:43.950Z"
   },
   {
    "duration": 4,
    "start_time": "2024-02-14T20:15:52.769Z"
   },
   {
    "duration": 372,
    "start_time": "2024-02-14T20:16:22.582Z"
   },
   {
    "duration": 8,
    "start_time": "2024-02-14T20:23:58.641Z"
   },
   {
    "duration": 3,
    "start_time": "2024-02-14T20:29:15.856Z"
   },
   {
    "duration": 21,
    "start_time": "2024-02-14T20:30:23.452Z"
   },
   {
    "duration": 29,
    "start_time": "2024-02-15T10:11:02.402Z"
   },
   {
    "duration": 4,
    "start_time": "2024-02-15T10:13:20.553Z"
   },
   {
    "duration": 24975,
    "start_time": "2024-02-15T10:13:27.421Z"
   },
   {
    "duration": 48405,
    "start_time": "2024-02-15T10:15:34.428Z"
   },
   {
    "duration": 11,
    "start_time": "2024-02-15T10:17:25.396Z"
   },
   {
    "duration": 3,
    "start_time": "2024-02-15T10:17:32.156Z"
   },
   {
    "duration": 84,
    "start_time": "2024-02-15T10:28:00.662Z"
   },
   {
    "duration": 7,
    "start_time": "2024-02-15T10:28:09.162Z"
   },
   {
    "duration": 43,
    "start_time": "2024-02-15T11:10:24.417Z"
   },
   {
    "duration": 4097,
    "start_time": "2024-02-15T11:12:45.429Z"
   },
   {
    "duration": 201,
    "start_time": "2024-02-15T11:12:49.528Z"
   },
   {
    "duration": 2254,
    "start_time": "2024-02-15T11:12:49.731Z"
   },
   {
    "duration": 11,
    "start_time": "2024-02-15T11:12:51.986Z"
   },
   {
    "duration": 7,
    "start_time": "2024-02-15T11:12:51.998Z"
   },
   {
    "duration": 30,
    "start_time": "2024-02-15T11:12:52.006Z"
   },
   {
    "duration": 9,
    "start_time": "2024-02-15T11:12:52.037Z"
   },
   {
    "duration": 24,
    "start_time": "2024-02-15T11:12:52.047Z"
   },
   {
    "duration": 224,
    "start_time": "2024-02-15T11:12:52.072Z"
   },
   {
    "duration": 109,
    "start_time": "2024-02-15T11:12:52.297Z"
   },
   {
    "duration": 4,
    "start_time": "2024-02-15T11:12:52.408Z"
   },
   {
    "duration": 17,
    "start_time": "2024-02-15T11:12:52.413Z"
   },
   {
    "duration": 2150,
    "start_time": "2024-02-15T11:12:52.432Z"
   },
   {
    "duration": 6,
    "start_time": "2024-02-15T11:12:54.585Z"
   },
   {
    "duration": 479,
    "start_time": "2024-02-15T11:12:54.592Z"
   },
   {
    "duration": 3,
    "start_time": "2024-02-15T11:12:55.073Z"
   },
   {
    "duration": 937856,
    "start_time": "2024-02-15T11:12:55.078Z"
   },
   {
    "duration": 11,
    "start_time": "2024-02-15T11:28:32.936Z"
   },
   {
    "duration": 8637,
    "start_time": "2024-02-15T11:28:32.949Z"
   },
   {
    "duration": 3229,
    "start_time": "2024-02-15T11:28:41.588Z"
   },
   {
    "duration": 8,
    "start_time": "2024-02-15T11:28:44.819Z"
   },
   {
    "duration": 32,
    "start_time": "2024-02-15T11:28:44.833Z"
   },
   {
    "duration": 35,
    "start_time": "2024-02-15T11:28:44.867Z"
   },
   {
    "duration": 51,
    "start_time": "2024-02-15T11:28:44.904Z"
   },
   {
    "duration": 23,
    "start_time": "2024-02-15T11:28:44.956Z"
   },
   {
    "duration": 551,
    "start_time": "2024-02-15T11:28:44.981Z"
   },
   {
    "duration": 8,
    "start_time": "2024-02-15T11:28:45.534Z"
   },
   {
    "duration": 18,
    "start_time": "2024-02-15T11:28:45.544Z"
   },
   {
    "duration": 73,
    "start_time": "2024-02-15T11:28:45.564Z"
   },
   {
    "duration": 3,
    "start_time": "2024-02-15T11:28:45.639Z"
   },
   {
    "duration": 6,
    "start_time": "2024-02-15T11:28:45.644Z"
   },
   {
    "duration": 1875696,
    "start_time": "2024-02-15T11:28:45.651Z"
   },
   {
    "duration": 1627820,
    "start_time": "2024-02-15T12:00:01.434Z"
   },
   {
    "duration": 920352,
    "start_time": "2024-02-15T12:27:09.256Z"
   },
   {
    "duration": 543401,
    "start_time": "2024-02-15T12:42:29.610Z"
   },
   {
    "duration": 10,
    "start_time": "2024-02-15T12:51:33.013Z"
   },
   {
    "duration": 654,
    "start_time": "2024-02-15T12:51:33.033Z"
   },
   {
    "duration": 813,
    "start_time": "2024-02-15T12:51:33.689Z"
   },
   {
    "duration": 3,
    "start_time": "2024-02-15T12:51:34.504Z"
   },
   {
    "duration": 6,
    "start_time": "2024-02-15T12:51:34.509Z"
   },
   {
    "duration": 3,
    "start_time": "2024-02-15T12:52:10.842Z"
   },
   {
    "duration": 26483,
    "start_time": "2024-02-15T12:52:11.891Z"
   },
   {
    "duration": 53574,
    "start_time": "2024-02-15T12:52:38.376Z"
   },
   {
    "duration": 20,
    "start_time": "2024-02-15T12:53:32.033Z"
   },
   {
    "duration": 3,
    "start_time": "2024-02-15T12:53:32.055Z"
   },
   {
    "duration": 5,
    "start_time": "2024-02-15T12:55:14.004Z"
   },
   {
    "duration": 4770,
    "start_time": "2024-02-17T11:41:39.128Z"
   },
   {
    "duration": 128,
    "start_time": "2024-02-17T11:41:43.900Z"
   },
   {
    "duration": 2415,
    "start_time": "2024-02-17T11:41:44.029Z"
   },
   {
    "duration": 14,
    "start_time": "2024-02-17T11:41:46.446Z"
   },
   {
    "duration": 8,
    "start_time": "2024-02-17T11:41:46.461Z"
   },
   {
    "duration": 34,
    "start_time": "2024-02-17T11:41:46.470Z"
   },
   {
    "duration": 10,
    "start_time": "2024-02-17T11:41:46.505Z"
   },
   {
    "duration": 49,
    "start_time": "2024-02-17T11:41:46.517Z"
   },
   {
    "duration": 246,
    "start_time": "2024-02-17T11:41:46.567Z"
   },
   {
    "duration": 126,
    "start_time": "2024-02-17T11:41:46.816Z"
   },
   {
    "duration": 6,
    "start_time": "2024-02-17T11:41:46.944Z"
   },
   {
    "duration": 6,
    "start_time": "2024-02-17T11:41:46.959Z"
   },
   {
    "duration": 2421,
    "start_time": "2024-02-17T11:41:46.966Z"
   },
   {
    "duration": 8,
    "start_time": "2024-02-17T11:41:49.389Z"
   },
   {
    "duration": 579,
    "start_time": "2024-02-17T11:41:49.399Z"
   },
   {
    "duration": 4,
    "start_time": "2024-02-17T11:41:49.979Z"
   },
   {
    "duration": 1109680,
    "start_time": "2024-02-17T11:41:49.984Z"
   },
   {
    "duration": 9,
    "start_time": "2024-02-17T12:00:19.666Z"
   },
   {
    "duration": 9428,
    "start_time": "2024-02-17T12:00:19.676Z"
   },
   {
    "duration": 5680,
    "start_time": "2024-02-17T12:00:29.106Z"
   },
   {
    "duration": 9,
    "start_time": "2024-02-17T12:00:34.788Z"
   },
   {
    "duration": 34,
    "start_time": "2024-02-17T12:00:34.798Z"
   },
   {
    "duration": 66,
    "start_time": "2024-02-17T12:00:34.833Z"
   },
   {
    "duration": 48,
    "start_time": "2024-02-17T12:00:34.901Z"
   },
   {
    "duration": 25,
    "start_time": "2024-02-17T12:00:34.950Z"
   },
   {
    "duration": 582,
    "start_time": "2024-02-17T12:00:34.977Z"
   },
   {
    "duration": 9,
    "start_time": "2024-02-17T12:00:35.561Z"
   },
   {
    "duration": 12,
    "start_time": "2024-02-17T12:00:35.575Z"
   },
   {
    "duration": 78,
    "start_time": "2024-02-17T12:00:35.589Z"
   },
   {
    "duration": 3,
    "start_time": "2024-02-17T12:00:35.669Z"
   },
   {
    "duration": 11,
    "start_time": "2024-02-17T12:00:35.674Z"
   },
   {
    "duration": 1905674,
    "start_time": "2024-02-17T12:00:35.687Z"
   },
   {
    "duration": 1837434,
    "start_time": "2024-02-17T12:32:21.364Z"
   },
   {
    "duration": 1044556,
    "start_time": "2024-02-17T13:02:58.799Z"
   },
   {
    "duration": 627535,
    "start_time": "2024-02-17T13:20:23.359Z"
   },
   {
    "duration": 11,
    "start_time": "2024-02-17T13:30:50.896Z"
   },
   {
    "duration": 7884,
    "start_time": "2024-02-17T13:30:50.910Z"
   },
   {
    "duration": 495,
    "start_time": "2024-02-17T13:30:58.796Z"
   },
   {
    "duration": 26,
    "start_time": "2024-02-17T13:30:59.293Z"
   },
   {
    "duration": 0,
    "start_time": "2024-02-17T13:30:59.321Z"
   },
   {
    "duration": 0,
    "start_time": "2024-02-17T13:30:59.323Z"
   },
   {
    "duration": 0,
    "start_time": "2024-02-17T13:30:59.325Z"
   },
   {
    "duration": 0,
    "start_time": "2024-02-17T13:30:59.326Z"
   },
   {
    "duration": 5,
    "start_time": "2024-02-17T17:35:19.481Z"
   },
   {
    "duration": 3,
    "start_time": "2024-02-17T17:36:05.021Z"
   },
   {
    "duration": 92,
    "start_time": "2024-02-17T17:36:12.601Z"
   },
   {
    "duration": 125,
    "start_time": "2024-02-17T17:36:41.828Z"
   },
   {
    "duration": 78,
    "start_time": "2024-02-17T17:36:54.680Z"
   },
   {
    "duration": 78,
    "start_time": "2024-02-17T17:36:59.268Z"
   },
   {
    "duration": 3,
    "start_time": "2024-02-17T17:37:06.129Z"
   },
   {
    "duration": 18,
    "start_time": "2024-02-17T17:37:21.664Z"
   },
   {
    "duration": 19,
    "start_time": "2024-02-17T17:37:27.768Z"
   },
   {
    "duration": 4,
    "start_time": "2024-02-17T17:37:32.020Z"
   },
   {
    "duration": 4,
    "start_time": "2024-02-17T17:37:55.449Z"
   },
   {
    "duration": 103,
    "start_time": "2024-02-17T17:38:28.420Z"
   },
   {
    "duration": 48885,
    "start_time": "2024-02-17T17:39:47.873Z"
   },
   {
    "duration": 49943,
    "start_time": "2024-02-17T18:54:01.218Z"
   },
   {
    "duration": 29546,
    "start_time": "2024-02-17T18:56:41.017Z"
   },
   {
    "duration": 47416,
    "start_time": "2024-02-17T18:57:19.245Z"
   },
   {
    "duration": 27,
    "start_time": "2024-02-17T18:58:22.240Z"
   },
   {
    "duration": 20,
    "start_time": "2024-02-17T18:58:55.417Z"
   },
   {
    "duration": 26,
    "start_time": "2024-02-17T18:59:48.677Z"
   },
   {
    "duration": 19,
    "start_time": "2024-02-17T19:00:33.481Z"
   },
   {
    "duration": 4,
    "start_time": "2024-02-17T19:00:42.892Z"
   },
   {
    "duration": 167,
    "start_time": "2024-02-17T19:01:14.884Z"
   },
   {
    "duration": 4,
    "start_time": "2024-02-17T19:01:33.705Z"
   },
   {
    "duration": 5,
    "start_time": "2024-02-17T19:01:40.608Z"
   }
  ],
  "kernelspec": {
   "display_name": "Python 3 (ipykernel)",
   "language": "python",
   "name": "python3"
  },
  "language_info": {
   "codemirror_mode": {
    "name": "ipython",
    "version": 3
   },
   "file_extension": ".py",
   "mimetype": "text/x-python",
   "name": "python",
   "nbconvert_exporter": "python",
   "pygments_lexer": "ipython3",
   "version": "3.9.5"
  },
  "toc": {
   "base_numbering": 1,
   "nav_menu": {},
   "number_sections": true,
   "sideBar": true,
   "skip_h1_title": true,
   "title_cell": "Содержание",
   "title_sidebar": "Contents",
   "toc_cell": true,
   "toc_position": {
    "height": "calc(100% - 180px)",
    "left": "10px",
    "top": "150px",
    "width": "302.391px"
   },
   "toc_section_display": true,
   "toc_window_display": false
  }
 },
 "nbformat": 4,
 "nbformat_minor": 2
}
