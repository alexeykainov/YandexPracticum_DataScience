{
 "cells": [
  {
   "cell_type": "markdown",
   "id": "aac41ecb",
   "metadata": {},
   "source": [
    "# Определение перспективного тарифа для мобильного оператора.\n",
    "\n",
    "**Описание проектной работы**\n",
    "\n",
    "Клиентам федерального оператора сотовой связь «Мегалайн» предлагают два тарифных плана: «Смарт» и «Ультра». Чтобы скорректировать рекламный бюджет, коммерческий департамент хочет понять, какой тариф самый прибыльный.\n",
    "Необходимо сделать предварительный анализ тарифов на небольшой выборке клиентов. В распоряжении данные 500 пользователей «Мегалайна»: кто они, откуда, каким тарифом пользуются, сколько звонков и сообщений каждый отправил за 2018-й год.\n",
    "\n",
    "**Цель проекта**\n",
    "\n",
    "Проанализировать поведение клиентов и определить какой самый прибыльный тариф. "
   ]
  },
  {
   "cell_type": "markdown",
   "id": "2e31f0a4",
   "metadata": {},
   "source": [
    "# Описание тарифов\n",
    "\n",
    "**Тариф «Смарт»**\n",
    "\n",
    "1. Ежемесячная плата: 550 рублей.\n",
    "2. Включено 500 минут разговора, 50 сообщений и 15 Гб интернет-трафика.\n",
    "3. Стоимость услуг сверх тарифного пакета:\n",
    "\n",
    "   - Минута разговора — 3 рубля. Количество использованных минут и мегабайтов «Мегалайн» всегда округляет вверх. Если пользователь проговорил всего 1 секунду, в тарифе засчитывается целая минута.\n",
    "\n",
    "   - Сообщение — 3 рубля.\n",
    "   \n",
    "   - 1 Гб интернет-трафика — 200 рублей.\n",
    "\n",
    "**Тариф «Ультра»**\n",
    "\n",
    "1. Ежемесячная плата: 1950 рублей\n",
    "2. Включено 3000 минут разговора, 1000 сообщений и 30 Гб интернет-трафика\n",
    "3. Стоимость услуг сверх тарифного пакета:\n",
    "\n",
    "   - Минута разговора — 1 рубль;\n",
    "\n",
    "   - Сообщение — 1 рубль;\n",
    "\n",
    "   - 1 Гб интернет-трафика: 150 рублей."
   ]
  },
  {
   "cell_type": "markdown",
   "id": "7f94ae02",
   "metadata": {},
   "source": [
    "# Содержание"
   ]
  },
  {
   "cell_type": "markdown",
   "id": "af3264d8",
   "metadata": {},
   "source": [
    "[1. Изучение исходных данных](#Изучение-исходных-данных)\n",
    "\n",
    "[2. Предобработка данных](#Предобработка-данных)\n",
    "   \n",
    "[3. Добавление новых признаков](#Добавление-новых-признаков)\n",
    "   \n",
    "[4. Подсчёт потребляемых услуг](#Подсчёт-потребляемых-услуг)\n",
    "   \n",
    "[5. Анализ данных и подсчёт выручки](#Анализ-данных-и-подсчёт-выручки)\n",
    "\n",
    "[5.1 Анализ выполненных звонков](#Анализ-выполненных-звонков)\n",
    "\n",
    "[5.2 Анализ отправленных SMS-сообщений](#Анализ-отправленных-SMS-сообщений)\n",
    "\n",
    "[5.2 Анализ потребления интернет-трафика](#Анализ-потребления-интернет-трафика)\n",
    "\n",
    "[6. Проверка гипотез](#Проверка-гипотез)\n",
    "\n",
    "[7. Вывод](#Вывод)"
   ]
  },
  {
   "cell_type": "markdown",
   "id": "43e79617",
   "metadata": {},
   "source": [
    "## Изучение исходных данных"
   ]
  },
  {
   "cell_type": "markdown",
   "id": "e9d42186",
   "metadata": {},
   "source": [
    "[Назад к содержанию](#Содержание)"
   ]
  },
  {
   "cell_type": "markdown",
   "id": "e0706d56",
   "metadata": {},
   "source": [
    "Импортируем необходимые библиотеки."
   ]
  },
  {
   "cell_type": "code",
   "execution_count": 262,
   "id": "5e16296c",
   "metadata": {},
   "outputs": [],
   "source": [
    "# импорт библиотек:\n",
    "\n",
    "import numpy as np\n",
    "import pandas as pd\n",
    "import matplotlib.pyplot as plt\n",
    "import seaborn as sns\n",
    "\n",
    "from scipy import stats as st"
   ]
  },
  {
   "cell_type": "code",
   "execution_count": 141,
   "id": "17dc344b",
   "metadata": {},
   "outputs": [],
   "source": [
    "# настройки:\n",
    "\n",
    "pd.set_option('max_columns', None)"
   ]
  },
  {
   "cell_type": "markdown",
   "id": "aa1a745b",
   "metadata": {},
   "source": [
    "Считаем данные из предоставленных файлов. Создадим следующие датафреймы:\n",
    "\n",
    "   - `calls` - информация о выполненных звонках;\n",
    "   - `sessions` - информация об использованном интернет-трафике;\n",
    "   - `messages` - информация об отправленных сообщениях;\n",
    "   - `tariffs` - информация о тарифах;\n",
    "   - `users` - информация о пользователях."
   ]
  },
  {
   "cell_type": "code",
   "execution_count": 142,
   "id": "277e9098",
   "metadata": {},
   "outputs": [],
   "source": [
    "# считывание исходных датафреймов:\n",
    "\n",
    "calls = pd.read_csv('/datasets/calls.csv')\n",
    "sessions = pd.read_csv('/datasets/internet.csv')\n",
    "messages = pd.read_csv('/datasets/messages.csv')\n",
    "tariffs = pd.read_csv('/datasets/tariffs.csv')\n",
    "users = pd.read_csv('/datasets/users.csv')"
   ]
  },
  {
   "cell_type": "markdown",
   "id": "48dfc21b",
   "metadata": {},
   "source": [
    "### Изучение общей информации о выполненных звонках `calls`"
   ]
  },
  {
   "cell_type": "markdown",
   "id": "829b88a4",
   "metadata": {},
   "source": [
    "[Назад к содержанию](#Содержание)"
   ]
  },
  {
   "cell_type": "code",
   "execution_count": 143,
   "id": "06d51811",
   "metadata": {},
   "outputs": [
    {
     "name": "stdout",
     "output_type": "stream",
     "text": [
      "<class 'pandas.core.frame.DataFrame'>\n",
      "RangeIndex: 202607 entries, 0 to 202606\n",
      "Data columns (total 4 columns):\n",
      " #   Column     Non-Null Count   Dtype  \n",
      "---  ------     --------------   -----  \n",
      " 0   id         202607 non-null  object \n",
      " 1   call_date  202607 non-null  object \n",
      " 2   duration   202607 non-null  float64\n",
      " 3   user_id    202607 non-null  int64  \n",
      "dtypes: float64(1), int64(1), object(2)\n",
      "memory usage: 6.2+ MB\n"
     ]
    }
   ],
   "source": [
    "# вывод общей информации:\n",
    "\n",
    "calls.info()"
   ]
  },
  {
   "cell_type": "markdown",
   "id": "c2bf9080",
   "metadata": {},
   "source": [
    "Отметим, что признак с датой совершения звонков `call_date` сохранен в формате `object`. В дальнейшем приведём этот признак к формату `datetime`."
   ]
  },
  {
   "cell_type": "code",
   "execution_count": 144,
   "id": "9aa0f2c0",
   "metadata": {},
   "outputs": [
    {
     "data": {
      "text/html": [
       "<div>\n",
       "<style scoped>\n",
       "    .dataframe tbody tr th:only-of-type {\n",
       "        vertical-align: middle;\n",
       "    }\n",
       "\n",
       "    .dataframe tbody tr th {\n",
       "        vertical-align: top;\n",
       "    }\n",
       "\n",
       "    .dataframe thead th {\n",
       "        text-align: right;\n",
       "    }\n",
       "</style>\n",
       "<table border=\"1\" class=\"dataframe\">\n",
       "  <thead>\n",
       "    <tr style=\"text-align: right;\">\n",
       "      <th></th>\n",
       "      <th>id</th>\n",
       "      <th>call_date</th>\n",
       "      <th>duration</th>\n",
       "      <th>user_id</th>\n",
       "    </tr>\n",
       "  </thead>\n",
       "  <tbody>\n",
       "    <tr>\n",
       "      <th>0</th>\n",
       "      <td>1000_0</td>\n",
       "      <td>2018-07-25</td>\n",
       "      <td>0.00</td>\n",
       "      <td>1000</td>\n",
       "    </tr>\n",
       "    <tr>\n",
       "      <th>1</th>\n",
       "      <td>1000_1</td>\n",
       "      <td>2018-08-17</td>\n",
       "      <td>0.00</td>\n",
       "      <td>1000</td>\n",
       "    </tr>\n",
       "    <tr>\n",
       "      <th>2</th>\n",
       "      <td>1000_2</td>\n",
       "      <td>2018-06-11</td>\n",
       "      <td>2.85</td>\n",
       "      <td>1000</td>\n",
       "    </tr>\n",
       "    <tr>\n",
       "      <th>3</th>\n",
       "      <td>1000_3</td>\n",
       "      <td>2018-09-21</td>\n",
       "      <td>13.80</td>\n",
       "      <td>1000</td>\n",
       "    </tr>\n",
       "    <tr>\n",
       "      <th>4</th>\n",
       "      <td>1000_4</td>\n",
       "      <td>2018-12-15</td>\n",
       "      <td>5.18</td>\n",
       "      <td>1000</td>\n",
       "    </tr>\n",
       "  </tbody>\n",
       "</table>\n",
       "</div>"
      ],
      "text/plain": [
       "       id   call_date  duration  user_id\n",
       "0  1000_0  2018-07-25      0.00     1000\n",
       "1  1000_1  2018-08-17      0.00     1000\n",
       "2  1000_2  2018-06-11      2.85     1000\n",
       "3  1000_3  2018-09-21     13.80     1000\n",
       "4  1000_4  2018-12-15      5.18     1000"
      ]
     },
     "execution_count": 144,
     "metadata": {},
     "output_type": "execute_result"
    }
   ],
   "source": [
    "# вывод первых строк:\n",
    "\n",
    "calls.head()"
   ]
  },
  {
   "cell_type": "markdown",
   "id": "a4407af4",
   "metadata": {},
   "source": [
    "Выведем гистограмму распределения продолжительности звонков."
   ]
  },
  {
   "cell_type": "code",
   "execution_count": 145,
   "id": "4585f752",
   "metadata": {},
   "outputs": [
    {
     "data": {
      "image/png": "[encoded data removed]",
      "text/plain": [
       "<Figure size 432x288 with 1 Axes>"
      ]
     },
     "metadata": {
      "needs_background": "light"
     },
     "output_type": "display_data"
    }
   ],
   "source": [
    "# гистограмма продолжительности звонков:\n",
    "\n",
    "calls['duration'].hist(bins=35)\n",
    "plt.xlabel('Продолжительность звонков, мин.');"
   ]
  },
  {
   "cell_type": "markdown",
   "id": "a7835b3b",
   "metadata": {},
   "source": [
    "Подавляющее большинство звонков с нулевой продолжительностью. Согласно исходным данным - это не ошибка: нулём обозначены пропущенные звонки, поэтому не будем их удалять."
   ]
  },
  {
   "cell_type": "markdown",
   "id": "64c4372e",
   "metadata": {},
   "source": [
    "### Изучение общей информации об использованном интернет-трафике `sessions` "
   ]
  },
  {
   "cell_type": "markdown",
   "id": "154f9a25",
   "metadata": {},
   "source": [
    "[Назад к содержанию](#Содержание)"
   ]
  },
  {
   "cell_type": "code",
   "execution_count": 146,
   "id": "1a83bdde",
   "metadata": {},
   "outputs": [
    {
     "name": "stdout",
     "output_type": "stream",
     "text": [
      "<class 'pandas.core.frame.DataFrame'>\n",
      "RangeIndex: 149396 entries, 0 to 149395\n",
      "Data columns (total 5 columns):\n",
      " #   Column        Non-Null Count   Dtype  \n",
      "---  ------        --------------   -----  \n",
      " 0   Unnamed: 0    149396 non-null  int64  \n",
      " 1   id            149396 non-null  object \n",
      " 2   mb_used       149396 non-null  float64\n",
      " 3   session_date  149396 non-null  object \n",
      " 4   user_id       149396 non-null  int64  \n",
      "dtypes: float64(1), int64(2), object(2)\n",
      "memory usage: 5.7+ MB\n"
     ]
    }
   ],
   "source": [
    "# вывод общей информации:\n",
    "\n",
    "sessions.info()"
   ]
  },
  {
   "cell_type": "markdown",
   "id": "3ae5f548",
   "metadata": {},
   "source": [
    "Признак с датой интернет-сессии `session_date` также сохранен в формате `object`. В дальнейшем приведём этот признак к формату `datetime`."
   ]
  },
  {
   "cell_type": "code",
   "execution_count": 147,
   "id": "12d27ce0",
   "metadata": {},
   "outputs": [
    {
     "data": {
      "text/html": [
       "<div>\n",
       "<style scoped>\n",
       "    .dataframe tbody tr th:only-of-type {\n",
       "        vertical-align: middle;\n",
       "    }\n",
       "\n",
       "    .dataframe tbody tr th {\n",
       "        vertical-align: top;\n",
       "    }\n",
       "\n",
       "    .dataframe thead th {\n",
       "        text-align: right;\n",
       "    }\n",
       "</style>\n",
       "<table border=\"1\" class=\"dataframe\">\n",
       "  <thead>\n",
       "    <tr style=\"text-align: right;\">\n",
       "      <th></th>\n",
       "      <th>Unnamed: 0</th>\n",
       "      <th>id</th>\n",
       "      <th>mb_used</th>\n",
       "      <th>session_date</th>\n",
       "      <th>user_id</th>\n",
       "    </tr>\n",
       "  </thead>\n",
       "  <tbody>\n",
       "    <tr>\n",
       "      <th>0</th>\n",
       "      <td>0</td>\n",
       "      <td>1000_0</td>\n",
       "      <td>112.95</td>\n",
       "      <td>2018-11-25</td>\n",
       "      <td>1000</td>\n",
       "    </tr>\n",
       "    <tr>\n",
       "      <th>1</th>\n",
       "      <td>1</td>\n",
       "      <td>1000_1</td>\n",
       "      <td>1052.81</td>\n",
       "      <td>2018-09-07</td>\n",
       "      <td>1000</td>\n",
       "    </tr>\n",
       "    <tr>\n",
       "      <th>2</th>\n",
       "      <td>2</td>\n",
       "      <td>1000_2</td>\n",
       "      <td>1197.26</td>\n",
       "      <td>2018-06-25</td>\n",
       "      <td>1000</td>\n",
       "    </tr>\n",
       "    <tr>\n",
       "      <th>3</th>\n",
       "      <td>3</td>\n",
       "      <td>1000_3</td>\n",
       "      <td>550.27</td>\n",
       "      <td>2018-08-22</td>\n",
       "      <td>1000</td>\n",
       "    </tr>\n",
       "    <tr>\n",
       "      <th>4</th>\n",
       "      <td>4</td>\n",
       "      <td>1000_4</td>\n",
       "      <td>302.56</td>\n",
       "      <td>2018-09-24</td>\n",
       "      <td>1000</td>\n",
       "    </tr>\n",
       "  </tbody>\n",
       "</table>\n",
       "</div>"
      ],
      "text/plain": [
       "   Unnamed: 0      id  mb_used session_date  user_id\n",
       "0           0  1000_0   112.95   2018-11-25     1000\n",
       "1           1  1000_1  1052.81   2018-09-07     1000\n",
       "2           2  1000_2  1197.26   2018-06-25     1000\n",
       "3           3  1000_3   550.27   2018-08-22     1000\n",
       "4           4  1000_4   302.56   2018-09-24     1000"
      ]
     },
     "execution_count": 147,
     "metadata": {},
     "output_type": "execute_result"
    }
   ],
   "source": [
    "# вывод первых строк:\n",
    "\n",
    "sessions.head()"
   ]
  },
  {
   "cell_type": "markdown",
   "id": "d0f3de3f",
   "metadata": {},
   "source": [
    "Выведем гистограмму распределения израсходованного трафика."
   ]
  },
  {
   "cell_type": "code",
   "execution_count": 148,
   "id": "bbc1761f",
   "metadata": {},
   "outputs": [
    {
     "data": {
      "image/png": "[encoded data removed]",
      "text/plain": [
       "<Figure size 432x288 with 1 Axes>"
      ]
     },
     "metadata": {
      "needs_background": "light"
     },
     "output_type": "display_data"
    }
   ],
   "source": [
    "sessions['mb_used'].hist(bins=35)\n",
    "plt.xlabel('Израсходованный трафик, Мбайт');"
   ]
  },
  {
   "cell_type": "markdown",
   "id": "1c3aac5c",
   "metadata": {},
   "source": [
    "### Изучение общей информации об отправленных сообщениях `messages` "
   ]
  },
  {
   "cell_type": "markdown",
   "id": "8b211782",
   "metadata": {},
   "source": [
    "[Назад к содержанию](#Содержание)"
   ]
  },
  {
   "cell_type": "code",
   "execution_count": 149,
   "id": "37101d3a",
   "metadata": {},
   "outputs": [
    {
     "name": "stdout",
     "output_type": "stream",
     "text": [
      "<class 'pandas.core.frame.DataFrame'>\n",
      "RangeIndex: 123036 entries, 0 to 123035\n",
      "Data columns (total 3 columns):\n",
      " #   Column        Non-Null Count   Dtype \n",
      "---  ------        --------------   ----- \n",
      " 0   id            123036 non-null  object\n",
      " 1   message_date  123036 non-null  object\n",
      " 2   user_id       123036 non-null  int64 \n",
      "dtypes: int64(1), object(2)\n",
      "memory usage: 2.8+ MB\n"
     ]
    }
   ],
   "source": [
    "# вывод общей информации:\n",
    "\n",
    "messages.info()"
   ]
  },
  {
   "cell_type": "markdown",
   "id": "b824d907",
   "metadata": {},
   "source": [
    "Признак с датой сообщений `message_date` сохранен в формате `object`. В дальнейшем приведём этот признак к формату `datetime`."
   ]
  },
  {
   "cell_type": "code",
   "execution_count": 150,
   "id": "b68d91de",
   "metadata": {},
   "outputs": [
    {
     "data": {
      "text/html": [
       "<div>\n",
       "<style scoped>\n",
       "    .dataframe tbody tr th:only-of-type {\n",
       "        vertical-align: middle;\n",
       "    }\n",
       "\n",
       "    .dataframe tbody tr th {\n",
       "        vertical-align: top;\n",
       "    }\n",
       "\n",
       "    .dataframe thead th {\n",
       "        text-align: right;\n",
       "    }\n",
       "</style>\n",
       "<table border=\"1\" class=\"dataframe\">\n",
       "  <thead>\n",
       "    <tr style=\"text-align: right;\">\n",
       "      <th></th>\n",
       "      <th>id</th>\n",
       "      <th>message_date</th>\n",
       "      <th>user_id</th>\n",
       "    </tr>\n",
       "  </thead>\n",
       "  <tbody>\n",
       "    <tr>\n",
       "      <th>0</th>\n",
       "      <td>1000_0</td>\n",
       "      <td>2018-06-27</td>\n",
       "      <td>1000</td>\n",
       "    </tr>\n",
       "    <tr>\n",
       "      <th>1</th>\n",
       "      <td>1000_1</td>\n",
       "      <td>2018-10-08</td>\n",
       "      <td>1000</td>\n",
       "    </tr>\n",
       "    <tr>\n",
       "      <th>2</th>\n",
       "      <td>1000_2</td>\n",
       "      <td>2018-08-04</td>\n",
       "      <td>1000</td>\n",
       "    </tr>\n",
       "    <tr>\n",
       "      <th>3</th>\n",
       "      <td>1000_3</td>\n",
       "      <td>2018-06-16</td>\n",
       "      <td>1000</td>\n",
       "    </tr>\n",
       "    <tr>\n",
       "      <th>4</th>\n",
       "      <td>1000_4</td>\n",
       "      <td>2018-12-05</td>\n",
       "      <td>1000</td>\n",
       "    </tr>\n",
       "  </tbody>\n",
       "</table>\n",
       "</div>"
      ],
      "text/plain": [
       "       id message_date  user_id\n",
       "0  1000_0   2018-06-27     1000\n",
       "1  1000_1   2018-10-08     1000\n",
       "2  1000_2   2018-08-04     1000\n",
       "3  1000_3   2018-06-16     1000\n",
       "4  1000_4   2018-12-05     1000"
      ]
     },
     "execution_count": 150,
     "metadata": {},
     "output_type": "execute_result"
    }
   ],
   "source": [
    "# вывод первых строк:\n",
    "\n",
    "messages.head()"
   ]
  },
  {
   "cell_type": "markdown",
   "id": "84ee0f49",
   "metadata": {},
   "source": [
    "### Изучение общей информации о тарифах `tariffs`"
   ]
  },
  {
   "cell_type": "markdown",
   "id": "ba75c0ef",
   "metadata": {},
   "source": [
    "[Назад к содержанию](#Содержание)"
   ]
  },
  {
   "cell_type": "code",
   "execution_count": 151,
   "id": "dbbe7984",
   "metadata": {},
   "outputs": [
    {
     "name": "stdout",
     "output_type": "stream",
     "text": [
      "<class 'pandas.core.frame.DataFrame'>\n",
      "RangeIndex: 2 entries, 0 to 1\n",
      "Data columns (total 8 columns):\n",
      " #   Column                 Non-Null Count  Dtype \n",
      "---  ------                 --------------  ----- \n",
      " 0   messages_included      2 non-null      int64 \n",
      " 1   mb_per_month_included  2 non-null      int64 \n",
      " 2   minutes_included       2 non-null      int64 \n",
      " 3   rub_monthly_fee        2 non-null      int64 \n",
      " 4   rub_per_gb             2 non-null      int64 \n",
      " 5   rub_per_message        2 non-null      int64 \n",
      " 6   rub_per_minute         2 non-null      int64 \n",
      " 7   tariff_name            2 non-null      object\n",
      "dtypes: int64(7), object(1)\n",
      "memory usage: 256.0+ bytes\n"
     ]
    }
   ],
   "source": [
    "# вывод общей информации:\n",
    "\n",
    "tariffs.info()"
   ]
  },
  {
   "cell_type": "code",
   "execution_count": 152,
   "id": "e0537a29",
   "metadata": {},
   "outputs": [
    {
     "data": {
      "text/html": [
       "<div>\n",
       "<style scoped>\n",
       "    .dataframe tbody tr th:only-of-type {\n",
       "        vertical-align: middle;\n",
       "    }\n",
       "\n",
       "    .dataframe tbody tr th {\n",
       "        vertical-align: top;\n",
       "    }\n",
       "\n",
       "    .dataframe thead th {\n",
       "        text-align: right;\n",
       "    }\n",
       "</style>\n",
       "<table border=\"1\" class=\"dataframe\">\n",
       "  <thead>\n",
       "    <tr style=\"text-align: right;\">\n",
       "      <th></th>\n",
       "      <th>messages_included</th>\n",
       "      <th>mb_per_month_included</th>\n",
       "      <th>minutes_included</th>\n",
       "      <th>rub_monthly_fee</th>\n",
       "      <th>rub_per_gb</th>\n",
       "      <th>rub_per_message</th>\n",
       "      <th>rub_per_minute</th>\n",
       "      <th>tariff_name</th>\n",
       "    </tr>\n",
       "  </thead>\n",
       "  <tbody>\n",
       "    <tr>\n",
       "      <th>0</th>\n",
       "      <td>50</td>\n",
       "      <td>15360</td>\n",
       "      <td>500</td>\n",
       "      <td>550</td>\n",
       "      <td>200</td>\n",
       "      <td>3</td>\n",
       "      <td>3</td>\n",
       "      <td>smart</td>\n",
       "    </tr>\n",
       "    <tr>\n",
       "      <th>1</th>\n",
       "      <td>1000</td>\n",
       "      <td>30720</td>\n",
       "      <td>3000</td>\n",
       "      <td>1950</td>\n",
       "      <td>150</td>\n",
       "      <td>1</td>\n",
       "      <td>1</td>\n",
       "      <td>ultra</td>\n",
       "    </tr>\n",
       "  </tbody>\n",
       "</table>\n",
       "</div>"
      ],
      "text/plain": [
       "   messages_included  mb_per_month_included  minutes_included  \\\n",
       "0                 50                  15360               500   \n",
       "1               1000                  30720              3000   \n",
       "\n",
       "   rub_monthly_fee  rub_per_gb  rub_per_message  rub_per_minute tariff_name  \n",
       "0              550         200                3               3       smart  \n",
       "1             1950         150                1               1       ultra  "
      ]
     },
     "execution_count": 152,
     "metadata": {},
     "output_type": "execute_result"
    }
   ],
   "source": [
    "# вывод tariffs:\n",
    "\n",
    "tariffs"
   ]
  },
  {
   "cell_type": "markdown",
   "id": "d1ec9852",
   "metadata": {},
   "source": [
    "Предоставлено два тарифа: \"Смарт\" и \"Ультра\"."
   ]
  },
  {
   "cell_type": "markdown",
   "id": "cdfcbe0d",
   "metadata": {},
   "source": [
    "### Изучение общей информации о пользователях `users` "
   ]
  },
  {
   "cell_type": "markdown",
   "id": "b035544d",
   "metadata": {},
   "source": [
    "[Назад к содержанию](#Содержание)"
   ]
  },
  {
   "cell_type": "code",
   "execution_count": 153,
   "id": "2a2c135f",
   "metadata": {},
   "outputs": [
    {
     "name": "stdout",
     "output_type": "stream",
     "text": [
      "<class 'pandas.core.frame.DataFrame'>\n",
      "RangeIndex: 500 entries, 0 to 499\n",
      "Data columns (total 8 columns):\n",
      " #   Column      Non-Null Count  Dtype \n",
      "---  ------      --------------  ----- \n",
      " 0   user_id     500 non-null    int64 \n",
      " 1   age         500 non-null    int64 \n",
      " 2   churn_date  38 non-null     object\n",
      " 3   city        500 non-null    object\n",
      " 4   first_name  500 non-null    object\n",
      " 5   last_name   500 non-null    object\n",
      " 6   reg_date    500 non-null    object\n",
      " 7   tariff      500 non-null    object\n",
      "dtypes: int64(2), object(6)\n",
      "memory usage: 31.4+ KB\n"
     ]
    }
   ],
   "source": [
    "# вывод общей информации:\n",
    "\n",
    "users.info()"
   ]
  },
  {
   "cell_type": "markdown",
   "id": "88146472",
   "metadata": {},
   "source": [
    "38 абонентов завершили использование тарифа - признак `churn_date`. Отсутствующие данные в `churn_date` означают, что на момент выгрузки данных тариф абонента работал. Подсчитаем процент клиентов, которые расторгли договор."
   ]
  },
  {
   "cell_type": "code",
   "execution_count": 154,
   "id": "a15ea493",
   "metadata": {},
   "outputs": [
    {
     "data": {
      "text/plain": [
       "7.6"
      ]
     },
     "execution_count": 154,
     "metadata": {},
     "output_type": "execute_result"
    }
   ],
   "source": [
    "users['churn_date'].count() / users['churn_date'].shape[0] * 100"
   ]
  },
  {
   "cell_type": "markdown",
   "id": "4fe3b89b",
   "metadata": {},
   "source": [
    "Расторгли договор 7.6% клиентов из предоставленного датасета `users`.\n",
    "\n",
    "Признаки с датой прекращения пользования тарифом `churn_date` и с датой подключения тарифа `reg_date` сохранены в формате `object`. В дальнейшем переведём формат данных этих признаков в `datetime'.   "
   ]
  },
  {
   "cell_type": "code",
   "execution_count": 155,
   "id": "41ef297b",
   "metadata": {},
   "outputs": [
    {
     "data": {
      "text/html": [
       "<div>\n",
       "<style scoped>\n",
       "    .dataframe tbody tr th:only-of-type {\n",
       "        vertical-align: middle;\n",
       "    }\n",
       "\n",
       "    .dataframe tbody tr th {\n",
       "        vertical-align: top;\n",
       "    }\n",
       "\n",
       "    .dataframe thead th {\n",
       "        text-align: right;\n",
       "    }\n",
       "</style>\n",
       "<table border=\"1\" class=\"dataframe\">\n",
       "  <thead>\n",
       "    <tr style=\"text-align: right;\">\n",
       "      <th></th>\n",
       "      <th>user_id</th>\n",
       "      <th>age</th>\n",
       "      <th>churn_date</th>\n",
       "      <th>city</th>\n",
       "      <th>first_name</th>\n",
       "      <th>last_name</th>\n",
       "      <th>reg_date</th>\n",
       "      <th>tariff</th>\n",
       "    </tr>\n",
       "  </thead>\n",
       "  <tbody>\n",
       "    <tr>\n",
       "      <th>0</th>\n",
       "      <td>1000</td>\n",
       "      <td>52</td>\n",
       "      <td>NaN</td>\n",
       "      <td>Краснодар</td>\n",
       "      <td>Рафаил</td>\n",
       "      <td>Верещагин</td>\n",
       "      <td>2018-05-25</td>\n",
       "      <td>ultra</td>\n",
       "    </tr>\n",
       "    <tr>\n",
       "      <th>1</th>\n",
       "      <td>1001</td>\n",
       "      <td>41</td>\n",
       "      <td>NaN</td>\n",
       "      <td>Москва</td>\n",
       "      <td>Иван</td>\n",
       "      <td>Ежов</td>\n",
       "      <td>2018-11-01</td>\n",
       "      <td>smart</td>\n",
       "    </tr>\n",
       "    <tr>\n",
       "      <th>2</th>\n",
       "      <td>1002</td>\n",
       "      <td>59</td>\n",
       "      <td>NaN</td>\n",
       "      <td>Стерлитамак</td>\n",
       "      <td>Евгений</td>\n",
       "      <td>Абрамович</td>\n",
       "      <td>2018-06-17</td>\n",
       "      <td>smart</td>\n",
       "    </tr>\n",
       "    <tr>\n",
       "      <th>3</th>\n",
       "      <td>1003</td>\n",
       "      <td>23</td>\n",
       "      <td>NaN</td>\n",
       "      <td>Москва</td>\n",
       "      <td>Белла</td>\n",
       "      <td>Белякова</td>\n",
       "      <td>2018-08-17</td>\n",
       "      <td>ultra</td>\n",
       "    </tr>\n",
       "    <tr>\n",
       "      <th>4</th>\n",
       "      <td>1004</td>\n",
       "      <td>68</td>\n",
       "      <td>NaN</td>\n",
       "      <td>Новокузнецк</td>\n",
       "      <td>Татьяна</td>\n",
       "      <td>Авдеенко</td>\n",
       "      <td>2018-05-14</td>\n",
       "      <td>ultra</td>\n",
       "    </tr>\n",
       "  </tbody>\n",
       "</table>\n",
       "</div>"
      ],
      "text/plain": [
       "   user_id  age churn_date         city first_name  last_name    reg_date  \\\n",
       "0     1000   52        NaN    Краснодар     Рафаил  Верещагин  2018-05-25   \n",
       "1     1001   41        NaN       Москва       Иван       Ежов  2018-11-01   \n",
       "2     1002   59        NaN  Стерлитамак    Евгений  Абрамович  2018-06-17   \n",
       "3     1003   23        NaN       Москва      Белла   Белякова  2018-08-17   \n",
       "4     1004   68        NaN  Новокузнецк    Татьяна   Авдеенко  2018-05-14   \n",
       "\n",
       "  tariff  \n",
       "0  ultra  \n",
       "1  smart  \n",
       "2  smart  \n",
       "3  ultra  \n",
       "4  ultra  "
      ]
     },
     "execution_count": 155,
     "metadata": {},
     "output_type": "execute_result"
    }
   ],
   "source": [
    "# вывод первых строк:\n",
    "\n",
    "users.head()"
   ]
  },
  {
   "cell_type": "markdown",
   "id": "002f2da3",
   "metadata": {},
   "source": [
    "**Вывод по изучению общей информации**\n",
    "\n",
    "Изучили общую информацию о предоставленных данных:\n",
    "\n",
    "   - тип некоторых признаков следует изменить на `datetime`;\n",
    "   - зафиксировали 38 абонентов, которые прекратили использование своего тарифа - это 7.6% клиентов;\n",
    "   - предоставлено два тарифных плана: \"Смарт\" и \"Ультра\"."
   ]
  },
  {
   "cell_type": "markdown",
   "id": "593c3933",
   "metadata": {},
   "source": [
    "## Предобработка данных"
   ]
  },
  {
   "cell_type": "markdown",
   "id": "82b5fb6d",
   "metadata": {},
   "source": [
    "[Назад к содержанию](#Содержание)"
   ]
  },
  {
   "cell_type": "markdown",
   "id": "60942a9e",
   "metadata": {},
   "source": [
    "На этапе изучения данных обнаружили для временных признаков неверный тип данных. Это следующие признаки:\n",
    "\n",
    "   - `call_date` из датафрейма `calls`;\n",
    "   - `session_date` из `sessions`;\n",
    "   - `message_date` из `messages`;\n",
    "   - `churn_date` и `reg_date` из `users`.\n",
    "\n",
    "Приведём тип данных к `datetime`."
   ]
  },
  {
   "cell_type": "code",
   "execution_count": 156,
   "id": "1aea75e9",
   "metadata": {},
   "outputs": [],
   "source": [
    "# перевод временных признаков в datetime:\n",
    "\n",
    "calls['call_date'] = pd.to_datetime(calls['call_date'], format='%Y-%m-%d')\n",
    "sessions['session_date'] = pd.to_datetime(sessions['session_date'], format='%Y-%m-%d')\n",
    "messages['message_date'] = pd.to_datetime(messages['message_date'], format='%Y-%m-%d')\n",
    "users['churn_date'] = pd.to_datetime(users['churn_date'], format='%Y-%m-%d')\n",
    "users['reg_date'] = pd.to_datetime(users['reg_date'], format='%Y-%m-%d')"
   ]
  },
  {
   "cell_type": "markdown",
   "id": "1de9a8e3",
   "metadata": {},
   "source": [
    "Привели тип временных признаков к формату `datetime`. \n",
    "\n",
    "Ещё раз взглянем на предоставленные датасеты."
   ]
  },
  {
   "cell_type": "code",
   "execution_count": 157,
   "id": "35fdf349",
   "metadata": {},
   "outputs": [
    {
     "data": {
      "text/html": [
       "<div>\n",
       "<style scoped>\n",
       "    .dataframe tbody tr th:only-of-type {\n",
       "        vertical-align: middle;\n",
       "    }\n",
       "\n",
       "    .dataframe tbody tr th {\n",
       "        vertical-align: top;\n",
       "    }\n",
       "\n",
       "    .dataframe thead th {\n",
       "        text-align: right;\n",
       "    }\n",
       "</style>\n",
       "<table border=\"1\" class=\"dataframe\">\n",
       "  <thead>\n",
       "    <tr style=\"text-align: right;\">\n",
       "      <th></th>\n",
       "      <th>id</th>\n",
       "      <th>call_date</th>\n",
       "      <th>duration</th>\n",
       "      <th>user_id</th>\n",
       "    </tr>\n",
       "  </thead>\n",
       "  <tbody>\n",
       "    <tr>\n",
       "      <th>0</th>\n",
       "      <td>1000_0</td>\n",
       "      <td>2018-07-25</td>\n",
       "      <td>0.00</td>\n",
       "      <td>1000</td>\n",
       "    </tr>\n",
       "    <tr>\n",
       "      <th>1</th>\n",
       "      <td>1000_1</td>\n",
       "      <td>2018-08-17</td>\n",
       "      <td>0.00</td>\n",
       "      <td>1000</td>\n",
       "    </tr>\n",
       "    <tr>\n",
       "      <th>2</th>\n",
       "      <td>1000_2</td>\n",
       "      <td>2018-06-11</td>\n",
       "      <td>2.85</td>\n",
       "      <td>1000</td>\n",
       "    </tr>\n",
       "    <tr>\n",
       "      <th>3</th>\n",
       "      <td>1000_3</td>\n",
       "      <td>2018-09-21</td>\n",
       "      <td>13.80</td>\n",
       "      <td>1000</td>\n",
       "    </tr>\n",
       "    <tr>\n",
       "      <th>4</th>\n",
       "      <td>1000_4</td>\n",
       "      <td>2018-12-15</td>\n",
       "      <td>5.18</td>\n",
       "      <td>1000</td>\n",
       "    </tr>\n",
       "  </tbody>\n",
       "</table>\n",
       "</div>"
      ],
      "text/plain": [
       "       id  call_date  duration  user_id\n",
       "0  1000_0 2018-07-25      0.00     1000\n",
       "1  1000_1 2018-08-17      0.00     1000\n",
       "2  1000_2 2018-06-11      2.85     1000\n",
       "3  1000_3 2018-09-21     13.80     1000\n",
       "4  1000_4 2018-12-15      5.18     1000"
      ]
     },
     "execution_count": 157,
     "metadata": {},
     "output_type": "execute_result"
    }
   ],
   "source": [
    "# вывод первых строк calls:\n",
    "\n",
    "calls.head()"
   ]
  },
  {
   "cell_type": "markdown",
   "id": "28aaee54",
   "metadata": {},
   "source": [
    "Округлим продолжительность звонков `duration` в большую сторону и приведём тип данных к `integer`."
   ]
  },
  {
   "cell_type": "code",
   "execution_count": 158,
   "id": "2d1e4a70",
   "metadata": {},
   "outputs": [],
   "source": [
    "# округление значений столбца duration:\n",
    "calls['duration'] = np.ceil(calls['duration'])\n",
    "\n",
    "# приведение к типу int:\n",
    "calls['duration'] = calls['duration'].astype (int)"
   ]
  },
  {
   "cell_type": "code",
   "execution_count": 159,
   "id": "ecbf8905",
   "metadata": {},
   "outputs": [
    {
     "data": {
      "text/html": [
       "<div>\n",
       "<style scoped>\n",
       "    .dataframe tbody tr th:only-of-type {\n",
       "        vertical-align: middle;\n",
       "    }\n",
       "\n",
       "    .dataframe tbody tr th {\n",
       "        vertical-align: top;\n",
       "    }\n",
       "\n",
       "    .dataframe thead th {\n",
       "        text-align: right;\n",
       "    }\n",
       "</style>\n",
       "<table border=\"1\" class=\"dataframe\">\n",
       "  <thead>\n",
       "    <tr style=\"text-align: right;\">\n",
       "      <th></th>\n",
       "      <th>Unnamed: 0</th>\n",
       "      <th>id</th>\n",
       "      <th>mb_used</th>\n",
       "      <th>session_date</th>\n",
       "      <th>user_id</th>\n",
       "    </tr>\n",
       "  </thead>\n",
       "  <tbody>\n",
       "    <tr>\n",
       "      <th>0</th>\n",
       "      <td>0</td>\n",
       "      <td>1000_0</td>\n",
       "      <td>112.95</td>\n",
       "      <td>2018-11-25</td>\n",
       "      <td>1000</td>\n",
       "    </tr>\n",
       "    <tr>\n",
       "      <th>1</th>\n",
       "      <td>1</td>\n",
       "      <td>1000_1</td>\n",
       "      <td>1052.81</td>\n",
       "      <td>2018-09-07</td>\n",
       "      <td>1000</td>\n",
       "    </tr>\n",
       "    <tr>\n",
       "      <th>2</th>\n",
       "      <td>2</td>\n",
       "      <td>1000_2</td>\n",
       "      <td>1197.26</td>\n",
       "      <td>2018-06-25</td>\n",
       "      <td>1000</td>\n",
       "    </tr>\n",
       "    <tr>\n",
       "      <th>3</th>\n",
       "      <td>3</td>\n",
       "      <td>1000_3</td>\n",
       "      <td>550.27</td>\n",
       "      <td>2018-08-22</td>\n",
       "      <td>1000</td>\n",
       "    </tr>\n",
       "    <tr>\n",
       "      <th>4</th>\n",
       "      <td>4</td>\n",
       "      <td>1000_4</td>\n",
       "      <td>302.56</td>\n",
       "      <td>2018-09-24</td>\n",
       "      <td>1000</td>\n",
       "    </tr>\n",
       "  </tbody>\n",
       "</table>\n",
       "</div>"
      ],
      "text/plain": [
       "   Unnamed: 0      id  mb_used session_date  user_id\n",
       "0           0  1000_0   112.95   2018-11-25     1000\n",
       "1           1  1000_1  1052.81   2018-09-07     1000\n",
       "2           2  1000_2  1197.26   2018-06-25     1000\n",
       "3           3  1000_3   550.27   2018-08-22     1000\n",
       "4           4  1000_4   302.56   2018-09-24     1000"
      ]
     },
     "execution_count": 159,
     "metadata": {},
     "output_type": "execute_result"
    }
   ],
   "source": [
    "# вывод первых строк sessions:\n",
    "\n",
    "sessions.head()"
   ]
  },
  {
   "cell_type": "markdown",
   "id": "a19ad3e1",
   "metadata": {},
   "source": [
    "Удалим не нужный признак `Unnamed: 0`."
   ]
  },
  {
   "cell_type": "code",
   "execution_count": 160,
   "id": "7c947ea6",
   "metadata": {},
   "outputs": [],
   "source": [
    "# удаление признака Unnamed: 0:\n",
    "\n",
    "sessions = sessions.drop(['Unnamed: 0'], axis=1)"
   ]
  },
  {
   "cell_type": "code",
   "execution_count": 161,
   "id": "62fc67ce",
   "metadata": {},
   "outputs": [
    {
     "data": {
      "text/html": [
       "<div>\n",
       "<style scoped>\n",
       "    .dataframe tbody tr th:only-of-type {\n",
       "        vertical-align: middle;\n",
       "    }\n",
       "\n",
       "    .dataframe tbody tr th {\n",
       "        vertical-align: top;\n",
       "    }\n",
       "\n",
       "    .dataframe thead th {\n",
       "        text-align: right;\n",
       "    }\n",
       "</style>\n",
       "<table border=\"1\" class=\"dataframe\">\n",
       "  <thead>\n",
       "    <tr style=\"text-align: right;\">\n",
       "      <th></th>\n",
       "      <th>id</th>\n",
       "      <th>mb_used</th>\n",
       "      <th>session_date</th>\n",
       "      <th>user_id</th>\n",
       "    </tr>\n",
       "  </thead>\n",
       "  <tbody>\n",
       "    <tr>\n",
       "      <th>0</th>\n",
       "      <td>1000_0</td>\n",
       "      <td>112.95</td>\n",
       "      <td>2018-11-25</td>\n",
       "      <td>1000</td>\n",
       "    </tr>\n",
       "    <tr>\n",
       "      <th>1</th>\n",
       "      <td>1000_1</td>\n",
       "      <td>1052.81</td>\n",
       "      <td>2018-09-07</td>\n",
       "      <td>1000</td>\n",
       "    </tr>\n",
       "    <tr>\n",
       "      <th>2</th>\n",
       "      <td>1000_2</td>\n",
       "      <td>1197.26</td>\n",
       "      <td>2018-06-25</td>\n",
       "      <td>1000</td>\n",
       "    </tr>\n",
       "    <tr>\n",
       "      <th>3</th>\n",
       "      <td>1000_3</td>\n",
       "      <td>550.27</td>\n",
       "      <td>2018-08-22</td>\n",
       "      <td>1000</td>\n",
       "    </tr>\n",
       "    <tr>\n",
       "      <th>4</th>\n",
       "      <td>1000_4</td>\n",
       "      <td>302.56</td>\n",
       "      <td>2018-09-24</td>\n",
       "      <td>1000</td>\n",
       "    </tr>\n",
       "  </tbody>\n",
       "</table>\n",
       "</div>"
      ],
      "text/plain": [
       "       id  mb_used session_date  user_id\n",
       "0  1000_0   112.95   2018-11-25     1000\n",
       "1  1000_1  1052.81   2018-09-07     1000\n",
       "2  1000_2  1197.26   2018-06-25     1000\n",
       "3  1000_3   550.27   2018-08-22     1000\n",
       "4  1000_4   302.56   2018-09-24     1000"
      ]
     },
     "execution_count": 161,
     "metadata": {},
     "output_type": "execute_result"
    }
   ],
   "source": [
    "sessions.head()"
   ]
  },
  {
   "cell_type": "code",
   "execution_count": 162,
   "id": "d69b8dd6",
   "metadata": {},
   "outputs": [
    {
     "data": {
      "text/html": [
       "<div>\n",
       "<style scoped>\n",
       "    .dataframe tbody tr th:only-of-type {\n",
       "        vertical-align: middle;\n",
       "    }\n",
       "\n",
       "    .dataframe tbody tr th {\n",
       "        vertical-align: top;\n",
       "    }\n",
       "\n",
       "    .dataframe thead th {\n",
       "        text-align: right;\n",
       "    }\n",
       "</style>\n",
       "<table border=\"1\" class=\"dataframe\">\n",
       "  <thead>\n",
       "    <tr style=\"text-align: right;\">\n",
       "      <th></th>\n",
       "      <th>id</th>\n",
       "      <th>message_date</th>\n",
       "      <th>user_id</th>\n",
       "    </tr>\n",
       "  </thead>\n",
       "  <tbody>\n",
       "    <tr>\n",
       "      <th>0</th>\n",
       "      <td>1000_0</td>\n",
       "      <td>2018-06-27</td>\n",
       "      <td>1000</td>\n",
       "    </tr>\n",
       "    <tr>\n",
       "      <th>1</th>\n",
       "      <td>1000_1</td>\n",
       "      <td>2018-10-08</td>\n",
       "      <td>1000</td>\n",
       "    </tr>\n",
       "    <tr>\n",
       "      <th>2</th>\n",
       "      <td>1000_2</td>\n",
       "      <td>2018-08-04</td>\n",
       "      <td>1000</td>\n",
       "    </tr>\n",
       "    <tr>\n",
       "      <th>3</th>\n",
       "      <td>1000_3</td>\n",
       "      <td>2018-06-16</td>\n",
       "      <td>1000</td>\n",
       "    </tr>\n",
       "    <tr>\n",
       "      <th>4</th>\n",
       "      <td>1000_4</td>\n",
       "      <td>2018-12-05</td>\n",
       "      <td>1000</td>\n",
       "    </tr>\n",
       "  </tbody>\n",
       "</table>\n",
       "</div>"
      ],
      "text/plain": [
       "       id message_date  user_id\n",
       "0  1000_0   2018-06-27     1000\n",
       "1  1000_1   2018-10-08     1000\n",
       "2  1000_2   2018-08-04     1000\n",
       "3  1000_3   2018-06-16     1000\n",
       "4  1000_4   2018-12-05     1000"
      ]
     },
     "execution_count": 162,
     "metadata": {},
     "output_type": "execute_result"
    }
   ],
   "source": [
    "# вывод первых строк messages:\n",
    "\n",
    "messages.head()"
   ]
  },
  {
   "cell_type": "markdown",
   "id": "e2a33378",
   "metadata": {},
   "source": [
    "Данные в датафрейме `messages` не требует дальнейшей предобработки."
   ]
  },
  {
   "cell_type": "code",
   "execution_count": 163,
   "id": "2277aaa5",
   "metadata": {},
   "outputs": [
    {
     "data": {
      "text/html": [
       "<div>\n",
       "<style scoped>\n",
       "    .dataframe tbody tr th:only-of-type {\n",
       "        vertical-align: middle;\n",
       "    }\n",
       "\n",
       "    .dataframe tbody tr th {\n",
       "        vertical-align: top;\n",
       "    }\n",
       "\n",
       "    .dataframe thead th {\n",
       "        text-align: right;\n",
       "    }\n",
       "</style>\n",
       "<table border=\"1\" class=\"dataframe\">\n",
       "  <thead>\n",
       "    <tr style=\"text-align: right;\">\n",
       "      <th></th>\n",
       "      <th>messages_included</th>\n",
       "      <th>mb_per_month_included</th>\n",
       "      <th>minutes_included</th>\n",
       "      <th>rub_monthly_fee</th>\n",
       "      <th>rub_per_gb</th>\n",
       "      <th>rub_per_message</th>\n",
       "      <th>rub_per_minute</th>\n",
       "      <th>tariff_name</th>\n",
       "    </tr>\n",
       "  </thead>\n",
       "  <tbody>\n",
       "    <tr>\n",
       "      <th>0</th>\n",
       "      <td>50</td>\n",
       "      <td>15360</td>\n",
       "      <td>500</td>\n",
       "      <td>550</td>\n",
       "      <td>200</td>\n",
       "      <td>3</td>\n",
       "      <td>3</td>\n",
       "      <td>smart</td>\n",
       "    </tr>\n",
       "    <tr>\n",
       "      <th>1</th>\n",
       "      <td>1000</td>\n",
       "      <td>30720</td>\n",
       "      <td>3000</td>\n",
       "      <td>1950</td>\n",
       "      <td>150</td>\n",
       "      <td>1</td>\n",
       "      <td>1</td>\n",
       "      <td>ultra</td>\n",
       "    </tr>\n",
       "  </tbody>\n",
       "</table>\n",
       "</div>"
      ],
      "text/plain": [
       "   messages_included  mb_per_month_included  minutes_included  \\\n",
       "0                 50                  15360               500   \n",
       "1               1000                  30720              3000   \n",
       "\n",
       "   rub_monthly_fee  rub_per_gb  rub_per_message  rub_per_minute tariff_name  \n",
       "0              550         200                3               3       smart  \n",
       "1             1950         150                1               1       ultra  "
      ]
     },
     "execution_count": 163,
     "metadata": {},
     "output_type": "execute_result"
    }
   ],
   "source": [
    "# вывод первых строк tariffs:\n",
    "\n",
    "tariffs.head()"
   ]
  },
  {
   "cell_type": "markdown",
   "id": "d6569c6b",
   "metadata": {},
   "source": [
    "Данные в датафрейме tariffs не требует дальнейшей предобработки."
   ]
  },
  {
   "cell_type": "code",
   "execution_count": 164,
   "id": "f0d38c66",
   "metadata": {},
   "outputs": [
    {
     "data": {
      "text/html": [
       "<div>\n",
       "<style scoped>\n",
       "    .dataframe tbody tr th:only-of-type {\n",
       "        vertical-align: middle;\n",
       "    }\n",
       "\n",
       "    .dataframe tbody tr th {\n",
       "        vertical-align: top;\n",
       "    }\n",
       "\n",
       "    .dataframe thead th {\n",
       "        text-align: right;\n",
       "    }\n",
       "</style>\n",
       "<table border=\"1\" class=\"dataframe\">\n",
       "  <thead>\n",
       "    <tr style=\"text-align: right;\">\n",
       "      <th></th>\n",
       "      <th>user_id</th>\n",
       "      <th>age</th>\n",
       "      <th>churn_date</th>\n",
       "      <th>city</th>\n",
       "      <th>first_name</th>\n",
       "      <th>last_name</th>\n",
       "      <th>reg_date</th>\n",
       "      <th>tariff</th>\n",
       "    </tr>\n",
       "  </thead>\n",
       "  <tbody>\n",
       "    <tr>\n",
       "      <th>0</th>\n",
       "      <td>1000</td>\n",
       "      <td>52</td>\n",
       "      <td>NaT</td>\n",
       "      <td>Краснодар</td>\n",
       "      <td>Рафаил</td>\n",
       "      <td>Верещагин</td>\n",
       "      <td>2018-05-25</td>\n",
       "      <td>ultra</td>\n",
       "    </tr>\n",
       "    <tr>\n",
       "      <th>1</th>\n",
       "      <td>1001</td>\n",
       "      <td>41</td>\n",
       "      <td>NaT</td>\n",
       "      <td>Москва</td>\n",
       "      <td>Иван</td>\n",
       "      <td>Ежов</td>\n",
       "      <td>2018-11-01</td>\n",
       "      <td>smart</td>\n",
       "    </tr>\n",
       "    <tr>\n",
       "      <th>2</th>\n",
       "      <td>1002</td>\n",
       "      <td>59</td>\n",
       "      <td>NaT</td>\n",
       "      <td>Стерлитамак</td>\n",
       "      <td>Евгений</td>\n",
       "      <td>Абрамович</td>\n",
       "      <td>2018-06-17</td>\n",
       "      <td>smart</td>\n",
       "    </tr>\n",
       "    <tr>\n",
       "      <th>3</th>\n",
       "      <td>1003</td>\n",
       "      <td>23</td>\n",
       "      <td>NaT</td>\n",
       "      <td>Москва</td>\n",
       "      <td>Белла</td>\n",
       "      <td>Белякова</td>\n",
       "      <td>2018-08-17</td>\n",
       "      <td>ultra</td>\n",
       "    </tr>\n",
       "    <tr>\n",
       "      <th>4</th>\n",
       "      <td>1004</td>\n",
       "      <td>68</td>\n",
       "      <td>NaT</td>\n",
       "      <td>Новокузнецк</td>\n",
       "      <td>Татьяна</td>\n",
       "      <td>Авдеенко</td>\n",
       "      <td>2018-05-14</td>\n",
       "      <td>ultra</td>\n",
       "    </tr>\n",
       "  </tbody>\n",
       "</table>\n",
       "</div>"
      ],
      "text/plain": [
       "   user_id  age churn_date         city first_name  last_name   reg_date  \\\n",
       "0     1000   52        NaT    Краснодар     Рафаил  Верещагин 2018-05-25   \n",
       "1     1001   41        NaT       Москва       Иван       Ежов 2018-11-01   \n",
       "2     1002   59        NaT  Стерлитамак    Евгений  Абрамович 2018-06-17   \n",
       "3     1003   23        NaT       Москва      Белла   Белякова 2018-08-17   \n",
       "4     1004   68        NaT  Новокузнецк    Татьяна   Авдеенко 2018-05-14   \n",
       "\n",
       "  tariff  \n",
       "0  ultra  \n",
       "1  smart  \n",
       "2  smart  \n",
       "3  ultra  \n",
       "4  ultra  "
      ]
     },
     "execution_count": 164,
     "metadata": {},
     "output_type": "execute_result"
    }
   ],
   "source": [
    "# вывод первых строк users:\n",
    "\n",
    "users.head()"
   ]
  },
  {
   "cell_type": "markdown",
   "id": "ab2778ff",
   "metadata": {},
   "source": [
    "Данные в датафрейме users не требует дальнейшей предобработки."
   ]
  },
  {
   "cell_type": "markdown",
   "id": "0328382f",
   "metadata": {},
   "source": [
    "**Вывод по предобработке**\n",
    "\n",
    "   - привели временные признаки к типу `datetime`;\n",
    "   - избавились от не нужных признаков;\n",
    "   - округлили продолжительность звонков `duration`` в большую сторону. "
   ]
  },
  {
   "cell_type": "markdown",
   "id": "6eb04a26",
   "metadata": {},
   "source": [
    "## Добавление новых признаков"
   ]
  },
  {
   "cell_type": "markdown",
   "id": "ef006cc2",
   "metadata": {},
   "source": [
    "[Назад к содержанию](#Содержание)"
   ]
  },
  {
   "cell_type": "markdown",
   "id": "a0b56dd2",
   "metadata": {},
   "source": [
    "Для последующего анализа данных нам пригодится информация по суммарному использованию выполненных звонков, потраченных МБайт и отправленных SMS за месяц. Для этого создадим новые признаки `month` в соответствующих датафреймах. \n",
    "\n",
    "Добавим новый признак `month` в датафрейме `calls`. Новый признак заполним номером месяца. Номер месяца возьмём из признака `call_date`."
   ]
  },
  {
   "cell_type": "code",
   "execution_count": 165,
   "id": "0dc5b2b6",
   "metadata": {},
   "outputs": [],
   "source": [
    "# добавление признака month и заполнение номером месяца:\n",
    "\n",
    "calls['month'] = pd.DatetimeIndex(calls['call_date']).month"
   ]
  },
  {
   "cell_type": "code",
   "execution_count": 166,
   "id": "3c842e79",
   "metadata": {},
   "outputs": [
    {
     "data": {
      "text/html": [
       "<div>\n",
       "<style scoped>\n",
       "    .dataframe tbody tr th:only-of-type {\n",
       "        vertical-align: middle;\n",
       "    }\n",
       "\n",
       "    .dataframe tbody tr th {\n",
       "        vertical-align: top;\n",
       "    }\n",
       "\n",
       "    .dataframe thead th {\n",
       "        text-align: right;\n",
       "    }\n",
       "</style>\n",
       "<table border=\"1\" class=\"dataframe\">\n",
       "  <thead>\n",
       "    <tr style=\"text-align: right;\">\n",
       "      <th></th>\n",
       "      <th>id</th>\n",
       "      <th>call_date</th>\n",
       "      <th>duration</th>\n",
       "      <th>user_id</th>\n",
       "      <th>month</th>\n",
       "    </tr>\n",
       "  </thead>\n",
       "  <tbody>\n",
       "    <tr>\n",
       "      <th>0</th>\n",
       "      <td>1000_0</td>\n",
       "      <td>2018-07-25</td>\n",
       "      <td>0</td>\n",
       "      <td>1000</td>\n",
       "      <td>7</td>\n",
       "    </tr>\n",
       "    <tr>\n",
       "      <th>1</th>\n",
       "      <td>1000_1</td>\n",
       "      <td>2018-08-17</td>\n",
       "      <td>0</td>\n",
       "      <td>1000</td>\n",
       "      <td>8</td>\n",
       "    </tr>\n",
       "    <tr>\n",
       "      <th>2</th>\n",
       "      <td>1000_2</td>\n",
       "      <td>2018-06-11</td>\n",
       "      <td>3</td>\n",
       "      <td>1000</td>\n",
       "      <td>6</td>\n",
       "    </tr>\n",
       "    <tr>\n",
       "      <th>3</th>\n",
       "      <td>1000_3</td>\n",
       "      <td>2018-09-21</td>\n",
       "      <td>14</td>\n",
       "      <td>1000</td>\n",
       "      <td>9</td>\n",
       "    </tr>\n",
       "    <tr>\n",
       "      <th>4</th>\n",
       "      <td>1000_4</td>\n",
       "      <td>2018-12-15</td>\n",
       "      <td>6</td>\n",
       "      <td>1000</td>\n",
       "      <td>12</td>\n",
       "    </tr>\n",
       "  </tbody>\n",
       "</table>\n",
       "</div>"
      ],
      "text/plain": [
       "       id  call_date  duration  user_id  month\n",
       "0  1000_0 2018-07-25         0     1000      7\n",
       "1  1000_1 2018-08-17         0     1000      8\n",
       "2  1000_2 2018-06-11         3     1000      6\n",
       "3  1000_3 2018-09-21        14     1000      9\n",
       "4  1000_4 2018-12-15         6     1000     12"
      ]
     },
     "execution_count": 166,
     "metadata": {},
     "output_type": "execute_result"
    }
   ],
   "source": [
    "# проверка:\n",
    "\n",
    "calls.head()"
   ]
  },
  {
   "cell_type": "markdown",
   "id": "561b87db",
   "metadata": {},
   "source": [
    "Аналогичным образом добавим номер месяца для интернет-сессий `session_date` в датафрейме `sessions`."
   ]
  },
  {
   "cell_type": "code",
   "execution_count": 167,
   "id": "2d6e1d97",
   "metadata": {},
   "outputs": [],
   "source": [
    "# добавление признака month и заполнение номером месяца:\n",
    "\n",
    "sessions['month'] = pd.DatetimeIndex(sessions['session_date']).month"
   ]
  },
  {
   "cell_type": "code",
   "execution_count": 168,
   "id": "325b7a07",
   "metadata": {},
   "outputs": [
    {
     "data": {
      "text/html": [
       "<div>\n",
       "<style scoped>\n",
       "    .dataframe tbody tr th:only-of-type {\n",
       "        vertical-align: middle;\n",
       "    }\n",
       "\n",
       "    .dataframe tbody tr th {\n",
       "        vertical-align: top;\n",
       "    }\n",
       "\n",
       "    .dataframe thead th {\n",
       "        text-align: right;\n",
       "    }\n",
       "</style>\n",
       "<table border=\"1\" class=\"dataframe\">\n",
       "  <thead>\n",
       "    <tr style=\"text-align: right;\">\n",
       "      <th></th>\n",
       "      <th>id</th>\n",
       "      <th>mb_used</th>\n",
       "      <th>session_date</th>\n",
       "      <th>user_id</th>\n",
       "      <th>month</th>\n",
       "    </tr>\n",
       "  </thead>\n",
       "  <tbody>\n",
       "    <tr>\n",
       "      <th>0</th>\n",
       "      <td>1000_0</td>\n",
       "      <td>112.95</td>\n",
       "      <td>2018-11-25</td>\n",
       "      <td>1000</td>\n",
       "      <td>11</td>\n",
       "    </tr>\n",
       "    <tr>\n",
       "      <th>1</th>\n",
       "      <td>1000_1</td>\n",
       "      <td>1052.81</td>\n",
       "      <td>2018-09-07</td>\n",
       "      <td>1000</td>\n",
       "      <td>9</td>\n",
       "    </tr>\n",
       "    <tr>\n",
       "      <th>2</th>\n",
       "      <td>1000_2</td>\n",
       "      <td>1197.26</td>\n",
       "      <td>2018-06-25</td>\n",
       "      <td>1000</td>\n",
       "      <td>6</td>\n",
       "    </tr>\n",
       "    <tr>\n",
       "      <th>3</th>\n",
       "      <td>1000_3</td>\n",
       "      <td>550.27</td>\n",
       "      <td>2018-08-22</td>\n",
       "      <td>1000</td>\n",
       "      <td>8</td>\n",
       "    </tr>\n",
       "    <tr>\n",
       "      <th>4</th>\n",
       "      <td>1000_4</td>\n",
       "      <td>302.56</td>\n",
       "      <td>2018-09-24</td>\n",
       "      <td>1000</td>\n",
       "      <td>9</td>\n",
       "    </tr>\n",
       "  </tbody>\n",
       "</table>\n",
       "</div>"
      ],
      "text/plain": [
       "       id  mb_used session_date  user_id  month\n",
       "0  1000_0   112.95   2018-11-25     1000     11\n",
       "1  1000_1  1052.81   2018-09-07     1000      9\n",
       "2  1000_2  1197.26   2018-06-25     1000      6\n",
       "3  1000_3   550.27   2018-08-22     1000      8\n",
       "4  1000_4   302.56   2018-09-24     1000      9"
      ]
     },
     "execution_count": 168,
     "metadata": {},
     "output_type": "execute_result"
    }
   ],
   "source": [
    "# проверка:\n",
    "\n",
    "sessions.head()"
   ]
  },
  {
   "cell_type": "markdown",
   "id": "113a0ac7",
   "metadata": {},
   "source": [
    "Добавим номер месяца для SMS-сообщений"
   ]
  },
  {
   "cell_type": "code",
   "execution_count": 169,
   "id": "770a9c06",
   "metadata": {},
   "outputs": [],
   "source": [
    "# добавление признака month и заполнение номером месяца:\n",
    "\n",
    "messages['month'] = pd.DatetimeIndex(messages['message_date']).month"
   ]
  },
  {
   "cell_type": "code",
   "execution_count": 170,
   "id": "a324bedd",
   "metadata": {},
   "outputs": [
    {
     "data": {
      "text/html": [
       "<div>\n",
       "<style scoped>\n",
       "    .dataframe tbody tr th:only-of-type {\n",
       "        vertical-align: middle;\n",
       "    }\n",
       "\n",
       "    .dataframe tbody tr th {\n",
       "        vertical-align: top;\n",
       "    }\n",
       "\n",
       "    .dataframe thead th {\n",
       "        text-align: right;\n",
       "    }\n",
       "</style>\n",
       "<table border=\"1\" class=\"dataframe\">\n",
       "  <thead>\n",
       "    <tr style=\"text-align: right;\">\n",
       "      <th></th>\n",
       "      <th>id</th>\n",
       "      <th>message_date</th>\n",
       "      <th>user_id</th>\n",
       "      <th>month</th>\n",
       "    </tr>\n",
       "  </thead>\n",
       "  <tbody>\n",
       "    <tr>\n",
       "      <th>0</th>\n",
       "      <td>1000_0</td>\n",
       "      <td>2018-06-27</td>\n",
       "      <td>1000</td>\n",
       "      <td>6</td>\n",
       "    </tr>\n",
       "    <tr>\n",
       "      <th>1</th>\n",
       "      <td>1000_1</td>\n",
       "      <td>2018-10-08</td>\n",
       "      <td>1000</td>\n",
       "      <td>10</td>\n",
       "    </tr>\n",
       "    <tr>\n",
       "      <th>2</th>\n",
       "      <td>1000_2</td>\n",
       "      <td>2018-08-04</td>\n",
       "      <td>1000</td>\n",
       "      <td>8</td>\n",
       "    </tr>\n",
       "    <tr>\n",
       "      <th>3</th>\n",
       "      <td>1000_3</td>\n",
       "      <td>2018-06-16</td>\n",
       "      <td>1000</td>\n",
       "      <td>6</td>\n",
       "    </tr>\n",
       "    <tr>\n",
       "      <th>4</th>\n",
       "      <td>1000_4</td>\n",
       "      <td>2018-12-05</td>\n",
       "      <td>1000</td>\n",
       "      <td>12</td>\n",
       "    </tr>\n",
       "  </tbody>\n",
       "</table>\n",
       "</div>"
      ],
      "text/plain": [
       "       id message_date  user_id  month\n",
       "0  1000_0   2018-06-27     1000      6\n",
       "1  1000_1   2018-10-08     1000     10\n",
       "2  1000_2   2018-08-04     1000      8\n",
       "3  1000_3   2018-06-16     1000      6\n",
       "4  1000_4   2018-12-05     1000     12"
      ]
     },
     "execution_count": 170,
     "metadata": {},
     "output_type": "execute_result"
    }
   ],
   "source": [
    "# проверка:\n",
    "\n",
    "messages.head()"
   ]
  },
  {
   "cell_type": "markdown",
   "id": "50f6b957",
   "metadata": {},
   "source": [
    "## Подсчёт потребляемых услуг"
   ]
  },
  {
   "cell_type": "markdown",
   "id": "063ae925",
   "metadata": {},
   "source": [
    "[Назад к содержанию](#Содержание)"
   ]
  },
  {
   "cell_type": "markdown",
   "id": "b3fb2bdc",
   "metadata": {},
   "source": [
    "В предыдущем пункте мы ввели новые признаки - номер месяца. Теперь мы можем подсчитать для каждого пользователя по месяцам: \n",
    "\n",
    "   - количество сделанных звонков;\n",
    "   - количество израсходованных минут;\n",
    "   - количество отправленных сообщений;\n",
    "   - количество потраченных мегабайт."
   ]
  },
  {
   "cell_type": "code",
   "execution_count": 171,
   "id": "d16ff2ba",
   "metadata": {},
   "outputs": [],
   "source": [
    "# подсчёт количества звонков для каждого пользователя по месяцам:\n",
    "\n",
    "calls_per_month = calls.groupby(['user_id', 'month']).agg(calls=('duration', 'count'))"
   ]
  },
  {
   "cell_type": "code",
   "execution_count": 172,
   "id": "9cfaca63",
   "metadata": {},
   "outputs": [
    {
     "data": {
      "text/html": [
       "<div>\n",
       "<style scoped>\n",
       "    .dataframe tbody tr th:only-of-type {\n",
       "        vertical-align: middle;\n",
       "    }\n",
       "\n",
       "    .dataframe tbody tr th {\n",
       "        vertical-align: top;\n",
       "    }\n",
       "\n",
       "    .dataframe thead th {\n",
       "        text-align: right;\n",
       "    }\n",
       "</style>\n",
       "<table border=\"1\" class=\"dataframe\">\n",
       "  <thead>\n",
       "    <tr style=\"text-align: right;\">\n",
       "      <th></th>\n",
       "      <th></th>\n",
       "      <th>calls</th>\n",
       "    </tr>\n",
       "    <tr>\n",
       "      <th>user_id</th>\n",
       "      <th>month</th>\n",
       "      <th></th>\n",
       "    </tr>\n",
       "  </thead>\n",
       "  <tbody>\n",
       "    <tr>\n",
       "      <th rowspan=\"8\" valign=\"top\">1000</th>\n",
       "      <th>5</th>\n",
       "      <td>22</td>\n",
       "    </tr>\n",
       "    <tr>\n",
       "      <th>6</th>\n",
       "      <td>43</td>\n",
       "    </tr>\n",
       "    <tr>\n",
       "      <th>7</th>\n",
       "      <td>47</td>\n",
       "    </tr>\n",
       "    <tr>\n",
       "      <th>8</th>\n",
       "      <td>52</td>\n",
       "    </tr>\n",
       "    <tr>\n",
       "      <th>9</th>\n",
       "      <td>58</td>\n",
       "    </tr>\n",
       "    <tr>\n",
       "      <th>10</th>\n",
       "      <td>57</td>\n",
       "    </tr>\n",
       "    <tr>\n",
       "      <th>11</th>\n",
       "      <td>43</td>\n",
       "    </tr>\n",
       "    <tr>\n",
       "      <th>12</th>\n",
       "      <td>46</td>\n",
       "    </tr>\n",
       "    <tr>\n",
       "      <th rowspan=\"2\" valign=\"top\">1001</th>\n",
       "      <th>11</th>\n",
       "      <td>59</td>\n",
       "    </tr>\n",
       "    <tr>\n",
       "      <th>12</th>\n",
       "      <td>63</td>\n",
       "    </tr>\n",
       "    <tr>\n",
       "      <th rowspan=\"7\" valign=\"top\">1002</th>\n",
       "      <th>6</th>\n",
       "      <td>15</td>\n",
       "    </tr>\n",
       "    <tr>\n",
       "      <th>7</th>\n",
       "      <td>26</td>\n",
       "    </tr>\n",
       "    <tr>\n",
       "      <th>8</th>\n",
       "      <td>42</td>\n",
       "    </tr>\n",
       "    <tr>\n",
       "      <th>9</th>\n",
       "      <td>36</td>\n",
       "    </tr>\n",
       "    <tr>\n",
       "      <th>10</th>\n",
       "      <td>33</td>\n",
       "    </tr>\n",
       "    <tr>\n",
       "      <th>11</th>\n",
       "      <td>32</td>\n",
       "    </tr>\n",
       "    <tr>\n",
       "      <th>12</th>\n",
       "      <td>33</td>\n",
       "    </tr>\n",
       "    <tr>\n",
       "      <th rowspan=\"5\" valign=\"top\">1003</th>\n",
       "      <th>8</th>\n",
       "      <td>55</td>\n",
       "    </tr>\n",
       "    <tr>\n",
       "      <th>9</th>\n",
       "      <td>134</td>\n",
       "    </tr>\n",
       "    <tr>\n",
       "      <th>10</th>\n",
       "      <td>108</td>\n",
       "    </tr>\n",
       "    <tr>\n",
       "      <th>11</th>\n",
       "      <td>115</td>\n",
       "    </tr>\n",
       "    <tr>\n",
       "      <th>12</th>\n",
       "      <td>108</td>\n",
       "    </tr>\n",
       "    <tr>\n",
       "      <th rowspan=\"8\" valign=\"top\">1004</th>\n",
       "      <th>5</th>\n",
       "      <td>9</td>\n",
       "    </tr>\n",
       "    <tr>\n",
       "      <th>6</th>\n",
       "      <td>31</td>\n",
       "    </tr>\n",
       "    <tr>\n",
       "      <th>7</th>\n",
       "      <td>22</td>\n",
       "    </tr>\n",
       "    <tr>\n",
       "      <th>8</th>\n",
       "      <td>19</td>\n",
       "    </tr>\n",
       "    <tr>\n",
       "      <th>9</th>\n",
       "      <td>26</td>\n",
       "    </tr>\n",
       "    <tr>\n",
       "      <th>10</th>\n",
       "      <td>29</td>\n",
       "    </tr>\n",
       "    <tr>\n",
       "      <th>11</th>\n",
       "      <td>19</td>\n",
       "    </tr>\n",
       "    <tr>\n",
       "      <th>12</th>\n",
       "      <td>21</td>\n",
       "    </tr>\n",
       "  </tbody>\n",
       "</table>\n",
       "</div>"
      ],
      "text/plain": [
       "               calls\n",
       "user_id month       \n",
       "1000    5         22\n",
       "        6         43\n",
       "        7         47\n",
       "        8         52\n",
       "        9         58\n",
       "        10        57\n",
       "        11        43\n",
       "        12        46\n",
       "1001    11        59\n",
       "        12        63\n",
       "1002    6         15\n",
       "        7         26\n",
       "        8         42\n",
       "        9         36\n",
       "        10        33\n",
       "        11        32\n",
       "        12        33\n",
       "1003    8         55\n",
       "        9        134\n",
       "        10       108\n",
       "        11       115\n",
       "        12       108\n",
       "1004    5          9\n",
       "        6         31\n",
       "        7         22\n",
       "        8         19\n",
       "        9         26\n",
       "        10        29\n",
       "        11        19\n",
       "        12        21"
      ]
     },
     "execution_count": 172,
     "metadata": {},
     "output_type": "execute_result"
    }
   ],
   "source": [
    "# вывод 30 первых строк на экран\n",
    "\n",
    "calls_per_month.head(30)"
   ]
  },
  {
   "cell_type": "code",
   "execution_count": 173,
   "id": "f7dd4dc2",
   "metadata": {},
   "outputs": [],
   "source": [
    "# подсчёт израсходованных минут для каждого пользователя по месяцам:\n",
    "\n",
    "minutes_per_month = calls.groupby(['user_id', 'month']).agg(minutes=('duration', 'sum'))"
   ]
  },
  {
   "cell_type": "code",
   "execution_count": 174,
   "id": "9410d5ef",
   "metadata": {},
   "outputs": [
    {
     "data": {
      "text/html": [
       "<div>\n",
       "<style scoped>\n",
       "    .dataframe tbody tr th:only-of-type {\n",
       "        vertical-align: middle;\n",
       "    }\n",
       "\n",
       "    .dataframe tbody tr th {\n",
       "        vertical-align: top;\n",
       "    }\n",
       "\n",
       "    .dataframe thead th {\n",
       "        text-align: right;\n",
       "    }\n",
       "</style>\n",
       "<table border=\"1\" class=\"dataframe\">\n",
       "  <thead>\n",
       "    <tr style=\"text-align: right;\">\n",
       "      <th></th>\n",
       "      <th></th>\n",
       "      <th>minutes</th>\n",
       "    </tr>\n",
       "    <tr>\n",
       "      <th>user_id</th>\n",
       "      <th>month</th>\n",
       "      <th></th>\n",
       "    </tr>\n",
       "  </thead>\n",
       "  <tbody>\n",
       "    <tr>\n",
       "      <th rowspan=\"8\" valign=\"top\">1000</th>\n",
       "      <th>5</th>\n",
       "      <td>159</td>\n",
       "    </tr>\n",
       "    <tr>\n",
       "      <th>6</th>\n",
       "      <td>172</td>\n",
       "    </tr>\n",
       "    <tr>\n",
       "      <th>7</th>\n",
       "      <td>340</td>\n",
       "    </tr>\n",
       "    <tr>\n",
       "      <th>8</th>\n",
       "      <td>408</td>\n",
       "    </tr>\n",
       "    <tr>\n",
       "      <th>9</th>\n",
       "      <td>466</td>\n",
       "    </tr>\n",
       "    <tr>\n",
       "      <th>10</th>\n",
       "      <td>350</td>\n",
       "    </tr>\n",
       "    <tr>\n",
       "      <th>11</th>\n",
       "      <td>338</td>\n",
       "    </tr>\n",
       "    <tr>\n",
       "      <th>12</th>\n",
       "      <td>333</td>\n",
       "    </tr>\n",
       "    <tr>\n",
       "      <th rowspan=\"2\" valign=\"top\">1001</th>\n",
       "      <th>11</th>\n",
       "      <td>430</td>\n",
       "    </tr>\n",
       "    <tr>\n",
       "      <th>12</th>\n",
       "      <td>414</td>\n",
       "    </tr>\n",
       "    <tr>\n",
       "      <th rowspan=\"7\" valign=\"top\">1002</th>\n",
       "      <th>6</th>\n",
       "      <td>117</td>\n",
       "    </tr>\n",
       "    <tr>\n",
       "      <th>7</th>\n",
       "      <td>214</td>\n",
       "    </tr>\n",
       "    <tr>\n",
       "      <th>8</th>\n",
       "      <td>289</td>\n",
       "    </tr>\n",
       "    <tr>\n",
       "      <th>9</th>\n",
       "      <td>206</td>\n",
       "    </tr>\n",
       "    <tr>\n",
       "      <th>10</th>\n",
       "      <td>212</td>\n",
       "    </tr>\n",
       "    <tr>\n",
       "      <th>11</th>\n",
       "      <td>243</td>\n",
       "    </tr>\n",
       "    <tr>\n",
       "      <th>12</th>\n",
       "      <td>236</td>\n",
       "    </tr>\n",
       "    <tr>\n",
       "      <th rowspan=\"5\" valign=\"top\">1003</th>\n",
       "      <th>8</th>\n",
       "      <td>380</td>\n",
       "    </tr>\n",
       "    <tr>\n",
       "      <th>9</th>\n",
       "      <td>961</td>\n",
       "    </tr>\n",
       "    <tr>\n",
       "      <th>10</th>\n",
       "      <td>855</td>\n",
       "    </tr>\n",
       "    <tr>\n",
       "      <th>11</th>\n",
       "      <td>824</td>\n",
       "    </tr>\n",
       "    <tr>\n",
       "      <th>12</th>\n",
       "      <td>802</td>\n",
       "    </tr>\n",
       "    <tr>\n",
       "      <th rowspan=\"8\" valign=\"top\">1004</th>\n",
       "      <th>5</th>\n",
       "      <td>35</td>\n",
       "    </tr>\n",
       "    <tr>\n",
       "      <th>6</th>\n",
       "      <td>171</td>\n",
       "    </tr>\n",
       "    <tr>\n",
       "      <th>7</th>\n",
       "      <td>135</td>\n",
       "    </tr>\n",
       "    <tr>\n",
       "      <th>8</th>\n",
       "      <td>137</td>\n",
       "    </tr>\n",
       "    <tr>\n",
       "      <th>9</th>\n",
       "      <td>117</td>\n",
       "    </tr>\n",
       "    <tr>\n",
       "      <th>10</th>\n",
       "      <td>145</td>\n",
       "    </tr>\n",
       "    <tr>\n",
       "      <th>11</th>\n",
       "      <td>117</td>\n",
       "    </tr>\n",
       "    <tr>\n",
       "      <th>12</th>\n",
       "      <td>130</td>\n",
       "    </tr>\n",
       "  </tbody>\n",
       "</table>\n",
       "</div>"
      ],
      "text/plain": [
       "               minutes\n",
       "user_id month         \n",
       "1000    5          159\n",
       "        6          172\n",
       "        7          340\n",
       "        8          408\n",
       "        9          466\n",
       "        10         350\n",
       "        11         338\n",
       "        12         333\n",
       "1001    11         430\n",
       "        12         414\n",
       "1002    6          117\n",
       "        7          214\n",
       "        8          289\n",
       "        9          206\n",
       "        10         212\n",
       "        11         243\n",
       "        12         236\n",
       "1003    8          380\n",
       "        9          961\n",
       "        10         855\n",
       "        11         824\n",
       "        12         802\n",
       "1004    5           35\n",
       "        6          171\n",
       "        7          135\n",
       "        8          137\n",
       "        9          117\n",
       "        10         145\n",
       "        11         117\n",
       "        12         130"
      ]
     },
     "execution_count": 174,
     "metadata": {},
     "output_type": "execute_result"
    }
   ],
   "source": [
    "# вывод первых 30 строк на экран\n",
    "\n",
    "minutes_per_month.head(30)"
   ]
  },
  {
   "cell_type": "code",
   "execution_count": 175,
   "id": "d3b75d24",
   "metadata": {},
   "outputs": [],
   "source": [
    "# подсчёт количества отправленных сообщений для каждого пользователя по месяцам:\n",
    "\n",
    "messages_per_month = messages.groupby(['user_id', 'month']).agg(messages=('message_date', 'count'))"
   ]
  },
  {
   "cell_type": "code",
   "execution_count": 176,
   "id": "2c581793",
   "metadata": {},
   "outputs": [
    {
     "data": {
      "text/html": [
       "<div>\n",
       "<style scoped>\n",
       "    .dataframe tbody tr th:only-of-type {\n",
       "        vertical-align: middle;\n",
       "    }\n",
       "\n",
       "    .dataframe tbody tr th {\n",
       "        vertical-align: top;\n",
       "    }\n",
       "\n",
       "    .dataframe thead th {\n",
       "        text-align: right;\n",
       "    }\n",
       "</style>\n",
       "<table border=\"1\" class=\"dataframe\">\n",
       "  <thead>\n",
       "    <tr style=\"text-align: right;\">\n",
       "      <th></th>\n",
       "      <th></th>\n",
       "      <th>messages</th>\n",
       "    </tr>\n",
       "    <tr>\n",
       "      <th>user_id</th>\n",
       "      <th>month</th>\n",
       "      <th></th>\n",
       "    </tr>\n",
       "  </thead>\n",
       "  <tbody>\n",
       "    <tr>\n",
       "      <th rowspan=\"8\" valign=\"top\">1000</th>\n",
       "      <th>5</th>\n",
       "      <td>22</td>\n",
       "    </tr>\n",
       "    <tr>\n",
       "      <th>6</th>\n",
       "      <td>60</td>\n",
       "    </tr>\n",
       "    <tr>\n",
       "      <th>7</th>\n",
       "      <td>75</td>\n",
       "    </tr>\n",
       "    <tr>\n",
       "      <th>8</th>\n",
       "      <td>81</td>\n",
       "    </tr>\n",
       "    <tr>\n",
       "      <th>9</th>\n",
       "      <td>57</td>\n",
       "    </tr>\n",
       "    <tr>\n",
       "      <th>10</th>\n",
       "      <td>73</td>\n",
       "    </tr>\n",
       "    <tr>\n",
       "      <th>11</th>\n",
       "      <td>58</td>\n",
       "    </tr>\n",
       "    <tr>\n",
       "      <th>12</th>\n",
       "      <td>70</td>\n",
       "    </tr>\n",
       "    <tr>\n",
       "      <th rowspan=\"7\" valign=\"top\">1002</th>\n",
       "      <th>6</th>\n",
       "      <td>4</td>\n",
       "    </tr>\n",
       "    <tr>\n",
       "      <th>7</th>\n",
       "      <td>11</td>\n",
       "    </tr>\n",
       "    <tr>\n",
       "      <th>8</th>\n",
       "      <td>13</td>\n",
       "    </tr>\n",
       "    <tr>\n",
       "      <th>9</th>\n",
       "      <td>4</td>\n",
       "    </tr>\n",
       "    <tr>\n",
       "      <th>10</th>\n",
       "      <td>10</td>\n",
       "    </tr>\n",
       "    <tr>\n",
       "      <th>11</th>\n",
       "      <td>16</td>\n",
       "    </tr>\n",
       "    <tr>\n",
       "      <th>12</th>\n",
       "      <td>12</td>\n",
       "    </tr>\n",
       "    <tr>\n",
       "      <th rowspan=\"5\" valign=\"top\">1003</th>\n",
       "      <th>8</th>\n",
       "      <td>37</td>\n",
       "    </tr>\n",
       "    <tr>\n",
       "      <th>9</th>\n",
       "      <td>91</td>\n",
       "    </tr>\n",
       "    <tr>\n",
       "      <th>10</th>\n",
       "      <td>83</td>\n",
       "    </tr>\n",
       "    <tr>\n",
       "      <th>11</th>\n",
       "      <td>94</td>\n",
       "    </tr>\n",
       "    <tr>\n",
       "      <th>12</th>\n",
       "      <td>75</td>\n",
       "    </tr>\n",
       "    <tr>\n",
       "      <th rowspan=\"8\" valign=\"top\">1004</th>\n",
       "      <th>5</th>\n",
       "      <td>95</td>\n",
       "    </tr>\n",
       "    <tr>\n",
       "      <th>6</th>\n",
       "      <td>134</td>\n",
       "    </tr>\n",
       "    <tr>\n",
       "      <th>7</th>\n",
       "      <td>181</td>\n",
       "    </tr>\n",
       "    <tr>\n",
       "      <th>8</th>\n",
       "      <td>151</td>\n",
       "    </tr>\n",
       "    <tr>\n",
       "      <th>9</th>\n",
       "      <td>146</td>\n",
       "    </tr>\n",
       "    <tr>\n",
       "      <th>10</th>\n",
       "      <td>165</td>\n",
       "    </tr>\n",
       "    <tr>\n",
       "      <th>11</th>\n",
       "      <td>158</td>\n",
       "    </tr>\n",
       "    <tr>\n",
       "      <th>12</th>\n",
       "      <td>162</td>\n",
       "    </tr>\n",
       "    <tr>\n",
       "      <th rowspan=\"2\" valign=\"top\">1005</th>\n",
       "      <th>1</th>\n",
       "      <td>7</td>\n",
       "    </tr>\n",
       "    <tr>\n",
       "      <th>2</th>\n",
       "      <td>38</td>\n",
       "    </tr>\n",
       "  </tbody>\n",
       "</table>\n",
       "</div>"
      ],
      "text/plain": [
       "               messages\n",
       "user_id month          \n",
       "1000    5            22\n",
       "        6            60\n",
       "        7            75\n",
       "        8            81\n",
       "        9            57\n",
       "        10           73\n",
       "        11           58\n",
       "        12           70\n",
       "1002    6             4\n",
       "        7            11\n",
       "        8            13\n",
       "        9             4\n",
       "        10           10\n",
       "        11           16\n",
       "        12           12\n",
       "1003    8            37\n",
       "        9            91\n",
       "        10           83\n",
       "        11           94\n",
       "        12           75\n",
       "1004    5            95\n",
       "        6           134\n",
       "        7           181\n",
       "        8           151\n",
       "        9           146\n",
       "        10          165\n",
       "        11          158\n",
       "        12          162\n",
       "1005    1             7\n",
       "        2            38"
      ]
     },
     "execution_count": 176,
     "metadata": {},
     "output_type": "execute_result"
    }
   ],
   "source": [
    "# вывод первых 30 строк на экран\n",
    "\n",
    "messages_per_month.head(30)"
   ]
  },
  {
   "cell_type": "code",
   "execution_count": 177,
   "id": "4c67e7f7",
   "metadata": {},
   "outputs": [],
   "source": [
    "# подсчёт потраченных мегабайт для каждого пользователя по месяцам:\n",
    "\n",
    "sessions_per_month = sessions.groupby(['user_id', 'month']).agg({'mb_used': 'sum'})"
   ]
  },
  {
   "cell_type": "code",
   "execution_count": 178,
   "id": "7a2af708",
   "metadata": {},
   "outputs": [
    {
     "data": {
      "text/html": [
       "<div>\n",
       "<style scoped>\n",
       "    .dataframe tbody tr th:only-of-type {\n",
       "        vertical-align: middle;\n",
       "    }\n",
       "\n",
       "    .dataframe tbody tr th {\n",
       "        vertical-align: top;\n",
       "    }\n",
       "\n",
       "    .dataframe thead th {\n",
       "        text-align: right;\n",
       "    }\n",
       "</style>\n",
       "<table border=\"1\" class=\"dataframe\">\n",
       "  <thead>\n",
       "    <tr style=\"text-align: right;\">\n",
       "      <th></th>\n",
       "      <th></th>\n",
       "      <th>mb_used</th>\n",
       "    </tr>\n",
       "    <tr>\n",
       "      <th>user_id</th>\n",
       "      <th>month</th>\n",
       "      <th></th>\n",
       "    </tr>\n",
       "  </thead>\n",
       "  <tbody>\n",
       "    <tr>\n",
       "      <th rowspan=\"8\" valign=\"top\">1000</th>\n",
       "      <th>5</th>\n",
       "      <td>2253.49</td>\n",
       "    </tr>\n",
       "    <tr>\n",
       "      <th>6</th>\n",
       "      <td>23233.77</td>\n",
       "    </tr>\n",
       "    <tr>\n",
       "      <th>7</th>\n",
       "      <td>14003.64</td>\n",
       "    </tr>\n",
       "    <tr>\n",
       "      <th>8</th>\n",
       "      <td>14055.93</td>\n",
       "    </tr>\n",
       "    <tr>\n",
       "      <th>9</th>\n",
       "      <td>14568.91</td>\n",
       "    </tr>\n",
       "    <tr>\n",
       "      <th>10</th>\n",
       "      <td>14702.49</td>\n",
       "    </tr>\n",
       "    <tr>\n",
       "      <th>11</th>\n",
       "      <td>14756.47</td>\n",
       "    </tr>\n",
       "    <tr>\n",
       "      <th>12</th>\n",
       "      <td>9817.61</td>\n",
       "    </tr>\n",
       "    <tr>\n",
       "      <th rowspan=\"2\" valign=\"top\">1001</th>\n",
       "      <th>11</th>\n",
       "      <td>18429.34</td>\n",
       "    </tr>\n",
       "    <tr>\n",
       "      <th>12</th>\n",
       "      <td>14036.66</td>\n",
       "    </tr>\n",
       "    <tr>\n",
       "      <th rowspan=\"7\" valign=\"top\">1002</th>\n",
       "      <th>6</th>\n",
       "      <td>10856.82</td>\n",
       "    </tr>\n",
       "    <tr>\n",
       "      <th>7</th>\n",
       "      <td>17580.10</td>\n",
       "    </tr>\n",
       "    <tr>\n",
       "      <th>8</th>\n",
       "      <td>20319.26</td>\n",
       "    </tr>\n",
       "    <tr>\n",
       "      <th>9</th>\n",
       "      <td>16691.08</td>\n",
       "    </tr>\n",
       "    <tr>\n",
       "      <th>10</th>\n",
       "      <td>13888.25</td>\n",
       "    </tr>\n",
       "    <tr>\n",
       "      <th>11</th>\n",
       "      <td>18587.28</td>\n",
       "    </tr>\n",
       "    <tr>\n",
       "      <th>12</th>\n",
       "      <td>18113.73</td>\n",
       "    </tr>\n",
       "    <tr>\n",
       "      <th rowspan=\"5\" valign=\"top\">1003</th>\n",
       "      <th>8</th>\n",
       "      <td>8565.21</td>\n",
       "    </tr>\n",
       "    <tr>\n",
       "      <th>9</th>\n",
       "      <td>12468.87</td>\n",
       "    </tr>\n",
       "    <tr>\n",
       "      <th>10</th>\n",
       "      <td>14768.14</td>\n",
       "    </tr>\n",
       "    <tr>\n",
       "      <th>11</th>\n",
       "      <td>11356.89</td>\n",
       "    </tr>\n",
       "    <tr>\n",
       "      <th>12</th>\n",
       "      <td>10121.53</td>\n",
       "    </tr>\n",
       "    <tr>\n",
       "      <th rowspan=\"8\" valign=\"top\">1004</th>\n",
       "      <th>5</th>\n",
       "      <td>13403.98</td>\n",
       "    </tr>\n",
       "    <tr>\n",
       "      <th>6</th>\n",
       "      <td>17600.02</td>\n",
       "    </tr>\n",
       "    <tr>\n",
       "      <th>7</th>\n",
       "      <td>22229.58</td>\n",
       "    </tr>\n",
       "    <tr>\n",
       "      <th>8</th>\n",
       "      <td>28584.37</td>\n",
       "    </tr>\n",
       "    <tr>\n",
       "      <th>9</th>\n",
       "      <td>15109.03</td>\n",
       "    </tr>\n",
       "    <tr>\n",
       "      <th>10</th>\n",
       "      <td>18475.44</td>\n",
       "    </tr>\n",
       "    <tr>\n",
       "      <th>11</th>\n",
       "      <td>15616.02</td>\n",
       "    </tr>\n",
       "    <tr>\n",
       "      <th>12</th>\n",
       "      <td>18021.04</td>\n",
       "    </tr>\n",
       "  </tbody>\n",
       "</table>\n",
       "</div>"
      ],
      "text/plain": [
       "                mb_used\n",
       "user_id month          \n",
       "1000    5       2253.49\n",
       "        6      23233.77\n",
       "        7      14003.64\n",
       "        8      14055.93\n",
       "        9      14568.91\n",
       "        10     14702.49\n",
       "        11     14756.47\n",
       "        12      9817.61\n",
       "1001    11     18429.34\n",
       "        12     14036.66\n",
       "1002    6      10856.82\n",
       "        7      17580.10\n",
       "        8      20319.26\n",
       "        9      16691.08\n",
       "        10     13888.25\n",
       "        11     18587.28\n",
       "        12     18113.73\n",
       "1003    8       8565.21\n",
       "        9      12468.87\n",
       "        10     14768.14\n",
       "        11     11356.89\n",
       "        12     10121.53\n",
       "1004    5      13403.98\n",
       "        6      17600.02\n",
       "        7      22229.58\n",
       "        8      28584.37\n",
       "        9      15109.03\n",
       "        10     18475.44\n",
       "        11     15616.02\n",
       "        12     18021.04"
      ]
     },
     "execution_count": 178,
     "metadata": {},
     "output_type": "execute_result"
    }
   ],
   "source": [
    "# вывод первых 30 строк на экран\n",
    "\n",
    "sessions_per_month.head(30)"
   ]
  },
  {
   "cell_type": "markdown",
   "id": "f9036160",
   "metadata": {},
   "source": [
    "## Анализ данных и подсчёт выручки"
   ]
  },
  {
   "cell_type": "markdown",
   "id": "26eba88b",
   "metadata": {},
   "source": [
    "[Назад к содержанию](#Содержание)"
   ]
  },
  {
   "cell_type": "markdown",
   "id": "daa47d24",
   "metadata": {},
   "source": [
    "Объединим все посчитанные выше значения в один датафрейм `user_behavior`.\n",
    "Для каждой пары \"пользователь - месяц\" будут доступны информация о тарифе, количестве звонков, сообщений и потраченных мегабайтах.\n",
    "\n"
   ]
  },
  {
   "cell_type": "code",
   "execution_count": 179,
   "id": "176b3787",
   "metadata": {},
   "outputs": [
    {
     "data": {
      "text/html": [
       "<div>\n",
       "<style scoped>\n",
       "    .dataframe tbody tr th:only-of-type {\n",
       "        vertical-align: middle;\n",
       "    }\n",
       "\n",
       "    .dataframe tbody tr th {\n",
       "        vertical-align: top;\n",
       "    }\n",
       "\n",
       "    .dataframe thead th {\n",
       "        text-align: right;\n",
       "    }\n",
       "</style>\n",
       "<table border=\"1\" class=\"dataframe\">\n",
       "  <thead>\n",
       "    <tr style=\"text-align: right;\">\n",
       "      <th></th>\n",
       "      <th>user_id</th>\n",
       "      <th>month</th>\n",
       "      <th>calls</th>\n",
       "      <th>messages</th>\n",
       "      <th>mb_used</th>\n",
       "      <th>minutes</th>\n",
       "      <th>age</th>\n",
       "      <th>churn_date</th>\n",
       "      <th>city</th>\n",
       "      <th>first_name</th>\n",
       "      <th>last_name</th>\n",
       "      <th>reg_date</th>\n",
       "      <th>tariff</th>\n",
       "    </tr>\n",
       "  </thead>\n",
       "  <tbody>\n",
       "    <tr>\n",
       "      <th>0</th>\n",
       "      <td>1000</td>\n",
       "      <td>5</td>\n",
       "      <td>22.0</td>\n",
       "      <td>22.0</td>\n",
       "      <td>2253.49</td>\n",
       "      <td>159.0</td>\n",
       "      <td>52</td>\n",
       "      <td>NaT</td>\n",
       "      <td>Краснодар</td>\n",
       "      <td>Рафаил</td>\n",
       "      <td>Верещагин</td>\n",
       "      <td>2018-05-25</td>\n",
       "      <td>ultra</td>\n",
       "    </tr>\n",
       "    <tr>\n",
       "      <th>1</th>\n",
       "      <td>1000</td>\n",
       "      <td>6</td>\n",
       "      <td>43.0</td>\n",
       "      <td>60.0</td>\n",
       "      <td>23233.77</td>\n",
       "      <td>172.0</td>\n",
       "      <td>52</td>\n",
       "      <td>NaT</td>\n",
       "      <td>Краснодар</td>\n",
       "      <td>Рафаил</td>\n",
       "      <td>Верещагин</td>\n",
       "      <td>2018-05-25</td>\n",
       "      <td>ultra</td>\n",
       "    </tr>\n",
       "    <tr>\n",
       "      <th>2</th>\n",
       "      <td>1000</td>\n",
       "      <td>7</td>\n",
       "      <td>47.0</td>\n",
       "      <td>75.0</td>\n",
       "      <td>14003.64</td>\n",
       "      <td>340.0</td>\n",
       "      <td>52</td>\n",
       "      <td>NaT</td>\n",
       "      <td>Краснодар</td>\n",
       "      <td>Рафаил</td>\n",
       "      <td>Верещагин</td>\n",
       "      <td>2018-05-25</td>\n",
       "      <td>ultra</td>\n",
       "    </tr>\n",
       "    <tr>\n",
       "      <th>3</th>\n",
       "      <td>1000</td>\n",
       "      <td>8</td>\n",
       "      <td>52.0</td>\n",
       "      <td>81.0</td>\n",
       "      <td>14055.93</td>\n",
       "      <td>408.0</td>\n",
       "      <td>52</td>\n",
       "      <td>NaT</td>\n",
       "      <td>Краснодар</td>\n",
       "      <td>Рафаил</td>\n",
       "      <td>Верещагин</td>\n",
       "      <td>2018-05-25</td>\n",
       "      <td>ultra</td>\n",
       "    </tr>\n",
       "    <tr>\n",
       "      <th>4</th>\n",
       "      <td>1000</td>\n",
       "      <td>9</td>\n",
       "      <td>58.0</td>\n",
       "      <td>57.0</td>\n",
       "      <td>14568.91</td>\n",
       "      <td>466.0</td>\n",
       "      <td>52</td>\n",
       "      <td>NaT</td>\n",
       "      <td>Краснодар</td>\n",
       "      <td>Рафаил</td>\n",
       "      <td>Верещагин</td>\n",
       "      <td>2018-05-25</td>\n",
       "      <td>ultra</td>\n",
       "    </tr>\n",
       "  </tbody>\n",
       "</table>\n",
       "</div>"
      ],
      "text/plain": [
       "   user_id  month  calls  messages   mb_used  minutes  age churn_date  \\\n",
       "0     1000      5   22.0      22.0   2253.49    159.0   52        NaT   \n",
       "1     1000      6   43.0      60.0  23233.77    172.0   52        NaT   \n",
       "2     1000      7   47.0      75.0  14003.64    340.0   52        NaT   \n",
       "3     1000      8   52.0      81.0  14055.93    408.0   52        NaT   \n",
       "4     1000      9   58.0      57.0  14568.91    466.0   52        NaT   \n",
       "\n",
       "        city first_name  last_name   reg_date tariff  \n",
       "0  Краснодар     Рафаил  Верещагин 2018-05-25  ultra  \n",
       "1  Краснодар     Рафаил  Верещагин 2018-05-25  ultra  \n",
       "2  Краснодар     Рафаил  Верещагин 2018-05-25  ultra  \n",
       "3  Краснодар     Рафаил  Верещагин 2018-05-25  ultra  \n",
       "4  Краснодар     Рафаил  Верещагин 2018-05-25  ultra  "
      ]
     },
     "execution_count": 179,
     "metadata": {},
     "output_type": "execute_result"
    }
   ],
   "source": [
    "# объединяем данные в один датафрейм:\n",
    "\n",
    "user_behavior = calls_per_month\\\n",
    "    .merge(messages_per_month, left_index=True, right_index=True, how='outer')\\\n",
    "    .merge(sessions_per_month, left_index=True, right_index=True, how='outer')\\\n",
    "    .merge(minutes_per_month, left_index=True, right_index=True, how='outer')\\\n",
    "    .reset_index()\\\n",
    "    .merge(users, how='left', left_on='user_id', right_on='user_id')\n",
    "\n",
    "user_behavior.head()"
   ]
  },
  {
   "cell_type": "markdown",
   "id": "4c55c65d",
   "metadata": {},
   "source": [
    "Проверим пропуски в таблице `user_behavior` после объединения:"
   ]
  },
  {
   "cell_type": "code",
   "execution_count": 180,
   "id": "8715ea47",
   "metadata": {},
   "outputs": [
    {
     "data": {
      "text/plain": [
       "user_id          0\n",
       "month            0\n",
       "calls           40\n",
       "messages       497\n",
       "mb_used         11\n",
       "minutes         40\n",
       "age              0\n",
       "churn_date    3027\n",
       "city             0\n",
       "first_name       0\n",
       "last_name        0\n",
       "reg_date         0\n",
       "tariff           0\n",
       "dtype: int64"
      ]
     },
     "execution_count": 180,
     "metadata": {},
     "output_type": "execute_result"
    }
   ],
   "source": [
    "# наличие пропусков:\n",
    "\n",
    "user_behavior.isna().sum()"
   ]
  },
  {
   "cell_type": "markdown",
   "id": "9b3c0300",
   "metadata": {},
   "source": [
    "Проанализируем пропуски в столбцах `calls`, `messages`, `mb_used`, `minutes` и `churn_date`.\n",
    "\n",
    "Пропуски в `calls` скорее всего связаны с отсутствием выполненных звонков. Количество пропусков в `calls` соответствует количеству пропусков в `minutes`. Проверим догадку, выведем пропуски в `calls`."
   ]
  },
  {
   "cell_type": "code",
   "execution_count": 181,
   "id": "7f3e1d00",
   "metadata": {},
   "outputs": [
    {
     "data": {
      "text/html": [
       "<div>\n",
       "<style scoped>\n",
       "    .dataframe tbody tr th:only-of-type {\n",
       "        vertical-align: middle;\n",
       "    }\n",
       "\n",
       "    .dataframe tbody tr th {\n",
       "        vertical-align: top;\n",
       "    }\n",
       "\n",
       "    .dataframe thead th {\n",
       "        text-align: right;\n",
       "    }\n",
       "</style>\n",
       "<table border=\"1\" class=\"dataframe\">\n",
       "  <thead>\n",
       "    <tr style=\"text-align: right;\">\n",
       "      <th></th>\n",
       "      <th>user_id</th>\n",
       "      <th>month</th>\n",
       "      <th>calls</th>\n",
       "      <th>messages</th>\n",
       "      <th>mb_used</th>\n",
       "      <th>minutes</th>\n",
       "      <th>age</th>\n",
       "      <th>churn_date</th>\n",
       "      <th>city</th>\n",
       "      <th>first_name</th>\n",
       "      <th>last_name</th>\n",
       "      <th>reg_date</th>\n",
       "      <th>tariff</th>\n",
       "    </tr>\n",
       "  </thead>\n",
       "  <tbody>\n",
       "    <tr>\n",
       "      <th>570</th>\n",
       "      <td>1091</td>\n",
       "      <td>5</td>\n",
       "      <td>NaN</td>\n",
       "      <td>30.0</td>\n",
       "      <td>10703.37</td>\n",
       "      <td>NaN</td>\n",
       "      <td>36</td>\n",
       "      <td>NaT</td>\n",
       "      <td>Набережные Челны</td>\n",
       "      <td>Вера</td>\n",
       "      <td>Суслова</td>\n",
       "      <td>2018-05-08</td>\n",
       "      <td>ultra</td>\n",
       "    </tr>\n",
       "    <tr>\n",
       "      <th>571</th>\n",
       "      <td>1091</td>\n",
       "      <td>6</td>\n",
       "      <td>NaN</td>\n",
       "      <td>30.0</td>\n",
       "      <td>10236.19</td>\n",
       "      <td>NaN</td>\n",
       "      <td>36</td>\n",
       "      <td>NaT</td>\n",
       "      <td>Набережные Челны</td>\n",
       "      <td>Вера</td>\n",
       "      <td>Суслова</td>\n",
       "      <td>2018-05-08</td>\n",
       "      <td>ultra</td>\n",
       "    </tr>\n",
       "    <tr>\n",
       "      <th>572</th>\n",
       "      <td>1091</td>\n",
       "      <td>7</td>\n",
       "      <td>NaN</td>\n",
       "      <td>35.0</td>\n",
       "      <td>16444.98</td>\n",
       "      <td>NaN</td>\n",
       "      <td>36</td>\n",
       "      <td>NaT</td>\n",
       "      <td>Набережные Челны</td>\n",
       "      <td>Вера</td>\n",
       "      <td>Суслова</td>\n",
       "      <td>2018-05-08</td>\n",
       "      <td>ultra</td>\n",
       "    </tr>\n",
       "    <tr>\n",
       "      <th>573</th>\n",
       "      <td>1091</td>\n",
       "      <td>8</td>\n",
       "      <td>NaN</td>\n",
       "      <td>31.0</td>\n",
       "      <td>12633.88</td>\n",
       "      <td>NaN</td>\n",
       "      <td>36</td>\n",
       "      <td>NaT</td>\n",
       "      <td>Набережные Челны</td>\n",
       "      <td>Вера</td>\n",
       "      <td>Суслова</td>\n",
       "      <td>2018-05-08</td>\n",
       "      <td>ultra</td>\n",
       "    </tr>\n",
       "    <tr>\n",
       "      <th>574</th>\n",
       "      <td>1091</td>\n",
       "      <td>9</td>\n",
       "      <td>NaN</td>\n",
       "      <td>32.0</td>\n",
       "      <td>16597.11</td>\n",
       "      <td>NaN</td>\n",
       "      <td>36</td>\n",
       "      <td>NaT</td>\n",
       "      <td>Набережные Челны</td>\n",
       "      <td>Вера</td>\n",
       "      <td>Суслова</td>\n",
       "      <td>2018-05-08</td>\n",
       "      <td>ultra</td>\n",
       "    </tr>\n",
       "    <tr>\n",
       "      <th>575</th>\n",
       "      <td>1091</td>\n",
       "      <td>10</td>\n",
       "      <td>NaN</td>\n",
       "      <td>44.0</td>\n",
       "      <td>15644.73</td>\n",
       "      <td>NaN</td>\n",
       "      <td>36</td>\n",
       "      <td>NaT</td>\n",
       "      <td>Набережные Челны</td>\n",
       "      <td>Вера</td>\n",
       "      <td>Суслова</td>\n",
       "      <td>2018-05-08</td>\n",
       "      <td>ultra</td>\n",
       "    </tr>\n",
       "    <tr>\n",
       "      <th>576</th>\n",
       "      <td>1091</td>\n",
       "      <td>11</td>\n",
       "      <td>NaN</td>\n",
       "      <td>28.0</td>\n",
       "      <td>11864.25</td>\n",
       "      <td>NaN</td>\n",
       "      <td>36</td>\n",
       "      <td>NaT</td>\n",
       "      <td>Набережные Челны</td>\n",
       "      <td>Вера</td>\n",
       "      <td>Суслова</td>\n",
       "      <td>2018-05-08</td>\n",
       "      <td>ultra</td>\n",
       "    </tr>\n",
       "    <tr>\n",
       "      <th>577</th>\n",
       "      <td>1091</td>\n",
       "      <td>12</td>\n",
       "      <td>NaN</td>\n",
       "      <td>42.0</td>\n",
       "      <td>13280.45</td>\n",
       "      <td>NaN</td>\n",
       "      <td>36</td>\n",
       "      <td>NaT</td>\n",
       "      <td>Набережные Челны</td>\n",
       "      <td>Вера</td>\n",
       "      <td>Суслова</td>\n",
       "      <td>2018-05-08</td>\n",
       "      <td>ultra</td>\n",
       "    </tr>\n",
       "    <tr>\n",
       "      <th>671</th>\n",
       "      <td>1106</td>\n",
       "      <td>4</td>\n",
       "      <td>NaN</td>\n",
       "      <td>9.0</td>\n",
       "      <td>2923.49</td>\n",
       "      <td>NaN</td>\n",
       "      <td>67</td>\n",
       "      <td>NaT</td>\n",
       "      <td>Калуга</td>\n",
       "      <td>Исаак</td>\n",
       "      <td>Костин</td>\n",
       "      <td>2018-04-26</td>\n",
       "      <td>ultra</td>\n",
       "    </tr>\n",
       "    <tr>\n",
       "      <th>672</th>\n",
       "      <td>1106</td>\n",
       "      <td>5</td>\n",
       "      <td>NaN</td>\n",
       "      <td>28.0</td>\n",
       "      <td>16573.01</td>\n",
       "      <td>NaN</td>\n",
       "      <td>67</td>\n",
       "      <td>NaT</td>\n",
       "      <td>Калуга</td>\n",
       "      <td>Исаак</td>\n",
       "      <td>Костин</td>\n",
       "      <td>2018-04-26</td>\n",
       "      <td>ultra</td>\n",
       "    </tr>\n",
       "    <tr>\n",
       "      <th>673</th>\n",
       "      <td>1106</td>\n",
       "      <td>6</td>\n",
       "      <td>NaN</td>\n",
       "      <td>30.0</td>\n",
       "      <td>20016.74</td>\n",
       "      <td>NaN</td>\n",
       "      <td>67</td>\n",
       "      <td>NaT</td>\n",
       "      <td>Калуга</td>\n",
       "      <td>Исаак</td>\n",
       "      <td>Костин</td>\n",
       "      <td>2018-04-26</td>\n",
       "      <td>ultra</td>\n",
       "    </tr>\n",
       "    <tr>\n",
       "      <th>674</th>\n",
       "      <td>1106</td>\n",
       "      <td>7</td>\n",
       "      <td>NaN</td>\n",
       "      <td>24.0</td>\n",
       "      <td>21626.86</td>\n",
       "      <td>NaN</td>\n",
       "      <td>67</td>\n",
       "      <td>NaT</td>\n",
       "      <td>Калуга</td>\n",
       "      <td>Исаак</td>\n",
       "      <td>Костин</td>\n",
       "      <td>2018-04-26</td>\n",
       "      <td>ultra</td>\n",
       "    </tr>\n",
       "    <tr>\n",
       "      <th>675</th>\n",
       "      <td>1106</td>\n",
       "      <td>8</td>\n",
       "      <td>NaN</td>\n",
       "      <td>25.0</td>\n",
       "      <td>19088.67</td>\n",
       "      <td>NaN</td>\n",
       "      <td>67</td>\n",
       "      <td>NaT</td>\n",
       "      <td>Калуга</td>\n",
       "      <td>Исаак</td>\n",
       "      <td>Костин</td>\n",
       "      <td>2018-04-26</td>\n",
       "      <td>ultra</td>\n",
       "    </tr>\n",
       "    <tr>\n",
       "      <th>676</th>\n",
       "      <td>1106</td>\n",
       "      <td>9</td>\n",
       "      <td>NaN</td>\n",
       "      <td>23.0</td>\n",
       "      <td>21934.03</td>\n",
       "      <td>NaN</td>\n",
       "      <td>67</td>\n",
       "      <td>NaT</td>\n",
       "      <td>Калуга</td>\n",
       "      <td>Исаак</td>\n",
       "      <td>Костин</td>\n",
       "      <td>2018-04-26</td>\n",
       "      <td>ultra</td>\n",
       "    </tr>\n",
       "    <tr>\n",
       "      <th>677</th>\n",
       "      <td>1106</td>\n",
       "      <td>10</td>\n",
       "      <td>NaN</td>\n",
       "      <td>33.0</td>\n",
       "      <td>14010.32</td>\n",
       "      <td>NaN</td>\n",
       "      <td>67</td>\n",
       "      <td>NaT</td>\n",
       "      <td>Калуга</td>\n",
       "      <td>Исаак</td>\n",
       "      <td>Костин</td>\n",
       "      <td>2018-04-26</td>\n",
       "      <td>ultra</td>\n",
       "    </tr>\n",
       "    <tr>\n",
       "      <th>678</th>\n",
       "      <td>1106</td>\n",
       "      <td>11</td>\n",
       "      <td>NaN</td>\n",
       "      <td>29.0</td>\n",
       "      <td>21289.27</td>\n",
       "      <td>NaN</td>\n",
       "      <td>67</td>\n",
       "      <td>NaT</td>\n",
       "      <td>Калуга</td>\n",
       "      <td>Исаак</td>\n",
       "      <td>Костин</td>\n",
       "      <td>2018-04-26</td>\n",
       "      <td>ultra</td>\n",
       "    </tr>\n",
       "    <tr>\n",
       "      <th>679</th>\n",
       "      <td>1106</td>\n",
       "      <td>12</td>\n",
       "      <td>NaN</td>\n",
       "      <td>24.0</td>\n",
       "      <td>18701.51</td>\n",
       "      <td>NaN</td>\n",
       "      <td>67</td>\n",
       "      <td>NaT</td>\n",
       "      <td>Калуга</td>\n",
       "      <td>Исаак</td>\n",
       "      <td>Костин</td>\n",
       "      <td>2018-04-26</td>\n",
       "      <td>ultra</td>\n",
       "    </tr>\n",
       "    <tr>\n",
       "      <th>1474</th>\n",
       "      <td>1231</td>\n",
       "      <td>5</td>\n",
       "      <td>NaN</td>\n",
       "      <td>55.0</td>\n",
       "      <td>10858.89</td>\n",
       "      <td>NaN</td>\n",
       "      <td>63</td>\n",
       "      <td>NaT</td>\n",
       "      <td>Чебоксары</td>\n",
       "      <td>Касьян</td>\n",
       "      <td>Авдюков</td>\n",
       "      <td>2018-05-23</td>\n",
       "      <td>ultra</td>\n",
       "    </tr>\n",
       "    <tr>\n",
       "      <th>1475</th>\n",
       "      <td>1231</td>\n",
       "      <td>6</td>\n",
       "      <td>NaN</td>\n",
       "      <td>201.0</td>\n",
       "      <td>27825.92</td>\n",
       "      <td>NaN</td>\n",
       "      <td>63</td>\n",
       "      <td>NaT</td>\n",
       "      <td>Чебоксары</td>\n",
       "      <td>Касьян</td>\n",
       "      <td>Авдюков</td>\n",
       "      <td>2018-05-23</td>\n",
       "      <td>ultra</td>\n",
       "    </tr>\n",
       "    <tr>\n",
       "      <th>1476</th>\n",
       "      <td>1231</td>\n",
       "      <td>7</td>\n",
       "      <td>NaN</td>\n",
       "      <td>211.0</td>\n",
       "      <td>27695.83</td>\n",
       "      <td>NaN</td>\n",
       "      <td>63</td>\n",
       "      <td>NaT</td>\n",
       "      <td>Чебоксары</td>\n",
       "      <td>Касьян</td>\n",
       "      <td>Авдюков</td>\n",
       "      <td>2018-05-23</td>\n",
       "      <td>ultra</td>\n",
       "    </tr>\n",
       "    <tr>\n",
       "      <th>1477</th>\n",
       "      <td>1231</td>\n",
       "      <td>8</td>\n",
       "      <td>NaN</td>\n",
       "      <td>180.0</td>\n",
       "      <td>32045.70</td>\n",
       "      <td>NaN</td>\n",
       "      <td>63</td>\n",
       "      <td>NaT</td>\n",
       "      <td>Чебоксары</td>\n",
       "      <td>Касьян</td>\n",
       "      <td>Авдюков</td>\n",
       "      <td>2018-05-23</td>\n",
       "      <td>ultra</td>\n",
       "    </tr>\n",
       "    <tr>\n",
       "      <th>1478</th>\n",
       "      <td>1231</td>\n",
       "      <td>9</td>\n",
       "      <td>NaN</td>\n",
       "      <td>188.0</td>\n",
       "      <td>33189.47</td>\n",
       "      <td>NaN</td>\n",
       "      <td>63</td>\n",
       "      <td>NaT</td>\n",
       "      <td>Чебоксары</td>\n",
       "      <td>Касьян</td>\n",
       "      <td>Авдюков</td>\n",
       "      <td>2018-05-23</td>\n",
       "      <td>ultra</td>\n",
       "    </tr>\n",
       "    <tr>\n",
       "      <th>1479</th>\n",
       "      <td>1231</td>\n",
       "      <td>10</td>\n",
       "      <td>NaN</td>\n",
       "      <td>185.0</td>\n",
       "      <td>31032.93</td>\n",
       "      <td>NaN</td>\n",
       "      <td>63</td>\n",
       "      <td>NaT</td>\n",
       "      <td>Чебоксары</td>\n",
       "      <td>Касьян</td>\n",
       "      <td>Авдюков</td>\n",
       "      <td>2018-05-23</td>\n",
       "      <td>ultra</td>\n",
       "    </tr>\n",
       "    <tr>\n",
       "      <th>1480</th>\n",
       "      <td>1231</td>\n",
       "      <td>11</td>\n",
       "      <td>NaN</td>\n",
       "      <td>173.0</td>\n",
       "      <td>27431.63</td>\n",
       "      <td>NaN</td>\n",
       "      <td>63</td>\n",
       "      <td>NaT</td>\n",
       "      <td>Чебоксары</td>\n",
       "      <td>Касьян</td>\n",
       "      <td>Авдюков</td>\n",
       "      <td>2018-05-23</td>\n",
       "      <td>ultra</td>\n",
       "    </tr>\n",
       "    <tr>\n",
       "      <th>1481</th>\n",
       "      <td>1231</td>\n",
       "      <td>12</td>\n",
       "      <td>NaN</td>\n",
       "      <td>191.0</td>\n",
       "      <td>32448.00</td>\n",
       "      <td>NaN</td>\n",
       "      <td>63</td>\n",
       "      <td>NaT</td>\n",
       "      <td>Чебоксары</td>\n",
       "      <td>Касьян</td>\n",
       "      <td>Авдюков</td>\n",
       "      <td>2018-05-23</td>\n",
       "      <td>ultra</td>\n",
       "    </tr>\n",
       "    <tr>\n",
       "      <th>2082</th>\n",
       "      <td>1328</td>\n",
       "      <td>10</td>\n",
       "      <td>NaN</td>\n",
       "      <td>6.0</td>\n",
       "      <td>22427.98</td>\n",
       "      <td>NaN</td>\n",
       "      <td>44</td>\n",
       "      <td>NaT</td>\n",
       "      <td>Мурманск</td>\n",
       "      <td>Рауль</td>\n",
       "      <td>Аркадьев</td>\n",
       "      <td>2018-10-16</td>\n",
       "      <td>ultra</td>\n",
       "    </tr>\n",
       "    <tr>\n",
       "      <th>2083</th>\n",
       "      <td>1328</td>\n",
       "      <td>11</td>\n",
       "      <td>NaN</td>\n",
       "      <td>8.0</td>\n",
       "      <td>35525.58</td>\n",
       "      <td>NaN</td>\n",
       "      <td>44</td>\n",
       "      <td>NaT</td>\n",
       "      <td>Мурманск</td>\n",
       "      <td>Рауль</td>\n",
       "      <td>Аркадьев</td>\n",
       "      <td>2018-10-16</td>\n",
       "      <td>ultra</td>\n",
       "    </tr>\n",
       "    <tr>\n",
       "      <th>2084</th>\n",
       "      <td>1328</td>\n",
       "      <td>12</td>\n",
       "      <td>NaN</td>\n",
       "      <td>7.0</td>\n",
       "      <td>39419.73</td>\n",
       "      <td>NaN</td>\n",
       "      <td>44</td>\n",
       "      <td>NaT</td>\n",
       "      <td>Мурманск</td>\n",
       "      <td>Рауль</td>\n",
       "      <td>Аркадьев</td>\n",
       "      <td>2018-10-16</td>\n",
       "      <td>ultra</td>\n",
       "    </tr>\n",
       "    <tr>\n",
       "      <th>2351</th>\n",
       "      <td>1373</td>\n",
       "      <td>6</td>\n",
       "      <td>NaN</td>\n",
       "      <td>48.0</td>\n",
       "      <td>12442.88</td>\n",
       "      <td>NaN</td>\n",
       "      <td>34</td>\n",
       "      <td>NaT</td>\n",
       "      <td>Улан-Удэ</td>\n",
       "      <td>Нелли</td>\n",
       "      <td>Афанасенко</td>\n",
       "      <td>2018-01-17</td>\n",
       "      <td>smart</td>\n",
       "    </tr>\n",
       "    <tr>\n",
       "      <th>3045</th>\n",
       "      <td>1473</td>\n",
       "      <td>8</td>\n",
       "      <td>NaN</td>\n",
       "      <td>17.0</td>\n",
       "      <td>12905.40</td>\n",
       "      <td>NaN</td>\n",
       "      <td>18</td>\n",
       "      <td>NaT</td>\n",
       "      <td>Красноярск</td>\n",
       "      <td>Николай</td>\n",
       "      <td>Лебедев</td>\n",
       "      <td>2018-08-05</td>\n",
       "      <td>ultra</td>\n",
       "    </tr>\n",
       "    <tr>\n",
       "      <th>3046</th>\n",
       "      <td>1473</td>\n",
       "      <td>9</td>\n",
       "      <td>NaN</td>\n",
       "      <td>19.0</td>\n",
       "      <td>17289.85</td>\n",
       "      <td>NaN</td>\n",
       "      <td>18</td>\n",
       "      <td>NaT</td>\n",
       "      <td>Красноярск</td>\n",
       "      <td>Николай</td>\n",
       "      <td>Лебедев</td>\n",
       "      <td>2018-08-05</td>\n",
       "      <td>ultra</td>\n",
       "    </tr>\n",
       "    <tr>\n",
       "      <th>3047</th>\n",
       "      <td>1473</td>\n",
       "      <td>10</td>\n",
       "      <td>NaN</td>\n",
       "      <td>20.0</td>\n",
       "      <td>13688.65</td>\n",
       "      <td>NaN</td>\n",
       "      <td>18</td>\n",
       "      <td>NaT</td>\n",
       "      <td>Красноярск</td>\n",
       "      <td>Николай</td>\n",
       "      <td>Лебедев</td>\n",
       "      <td>2018-08-05</td>\n",
       "      <td>ultra</td>\n",
       "    </tr>\n",
       "    <tr>\n",
       "      <th>3048</th>\n",
       "      <td>1473</td>\n",
       "      <td>11</td>\n",
       "      <td>NaN</td>\n",
       "      <td>14.0</td>\n",
       "      <td>21673.80</td>\n",
       "      <td>NaN</td>\n",
       "      <td>18</td>\n",
       "      <td>NaT</td>\n",
       "      <td>Красноярск</td>\n",
       "      <td>Николай</td>\n",
       "      <td>Лебедев</td>\n",
       "      <td>2018-08-05</td>\n",
       "      <td>ultra</td>\n",
       "    </tr>\n",
       "    <tr>\n",
       "      <th>3049</th>\n",
       "      <td>1473</td>\n",
       "      <td>12</td>\n",
       "      <td>NaN</td>\n",
       "      <td>20.0</td>\n",
       "      <td>18418.26</td>\n",
       "      <td>NaN</td>\n",
       "      <td>18</td>\n",
       "      <td>NaT</td>\n",
       "      <td>Красноярск</td>\n",
       "      <td>Николай</td>\n",
       "      <td>Лебедев</td>\n",
       "      <td>2018-08-05</td>\n",
       "      <td>ultra</td>\n",
       "    </tr>\n",
       "    <tr>\n",
       "      <th>3064</th>\n",
       "      <td>1476</td>\n",
       "      <td>4</td>\n",
       "      <td>NaN</td>\n",
       "      <td>NaN</td>\n",
       "      <td>530.78</td>\n",
       "      <td>NaN</td>\n",
       "      <td>50</td>\n",
       "      <td>NaT</td>\n",
       "      <td>Москва</td>\n",
       "      <td>Валентина</td>\n",
       "      <td>Семенова</td>\n",
       "      <td>2018-04-30</td>\n",
       "      <td>ultra</td>\n",
       "    </tr>\n",
       "    <tr>\n",
       "      <th>3149</th>\n",
       "      <td>1489</td>\n",
       "      <td>8</td>\n",
       "      <td>NaN</td>\n",
       "      <td>17.0</td>\n",
       "      <td>11050.56</td>\n",
       "      <td>NaN</td>\n",
       "      <td>35</td>\n",
       "      <td>NaT</td>\n",
       "      <td>Санкт-Петербург</td>\n",
       "      <td>Павел</td>\n",
       "      <td>Гончаров</td>\n",
       "      <td>2018-08-15</td>\n",
       "      <td>smart</td>\n",
       "    </tr>\n",
       "    <tr>\n",
       "      <th>3150</th>\n",
       "      <td>1489</td>\n",
       "      <td>9</td>\n",
       "      <td>NaN</td>\n",
       "      <td>32.0</td>\n",
       "      <td>17206.30</td>\n",
       "      <td>NaN</td>\n",
       "      <td>35</td>\n",
       "      <td>NaT</td>\n",
       "      <td>Санкт-Петербург</td>\n",
       "      <td>Павел</td>\n",
       "      <td>Гончаров</td>\n",
       "      <td>2018-08-15</td>\n",
       "      <td>smart</td>\n",
       "    </tr>\n",
       "    <tr>\n",
       "      <th>3151</th>\n",
       "      <td>1489</td>\n",
       "      <td>10</td>\n",
       "      <td>NaN</td>\n",
       "      <td>21.0</td>\n",
       "      <td>19559.44</td>\n",
       "      <td>NaN</td>\n",
       "      <td>35</td>\n",
       "      <td>NaT</td>\n",
       "      <td>Санкт-Петербург</td>\n",
       "      <td>Павел</td>\n",
       "      <td>Гончаров</td>\n",
       "      <td>2018-08-15</td>\n",
       "      <td>smart</td>\n",
       "    </tr>\n",
       "    <tr>\n",
       "      <th>3152</th>\n",
       "      <td>1489</td>\n",
       "      <td>11</td>\n",
       "      <td>NaN</td>\n",
       "      <td>20.0</td>\n",
       "      <td>17491.56</td>\n",
       "      <td>NaN</td>\n",
       "      <td>35</td>\n",
       "      <td>NaT</td>\n",
       "      <td>Санкт-Петербург</td>\n",
       "      <td>Павел</td>\n",
       "      <td>Гончаров</td>\n",
       "      <td>2018-08-15</td>\n",
       "      <td>smart</td>\n",
       "    </tr>\n",
       "    <tr>\n",
       "      <th>3153</th>\n",
       "      <td>1489</td>\n",
       "      <td>12</td>\n",
       "      <td>NaN</td>\n",
       "      <td>35.0</td>\n",
       "      <td>17322.51</td>\n",
       "      <td>NaN</td>\n",
       "      <td>35</td>\n",
       "      <td>NaT</td>\n",
       "      <td>Санкт-Петербург</td>\n",
       "      <td>Павел</td>\n",
       "      <td>Гончаров</td>\n",
       "      <td>2018-08-15</td>\n",
       "      <td>smart</td>\n",
       "    </tr>\n",
       "  </tbody>\n",
       "</table>\n",
       "</div>"
      ],
      "text/plain": [
       "      user_id  month  calls  messages   mb_used  minutes  age churn_date  \\\n",
       "570      1091      5    NaN      30.0  10703.37      NaN   36        NaT   \n",
       "571      1091      6    NaN      30.0  10236.19      NaN   36        NaT   \n",
       "572      1091      7    NaN      35.0  16444.98      NaN   36        NaT   \n",
       "573      1091      8    NaN      31.0  12633.88      NaN   36        NaT   \n",
       "574      1091      9    NaN      32.0  16597.11      NaN   36        NaT   \n",
       "575      1091     10    NaN      44.0  15644.73      NaN   36        NaT   \n",
       "576      1091     11    NaN      28.0  11864.25      NaN   36        NaT   \n",
       "577      1091     12    NaN      42.0  13280.45      NaN   36        NaT   \n",
       "671      1106      4    NaN       9.0   2923.49      NaN   67        NaT   \n",
       "672      1106      5    NaN      28.0  16573.01      NaN   67        NaT   \n",
       "673      1106      6    NaN      30.0  20016.74      NaN   67        NaT   \n",
       "674      1106      7    NaN      24.0  21626.86      NaN   67        NaT   \n",
       "675      1106      8    NaN      25.0  19088.67      NaN   67        NaT   \n",
       "676      1106      9    NaN      23.0  21934.03      NaN   67        NaT   \n",
       "677      1106     10    NaN      33.0  14010.32      NaN   67        NaT   \n",
       "678      1106     11    NaN      29.0  21289.27      NaN   67        NaT   \n",
       "679      1106     12    NaN      24.0  18701.51      NaN   67        NaT   \n",
       "1474     1231      5    NaN      55.0  10858.89      NaN   63        NaT   \n",
       "1475     1231      6    NaN     201.0  27825.92      NaN   63        NaT   \n",
       "1476     1231      7    NaN     211.0  27695.83      NaN   63        NaT   \n",
       "1477     1231      8    NaN     180.0  32045.70      NaN   63        NaT   \n",
       "1478     1231      9    NaN     188.0  33189.47      NaN   63        NaT   \n",
       "1479     1231     10    NaN     185.0  31032.93      NaN   63        NaT   \n",
       "1480     1231     11    NaN     173.0  27431.63      NaN   63        NaT   \n",
       "1481     1231     12    NaN     191.0  32448.00      NaN   63        NaT   \n",
       "2082     1328     10    NaN       6.0  22427.98      NaN   44        NaT   \n",
       "2083     1328     11    NaN       8.0  35525.58      NaN   44        NaT   \n",
       "2084     1328     12    NaN       7.0  39419.73      NaN   44        NaT   \n",
       "2351     1373      6    NaN      48.0  12442.88      NaN   34        NaT   \n",
       "3045     1473      8    NaN      17.0  12905.40      NaN   18        NaT   \n",
       "3046     1473      9    NaN      19.0  17289.85      NaN   18        NaT   \n",
       "3047     1473     10    NaN      20.0  13688.65      NaN   18        NaT   \n",
       "3048     1473     11    NaN      14.0  21673.80      NaN   18        NaT   \n",
       "3049     1473     12    NaN      20.0  18418.26      NaN   18        NaT   \n",
       "3064     1476      4    NaN       NaN    530.78      NaN   50        NaT   \n",
       "3149     1489      8    NaN      17.0  11050.56      NaN   35        NaT   \n",
       "3150     1489      9    NaN      32.0  17206.30      NaN   35        NaT   \n",
       "3151     1489     10    NaN      21.0  19559.44      NaN   35        NaT   \n",
       "3152     1489     11    NaN      20.0  17491.56      NaN   35        NaT   \n",
       "3153     1489     12    NaN      35.0  17322.51      NaN   35        NaT   \n",
       "\n",
       "                  city first_name   last_name   reg_date tariff  \n",
       "570   Набережные Челны       Вера     Суслова 2018-05-08  ultra  \n",
       "571   Набережные Челны       Вера     Суслова 2018-05-08  ultra  \n",
       "572   Набережные Челны       Вера     Суслова 2018-05-08  ultra  \n",
       "573   Набережные Челны       Вера     Суслова 2018-05-08  ultra  \n",
       "574   Набережные Челны       Вера     Суслова 2018-05-08  ultra  \n",
       "575   Набережные Челны       Вера     Суслова 2018-05-08  ultra  \n",
       "576   Набережные Челны       Вера     Суслова 2018-05-08  ultra  \n",
       "577   Набережные Челны       Вера     Суслова 2018-05-08  ultra  \n",
       "671             Калуга      Исаак      Костин 2018-04-26  ultra  \n",
       "672             Калуга      Исаак      Костин 2018-04-26  ultra  \n",
       "673             Калуга      Исаак      Костин 2018-04-26  ultra  \n",
       "674             Калуга      Исаак      Костин 2018-04-26  ultra  \n",
       "675             Калуга      Исаак      Костин 2018-04-26  ultra  \n",
       "676             Калуга      Исаак      Костин 2018-04-26  ultra  \n",
       "677             Калуга      Исаак      Костин 2018-04-26  ultra  \n",
       "678             Калуга      Исаак      Костин 2018-04-26  ultra  \n",
       "679             Калуга      Исаак      Костин 2018-04-26  ultra  \n",
       "1474         Чебоксары     Касьян     Авдюков 2018-05-23  ultra  \n",
       "1475         Чебоксары     Касьян     Авдюков 2018-05-23  ultra  \n",
       "1476         Чебоксары     Касьян     Авдюков 2018-05-23  ultra  \n",
       "1477         Чебоксары     Касьян     Авдюков 2018-05-23  ultra  \n",
       "1478         Чебоксары     Касьян     Авдюков 2018-05-23  ultra  \n",
       "1479         Чебоксары     Касьян     Авдюков 2018-05-23  ultra  \n",
       "1480         Чебоксары     Касьян     Авдюков 2018-05-23  ultra  \n",
       "1481         Чебоксары     Касьян     Авдюков 2018-05-23  ultra  \n",
       "2082          Мурманск      Рауль    Аркадьев 2018-10-16  ultra  \n",
       "2083          Мурманск      Рауль    Аркадьев 2018-10-16  ultra  \n",
       "2084          Мурманск      Рауль    Аркадьев 2018-10-16  ultra  \n",
       "2351          Улан-Удэ      Нелли  Афанасенко 2018-01-17  smart  \n",
       "3045        Красноярск    Николай     Лебедев 2018-08-05  ultra  \n",
       "3046        Красноярск    Николай     Лебедев 2018-08-05  ultra  \n",
       "3047        Красноярск    Николай     Лебедев 2018-08-05  ultra  \n",
       "3048        Красноярск    Николай     Лебедев 2018-08-05  ultra  \n",
       "3049        Красноярск    Николай     Лебедев 2018-08-05  ultra  \n",
       "3064            Москва  Валентина    Семенова 2018-04-30  ultra  \n",
       "3149   Санкт-Петербург      Павел    Гончаров 2018-08-15  smart  \n",
       "3150   Санкт-Петербург      Павел    Гончаров 2018-08-15  smart  \n",
       "3151   Санкт-Петербург      Павел    Гончаров 2018-08-15  smart  \n",
       "3152   Санкт-Петербург      Павел    Гончаров 2018-08-15  smart  \n",
       "3153   Санкт-Петербург      Павел    Гончаров 2018-08-15  smart  "
      ]
     },
     "execution_count": 181,
     "metadata": {},
     "output_type": "execute_result"
    }
   ],
   "source": [
    "# вывод строк с отсутствующими данными в признаке calls:\n",
    "\n",
    "user_behavior.query('calls.isna()')"
   ]
  },
  {
   "cell_type": "markdown",
   "id": "a5e9dcd3",
   "metadata": {},
   "source": [
    "Действительно вызовов не было. Тариф действующий - отсутствуют данные в столбце `churn_date`. Можно отметить большое потребление интернет трафика. Т.е. абоненты используют тариф в основном для интернета. В основном это тариф `ultra`.\n",
    "\n",
    "Заполним пропуски в `calls`, `minutes` и `churn_date` нулём."
   ]
  },
  {
   "cell_type": "code",
   "execution_count": 182,
   "id": "64c2ca9b",
   "metadata": {},
   "outputs": [],
   "source": [
    "# заполнение пропусков нулём:\n",
    "\n",
    "user_behavior['calls'] = user_behavior['calls'].fillna(0)\n",
    "user_behavior['minutes'] = user_behavior['minutes'].fillna(0)\n",
    "user_behavior['churn_date'] = user_behavior['churn_date'].fillna(0)\n"
   ]
  },
  {
   "cell_type": "code",
   "execution_count": 183,
   "id": "6c33cb99",
   "metadata": {},
   "outputs": [
    {
     "data": {
      "text/plain": [
       "user_id         0\n",
       "month           0\n",
       "calls           0\n",
       "messages      497\n",
       "mb_used        11\n",
       "minutes         0\n",
       "age             0\n",
       "churn_date      0\n",
       "city            0\n",
       "first_name      0\n",
       "last_name       0\n",
       "reg_date        0\n",
       "tariff          0\n",
       "dtype: int64"
      ]
     },
     "execution_count": 183,
     "metadata": {},
     "output_type": "execute_result"
    }
   ],
   "source": [
    "user_behavior.isna().sum()"
   ]
  },
  {
   "cell_type": "markdown",
   "id": "07781cbd",
   "metadata": {},
   "source": [
    "Далее выведем строки с пропусками в `messages`."
   ]
  },
  {
   "cell_type": "code",
   "execution_count": 184,
   "id": "86d6a152",
   "metadata": {},
   "outputs": [
    {
     "data": {
      "text/html": [
       "<div>\n",
       "<style scoped>\n",
       "    .dataframe tbody tr th:only-of-type {\n",
       "        vertical-align: middle;\n",
       "    }\n",
       "\n",
       "    .dataframe tbody tr th {\n",
       "        vertical-align: top;\n",
       "    }\n",
       "\n",
       "    .dataframe thead th {\n",
       "        text-align: right;\n",
       "    }\n",
       "</style>\n",
       "<table border=\"1\" class=\"dataframe\">\n",
       "  <thead>\n",
       "    <tr style=\"text-align: right;\">\n",
       "      <th></th>\n",
       "      <th>user_id</th>\n",
       "      <th>month</th>\n",
       "      <th>calls</th>\n",
       "      <th>messages</th>\n",
       "      <th>mb_used</th>\n",
       "      <th>minutes</th>\n",
       "      <th>age</th>\n",
       "      <th>churn_date</th>\n",
       "      <th>city</th>\n",
       "      <th>first_name</th>\n",
       "      <th>last_name</th>\n",
       "      <th>reg_date</th>\n",
       "      <th>tariff</th>\n",
       "    </tr>\n",
       "  </thead>\n",
       "  <tbody>\n",
       "    <tr>\n",
       "      <th>8</th>\n",
       "      <td>1001</td>\n",
       "      <td>11</td>\n",
       "      <td>59.0</td>\n",
       "      <td>NaN</td>\n",
       "      <td>18429.34</td>\n",
       "      <td>430.0</td>\n",
       "      <td>41</td>\n",
       "      <td>0</td>\n",
       "      <td>Москва</td>\n",
       "      <td>Иван</td>\n",
       "      <td>Ежов</td>\n",
       "      <td>2018-11-01</td>\n",
       "      <td>smart</td>\n",
       "    </tr>\n",
       "    <tr>\n",
       "      <th>9</th>\n",
       "      <td>1001</td>\n",
       "      <td>12</td>\n",
       "      <td>63.0</td>\n",
       "      <td>NaN</td>\n",
       "      <td>14036.66</td>\n",
       "      <td>414.0</td>\n",
       "      <td>41</td>\n",
       "      <td>0</td>\n",
       "      <td>Москва</td>\n",
       "      <td>Иван</td>\n",
       "      <td>Ежов</td>\n",
       "      <td>2018-11-01</td>\n",
       "      <td>smart</td>\n",
       "    </tr>\n",
       "    <tr>\n",
       "      <th>42</th>\n",
       "      <td>1006</td>\n",
       "      <td>2</td>\n",
       "      <td>3.0</td>\n",
       "      <td>NaN</td>\n",
       "      <td>1392.15</td>\n",
       "      <td>42.0</td>\n",
       "      <td>21</td>\n",
       "      <td>0</td>\n",
       "      <td>Ульяновск</td>\n",
       "      <td>Леонид</td>\n",
       "      <td>Ермолаев</td>\n",
       "      <td>2018-02-26</td>\n",
       "      <td>smart</td>\n",
       "    </tr>\n",
       "    <tr>\n",
       "      <th>43</th>\n",
       "      <td>1006</td>\n",
       "      <td>3</td>\n",
       "      <td>46.0</td>\n",
       "      <td>NaN</td>\n",
       "      <td>17287.93</td>\n",
       "      <td>286.0</td>\n",
       "      <td>21</td>\n",
       "      <td>0</td>\n",
       "      <td>Ульяновск</td>\n",
       "      <td>Леонид</td>\n",
       "      <td>Ермолаев</td>\n",
       "      <td>2018-02-26</td>\n",
       "      <td>smart</td>\n",
       "    </tr>\n",
       "    <tr>\n",
       "      <th>44</th>\n",
       "      <td>1006</td>\n",
       "      <td>4</td>\n",
       "      <td>47.0</td>\n",
       "      <td>NaN</td>\n",
       "      <td>13936.70</td>\n",
       "      <td>356.0</td>\n",
       "      <td>21</td>\n",
       "      <td>0</td>\n",
       "      <td>Ульяновск</td>\n",
       "      <td>Леонид</td>\n",
       "      <td>Ермолаев</td>\n",
       "      <td>2018-02-26</td>\n",
       "      <td>smart</td>\n",
       "    </tr>\n",
       "    <tr>\n",
       "      <th>...</th>\n",
       "      <td>...</td>\n",
       "      <td>...</td>\n",
       "      <td>...</td>\n",
       "      <td>...</td>\n",
       "      <td>...</td>\n",
       "      <td>...</td>\n",
       "      <td>...</td>\n",
       "      <td>...</td>\n",
       "      <td>...</td>\n",
       "      <td>...</td>\n",
       "      <td>...</td>\n",
       "      <td>...</td>\n",
       "      <td>...</td>\n",
       "    </tr>\n",
       "    <tr>\n",
       "      <th>3181</th>\n",
       "      <td>1494</td>\n",
       "      <td>8</td>\n",
       "      <td>32.0</td>\n",
       "      <td>NaN</td>\n",
       "      <td>6590.75</td>\n",
       "      <td>262.0</td>\n",
       "      <td>62</td>\n",
       "      <td>0</td>\n",
       "      <td>Омск</td>\n",
       "      <td>Ренат</td>\n",
       "      <td>Андропов</td>\n",
       "      <td>2018-08-17</td>\n",
       "      <td>smart</td>\n",
       "    </tr>\n",
       "    <tr>\n",
       "      <th>3182</th>\n",
       "      <td>1494</td>\n",
       "      <td>9</td>\n",
       "      <td>66.0</td>\n",
       "      <td>NaN</td>\n",
       "      <td>16962.51</td>\n",
       "      <td>501.0</td>\n",
       "      <td>62</td>\n",
       "      <td>0</td>\n",
       "      <td>Омск</td>\n",
       "      <td>Ренат</td>\n",
       "      <td>Андропов</td>\n",
       "      <td>2018-08-17</td>\n",
       "      <td>smart</td>\n",
       "    </tr>\n",
       "    <tr>\n",
       "      <th>3183</th>\n",
       "      <td>1494</td>\n",
       "      <td>10</td>\n",
       "      <td>52.0</td>\n",
       "      <td>NaN</td>\n",
       "      <td>17767.24</td>\n",
       "      <td>354.0</td>\n",
       "      <td>62</td>\n",
       "      <td>0</td>\n",
       "      <td>Омск</td>\n",
       "      <td>Ренат</td>\n",
       "      <td>Андропов</td>\n",
       "      <td>2018-08-17</td>\n",
       "      <td>smart</td>\n",
       "    </tr>\n",
       "    <tr>\n",
       "      <th>3184</th>\n",
       "      <td>1494</td>\n",
       "      <td>11</td>\n",
       "      <td>63.0</td>\n",
       "      <td>NaN</td>\n",
       "      <td>18052.45</td>\n",
       "      <td>411.0</td>\n",
       "      <td>62</td>\n",
       "      <td>0</td>\n",
       "      <td>Омск</td>\n",
       "      <td>Ренат</td>\n",
       "      <td>Андропов</td>\n",
       "      <td>2018-08-17</td>\n",
       "      <td>smart</td>\n",
       "    </tr>\n",
       "    <tr>\n",
       "      <th>3185</th>\n",
       "      <td>1494</td>\n",
       "      <td>12</td>\n",
       "      <td>62.0</td>\n",
       "      <td>NaN</td>\n",
       "      <td>17621.21</td>\n",
       "      <td>418.0</td>\n",
       "      <td>62</td>\n",
       "      <td>0</td>\n",
       "      <td>Омск</td>\n",
       "      <td>Ренат</td>\n",
       "      <td>Андропов</td>\n",
       "      <td>2018-08-17</td>\n",
       "      <td>smart</td>\n",
       "    </tr>\n",
       "  </tbody>\n",
       "</table>\n",
       "<p>497 rows × 13 columns</p>\n",
       "</div>"
      ],
      "text/plain": [
       "      user_id  month  calls  messages   mb_used  minutes  age churn_date  \\\n",
       "8        1001     11   59.0       NaN  18429.34    430.0   41          0   \n",
       "9        1001     12   63.0       NaN  14036.66    414.0   41          0   \n",
       "42       1006      2    3.0       NaN   1392.15     42.0   21          0   \n",
       "43       1006      3   46.0       NaN  17287.93    286.0   21          0   \n",
       "44       1006      4   47.0       NaN  13936.70    356.0   21          0   \n",
       "...       ...    ...    ...       ...       ...      ...  ...        ...   \n",
       "3181     1494      8   32.0       NaN   6590.75    262.0   62          0   \n",
       "3182     1494      9   66.0       NaN  16962.51    501.0   62          0   \n",
       "3183     1494     10   52.0       NaN  17767.24    354.0   62          0   \n",
       "3184     1494     11   63.0       NaN  18052.45    411.0   62          0   \n",
       "3185     1494     12   62.0       NaN  17621.21    418.0   62          0   \n",
       "\n",
       "           city first_name last_name   reg_date tariff  \n",
       "8        Москва       Иван      Ежов 2018-11-01  smart  \n",
       "9        Москва       Иван      Ежов 2018-11-01  smart  \n",
       "42    Ульяновск     Леонид  Ермолаев 2018-02-26  smart  \n",
       "43    Ульяновск     Леонид  Ермолаев 2018-02-26  smart  \n",
       "44    Ульяновск     Леонид  Ермолаев 2018-02-26  smart  \n",
       "...         ...        ...       ...        ...    ...  \n",
       "3181       Омск      Ренат  Андропов 2018-08-17  smart  \n",
       "3182       Омск      Ренат  Андропов 2018-08-17  smart  \n",
       "3183       Омск      Ренат  Андропов 2018-08-17  smart  \n",
       "3184       Омск      Ренат  Андропов 2018-08-17  smart  \n",
       "3185       Омск      Ренат  Андропов 2018-08-17  smart  \n",
       "\n",
       "[497 rows x 13 columns]"
      ]
     },
     "execution_count": 184,
     "metadata": {},
     "output_type": "execute_result"
    }
   ],
   "source": [
    "# вывод строк с отсутствующими данными в признаке messages:\n",
    "\n",
    "user_behavior.query('messages.isna()')"
   ]
  },
  {
   "cell_type": "markdown",
   "id": "a720a572",
   "metadata": {},
   "source": [
    "Тарифы действующие. Абоненты просто не отправили ни одного SMS-сообщения за месяц. Поэтому заменим отсутствующие данные нулём."
   ]
  },
  {
   "cell_type": "code",
   "execution_count": 185,
   "id": "1f3ea655",
   "metadata": {},
   "outputs": [],
   "source": [
    "# заполнение пропусков нулём:\n",
    "\n",
    "user_behavior['messages'] = user_behavior['messages'].fillna(0)"
   ]
  },
  {
   "cell_type": "markdown",
   "id": "58118642",
   "metadata": {},
   "source": [
    "Далее выведем строки с пропусками в `mb_used`."
   ]
  },
  {
   "cell_type": "code",
   "execution_count": 186,
   "id": "f06a348f",
   "metadata": {},
   "outputs": [
    {
     "data": {
      "text/html": [
       "<div>\n",
       "<style scoped>\n",
       "    .dataframe tbody tr th:only-of-type {\n",
       "        vertical-align: middle;\n",
       "    }\n",
       "\n",
       "    .dataframe tbody tr th {\n",
       "        vertical-align: top;\n",
       "    }\n",
       "\n",
       "    .dataframe thead th {\n",
       "        text-align: right;\n",
       "    }\n",
       "</style>\n",
       "<table border=\"1\" class=\"dataframe\">\n",
       "  <thead>\n",
       "    <tr style=\"text-align: right;\">\n",
       "      <th></th>\n",
       "      <th>user_id</th>\n",
       "      <th>month</th>\n",
       "      <th>calls</th>\n",
       "      <th>messages</th>\n",
       "      <th>mb_used</th>\n",
       "      <th>minutes</th>\n",
       "      <th>age</th>\n",
       "      <th>churn_date</th>\n",
       "      <th>city</th>\n",
       "      <th>first_name</th>\n",
       "      <th>last_name</th>\n",
       "      <th>reg_date</th>\n",
       "      <th>tariff</th>\n",
       "    </tr>\n",
       "  </thead>\n",
       "  <tbody>\n",
       "    <tr>\n",
       "      <th>1722</th>\n",
       "      <td>1273</td>\n",
       "      <td>5</td>\n",
       "      <td>24.0</td>\n",
       "      <td>21.0</td>\n",
       "      <td>NaN</td>\n",
       "      <td>220.0</td>\n",
       "      <td>46</td>\n",
       "      <td>0</td>\n",
       "      <td>Курган</td>\n",
       "      <td>Рэм</td>\n",
       "      <td>Корнилов</td>\n",
       "      <td>2018-05-15</td>\n",
       "      <td>ultra</td>\n",
       "    </tr>\n",
       "    <tr>\n",
       "      <th>1723</th>\n",
       "      <td>1273</td>\n",
       "      <td>6</td>\n",
       "      <td>40.0</td>\n",
       "      <td>38.0</td>\n",
       "      <td>NaN</td>\n",
       "      <td>230.0</td>\n",
       "      <td>46</td>\n",
       "      <td>0</td>\n",
       "      <td>Курган</td>\n",
       "      <td>Рэм</td>\n",
       "      <td>Корнилов</td>\n",
       "      <td>2018-05-15</td>\n",
       "      <td>ultra</td>\n",
       "    </tr>\n",
       "    <tr>\n",
       "      <th>1724</th>\n",
       "      <td>1273</td>\n",
       "      <td>7</td>\n",
       "      <td>44.0</td>\n",
       "      <td>37.0</td>\n",
       "      <td>NaN</td>\n",
       "      <td>253.0</td>\n",
       "      <td>46</td>\n",
       "      <td>0</td>\n",
       "      <td>Курган</td>\n",
       "      <td>Рэм</td>\n",
       "      <td>Корнилов</td>\n",
       "      <td>2018-05-15</td>\n",
       "      <td>ultra</td>\n",
       "    </tr>\n",
       "    <tr>\n",
       "      <th>1725</th>\n",
       "      <td>1273</td>\n",
       "      <td>8</td>\n",
       "      <td>53.0</td>\n",
       "      <td>41.0</td>\n",
       "      <td>NaN</td>\n",
       "      <td>253.0</td>\n",
       "      <td>46</td>\n",
       "      <td>0</td>\n",
       "      <td>Курган</td>\n",
       "      <td>Рэм</td>\n",
       "      <td>Корнилов</td>\n",
       "      <td>2018-05-15</td>\n",
       "      <td>ultra</td>\n",
       "    </tr>\n",
       "    <tr>\n",
       "      <th>1726</th>\n",
       "      <td>1273</td>\n",
       "      <td>9</td>\n",
       "      <td>33.0</td>\n",
       "      <td>32.0</td>\n",
       "      <td>NaN</td>\n",
       "      <td>223.0</td>\n",
       "      <td>46</td>\n",
       "      <td>0</td>\n",
       "      <td>Курган</td>\n",
       "      <td>Рэм</td>\n",
       "      <td>Корнилов</td>\n",
       "      <td>2018-05-15</td>\n",
       "      <td>ultra</td>\n",
       "    </tr>\n",
       "    <tr>\n",
       "      <th>1727</th>\n",
       "      <td>1273</td>\n",
       "      <td>10</td>\n",
       "      <td>40.0</td>\n",
       "      <td>35.0</td>\n",
       "      <td>NaN</td>\n",
       "      <td>315.0</td>\n",
       "      <td>46</td>\n",
       "      <td>0</td>\n",
       "      <td>Курган</td>\n",
       "      <td>Рэм</td>\n",
       "      <td>Корнилов</td>\n",
       "      <td>2018-05-15</td>\n",
       "      <td>ultra</td>\n",
       "    </tr>\n",
       "    <tr>\n",
       "      <th>1728</th>\n",
       "      <td>1273</td>\n",
       "      <td>11</td>\n",
       "      <td>45.0</td>\n",
       "      <td>29.0</td>\n",
       "      <td>NaN</td>\n",
       "      <td>272.0</td>\n",
       "      <td>46</td>\n",
       "      <td>0</td>\n",
       "      <td>Курган</td>\n",
       "      <td>Рэм</td>\n",
       "      <td>Корнилов</td>\n",
       "      <td>2018-05-15</td>\n",
       "      <td>ultra</td>\n",
       "    </tr>\n",
       "    <tr>\n",
       "      <th>1729</th>\n",
       "      <td>1273</td>\n",
       "      <td>12</td>\n",
       "      <td>41.0</td>\n",
       "      <td>39.0</td>\n",
       "      <td>NaN</td>\n",
       "      <td>260.0</td>\n",
       "      <td>46</td>\n",
       "      <td>0</td>\n",
       "      <td>Курган</td>\n",
       "      <td>Рэм</td>\n",
       "      <td>Корнилов</td>\n",
       "      <td>2018-05-15</td>\n",
       "      <td>ultra</td>\n",
       "    </tr>\n",
       "    <tr>\n",
       "      <th>2387</th>\n",
       "      <td>1377</td>\n",
       "      <td>2</td>\n",
       "      <td>23.0</td>\n",
       "      <td>2.0</td>\n",
       "      <td>NaN</td>\n",
       "      <td>179.0</td>\n",
       "      <td>59</td>\n",
       "      <td>0</td>\n",
       "      <td>Брянск</td>\n",
       "      <td>Альфред</td>\n",
       "      <td>Семин</td>\n",
       "      <td>2018-02-25</td>\n",
       "      <td>ultra</td>\n",
       "    </tr>\n",
       "    <tr>\n",
       "      <th>2500</th>\n",
       "      <td>1392</td>\n",
       "      <td>2</td>\n",
       "      <td>2.0</td>\n",
       "      <td>3.0</td>\n",
       "      <td>NaN</td>\n",
       "      <td>13.0</td>\n",
       "      <td>54</td>\n",
       "      <td>2018-09-27 00:00:00</td>\n",
       "      <td>Челябинск</td>\n",
       "      <td>Алла</td>\n",
       "      <td>Беликова</td>\n",
       "      <td>2018-02-27</td>\n",
       "      <td>ultra</td>\n",
       "    </tr>\n",
       "    <tr>\n",
       "      <th>2858</th>\n",
       "      <td>1446</td>\n",
       "      <td>8</td>\n",
       "      <td>4.0</td>\n",
       "      <td>1.0</td>\n",
       "      <td>NaN</td>\n",
       "      <td>50.0</td>\n",
       "      <td>64</td>\n",
       "      <td>0</td>\n",
       "      <td>Липецк</td>\n",
       "      <td>Антонина</td>\n",
       "      <td>Артемчук</td>\n",
       "      <td>2018-08-31</td>\n",
       "      <td>smart</td>\n",
       "    </tr>\n",
       "  </tbody>\n",
       "</table>\n",
       "</div>"
      ],
      "text/plain": [
       "      user_id  month  calls  messages  mb_used  minutes  age  \\\n",
       "1722     1273      5   24.0      21.0      NaN    220.0   46   \n",
       "1723     1273      6   40.0      38.0      NaN    230.0   46   \n",
       "1724     1273      7   44.0      37.0      NaN    253.0   46   \n",
       "1725     1273      8   53.0      41.0      NaN    253.0   46   \n",
       "1726     1273      9   33.0      32.0      NaN    223.0   46   \n",
       "1727     1273     10   40.0      35.0      NaN    315.0   46   \n",
       "1728     1273     11   45.0      29.0      NaN    272.0   46   \n",
       "1729     1273     12   41.0      39.0      NaN    260.0   46   \n",
       "2387     1377      2   23.0       2.0      NaN    179.0   59   \n",
       "2500     1392      2    2.0       3.0      NaN     13.0   54   \n",
       "2858     1446      8    4.0       1.0      NaN     50.0   64   \n",
       "\n",
       "               churn_date       city first_name last_name   reg_date tariff  \n",
       "1722                    0     Курган        Рэм  Корнилов 2018-05-15  ultra  \n",
       "1723                    0     Курган        Рэм  Корнилов 2018-05-15  ultra  \n",
       "1724                    0     Курган        Рэм  Корнилов 2018-05-15  ultra  \n",
       "1725                    0     Курган        Рэм  Корнилов 2018-05-15  ultra  \n",
       "1726                    0     Курган        Рэм  Корнилов 2018-05-15  ultra  \n",
       "1727                    0     Курган        Рэм  Корнилов 2018-05-15  ultra  \n",
       "1728                    0     Курган        Рэм  Корнилов 2018-05-15  ultra  \n",
       "1729                    0     Курган        Рэм  Корнилов 2018-05-15  ultra  \n",
       "2387                    0     Брянск    Альфред     Семин 2018-02-25  ultra  \n",
       "2500  2018-09-27 00:00:00  Челябинск       Алла  Беликова 2018-02-27  ultra  \n",
       "2858                    0     Липецк   Антонина  Артемчук 2018-08-31  smart  "
      ]
     },
     "execution_count": 186,
     "metadata": {},
     "output_type": "execute_result"
    }
   ],
   "source": [
    "# вывод строк с отсутствующими данными в признаке messages:\n",
    "\n",
    "user_behavior.query('mb_used.isna()')"
   ]
  },
  {
   "cell_type": "markdown",
   "id": "93c2c175",
   "metadata": {},
   "source": [
    "Один абонент перестал пользоваться тарифом. Остальные пользователи не пользовались интернетом, хотя почти у всех абонентов тариф `ultra`.\n",
    "\n",
    "Также заполним пропуски в `mb_used` нулём."
   ]
  },
  {
   "cell_type": "code",
   "execution_count": 187,
   "id": "5e623530",
   "metadata": {},
   "outputs": [],
   "source": [
    "# заполнение пропусков нулём:\n",
    "\n",
    "user_behavior['mb_used'] = user_behavior['mb_used'].fillna(0)"
   ]
  },
  {
   "cell_type": "code",
   "execution_count": 188,
   "id": "c0abdbe3",
   "metadata": {},
   "outputs": [
    {
     "data": {
      "text/plain": [
       "user_id       0\n",
       "month         0\n",
       "calls         0\n",
       "messages      0\n",
       "mb_used       0\n",
       "minutes       0\n",
       "age           0\n",
       "churn_date    0\n",
       "city          0\n",
       "first_name    0\n",
       "last_name     0\n",
       "reg_date      0\n",
       "tariff        0\n",
       "dtype: int64"
      ]
     },
     "execution_count": 188,
     "metadata": {},
     "output_type": "execute_result"
    }
   ],
   "source": [
    "# проверка на пропуски:\n",
    "\n",
    "user_behavior.isna().sum()"
   ]
  },
  {
   "cell_type": "markdown",
   "id": "dd26078f",
   "metadata": {},
   "source": [
    "Итак, заполнили все пропуски нулём. \n",
    "\n",
    "Далее подсчитаем количество минут разговора, сообщений и мегабайт, превышающих включенные в тариф. Тем самым сможем подсчитать дополнительный доход, который приносят абоненты помимо стоимости тарифного плана. Дополним датафрейм `user_behavior` информацией о тарифных планах из `tariffs`."
   ]
  },
  {
   "cell_type": "code",
   "execution_count": 189,
   "id": "6f2efbfc",
   "metadata": {},
   "outputs": [
    {
     "data": {
      "text/html": [
       "<div>\n",
       "<style scoped>\n",
       "    .dataframe tbody tr th:only-of-type {\n",
       "        vertical-align: middle;\n",
       "    }\n",
       "\n",
       "    .dataframe tbody tr th {\n",
       "        vertical-align: top;\n",
       "    }\n",
       "\n",
       "    .dataframe thead th {\n",
       "        text-align: right;\n",
       "    }\n",
       "</style>\n",
       "<table border=\"1\" class=\"dataframe\">\n",
       "  <thead>\n",
       "    <tr style=\"text-align: right;\">\n",
       "      <th></th>\n",
       "      <th>messages_included</th>\n",
       "      <th>mb_per_month_included</th>\n",
       "      <th>minutes_included</th>\n",
       "      <th>rub_monthly_fee</th>\n",
       "      <th>rub_per_gb</th>\n",
       "      <th>rub_per_message</th>\n",
       "      <th>rub_per_minute</th>\n",
       "      <th>tariff_name</th>\n",
       "    </tr>\n",
       "  </thead>\n",
       "  <tbody>\n",
       "    <tr>\n",
       "      <th>0</th>\n",
       "      <td>50</td>\n",
       "      <td>15360</td>\n",
       "      <td>500</td>\n",
       "      <td>550</td>\n",
       "      <td>200</td>\n",
       "      <td>3</td>\n",
       "      <td>3</td>\n",
       "      <td>smart</td>\n",
       "    </tr>\n",
       "    <tr>\n",
       "      <th>1</th>\n",
       "      <td>1000</td>\n",
       "      <td>30720</td>\n",
       "      <td>3000</td>\n",
       "      <td>1950</td>\n",
       "      <td>150</td>\n",
       "      <td>1</td>\n",
       "      <td>1</td>\n",
       "      <td>ultra</td>\n",
       "    </tr>\n",
       "  </tbody>\n",
       "</table>\n",
       "</div>"
      ],
      "text/plain": [
       "   messages_included  mb_per_month_included  minutes_included  \\\n",
       "0                 50                  15360               500   \n",
       "1               1000                  30720              3000   \n",
       "\n",
       "   rub_monthly_fee  rub_per_gb  rub_per_message  rub_per_minute tariff_name  \n",
       "0              550         200                3               3       smart  \n",
       "1             1950         150                1               1       ultra  "
      ]
     },
     "execution_count": 189,
     "metadata": {},
     "output_type": "execute_result"
    }
   ],
   "source": [
    "# вывод tariffs:\n",
    "\n",
    "tariffs"
   ]
  },
  {
   "cell_type": "markdown",
   "id": "3822bfdd",
   "metadata": {},
   "source": [
    "Переименуем столбец tariff_name на более простое tariff."
   ]
  },
  {
   "cell_type": "code",
   "execution_count": 190,
   "id": "b59901c1",
   "metadata": {},
   "outputs": [],
   "source": [
    "# переименование столбца tariff_name на более простое tariff\n",
    "\n",
    "tariffs = tariffs.rename(\n",
    "    columns={\n",
    "        'tariff_name': 'tariff'\n",
    "    }\n",
    ")"
   ]
  },
  {
   "cell_type": "markdown",
   "id": "53b9a883",
   "metadata": {},
   "source": [
    "Присоединим к `user_behavior` датафрейм `tariffs`."
   ]
  },
  {
   "cell_type": "code",
   "execution_count": 191,
   "id": "08be69fd",
   "metadata": {},
   "outputs": [],
   "source": [
    "# присоединение tariffs:\n",
    "\n",
    "user_behavior = user_behavior.merge(tariffs, on='tariff')"
   ]
  },
  {
   "cell_type": "code",
   "execution_count": 192,
   "id": "3517eb39",
   "metadata": {},
   "outputs": [
    {
     "data": {
      "text/html": [
       "<div>\n",
       "<style scoped>\n",
       "    .dataframe tbody tr th:only-of-type {\n",
       "        vertical-align: middle;\n",
       "    }\n",
       "\n",
       "    .dataframe tbody tr th {\n",
       "        vertical-align: top;\n",
       "    }\n",
       "\n",
       "    .dataframe thead th {\n",
       "        text-align: right;\n",
       "    }\n",
       "</style>\n",
       "<table border=\"1\" class=\"dataframe\">\n",
       "  <thead>\n",
       "    <tr style=\"text-align: right;\">\n",
       "      <th></th>\n",
       "      <th>user_id</th>\n",
       "      <th>month</th>\n",
       "      <th>calls</th>\n",
       "      <th>messages</th>\n",
       "      <th>mb_used</th>\n",
       "      <th>minutes</th>\n",
       "      <th>age</th>\n",
       "      <th>churn_date</th>\n",
       "      <th>city</th>\n",
       "      <th>first_name</th>\n",
       "      <th>last_name</th>\n",
       "      <th>reg_date</th>\n",
       "      <th>tariff</th>\n",
       "      <th>messages_included</th>\n",
       "      <th>mb_per_month_included</th>\n",
       "      <th>minutes_included</th>\n",
       "      <th>rub_monthly_fee</th>\n",
       "      <th>rub_per_gb</th>\n",
       "      <th>rub_per_message</th>\n",
       "      <th>rub_per_minute</th>\n",
       "    </tr>\n",
       "  </thead>\n",
       "  <tbody>\n",
       "    <tr>\n",
       "      <th>0</th>\n",
       "      <td>1000</td>\n",
       "      <td>5</td>\n",
       "      <td>22.0</td>\n",
       "      <td>22.0</td>\n",
       "      <td>2253.49</td>\n",
       "      <td>159.0</td>\n",
       "      <td>52</td>\n",
       "      <td>0</td>\n",
       "      <td>Краснодар</td>\n",
       "      <td>Рафаил</td>\n",
       "      <td>Верещагин</td>\n",
       "      <td>2018-05-25</td>\n",
       "      <td>ultra</td>\n",
       "      <td>1000</td>\n",
       "      <td>30720</td>\n",
       "      <td>3000</td>\n",
       "      <td>1950</td>\n",
       "      <td>150</td>\n",
       "      <td>1</td>\n",
       "      <td>1</td>\n",
       "    </tr>\n",
       "    <tr>\n",
       "      <th>1</th>\n",
       "      <td>1000</td>\n",
       "      <td>6</td>\n",
       "      <td>43.0</td>\n",
       "      <td>60.0</td>\n",
       "      <td>23233.77</td>\n",
       "      <td>172.0</td>\n",
       "      <td>52</td>\n",
       "      <td>0</td>\n",
       "      <td>Краснодар</td>\n",
       "      <td>Рафаил</td>\n",
       "      <td>Верещагин</td>\n",
       "      <td>2018-05-25</td>\n",
       "      <td>ultra</td>\n",
       "      <td>1000</td>\n",
       "      <td>30720</td>\n",
       "      <td>3000</td>\n",
       "      <td>1950</td>\n",
       "      <td>150</td>\n",
       "      <td>1</td>\n",
       "      <td>1</td>\n",
       "    </tr>\n",
       "    <tr>\n",
       "      <th>2</th>\n",
       "      <td>1000</td>\n",
       "      <td>7</td>\n",
       "      <td>47.0</td>\n",
       "      <td>75.0</td>\n",
       "      <td>14003.64</td>\n",
       "      <td>340.0</td>\n",
       "      <td>52</td>\n",
       "      <td>0</td>\n",
       "      <td>Краснодар</td>\n",
       "      <td>Рафаил</td>\n",
       "      <td>Верещагин</td>\n",
       "      <td>2018-05-25</td>\n",
       "      <td>ultra</td>\n",
       "      <td>1000</td>\n",
       "      <td>30720</td>\n",
       "      <td>3000</td>\n",
       "      <td>1950</td>\n",
       "      <td>150</td>\n",
       "      <td>1</td>\n",
       "      <td>1</td>\n",
       "    </tr>\n",
       "    <tr>\n",
       "      <th>3</th>\n",
       "      <td>1000</td>\n",
       "      <td>8</td>\n",
       "      <td>52.0</td>\n",
       "      <td>81.0</td>\n",
       "      <td>14055.93</td>\n",
       "      <td>408.0</td>\n",
       "      <td>52</td>\n",
       "      <td>0</td>\n",
       "      <td>Краснодар</td>\n",
       "      <td>Рафаил</td>\n",
       "      <td>Верещагин</td>\n",
       "      <td>2018-05-25</td>\n",
       "      <td>ultra</td>\n",
       "      <td>1000</td>\n",
       "      <td>30720</td>\n",
       "      <td>3000</td>\n",
       "      <td>1950</td>\n",
       "      <td>150</td>\n",
       "      <td>1</td>\n",
       "      <td>1</td>\n",
       "    </tr>\n",
       "    <tr>\n",
       "      <th>4</th>\n",
       "      <td>1000</td>\n",
       "      <td>9</td>\n",
       "      <td>58.0</td>\n",
       "      <td>57.0</td>\n",
       "      <td>14568.91</td>\n",
       "      <td>466.0</td>\n",
       "      <td>52</td>\n",
       "      <td>0</td>\n",
       "      <td>Краснодар</td>\n",
       "      <td>Рафаил</td>\n",
       "      <td>Верещагин</td>\n",
       "      <td>2018-05-25</td>\n",
       "      <td>ultra</td>\n",
       "      <td>1000</td>\n",
       "      <td>30720</td>\n",
       "      <td>3000</td>\n",
       "      <td>1950</td>\n",
       "      <td>150</td>\n",
       "      <td>1</td>\n",
       "      <td>1</td>\n",
       "    </tr>\n",
       "  </tbody>\n",
       "</table>\n",
       "</div>"
      ],
      "text/plain": [
       "   user_id  month  calls  messages   mb_used  minutes  age churn_date  \\\n",
       "0     1000      5   22.0      22.0   2253.49    159.0   52          0   \n",
       "1     1000      6   43.0      60.0  23233.77    172.0   52          0   \n",
       "2     1000      7   47.0      75.0  14003.64    340.0   52          0   \n",
       "3     1000      8   52.0      81.0  14055.93    408.0   52          0   \n",
       "4     1000      9   58.0      57.0  14568.91    466.0   52          0   \n",
       "\n",
       "        city first_name  last_name   reg_date tariff  messages_included  \\\n",
       "0  Краснодар     Рафаил  Верещагин 2018-05-25  ultra               1000   \n",
       "1  Краснодар     Рафаил  Верещагин 2018-05-25  ultra               1000   \n",
       "2  Краснодар     Рафаил  Верещагин 2018-05-25  ultra               1000   \n",
       "3  Краснодар     Рафаил  Верещагин 2018-05-25  ultra               1000   \n",
       "4  Краснодар     Рафаил  Верещагин 2018-05-25  ultra               1000   \n",
       "\n",
       "   mb_per_month_included  minutes_included  rub_monthly_fee  rub_per_gb  \\\n",
       "0                  30720              3000             1950         150   \n",
       "1                  30720              3000             1950         150   \n",
       "2                  30720              3000             1950         150   \n",
       "3                  30720              3000             1950         150   \n",
       "4                  30720              3000             1950         150   \n",
       "\n",
       "   rub_per_message  rub_per_minute  \n",
       "0                1               1  \n",
       "1                1               1  \n",
       "2                1               1  \n",
       "3                1               1  \n",
       "4                1               1  "
      ]
     },
     "execution_count": 192,
     "metadata": {},
     "output_type": "execute_result"
    }
   ],
   "source": [
    "# вывод первых строк user_behavior:\n",
    "\n",
    "user_behavior.head()"
   ]
  },
  {
   "cell_type": "markdown",
   "id": "ddde2d7b",
   "metadata": {},
   "source": [
    "Подсчитаем количество минут разговора, сообщений и мегабайт, превышающих включенные в тариф. Добавим новые признаки `paid_minutes`, `paid_messages` и `paid_mb`."
   ]
  },
  {
   "cell_type": "code",
   "execution_count": 193,
   "id": "85a20270",
   "metadata": {},
   "outputs": [],
   "source": [
    "# количество минут разговора, сообщений и мегабайт, превышающих включенные в тариф:\n",
    "\n",
    "user_behavior['paid_minutes'] = user_behavior['minutes'] - user_behavior['minutes_included']\n",
    "user_behavior['paid_messages'] = user_behavior['messages'] - user_behavior['messages_included']\n",
    "user_behavior['paid_mb'] = user_behavior['mb_used'] - user_behavior['mb_per_month_included']"
   ]
  },
  {
   "cell_type": "code",
   "execution_count": 194,
   "id": "85869af1",
   "metadata": {},
   "outputs": [
    {
     "data": {
      "text/html": [
       "<div>\n",
       "<style scoped>\n",
       "    .dataframe tbody tr th:only-of-type {\n",
       "        vertical-align: middle;\n",
       "    }\n",
       "\n",
       "    .dataframe tbody tr th {\n",
       "        vertical-align: top;\n",
       "    }\n",
       "\n",
       "    .dataframe thead th {\n",
       "        text-align: right;\n",
       "    }\n",
       "</style>\n",
       "<table border=\"1\" class=\"dataframe\">\n",
       "  <thead>\n",
       "    <tr style=\"text-align: right;\">\n",
       "      <th></th>\n",
       "      <th>user_id</th>\n",
       "      <th>month</th>\n",
       "      <th>calls</th>\n",
       "      <th>messages</th>\n",
       "      <th>mb_used</th>\n",
       "      <th>minutes</th>\n",
       "      <th>age</th>\n",
       "      <th>churn_date</th>\n",
       "      <th>city</th>\n",
       "      <th>first_name</th>\n",
       "      <th>last_name</th>\n",
       "      <th>reg_date</th>\n",
       "      <th>tariff</th>\n",
       "      <th>messages_included</th>\n",
       "      <th>mb_per_month_included</th>\n",
       "      <th>minutes_included</th>\n",
       "      <th>rub_monthly_fee</th>\n",
       "      <th>rub_per_gb</th>\n",
       "      <th>rub_per_message</th>\n",
       "      <th>rub_per_minute</th>\n",
       "      <th>paid_minutes</th>\n",
       "      <th>paid_messages</th>\n",
       "      <th>paid_mb</th>\n",
       "    </tr>\n",
       "  </thead>\n",
       "  <tbody>\n",
       "    <tr>\n",
       "      <th>0</th>\n",
       "      <td>1000</td>\n",
       "      <td>5</td>\n",
       "      <td>22.0</td>\n",
       "      <td>22.0</td>\n",
       "      <td>2253.49</td>\n",
       "      <td>159.0</td>\n",
       "      <td>52</td>\n",
       "      <td>0</td>\n",
       "      <td>Краснодар</td>\n",
       "      <td>Рафаил</td>\n",
       "      <td>Верещагин</td>\n",
       "      <td>2018-05-25</td>\n",
       "      <td>ultra</td>\n",
       "      <td>1000</td>\n",
       "      <td>30720</td>\n",
       "      <td>3000</td>\n",
       "      <td>1950</td>\n",
       "      <td>150</td>\n",
       "      <td>1</td>\n",
       "      <td>1</td>\n",
       "      <td>-2841.0</td>\n",
       "      <td>-978.0</td>\n",
       "      <td>-28466.51</td>\n",
       "    </tr>\n",
       "    <tr>\n",
       "      <th>1</th>\n",
       "      <td>1000</td>\n",
       "      <td>6</td>\n",
       "      <td>43.0</td>\n",
       "      <td>60.0</td>\n",
       "      <td>23233.77</td>\n",
       "      <td>172.0</td>\n",
       "      <td>52</td>\n",
       "      <td>0</td>\n",
       "      <td>Краснодар</td>\n",
       "      <td>Рафаил</td>\n",
       "      <td>Верещагин</td>\n",
       "      <td>2018-05-25</td>\n",
       "      <td>ultra</td>\n",
       "      <td>1000</td>\n",
       "      <td>30720</td>\n",
       "      <td>3000</td>\n",
       "      <td>1950</td>\n",
       "      <td>150</td>\n",
       "      <td>1</td>\n",
       "      <td>1</td>\n",
       "      <td>-2828.0</td>\n",
       "      <td>-940.0</td>\n",
       "      <td>-7486.23</td>\n",
       "    </tr>\n",
       "    <tr>\n",
       "      <th>2</th>\n",
       "      <td>1000</td>\n",
       "      <td>7</td>\n",
       "      <td>47.0</td>\n",
       "      <td>75.0</td>\n",
       "      <td>14003.64</td>\n",
       "      <td>340.0</td>\n",
       "      <td>52</td>\n",
       "      <td>0</td>\n",
       "      <td>Краснодар</td>\n",
       "      <td>Рафаил</td>\n",
       "      <td>Верещагин</td>\n",
       "      <td>2018-05-25</td>\n",
       "      <td>ultra</td>\n",
       "      <td>1000</td>\n",
       "      <td>30720</td>\n",
       "      <td>3000</td>\n",
       "      <td>1950</td>\n",
       "      <td>150</td>\n",
       "      <td>1</td>\n",
       "      <td>1</td>\n",
       "      <td>-2660.0</td>\n",
       "      <td>-925.0</td>\n",
       "      <td>-16716.36</td>\n",
       "    </tr>\n",
       "    <tr>\n",
       "      <th>3</th>\n",
       "      <td>1000</td>\n",
       "      <td>8</td>\n",
       "      <td>52.0</td>\n",
       "      <td>81.0</td>\n",
       "      <td>14055.93</td>\n",
       "      <td>408.0</td>\n",
       "      <td>52</td>\n",
       "      <td>0</td>\n",
       "      <td>Краснодар</td>\n",
       "      <td>Рафаил</td>\n",
       "      <td>Верещагин</td>\n",
       "      <td>2018-05-25</td>\n",
       "      <td>ultra</td>\n",
       "      <td>1000</td>\n",
       "      <td>30720</td>\n",
       "      <td>3000</td>\n",
       "      <td>1950</td>\n",
       "      <td>150</td>\n",
       "      <td>1</td>\n",
       "      <td>1</td>\n",
       "      <td>-2592.0</td>\n",
       "      <td>-919.0</td>\n",
       "      <td>-16664.07</td>\n",
       "    </tr>\n",
       "    <tr>\n",
       "      <th>4</th>\n",
       "      <td>1000</td>\n",
       "      <td>9</td>\n",
       "      <td>58.0</td>\n",
       "      <td>57.0</td>\n",
       "      <td>14568.91</td>\n",
       "      <td>466.0</td>\n",
       "      <td>52</td>\n",
       "      <td>0</td>\n",
       "      <td>Краснодар</td>\n",
       "      <td>Рафаил</td>\n",
       "      <td>Верещагин</td>\n",
       "      <td>2018-05-25</td>\n",
       "      <td>ultra</td>\n",
       "      <td>1000</td>\n",
       "      <td>30720</td>\n",
       "      <td>3000</td>\n",
       "      <td>1950</td>\n",
       "      <td>150</td>\n",
       "      <td>1</td>\n",
       "      <td>1</td>\n",
       "      <td>-2534.0</td>\n",
       "      <td>-943.0</td>\n",
       "      <td>-16151.09</td>\n",
       "    </tr>\n",
       "  </tbody>\n",
       "</table>\n",
       "</div>"
      ],
      "text/plain": [
       "   user_id  month  calls  messages   mb_used  minutes  age churn_date  \\\n",
       "0     1000      5   22.0      22.0   2253.49    159.0   52          0   \n",
       "1     1000      6   43.0      60.0  23233.77    172.0   52          0   \n",
       "2     1000      7   47.0      75.0  14003.64    340.0   52          0   \n",
       "3     1000      8   52.0      81.0  14055.93    408.0   52          0   \n",
       "4     1000      9   58.0      57.0  14568.91    466.0   52          0   \n",
       "\n",
       "        city first_name  last_name   reg_date tariff  messages_included  \\\n",
       "0  Краснодар     Рафаил  Верещагин 2018-05-25  ultra               1000   \n",
       "1  Краснодар     Рафаил  Верещагин 2018-05-25  ultra               1000   \n",
       "2  Краснодар     Рафаил  Верещагин 2018-05-25  ultra               1000   \n",
       "3  Краснодар     Рафаил  Верещагин 2018-05-25  ultra               1000   \n",
       "4  Краснодар     Рафаил  Верещагин 2018-05-25  ultra               1000   \n",
       "\n",
       "   mb_per_month_included  minutes_included  rub_monthly_fee  rub_per_gb  \\\n",
       "0                  30720              3000             1950         150   \n",
       "1                  30720              3000             1950         150   \n",
       "2                  30720              3000             1950         150   \n",
       "3                  30720              3000             1950         150   \n",
       "4                  30720              3000             1950         150   \n",
       "\n",
       "   rub_per_message  rub_per_minute  paid_minutes  paid_messages   paid_mb  \n",
       "0                1               1       -2841.0         -978.0 -28466.51  \n",
       "1                1               1       -2828.0         -940.0  -7486.23  \n",
       "2                1               1       -2660.0         -925.0 -16716.36  \n",
       "3                1               1       -2592.0         -919.0 -16664.07  \n",
       "4                1               1       -2534.0         -943.0 -16151.09  "
      ]
     },
     "execution_count": 194,
     "metadata": {},
     "output_type": "execute_result"
    }
   ],
   "source": [
    "# вывод первых строк:\n",
    "\n",
    "user_behavior.head()"
   ]
  },
  {
   "cell_type": "markdown",
   "id": "4977d14e",
   "metadata": {},
   "source": [
    "В том случае, если лимит звонков, сообщений и интернет-трафик не превышен, мы получили отрицательные значения. Поскольку нас интересует информация о потраченных услугах сверх тарифного плана, то заменим все отрицательные значения нулём. "
   ]
  },
  {
   "cell_type": "code",
   "execution_count": 195,
   "id": "4353423a",
   "metadata": {},
   "outputs": [],
   "source": [
    "# замена отрицательных значений \n",
    "# в paid_messages, paid_minutes и paid_mb нулём:\n",
    "\n",
    "for col in ['paid_messages', 'paid_minutes', 'paid_mb']:\n",
    "    user_behavior.loc[user_behavior[col] < 0, col] = 0"
   ]
  },
  {
   "cell_type": "code",
   "execution_count": 196,
   "id": "cf72fb61",
   "metadata": {},
   "outputs": [
    {
     "data": {
      "text/html": [
       "<div>\n",
       "<style scoped>\n",
       "    .dataframe tbody tr th:only-of-type {\n",
       "        vertical-align: middle;\n",
       "    }\n",
       "\n",
       "    .dataframe tbody tr th {\n",
       "        vertical-align: top;\n",
       "    }\n",
       "\n",
       "    .dataframe thead th {\n",
       "        text-align: right;\n",
       "    }\n",
       "</style>\n",
       "<table border=\"1\" class=\"dataframe\">\n",
       "  <thead>\n",
       "    <tr style=\"text-align: right;\">\n",
       "      <th></th>\n",
       "      <th>user_id</th>\n",
       "      <th>month</th>\n",
       "      <th>calls</th>\n",
       "      <th>messages</th>\n",
       "      <th>mb_used</th>\n",
       "      <th>minutes</th>\n",
       "      <th>age</th>\n",
       "      <th>churn_date</th>\n",
       "      <th>city</th>\n",
       "      <th>first_name</th>\n",
       "      <th>last_name</th>\n",
       "      <th>reg_date</th>\n",
       "      <th>tariff</th>\n",
       "      <th>messages_included</th>\n",
       "      <th>mb_per_month_included</th>\n",
       "      <th>minutes_included</th>\n",
       "      <th>rub_monthly_fee</th>\n",
       "      <th>rub_per_gb</th>\n",
       "      <th>rub_per_message</th>\n",
       "      <th>rub_per_minute</th>\n",
       "      <th>paid_minutes</th>\n",
       "      <th>paid_messages</th>\n",
       "      <th>paid_mb</th>\n",
       "    </tr>\n",
       "  </thead>\n",
       "  <tbody>\n",
       "    <tr>\n",
       "      <th>0</th>\n",
       "      <td>1000</td>\n",
       "      <td>5</td>\n",
       "      <td>22.0</td>\n",
       "      <td>22.0</td>\n",
       "      <td>2253.49</td>\n",
       "      <td>159.0</td>\n",
       "      <td>52</td>\n",
       "      <td>0</td>\n",
       "      <td>Краснодар</td>\n",
       "      <td>Рафаил</td>\n",
       "      <td>Верещагин</td>\n",
       "      <td>2018-05-25</td>\n",
       "      <td>ultra</td>\n",
       "      <td>1000</td>\n",
       "      <td>30720</td>\n",
       "      <td>3000</td>\n",
       "      <td>1950</td>\n",
       "      <td>150</td>\n",
       "      <td>1</td>\n",
       "      <td>1</td>\n",
       "      <td>0.0</td>\n",
       "      <td>0.0</td>\n",
       "      <td>0.0</td>\n",
       "    </tr>\n",
       "    <tr>\n",
       "      <th>1</th>\n",
       "      <td>1000</td>\n",
       "      <td>6</td>\n",
       "      <td>43.0</td>\n",
       "      <td>60.0</td>\n",
       "      <td>23233.77</td>\n",
       "      <td>172.0</td>\n",
       "      <td>52</td>\n",
       "      <td>0</td>\n",
       "      <td>Краснодар</td>\n",
       "      <td>Рафаил</td>\n",
       "      <td>Верещагин</td>\n",
       "      <td>2018-05-25</td>\n",
       "      <td>ultra</td>\n",
       "      <td>1000</td>\n",
       "      <td>30720</td>\n",
       "      <td>3000</td>\n",
       "      <td>1950</td>\n",
       "      <td>150</td>\n",
       "      <td>1</td>\n",
       "      <td>1</td>\n",
       "      <td>0.0</td>\n",
       "      <td>0.0</td>\n",
       "      <td>0.0</td>\n",
       "    </tr>\n",
       "    <tr>\n",
       "      <th>2</th>\n",
       "      <td>1000</td>\n",
       "      <td>7</td>\n",
       "      <td>47.0</td>\n",
       "      <td>75.0</td>\n",
       "      <td>14003.64</td>\n",
       "      <td>340.0</td>\n",
       "      <td>52</td>\n",
       "      <td>0</td>\n",
       "      <td>Краснодар</td>\n",
       "      <td>Рафаил</td>\n",
       "      <td>Верещагин</td>\n",
       "      <td>2018-05-25</td>\n",
       "      <td>ultra</td>\n",
       "      <td>1000</td>\n",
       "      <td>30720</td>\n",
       "      <td>3000</td>\n",
       "      <td>1950</td>\n",
       "      <td>150</td>\n",
       "      <td>1</td>\n",
       "      <td>1</td>\n",
       "      <td>0.0</td>\n",
       "      <td>0.0</td>\n",
       "      <td>0.0</td>\n",
       "    </tr>\n",
       "    <tr>\n",
       "      <th>3</th>\n",
       "      <td>1000</td>\n",
       "      <td>8</td>\n",
       "      <td>52.0</td>\n",
       "      <td>81.0</td>\n",
       "      <td>14055.93</td>\n",
       "      <td>408.0</td>\n",
       "      <td>52</td>\n",
       "      <td>0</td>\n",
       "      <td>Краснодар</td>\n",
       "      <td>Рафаил</td>\n",
       "      <td>Верещагин</td>\n",
       "      <td>2018-05-25</td>\n",
       "      <td>ultra</td>\n",
       "      <td>1000</td>\n",
       "      <td>30720</td>\n",
       "      <td>3000</td>\n",
       "      <td>1950</td>\n",
       "      <td>150</td>\n",
       "      <td>1</td>\n",
       "      <td>1</td>\n",
       "      <td>0.0</td>\n",
       "      <td>0.0</td>\n",
       "      <td>0.0</td>\n",
       "    </tr>\n",
       "    <tr>\n",
       "      <th>4</th>\n",
       "      <td>1000</td>\n",
       "      <td>9</td>\n",
       "      <td>58.0</td>\n",
       "      <td>57.0</td>\n",
       "      <td>14568.91</td>\n",
       "      <td>466.0</td>\n",
       "      <td>52</td>\n",
       "      <td>0</td>\n",
       "      <td>Краснодар</td>\n",
       "      <td>Рафаил</td>\n",
       "      <td>Верещагин</td>\n",
       "      <td>2018-05-25</td>\n",
       "      <td>ultra</td>\n",
       "      <td>1000</td>\n",
       "      <td>30720</td>\n",
       "      <td>3000</td>\n",
       "      <td>1950</td>\n",
       "      <td>150</td>\n",
       "      <td>1</td>\n",
       "      <td>1</td>\n",
       "      <td>0.0</td>\n",
       "      <td>0.0</td>\n",
       "      <td>0.0</td>\n",
       "    </tr>\n",
       "  </tbody>\n",
       "</table>\n",
       "</div>"
      ],
      "text/plain": [
       "   user_id  month  calls  messages   mb_used  minutes  age churn_date  \\\n",
       "0     1000      5   22.0      22.0   2253.49    159.0   52          0   \n",
       "1     1000      6   43.0      60.0  23233.77    172.0   52          0   \n",
       "2     1000      7   47.0      75.0  14003.64    340.0   52          0   \n",
       "3     1000      8   52.0      81.0  14055.93    408.0   52          0   \n",
       "4     1000      9   58.0      57.0  14568.91    466.0   52          0   \n",
       "\n",
       "        city first_name  last_name   reg_date tariff  messages_included  \\\n",
       "0  Краснодар     Рафаил  Верещагин 2018-05-25  ultra               1000   \n",
       "1  Краснодар     Рафаил  Верещагин 2018-05-25  ultra               1000   \n",
       "2  Краснодар     Рафаил  Верещагин 2018-05-25  ultra               1000   \n",
       "3  Краснодар     Рафаил  Верещагин 2018-05-25  ultra               1000   \n",
       "4  Краснодар     Рафаил  Верещагин 2018-05-25  ultra               1000   \n",
       "\n",
       "   mb_per_month_included  minutes_included  rub_monthly_fee  rub_per_gb  \\\n",
       "0                  30720              3000             1950         150   \n",
       "1                  30720              3000             1950         150   \n",
       "2                  30720              3000             1950         150   \n",
       "3                  30720              3000             1950         150   \n",
       "4                  30720              3000             1950         150   \n",
       "\n",
       "   rub_per_message  rub_per_minute  paid_minutes  paid_messages  paid_mb  \n",
       "0                1               1           0.0            0.0      0.0  \n",
       "1                1               1           0.0            0.0      0.0  \n",
       "2                1               1           0.0            0.0      0.0  \n",
       "3                1               1           0.0            0.0      0.0  \n",
       "4                1               1           0.0            0.0      0.0  "
      ]
     },
     "execution_count": 196,
     "metadata": {},
     "output_type": "execute_result"
    }
   ],
   "source": [
    "# проверка:\n",
    "\n",
    "user_behavior.head()"
   ]
  },
  {
   "cell_type": "markdown",
   "id": "566a01a1",
   "metadata": {},
   "source": [
    "Получилось.\n",
    "\n",
    "Выведем несколько строк, в которых абоненты превысили свои лимиты."
   ]
  },
  {
   "cell_type": "code",
   "execution_count": 197,
   "id": "1e3f102f",
   "metadata": {},
   "outputs": [
    {
     "data": {
      "text/html": [
       "<div>\n",
       "<style scoped>\n",
       "    .dataframe tbody tr th:only-of-type {\n",
       "        vertical-align: middle;\n",
       "    }\n",
       "\n",
       "    .dataframe tbody tr th {\n",
       "        vertical-align: top;\n",
       "    }\n",
       "\n",
       "    .dataframe thead th {\n",
       "        text-align: right;\n",
       "    }\n",
       "</style>\n",
       "<table border=\"1\" class=\"dataframe\">\n",
       "  <thead>\n",
       "    <tr style=\"text-align: right;\">\n",
       "      <th></th>\n",
       "      <th>user_id</th>\n",
       "      <th>month</th>\n",
       "      <th>calls</th>\n",
       "      <th>messages</th>\n",
       "      <th>mb_used</th>\n",
       "      <th>minutes</th>\n",
       "      <th>age</th>\n",
       "      <th>churn_date</th>\n",
       "      <th>city</th>\n",
       "      <th>first_name</th>\n",
       "      <th>last_name</th>\n",
       "      <th>reg_date</th>\n",
       "      <th>tariff</th>\n",
       "      <th>messages_included</th>\n",
       "      <th>mb_per_month_included</th>\n",
       "      <th>minutes_included</th>\n",
       "      <th>rub_monthly_fee</th>\n",
       "      <th>rub_per_gb</th>\n",
       "      <th>rub_per_message</th>\n",
       "      <th>rub_per_minute</th>\n",
       "      <th>paid_minutes</th>\n",
       "      <th>paid_messages</th>\n",
       "      <th>paid_mb</th>\n",
       "    </tr>\n",
       "  </thead>\n",
       "  <tbody>\n",
       "    <tr>\n",
       "      <th>1073</th>\n",
       "      <td>1015</td>\n",
       "      <td>7</td>\n",
       "      <td>79.0</td>\n",
       "      <td>90.0</td>\n",
       "      <td>19908.19</td>\n",
       "      <td>556.0</td>\n",
       "      <td>26</td>\n",
       "      <td>0</td>\n",
       "      <td>Челябинск</td>\n",
       "      <td>Рузана</td>\n",
       "      <td>Алюшина</td>\n",
       "      <td>2018-04-30</td>\n",
       "      <td>smart</td>\n",
       "      <td>50</td>\n",
       "      <td>15360</td>\n",
       "      <td>500</td>\n",
       "      <td>550</td>\n",
       "      <td>200</td>\n",
       "      <td>3</td>\n",
       "      <td>3</td>\n",
       "      <td>56.0</td>\n",
       "      <td>40.0</td>\n",
       "      <td>4548.19</td>\n",
       "    </tr>\n",
       "    <tr>\n",
       "      <th>1076</th>\n",
       "      <td>1015</td>\n",
       "      <td>10</td>\n",
       "      <td>67.0</td>\n",
       "      <td>68.0</td>\n",
       "      <td>16663.43</td>\n",
       "      <td>577.0</td>\n",
       "      <td>26</td>\n",
       "      <td>0</td>\n",
       "      <td>Челябинск</td>\n",
       "      <td>Рузана</td>\n",
       "      <td>Алюшина</td>\n",
       "      <td>2018-04-30</td>\n",
       "      <td>smart</td>\n",
       "      <td>50</td>\n",
       "      <td>15360</td>\n",
       "      <td>500</td>\n",
       "      <td>550</td>\n",
       "      <td>200</td>\n",
       "      <td>3</td>\n",
       "      <td>3</td>\n",
       "      <td>77.0</td>\n",
       "      <td>18.0</td>\n",
       "      <td>1303.43</td>\n",
       "    </tr>\n",
       "    <tr>\n",
       "      <th>1106</th>\n",
       "      <td>1026</td>\n",
       "      <td>12</td>\n",
       "      <td>68.0</td>\n",
       "      <td>57.0</td>\n",
       "      <td>16535.69</td>\n",
       "      <td>531.0</td>\n",
       "      <td>32</td>\n",
       "      <td>0</td>\n",
       "      <td>Мурманск</td>\n",
       "      <td>Евгений</td>\n",
       "      <td>Бородин</td>\n",
       "      <td>2018-10-06</td>\n",
       "      <td>smart</td>\n",
       "      <td>50</td>\n",
       "      <td>15360</td>\n",
       "      <td>500</td>\n",
       "      <td>550</td>\n",
       "      <td>200</td>\n",
       "      <td>3</td>\n",
       "      <td>3</td>\n",
       "      <td>31.0</td>\n",
       "      <td>7.0</td>\n",
       "      <td>1175.69</td>\n",
       "    </tr>\n",
       "    <tr>\n",
       "      <th>1117</th>\n",
       "      <td>1029</td>\n",
       "      <td>10</td>\n",
       "      <td>92.0</td>\n",
       "      <td>62.0</td>\n",
       "      <td>21557.92</td>\n",
       "      <td>609.0</td>\n",
       "      <td>51</td>\n",
       "      <td>0</td>\n",
       "      <td>Екатеринбург</td>\n",
       "      <td>Алексей</td>\n",
       "      <td>Селезнев</td>\n",
       "      <td>2018-09-15</td>\n",
       "      <td>smart</td>\n",
       "      <td>50</td>\n",
       "      <td>15360</td>\n",
       "      <td>500</td>\n",
       "      <td>550</td>\n",
       "      <td>200</td>\n",
       "      <td>3</td>\n",
       "      <td>3</td>\n",
       "      <td>109.0</td>\n",
       "      <td>12.0</td>\n",
       "      <td>6197.92</td>\n",
       "    </tr>\n",
       "    <tr>\n",
       "      <th>1183</th>\n",
       "      <td>1042</td>\n",
       "      <td>12</td>\n",
       "      <td>121.0</td>\n",
       "      <td>75.0</td>\n",
       "      <td>37165.69</td>\n",
       "      <td>728.0</td>\n",
       "      <td>42</td>\n",
       "      <td>0</td>\n",
       "      <td>Хабаровск</td>\n",
       "      <td>Константин</td>\n",
       "      <td>Добрынин</td>\n",
       "      <td>2018-11-25</td>\n",
       "      <td>smart</td>\n",
       "      <td>50</td>\n",
       "      <td>15360</td>\n",
       "      <td>500</td>\n",
       "      <td>550</td>\n",
       "      <td>200</td>\n",
       "      <td>3</td>\n",
       "      <td>3</td>\n",
       "      <td>228.0</td>\n",
       "      <td>25.0</td>\n",
       "      <td>21805.69</td>\n",
       "    </tr>\n",
       "  </tbody>\n",
       "</table>\n",
       "</div>"
      ],
      "text/plain": [
       "      user_id  month  calls  messages   mb_used  minutes  age churn_date  \\\n",
       "1073     1015      7   79.0      90.0  19908.19    556.0   26          0   \n",
       "1076     1015     10   67.0      68.0  16663.43    577.0   26          0   \n",
       "1106     1026     12   68.0      57.0  16535.69    531.0   32          0   \n",
       "1117     1029     10   92.0      62.0  21557.92    609.0   51          0   \n",
       "1183     1042     12  121.0      75.0  37165.69    728.0   42          0   \n",
       "\n",
       "              city  first_name last_name   reg_date tariff  messages_included  \\\n",
       "1073     Челябинск      Рузана   Алюшина 2018-04-30  smart                 50   \n",
       "1076     Челябинск      Рузана   Алюшина 2018-04-30  smart                 50   \n",
       "1106      Мурманск     Евгений   Бородин 2018-10-06  smart                 50   \n",
       "1117  Екатеринбург     Алексей  Селезнев 2018-09-15  smart                 50   \n",
       "1183     Хабаровск  Константин  Добрынин 2018-11-25  smart                 50   \n",
       "\n",
       "      mb_per_month_included  minutes_included  rub_monthly_fee  rub_per_gb  \\\n",
       "1073                  15360               500              550         200   \n",
       "1076                  15360               500              550         200   \n",
       "1106                  15360               500              550         200   \n",
       "1117                  15360               500              550         200   \n",
       "1183                  15360               500              550         200   \n",
       "\n",
       "      rub_per_message  rub_per_minute  paid_minutes  paid_messages   paid_mb  \n",
       "1073                3               3          56.0           40.0   4548.19  \n",
       "1076                3               3          77.0           18.0   1303.43  \n",
       "1106                3               3          31.0            7.0   1175.69  \n",
       "1117                3               3         109.0           12.0   6197.92  \n",
       "1183                3               3         228.0           25.0  21805.69  "
      ]
     },
     "execution_count": 197,
     "metadata": {},
     "output_type": "execute_result"
    }
   ],
   "source": [
    "user_behavior.query('paid_minutes !=0 & paid_messages != 0 & paid_mb != 0').head()"
   ]
  },
  {
   "cell_type": "markdown",
   "id": "eaec2c67",
   "metadata": {},
   "source": [
    "Стоимость дополнительного интернет-трафика `rub_per_gb` указана за гигабайт. Переведём значения `paid_mb`из Мб в Гб. Округлим в большую сторону."
   ]
  },
  {
   "cell_type": "code",
   "execution_count": 198,
   "id": "fe15184f",
   "metadata": {},
   "outputs": [],
   "source": [
    "# добавление нового признака paid_gb - \n",
    "# объем потраченного интернет-трафика сверх лимита\n",
    "\n",
    "user_behavior['paid_gb'] = np.ceil(user_behavior['paid_mb'] / 1024).astype(int)"
   ]
  },
  {
   "cell_type": "markdown",
   "id": "f7091f24",
   "metadata": {},
   "source": [
    "Подсчитаем выручку за минуты разговора, сообщения и интернет. Создадим дополнительные признаки."
   ]
  },
  {
   "cell_type": "code",
   "execution_count": 199,
   "id": "131a955c",
   "metadata": {},
   "outputs": [],
   "source": [
    "# выручка за минуты разговора, сообщения и интернет\n",
    "# сверх лимита:\n",
    "\n",
    "user_behavior['cost_minutes'] = user_behavior['paid_minutes'] * user_behavior['rub_per_minute']\n",
    "user_behavior['cost_messages'] = user_behavior['paid_messages'] * user_behavior['rub_per_message']\n",
    "user_behavior['cost_gb'] = user_behavior['paid_gb'] * user_behavior['rub_per_gb']"
   ]
  },
  {
   "cell_type": "markdown",
   "id": "bb46e425",
   "metadata": {},
   "source": [
    "Подсчитаем помесячную выручку с каждого пользователя. Подсчитаем сумму всех затрат:\n",
    "\n",
    "   - абонентская плата;\n",
    "   - стоимость дополнительных минут сверх тарифного плана;\n",
    "   - стоимость дополнительных сообщений;\n",
    "   - стоимость дополнительного интернет-трафика.\n",
    "   \n",
    "Сохраним значения в новом столбце `total_cost`."
   ]
  },
  {
   "cell_type": "code",
   "execution_count": 200,
   "id": "7758ceeb",
   "metadata": {},
   "outputs": [],
   "source": [
    "# месячная выручка с каждого пользователя,\n",
    "# включая тарифный план:\n",
    "\n",
    "user_behavior['total_cost'] = \\\n",
    "      user_behavior['rub_monthly_fee']\\\n",
    "    + user_behavior['cost_minutes']\\\n",
    "    + user_behavior['cost_messages']\\\n",
    "    + user_behavior['cost_gb']"
   ]
  },
  {
   "cell_type": "code",
   "execution_count": 201,
   "id": "847e3d80",
   "metadata": {},
   "outputs": [
    {
     "data": {
      "text/html": [
       "<div>\n",
       "<style scoped>\n",
       "    .dataframe tbody tr th:only-of-type {\n",
       "        vertical-align: middle;\n",
       "    }\n",
       "\n",
       "    .dataframe tbody tr th {\n",
       "        vertical-align: top;\n",
       "    }\n",
       "\n",
       "    .dataframe thead th {\n",
       "        text-align: right;\n",
       "    }\n",
       "</style>\n",
       "<table border=\"1\" class=\"dataframe\">\n",
       "  <thead>\n",
       "    <tr style=\"text-align: right;\">\n",
       "      <th></th>\n",
       "      <th>user_id</th>\n",
       "      <th>month</th>\n",
       "      <th>calls</th>\n",
       "      <th>messages</th>\n",
       "      <th>mb_used</th>\n",
       "      <th>minutes</th>\n",
       "      <th>age</th>\n",
       "      <th>churn_date</th>\n",
       "      <th>city</th>\n",
       "      <th>first_name</th>\n",
       "      <th>last_name</th>\n",
       "      <th>reg_date</th>\n",
       "      <th>tariff</th>\n",
       "      <th>messages_included</th>\n",
       "      <th>mb_per_month_included</th>\n",
       "      <th>minutes_included</th>\n",
       "      <th>rub_monthly_fee</th>\n",
       "      <th>rub_per_gb</th>\n",
       "      <th>rub_per_message</th>\n",
       "      <th>rub_per_minute</th>\n",
       "      <th>paid_minutes</th>\n",
       "      <th>paid_messages</th>\n",
       "      <th>paid_mb</th>\n",
       "      <th>paid_gb</th>\n",
       "      <th>cost_minutes</th>\n",
       "      <th>cost_messages</th>\n",
       "      <th>cost_gb</th>\n",
       "      <th>total_cost</th>\n",
       "    </tr>\n",
       "  </thead>\n",
       "  <tbody>\n",
       "    <tr>\n",
       "      <th>1073</th>\n",
       "      <td>1015</td>\n",
       "      <td>7</td>\n",
       "      <td>79.0</td>\n",
       "      <td>90.0</td>\n",
       "      <td>19908.19</td>\n",
       "      <td>556.0</td>\n",
       "      <td>26</td>\n",
       "      <td>0</td>\n",
       "      <td>Челябинск</td>\n",
       "      <td>Рузана</td>\n",
       "      <td>Алюшина</td>\n",
       "      <td>2018-04-30</td>\n",
       "      <td>smart</td>\n",
       "      <td>50</td>\n",
       "      <td>15360</td>\n",
       "      <td>500</td>\n",
       "      <td>550</td>\n",
       "      <td>200</td>\n",
       "      <td>3</td>\n",
       "      <td>3</td>\n",
       "      <td>56.0</td>\n",
       "      <td>40.0</td>\n",
       "      <td>4548.19</td>\n",
       "      <td>5</td>\n",
       "      <td>168.0</td>\n",
       "      <td>120.0</td>\n",
       "      <td>1000</td>\n",
       "      <td>1838.0</td>\n",
       "    </tr>\n",
       "    <tr>\n",
       "      <th>1076</th>\n",
       "      <td>1015</td>\n",
       "      <td>10</td>\n",
       "      <td>67.0</td>\n",
       "      <td>68.0</td>\n",
       "      <td>16663.43</td>\n",
       "      <td>577.0</td>\n",
       "      <td>26</td>\n",
       "      <td>0</td>\n",
       "      <td>Челябинск</td>\n",
       "      <td>Рузана</td>\n",
       "      <td>Алюшина</td>\n",
       "      <td>2018-04-30</td>\n",
       "      <td>smart</td>\n",
       "      <td>50</td>\n",
       "      <td>15360</td>\n",
       "      <td>500</td>\n",
       "      <td>550</td>\n",
       "      <td>200</td>\n",
       "      <td>3</td>\n",
       "      <td>3</td>\n",
       "      <td>77.0</td>\n",
       "      <td>18.0</td>\n",
       "      <td>1303.43</td>\n",
       "      <td>2</td>\n",
       "      <td>231.0</td>\n",
       "      <td>54.0</td>\n",
       "      <td>400</td>\n",
       "      <td>1235.0</td>\n",
       "    </tr>\n",
       "    <tr>\n",
       "      <th>1106</th>\n",
       "      <td>1026</td>\n",
       "      <td>12</td>\n",
       "      <td>68.0</td>\n",
       "      <td>57.0</td>\n",
       "      <td>16535.69</td>\n",
       "      <td>531.0</td>\n",
       "      <td>32</td>\n",
       "      <td>0</td>\n",
       "      <td>Мурманск</td>\n",
       "      <td>Евгений</td>\n",
       "      <td>Бородин</td>\n",
       "      <td>2018-10-06</td>\n",
       "      <td>smart</td>\n",
       "      <td>50</td>\n",
       "      <td>15360</td>\n",
       "      <td>500</td>\n",
       "      <td>550</td>\n",
       "      <td>200</td>\n",
       "      <td>3</td>\n",
       "      <td>3</td>\n",
       "      <td>31.0</td>\n",
       "      <td>7.0</td>\n",
       "      <td>1175.69</td>\n",
       "      <td>2</td>\n",
       "      <td>93.0</td>\n",
       "      <td>21.0</td>\n",
       "      <td>400</td>\n",
       "      <td>1064.0</td>\n",
       "    </tr>\n",
       "    <tr>\n",
       "      <th>1117</th>\n",
       "      <td>1029</td>\n",
       "      <td>10</td>\n",
       "      <td>92.0</td>\n",
       "      <td>62.0</td>\n",
       "      <td>21557.92</td>\n",
       "      <td>609.0</td>\n",
       "      <td>51</td>\n",
       "      <td>0</td>\n",
       "      <td>Екатеринбург</td>\n",
       "      <td>Алексей</td>\n",
       "      <td>Селезнев</td>\n",
       "      <td>2018-09-15</td>\n",
       "      <td>smart</td>\n",
       "      <td>50</td>\n",
       "      <td>15360</td>\n",
       "      <td>500</td>\n",
       "      <td>550</td>\n",
       "      <td>200</td>\n",
       "      <td>3</td>\n",
       "      <td>3</td>\n",
       "      <td>109.0</td>\n",
       "      <td>12.0</td>\n",
       "      <td>6197.92</td>\n",
       "      <td>7</td>\n",
       "      <td>327.0</td>\n",
       "      <td>36.0</td>\n",
       "      <td>1400</td>\n",
       "      <td>2313.0</td>\n",
       "    </tr>\n",
       "    <tr>\n",
       "      <th>1183</th>\n",
       "      <td>1042</td>\n",
       "      <td>12</td>\n",
       "      <td>121.0</td>\n",
       "      <td>75.0</td>\n",
       "      <td>37165.69</td>\n",
       "      <td>728.0</td>\n",
       "      <td>42</td>\n",
       "      <td>0</td>\n",
       "      <td>Хабаровск</td>\n",
       "      <td>Константин</td>\n",
       "      <td>Добрынин</td>\n",
       "      <td>2018-11-25</td>\n",
       "      <td>smart</td>\n",
       "      <td>50</td>\n",
       "      <td>15360</td>\n",
       "      <td>500</td>\n",
       "      <td>550</td>\n",
       "      <td>200</td>\n",
       "      <td>3</td>\n",
       "      <td>3</td>\n",
       "      <td>228.0</td>\n",
       "      <td>25.0</td>\n",
       "      <td>21805.69</td>\n",
       "      <td>22</td>\n",
       "      <td>684.0</td>\n",
       "      <td>75.0</td>\n",
       "      <td>4400</td>\n",
       "      <td>5709.0</td>\n",
       "    </tr>\n",
       "  </tbody>\n",
       "</table>\n",
       "</div>"
      ],
      "text/plain": [
       "      user_id  month  calls  messages   mb_used  minutes  age churn_date  \\\n",
       "1073     1015      7   79.0      90.0  19908.19    556.0   26          0   \n",
       "1076     1015     10   67.0      68.0  16663.43    577.0   26          0   \n",
       "1106     1026     12   68.0      57.0  16535.69    531.0   32          0   \n",
       "1117     1029     10   92.0      62.0  21557.92    609.0   51          0   \n",
       "1183     1042     12  121.0      75.0  37165.69    728.0   42          0   \n",
       "\n",
       "              city  first_name last_name   reg_date tariff  messages_included  \\\n",
       "1073     Челябинск      Рузана   Алюшина 2018-04-30  smart                 50   \n",
       "1076     Челябинск      Рузана   Алюшина 2018-04-30  smart                 50   \n",
       "1106      Мурманск     Евгений   Бородин 2018-10-06  smart                 50   \n",
       "1117  Екатеринбург     Алексей  Селезнев 2018-09-15  smart                 50   \n",
       "1183     Хабаровск  Константин  Добрынин 2018-11-25  smart                 50   \n",
       "\n",
       "      mb_per_month_included  minutes_included  rub_monthly_fee  rub_per_gb  \\\n",
       "1073                  15360               500              550         200   \n",
       "1076                  15360               500              550         200   \n",
       "1106                  15360               500              550         200   \n",
       "1117                  15360               500              550         200   \n",
       "1183                  15360               500              550         200   \n",
       "\n",
       "      rub_per_message  rub_per_minute  paid_minutes  paid_messages   paid_mb  \\\n",
       "1073                3               3          56.0           40.0   4548.19   \n",
       "1076                3               3          77.0           18.0   1303.43   \n",
       "1106                3               3          31.0            7.0   1175.69   \n",
       "1117                3               3         109.0           12.0   6197.92   \n",
       "1183                3               3         228.0           25.0  21805.69   \n",
       "\n",
       "      paid_gb  cost_minutes  cost_messages  cost_gb  total_cost  \n",
       "1073        5         168.0          120.0     1000      1838.0  \n",
       "1076        2         231.0           54.0      400      1235.0  \n",
       "1106        2          93.0           21.0      400      1064.0  \n",
       "1117        7         327.0           36.0     1400      2313.0  \n",
       "1183       22         684.0           75.0     4400      5709.0  "
      ]
     },
     "execution_count": 201,
     "metadata": {},
     "output_type": "execute_result"
    }
   ],
   "source": [
    "# проверка:\n",
    "\n",
    "user_behavior.query('paid_minutes !=0 & paid_messages != 0 & paid_mb != 0').head()"
   ]
  },
  {
   "cell_type": "markdown",
   "id": "38f99f97",
   "metadata": {},
   "source": [
    "Далее создадим датафрейм `stats_df`, в котором сохраним для каждой пары \"месяц-тариф\" среднее значение, стандартное отклонение и медиану для следующих признаков:\n",
    "\n",
    "   - количество выполненных звонков;\n",
    "   - количество потраченных минут;\n",
    "   - количество отправленных SMS;\n",
    "   - количество потраченных мегабайт."
   ]
  },
  {
   "cell_type": "code",
   "execution_count": 207,
   "id": "283a2d97",
   "metadata": {},
   "outputs": [
    {
     "data": {
      "text/html": [
       "<div>\n",
       "<style scoped>\n",
       "    .dataframe tbody tr th:only-of-type {\n",
       "        vertical-align: middle;\n",
       "    }\n",
       "\n",
       "    .dataframe tbody tr th {\n",
       "        vertical-align: top;\n",
       "    }\n",
       "\n",
       "    .dataframe thead th {\n",
       "        text-align: right;\n",
       "    }\n",
       "</style>\n",
       "<table border=\"1\" class=\"dataframe\">\n",
       "  <thead>\n",
       "    <tr style=\"text-align: right;\">\n",
       "      <th></th>\n",
       "      <th>month</th>\n",
       "      <th>tariff</th>\n",
       "      <th>calls_mean</th>\n",
       "      <th>sessions_mean</th>\n",
       "      <th>messages_mean</th>\n",
       "      <th>minutes_mean</th>\n",
       "      <th>calls_std</th>\n",
       "      <th>sessions_std</th>\n",
       "      <th>messages_std</th>\n",
       "      <th>minutes_std</th>\n",
       "      <th>calls_median</th>\n",
       "      <th>sessions_median</th>\n",
       "      <th>messages_median</th>\n",
       "      <th>minutes_median</th>\n",
       "    </tr>\n",
       "  </thead>\n",
       "  <tbody>\n",
       "    <tr>\n",
       "      <th>0</th>\n",
       "      <td>1</td>\n",
       "      <td>smart</td>\n",
       "      <td>27.68</td>\n",
       "      <td>8513.72</td>\n",
       "      <td>18.24</td>\n",
       "      <td>203.85</td>\n",
       "      <td>20.81</td>\n",
       "      <td>6444.68</td>\n",
       "      <td>16.20</td>\n",
       "      <td>154.23</td>\n",
       "      <td>20.5</td>\n",
       "      <td>7096.18</td>\n",
       "      <td>15.0</td>\n",
       "      <td>162.5</td>\n",
       "    </tr>\n",
       "    <tr>\n",
       "      <th>1</th>\n",
       "      <td>1</td>\n",
       "      <td>ultra</td>\n",
       "      <td>59.44</td>\n",
       "      <td>13140.68</td>\n",
       "      <td>33.78</td>\n",
       "      <td>428.11</td>\n",
       "      <td>41.64</td>\n",
       "      <td>6865.35</td>\n",
       "      <td>30.67</td>\n",
       "      <td>269.76</td>\n",
       "      <td>51.0</td>\n",
       "      <td>14791.37</td>\n",
       "      <td>32.0</td>\n",
       "      <td>382.0</td>\n",
       "    </tr>\n",
       "    <tr>\n",
       "      <th>2</th>\n",
       "      <td>2</td>\n",
       "      <td>smart</td>\n",
       "      <td>40.19</td>\n",
       "      <td>11597.05</td>\n",
       "      <td>24.09</td>\n",
       "      <td>298.69</td>\n",
       "      <td>25.39</td>\n",
       "      <td>6247.35</td>\n",
       "      <td>21.75</td>\n",
       "      <td>190.82</td>\n",
       "      <td>38.5</td>\n",
       "      <td>12553.71</td>\n",
       "      <td>20.0</td>\n",
       "      <td>258.0</td>\n",
       "    </tr>\n",
       "    <tr>\n",
       "      <th>3</th>\n",
       "      <td>2</td>\n",
       "      <td>ultra</td>\n",
       "      <td>41.54</td>\n",
       "      <td>11775.94</td>\n",
       "      <td>21.96</td>\n",
       "      <td>297.12</td>\n",
       "      <td>40.97</td>\n",
       "      <td>10644.64</td>\n",
       "      <td>26.77</td>\n",
       "      <td>296.51</td>\n",
       "      <td>25.0</td>\n",
       "      <td>7327.12</td>\n",
       "      <td>5.5</td>\n",
       "      <td>168.0</td>\n",
       "    </tr>\n",
       "    <tr>\n",
       "      <th>4</th>\n",
       "      <td>3</td>\n",
       "      <td>smart</td>\n",
       "      <td>54.32</td>\n",
       "      <td>15104.16</td>\n",
       "      <td>31.86</td>\n",
       "      <td>390.05</td>\n",
       "      <td>25.54</td>\n",
       "      <td>5828.24</td>\n",
       "      <td>26.80</td>\n",
       "      <td>191.89</td>\n",
       "      <td>59.0</td>\n",
       "      <td>15670.25</td>\n",
       "      <td>23.0</td>\n",
       "      <td>409.0</td>\n",
       "    </tr>\n",
       "    <tr>\n",
       "      <th>5</th>\n",
       "      <td>3</td>\n",
       "      <td>ultra</td>\n",
       "      <td>67.68</td>\n",
       "      <td>17535.55</td>\n",
       "      <td>32.30</td>\n",
       "      <td>489.65</td>\n",
       "      <td>44.84</td>\n",
       "      <td>10951.79</td>\n",
       "      <td>41.62</td>\n",
       "      <td>333.74</td>\n",
       "      <td>57.0</td>\n",
       "      <td>17495.18</td>\n",
       "      <td>20.0</td>\n",
       "      <td>403.0</td>\n",
       "    </tr>\n",
       "    <tr>\n",
       "      <th>6</th>\n",
       "      <td>4</td>\n",
       "      <td>smart</td>\n",
       "      <td>51.31</td>\n",
       "      <td>13462.18</td>\n",
       "      <td>30.74</td>\n",
       "      <td>367.13</td>\n",
       "      <td>25.70</td>\n",
       "      <td>5698.25</td>\n",
       "      <td>24.54</td>\n",
       "      <td>186.49</td>\n",
       "      <td>52.0</td>\n",
       "      <td>14087.65</td>\n",
       "      <td>28.0</td>\n",
       "      <td>368.5</td>\n",
       "    </tr>\n",
       "    <tr>\n",
       "      <th>7</th>\n",
       "      <td>4</td>\n",
       "      <td>ultra</td>\n",
       "      <td>64.09</td>\n",
       "      <td>16828.13</td>\n",
       "      <td>31.56</td>\n",
       "      <td>458.02</td>\n",
       "      <td>36.27</td>\n",
       "      <td>9718.65</td>\n",
       "      <td>37.51</td>\n",
       "      <td>267.68</td>\n",
       "      <td>61.0</td>\n",
       "      <td>16645.78</td>\n",
       "      <td>17.0</td>\n",
       "      <td>453.0</td>\n",
       "    </tr>\n",
       "    <tr>\n",
       "      <th>8</th>\n",
       "      <td>5</td>\n",
       "      <td>smart</td>\n",
       "      <td>55.24</td>\n",
       "      <td>15805.18</td>\n",
       "      <td>33.77</td>\n",
       "      <td>387.36</td>\n",
       "      <td>25.38</td>\n",
       "      <td>5978.23</td>\n",
       "      <td>27.04</td>\n",
       "      <td>186.60</td>\n",
       "      <td>59.0</td>\n",
       "      <td>16323.94</td>\n",
       "      <td>30.0</td>\n",
       "      <td>433.0</td>\n",
       "    </tr>\n",
       "    <tr>\n",
       "      <th>9</th>\n",
       "      <td>5</td>\n",
       "      <td>ultra</td>\n",
       "      <td>72.51</td>\n",
       "      <td>19363.15</td>\n",
       "      <td>37.85</td>\n",
       "      <td>510.33</td>\n",
       "      <td>41.08</td>\n",
       "      <td>10046.11</td>\n",
       "      <td>40.31</td>\n",
       "      <td>289.60</td>\n",
       "      <td>75.0</td>\n",
       "      <td>18696.43</td>\n",
       "      <td>25.0</td>\n",
       "      <td>519.0</td>\n",
       "    </tr>\n",
       "  </tbody>\n",
       "</table>\n",
       "</div>"
      ],
      "text/plain": [
       "   month tariff  calls_mean  sessions_mean  messages_mean  minutes_mean  \\\n",
       "0      1  smart       27.68        8513.72          18.24        203.85   \n",
       "1      1  ultra       59.44       13140.68          33.78        428.11   \n",
       "2      2  smart       40.19       11597.05          24.09        298.69   \n",
       "3      2  ultra       41.54       11775.94          21.96        297.12   \n",
       "4      3  smart       54.32       15104.16          31.86        390.05   \n",
       "5      3  ultra       67.68       17535.55          32.30        489.65   \n",
       "6      4  smart       51.31       13462.18          30.74        367.13   \n",
       "7      4  ultra       64.09       16828.13          31.56        458.02   \n",
       "8      5  smart       55.24       15805.18          33.77        387.36   \n",
       "9      5  ultra       72.51       19363.15          37.85        510.33   \n",
       "\n",
       "   calls_std  sessions_std  messages_std  minutes_std  calls_median  \\\n",
       "0      20.81       6444.68         16.20       154.23          20.5   \n",
       "1      41.64       6865.35         30.67       269.76          51.0   \n",
       "2      25.39       6247.35         21.75       190.82          38.5   \n",
       "3      40.97      10644.64         26.77       296.51          25.0   \n",
       "4      25.54       5828.24         26.80       191.89          59.0   \n",
       "5      44.84      10951.79         41.62       333.74          57.0   \n",
       "6      25.70       5698.25         24.54       186.49          52.0   \n",
       "7      36.27       9718.65         37.51       267.68          61.0   \n",
       "8      25.38       5978.23         27.04       186.60          59.0   \n",
       "9      41.08      10046.11         40.31       289.60          75.0   \n",
       "\n",
       "   sessions_median  messages_median  minutes_median  \n",
       "0          7096.18             15.0           162.5  \n",
       "1         14791.37             32.0           382.0  \n",
       "2         12553.71             20.0           258.0  \n",
       "3          7327.12              5.5           168.0  \n",
       "4         15670.25             23.0           409.0  \n",
       "5         17495.18             20.0           403.0  \n",
       "6         14087.65             28.0           368.5  \n",
       "7         16645.78             17.0           453.0  \n",
       "8         16323.94             30.0           433.0  \n",
       "9         18696.43             25.0           519.0  "
      ]
     },
     "execution_count": 207,
     "metadata": {},
     "output_type": "execute_result"
    }
   ],
   "source": [
    "# сохранение статистических метрик для каждой пары \"месяц-тариф\"\n",
    "# среднее значение, стандартное отклонение, медиана\n",
    "\n",
    "stats_df = user_behavior.pivot_table( \\\n",
    "            index=['month', 'tariff'],\\\n",
    "            values=['calls', 'minutes', 'messages', 'mb_used'],\\\n",
    "            aggfunc=['mean', 'std', 'median']\\\n",
    ").round(2).reset_index()\n",
    "\n",
    "# переименование столбцов:\n",
    "stats_df.columns=['month', 'tariff', \n",
    "                  'calls_mean', 'sessions_mean', 'messages_mean', 'minutes_mean',\n",
    "                  'calls_std', 'sessions_std', 'messages_std', 'minutes_std', \n",
    "                  'calls_median', 'sessions_median', 'messages_median', 'minutes_median']\n",
    "\n",
    "stats_df.head(10)"
   ]
  },
  {
   "cell_type": "markdown",
   "id": "adf6afe9",
   "metadata": {},
   "source": [
    "### Анализ выполненных звонков"
   ]
  },
  {
   "cell_type": "markdown",
   "id": "84af1ea3",
   "metadata": {},
   "source": [
    "[Назад к содержанию](#Содержание)"
   ]
  },
  {
   "cell_type": "markdown",
   "id": "e16b9766",
   "metadata": {},
   "source": [
    "Построим график распределения среднего количества звонков по видам тарифов и месяцам."
   ]
  },
  {
   "cell_type": "code",
   "execution_count": 210,
   "id": "f8585367",
   "metadata": {},
   "outputs": [
    {
     "data": {
      "image/png": "[encoded data removed]",
      "text/plain": [
       "<Figure size 432x288 with 1 Axes>"
      ]
     },
     "metadata": {
      "needs_background": "light"
     },
     "output_type": "display_data"
    }
   ],
   "source": [
    "# распределение среднего количества звонков по видам тарифов и месяцам:\n",
    "\n",
    "ax = sns.barplot(x='month',\n",
    "            y='calls_mean',\n",
    "            hue=\"tariff\",\n",
    "            data=stats_df,\n",
    "            palette=['lightblue', 'blue'])\n",
    "\n",
    "ax.set_title('Распределение количества звонков по видам тарифов и месяцам')\n",
    "ax.set(xlabel='Номер месяца', ylabel='Среднее количество звонков');"
   ]
  },
  {
   "cell_type": "markdown",
   "id": "a7b936e6",
   "metadata": {},
   "source": [
    "Среднее количество выполненных звонков больше у тех кто пользуется тарифом `ultra` чем у кого тариф `smart`. Что весьма логично.\n",
    "\n",
    "Данный график не отображает число абонентов, а хотелось бы иметь об этом представление. Построим соответствующий график зависимости между количеством выполненных звонков и количеством клиентов в зависимости от выбранного тарифного плана. "
   ]
  },
  {
   "cell_type": "code",
   "execution_count": 213,
   "id": "a5efb89b",
   "metadata": {},
   "outputs": [
    {
     "data": {
      "image/png": "[encoded data removed]",
      "text/plain": [
       "<Figure size 432x288 with 1 Axes>"
      ]
     },
     "metadata": {
      "needs_background": "light"
     },
     "output_type": "display_data"
    }
   ],
   "source": [
    "# количество выполненных звонков и абонентов\n",
    "# в зависимости от тарифа:\n",
    "\n",
    "user_behavior.groupby('tariff')['calls'].plot(kind='hist', bins=35, alpha=0.5)\n",
    "plt.legend(['Smart', 'Ultra'])\n",
    "plt.xlabel('Количество звонков')\n",
    "plt.ylabel('Количество клиентов')\n",
    "plt.show()"
   ]
  },
  {
   "cell_type": "markdown",
   "id": "6ab0d4a7",
   "metadata": {},
   "source": [
    "Количество абонентов тарифа `smart` превосходит количество клиентов тарифа `ultra`. Но количество выполненных звонков гораздо больше на тарифе `ultra`. \n",
    "\n",
    "Построим распределение средней продолжительности звонков по видам тарифов и месяцам."
   ]
  },
  {
   "cell_type": "code",
   "execution_count": 221,
   "id": "8a7a7c3b",
   "metadata": {},
   "outputs": [
    {
     "data": {
      "image/png": "[encoded data removed]",
      "text/plain": [
       "<Figure size 432x288 with 1 Axes>"
      ]
     },
     "metadata": {
      "needs_background": "light"
     },
     "output_type": "display_data"
    }
   ],
   "source": [
    "# средняя продолжительность звонков по месяцам:\n",
    "\n",
    "ax = sns.barplot(x='month',\n",
    "            y='minutes_mean',\n",
    "            hue=\"tariff\",\n",
    "            data=stats_df,\n",
    "            palette=['lightblue', 'blue'])\n",
    "\n",
    "ax.set_title('Распределение средней продолжительности звонков \\nпо видам тарифов и месяцам')\n",
    "ax.set(xlabel='Номер месяца', ylabel='Средняя продолжительность звонков');"
   ]
  },
  {
   "cell_type": "markdown",
   "id": "6d80dc53",
   "metadata": {},
   "source": [
    "В феврале можно отметить почти одинаковую среднюю продолжительность звонков у тарифов `smart` и `ultra`. Также в феврале у абонентов обоих тарифных планов наблюдались самые низкие показатели. Во всех остальных месяцах средняя продолжительность звонков выше у тарифа `ultra`.\n",
    "\n",
    "Выведем график зависимости между количеством израсходованных минут и количеством абонентов с учётом тарифного плана. \n"
   ]
  },
  {
   "cell_type": "code",
   "execution_count": 234,
   "id": "6be6a249",
   "metadata": {},
   "outputs": [
    {
     "data": {
      "image/png": "[encoded data removed]",
      "text/plain": [
       "<Figure size 432x288 with 1 Axes>"
      ]
     },
     "metadata": {
      "needs_background": "light"
     },
     "output_type": "display_data"
    }
   ],
   "source": [
    "# количество израсходованных минут по числу абонентов\n",
    "# по каждому тарифному плану:\n",
    "\n",
    "user_behavior[user_behavior['tariff'] == 'smart']['minutes'].\\\n",
    "    plot(kind='hist', bins=35, alpha=0.5, color='green')\n",
    "user_behavior[user_behavior['tariff'] == 'ultra']['minutes']. \\\n",
    "    plot(kind='hist', bins=35, alpha=0.5, color='blue')\n",
    "plt.legend(['Smart', 'Ultra'])\n",
    "plt.xlabel('Количество потраченных минут разговора')\n",
    "plt.ylabel('Количество клиентов')\n",
    "plt.show()"
   ]
  },
  {
   "cell_type": "markdown",
   "id": "e77aedf8",
   "metadata": {},
   "source": [
    "Абоненты тарифного плана `ultra` тратят гораздо большее количество минут по сравнению с абонентами, у которых тарифный план `smart`. Но таких абонентов не много. Выведем численные показатели.\n",
    " "
   ]
  },
  {
   "cell_type": "code",
   "execution_count": 242,
   "id": "6f333b10",
   "metadata": {},
   "outputs": [
    {
     "data": {
      "text/plain": [
       "count    2229.000000\n",
       "mean      417.934948\n",
       "std       190.313730\n",
       "min         0.000000\n",
       "25%       282.000000\n",
       "50%       422.000000\n",
       "75%       545.000000\n",
       "max      1435.000000\n",
       "Name: minutes, dtype: float64"
      ]
     },
     "execution_count": 242,
     "metadata": {},
     "output_type": "execute_result"
    }
   ],
   "source": [
    "# обзор количества потраченных минут для тарифа `smart`:\n",
    "\n",
    "user_behavior[user_behavior['tariff'] == 'smart']['minutes'].describe()"
   ]
  },
  {
   "cell_type": "code",
   "execution_count": 238,
   "id": "9e9c7cf4",
   "metadata": {},
   "outputs": [
    {
     "data": {
      "text/plain": [
       "count     985.000000\n",
       "mean      526.623350\n",
       "std       317.606098\n",
       "min         0.000000\n",
       "25%       284.000000\n",
       "50%       518.000000\n",
       "75%       752.000000\n",
       "max      1673.000000\n",
       "Name: minutes, dtype: float64"
      ]
     },
     "execution_count": 238,
     "metadata": {},
     "output_type": "execute_result"
    }
   ],
   "source": [
    "# обзор количества потраченных минут для тарифа `ultra`:\n",
    "\n",
    "user_behavior[user_behavior['tariff'] == 'ultra']['minutes'].describe()"
   ]
  },
  {
   "cell_type": "markdown",
   "id": "b794a809",
   "metadata": {},
   "source": [
    "**Выводы по выполненным звонкам в зависимости от тарифного плана:**\n",
    "\n",
    "   - среднее количество выполненных звонков больше у тех кто пользуется тарифом `ultra` чем у кого тариф `smart`;\n",
    "   - количество абонентов тарифа `smart` превосходит количество клиентов тарифа `ultra`;\n",
    "   - количество выполненных звонков гораздо больше на тарифе `ultra`;\n",
    "   - средняя длительность разговоров у абонентов тарифа `ultra` больше, чем у абонентов тарифа `smart`;\n",
    "   - в течение года пользователи обоих тарифов увеличивают среднюю продолжительность своих разговоров. \n",
    "\n",
    "Далее проведём аналогичный анализ для SMS-сообщений. Построим распределение среднего количества сообщений по видам тарифов и месяцам."
   ]
  },
  {
   "cell_type": "markdown",
   "id": "03005878",
   "metadata": {},
   "source": [
    "### Анализ отправленных SMS-сообщений"
   ]
  },
  {
   "cell_type": "markdown",
   "id": "c45651c3",
   "metadata": {},
   "source": [
    "[Назад к содержанию](#Содержание)"
   ]
  },
  {
   "cell_type": "code",
   "execution_count": 249,
   "id": "c1bb25fb",
   "metadata": {},
   "outputs": [
    {
     "data": {
      "image/png": "[encoded data removed]",
      "text/plain": [
       "<Figure size 432x288 with 1 Axes>"
      ]
     },
     "metadata": {
      "needs_background": "light"
     },
     "output_type": "display_data"
    }
   ],
   "source": [
    "# распределение количества сообщений по видам тарифов и месяцам:\n",
    "\n",
    "ax = sns.barplot(x='month',\n",
    "            y='messages_mean',\n",
    "            hue=\"tariff\",\n",
    "            data=stats_df,\n",
    "            palette=['lightblue', 'blue']\n",
    ")\n",
    "\n",
    "ax.set_title('Распределение количества сообщений\\nпо видам тарифов и месяцам:')\n",
    "ax.set(xlabel='Номер месяца', ylabel='Среднее количество сообщений');"
   ]
  },
  {
   "cell_type": "markdown",
   "id": "6c658f7c",
   "metadata": {},
   "source": [
    "Среднее количество отправленных SMS-сообщений тарифа `smart` почти весь год практически одинаковое. Меньше всего в январе и феврале.\n",
    "\n",
    "У пользователей тарифа `ultra` среднее количество сообщений растёт в течение года.\n",
    "\n",
    "В целом абоненты тарифа `ultra` отправляют больше SMS.\n",
    "\n",
    "Но мы знаем, что клиентов с тарифным планом `ultra` меньше, чем абонентов со `smart` тарифом. Построим график, отображающий количество отправленных SMS и количество абонентов по каждому тарифу. \n",
    "\n"
   ]
  },
  {
   "cell_type": "code",
   "execution_count": 256,
   "id": "b67a4c4b",
   "metadata": {},
   "outputs": [
    {
     "data": {
      "image/png": "[encoded data removed]",
      "text/plain": [
       "<Figure size 432x288 with 1 Axes>"
      ]
     },
     "metadata": {
      "needs_background": "light"
     },
     "output_type": "display_data"
    }
   ],
   "source": [
    "# количество отправленных SMS по числу абонентов\n",
    "# по каждому тарифному плану:\n",
    "\n",
    "user_behavior[user_behavior['tariff'] =='smart']['messages']. \\\n",
    "    plot(kind='hist', bins=35, alpha=0.5, color='green')\n",
    "\n",
    "user_behavior[user_behavior['tariff'] =='ultra']['messages'].\\\n",
    "    plot(kind='hist', bins=35, alpha=0.5, color='blue')\n",
    "\n",
    "plt.legend(['Smart', 'Ultra'])\n",
    "plt.xlabel('Количество отправленных SMS')\n",
    "plt.ylabel('Количество клиентов')\n",
    "plt.show()"
   ]
  },
  {
   "cell_type": "markdown",
   "id": "a437a750",
   "metadata": {},
   "source": [
    "Итак, пользователи `ultra` отправляют большее количество сообщений, но по сравнению с тарифом `smart` их намного меньше."
   ]
  },
  {
   "cell_type": "code",
   "execution_count": 251,
   "id": "5a4fe4fa",
   "metadata": {},
   "outputs": [
    {
     "data": {
      "text/plain": [
       "count    2229.000000\n",
       "mean       33.384029\n",
       "std        28.227876\n",
       "min         0.000000\n",
       "25%        10.000000\n",
       "50%        28.000000\n",
       "75%        51.000000\n",
       "max       143.000000\n",
       "Name: messages, dtype: float64"
      ]
     },
     "execution_count": 251,
     "metadata": {},
     "output_type": "execute_result"
    }
   ],
   "source": [
    "# обзор количества отправленных SMS для тарифа `smart`:\n",
    "\n",
    "user_behavior[user_behavior['tariff'] == 'smart']['messages'].describe()"
   ]
  },
  {
   "cell_type": "code",
   "execution_count": 253,
   "id": "d5bd2b3e",
   "metadata": {},
   "outputs": [
    {
     "data": {
      "text/plain": [
       "count    985.000000\n",
       "mean      49.363452\n",
       "std       47.804457\n",
       "min        0.000000\n",
       "25%        6.000000\n",
       "50%       38.000000\n",
       "75%       79.000000\n",
       "max      224.000000\n",
       "Name: messages, dtype: float64"
      ]
     },
     "execution_count": 253,
     "metadata": {},
     "output_type": "execute_result"
    }
   ],
   "source": [
    "# обзор количества отправленных SMS для тарифа `ultra`:\n",
    "\n",
    "user_behavior[user_behavior['tariff'] == 'ultra']['messages'].describe()"
   ]
  },
  {
   "cell_type": "markdown",
   "id": "f7d2b6c2",
   "metadata": {},
   "source": [
    "**Выводы по отправленным SMS в зависимости от тарифного плана:**\n",
    "\n",
    "   - пользователи тарифа `ultra` отправляют в среднем почти на 20 SMS больше;\n",
    "   - у пользователей тарифа `ultra` среднее количество сообщений растёт в течение года;\n",
    "   - среднее количество отправленных SMS-сообщений тарифа `smart` почти весь год практически одинаковое.\n",
    "   \n",
    "Далее проведем анализ потребления интернет-трафика."
   ]
  },
  {
   "cell_type": "markdown",
   "id": "94adbdbc",
   "metadata": {},
   "source": [
    "### Анализ потребления интернет-трафика"
   ]
  },
  {
   "cell_type": "markdown",
   "id": "9a09607e",
   "metadata": {},
   "source": [
    "[Назад к содержанию](#Содержание)"
   ]
  },
  {
   "cell_type": "code",
   "execution_count": 255,
   "id": "c0f31e6b",
   "metadata": {},
   "outputs": [
    {
     "data": {
      "image/png": "[encoded data removed]",
      "text/plain": [
       "<Figure size 432x288 with 1 Axes>"
      ]
     },
     "metadata": {
      "needs_background": "light"
     },
     "output_type": "display_data"
    }
   ],
   "source": [
    "# распределение потраченного трафика:\n",
    "\n",
    "ax = sns.barplot(x='month',\n",
    "            y='sessions_mean',\n",
    "            hue=\"tariff\",\n",
    "            data=stats_df,\n",
    "            palette=['lightblue', 'blue']\n",
    ")\n",
    "\n",
    "ax.set_title('Распределение количества потраченного\\nтрафика (Мб) по видам тарифов и месяцам')\n",
    "ax.set(xlabel='Номер месяца', ylabel='Среднее количество мегабайт');"
   ]
  },
  {
   "cell_type": "markdown",
   "id": "8b59c78c",
   "metadata": {},
   "source": [
    "Абоненты `ultra` тратят больше интернет-трафика. В течение года среднее потребление трафика практически одинаковое, за исключением января и февраля.\n",
    "\n",
    "На тарифе `smart` пользуются интернетом меньше. Потребление в течение года также практически одинаковое, кроме января и февраля.\n",
    "\n",
    "Сравним потребление трафика с учетом количества пользователей."
   ]
  },
  {
   "cell_type": "code",
   "execution_count": 257,
   "id": "040c9a9e",
   "metadata": {},
   "outputs": [
    {
     "data": {
      "image/png": "[encoded data removed]",
      "text/plain": [
       "<Figure size 432x288 with 1 Axes>"
      ]
     },
     "metadata": {
      "needs_background": "light"
     },
     "output_type": "display_data"
    }
   ],
   "source": [
    "# объём трафика по числу абонентов\n",
    "# по каждому тарифному плану:\n",
    "\n",
    "user_behavior[user_behavior['tariff'] =='smart']['mb_used']. \\\n",
    "    plot(kind='hist', bins=35, alpha=0.5, color='green')\n",
    "\n",
    "user_behavior[user_behavior['tariff'] =='ultra']['mb_used']. \\\n",
    "    plot(kind='hist', bins=35, alpha=0.5, color='blue')\n",
    "\n",
    "plt.legend(['Smart', 'Ultra'])\n",
    "plt.xlabel('Объем израсходованного трафика (Мб):')\n",
    "plt.ylabel('Количество клиентов')\n",
    "plt.show()"
   ]
  },
  {
   "cell_type": "markdown",
   "id": "aa0d7fa2",
   "metadata": {},
   "source": [
    "На тарифе `ultra` тратят больше интернет-трафика. Но по сравнению с тарифом `smart` таких клиентов совсем не много. "
   ]
  },
  {
   "cell_type": "code",
   "execution_count": 260,
   "id": "a47b5fb2",
   "metadata": {},
   "outputs": [
    {
     "data": {
      "text/plain": [
       "count     2229.000000\n",
       "mean     16208.386990\n",
       "std       5870.476681\n",
       "min          0.000000\n",
       "25%      12643.010000\n",
       "50%      16506.840000\n",
       "75%      20042.930000\n",
       "max      38552.450000\n",
       "Name: mb_used, dtype: float64"
      ]
     },
     "execution_count": 260,
     "metadata": {},
     "output_type": "execute_result"
    }
   ],
   "source": [
    "# обзор использования интернета для тарифа `smart`:\n",
    "\n",
    "user_behavior[user_behavior['tariff'] == 'smart']['mb_used'].describe()"
   ]
  },
  {
   "cell_type": "code",
   "execution_count": 261,
   "id": "323c9585",
   "metadata": {},
   "outputs": [
    {
     "data": {
      "text/plain": [
       "count      985.000000\n",
       "mean     19468.805208\n",
       "std      10087.170752\n",
       "min          0.000000\n",
       "25%      11770.260000\n",
       "50%      19308.010000\n",
       "75%      26837.690000\n",
       "max      49745.690000\n",
       "Name: mb_used, dtype: float64"
      ]
     },
     "execution_count": 261,
     "metadata": {},
     "output_type": "execute_result"
    }
   ],
   "source": [
    "# обзор использования интернета для тарифа `ultra`:\n",
    "\n",
    "user_behavior[user_behavior['tariff'] == 'ultra']['mb_used'].describe()"
   ]
  },
  {
   "cell_type": "markdown",
   "id": "c225bc2c",
   "metadata": {},
   "source": [
    "**Выводы по использованию интернет-трафика в зависимости от тарифного плана:**\n",
    "\n",
    "   - абоненты `ultra` тратят больше интернет-трафика;\n",
    "   - абонентов `ultra` меньше чем `smart`;\n",
    "   - в течение года среднее потребление трафика практически одинаковое, за исключением января и февраля, для обоих тарифных планов."
   ]
  },
  {
   "cell_type": "markdown",
   "id": "8c795b8f",
   "metadata": {},
   "source": [
    "## Проверка гипотез"
   ]
  },
  {
   "cell_type": "markdown",
   "id": "8071741e",
   "metadata": {},
   "source": [
    "[Назад к содержанию](#Содержание)"
   ]
  },
  {
   "cell_type": "markdown",
   "id": "4264991d",
   "metadata": {},
   "source": [
    "Проверим различается ли средняя выручка пользователей тарифов `ultra` и `smart`.\n",
    "\n",
    "Для чего сформулируем гипотезу: средняя выручка пользователей тарифов `ultra` и `smart` различаются.\n",
    "\n",
    "Нулевая гипотеза:\n",
    "\n",
    "   - H_0: Выручка пользователей `ultra` равна выручке пользователей `smart`.\n",
    "\n",
    "Альтернативная гипотеза:\n",
    "\n",
    "   - H_1: Выручка пользователей `ultra` не равна выручке пользователей `smart`.\n",
    "\n",
    "Уровень значимости зададим равным 0.05."
   ]
  },
  {
   "cell_type": "code",
   "execution_count": 272,
   "id": "640c5d4c",
   "metadata": {},
   "outputs": [
    {
     "name": "stdout",
     "output_type": "stream",
     "text": [
      "p-value:  4.2606313931076085e-250\n",
      "Отвергаем нулевую гипотезу\n"
     ]
    }
   ],
   "source": [
    "# проверка гипотез:\n",
    "\n",
    "ultra_total_cost = user_behavior[user_behavior['tariff'] == 'ultra']['total_cost']\n",
    "smart_total_cost = user_behavior[user_behavior['tariff'] == 'smart']['total_cost']\n",
    "\n",
    "results = st.ttest_ind(\n",
    "    ultra_total_cost,\n",
    "    smart_total_cost,\n",
    "    equal_var = False\n",
    ")\n",
    "\n",
    "# значение уровня значимости:\n",
    "alpha = 0.05\n",
    "\n",
    "# вывод значения p-value: \n",
    "print('p-value: ', results.pvalue)\n",
    "\n",
    "# вывод результата проверки гипотезы:\n",
    "if results.pvalue < alpha:\n",
    "    print(\"Отвергаем нулевую гипотезу\")\n",
    "else:\n",
    "    print(\"Не получилось отвергнуть нулевую гипотезу\") "
   ]
  },
  {
   "cell_type": "markdown",
   "id": "53ca1bf1",
   "metadata": {},
   "source": [
    "Итак, мы получили значение p-value практически равное нулю. Это означает, что средняя выручка пользователей `ultra` не равна от выручки тарифа `smart`.\n",
    "\n",
    "Выведем значения средней выручки для обоих тарифных планов.\n",
    "\n"
   ]
  },
  {
   "cell_type": "code",
   "execution_count": 270,
   "id": "c37adb73",
   "metadata": {},
   "outputs": [
    {
     "data": {
      "text/plain": [
       "2070.1522842639592"
      ]
     },
     "execution_count": 270,
     "metadata": {},
     "output_type": "execute_result"
    }
   ],
   "source": [
    "# средняя выручка тарифа `ultra` (руб):\n",
    "\n",
    "ultra_total_cost.mean()"
   ]
  },
  {
   "cell_type": "code",
   "execution_count": 271,
   "id": "30102cc7",
   "metadata": {},
   "outputs": [
    {
     "data": {
      "text/plain": [
       "1289.9735307312696"
      ]
     },
     "execution_count": 271,
     "metadata": {},
     "output_type": "execute_result"
    }
   ],
   "source": [
    "# средняя выручка тарифа `smart` (руб):\n",
    "\n",
    "smart_total_cost.mean()"
   ]
  },
  {
   "cell_type": "markdown",
   "id": "926b68bd",
   "metadata": {},
   "source": [
    "Итак, средняя выручка тарифного плана `ultra` действительно выше выручки со `smart` тарифа."
   ]
  },
  {
   "cell_type": "markdown",
   "id": "a91ab0db",
   "metadata": {},
   "source": [
    "Далее проверим ещё одну гипотезу: пользователи из Москвы приносят больше выручки, чем пользователи из других городов.\n",
    "\n",
    "Нулевая гипотеза:\n",
    "\n",
    "   - H_0: Выручка пользователей из Москвы равна выручке пользователей не из Москвы.\n",
    "    \n",
    "Альтернативная гипотеза:    \n",
    "\n",
    "   - H_1: Выручка пользователей из Москвы не равна выручке пользователей не из Москвы.\n",
    "    \n",
    "    \n",
    "Уровень значимости зададим равным 0.05."
   ]
  },
  {
   "cell_type": "code",
   "execution_count": 264,
   "id": "76b318e6",
   "metadata": {},
   "outputs": [
    {
     "name": "stdout",
     "output_type": "stream",
     "text": [
      "p-значение:  0.5989670526299276\n",
      "Не получилось отвергнуть нулевую гипотезу\n"
     ]
    }
   ],
   "source": [
    "# проверка гипотез:\n",
    "\n",
    "msc_total_cost = user_behavior[user_behavior['city'] =='Москва']['total_cost']\n",
    "other_total_cost = user_behavior[user_behavior['tariff'] !='Москва']['total_cost']\n",
    "\n",
    "results = st.ttest_ind(\n",
    "    msc_total_cost,\n",
    "    other_total_cost,\n",
    "    equal_var = False\n",
    ")\n",
    "\n",
    "# значение уровня значимости:\n",
    "alpha = 0.05\n",
    "\n",
    "# вывод значения p-value: \n",
    "print('p-значение: ', results.pvalue)\n",
    "\n",
    "# вывод результата проверки гипотезы:\n",
    "if results.pvalue < alpha:\n",
    "    print(\"Отвергаем нулевую гипотезу\")\n",
    "else:\n",
    "    print(\"Не получилось отвергнуть нулевую гипотезу\") "
   ]
  },
  {
   "cell_type": "markdown",
   "id": "d2c6231c",
   "metadata": {},
   "source": [
    "p-value больше заданного порога. Это означает, что московские абоненты действительно приносят большую выручку.\n",
    "\n",
    "Выведем значения средней выручки для абонентов из Москвы и из других городов."
   ]
  },
  {
   "cell_type": "code",
   "execution_count": 274,
   "id": "79e9cdc3",
   "metadata": {},
   "outputs": [
    {
     "data": {
      "text/plain": [
       "1546.7135842880523"
      ]
     },
     "execution_count": 274,
     "metadata": {},
     "output_type": "execute_result"
    }
   ],
   "source": [
    "# средняя выручка с московских абонентов (руб):\n",
    "\n",
    "msc_total_cost.mean()"
   ]
  },
  {
   "cell_type": "code",
   "execution_count": 275,
   "id": "f143802d",
   "metadata": {},
   "outputs": [
    {
     "data": {
      "text/plain": [
       "1529.0762289981333"
      ]
     },
     "execution_count": 275,
     "metadata": {},
     "output_type": "execute_result"
    }
   ],
   "source": [
    "# средняя выручка с абонентов не из Москвы (руб):\n",
    "\n",
    "other_total_cost.mean()"
   ]
  },
  {
   "cell_type": "markdown",
   "id": "d640976d",
   "metadata": {},
   "source": [
    "Московские абоненты действительно приносят больший доход по сравнению с абонентами из других городов."
   ]
  },
  {
   "cell_type": "markdown",
   "id": "98f3adfc",
   "metadata": {},
   "source": [
    "**Выводы после проверки гипотез**\n",
    "\n",
    "Сформулировали и проверили две гипотезы:\n",
    "\n",
    "   1. Средняя выручка не различается в зависимости от тарифного плана. Эта гипотеза оказалась ложной.\n",
    "   2. Пользователи из Москвы приносят больше выручки, чем пользователи из других городов. Это действительно так."
   ]
  },
  {
   "cell_type": "markdown",
   "id": "1a82d729",
   "metadata": {},
   "source": [
    "## Вывод"
   ]
  },
  {
   "cell_type": "markdown",
   "id": "ce20c5e2",
   "metadata": {},
   "source": [
    "[Назад к содержанию](#Содержание)"
   ]
  },
  {
   "cell_type": "markdown",
   "id": "fdf10ba6",
   "metadata": {},
   "source": [
    "В ходе проведенного анализа можно сделать следующие выводы:\n",
    "\n",
    "   - самым прибыльным тарифом является тариф \"Ультра\";\n",
    "   - в Москве абоненты приносят наибольший доход.\n",
    "   \n",
    "Коммерческому департаменту стоит оперировать полученными выводами при корректировке рекламного бюджета."
   ]
  }
 ],
 "metadata": {
  "ExecuteTimeLog": [
   {
    "duration": 1353,
    "start_time": "2023-10-17T20:15:22.027Z"
   },
   {
    "duration": 17424,
    "start_time": "2023-10-17T20:15:45.858Z"
   },
   {
    "duration": 1952,
    "start_time": "2023-10-17T20:16:39.351Z"
   },
   {
    "duration": 542,
    "start_time": "2023-10-17T20:18:42.856Z"
   },
   {
    "duration": 3,
    "start_time": "2023-10-17T20:19:04.215Z"
   },
   {
    "duration": 1174,
    "start_time": "2023-10-17T20:19:24.566Z"
   },
   {
    "duration": 2578,
    "start_time": "2023-10-17T20:19:25.743Z"
   },
   {
    "duration": 7,
    "start_time": "2023-10-17T20:19:28.323Z"
   },
   {
    "duration": 1124,
    "start_time": "2023-10-17T20:19:28.332Z"
   },
   {
    "duration": 318,
    "start_time": "2023-10-17T20:20:11.648Z"
   },
   {
    "duration": 3,
    "start_time": "2023-10-17T20:21:07.830Z"
   },
   {
    "duration": 3,
    "start_time": "2023-10-17T20:21:14.947Z"
   },
   {
    "duration": 3,
    "start_time": "2023-10-17T20:21:26.855Z"
   },
   {
    "duration": 28,
    "start_time": "2023-10-17T20:21:44.175Z"
   },
   {
    "duration": 426,
    "start_time": "2023-10-17T20:54:58.076Z"
   },
   {
    "duration": 254,
    "start_time": "2023-10-17T20:55:36.563Z"
   },
   {
    "duration": 62,
    "start_time": "2023-10-17T20:55:43.615Z"
   },
   {
    "duration": 17,
    "start_time": "2023-10-17T20:55:55.095Z"
   },
   {
    "duration": 27,
    "start_time": "2023-10-17T20:56:34.046Z"
   },
   {
    "duration": 387,
    "start_time": "2023-10-17T20:58:02.785Z"
   },
   {
    "duration": 154,
    "start_time": "2023-10-17T21:00:00.264Z"
   },
   {
    "duration": 241,
    "start_time": "2023-10-17T21:00:06.906Z"
   },
   {
    "duration": 149,
    "start_time": "2023-10-17T21:00:12.836Z"
   },
   {
    "duration": 202,
    "start_time": "2023-10-17T21:00:23.551Z"
   },
   {
    "duration": 153,
    "start_time": "2023-10-17T21:00:36.671Z"
   },
   {
    "duration": 164,
    "start_time": "2023-10-17T21:05:56.516Z"
   },
   {
    "duration": 137,
    "start_time": "2023-10-17T21:06:02.552Z"
   },
   {
    "duration": 154,
    "start_time": "2023-10-17T21:06:09.157Z"
   },
   {
    "duration": 936,
    "start_time": "2023-10-17T21:26:25.128Z"
   },
   {
    "duration": 419,
    "start_time": "2023-10-19T20:13:53.315Z"
   },
   {
    "duration": 981,
    "start_time": "2023-10-19T20:13:53.736Z"
   },
   {
    "duration": 26,
    "start_time": "2023-10-19T20:13:54.718Z"
   },
   {
    "duration": 25,
    "start_time": "2023-10-19T20:14:01.844Z"
   },
   {
    "duration": 14,
    "start_time": "2023-10-19T20:14:27.801Z"
   },
   {
    "duration": 593,
    "start_time": "2023-10-19T20:15:40.608Z"
   },
   {
    "duration": 9,
    "start_time": "2023-10-19T20:16:11.053Z"
   },
   {
    "duration": 39,
    "start_time": "2023-10-19T20:19:24.617Z"
   },
   {
    "duration": 21,
    "start_time": "2023-10-19T20:19:41.513Z"
   },
   {
    "duration": 29,
    "start_time": "2023-10-19T20:27:37.022Z"
   },
   {
    "duration": 9,
    "start_time": "2023-10-19T20:28:15.666Z"
   },
   {
    "duration": 26,
    "start_time": "2023-10-19T20:40:36.470Z"
   },
   {
    "duration": 158,
    "start_time": "2023-10-19T20:41:38.330Z"
   },
   {
    "duration": 156,
    "start_time": "2023-10-19T20:42:03.014Z"
   },
   {
    "duration": 206,
    "start_time": "2023-10-19T20:42:09.338Z"
   },
   {
    "duration": 238,
    "start_time": "2023-10-19T20:45:01.349Z"
   },
   {
    "duration": 3,
    "start_time": "2023-10-19T20:45:32.765Z"
   },
   {
    "duration": 175,
    "start_time": "2023-10-19T20:45:40.837Z"
   },
   {
    "duration": 166,
    "start_time": "2023-10-19T20:45:50.753Z"
   },
   {
    "duration": 167,
    "start_time": "2023-10-19T20:47:46.148Z"
   },
   {
    "duration": 161,
    "start_time": "2023-10-19T20:49:04.081Z"
   },
   {
    "duration": 23,
    "start_time": "2023-10-19T20:50:52.340Z"
   },
   {
    "duration": 8,
    "start_time": "2023-10-19T20:51:04.349Z"
   },
   {
    "duration": 20,
    "start_time": "2023-10-19T20:52:14.217Z"
   },
   {
    "duration": 17,
    "start_time": "2023-10-19T20:52:20.004Z"
   },
   {
    "duration": 9,
    "start_time": "2023-10-19T20:52:46.700Z"
   },
   {
    "duration": 8,
    "start_time": "2023-10-19T20:53:02.160Z"
   },
   {
    "duration": 10,
    "start_time": "2023-10-19T20:55:24.969Z"
   },
   {
    "duration": 9,
    "start_time": "2023-10-19T20:55:40.879Z"
   },
   {
    "duration": 10,
    "start_time": "2023-10-19T20:55:55.896Z"
   },
   {
    "duration": 8,
    "start_time": "2023-10-19T20:56:07.828Z"
   },
   {
    "duration": 11,
    "start_time": "2023-10-19T20:57:53.664Z"
   },
   {
    "duration": 10,
    "start_time": "2023-10-19T20:58:56.120Z"
   },
   {
    "duration": 4,
    "start_time": "2023-10-19T21:00:09.260Z"
   },
   {
    "duration": 11,
    "start_time": "2023-10-19T21:00:18.280Z"
   },
   {
    "duration": 11,
    "start_time": "2023-10-19T21:01:49.783Z"
   },
   {
    "duration": 19,
    "start_time": "2023-10-19T21:02:29.656Z"
   },
   {
    "duration": 16,
    "start_time": "2023-10-19T21:03:07.627Z"
   },
   {
    "duration": 27,
    "start_time": "2023-10-19T21:03:20.524Z"
   },
   {
    "duration": 18,
    "start_time": "2023-10-19T21:03:26.456Z"
   },
   {
    "duration": 20,
    "start_time": "2023-10-19T21:03:40.376Z"
   },
   {
    "duration": 9,
    "start_time": "2023-10-19T21:03:47.396Z"
   },
   {
    "duration": 8,
    "start_time": "2023-10-19T21:03:51.312Z"
   },
   {
    "duration": 8,
    "start_time": "2023-10-19T21:04:07.724Z"
   },
   {
    "duration": 15,
    "start_time": "2023-10-19T21:04:25.460Z"
   },
   {
    "duration": 13,
    "start_time": "2023-10-19T21:09:10.344Z"
   },
   {
    "duration": 770,
    "start_time": "2023-10-21T11:45:18.922Z"
   },
   {
    "duration": 895,
    "start_time": "2023-10-21T11:45:19.694Z"
   },
   {
    "duration": 28,
    "start_time": "2023-10-21T11:45:20.590Z"
   },
   {
    "duration": 21,
    "start_time": "2023-10-22T10:19:13.196Z"
   },
   {
    "duration": 11,
    "start_time": "2023-10-22T10:19:26.260Z"
   },
   {
    "duration": 155,
    "start_time": "2023-10-22T10:19:31.584Z"
   },
   {
    "duration": 18,
    "start_time": "2023-10-22T10:20:03.143Z"
   },
   {
    "duration": 7,
    "start_time": "2023-10-22T10:21:52.187Z"
   },
   {
    "duration": 7,
    "start_time": "2023-10-22T10:22:22.867Z"
   },
   {
    "duration": 137,
    "start_time": "2023-10-22T10:22:32.875Z"
   },
   {
    "duration": 16,
    "start_time": "2023-10-22T10:23:48.375Z"
   },
   {
    "duration": 10,
    "start_time": "2023-10-22T10:25:05.942Z"
   },
   {
    "duration": 9,
    "start_time": "2023-10-22T10:25:34.339Z"
   },
   {
    "duration": 8,
    "start_time": "2023-10-22T10:26:24.450Z"
   },
   {
    "duration": 9,
    "start_time": "2023-10-22T10:26:56.501Z"
   },
   {
    "duration": 8,
    "start_time": "2023-10-22T10:30:42.577Z"
   },
   {
    "duration": 68,
    "start_time": "2023-10-22T15:17:50.380Z"
   },
   {
    "duration": 16,
    "start_time": "2023-10-22T15:17:59.492Z"
   },
   {
    "duration": 14,
    "start_time": "2023-10-22T15:18:10.988Z"
   },
   {
    "duration": 12,
    "start_time": "2023-10-22T15:18:22.788Z"
   },
   {
    "duration": 8,
    "start_time": "2023-10-22T15:18:29.701Z"
   },
   {
    "duration": 16,
    "start_time": "2023-10-22T15:24:18.347Z"
   },
   {
    "duration": 8,
    "start_time": "2023-10-22T15:24:36.268Z"
   },
   {
    "duration": 14,
    "start_time": "2023-10-22T15:25:11.476Z"
   },
   {
    "duration": 16,
    "start_time": "2023-10-22T15:27:14.419Z"
   },
   {
    "duration": 65,
    "start_time": "2023-10-22T15:28:55.427Z"
   },
   {
    "duration": 3,
    "start_time": "2023-10-22T15:29:53.451Z"
   },
   {
    "duration": 5,
    "start_time": "2023-10-22T15:30:03.563Z"
   },
   {
    "duration": 15,
    "start_time": "2023-10-22T15:30:08.466Z"
   },
   {
    "duration": 7,
    "start_time": "2023-10-22T15:30:19.735Z"
   },
   {
    "duration": 8,
    "start_time": "2023-10-22T15:31:43.571Z"
   },
   {
    "duration": 9,
    "start_time": "2023-10-22T15:33:21.616Z"
   },
   {
    "duration": 15,
    "start_time": "2023-10-22T15:33:35.767Z"
   },
   {
    "duration": 7,
    "start_time": "2023-10-22T15:33:41.315Z"
   },
   {
    "duration": 8,
    "start_time": "2023-10-22T15:41:49.967Z"
   },
   {
    "duration": 7,
    "start_time": "2023-10-22T15:43:35.579Z"
   },
   {
    "duration": 8,
    "start_time": "2023-10-22T15:44:43.395Z"
   },
   {
    "duration": 15,
    "start_time": "2023-10-22T15:51:59.804Z"
   },
   {
    "duration": 9,
    "start_time": "2023-10-22T15:52:07.163Z"
   },
   {
    "duration": 7,
    "start_time": "2023-10-22T15:52:10.906Z"
   },
   {
    "duration": 15,
    "start_time": "2023-10-22T15:54:36.814Z"
   },
   {
    "duration": 7,
    "start_time": "2023-10-22T15:54:53.926Z"
   },
   {
    "duration": 10,
    "start_time": "2023-10-22T16:36:59.370Z"
   },
   {
    "duration": 5,
    "start_time": "2023-10-22T16:39:16.674Z"
   },
   {
    "duration": 8,
    "start_time": "2023-10-22T16:40:01.002Z"
   },
   {
    "duration": 8,
    "start_time": "2023-10-22T19:19:35.196Z"
   },
   {
    "duration": 12,
    "start_time": "2023-10-22T19:19:40.009Z"
   },
   {
    "duration": 8,
    "start_time": "2023-10-22T19:20:04.060Z"
   },
   {
    "duration": 6,
    "start_time": "2023-10-22T19:21:57.301Z"
   },
   {
    "duration": 10,
    "start_time": "2023-10-22T19:22:30.808Z"
   },
   {
    "duration": 29,
    "start_time": "2023-10-22T19:22:46.136Z"
   },
   {
    "duration": 10,
    "start_time": "2023-10-22T19:23:11.761Z"
   },
   {
    "duration": 1099,
    "start_time": "2023-10-24T10:25:05.439Z"
   },
   {
    "duration": 1286,
    "start_time": "2023-10-24T10:25:06.540Z"
   },
   {
    "duration": 32,
    "start_time": "2023-10-24T10:25:07.829Z"
   },
   {
    "duration": 14,
    "start_time": "2023-10-24T10:25:07.864Z"
   },
   {
    "duration": 246,
    "start_time": "2023-10-24T10:25:07.880Z"
   },
   {
    "duration": 55,
    "start_time": "2023-10-24T10:25:08.129Z"
   },
   {
    "duration": 15,
    "start_time": "2023-10-24T10:25:08.186Z"
   },
   {
    "duration": 233,
    "start_time": "2023-10-24T10:25:08.204Z"
   },
   {
    "duration": 31,
    "start_time": "2023-10-24T10:25:08.439Z"
   },
   {
    "duration": 20,
    "start_time": "2023-10-24T10:25:08.473Z"
   },
   {
    "duration": 27,
    "start_time": "2023-10-24T10:25:08.494Z"
   },
   {
    "duration": 13,
    "start_time": "2023-10-24T10:25:08.524Z"
   },
   {
    "duration": 15,
    "start_time": "2023-10-24T10:25:08.538Z"
   },
   {
    "duration": 24,
    "start_time": "2023-10-24T10:25:08.556Z"
   },
   {
    "duration": 104,
    "start_time": "2023-10-24T10:25:08.582Z"
   },
   {
    "duration": 10,
    "start_time": "2023-10-24T10:25:08.688Z"
   },
   {
    "duration": 57,
    "start_time": "2023-10-24T10:25:08.700Z"
   },
   {
    "duration": 24,
    "start_time": "2023-10-24T10:25:08.759Z"
   },
   {
    "duration": 23,
    "start_time": "2023-10-24T10:25:08.785Z"
   },
   {
    "duration": 19,
    "start_time": "2023-10-24T10:25:08.810Z"
   },
   {
    "duration": 24,
    "start_time": "2023-10-24T10:25:08.832Z"
   },
   {
    "duration": 9,
    "start_time": "2023-10-24T10:25:08.859Z"
   },
   {
    "duration": 40,
    "start_time": "2023-10-24T10:25:08.870Z"
   },
   {
    "duration": 32,
    "start_time": "2023-10-24T10:25:08.912Z"
   },
   {
    "duration": 20,
    "start_time": "2023-10-24T10:25:08.946Z"
   },
   {
    "duration": 33,
    "start_time": "2023-10-24T10:25:08.968Z"
   },
   {
    "duration": 13,
    "start_time": "2023-10-24T10:25:09.004Z"
   },
   {
    "duration": 36,
    "start_time": "2023-10-24T10:25:09.021Z"
   },
   {
    "duration": 10,
    "start_time": "2023-10-24T10:25:09.060Z"
   },
   {
    "duration": 32,
    "start_time": "2023-10-24T10:25:24.566Z"
   },
   {
    "duration": 9,
    "start_time": "2023-10-24T10:25:37.102Z"
   },
   {
    "duration": 9,
    "start_time": "2023-10-24T10:26:06.350Z"
   },
   {
    "duration": 151,
    "start_time": "2023-10-24T10:34:30.912Z"
   },
   {
    "duration": 4,
    "start_time": "2023-10-24T10:35:03.984Z"
   },
   {
    "duration": 26,
    "start_time": "2023-10-24T10:35:19.336Z"
   },
   {
    "duration": 11,
    "start_time": "2023-10-24T10:35:30.727Z"
   },
   {
    "duration": 27,
    "start_time": "2023-10-24T10:37:34.516Z"
   },
   {
    "duration": 10,
    "start_time": "2023-10-24T10:37:43.820Z"
   },
   {
    "duration": 9,
    "start_time": "2023-10-24T10:41:22.094Z"
   },
   {
    "duration": 28,
    "start_time": "2023-10-24T10:41:58.445Z"
   },
   {
    "duration": 10,
    "start_time": "2023-10-24T10:42:06.901Z"
   },
   {
    "duration": 16,
    "start_time": "2023-10-24T15:35:44.984Z"
   },
   {
    "duration": 10,
    "start_time": "2023-10-24T15:36:44.738Z"
   },
   {
    "duration": 30,
    "start_time": "2023-10-24T15:37:44.883Z"
   },
   {
    "duration": 10,
    "start_time": "2023-10-24T15:37:51.804Z"
   },
   {
    "duration": 49,
    "start_time": "2023-10-24T15:39:54.252Z"
   },
   {
    "duration": 10,
    "start_time": "2023-10-24T15:39:54.931Z"
   },
   {
    "duration": 41,
    "start_time": "2023-10-24T15:40:04.800Z"
   },
   {
    "duration": 10,
    "start_time": "2023-10-24T15:40:05.940Z"
   },
   {
    "duration": 29,
    "start_time": "2023-10-24T15:40:18.510Z"
   },
   {
    "duration": 31,
    "start_time": "2023-10-24T15:40:18.956Z"
   },
   {
    "duration": 25,
    "start_time": "2023-10-24T15:41:09.308Z"
   },
   {
    "duration": 10,
    "start_time": "2023-10-24T15:41:15.407Z"
   },
   {
    "duration": 136,
    "start_time": "2023-10-24T15:52:09.103Z"
   },
   {
    "duration": 100,
    "start_time": "2023-10-24T15:56:35.602Z"
   },
   {
    "duration": 42,
    "start_time": "2023-10-24T15:56:49.640Z"
   },
   {
    "duration": 13,
    "start_time": "2023-10-24T15:56:50.200Z"
   },
   {
    "duration": 41,
    "start_time": "2023-10-24T15:57:11.779Z"
   },
   {
    "duration": 27,
    "start_time": "2023-10-24T15:57:12.176Z"
   },
   {
    "duration": 30,
    "start_time": "2023-10-24T15:57:31.386Z"
   },
   {
    "duration": 15,
    "start_time": "2023-10-24T15:57:31.712Z"
   },
   {
    "duration": 24,
    "start_time": "2023-10-24T15:57:53.718Z"
   },
   {
    "duration": 12,
    "start_time": "2023-10-24T15:57:54.015Z"
   },
   {
    "duration": 53,
    "start_time": "2023-10-24T15:58:04.023Z"
   },
   {
    "duration": 8,
    "start_time": "2023-10-24T16:03:46.156Z"
   },
   {
    "duration": 6,
    "start_time": "2023-10-24T16:04:09.386Z"
   },
   {
    "duration": 6,
    "start_time": "2023-10-24T16:04:33.234Z"
   },
   {
    "duration": 59,
    "start_time": "2023-10-24T16:05:12.861Z"
   },
   {
    "duration": 7,
    "start_time": "2023-10-24T16:12:51.769Z"
   },
   {
    "duration": 863,
    "start_time": "2023-10-25T10:14:26.928Z"
   },
   {
    "duration": 1375,
    "start_time": "2023-10-25T10:14:27.793Z"
   },
   {
    "duration": 28,
    "start_time": "2023-10-25T10:14:29.170Z"
   },
   {
    "duration": 15,
    "start_time": "2023-10-25T10:14:29.200Z"
   },
   {
    "duration": 183,
    "start_time": "2023-10-25T10:14:29.216Z"
   },
   {
    "duration": 37,
    "start_time": "2023-10-25T10:14:29.407Z"
   },
   {
    "duration": 18,
    "start_time": "2023-10-25T10:14:29.446Z"
   },
   {
    "duration": 177,
    "start_time": "2023-10-25T10:14:29.466Z"
   },
   {
    "duration": 20,
    "start_time": "2023-10-25T10:14:29.645Z"
   },
   {
    "duration": 26,
    "start_time": "2023-10-25T10:14:29.668Z"
   },
   {
    "duration": 27,
    "start_time": "2023-10-25T10:14:29.696Z"
   },
   {
    "duration": 21,
    "start_time": "2023-10-25T10:14:29.724Z"
   },
   {
    "duration": 23,
    "start_time": "2023-10-25T10:14:29.747Z"
   },
   {
    "duration": 17,
    "start_time": "2023-10-25T10:14:29.772Z"
   },
   {
    "duration": 19,
    "start_time": "2023-10-25T10:14:29.791Z"
   },
   {
    "duration": 138,
    "start_time": "2023-10-25T10:14:29.812Z"
   },
   {
    "duration": 11,
    "start_time": "2023-10-25T10:14:29.952Z"
   },
   {
    "duration": 22,
    "start_time": "2023-10-25T10:14:29.965Z"
   },
   {
    "duration": 74,
    "start_time": "2023-10-25T10:14:29.989Z"
   },
   {
    "duration": 66,
    "start_time": "2023-10-25T10:14:30.066Z"
   },
   {
    "duration": 41,
    "start_time": "2023-10-25T10:14:30.134Z"
   },
   {
    "duration": 35,
    "start_time": "2023-10-25T10:14:30.178Z"
   },
   {
    "duration": 37,
    "start_time": "2023-10-25T10:14:30.215Z"
   },
   {
    "duration": 47,
    "start_time": "2023-10-25T10:14:30.254Z"
   },
   {
    "duration": 55,
    "start_time": "2023-10-25T10:14:30.302Z"
   },
   {
    "duration": 16,
    "start_time": "2023-10-25T10:14:30.358Z"
   },
   {
    "duration": 29,
    "start_time": "2023-10-25T10:14:30.375Z"
   },
   {
    "duration": 23,
    "start_time": "2023-10-25T10:14:30.407Z"
   },
   {
    "duration": 61,
    "start_time": "2023-10-25T10:14:30.432Z"
   },
   {
    "duration": 28,
    "start_time": "2023-10-25T10:14:30.495Z"
   },
   {
    "duration": 64,
    "start_time": "2023-10-25T10:14:30.525Z"
   },
   {
    "duration": 58,
    "start_time": "2023-10-25T10:14:30.591Z"
   },
   {
    "duration": 85,
    "start_time": "2023-10-25T10:14:30.652Z"
   },
   {
    "duration": 28,
    "start_time": "2023-10-25T10:14:30.740Z"
   },
   {
    "duration": 107,
    "start_time": "2023-10-25T10:14:30.771Z"
   },
   {
    "duration": 66,
    "start_time": "2023-10-25T10:14:30.880Z"
   },
   {
    "duration": 85,
    "start_time": "2023-10-25T10:14:30.951Z"
   },
   {
    "duration": 48,
    "start_time": "2023-10-25T10:14:31.038Z"
   },
   {
    "duration": 170,
    "start_time": "2023-10-25T10:14:31.088Z"
   },
   {
    "duration": 7,
    "start_time": "2023-10-25T10:15:04.056Z"
   },
   {
    "duration": 26,
    "start_time": "2023-10-25T10:16:34.980Z"
   },
   {
    "duration": 13,
    "start_time": "2023-10-25T10:17:02.886Z"
   },
   {
    "duration": 13,
    "start_time": "2023-10-25T10:17:42.227Z"
   },
   {
    "duration": 24,
    "start_time": "2023-10-25T10:17:50.560Z"
   },
   {
    "duration": 29,
    "start_time": "2023-10-25T10:18:31.259Z"
   },
   {
    "duration": 11,
    "start_time": "2023-10-25T10:28:48.387Z"
   },
   {
    "duration": 13,
    "start_time": "2023-10-25T10:28:59.313Z"
   },
   {
    "duration": 28,
    "start_time": "2023-10-25T10:33:11.579Z"
   },
   {
    "duration": 5,
    "start_time": "2023-10-25T10:36:08.597Z"
   },
   {
    "duration": 19,
    "start_time": "2023-10-25T10:36:58.460Z"
   },
   {
    "duration": 4,
    "start_time": "2023-10-25T10:40:15.566Z"
   },
   {
    "duration": 7,
    "start_time": "2023-10-25T10:40:48.718Z"
   },
   {
    "duration": 10,
    "start_time": "2023-10-25T10:53:03.901Z"
   },
   {
    "duration": 3,
    "start_time": "2023-10-25T10:54:49.593Z"
   },
   {
    "duration": 7,
    "start_time": "2023-10-25T10:54:53.997Z"
   },
   {
    "duration": 10,
    "start_time": "2023-10-25T10:57:11.770Z"
   },
   {
    "duration": 21,
    "start_time": "2023-10-25T10:57:36.141Z"
   },
   {
    "duration": 28,
    "start_time": "2023-10-25T10:58:20.242Z"
   },
   {
    "duration": 16,
    "start_time": "2023-10-25T10:58:33.397Z"
   },
   {
    "duration": 8,
    "start_time": "2023-10-25T11:06:24.655Z"
   },
   {
    "duration": 21,
    "start_time": "2023-10-25T11:06:40.523Z"
   },
   {
    "duration": 3,
    "start_time": "2023-10-25T11:08:07.718Z"
   },
   {
    "duration": 17,
    "start_time": "2023-10-25T11:08:17.556Z"
   },
   {
    "duration": 6,
    "start_time": "2023-10-25T11:09:10.297Z"
   },
   {
    "duration": 20,
    "start_time": "2023-10-25T11:09:15.129Z"
   },
   {
    "duration": 41,
    "start_time": "2023-10-25T14:53:00.513Z"
   },
   {
    "duration": 5,
    "start_time": "2023-10-25T14:53:27.329Z"
   },
   {
    "duration": 17,
    "start_time": "2023-10-25T14:53:27.342Z"
   },
   {
    "duration": 598,
    "start_time": "2023-10-25T14:53:27.360Z"
   },
   {
    "duration": 28,
    "start_time": "2023-10-25T14:53:27.959Z"
   },
   {
    "duration": 9,
    "start_time": "2023-10-25T14:53:27.989Z"
   },
   {
    "duration": 216,
    "start_time": "2023-10-25T14:53:27.999Z"
   },
   {
    "duration": 43,
    "start_time": "2023-10-25T14:53:28.217Z"
   },
   {
    "duration": 20,
    "start_time": "2023-10-25T14:53:28.262Z"
   },
   {
    "duration": 216,
    "start_time": "2023-10-25T14:53:28.284Z"
   },
   {
    "duration": 42,
    "start_time": "2023-10-25T14:53:28.502Z"
   },
   {
    "duration": 14,
    "start_time": "2023-10-25T14:53:28.546Z"
   },
   {
    "duration": 11,
    "start_time": "2023-10-25T14:53:28.562Z"
   },
   {
    "duration": 15,
    "start_time": "2023-10-25T14:53:28.575Z"
   },
   {
    "duration": 34,
    "start_time": "2023-10-25T14:53:28.592Z"
   },
   {
    "duration": 22,
    "start_time": "2023-10-25T14:53:28.627Z"
   },
   {
    "duration": 24,
    "start_time": "2023-10-25T14:53:28.651Z"
   },
   {
    "duration": 137,
    "start_time": "2023-10-25T14:53:28.677Z"
   },
   {
    "duration": 9,
    "start_time": "2023-10-25T14:53:28.817Z"
   },
   {
    "duration": 17,
    "start_time": "2023-10-25T14:53:28.828Z"
   },
   {
    "duration": 12,
    "start_time": "2023-10-25T14:53:28.846Z"
   },
   {
    "duration": 9,
    "start_time": "2023-10-25T14:53:28.859Z"
   },
   {
    "duration": 13,
    "start_time": "2023-10-25T14:53:28.869Z"
   },
   {
    "duration": 28,
    "start_time": "2023-10-25T14:53:28.883Z"
   },
   {
    "duration": 14,
    "start_time": "2023-10-25T14:53:28.912Z"
   },
   {
    "duration": 17,
    "start_time": "2023-10-25T14:53:28.928Z"
   },
   {
    "duration": 48,
    "start_time": "2023-10-25T14:53:28.946Z"
   },
   {
    "duration": 8,
    "start_time": "2023-10-25T14:53:28.996Z"
   },
   {
    "duration": 58,
    "start_time": "2023-10-25T14:53:29.014Z"
   },
   {
    "duration": 10,
    "start_time": "2023-10-25T14:53:29.074Z"
   },
   {
    "duration": 56,
    "start_time": "2023-10-25T14:53:29.086Z"
   },
   {
    "duration": 9,
    "start_time": "2023-10-25T14:53:29.151Z"
   },
   {
    "duration": 29,
    "start_time": "2023-10-25T14:53:29.161Z"
   },
   {
    "duration": 9,
    "start_time": "2023-10-25T14:53:29.191Z"
   },
   {
    "duration": 45,
    "start_time": "2023-10-25T14:53:29.201Z"
   },
   {
    "duration": 8,
    "start_time": "2023-10-25T14:53:29.255Z"
   },
   {
    "duration": 32,
    "start_time": "2023-10-25T14:53:29.265Z"
   },
   {
    "duration": 11,
    "start_time": "2023-10-25T14:53:29.299Z"
   },
   {
    "duration": 45,
    "start_time": "2023-10-25T14:53:29.311Z"
   },
   {
    "duration": 12,
    "start_time": "2023-10-25T14:53:29.358Z"
   },
   {
    "duration": 64,
    "start_time": "2023-10-25T14:53:29.372Z"
   },
   {
    "duration": 12,
    "start_time": "2023-10-25T14:53:29.437Z"
   },
   {
    "duration": 34,
    "start_time": "2023-10-25T14:53:29.453Z"
   },
   {
    "duration": 29,
    "start_time": "2023-10-25T14:53:29.489Z"
   },
   {
    "duration": 18,
    "start_time": "2023-10-25T14:53:29.527Z"
   },
   {
    "duration": 28,
    "start_time": "2023-10-25T14:53:29.550Z"
   },
   {
    "duration": 3,
    "start_time": "2023-10-25T14:53:29.580Z"
   },
   {
    "duration": 76,
    "start_time": "2023-10-25T14:53:29.585Z"
   },
   {
    "duration": 3,
    "start_time": "2023-10-25T14:53:29.663Z"
   },
   {
    "duration": 15,
    "start_time": "2023-10-25T14:53:29.667Z"
   },
   {
    "duration": 14,
    "start_time": "2023-10-25T14:53:29.683Z"
   },
   {
    "duration": 21,
    "start_time": "2023-10-25T14:53:29.698Z"
   },
   {
    "duration": 31,
    "start_time": "2023-10-25T14:53:29.721Z"
   },
   {
    "duration": 15,
    "start_time": "2023-10-25T14:53:29.755Z"
   },
   {
    "duration": 19,
    "start_time": "2023-10-25T14:53:29.772Z"
   },
   {
    "duration": 37,
    "start_time": "2023-10-25T14:53:29.793Z"
   },
   {
    "duration": 6,
    "start_time": "2023-10-25T14:53:41.778Z"
   },
   {
    "duration": 21,
    "start_time": "2023-10-25T14:53:50.589Z"
   },
   {
    "duration": 26,
    "start_time": "2023-10-25T14:54:13.785Z"
   },
   {
    "duration": 24,
    "start_time": "2023-10-25T14:54:28.047Z"
   },
   {
    "duration": 42,
    "start_time": "2023-10-25T14:57:09.717Z"
   },
   {
    "duration": 36,
    "start_time": "2023-10-25T14:57:21.009Z"
   },
   {
    "duration": 24,
    "start_time": "2023-10-25T14:57:32.682Z"
   },
   {
    "duration": 50,
    "start_time": "2023-10-25T14:57:45.172Z"
   },
   {
    "duration": 36,
    "start_time": "2023-10-25T14:58:18.836Z"
   },
   {
    "duration": 42,
    "start_time": "2023-10-25T14:58:32.704Z"
   },
   {
    "duration": 5,
    "start_time": "2023-10-25T15:11:09.559Z"
   },
   {
    "duration": 23,
    "start_time": "2023-10-25T15:11:15.345Z"
   },
   {
    "duration": 8,
    "start_time": "2023-10-25T15:14:03.860Z"
   },
   {
    "duration": 41,
    "start_time": "2023-10-25T15:14:20.293Z"
   },
   {
    "duration": 6,
    "start_time": "2023-10-25T15:17:02.066Z"
   },
   {
    "duration": 25,
    "start_time": "2023-10-25T15:17:15.359Z"
   },
   {
    "duration": 24,
    "start_time": "2023-10-25T15:22:07.541Z"
   },
   {
    "duration": 40,
    "start_time": "2023-10-25T15:22:37.831Z"
   },
   {
    "duration": 4,
    "start_time": "2023-11-04T10:24:46.715Z"
   },
   {
    "duration": 127,
    "start_time": "2023-11-04T10:24:46.721Z"
   },
   {
    "duration": 676,
    "start_time": "2023-11-04T10:24:46.850Z"
   },
   {
    "duration": 27,
    "start_time": "2023-11-04T10:24:47.528Z"
   },
   {
    "duration": 9,
    "start_time": "2023-11-04T10:24:47.557Z"
   },
   {
    "duration": 193,
    "start_time": "2023-11-04T10:24:47.567Z"
   },
   {
    "duration": 22,
    "start_time": "2023-11-04T10:24:47.761Z"
   },
   {
    "duration": 23,
    "start_time": "2023-11-04T10:24:47.785Z"
   },
   {
    "duration": 192,
    "start_time": "2023-11-04T10:24:47.810Z"
   },
   {
    "duration": 20,
    "start_time": "2023-11-04T10:24:48.004Z"
   },
   {
    "duration": 39,
    "start_time": "2023-11-04T10:24:48.026Z"
   },
   {
    "duration": 29,
    "start_time": "2023-11-04T10:24:48.066Z"
   },
   {
    "duration": 33,
    "start_time": "2023-11-04T10:24:48.097Z"
   },
   {
    "duration": 38,
    "start_time": "2023-11-04T10:24:48.131Z"
   },
   {
    "duration": 35,
    "start_time": "2023-11-04T10:24:48.171Z"
   },
   {
    "duration": 32,
    "start_time": "2023-11-04T10:24:48.207Z"
   },
   {
    "duration": 92,
    "start_time": "2023-11-04T10:24:48.240Z"
   },
   {
    "duration": 8,
    "start_time": "2023-11-04T10:24:48.333Z"
   },
   {
    "duration": 27,
    "start_time": "2023-11-04T10:24:48.343Z"
   },
   {
    "duration": 31,
    "start_time": "2023-11-04T10:24:48.371Z"
   },
   {
    "duration": 36,
    "start_time": "2023-11-04T10:24:48.404Z"
   },
   {
    "duration": 49,
    "start_time": "2023-11-04T10:24:48.442Z"
   },
   {
    "duration": 30,
    "start_time": "2023-11-04T10:24:48.493Z"
   },
   {
    "duration": 29,
    "start_time": "2023-11-04T10:24:48.525Z"
   },
   {
    "duration": 42,
    "start_time": "2023-11-04T10:24:48.556Z"
   },
   {
    "duration": 49,
    "start_time": "2023-11-04T10:24:48.599Z"
   },
   {
    "duration": 11,
    "start_time": "2023-11-04T10:24:48.650Z"
   },
   {
    "duration": 46,
    "start_time": "2023-11-04T10:24:48.663Z"
   },
   {
    "duration": 37,
    "start_time": "2023-11-04T10:24:48.713Z"
   },
   {
    "duration": 50,
    "start_time": "2023-11-04T10:24:48.751Z"
   },
   {
    "duration": 28,
    "start_time": "2023-11-04T10:24:48.803Z"
   },
   {
    "duration": 49,
    "start_time": "2023-11-04T10:24:48.832Z"
   },
   {
    "duration": 9,
    "start_time": "2023-11-04T10:24:48.884Z"
   },
   {
    "duration": 58,
    "start_time": "2023-11-04T10:24:48.895Z"
   },
   {
    "duration": 12,
    "start_time": "2023-11-04T10:24:48.955Z"
   },
   {
    "duration": 37,
    "start_time": "2023-11-04T10:24:48.968Z"
   },
   {
    "duration": 17,
    "start_time": "2023-11-04T10:24:49.007Z"
   },
   {
    "duration": 48,
    "start_time": "2023-11-04T10:24:49.025Z"
   },
   {
    "duration": 16,
    "start_time": "2023-11-04T10:24:49.075Z"
   },
   {
    "duration": 61,
    "start_time": "2023-11-04T10:24:49.093Z"
   },
   {
    "duration": 37,
    "start_time": "2023-11-04T10:24:49.155Z"
   },
   {
    "duration": 77,
    "start_time": "2023-11-04T10:24:49.193Z"
   },
   {
    "duration": 63,
    "start_time": "2023-11-04T10:24:49.272Z"
   },
   {
    "duration": 76,
    "start_time": "2023-11-04T10:24:49.337Z"
   },
   {
    "duration": 80,
    "start_time": "2023-11-04T10:24:49.415Z"
   },
   {
    "duration": 90,
    "start_time": "2023-11-04T10:24:49.497Z"
   },
   {
    "duration": 48,
    "start_time": "2023-11-04T10:24:49.589Z"
   },
   {
    "duration": 5,
    "start_time": "2023-11-04T10:24:49.639Z"
   },
   {
    "duration": 46,
    "start_time": "2023-11-04T10:24:49.645Z"
   },
   {
    "duration": 26,
    "start_time": "2023-11-04T10:24:49.693Z"
   },
   {
    "duration": 34,
    "start_time": "2023-11-04T10:24:49.720Z"
   },
   {
    "duration": 34,
    "start_time": "2023-11-04T10:24:49.756Z"
   },
   {
    "duration": 31,
    "start_time": "2023-11-04T10:24:49.792Z"
   },
   {
    "duration": 26,
    "start_time": "2023-11-04T10:24:49.824Z"
   },
   {
    "duration": 55,
    "start_time": "2023-11-04T10:24:49.852Z"
   },
   {
    "duration": 31,
    "start_time": "2023-11-04T10:24:49.908Z"
   },
   {
    "duration": 38,
    "start_time": "2023-11-04T10:24:49.941Z"
   },
   {
    "duration": 65,
    "start_time": "2023-11-04T10:24:49.981Z"
   },
   {
    "duration": 51,
    "start_time": "2023-11-04T10:24:50.047Z"
   },
   {
    "duration": 52,
    "start_time": "2023-11-04T10:24:50.100Z"
   },
   {
    "duration": 45,
    "start_time": "2023-11-04T10:24:50.154Z"
   },
   {
    "duration": 51,
    "start_time": "2023-11-04T10:24:50.201Z"
   },
   {
    "duration": 32,
    "start_time": "2023-11-04T10:40:05.535Z"
   },
   {
    "duration": 29,
    "start_time": "2023-11-04T10:40:11.102Z"
   },
   {
    "duration": 41,
    "start_time": "2023-11-04T10:41:45.495Z"
   },
   {
    "duration": 37,
    "start_time": "2023-11-04T10:46:52.126Z"
   },
   {
    "duration": 28,
    "start_time": "2023-11-04T10:46:52.946Z"
   },
   {
    "duration": 66,
    "start_time": "2023-11-04T10:57:09.975Z"
   },
   {
    "duration": 81,
    "start_time": "2023-11-04T10:59:45.360Z"
   },
   {
    "duration": 584,
    "start_time": "2023-11-04T11:00:03.073Z"
   },
   {
    "duration": 304,
    "start_time": "2023-11-04T11:00:10.837Z"
   },
   {
    "duration": 37,
    "start_time": "2023-11-04T11:22:32.444Z"
   },
   {
    "duration": 240,
    "start_time": "2023-11-04T11:25:05.414Z"
   },
   {
    "duration": 249,
    "start_time": "2023-11-04T16:30:53.148Z"
   },
   {
    "duration": 407,
    "start_time": "2023-11-04T16:32:46.344Z"
   },
   {
    "duration": 243,
    "start_time": "2023-11-04T16:39:42.351Z"
   },
   {
    "duration": 23,
    "start_time": "2023-11-04T16:43:06.287Z"
   },
   {
    "duration": 311,
    "start_time": "2023-11-04T16:48:53.158Z"
   },
   {
    "duration": 307,
    "start_time": "2023-11-04T16:49:11.334Z"
   },
   {
    "duration": 218,
    "start_time": "2023-11-04T16:58:03.478Z"
   },
   {
    "duration": 49,
    "start_time": "2023-11-04T16:59:02.442Z"
   },
   {
    "duration": 314,
    "start_time": "2023-11-04T16:59:10.358Z"
   },
   {
    "duration": 335,
    "start_time": "2023-11-04T17:01:33.845Z"
   },
   {
    "duration": 4,
    "start_time": "2023-11-04T17:01:41.033Z"
   },
   {
    "duration": 234,
    "start_time": "2023-11-04T17:04:23.461Z"
   },
   {
    "duration": 226,
    "start_time": "2023-11-04T17:05:34.904Z"
   },
   {
    "duration": 195,
    "start_time": "2023-11-04T17:22:07.612Z"
   },
   {
    "duration": 243,
    "start_time": "2023-11-04T17:22:33.359Z"
   },
   {
    "duration": 315,
    "start_time": "2023-11-04T17:23:21.208Z"
   },
   {
    "duration": 451,
    "start_time": "2023-11-04T17:30:15.871Z"
   },
   {
    "duration": 22,
    "start_time": "2023-11-04T17:35:35.422Z"
   },
   {
    "duration": 8,
    "start_time": "2023-11-04T17:36:03.333Z"
   },
   {
    "duration": 10,
    "start_time": "2023-11-04T17:36:17.365Z"
   },
   {
    "duration": 12,
    "start_time": "2023-11-04T17:36:43.025Z"
   },
   {
    "duration": 288,
    "start_time": "2023-11-04T17:38:09.641Z"
   },
   {
    "duration": 14,
    "start_time": "2023-11-04T17:41:20.976Z"
   },
   {
    "duration": 10,
    "start_time": "2023-11-04T17:41:27.161Z"
   },
   {
    "duration": 15,
    "start_time": "2023-11-04T17:49:32.941Z"
   },
   {
    "duration": 9,
    "start_time": "2023-11-04T17:49:49.284Z"
   },
   {
    "duration": 85,
    "start_time": "2023-11-04T17:50:27.043Z"
   },
   {
    "duration": 13,
    "start_time": "2023-11-04T17:50:31.972Z"
   },
   {
    "duration": 7,
    "start_time": "2023-11-04T17:50:37.176Z"
   },
   {
    "duration": 20,
    "start_time": "2023-11-04T17:50:47.609Z"
   },
   {
    "duration": 273,
    "start_time": "2023-11-04T18:08:40.322Z"
   },
   {
    "duration": 294,
    "start_time": "2023-11-04T18:09:32.063Z"
   },
   {
    "duration": 262,
    "start_time": "2023-11-04T18:40:24.355Z"
   },
   {
    "duration": 363,
    "start_time": "2023-11-04T18:41:24.346Z"
   },
   {
    "duration": 23,
    "start_time": "2023-11-04T18:45:33.514Z"
   },
   {
    "duration": 16,
    "start_time": "2023-11-04T18:46:05.178Z"
   },
   {
    "duration": 261,
    "start_time": "2023-11-04T18:46:35.237Z"
   },
   {
    "duration": 16,
    "start_time": "2023-11-04T18:46:51.345Z"
   },
   {
    "duration": 10,
    "start_time": "2023-11-04T18:48:33.581Z"
   },
   {
    "duration": 1166,
    "start_time": "2023-11-04T18:48:55.733Z"
   },
   {
    "duration": 11,
    "start_time": "2023-11-04T18:49:08.381Z"
   },
   {
    "duration": 283,
    "start_time": "2023-11-04T18:58:08.968Z"
   },
   {
    "duration": 350,
    "start_time": "2023-11-04T18:58:25.819Z"
   },
   {
    "duration": 256,
    "start_time": "2023-11-04T19:07:05.551Z"
   },
   {
    "duration": 251,
    "start_time": "2023-11-04T19:16:04.150Z"
   },
   {
    "duration": 30,
    "start_time": "2023-11-04T19:19:22.874Z"
   },
   {
    "duration": 12,
    "start_time": "2023-11-04T19:19:36.378Z"
   },
   {
    "duration": 10,
    "start_time": "2023-11-04T19:21:07.562Z"
   },
   {
    "duration": 11,
    "start_time": "2023-11-04T19:21:33.041Z"
   },
   {
    "duration": 3,
    "start_time": "2023-11-04T19:46:04.133Z"
   },
   {
    "duration": 14,
    "start_time": "2023-11-04T19:48:07.508Z"
   },
   {
    "duration": 12,
    "start_time": "2023-11-04T19:55:31.803Z"
   },
   {
    "duration": 11,
    "start_time": "2023-11-04T20:06:37.006Z"
   },
   {
    "duration": 4,
    "start_time": "2023-11-04T20:06:54.466Z"
   },
   {
    "duration": 31,
    "start_time": "2023-11-04T20:07:08.090Z"
   },
   {
    "duration": 167,
    "start_time": "2023-11-04T20:07:54.229Z"
   },
   {
    "duration": 4,
    "start_time": "2023-11-04T20:09:18.045Z"
   },
   {
    "duration": 4,
    "start_time": "2023-11-04T20:10:00.162Z"
   },
   {
    "duration": 5,
    "start_time": "2023-11-04T20:10:37.280Z"
   },
   {
    "duration": 10,
    "start_time": "2023-11-04T20:11:33.129Z"
   },
   {
    "duration": 5,
    "start_time": "2023-11-04T20:14:34.797Z"
   },
   {
    "duration": 5,
    "start_time": "2023-11-04T20:14:45.821Z"
   },
   {
    "duration": 4,
    "start_time": "2023-11-04T20:15:24.661Z"
   }
  ],
  "kernelspec": {
   "display_name": "Python 3 (ipykernel)",
   "language": "python",
   "name": "python3"
  },
  "language_info": {
   "codemirror_mode": {
    "name": "ipython",
    "version": 3
   },
   "file_extension": ".py",
   "mimetype": "text/x-python",
   "name": "python",
   "nbconvert_exporter": "python",
   "pygments_lexer": "ipython3",
   "version": "3.9.5"
  },
  "toc": {
   "base_numbering": 1,
   "nav_menu": {},
   "number_sections": true,
   "sideBar": true,
   "skip_h1_title": true,
   "title_cell": "Table of Contents",
   "title_sidebar": "Contents",
   "toc_cell": false,
   "toc_position": {},
   "toc_section_display": true,
   "toc_window_display": false
  }
 },
 "nbformat": 4,
 "nbformat_minor": 5
}
