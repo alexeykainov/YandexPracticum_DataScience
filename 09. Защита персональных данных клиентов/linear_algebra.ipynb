{
 "cells": [
  {
   "cell_type": "markdown",
   "metadata": {
    "id": "ARaEI2dk1ZzU"
   },
   "source": [
    "# Защита персональных данных клиентов"
   ]
  },
  {
   "cell_type": "markdown",
   "metadata": {
    "id": "a8mm-_rt1Zzc"
   },
   "source": [
    "**Описание проектной работы**\n",
    "\n",
    "В данной работе нужно защитить данные клиентов страховой компании «Хоть потоп». Необходимо разработать такой метод преобразования данных, чтобы по ним было сложно восстановить персональную информацию. Также предстоит обосновать корректность его работы.\n",
    "\n",
    "**Цель проекта**\n",
    "\n",
    "Нужно защитить данные таким образом, чтобы при преобразовании качество моделей машинного обучения не ухудшилось. Подбирать наилучшую модель не требуется.\n",
    "\n",
    "**Ход работы**\n",
    "\n",
    "   1. Загрузка и изучение данных.\n",
    "   2. Ответ на вопрос и обоснование решения.  \n",
    "     \n",
    "     Признаки умножают на обратимую матрицу. Изменится ли качество линейной регрессии? (Её можно обучить заново):    \n",
    "           \n",
    "     a. Изменится. Привести примеры матриц.                \n",
    "     b. Не изменится. Указать, как связаны параметры линейной регрессии в исходной задаче и в преобразованной.\n",
    "        \n",
    "   3. Предложение алгоритма преобразования данных для решения задачи. Обоснование, почему качество линейной регрессии не поменяется.\n",
    "   \n",
    "   4. Разработка алгоритма, применив матричные операции. Проверка, что качество линейной регрессии из `sklearn` не отличается до и после преобразования. Использование метрики `R2`.\n",
    "   \n",
    "**Описание данных**\n",
    "\n",
    "   - `Признаки`: пол, возраст и зарплата застрахованного, количество членов его семьи.\n",
    "   - `Целевой признак`: количество страховых выплат клиенту за последние 5 лет."
   ]
  },
  {
   "cell_type": "markdown",
   "metadata": {
    "id": "R7NmGUJI1ZzO",
    "toc": true
   },
   "source": [
    "<h1>Содержание<span class=\"tocSkip\"></span></h1>\n",
    "<div class=\"toc\"><ul class=\"toc-item\"><li><span><a href=\"#Загрузка-и-изучение-данных\" data-toc-modified-id=\"Загрузка-и-изучение-данных-1\"><span class=\"toc-item-num\">1&nbsp;&nbsp;</span>Загрузка и изучение данных</a></span></li><li><span><a href=\"#Умножение-матриц\" data-toc-modified-id=\"Умножение-матриц-2\"><span class=\"toc-item-num\">2&nbsp;&nbsp;</span>Умножение матриц</a></span></li><li><span><a href=\"#Алгоритм-преобразования\" data-toc-modified-id=\"Алгоритм-преобразования-3\"><span class=\"toc-item-num\">3&nbsp;&nbsp;</span>Алгоритм преобразования</a></span></li><li><span><a href=\"#Проверка-алгоритма\" data-toc-modified-id=\"Проверка-алгоритма-4\"><span class=\"toc-item-num\">4&nbsp;&nbsp;</span>Проверка алгоритма</a></span></li><li><span><a href=\"#Выводы\" data-toc-modified-id=\"Выводы-5\"><span class=\"toc-item-num\">5&nbsp;&nbsp;</span>Выводы</a></span></li></ul></div>"
   ]
  },
  {
   "cell_type": "markdown",
   "metadata": {
    "id": "-mPBO25s1Zzd"
   },
   "source": [
    "## Загрузка и изучение данных"
   ]
  },
  {
   "cell_type": "markdown",
   "metadata": {},
   "source": [
    "[Назад к содержанию](#Содержание)"
   ]
  },
  {
   "cell_type": "markdown",
   "metadata": {
    "id": "nkxmfXfSjXye"
   },
   "source": [
    "Импортируем необходимые бибилотеки"
   ]
  },
  {
   "cell_type": "code",
   "execution_count": 1,
   "metadata": {
    "id": "0g8uKzRB1Zzd"
   },
   "outputs": [],
   "source": [
    "# импорт библиотек:\n",
    "\n",
    "import pandas as pd\n",
    "import numpy as np\n",
    "import seaborn as sns\n",
    "\n",
    "from sklearn.linear_model import LinearRegression\n",
    "from sklearn.preprocessing import StandardScaler\n",
    "from sklearn.model_selection import train_test_split\n",
    "from sklearn.metrics import r2_score\n"
   ]
  },
  {
   "cell_type": "code",
   "execution_count": 2,
   "metadata": {
    "colab": {
     "base_uri": "https://localhost:8080/"
    },
    "id": "SmmQegRc1Zzm",
    "outputId": "1babbc97-a41f-4608-9fe0-0ed7fcf3bb5a"
   },
   "outputs": [
    {
     "name": "stdout",
     "output_type": "stream",
     "text": [
      "Ok, датафрейм сформирован!\n"
     ]
    }
   ],
   "source": [
    "data = pd.read_csv('/datasets/insurance.csv')\n",
    "print('Ok, датафрейм сформирован!')"
   ]
  },
  {
   "cell_type": "code",
   "execution_count": 3,
   "metadata": {
    "colab": {
     "base_uri": "https://localhost:8080/",
     "height": 300
    },
    "id": "hR4_G7uQ1Zzn",
    "outputId": "3d4fd7cb-d6fe-4c5b-c13e-6d2e7794f830"
   },
   "outputs": [
    {
     "data": {
      "text/html": [
       "<div>\n",
       "<style scoped>\n",
       "    .dataframe tbody tr th:only-of-type {\n",
       "        vertical-align: middle;\n",
       "    }\n",
       "\n",
       "    .dataframe tbody tr th {\n",
       "        vertical-align: top;\n",
       "    }\n",
       "\n",
       "    .dataframe thead th {\n",
       "        text-align: right;\n",
       "    }\n",
       "</style>\n",
       "<table border=\"1\" class=\"dataframe\">\n",
       "  <thead>\n",
       "    <tr style=\"text-align: right;\">\n",
       "      <th></th>\n",
       "      <th>Пол</th>\n",
       "      <th>Возраст</th>\n",
       "      <th>Зарплата</th>\n",
       "      <th>Члены семьи</th>\n",
       "      <th>Страховые выплаты</th>\n",
       "    </tr>\n",
       "  </thead>\n",
       "  <tbody>\n",
       "    <tr>\n",
       "      <th>count</th>\n",
       "      <td>5000.000000</td>\n",
       "      <td>5000.000000</td>\n",
       "      <td>5000.000000</td>\n",
       "      <td>5000.000000</td>\n",
       "      <td>5000.000000</td>\n",
       "    </tr>\n",
       "    <tr>\n",
       "      <th>mean</th>\n",
       "      <td>0.499000</td>\n",
       "      <td>30.952800</td>\n",
       "      <td>39916.360000</td>\n",
       "      <td>1.194200</td>\n",
       "      <td>0.148000</td>\n",
       "    </tr>\n",
       "    <tr>\n",
       "      <th>std</th>\n",
       "      <td>0.500049</td>\n",
       "      <td>8.440807</td>\n",
       "      <td>9900.083569</td>\n",
       "      <td>1.091387</td>\n",
       "      <td>0.463183</td>\n",
       "    </tr>\n",
       "    <tr>\n",
       "      <th>min</th>\n",
       "      <td>0.000000</td>\n",
       "      <td>18.000000</td>\n",
       "      <td>5300.000000</td>\n",
       "      <td>0.000000</td>\n",
       "      <td>0.000000</td>\n",
       "    </tr>\n",
       "    <tr>\n",
       "      <th>25%</th>\n",
       "      <td>0.000000</td>\n",
       "      <td>24.000000</td>\n",
       "      <td>33300.000000</td>\n",
       "      <td>0.000000</td>\n",
       "      <td>0.000000</td>\n",
       "    </tr>\n",
       "    <tr>\n",
       "      <th>50%</th>\n",
       "      <td>0.000000</td>\n",
       "      <td>30.000000</td>\n",
       "      <td>40200.000000</td>\n",
       "      <td>1.000000</td>\n",
       "      <td>0.000000</td>\n",
       "    </tr>\n",
       "    <tr>\n",
       "      <th>75%</th>\n",
       "      <td>1.000000</td>\n",
       "      <td>37.000000</td>\n",
       "      <td>46600.000000</td>\n",
       "      <td>2.000000</td>\n",
       "      <td>0.000000</td>\n",
       "    </tr>\n",
       "    <tr>\n",
       "      <th>max</th>\n",
       "      <td>1.000000</td>\n",
       "      <td>65.000000</td>\n",
       "      <td>79000.000000</td>\n",
       "      <td>6.000000</td>\n",
       "      <td>5.000000</td>\n",
       "    </tr>\n",
       "  </tbody>\n",
       "</table>\n",
       "</div>"
      ],
      "text/plain": [
       "               Пол      Возраст      Зарплата  Члены семьи  Страховые выплаты\n",
       "count  5000.000000  5000.000000   5000.000000  5000.000000        5000.000000\n",
       "mean      0.499000    30.952800  39916.360000     1.194200           0.148000\n",
       "std       0.500049     8.440807   9900.083569     1.091387           0.463183\n",
       "min       0.000000    18.000000   5300.000000     0.000000           0.000000\n",
       "25%       0.000000    24.000000  33300.000000     0.000000           0.000000\n",
       "50%       0.000000    30.000000  40200.000000     1.000000           0.000000\n",
       "75%       1.000000    37.000000  46600.000000     2.000000           0.000000\n",
       "max       1.000000    65.000000  79000.000000     6.000000           5.000000"
      ]
     },
     "execution_count": 3,
     "metadata": {},
     "output_type": "execute_result"
    }
   ],
   "source": [
    "# проанализируем датафрейм с помощью метода describe():\n",
    "\n",
    "data.describe()"
   ]
  },
  {
   "cell_type": "markdown",
   "metadata": {
    "id": "RejczG78kvNG"
   },
   "source": [
    "Можно отметить разный масштаб принимаемых значений у признаков."
   ]
  },
  {
   "cell_type": "code",
   "execution_count": 4,
   "metadata": {
    "colab": {
     "base_uri": "https://localhost:8080/"
    },
    "id": "JZvuEK6C1Zzo",
    "outputId": "5f8a51ec-91a7-4f85-cc60-58feefd9c8cc"
   },
   "outputs": [
    {
     "name": "stdout",
     "output_type": "stream",
     "text": [
      "<class 'pandas.core.frame.DataFrame'>\n",
      "RangeIndex: 5000 entries, 0 to 4999\n",
      "Data columns (total 5 columns):\n",
      " #   Column             Non-Null Count  Dtype  \n",
      "---  ------             --------------  -----  \n",
      " 0   Пол                5000 non-null   int64  \n",
      " 1   Возраст            5000 non-null   float64\n",
      " 2   Зарплата           5000 non-null   float64\n",
      " 3   Члены семьи        5000 non-null   int64  \n",
      " 4   Страховые выплаты  5000 non-null   int64  \n",
      "dtypes: float64(2), int64(3)\n",
      "memory usage: 195.4 KB\n"
     ]
    }
   ],
   "source": [
    "# вывод общей информации о датафрейме:\n",
    "\n",
    "data.info()"
   ]
  },
  {
   "cell_type": "markdown",
   "metadata": {
    "id": "w4PwMSJKlYXT"
   },
   "source": [
    "Перед нами датафрейм с `5000` объектами и `5` признаками. Форматы записи признаков не требуют дополнительного преобразования и подходят для дальнейшей работы. Пропуски отсутствуют, убедимся в этом, с помощью следующего кода."
   ]
  },
  {
   "cell_type": "code",
   "execution_count": 5,
   "metadata": {
    "colab": {
     "base_uri": "https://localhost:8080/"
    },
    "id": "BfCm3tJbmQ0O",
    "outputId": "4ee2254f-0b12-4d88-b7c4-6843bbf46c2c"
   },
   "outputs": [
    {
     "data": {
      "text/plain": [
       "Пол                  0\n",
       "Возраст              0\n",
       "Зарплата             0\n",
       "Члены семьи          0\n",
       "Страховые выплаты    0\n",
       "dtype: int64"
      ]
     },
     "execution_count": 5,
     "metadata": {},
     "output_type": "execute_result"
    }
   ],
   "source": [
    "# проверка на наличие пропусков:\n",
    "\n",
    "data.isna().sum()"
   ]
  },
  {
   "cell_type": "markdown",
   "metadata": {
    "id": "1-22dcGumuqY"
   },
   "source": [
    "Подтвердили отсутствие пропусков. Проверим на явные дубликаты."
   ]
  },
  {
   "cell_type": "code",
   "execution_count": 6,
   "metadata": {
    "colab": {
     "base_uri": "https://localhost:8080/"
    },
    "id": "fTudQ4Cn1Zzs",
    "outputId": "aedae079-8f5d-4259-e255-4d517682b218"
   },
   "outputs": [
    {
     "data": {
      "text/plain": [
       "153"
      ]
     },
     "execution_count": 6,
     "metadata": {},
     "output_type": "execute_result"
    }
   ],
   "source": [
    "# проверка на дубликаты:\n",
    "\n",
    "data.duplicated().sum()"
   ]
  },
  {
   "cell_type": "markdown",
   "metadata": {
    "id": "CoTFmhM-m_Nj"
   },
   "source": [
    "Выявили явные дубликаты. Выведем несколько строк-дубликатов."
   ]
  },
  {
   "cell_type": "code",
   "execution_count": 7,
   "metadata": {
    "colab": {
     "base_uri": "https://localhost:8080/",
     "height": 424
    },
    "id": "x2kQtbWBnKoa",
    "outputId": "116d26e7-a4f5-4ba6-9a97-10f0049dc55c"
   },
   "outputs": [
    {
     "data": {
      "text/html": [
       "<div>\n",
       "<style scoped>\n",
       "    .dataframe tbody tr th:only-of-type {\n",
       "        vertical-align: middle;\n",
       "    }\n",
       "\n",
       "    .dataframe tbody tr th {\n",
       "        vertical-align: top;\n",
       "    }\n",
       "\n",
       "    .dataframe thead th {\n",
       "        text-align: right;\n",
       "    }\n",
       "</style>\n",
       "<table border=\"1\" class=\"dataframe\">\n",
       "  <thead>\n",
       "    <tr style=\"text-align: right;\">\n",
       "      <th></th>\n",
       "      <th>Пол</th>\n",
       "      <th>Возраст</th>\n",
       "      <th>Зарплата</th>\n",
       "      <th>Члены семьи</th>\n",
       "      <th>Страховые выплаты</th>\n",
       "    </tr>\n",
       "  </thead>\n",
       "  <tbody>\n",
       "    <tr>\n",
       "      <th>281</th>\n",
       "      <td>1</td>\n",
       "      <td>39.0</td>\n",
       "      <td>48100.0</td>\n",
       "      <td>1</td>\n",
       "      <td>0</td>\n",
       "    </tr>\n",
       "    <tr>\n",
       "      <th>488</th>\n",
       "      <td>1</td>\n",
       "      <td>24.0</td>\n",
       "      <td>32900.0</td>\n",
       "      <td>1</td>\n",
       "      <td>0</td>\n",
       "    </tr>\n",
       "    <tr>\n",
       "      <th>513</th>\n",
       "      <td>0</td>\n",
       "      <td>31.0</td>\n",
       "      <td>37400.0</td>\n",
       "      <td>2</td>\n",
       "      <td>0</td>\n",
       "    </tr>\n",
       "    <tr>\n",
       "      <th>718</th>\n",
       "      <td>1</td>\n",
       "      <td>22.0</td>\n",
       "      <td>32600.0</td>\n",
       "      <td>1</td>\n",
       "      <td>0</td>\n",
       "    </tr>\n",
       "    <tr>\n",
       "      <th>785</th>\n",
       "      <td>0</td>\n",
       "      <td>20.0</td>\n",
       "      <td>35800.0</td>\n",
       "      <td>0</td>\n",
       "      <td>0</td>\n",
       "    </tr>\n",
       "  </tbody>\n",
       "</table>\n",
       "</div>"
      ],
      "text/plain": [
       "     Пол  Возраст  Зарплата  Члены семьи  Страховые выплаты\n",
       "281    1     39.0   48100.0            1                  0\n",
       "488    1     24.0   32900.0            1                  0\n",
       "513    0     31.0   37400.0            2                  0\n",
       "718    1     22.0   32600.0            1                  0\n",
       "785    0     20.0   35800.0            0                  0"
      ]
     },
     "execution_count": 7,
     "metadata": {},
     "output_type": "execute_result"
    }
   ],
   "source": [
    "# вывод строк-дубликатов:\n",
    "\n",
    "duplicated_rows = data[data.duplicated()]\n",
    "duplicated_rows.head()"
   ]
  },
  {
   "cell_type": "markdown",
   "metadata": {
    "id": "uFlySgWynLPX"
   },
   "source": [
    "Скорее всего в датафрейм попали действительно явные дубликаты. Т.к. вряд ли найдутся персональные данные разных людей с одинаковым возрастом, зарплатой и т.п. Поэтому удалим повторяющиеся объекты."
   ]
  },
  {
   "cell_type": "code",
   "execution_count": 8,
   "metadata": {
    "id": "a8wAhfCenLoD"
   },
   "outputs": [],
   "source": [
    "# удаление дубликатов:\n",
    "\n",
    "data.drop_duplicates(inplace=True)"
   ]
  },
  {
   "cell_type": "code",
   "execution_count": 9,
   "metadata": {
    "id": "4WiB8-GyqoH5"
   },
   "outputs": [],
   "source": [
    "# сброс индексов:\n",
    "\n",
    "data = data.reset_index()"
   ]
  },
  {
   "cell_type": "code",
   "execution_count": 10,
   "metadata": {
    "colab": {
     "base_uri": "https://localhost:8080/"
    },
    "id": "c9XadPBMqO0t",
    "outputId": "53682ea8-a13f-47fa-9228-980b981ad2a2"
   },
   "outputs": [
    {
     "data": {
      "text/plain": [
       "0"
      ]
     },
     "execution_count": 10,
     "metadata": {},
     "output_type": "execute_result"
    }
   ],
   "source": [
    "# проверка на дубликаты:\n",
    "\n",
    "data.duplicated().sum()"
   ]
  },
  {
   "cell_type": "code",
   "execution_count": 11,
   "metadata": {
    "colab": {
     "base_uri": "https://localhost:8080/"
    },
    "id": "zute-b9NqO4G",
    "outputId": "65ab4953-823c-44d5-c660-e861befbcd31"
   },
   "outputs": [
    {
     "name": "stdout",
     "output_type": "stream",
     "text": [
      "<class 'pandas.core.frame.DataFrame'>\n",
      "RangeIndex: 4847 entries, 0 to 4846\n",
      "Data columns (total 6 columns):\n",
      " #   Column             Non-Null Count  Dtype  \n",
      "---  ------             --------------  -----  \n",
      " 0   index              4847 non-null   int64  \n",
      " 1   Пол                4847 non-null   int64  \n",
      " 2   Возраст            4847 non-null   float64\n",
      " 3   Зарплата           4847 non-null   float64\n",
      " 4   Члены семьи        4847 non-null   int64  \n",
      " 5   Страховые выплаты  4847 non-null   int64  \n",
      "dtypes: float64(2), int64(4)\n",
      "memory usage: 227.3 KB\n"
     ]
    }
   ],
   "source": [
    "# вывод общей информации:\n",
    "\n",
    "data.info()"
   ]
  },
  {
   "cell_type": "code",
   "execution_count": 12,
   "metadata": {
    "colab": {
     "base_uri": "https://localhost:8080/",
     "height": 877
    },
    "id": "oVG4tSWhtvzi",
    "outputId": "cddfb038-49ef-41bc-8746-f0d36d1f35f6"
   },
   "outputs": [
    {
     "data": {
      "image/png": "[encoded data removed]",
      "text/plain": [
       "<Figure size 1080x1080 with 42 Axes>"
      ]
     },
     "metadata": {
      "needs_background": "light"
     },
     "output_type": "display_data"
    }
   ],
   "source": [
    "# построение диаграмм рассеяния по всем данным для датафрейма:\n",
    "\n",
    "sns.pairplot(data);"
   ]
  },
  {
   "cell_type": "markdown",
   "metadata": {
    "id": "qwQVhha7nL0E"
   },
   "source": [
    "Загрузили и изучили данные. Аномальных значений не обнаружено. В датасете присутствовало `153` дубликата - избавились от них. Сейчас датафрейм состоит из `4847` объекта и `5` признаков. Значения признаков принимают различный масштаб.\n",
    "\n",
    "Переходим к следующему шагу."
   ]
  },
  {
   "cell_type": "markdown",
   "metadata": {
    "id": "QXTOCd9P1Zzt"
   },
   "source": [
    "## Умножение матриц"
   ]
  },
  {
   "cell_type": "markdown",
   "metadata": {},
   "source": [
    "[Назад к содержанию](#Содержание)"
   ]
  },
  {
   "cell_type": "markdown",
   "metadata": {
    "id": "_Cd5WbuXxof6"
   },
   "source": [
    "Проверим изменится ли качество линейной регрессии при умножении признаков на обратимую матрицу."
   ]
  },
  {
   "cell_type": "markdown",
   "metadata": {
    "id": "d0PlHQ6T1Zz0"
   },
   "source": [
    "Введем следующие обозначения:\n",
    "\n",
    "- $X$ — матрица признаков (нулевой столбец состоит из единиц)\n",
    "\n",
    "- $X1$ - преобразованная матрица - матрица признаков, умноженная на обратимую матрицу $P$: $X1 = X*P$ \n",
    "\n",
    "- $y$ — вектор целевого признака\n",
    "\n",
    "- $P$ — обратимая матрица, на которую умножаются признаки\n",
    "\n",
    "- $w$ — вектор весов линейной регрессии (нулевой элемент равен сдвигу)\n",
    "- $w1$ - вектор весов преобразованной линейной регрессии (нулевой элемент равен сдвигу)"
   ]
  },
  {
   "cell_type": "markdown",
   "metadata": {
    "id": "iyYFcz4D1Zz0"
   },
   "source": [
    "Предсказания:\n",
    "\n",
    "$$\n",
    "a = Xw\n",
    "$$\n",
    "\n",
    "Задача обучения:\n",
    "\n",
    "$$\n",
    "w = \\arg\\min_w MSE(Xw, y)\n",
    "$$\n",
    "\n",
    "Формула обучения:\n",
    "\n",
    "$$\n",
    "w = (X^T X)^{-1} X^T y\n",
    "$$"
   ]
  },
  {
   "cell_type": "markdown",
   "metadata": {
    "id": "UYQcOVOWCKCF"
   },
   "source": [
    "Выведем формулу предсказания для преобразованной матрицы, обозначим ее $a1$:\n",
    "\n",
    "$$\n",
    "a1 = X1*w1,\n",
    "$$\n",
    "\n",
    "где: \n",
    "\n",
    "- $w1$ - вектор весов преобразованной матрицы;\n",
    "- $X1 = X*P$ - преобразованная матрица"
   ]
  },
  {
   "cell_type": "markdown",
   "metadata": {
    "id": "ymShn6vlpfsq"
   },
   "source": [
    "В соответствии с данными формулами произведем преобразование значения предсказания $a$:\n",
    "\n",
    "$$\n",
    "a = X*(X^T X)^{-1} X^T y\n",
    "$$"
   ]
  },
  {
   "cell_type": "markdown",
   "metadata": {
    "id": "UVmvbaTGCKGJ"
   },
   "source": [
    "Теперь рассмотрим преобразованную матрицу $X1$ - она равна произведению матрицы признаков ($X$) с нулевым столбцом, состоящим из единиц, и без учета целевого признака на произвольную обратимую матрицу ($P$).\n",
    "\n",
    "Матрица $X$ размером 5 (столбцов) х 4847 (строк)\n",
    "\n",
    "Согласно правилам умножения матриц, умножение матрицы на матрицу возможно, если ширина первой матрицы $X$ (𝑚×𝑛) равна высоте второй матрицы $P$ (𝑛×r). Т.е. обратимая матрица $P$ должна состоять из 5 строк. Обратимая матрица по своему определению должна быть квадратной, т.е. обратимая матрица $P$ должна быть размером 5 (столбцов) х 5 (строк).\n",
    "\n",
    "Далее распишем вектор весов преобразованной матрицы $w1$.\n",
    "\n",
    "$$\n",
    "w1 = (X1^T X1)^{-1} X1^T y = ((XP)^TXP)^{-1}(XP)^Ty\n",
    "$$\n",
    "\n",
    "Раскроем скобки по правилу: $(AB)^T = B^TA^T$\n",
    "\n",
    "$$\n",
    "w1 = (P^TX^TXP)^{-1}*P^TX^Ty = (P^T(X^TX)P)^{-1}*P^TX^Ty = P^{-1}(X^TX)^{-1}*(P^T)^{-1}*P^TX^Ty\n",
    "$$\n",
    "\n",
    "\n",
    "\n"
   ]
  },
  {
   "cell_type": "markdown",
   "metadata": {
    "id": "q3pM6kLWCKMN"
   },
   "source": [
    "Рассмотрим произведение $(P^T)^{-1}*P^T$\n",
    "\n",
    "Матрица $P^T$ является квадратной. Поэтому данное произведение $(P^T)^{-1}*P^T$ будет равно единичной матрице $E$ согласно формуле: \n",
    "\n",
    "$$AA^{-1} = A^{-1}A = E\n",
    "$$\n",
    "\n",
    "Примем во внимание следующее утверждение: если любую матрицу A умножить на единичную (или наоборот), получится эта же матрица A: \n",
    "\n",
    "$$\n",
    "AE = EA = A\n",
    "$$ \n",
    "\n",
    "В соответствии с этим вектор $w1$ будет равен:\n",
    "\n",
    "$$\n",
    "w1 = P^{-1}(X^TX)^{-1}*E*X^Ty = P^{-1}(X^TX)^{-1}*X^Ty\n",
    "$$\n",
    "\n",
    "Подставим полученное выражение в формулу предсказания для преобразованной матрицы 𝑎1:\n",
    "\n",
    "$$\n",
    "a1 = X1*w1 = XP*P^{-1}(X^TX)^{-1}*X^Ty = X*E*(X^TX)^{-1}*X^Ty = X(X^TX)^{-1}*X^Ty = a\n",
    "$$\n",
    "\n",
    "Таким образом доказали, что $a = a1$. Это означает, что при умножении признаков на обратимую матрицу предсказания останутся прежними."
   ]
  },
  {
   "cell_type": "markdown",
   "metadata": {
    "id": "7sKLnIjMCKO8"
   },
   "source": [
    "  - **Вывод**\n",
    "\n",
    "Доказали, что качество линейной регрессии при умножении признаков на обратимую матрицу не ухудшится."
   ]
  },
  {
   "cell_type": "markdown",
   "metadata": {},
   "source": [
    "Теперь ответим на вопрос: \"Как связаны параметры линейной регрессии в исходной задаче и в преобразованной\"?"
   ]
  },
  {
   "cell_type": "markdown",
   "metadata": {},
   "source": [
    "Ранее при доказательстве утверждения о том, что при умножении признаков на обратимую матрицу качество модели не ухудшится, была выведена следующая формула:\n",
    "\n",
    "$$\n",
    "w_p = P^{-1}(X^TX)^{-1}*X^Ty\n",
    "$$\n",
    "\n",
    "Выражение $(X^TX)^{-1}*X^Ty$ равно $w$, т.е.:\n",
    "\n",
    "$$\n",
    "w_p = P^{-1}w\n",
    "$$\n",
    "\n",
    "  - **Вывод**\n",
    "\n",
    "Т.е. параметры линейной регрессии в исходной задаче и в преобразованной связаны линейно и определяются полученной формулой."
   ]
  },
  {
   "cell_type": "markdown",
   "metadata": {
    "id": "DASu2KXw1Zz4"
   },
   "source": [
    "## Алгоритм преобразования"
   ]
  },
  {
   "cell_type": "markdown",
   "metadata": {},
   "source": [
    "[Назад к содержанию](#Содержание)"
   ]
  },
  {
   "cell_type": "markdown",
   "metadata": {
    "id": "GbHSSm5vtm59"
   },
   "source": [
    "Предложим алгоритм преобразования данных для решения задачи. \n",
    "\n",
    "Приведём обоснование вопроса, почему качество линейной регрессии не поменяется."
   ]
  },
  {
   "cell_type": "markdown",
   "metadata": {
    "id": "gcGYv9q9t-Zt"
   },
   "source": [
    "По скольку ранее подтвердили, что качество линейной регрессии не ухудшится при умножении исходных признаков на обратимую матрицу, то для защиты персональных данных можно этим воспользоваться. Т.е. можно умножить признаки на произвольную обратимую матрицу, не ухудшив при этом качество линейной регрессии. При этом значения признаков будут изменены и без наличия обратимой матрицы восстановить признаки будет не возможно."
   ]
  },
  {
   "cell_type": "markdown",
   "metadata": {
    "id": "86UaXdFL1Zz4"
   },
   "source": [
    "**Алгоритм**\n",
    "\n",
    "Алгоритм преобразования будет следующим.\n",
    "\n",
    "1. Сгенерируем случайную обратимую матрицу $P$. Генерировать будем до тех пор, пока не получим обратимую матрицу. Размер матрицы $P$ будет равен количеству признаков в матрице $X$. Для этого сделаем собственную функцию.\n",
    "2. Создадим матрицу $X$ - она будет состоять из нулевого столбца, состоящего из единиц, и признаков из датафрейма data. Матрица $X$ не будет включать целевые признаки. В качестве целевого признака будем использовать столбец \"Страховые выплаты\".\n",
    "3. Сделаем матрицу $X1$ - она будет равна векторному произведению матриц $X$ на $P$.\n",
    "4. Проверим качество линейной регрессии для матриц $X$ и $X1$. В качестве метрики качества будем использовать метрику R2.\n",
    "5. Приведем значения признаков в матрицах $X$ и $X1$ к одинаковому масштабу и проверим значение R2."
   ]
  },
  {
   "cell_type": "markdown",
   "metadata": {
    "id": "gAdunLPY1Zz_"
   },
   "source": [
    "## Проверка алгоритма"
   ]
  },
  {
   "cell_type": "markdown",
   "metadata": {},
   "source": [
    "[Назад к содержанию](#Содержание)"
   ]
  },
  {
   "cell_type": "code",
   "execution_count": 13,
   "metadata": {
    "id": "EAbqlvsQOO-A"
   },
   "outputs": [],
   "source": [
    "# определение признаков:\n",
    "\n",
    "features = data.drop('Страховые выплаты', axis=1)\n",
    "target = data['Страховые выплаты']"
   ]
  },
  {
   "cell_type": "code",
   "execution_count": 15,
   "metadata": {
    "colab": {
     "base_uri": "https://localhost:8080/",
     "height": 424
    },
    "id": "qhREPNKJOjv2",
    "outputId": "6f36bd2e-f32c-451a-bc6f-b1facf078882"
   },
   "outputs": [
    {
     "data": {
      "text/html": [
       "<div>\n",
       "<style scoped>\n",
       "    .dataframe tbody tr th:only-of-type {\n",
       "        vertical-align: middle;\n",
       "    }\n",
       "\n",
       "    .dataframe tbody tr th {\n",
       "        vertical-align: top;\n",
       "    }\n",
       "\n",
       "    .dataframe thead th {\n",
       "        text-align: right;\n",
       "    }\n",
       "</style>\n",
       "<table border=\"1\" class=\"dataframe\">\n",
       "  <thead>\n",
       "    <tr style=\"text-align: right;\">\n",
       "      <th></th>\n",
       "      <th>index</th>\n",
       "      <th>Пол</th>\n",
       "      <th>Возраст</th>\n",
       "      <th>Зарплата</th>\n",
       "      <th>Члены семьи</th>\n",
       "    </tr>\n",
       "  </thead>\n",
       "  <tbody>\n",
       "    <tr>\n",
       "      <th>0</th>\n",
       "      <td>0</td>\n",
       "      <td>1</td>\n",
       "      <td>41.0</td>\n",
       "      <td>49600.0</td>\n",
       "      <td>1</td>\n",
       "    </tr>\n",
       "    <tr>\n",
       "      <th>1</th>\n",
       "      <td>1</td>\n",
       "      <td>0</td>\n",
       "      <td>46.0</td>\n",
       "      <td>38000.0</td>\n",
       "      <td>1</td>\n",
       "    </tr>\n",
       "    <tr>\n",
       "      <th>2</th>\n",
       "      <td>2</td>\n",
       "      <td>0</td>\n",
       "      <td>29.0</td>\n",
       "      <td>21000.0</td>\n",
       "      <td>0</td>\n",
       "    </tr>\n",
       "    <tr>\n",
       "      <th>3</th>\n",
       "      <td>3</td>\n",
       "      <td>0</td>\n",
       "      <td>21.0</td>\n",
       "      <td>41700.0</td>\n",
       "      <td>2</td>\n",
       "    </tr>\n",
       "    <tr>\n",
       "      <th>4</th>\n",
       "      <td>4</td>\n",
       "      <td>1</td>\n",
       "      <td>28.0</td>\n",
       "      <td>26100.0</td>\n",
       "      <td>0</td>\n",
       "    </tr>\n",
       "  </tbody>\n",
       "</table>\n",
       "</div>"
      ],
      "text/plain": [
       "   index  Пол  Возраст  Зарплата  Члены семьи\n",
       "0      0    1     41.0   49600.0            1\n",
       "1      1    0     46.0   38000.0            1\n",
       "2      2    0     29.0   21000.0            0\n",
       "3      3    0     21.0   41700.0            2\n",
       "4      4    1     28.0   26100.0            0"
      ]
     },
     "execution_count": 15,
     "metadata": {},
     "output_type": "execute_result"
    }
   ],
   "source": [
    "# проверка признаков:\n",
    "\n",
    "features.head()"
   ]
  },
  {
   "cell_type": "code",
   "execution_count": 16,
   "metadata": {
    "colab": {
     "base_uri": "https://localhost:8080/",
     "height": 424
    },
    "id": "HtGpsMrBR7RQ",
    "outputId": "4bee1985-bdbc-4048-cbe1-326f1ccf1850"
   },
   "outputs": [
    {
     "data": {
      "text/html": [
       "<div>\n",
       "<style scoped>\n",
       "    .dataframe tbody tr th:only-of-type {\n",
       "        vertical-align: middle;\n",
       "    }\n",
       "\n",
       "    .dataframe tbody tr th {\n",
       "        vertical-align: top;\n",
       "    }\n",
       "\n",
       "    .dataframe thead th {\n",
       "        text-align: right;\n",
       "    }\n",
       "</style>\n",
       "<table border=\"1\" class=\"dataframe\">\n",
       "  <thead>\n",
       "    <tr style=\"text-align: right;\">\n",
       "      <th></th>\n",
       "      <th>Пол</th>\n",
       "      <th>Возраст</th>\n",
       "      <th>Зарплата</th>\n",
       "      <th>Члены семьи</th>\n",
       "    </tr>\n",
       "  </thead>\n",
       "  <tbody>\n",
       "    <tr>\n",
       "      <th>0</th>\n",
       "      <td>1</td>\n",
       "      <td>41.0</td>\n",
       "      <td>49600.0</td>\n",
       "      <td>1</td>\n",
       "    </tr>\n",
       "    <tr>\n",
       "      <th>1</th>\n",
       "      <td>0</td>\n",
       "      <td>46.0</td>\n",
       "      <td>38000.0</td>\n",
       "      <td>1</td>\n",
       "    </tr>\n",
       "    <tr>\n",
       "      <th>2</th>\n",
       "      <td>0</td>\n",
       "      <td>29.0</td>\n",
       "      <td>21000.0</td>\n",
       "      <td>0</td>\n",
       "    </tr>\n",
       "    <tr>\n",
       "      <th>3</th>\n",
       "      <td>0</td>\n",
       "      <td>21.0</td>\n",
       "      <td>41700.0</td>\n",
       "      <td>2</td>\n",
       "    </tr>\n",
       "    <tr>\n",
       "      <th>4</th>\n",
       "      <td>1</td>\n",
       "      <td>28.0</td>\n",
       "      <td>26100.0</td>\n",
       "      <td>0</td>\n",
       "    </tr>\n",
       "  </tbody>\n",
       "</table>\n",
       "</div>"
      ],
      "text/plain": [
       "   Пол  Возраст  Зарплата  Члены семьи\n",
       "0    1     41.0   49600.0            1\n",
       "1    0     46.0   38000.0            1\n",
       "2    0     29.0   21000.0            0\n",
       "3    0     21.0   41700.0            2\n",
       "4    1     28.0   26100.0            0"
      ]
     },
     "execution_count": 16,
     "metadata": {},
     "output_type": "execute_result"
    }
   ],
   "source": [
    "# удаление столбца index:\n",
    "\n",
    "features.drop('index', axis=1, inplace=True)\n",
    "features.head()"
   ]
  },
  {
   "cell_type": "code",
   "execution_count": 17,
   "metadata": {
    "colab": {
     "base_uri": "https://localhost:8080/"
    },
    "id": "fFZiIJPoR7U6",
    "outputId": "e153e8fc-7387-4805-c004-108824a78c45"
   },
   "outputs": [
    {
     "data": {
      "text/plain": [
       "0    0\n",
       "1    1\n",
       "2    0\n",
       "3    0\n",
       "4    0\n",
       "Name: Страховые выплаты, dtype: int64"
      ]
     },
     "execution_count": 17,
     "metadata": {},
     "output_type": "execute_result"
    }
   ],
   "source": [
    "# проверка целевого признака:\n",
    "\n",
    "target.head()"
   ]
  },
  {
   "cell_type": "code",
   "execution_count": 18,
   "metadata": {
    "colab": {
     "base_uri": "https://localhost:8080/"
    },
    "id": "Y9L-E9w0SzX-",
    "outputId": "45522d78-0b45-463c-b913-aed4a75f8a8c"
   },
   "outputs": [
    {
     "data": {
      "text/plain": [
       "array([[1.00e+00, 1.00e+00, 4.10e+01, 4.96e+04, 1.00e+00],\n",
       "       [1.00e+00, 0.00e+00, 4.60e+01, 3.80e+04, 1.00e+00],\n",
       "       [1.00e+00, 0.00e+00, 2.90e+01, 2.10e+04, 0.00e+00],\n",
       "       ...,\n",
       "       [1.00e+00, 0.00e+00, 2.00e+01, 3.39e+04, 2.00e+00],\n",
       "       [1.00e+00, 1.00e+00, 2.20e+01, 3.27e+04, 3.00e+00],\n",
       "       [1.00e+00, 1.00e+00, 2.80e+01, 4.06e+04, 1.00e+00]])"
      ]
     },
     "execution_count": 18,
     "metadata": {},
     "output_type": "execute_result"
    }
   ],
   "source": [
    "# создание матрицы X:\n",
    "\n",
    "X = np.concatenate((np.ones((features.shape[0], 1)), features), axis=1)\n",
    "X"
   ]
  },
  {
   "cell_type": "code",
   "execution_count": 19,
   "metadata": {
    "colab": {
     "base_uri": "https://localhost:8080/"
    },
    "id": "OTtDTKXPSzcA",
    "outputId": "6065341a-693e-4d9e-db94-db6c2ec751d2"
   },
   "outputs": [
    {
     "data": {
      "text/plain": [
       "0       0\n",
       "1       1\n",
       "2       0\n",
       "3       0\n",
       "4       0\n",
       "       ..\n",
       "4842    0\n",
       "4843    0\n",
       "4844    0\n",
       "4845    0\n",
       "4846    0\n",
       "Name: Страховые выплаты, Length: 4847, dtype: int64"
      ]
     },
     "execution_count": 19,
     "metadata": {},
     "output_type": "execute_result"
    }
   ],
   "source": [
    "# создание вектора y:\n",
    "\n",
    "y = target\n",
    "y"
   ]
  },
  {
   "cell_type": "markdown",
   "metadata": {},
   "source": [
    "Создадим функцию `get_rand_matrix`, которая будет генерировать случайную обратимую матрицу размером равным количеству признаков в матрице признаков $X$. Функция будет генерировать матрицы пока не получит обратимую матрицу."
   ]
  },
  {
   "cell_type": "code",
   "execution_count": 20,
   "metadata": {},
   "outputs": [],
   "source": [
    "def get_rand_matrix(X):\n",
    "    det = 0\n",
    "    while det == 0:\n",
    "        matrix = np.random.normal(size=(X.shape[1], X.shape[1]))\n",
    "        det = np.linalg.det(matrix)\n",
    "    return matrix"
   ]
  },
  {
   "cell_type": "code",
   "execution_count": 21,
   "metadata": {},
   "outputs": [
    {
     "data": {
      "text/plain": [
       "array([[-0.7192336 ,  0.44963855,  1.00676561,  1.06855526,  1.1570399 ],\n",
       "       [ 2.48691229, -1.23717688, -0.18321763,  0.28767045, -0.29594119],\n",
       "       [-2.59569606, -0.09754128, -0.20439605,  1.19166139,  1.14527196],\n",
       "       [ 0.22228698, -0.40545355,  0.27058641, -0.08912404,  0.63016216],\n",
       "       [ 0.65777203, -0.74051811,  1.04971511,  0.88142087, -0.74021018]])"
      ]
     },
     "execution_count": 21,
     "metadata": {},
     "output_type": "execute_result"
    }
   ],
   "source": [
    "# генерация случайной обратимой матрицы:\n",
    "\n",
    "P = get_rand_matrix(X)\n",
    "P"
   ]
  },
  {
   "cell_type": "markdown",
   "metadata": {},
   "source": [
    "Создали обратимую случайную матрицу. Проверили на обратимость. Далее умножим матрицу признаков $X$ на полученную обратимую матрицу $P$ и получим преобразованную матрицу с признаками."
   ]
  },
  {
   "cell_type": "code",
   "execution_count": 22,
   "metadata": {
    "id": "CK-N3CznSzg1"
   },
   "outputs": [],
   "source": [
    "# создание матрицы X1:\n",
    "\n",
    "X1 = X @ P"
   ]
  },
  {
   "cell_type": "code",
   "execution_count": 23,
   "metadata": {
    "colab": {
     "base_uri": "https://localhost:8080/"
    },
    "id": "m0jmrK1SSzj1",
    "outputId": "ee5370c9-b32c-4153-ee16-2d190705b9df"
   },
   "outputs": [
    {
     "data": {
      "text/plain": [
       "array([[ 10921.43595944, -20116.02329539,  13414.57892504,\n",
       "         -4369.45676311,  31303.12020612],\n",
       "       [  8327.4416364 , -15412.01265275,  10274.93781483,\n",
       "         -3329.9472293 ,  23999.26144379],\n",
       "       [  4592.03209252,  -8516.90359437,   5677.39387491,\n",
       "         -1835.97816488,  13267.77529995],\n",
       "       ...,\n",
       "       [  7484.21090138, -13747.85754536,   9171.89754923,\n",
       "         -2994.64042869,  21385.07930409],\n",
       "       [  7215.41982146, -13263.48606373,   8847.65156348,\n",
       "         -2884.13916315,  20630.13910389],\n",
       "       [  8954.59721742, -16465.67331484,  10981.95839022,\n",
       "         -3582.83197527,  25616.77222498]])"
      ]
     },
     "execution_count": 23,
     "metadata": {},
     "output_type": "execute_result"
    }
   ],
   "source": [
    "X1"
   ]
  },
  {
   "cell_type": "markdown",
   "metadata": {
    "id": "cI-Ory9yY44E"
   },
   "source": [
    "Получили преобразованную матрицу с признаками. Получившиеся значения явно будет трудно расшифровать.\n",
    "\n",
    "Далее создадим функцию `model` для обучения и тестирования моделей."
   ]
  },
  {
   "cell_type": "code",
   "execution_count": 24,
   "metadata": {
    "id": "-41SbukalZfy"
   },
   "outputs": [],
   "source": [
    "# функция для обучения и проверки моделей:\n",
    "\n",
    "def model(X, y):\n",
    "\n",
    "    # создание выборок:\n",
    "    features_train, features_test, target_train, target_test = \\\n",
    "      train_test_split(X, y, test_size = 0.25, random_state = 42)\n",
    "    \n",
    "    # создание модели с помощью линейной регрессии:\n",
    "    model = LinearRegression()\n",
    "\n",
    "    # обучение модели на тренировочной выборке:\n",
    "    model.fit(features_train, target_train)\n",
    "\n",
    "    # предсказания на тестовой выборке:\n",
    "    predictions = model.predict(features_test)\n",
    "\n",
    "    # расчет R2 на тестовой выборке: \n",
    "    r2 = r2_score(target_test, predictions)\n",
    "   \n",
    "    return r2"
   ]
  },
  {
   "cell_type": "code",
   "execution_count": 25,
   "metadata": {
    "id": "lOZl2wtkSznh"
   },
   "outputs": [],
   "source": [
    "# сохраним полученные значения R2\n",
    "\n",
    "# R2 для изначального датафрейма:\n",
    "r2_initial = model(X, y)\n",
    "\n",
    "# R2 для преобразованных данных:\n",
    "r2_convert = model(X1, y)"
   ]
  },
  {
   "cell_type": "code",
   "execution_count": 26,
   "metadata": {
    "colab": {
     "base_uri": "https://localhost:8080/"
    },
    "id": "MuZMxes6u8G2",
    "outputId": "27f51589-b0b1-4992-bb3d-8d07bcd81ff0"
   },
   "outputs": [
    {
     "name": "stdout",
     "output_type": "stream",
     "text": [
      "R2 для исходных данных: 0.44346330831611946\n",
      "R2 для преобразованных данных: 0.44346689267992645\n"
     ]
    }
   ],
   "source": [
    "print('R2 для исходных данных:', r2_initial)\n",
    "print('R2 для преобразованных данных:', r2_convert)"
   ]
  },
  {
   "cell_type": "markdown",
   "metadata": {
    "id": "zZEE2aQwvfjx"
   },
   "source": [
    "Значения практически одинаковые. Поэтому практически убедились в том, что умножение исходных признаков на обратимую матрицу не влияет на качество линейной регрессии."
   ]
  },
  {
   "cell_type": "markdown",
   "metadata": {
    "id": "YlarA63Ot5A3"
   },
   "source": [
    "При изучении исходного датафрейма был выявлен разный масштаб у признаков. Приведем значения признаков к одинаковому масштабу, обучим заново модель и выведем значения `R2`. Для этого скорректируем функцию `model` следующим образом:"
   ]
  },
  {
   "cell_type": "code",
   "execution_count": 27,
   "metadata": {
    "id": "8AvT8RirQG26"
   },
   "outputs": [],
   "source": [
    "# функция для масштабирования признаков, обучения и проверки моделей:\n",
    "\n",
    "def model_scaled(X, y):\n",
    "\n",
    "    # создание выборок:\n",
    "    features_train, features_test, target_train, target_test = \\\n",
    "      train_test_split(X, y, test_size = 0.25, random_state = 42)\n",
    "\n",
    "    # создание объекта структуры StandardScaler():\n",
    "    scaler = StandardScaler()\n",
    "\n",
    "    # настройка обучающих данных:\n",
    "    scaler.fit(features_train)\n",
    "\n",
    "    # преобразование обучающей и валидационной выборок функцией transform():\n",
    "    features_train = scaler.transform(features_train)\n",
    "    features_test = scaler.transform(features_test)\n",
    "    \n",
    "    # создание модели с помощью линейной регрессии:\n",
    "    model_scaled = LinearRegression()\n",
    "\n",
    "    # обучение модели на тренировочной выборке:\n",
    "    model_scaled.fit(features_train, target_train)\n",
    "\n",
    "    # предсказания на тестовой выборке:\n",
    "    predictions = model.predict(features_test)\n",
    "\n",
    "    # расчет R2 на тестовой выборке: \n",
    "    r2_scaled = r2_score(target_test, predictions)\n",
    "   \n",
    "    return r2_scaled"
   ]
  },
  {
   "cell_type": "code",
   "execution_count": 28,
   "metadata": {
    "id": "xz8YIJnSQG5Z"
   },
   "outputs": [],
   "source": [
    "# сохраним полученные значения R2 для масштабированных признаков:\n",
    "\n",
    "# R2 для изначального датафрейма:\n",
    "r2_initial_scaled = model(X, y)\n",
    "\n",
    "# R2 для преобразованных данных:\n",
    "r2_convert_scaled = model(X1, y)"
   ]
  },
  {
   "cell_type": "code",
   "execution_count": 29,
   "metadata": {
    "colab": {
     "base_uri": "https://localhost:8080/"
    },
    "id": "rWamKvKRFHFi",
    "outputId": "3df136ec-4fa8-479b-d3b6-6f4fd65f5e9e"
   },
   "outputs": [
    {
     "name": "stdout",
     "output_type": "stream",
     "text": [
      "R2 для исходных данных после масштабирования признаков: 0.44346330831611946\n",
      "R2 для преобразованных данных после масштабирования признаков: 0.44346689267992645\n"
     ]
    }
   ],
   "source": [
    "print('R2 для исходных данных после масштабирования признаков:', r2_initial_scaled)\n",
    "print('R2 для преобразованных данных после масштабирования признаков:', r2_convert_scaled)"
   ]
  },
  {
   "cell_type": "markdown",
   "metadata": {
    "id": "W7SiF6YSwVUY"
   },
   "source": [
    "Выведем все получившиеся метрики в виде датафрейма."
   ]
  },
  {
   "cell_type": "code",
   "execution_count": 30,
   "metadata": {
    "colab": {
     "base_uri": "https://localhost:8080/",
     "height": 175
    },
    "id": "bXN_myglFHH_",
    "outputId": "79f3276c-cf33-4516-f950-2cda960089f1"
   },
   "outputs": [
    {
     "data": {
      "text/html": [
       "<div>\n",
       "<style scoped>\n",
       "    .dataframe tbody tr th:only-of-type {\n",
       "        vertical-align: middle;\n",
       "    }\n",
       "\n",
       "    .dataframe tbody tr th {\n",
       "        vertical-align: top;\n",
       "    }\n",
       "\n",
       "    .dataframe thead th {\n",
       "        text-align: right;\n",
       "    }\n",
       "</style>\n",
       "<table border=\"1\" class=\"dataframe\">\n",
       "  <thead>\n",
       "    <tr style=\"text-align: right;\">\n",
       "      <th></th>\n",
       "      <th>Решения</th>\n",
       "      <th>R2</th>\n",
       "    </tr>\n",
       "  </thead>\n",
       "  <tbody>\n",
       "    <tr>\n",
       "      <th>0</th>\n",
       "      <td>Исходные данные</td>\n",
       "      <td>0.443463</td>\n",
       "    </tr>\n",
       "    <tr>\n",
       "      <th>1</th>\n",
       "      <td>Преобразованные данные</td>\n",
       "      <td>0.443467</td>\n",
       "    </tr>\n",
       "    <tr>\n",
       "      <th>2</th>\n",
       "      <td>Исходные данные после масштабирования</td>\n",
       "      <td>0.443463</td>\n",
       "    </tr>\n",
       "    <tr>\n",
       "      <th>3</th>\n",
       "      <td>Преобразованные данные после масштабирования</td>\n",
       "      <td>0.443467</td>\n",
       "    </tr>\n",
       "  </tbody>\n",
       "</table>\n",
       "</div>"
      ],
      "text/plain": [
       "                                        Решения        R2\n",
       "0                               Исходные данные  0.443463\n",
       "1                        Преобразованные данные  0.443467\n",
       "2         Исходные данные после масштабирования  0.443463\n",
       "3  Преобразованные данные после масштабирования  0.443467"
      ]
     },
     "execution_count": 30,
     "metadata": {},
     "output_type": "execute_result"
    }
   ],
   "source": [
    "# вывод итоговых результатов:\n",
    "\n",
    "results = pd.DataFrame({\n",
    "        'Решения': [\n",
    "        'Исходные данные', \n",
    "        'Преобразованные данные', \n",
    "        'Исходные данные после масштабирования',\n",
    "        'Преобразованные данные после масштабирования'\n",
    "    ],\n",
    "\n",
    "        'R2': [\n",
    "        r2_initial,\n",
    "        r2_convert,\n",
    "        r2_initial_scaled,\n",
    "        r2_convert_scaled\n",
    "    ]\n",
    "})\n",
    "\n",
    "results"
   ]
  },
  {
   "cell_type": "markdown",
   "metadata": {
    "id": "WcVbuYlfzWJx"
   },
   "source": [
    "Можно отметить, что после масштабирования признаков качество модели осталось прежним."
   ]
  },
  {
   "cell_type": "markdown",
   "metadata": {
    "id": "XxQtPKcszhM9"
   },
   "source": [
    "## Выводы"
   ]
  },
  {
   "cell_type": "markdown",
   "metadata": {},
   "source": [
    "[Назад к содержанию](#Содержание)"
   ]
  },
  {
   "cell_type": "markdown",
   "metadata": {
    "id": "w-Aw_3Svz0-d"
   },
   "source": [
    "В данном проекте разработали метод защиты персональных данных. Данный метод основан на преобразовании признаков в исходных данных: признаки умножили на произвольную обратимую матрицу и получили данные, которые трудно будет восстановить без знания использованной матрицы. Качество модели при этом не ухудшилось. Для этого было проведено доказательство. Параметры линейной регрессии в исходной задаче и в преобразованной связаны между собой линейно. \n",
    "\n",
    "В итоге получили зашифрованные персональные данные. Были обучены модели и сравнили качество полученных моделей. В качестве метрики качества использовали коэффициент детерминации `R2`. На практике убедились в правильности алгоритма шифровки данных. Метрики `R2` получились одинаковые до шифровки и после.\n",
    "\n",
    "Также привели значения признаков к единому масштабу и проверили метрики `R2`. `R2` до и после изменения масштаба остались без изменений. \n",
    "\n",
    "Сводная таблица полученных метрик:"
   ]
  },
  {
   "cell_type": "code",
   "execution_count": 31,
   "metadata": {
    "colab": {
     "base_uri": "https://localhost:8080/",
     "height": 175
    },
    "id": "Go7jFUQn131J",
    "outputId": "c1d04734-a2bd-4183-d8cc-a1c7fedfab9b"
   },
   "outputs": [
    {
     "data": {
      "text/html": [
       "<div>\n",
       "<style scoped>\n",
       "    .dataframe tbody tr th:only-of-type {\n",
       "        vertical-align: middle;\n",
       "    }\n",
       "\n",
       "    .dataframe tbody tr th {\n",
       "        vertical-align: top;\n",
       "    }\n",
       "\n",
       "    .dataframe thead th {\n",
       "        text-align: right;\n",
       "    }\n",
       "</style>\n",
       "<table border=\"1\" class=\"dataframe\">\n",
       "  <thead>\n",
       "    <tr style=\"text-align: right;\">\n",
       "      <th></th>\n",
       "      <th>Решения</th>\n",
       "      <th>R2</th>\n",
       "    </tr>\n",
       "  </thead>\n",
       "  <tbody>\n",
       "    <tr>\n",
       "      <th>0</th>\n",
       "      <td>Исходные данные</td>\n",
       "      <td>0.443463</td>\n",
       "    </tr>\n",
       "    <tr>\n",
       "      <th>1</th>\n",
       "      <td>Преобразованные данные</td>\n",
       "      <td>0.443467</td>\n",
       "    </tr>\n",
       "    <tr>\n",
       "      <th>2</th>\n",
       "      <td>Исходные данные после масштабирования</td>\n",
       "      <td>0.443463</td>\n",
       "    </tr>\n",
       "    <tr>\n",
       "      <th>3</th>\n",
       "      <td>Преобразованные данные после масштабирования</td>\n",
       "      <td>0.443467</td>\n",
       "    </tr>\n",
       "  </tbody>\n",
       "</table>\n",
       "</div>"
      ],
      "text/plain": [
       "                                        Решения        R2\n",
       "0                               Исходные данные  0.443463\n",
       "1                        Преобразованные данные  0.443467\n",
       "2         Исходные данные после масштабирования  0.443463\n",
       "3  Преобразованные данные после масштабирования  0.443467"
      ]
     },
     "execution_count": 31,
     "metadata": {},
     "output_type": "execute_result"
    }
   ],
   "source": [
    "results"
   ]
  }
 ],
 "metadata": {
  "ExecuteTimeLog": [
   {
    "duration": 371,
    "start_time": "2023-03-05T17:26:24.539Z"
   },
   {
    "duration": 87,
    "start_time": "2023-03-05T17:26:59.370Z"
   },
   {
    "duration": 18,
    "start_time": "2023-03-05T17:27:06.242Z"
   },
   {
    "duration": 2069,
    "start_time": "2023-03-08T20:17:37.060Z"
   },
   {
    "duration": 97,
    "start_time": "2023-03-08T20:17:39.131Z"
   },
   {
    "duration": 45,
    "start_time": "2023-03-08T20:17:39.230Z"
   },
   {
    "duration": 12,
    "start_time": "2023-03-08T20:17:39.276Z"
   },
   {
    "duration": 13,
    "start_time": "2023-03-08T20:17:39.290Z"
   },
   {
    "duration": 29,
    "start_time": "2023-03-08T20:17:39.305Z"
   },
   {
    "duration": 28,
    "start_time": "2023-03-08T20:17:39.336Z"
   },
   {
    "duration": 5,
    "start_time": "2023-03-08T20:17:39.366Z"
   },
   {
    "duration": 6,
    "start_time": "2023-03-08T20:17:39.372Z"
   },
   {
    "duration": 6,
    "start_time": "2023-03-08T20:17:39.379Z"
   },
   {
    "duration": 11,
    "start_time": "2023-03-08T20:17:39.387Z"
   },
   {
    "duration": 5450,
    "start_time": "2023-03-08T20:17:39.399Z"
   },
   {
    "duration": 6,
    "start_time": "2023-03-08T20:17:44.851Z"
   },
   {
    "duration": 9,
    "start_time": "2023-03-08T20:17:44.860Z"
   },
   {
    "duration": 74,
    "start_time": "2023-03-08T20:17:44.871Z"
   },
   {
    "duration": 83,
    "start_time": "2023-03-08T20:17:44.951Z"
   },
   {
    "duration": 48,
    "start_time": "2023-03-08T20:17:45.036Z"
   },
   {
    "duration": 209,
    "start_time": "2023-03-08T20:17:45.086Z"
   },
   {
    "duration": 11,
    "start_time": "2023-03-08T20:17:45.296Z"
   },
   {
    "duration": 11,
    "start_time": "2023-03-08T20:17:45.309Z"
   },
   {
    "duration": 32,
    "start_time": "2023-03-08T20:17:45.321Z"
   },
   {
    "duration": 10,
    "start_time": "2023-03-08T20:17:45.354Z"
   },
   {
    "duration": 14,
    "start_time": "2023-03-08T20:17:45.366Z"
   },
   {
    "duration": 5,
    "start_time": "2023-03-08T20:17:45.382Z"
   },
   {
    "duration": 14,
    "start_time": "2023-03-08T20:17:45.389Z"
   },
   {
    "duration": 113,
    "start_time": "2023-03-08T20:17:45.432Z"
   },
   {
    "duration": 13,
    "start_time": "2023-03-08T20:17:45.546Z"
   },
   {
    "duration": 24,
    "start_time": "2023-03-08T20:17:45.560Z"
   },
   {
    "duration": 10,
    "start_time": "2023-03-08T20:17:45.586Z"
   },
   {
    "duration": 27,
    "start_time": "2023-03-08T20:17:45.597Z"
   },
   {
    "duration": 35,
    "start_time": "2023-03-08T20:17:45.626Z"
   },
   {
    "duration": 29,
    "start_time": "2023-03-08T20:18:29.105Z"
   },
   {
    "duration": 1386,
    "start_time": "2023-03-08T20:21:28.117Z"
   },
   {
    "duration": 30,
    "start_time": "2023-03-08T20:21:29.505Z"
   },
   {
    "duration": 26,
    "start_time": "2023-03-08T20:21:29.537Z"
   },
   {
    "duration": 11,
    "start_time": "2023-03-08T20:21:29.566Z"
   },
   {
    "duration": 18,
    "start_time": "2023-03-08T20:21:29.579Z"
   },
   {
    "duration": 7,
    "start_time": "2023-03-08T20:21:29.599Z"
   },
   {
    "duration": 35,
    "start_time": "2023-03-08T20:21:29.608Z"
   },
   {
    "duration": 5,
    "start_time": "2023-03-08T20:21:29.646Z"
   },
   {
    "duration": 16,
    "start_time": "2023-03-08T20:21:29.652Z"
   },
   {
    "duration": 10,
    "start_time": "2023-03-08T20:21:29.670Z"
   },
   {
    "duration": 33,
    "start_time": "2023-03-08T20:21:29.682Z"
   },
   {
    "duration": 5221,
    "start_time": "2023-03-08T20:21:29.716Z"
   },
   {
    "duration": 6,
    "start_time": "2023-03-08T20:21:34.939Z"
   },
   {
    "duration": 13,
    "start_time": "2023-03-08T20:21:34.947Z"
   },
   {
    "duration": 74,
    "start_time": "2023-03-08T20:21:34.961Z"
   },
   {
    "duration": 97,
    "start_time": "2023-03-08T20:21:35.037Z"
   },
   {
    "duration": 31,
    "start_time": "2023-03-08T20:21:35.136Z"
   },
   {
    "duration": 167,
    "start_time": "2023-03-08T20:21:35.169Z"
   },
   {
    "duration": 15,
    "start_time": "2023-03-08T20:21:35.338Z"
   },
   {
    "duration": 23,
    "start_time": "2023-03-08T20:21:35.355Z"
   },
   {
    "duration": 13,
    "start_time": "2023-03-08T20:21:35.379Z"
   },
   {
    "duration": 19,
    "start_time": "2023-03-08T20:21:35.394Z"
   },
   {
    "duration": 12,
    "start_time": "2023-03-08T20:21:35.415Z"
   },
   {
    "duration": 17,
    "start_time": "2023-03-08T20:21:35.429Z"
   },
   {
    "duration": 32,
    "start_time": "2023-03-08T20:21:35.448Z"
   },
   {
    "duration": 14,
    "start_time": "2023-03-08T20:21:35.482Z"
   },
   {
    "duration": 20,
    "start_time": "2023-03-08T20:21:35.498Z"
   },
   {
    "duration": 40,
    "start_time": "2023-03-08T20:21:35.523Z"
   },
   {
    "duration": 16,
    "start_time": "2023-03-08T20:21:35.565Z"
   },
   {
    "duration": 39,
    "start_time": "2023-03-08T20:21:35.583Z"
   },
   {
    "duration": 22,
    "start_time": "2023-03-08T20:21:35.624Z"
   },
   {
    "duration": 2679,
    "start_time": "2023-03-09T12:45:21.436Z"
   },
   {
    "duration": 80,
    "start_time": "2023-03-09T12:45:24.117Z"
   },
   {
    "duration": 26,
    "start_time": "2023-03-09T12:45:24.199Z"
   },
   {
    "duration": 17,
    "start_time": "2023-03-09T12:45:24.227Z"
   },
   {
    "duration": 30,
    "start_time": "2023-03-09T12:45:24.246Z"
   },
   {
    "duration": 19,
    "start_time": "2023-03-09T12:45:24.278Z"
   },
   {
    "duration": 22,
    "start_time": "2023-03-09T12:45:24.299Z"
   },
   {
    "duration": 17,
    "start_time": "2023-03-09T12:45:24.322Z"
   },
   {
    "duration": 29,
    "start_time": "2023-03-09T12:45:24.341Z"
   },
   {
    "duration": 22,
    "start_time": "2023-03-09T12:45:24.373Z"
   },
   {
    "duration": 39,
    "start_time": "2023-03-09T12:45:24.397Z"
   },
   {
    "duration": 4956,
    "start_time": "2023-03-09T12:45:24.438Z"
   },
   {
    "duration": 5,
    "start_time": "2023-03-09T12:45:29.397Z"
   },
   {
    "duration": 30,
    "start_time": "2023-03-09T12:45:29.403Z"
   },
   {
    "duration": 102,
    "start_time": "2023-03-09T12:45:29.435Z"
   },
   {
    "duration": 44,
    "start_time": "2023-03-09T12:45:29.539Z"
   },
   {
    "duration": 57,
    "start_time": "2023-03-09T12:45:29.584Z"
   },
   {
    "duration": 23,
    "start_time": "2023-03-09T12:45:29.642Z"
   },
   {
    "duration": 13,
    "start_time": "2023-03-09T12:45:29.666Z"
   },
   {
    "duration": 124,
    "start_time": "2023-03-09T12:45:29.680Z"
   },
   {
    "duration": 22,
    "start_time": "2023-03-09T12:45:29.806Z"
   },
   {
    "duration": 25,
    "start_time": "2023-03-09T12:45:29.830Z"
   },
   {
    "duration": 17,
    "start_time": "2023-03-09T12:45:29.857Z"
   },
   {
    "duration": 10,
    "start_time": "2023-03-09T12:45:29.875Z"
   },
   {
    "duration": 16,
    "start_time": "2023-03-09T12:45:29.887Z"
   },
   {
    "duration": 97,
    "start_time": "2023-03-09T12:45:29.938Z"
   },
   {
    "duration": 32,
    "start_time": "2023-03-09T12:45:30.037Z"
   },
   {
    "duration": 34,
    "start_time": "2023-03-09T12:45:30.072Z"
   },
   {
    "duration": 34,
    "start_time": "2023-03-09T12:45:30.107Z"
   },
   {
    "duration": 30,
    "start_time": "2023-03-09T12:45:30.142Z"
   },
   {
    "duration": 34,
    "start_time": "2023-03-09T12:45:30.174Z"
   },
   {
    "duration": 1469,
    "start_time": "2023-03-09T19:58:40.425Z"
   },
   {
    "duration": 74,
    "start_time": "2023-03-09T19:58:41.897Z"
   },
   {
    "duration": 25,
    "start_time": "2023-03-09T19:58:41.972Z"
   },
   {
    "duration": 15,
    "start_time": "2023-03-09T19:58:42.000Z"
   },
   {
    "duration": 7,
    "start_time": "2023-03-09T19:58:42.016Z"
   },
   {
    "duration": 10,
    "start_time": "2023-03-09T19:58:42.024Z"
   },
   {
    "duration": 13,
    "start_time": "2023-03-09T19:58:42.036Z"
   },
   {
    "duration": 39,
    "start_time": "2023-03-09T19:58:42.050Z"
   },
   {
    "duration": 5,
    "start_time": "2023-03-09T19:58:42.090Z"
   },
   {
    "duration": 6,
    "start_time": "2023-03-09T19:58:42.098Z"
   },
   {
    "duration": 9,
    "start_time": "2023-03-09T19:58:42.106Z"
   },
   {
    "duration": 4557,
    "start_time": "2023-03-09T19:58:42.117Z"
   },
   {
    "duration": 5,
    "start_time": "2023-03-09T19:58:46.676Z"
   },
   {
    "duration": 19,
    "start_time": "2023-03-09T19:58:46.682Z"
   },
   {
    "duration": 90,
    "start_time": "2023-03-09T19:58:46.703Z"
   },
   {
    "duration": 89,
    "start_time": "2023-03-09T19:58:46.796Z"
   },
   {
    "duration": 21,
    "start_time": "2023-03-09T19:58:46.888Z"
   },
   {
    "duration": 12,
    "start_time": "2023-03-09T19:58:46.911Z"
   },
   {
    "duration": 6,
    "start_time": "2023-03-09T19:58:46.925Z"
   },
   {
    "duration": 104,
    "start_time": "2023-03-09T19:58:46.933Z"
   },
   {
    "duration": 23,
    "start_time": "2023-03-09T19:58:47.038Z"
   },
   {
    "duration": 5,
    "start_time": "2023-03-09T19:58:47.063Z"
   },
   {
    "duration": 5,
    "start_time": "2023-03-09T19:58:47.070Z"
   },
   {
    "duration": 28,
    "start_time": "2023-03-09T19:58:47.076Z"
   },
   {
    "duration": 10,
    "start_time": "2023-03-09T19:58:47.106Z"
   },
   {
    "duration": 87,
    "start_time": "2023-03-09T19:58:47.118Z"
   },
   {
    "duration": 14,
    "start_time": "2023-03-09T19:58:47.284Z"
   },
   {
    "duration": 12,
    "start_time": "2023-03-09T19:58:47.301Z"
   },
   {
    "duration": 3,
    "start_time": "2023-03-09T19:58:47.315Z"
   },
   {
    "duration": 10,
    "start_time": "2023-03-09T19:58:47.320Z"
   },
   {
    "duration": 13,
    "start_time": "2023-03-09T19:58:47.331Z"
   },
   {
    "duration": 3,
    "start_time": "2023-03-09T22:23:29.765Z"
   },
   {
    "duration": 4,
    "start_time": "2023-03-09T22:24:08.920Z"
   },
   {
    "duration": 5,
    "start_time": "2023-03-09T22:24:46.891Z"
   },
   {
    "duration": 3,
    "start_time": "2023-03-09T22:26:03.808Z"
   },
   {
    "duration": 11,
    "start_time": "2023-03-09T22:26:06.641Z"
   },
   {
    "duration": 17,
    "start_time": "2023-03-09T22:26:11.805Z"
   },
   {
    "duration": 5,
    "start_time": "2023-03-09T22:26:16.328Z"
   },
   {
    "duration": 5,
    "start_time": "2023-03-09T22:26:23.264Z"
   },
   {
    "duration": 5,
    "start_time": "2023-03-09T22:26:24.533Z"
   },
   {
    "duration": 109,
    "start_time": "2023-03-09T22:26:28.453Z"
   },
   {
    "duration": 4,
    "start_time": "2023-03-09T22:27:16.792Z"
   },
   {
    "duration": 3,
    "start_time": "2023-03-09T22:36:45.303Z"
   },
   {
    "duration": 4,
    "start_time": "2023-03-09T22:37:13.311Z"
   },
   {
    "duration": 3,
    "start_time": "2023-03-09T22:38:25.019Z"
   },
   {
    "duration": 4,
    "start_time": "2023-03-09T22:38:27.347Z"
   },
   {
    "duration": 4,
    "start_time": "2023-03-09T22:38:59.023Z"
   },
   {
    "duration": 7,
    "start_time": "2023-03-09T22:39:05.619Z"
   },
   {
    "duration": 3,
    "start_time": "2023-03-09T22:39:31.559Z"
   },
   {
    "duration": 5,
    "start_time": "2023-03-09T22:39:32.994Z"
   },
   {
    "duration": 2,
    "start_time": "2023-03-09T22:39:43.723Z"
   },
   {
    "duration": 3,
    "start_time": "2023-03-09T22:39:45.403Z"
   },
   {
    "duration": 3,
    "start_time": "2023-03-09T22:40:01.963Z"
   },
   {
    "duration": 10,
    "start_time": "2023-03-09T22:40:02.995Z"
   },
   {
    "duration": 3,
    "start_time": "2023-03-09T22:40:04.791Z"
   },
   {
    "duration": 4,
    "start_time": "2023-03-09T22:40:08.407Z"
   },
   {
    "duration": 7,
    "start_time": "2023-03-09T22:40:09.831Z"
   },
   {
    "duration": 3,
    "start_time": "2023-03-09T22:40:10.863Z"
   },
   {
    "duration": 8,
    "start_time": "2023-03-09T22:40:14.755Z"
   },
   {
    "duration": 7,
    "start_time": "2023-03-09T22:40:24.647Z"
   },
   {
    "duration": 83,
    "start_time": "2023-03-09T22:41:08.095Z"
   },
   {
    "duration": 11,
    "start_time": "2023-03-09T22:41:59.494Z"
   },
   {
    "duration": 1352,
    "start_time": "2023-03-09T22:47:45.463Z"
   },
   {
    "duration": 33,
    "start_time": "2023-03-09T22:47:46.817Z"
   },
   {
    "duration": 24,
    "start_time": "2023-03-09T22:47:46.851Z"
   },
   {
    "duration": 18,
    "start_time": "2023-03-09T22:47:46.878Z"
   },
   {
    "duration": 9,
    "start_time": "2023-03-09T22:47:46.898Z"
   },
   {
    "duration": 8,
    "start_time": "2023-03-09T22:47:46.908Z"
   },
   {
    "duration": 13,
    "start_time": "2023-03-09T22:47:46.917Z"
   },
   {
    "duration": 5,
    "start_time": "2023-03-09T22:47:46.931Z"
   },
   {
    "duration": 10,
    "start_time": "2023-03-09T22:47:46.938Z"
   },
   {
    "duration": 6,
    "start_time": "2023-03-09T22:47:46.951Z"
   },
   {
    "duration": 33,
    "start_time": "2023-03-09T22:47:46.959Z"
   },
   {
    "duration": 4445,
    "start_time": "2023-03-09T22:47:46.993Z"
   },
   {
    "duration": 5,
    "start_time": "2023-03-09T22:47:51.440Z"
   },
   {
    "duration": 14,
    "start_time": "2023-03-09T22:47:51.447Z"
   },
   {
    "duration": 11,
    "start_time": "2023-03-09T22:47:51.463Z"
   },
   {
    "duration": 22,
    "start_time": "2023-03-09T22:47:51.476Z"
   },
   {
    "duration": 17,
    "start_time": "2023-03-09T22:47:51.500Z"
   },
   {
    "duration": 8,
    "start_time": "2023-03-09T22:47:51.518Z"
   },
   {
    "duration": 5,
    "start_time": "2023-03-09T22:47:51.527Z"
   },
   {
    "duration": 17,
    "start_time": "2023-03-09T22:47:51.533Z"
   },
   {
    "duration": 7,
    "start_time": "2023-03-09T22:47:51.552Z"
   },
   {
    "duration": 12,
    "start_time": "2023-03-09T22:47:51.560Z"
   },
   {
    "duration": 112,
    "start_time": "2023-03-09T22:47:51.574Z"
   },
   {
    "duration": 18,
    "start_time": "2023-03-09T22:47:51.692Z"
   },
   {
    "duration": 12,
    "start_time": "2023-03-09T22:47:51.711Z"
   },
   {
    "duration": 6,
    "start_time": "2023-03-09T22:47:51.724Z"
   },
   {
    "duration": 10,
    "start_time": "2023-03-09T22:47:51.732Z"
   },
   {
    "duration": 3,
    "start_time": "2023-03-09T22:47:51.746Z"
   },
   {
    "duration": 25,
    "start_time": "2023-03-09T22:47:51.751Z"
   },
   {
    "duration": 25,
    "start_time": "2023-03-09T22:47:51.781Z"
   },
   {
    "duration": 6,
    "start_time": "2023-03-09T22:52:51.027Z"
   },
   {
    "duration": 2705,
    "start_time": "2024-01-14T16:58:25.924Z"
   },
   {
    "duration": 77,
    "start_time": "2024-01-14T16:58:29.965Z"
   },
   {
    "duration": 29,
    "start_time": "2024-01-14T16:58:34.911Z"
   },
   {
    "duration": 11,
    "start_time": "2024-01-14T17:10:46.104Z"
   },
   {
    "duration": 6,
    "start_time": "2024-01-14T17:11:10.529Z"
   },
   {
    "duration": 7,
    "start_time": "2024-01-14T17:11:18.388Z"
   },
   {
    "duration": 16,
    "start_time": "2024-01-14T17:11:24.624Z"
   },
   {
    "duration": 12,
    "start_time": "2024-01-14T17:11:39.704Z"
   },
   {
    "duration": 6,
    "start_time": "2024-01-14T17:15:11.530Z"
   },
   {
    "duration": 4,
    "start_time": "2024-01-14T17:15:12.530Z"
   },
   {
    "duration": 8,
    "start_time": "2024-01-14T17:15:12.850Z"
   },
   {
    "duration": 11,
    "start_time": "2024-01-14T17:15:15.159Z"
   },
   {
    "duration": 5577,
    "start_time": "2024-01-14T17:15:21.963Z"
   },
   {
    "duration": 5,
    "start_time": "2024-01-14T17:31:08.474Z"
   },
   {
    "duration": 16,
    "start_time": "2024-01-14T17:31:09.514Z"
   },
   {
    "duration": 18,
    "start_time": "2024-01-14T17:31:12.086Z"
   },
   {
    "duration": 9,
    "start_time": "2024-01-14T17:31:28.441Z"
   },
   {
    "duration": 122,
    "start_time": "2024-01-14T17:31:38.089Z"
   },
   {
    "duration": 1599,
    "start_time": "2024-01-14T17:32:02.958Z"
   },
   {
    "duration": 33,
    "start_time": "2024-01-14T17:32:04.559Z"
   },
   {
    "duration": 37,
    "start_time": "2024-01-14T17:32:04.594Z"
   },
   {
    "duration": 11,
    "start_time": "2024-01-14T17:32:04.634Z"
   },
   {
    "duration": 7,
    "start_time": "2024-01-14T17:32:04.647Z"
   },
   {
    "duration": 10,
    "start_time": "2024-01-14T17:32:04.655Z"
   },
   {
    "duration": 12,
    "start_time": "2024-01-14T17:32:04.666Z"
   },
   {
    "duration": 6,
    "start_time": "2024-01-14T17:32:04.679Z"
   },
   {
    "duration": 36,
    "start_time": "2024-01-14T17:32:04.686Z"
   },
   {
    "duration": 8,
    "start_time": "2024-01-14T17:32:04.726Z"
   },
   {
    "duration": 20,
    "start_time": "2024-01-14T17:32:04.736Z"
   },
   {
    "duration": 5574,
    "start_time": "2024-01-14T17:32:04.758Z"
   },
   {
    "duration": 4,
    "start_time": "2024-01-14T17:32:10.335Z"
   },
   {
    "duration": 19,
    "start_time": "2024-01-14T17:32:10.341Z"
   },
   {
    "duration": 10,
    "start_time": "2024-01-14T17:32:19.333Z"
   },
   {
    "duration": 11,
    "start_time": "2024-01-14T17:32:20.317Z"
   },
   {
    "duration": 4,
    "start_time": "2024-01-14T17:32:29.422Z"
   },
   {
    "duration": 7,
    "start_time": "2024-01-14T17:32:39.578Z"
   },
   {
    "duration": 6,
    "start_time": "2024-01-14T17:32:41.281Z"
   },
   {
    "duration": 4,
    "start_time": "2024-01-14T17:33:14.237Z"
   },
   {
    "duration": 5,
    "start_time": "2024-01-14T17:33:15.173Z"
   },
   {
    "duration": 3,
    "start_time": "2024-01-14T17:33:27.386Z"
   },
   {
    "duration": 5,
    "start_time": "2024-01-14T17:33:27.758Z"
   },
   {
    "duration": 4,
    "start_time": "2024-01-14T17:33:43.734Z"
   },
   {
    "duration": 10,
    "start_time": "2024-01-14T17:33:48.565Z"
   },
   {
    "duration": 4,
    "start_time": "2024-01-14T17:33:49.946Z"
   },
   {
    "duration": 5,
    "start_time": "2024-01-14T17:34:31.034Z"
   },
   {
    "duration": 10,
    "start_time": "2024-01-14T17:34:32.526Z"
   },
   {
    "duration": 5,
    "start_time": "2024-01-14T17:34:32.930Z"
   },
   {
    "duration": 11,
    "start_time": "2024-01-14T17:34:44.691Z"
   },
   {
    "duration": 8,
    "start_time": "2024-01-14T17:36:39.406Z"
   }
  ],
  "colab": {
   "provenance": [],
   "toc_visible": true
  },
  "kernelspec": {
   "display_name": "Python 3 (ipykernel)",
   "language": "python",
   "name": "python3"
  },
  "language_info": {
   "codemirror_mode": {
    "name": "ipython",
    "version": 3
   },
   "file_extension": ".py",
   "mimetype": "text/x-python",
   "name": "python",
   "nbconvert_exporter": "python",
   "pygments_lexer": "ipython3",
   "version": "3.9.5"
  },
  "toc": {
   "base_numbering": 1,
   "nav_menu": {},
   "number_sections": true,
   "sideBar": true,
   "skip_h1_title": true,
   "title_cell": "Содержание",
   "title_sidebar": "Contents",
   "toc_cell": true,
   "toc_position": {},
   "toc_section_display": true,
   "toc_window_display": true
  }
 },
 "nbformat": 4,
 "nbformat_minor": 1
}
