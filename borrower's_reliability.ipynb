{
 "cells": [
  {
   "cell_type": "markdown",
   "id": "9ad357f5-8343-4a66-93d5-1b5d3f5840fd",
   "metadata": {},
   "source": [
    "# Исследование надежности заемщиков"
   ]
  },
  {
   "cell_type": "markdown",
   "id": "144a98f7-3eea-4d4b-a68e-6081a1c1c1bf",
   "metadata": {},
   "source": [
    "**Описание проектной работы**\n",
    "\n",
    "Кредитным отделом банка предоставлены данные - статистика о платёжеспособности клиентов. Исследование необходимо для построения модели кредитного скоринга.\n",
    "\n",
    "\n",
    "**Цель проекта**\n",
    "\n",
    "Проанализировать влияние семейного положения клиента на факт погашения кредита в срок. Необходимо ответить на следующие вопросы:\n",
    "\n",
    "   - есть ли зависимость между количеством детей и возвратом кредита в срок?\n",
    "   - есть ли зависимость между семейным положением и возвратом кредита в срок?\n",
    "   - есть ли зависимость между уровнем дохода и возвратом кредита в срок?\n",
    "   - как разные цели кредита влияют на его возврат в срок?"
   ]
  },
  {
   "cell_type": "markdown",
   "id": "565aafe4",
   "metadata": {
    "tags": []
   },
   "source": [
    "# Содержание"
   ]
  },
  {
   "cell_type": "markdown",
   "id": "265b7de3",
   "metadata": {},
   "source": [
    "[1. Изучение исходных данных](#Изучение-исходных-данных)\n",
    "      \n",
    "[2. Предобработка данных](#Предобработка-данных)\n",
    "\n",
    "[3.  Анализ данных и ответы на вопросы](#Анализ-данных-и-ответы-на-вопросы)\n",
    "\n",
    "[4.  Общий вывод](#Общий-вывод)"
   ]
  },
  {
   "cell_type": "markdown",
   "id": "08fe17a7",
   "metadata": {},
   "source": [
    "## Изучение исходных данных"
   ]
  },
  {
   "cell_type": "markdown",
   "id": "e90f1222",
   "metadata": {},
   "source": [
    "[Назад к содержанию](#Содержание)"
   ]
  },
  {
   "cell_type": "code",
   "execution_count": 47,
   "id": "287a8890-0e61-465f-9319-20e1941bbdc5",
   "metadata": {},
   "outputs": [],
   "source": [
    "# импорт библиотек и чтение данных\n",
    "\n",
    "import pandas as pd\n",
    "import seaborn as sns\n",
    "\n",
    "data = pd.read_csv('/datasets/data.csv')"
   ]
  },
  {
   "cell_type": "code",
   "execution_count": 2,
   "id": "346ccb65-e3cb-4865-95f9-19b393b9f865",
   "metadata": {},
   "outputs": [
    {
     "data": {
      "text/html": [
       "<div>\n",
       "<style scoped>\n",
       "    .dataframe tbody tr th:only-of-type {\n",
       "        vertical-align: middle;\n",
       "    }\n",
       "\n",
       "    .dataframe tbody tr th {\n",
       "        vertical-align: top;\n",
       "    }\n",
       "\n",
       "    .dataframe thead th {\n",
       "        text-align: right;\n",
       "    }\n",
       "</style>\n",
       "<table border=\"1\" class=\"dataframe\">\n",
       "  <thead>\n",
       "    <tr style=\"text-align: right;\">\n",
       "      <th></th>\n",
       "      <th>children</th>\n",
       "      <th>days_employed</th>\n",
       "      <th>dob_years</th>\n",
       "      <th>education</th>\n",
       "      <th>education_id</th>\n",
       "      <th>family_status</th>\n",
       "      <th>family_status_id</th>\n",
       "      <th>gender</th>\n",
       "      <th>income_type</th>\n",
       "      <th>debt</th>\n",
       "      <th>total_income</th>\n",
       "      <th>purpose</th>\n",
       "    </tr>\n",
       "  </thead>\n",
       "  <tbody>\n",
       "    <tr>\n",
       "      <th>0</th>\n",
       "      <td>1</td>\n",
       "      <td>-8437.673028</td>\n",
       "      <td>42</td>\n",
       "      <td>высшее</td>\n",
       "      <td>0</td>\n",
       "      <td>женат / замужем</td>\n",
       "      <td>0</td>\n",
       "      <td>F</td>\n",
       "      <td>сотрудник</td>\n",
       "      <td>0</td>\n",
       "      <td>253875.639453</td>\n",
       "      <td>покупка жилья</td>\n",
       "    </tr>\n",
       "    <tr>\n",
       "      <th>1</th>\n",
       "      <td>1</td>\n",
       "      <td>-4024.803754</td>\n",
       "      <td>36</td>\n",
       "      <td>среднее</td>\n",
       "      <td>1</td>\n",
       "      <td>женат / замужем</td>\n",
       "      <td>0</td>\n",
       "      <td>F</td>\n",
       "      <td>сотрудник</td>\n",
       "      <td>0</td>\n",
       "      <td>112080.014102</td>\n",
       "      <td>приобретение автомобиля</td>\n",
       "    </tr>\n",
       "    <tr>\n",
       "      <th>2</th>\n",
       "      <td>0</td>\n",
       "      <td>-5623.422610</td>\n",
       "      <td>33</td>\n",
       "      <td>Среднее</td>\n",
       "      <td>1</td>\n",
       "      <td>женат / замужем</td>\n",
       "      <td>0</td>\n",
       "      <td>M</td>\n",
       "      <td>сотрудник</td>\n",
       "      <td>0</td>\n",
       "      <td>145885.952297</td>\n",
       "      <td>покупка жилья</td>\n",
       "    </tr>\n",
       "    <tr>\n",
       "      <th>3</th>\n",
       "      <td>3</td>\n",
       "      <td>-4124.747207</td>\n",
       "      <td>32</td>\n",
       "      <td>среднее</td>\n",
       "      <td>1</td>\n",
       "      <td>женат / замужем</td>\n",
       "      <td>0</td>\n",
       "      <td>M</td>\n",
       "      <td>сотрудник</td>\n",
       "      <td>0</td>\n",
       "      <td>267628.550329</td>\n",
       "      <td>дополнительное образование</td>\n",
       "    </tr>\n",
       "    <tr>\n",
       "      <th>4</th>\n",
       "      <td>0</td>\n",
       "      <td>340266.072047</td>\n",
       "      <td>53</td>\n",
       "      <td>среднее</td>\n",
       "      <td>1</td>\n",
       "      <td>гражданский брак</td>\n",
       "      <td>1</td>\n",
       "      <td>F</td>\n",
       "      <td>пенсионер</td>\n",
       "      <td>0</td>\n",
       "      <td>158616.077870</td>\n",
       "      <td>сыграть свадьбу</td>\n",
       "    </tr>\n",
       "    <tr>\n",
       "      <th>5</th>\n",
       "      <td>0</td>\n",
       "      <td>-926.185831</td>\n",
       "      <td>27</td>\n",
       "      <td>высшее</td>\n",
       "      <td>0</td>\n",
       "      <td>гражданский брак</td>\n",
       "      <td>1</td>\n",
       "      <td>M</td>\n",
       "      <td>компаньон</td>\n",
       "      <td>0</td>\n",
       "      <td>255763.565419</td>\n",
       "      <td>покупка жилья</td>\n",
       "    </tr>\n",
       "    <tr>\n",
       "      <th>6</th>\n",
       "      <td>0</td>\n",
       "      <td>-2879.202052</td>\n",
       "      <td>43</td>\n",
       "      <td>высшее</td>\n",
       "      <td>0</td>\n",
       "      <td>женат / замужем</td>\n",
       "      <td>0</td>\n",
       "      <td>F</td>\n",
       "      <td>компаньон</td>\n",
       "      <td>0</td>\n",
       "      <td>240525.971920</td>\n",
       "      <td>операции с жильем</td>\n",
       "    </tr>\n",
       "    <tr>\n",
       "      <th>7</th>\n",
       "      <td>0</td>\n",
       "      <td>-152.779569</td>\n",
       "      <td>50</td>\n",
       "      <td>СРЕДНЕЕ</td>\n",
       "      <td>1</td>\n",
       "      <td>женат / замужем</td>\n",
       "      <td>0</td>\n",
       "      <td>M</td>\n",
       "      <td>сотрудник</td>\n",
       "      <td>0</td>\n",
       "      <td>135823.934197</td>\n",
       "      <td>образование</td>\n",
       "    </tr>\n",
       "    <tr>\n",
       "      <th>8</th>\n",
       "      <td>2</td>\n",
       "      <td>-6929.865299</td>\n",
       "      <td>35</td>\n",
       "      <td>ВЫСШЕЕ</td>\n",
       "      <td>0</td>\n",
       "      <td>гражданский брак</td>\n",
       "      <td>1</td>\n",
       "      <td>F</td>\n",
       "      <td>сотрудник</td>\n",
       "      <td>0</td>\n",
       "      <td>95856.832424</td>\n",
       "      <td>на проведение свадьбы</td>\n",
       "    </tr>\n",
       "    <tr>\n",
       "      <th>9</th>\n",
       "      <td>0</td>\n",
       "      <td>-2188.756445</td>\n",
       "      <td>41</td>\n",
       "      <td>среднее</td>\n",
       "      <td>1</td>\n",
       "      <td>женат / замужем</td>\n",
       "      <td>0</td>\n",
       "      <td>M</td>\n",
       "      <td>сотрудник</td>\n",
       "      <td>0</td>\n",
       "      <td>144425.938277</td>\n",
       "      <td>покупка жилья для семьи</td>\n",
       "    </tr>\n",
       "    <tr>\n",
       "      <th>10</th>\n",
       "      <td>2</td>\n",
       "      <td>-4171.483647</td>\n",
       "      <td>36</td>\n",
       "      <td>высшее</td>\n",
       "      <td>0</td>\n",
       "      <td>женат / замужем</td>\n",
       "      <td>0</td>\n",
       "      <td>M</td>\n",
       "      <td>компаньон</td>\n",
       "      <td>0</td>\n",
       "      <td>113943.491460</td>\n",
       "      <td>покупка недвижимости</td>\n",
       "    </tr>\n",
       "    <tr>\n",
       "      <th>11</th>\n",
       "      <td>0</td>\n",
       "      <td>-792.701887</td>\n",
       "      <td>40</td>\n",
       "      <td>среднее</td>\n",
       "      <td>1</td>\n",
       "      <td>женат / замужем</td>\n",
       "      <td>0</td>\n",
       "      <td>F</td>\n",
       "      <td>сотрудник</td>\n",
       "      <td>0</td>\n",
       "      <td>77069.234271</td>\n",
       "      <td>покупка коммерческой недвижимости</td>\n",
       "    </tr>\n",
       "    <tr>\n",
       "      <th>12</th>\n",
       "      <td>0</td>\n",
       "      <td>NaN</td>\n",
       "      <td>65</td>\n",
       "      <td>среднее</td>\n",
       "      <td>1</td>\n",
       "      <td>гражданский брак</td>\n",
       "      <td>1</td>\n",
       "      <td>M</td>\n",
       "      <td>пенсионер</td>\n",
       "      <td>0</td>\n",
       "      <td>NaN</td>\n",
       "      <td>сыграть свадьбу</td>\n",
       "    </tr>\n",
       "    <tr>\n",
       "      <th>13</th>\n",
       "      <td>0</td>\n",
       "      <td>-1846.641941</td>\n",
       "      <td>54</td>\n",
       "      <td>неоконченное высшее</td>\n",
       "      <td>2</td>\n",
       "      <td>женат / замужем</td>\n",
       "      <td>0</td>\n",
       "      <td>F</td>\n",
       "      <td>сотрудник</td>\n",
       "      <td>0</td>\n",
       "      <td>130458.228857</td>\n",
       "      <td>приобретение автомобиля</td>\n",
       "    </tr>\n",
       "    <tr>\n",
       "      <th>14</th>\n",
       "      <td>0</td>\n",
       "      <td>-1844.956182</td>\n",
       "      <td>56</td>\n",
       "      <td>высшее</td>\n",
       "      <td>0</td>\n",
       "      <td>гражданский брак</td>\n",
       "      <td>1</td>\n",
       "      <td>F</td>\n",
       "      <td>компаньон</td>\n",
       "      <td>1</td>\n",
       "      <td>165127.911772</td>\n",
       "      <td>покупка жилой недвижимости</td>\n",
       "    </tr>\n",
       "    <tr>\n",
       "      <th>15</th>\n",
       "      <td>1</td>\n",
       "      <td>-972.364419</td>\n",
       "      <td>26</td>\n",
       "      <td>среднее</td>\n",
       "      <td>1</td>\n",
       "      <td>женат / замужем</td>\n",
       "      <td>0</td>\n",
       "      <td>F</td>\n",
       "      <td>сотрудник</td>\n",
       "      <td>0</td>\n",
       "      <td>116820.904450</td>\n",
       "      <td>строительство собственной недвижимости</td>\n",
       "    </tr>\n",
       "    <tr>\n",
       "      <th>16</th>\n",
       "      <td>0</td>\n",
       "      <td>-1719.934226</td>\n",
       "      <td>35</td>\n",
       "      <td>среднее</td>\n",
       "      <td>1</td>\n",
       "      <td>женат / замужем</td>\n",
       "      <td>0</td>\n",
       "      <td>F</td>\n",
       "      <td>сотрудник</td>\n",
       "      <td>0</td>\n",
       "      <td>289202.704229</td>\n",
       "      <td>недвижимость</td>\n",
       "    </tr>\n",
       "    <tr>\n",
       "      <th>17</th>\n",
       "      <td>0</td>\n",
       "      <td>-2369.999720</td>\n",
       "      <td>33</td>\n",
       "      <td>высшее</td>\n",
       "      <td>0</td>\n",
       "      <td>гражданский брак</td>\n",
       "      <td>1</td>\n",
       "      <td>M</td>\n",
       "      <td>сотрудник</td>\n",
       "      <td>0</td>\n",
       "      <td>90410.586745</td>\n",
       "      <td>строительство недвижимости</td>\n",
       "    </tr>\n",
       "    <tr>\n",
       "      <th>18</th>\n",
       "      <td>0</td>\n",
       "      <td>400281.136913</td>\n",
       "      <td>53</td>\n",
       "      <td>среднее</td>\n",
       "      <td>1</td>\n",
       "      <td>вдовец / вдова</td>\n",
       "      <td>2</td>\n",
       "      <td>F</td>\n",
       "      <td>пенсионер</td>\n",
       "      <td>0</td>\n",
       "      <td>56823.777243</td>\n",
       "      <td>на покупку подержанного автомобиля</td>\n",
       "    </tr>\n",
       "    <tr>\n",
       "      <th>19</th>\n",
       "      <td>0</td>\n",
       "      <td>-10038.818549</td>\n",
       "      <td>48</td>\n",
       "      <td>СРЕДНЕЕ</td>\n",
       "      <td>1</td>\n",
       "      <td>в разводе</td>\n",
       "      <td>3</td>\n",
       "      <td>F</td>\n",
       "      <td>сотрудник</td>\n",
       "      <td>0</td>\n",
       "      <td>242831.107982</td>\n",
       "      <td>на покупку своего автомобиля</td>\n",
       "    </tr>\n",
       "  </tbody>\n",
       "</table>\n",
       "</div>"
      ],
      "text/plain": [
       "    children  days_employed  dob_years            education  education_id  \\\n",
       "0          1   -8437.673028         42               высшее             0   \n",
       "1          1   -4024.803754         36              среднее             1   \n",
       "2          0   -5623.422610         33              Среднее             1   \n",
       "3          3   -4124.747207         32              среднее             1   \n",
       "4          0  340266.072047         53              среднее             1   \n",
       "5          0    -926.185831         27               высшее             0   \n",
       "6          0   -2879.202052         43               высшее             0   \n",
       "7          0    -152.779569         50              СРЕДНЕЕ             1   \n",
       "8          2   -6929.865299         35               ВЫСШЕЕ             0   \n",
       "9          0   -2188.756445         41              среднее             1   \n",
       "10         2   -4171.483647         36               высшее             0   \n",
       "11         0    -792.701887         40              среднее             1   \n",
       "12         0            NaN         65              среднее             1   \n",
       "13         0   -1846.641941         54  неоконченное высшее             2   \n",
       "14         0   -1844.956182         56               высшее             0   \n",
       "15         1    -972.364419         26              среднее             1   \n",
       "16         0   -1719.934226         35              среднее             1   \n",
       "17         0   -2369.999720         33               высшее             0   \n",
       "18         0  400281.136913         53              среднее             1   \n",
       "19         0  -10038.818549         48              СРЕДНЕЕ             1   \n",
       "\n",
       "       family_status  family_status_id gender income_type  debt  \\\n",
       "0    женат / замужем                 0      F   сотрудник     0   \n",
       "1    женат / замужем                 0      F   сотрудник     0   \n",
       "2    женат / замужем                 0      M   сотрудник     0   \n",
       "3    женат / замужем                 0      M   сотрудник     0   \n",
       "4   гражданский брак                 1      F   пенсионер     0   \n",
       "5   гражданский брак                 1      M   компаньон     0   \n",
       "6    женат / замужем                 0      F   компаньон     0   \n",
       "7    женат / замужем                 0      M   сотрудник     0   \n",
       "8   гражданский брак                 1      F   сотрудник     0   \n",
       "9    женат / замужем                 0      M   сотрудник     0   \n",
       "10   женат / замужем                 0      M   компаньон     0   \n",
       "11   женат / замужем                 0      F   сотрудник     0   \n",
       "12  гражданский брак                 1      M   пенсионер     0   \n",
       "13   женат / замужем                 0      F   сотрудник     0   \n",
       "14  гражданский брак                 1      F   компаньон     1   \n",
       "15   женат / замужем                 0      F   сотрудник     0   \n",
       "16   женат / замужем                 0      F   сотрудник     0   \n",
       "17  гражданский брак                 1      M   сотрудник     0   \n",
       "18    вдовец / вдова                 2      F   пенсионер     0   \n",
       "19         в разводе                 3      F   сотрудник     0   \n",
       "\n",
       "     total_income                                 purpose  \n",
       "0   253875.639453                           покупка жилья  \n",
       "1   112080.014102                 приобретение автомобиля  \n",
       "2   145885.952297                           покупка жилья  \n",
       "3   267628.550329              дополнительное образование  \n",
       "4   158616.077870                         сыграть свадьбу  \n",
       "5   255763.565419                           покупка жилья  \n",
       "6   240525.971920                       операции с жильем  \n",
       "7   135823.934197                             образование  \n",
       "8    95856.832424                   на проведение свадьбы  \n",
       "9   144425.938277                 покупка жилья для семьи  \n",
       "10  113943.491460                    покупка недвижимости  \n",
       "11   77069.234271       покупка коммерческой недвижимости  \n",
       "12            NaN                         сыграть свадьбу  \n",
       "13  130458.228857                 приобретение автомобиля  \n",
       "14  165127.911772              покупка жилой недвижимости  \n",
       "15  116820.904450  строительство собственной недвижимости  \n",
       "16  289202.704229                            недвижимость  \n",
       "17   90410.586745              строительство недвижимости  \n",
       "18   56823.777243      на покупку подержанного автомобиля  \n",
       "19  242831.107982            на покупку своего автомобиля  "
      ]
     },
     "execution_count": 2,
     "metadata": {},
     "output_type": "execute_result"
    }
   ],
   "source": [
    "# вывод первых 20 строк\n",
    "\n",
    "data.head(20)"
   ]
  },
  {
   "cell_type": "markdown",
   "id": "227da97c",
   "metadata": {},
   "source": [
    "Проанализируем полученный датафрейм:\n",
    "\n",
    "   - присутствуют числовые и категориальные признаки;\n",
    "   - значения признака `education` записаны по-разному: заглавными или строчными буквами.\n",
    "   \n",
    "Выведем уникальные значения признака `education`."
   ]
  },
  {
   "cell_type": "code",
   "execution_count": 3,
   "id": "b91e0253",
   "metadata": {},
   "outputs": [
    {
     "data": {
      "text/plain": [
       "array(['высшее', 'среднее', 'Среднее', 'СРЕДНЕЕ', 'ВЫСШЕЕ',\n",
       "       'неоконченное высшее', 'начальное', 'Высшее',\n",
       "       'НЕОКОНЧЕННОЕ ВЫСШЕЕ', 'Неоконченное высшее', 'НАЧАЛЬНОЕ',\n",
       "       'Начальное', 'Ученая степень', 'УЧЕНАЯ СТЕПЕНЬ', 'ученая степень'],\n",
       "      dtype=object)"
      ]
     },
     "execution_count": 3,
     "metadata": {},
     "output_type": "execute_result"
    }
   ],
   "source": [
    "# уникальные значения признака education:\n",
    "\n",
    "data.education.unique()"
   ]
  },
  {
   "cell_type": "code",
   "execution_count": 4,
   "id": "fbcaf4d4",
   "metadata": {},
   "outputs": [],
   "source": [
    "# приведем значения признака education к нижнему регистру:\n",
    "\n",
    "data.education = data.education.str.lower()"
   ]
  },
  {
   "cell_type": "code",
   "execution_count": 5,
   "id": "4823a83d",
   "metadata": {},
   "outputs": [
    {
     "data": {
      "text/plain": [
       "array(['высшее', 'среднее', 'неоконченное высшее', 'начальное',\n",
       "       'ученая степень'], dtype=object)"
      ]
     },
     "execution_count": 5,
     "metadata": {},
     "output_type": "execute_result"
    }
   ],
   "source": [
    "# проверка:\n",
    "\n",
    "data.education.unique()"
   ]
  },
  {
   "cell_type": "markdown",
   "id": "f23c5045",
   "metadata": {},
   "source": [
    "Аналогичным образом проверим все оставшиеся категориальные признаки."
   ]
  },
  {
   "cell_type": "code",
   "execution_count": 6,
   "id": "e401a65d",
   "metadata": {},
   "outputs": [
    {
     "data": {
      "text/plain": [
       "array(['женат / замужем', 'гражданский брак', 'вдовец / вдова',\n",
       "       'в разводе', 'Не женат / не замужем'], dtype=object)"
      ]
     },
     "execution_count": 6,
     "metadata": {},
     "output_type": "execute_result"
    }
   ],
   "source": [
    "# уникальные значения признака family_status:\n",
    "\n",
    "data.family_status.unique()"
   ]
  },
  {
   "cell_type": "markdown",
   "id": "1e0c2a83",
   "metadata": {},
   "source": [
    "Тут всё ок."
   ]
  },
  {
   "cell_type": "code",
   "execution_count": 7,
   "id": "de46bc9a",
   "metadata": {},
   "outputs": [
    {
     "data": {
      "text/plain": [
       "array(['F', 'M', 'XNA'], dtype=object)"
      ]
     },
     "execution_count": 7,
     "metadata": {},
     "output_type": "execute_result"
    }
   ],
   "source": [
    "# уникальные значения признака gender:\n",
    "\n",
    "data.gender.unique()"
   ]
  },
  {
   "cell_type": "code",
   "execution_count": 8,
   "id": "bf73c238",
   "metadata": {},
   "outputs": [
    {
     "data": {
      "text/html": [
       "<div>\n",
       "<style scoped>\n",
       "    .dataframe tbody tr th:only-of-type {\n",
       "        vertical-align: middle;\n",
       "    }\n",
       "\n",
       "    .dataframe tbody tr th {\n",
       "        vertical-align: top;\n",
       "    }\n",
       "\n",
       "    .dataframe thead th {\n",
       "        text-align: right;\n",
       "    }\n",
       "</style>\n",
       "<table border=\"1\" class=\"dataframe\">\n",
       "  <thead>\n",
       "    <tr style=\"text-align: right;\">\n",
       "      <th></th>\n",
       "      <th>children</th>\n",
       "      <th>days_employed</th>\n",
       "      <th>dob_years</th>\n",
       "      <th>education</th>\n",
       "      <th>education_id</th>\n",
       "      <th>family_status</th>\n",
       "      <th>family_status_id</th>\n",
       "      <th>gender</th>\n",
       "      <th>income_type</th>\n",
       "      <th>debt</th>\n",
       "      <th>total_income</th>\n",
       "      <th>purpose</th>\n",
       "    </tr>\n",
       "  </thead>\n",
       "  <tbody>\n",
       "    <tr>\n",
       "      <th>10701</th>\n",
       "      <td>0</td>\n",
       "      <td>-2358.600502</td>\n",
       "      <td>24</td>\n",
       "      <td>неоконченное высшее</td>\n",
       "      <td>2</td>\n",
       "      <td>гражданский брак</td>\n",
       "      <td>1</td>\n",
       "      <td>XNA</td>\n",
       "      <td>компаньон</td>\n",
       "      <td>0</td>\n",
       "      <td>203905.157261</td>\n",
       "      <td>покупка недвижимости</td>\n",
       "    </tr>\n",
       "  </tbody>\n",
       "</table>\n",
       "</div>"
      ],
      "text/plain": [
       "       children  days_employed  dob_years            education  education_id  \\\n",
       "10701         0   -2358.600502         24  неоконченное высшее             2   \n",
       "\n",
       "          family_status  family_status_id gender income_type  debt  \\\n",
       "10701  гражданский брак                 1    XNA   компаньон     0   \n",
       "\n",
       "        total_income               purpose  \n",
       "10701  203905.157261  покупка недвижимости  "
      ]
     },
     "execution_count": 8,
     "metadata": {},
     "output_type": "execute_result"
    }
   ],
   "source": [
    "# выведем строки со значением признака gender равным XNA:\n",
    "\n",
    "data.query('gender == \"XNA\"')"
   ]
  },
  {
   "cell_type": "markdown",
   "id": "e7145dc6",
   "metadata": {},
   "source": [
    "Всего одна запись. Удалим из датафрейма."
   ]
  },
  {
   "cell_type": "code",
   "execution_count": 9,
   "id": "78fdbeb0",
   "metadata": {},
   "outputs": [
    {
     "data": {
      "text/plain": [
       "array(['F', 'M'], dtype=object)"
      ]
     },
     "execution_count": 9,
     "metadata": {},
     "output_type": "execute_result"
    }
   ],
   "source": [
    "# удаление пола XNA:\n",
    "\n",
    "data = data.query('gender != \"XNA\"')\n",
    "\n",
    "# проверка:\n",
    "data.gender.unique()"
   ]
  },
  {
   "cell_type": "markdown",
   "id": "1c54c8c0",
   "metadata": {},
   "source": [
    "Далее перейдём к признаку `income_type`."
   ]
  },
  {
   "cell_type": "code",
   "execution_count": 10,
   "id": "37cf2355",
   "metadata": {},
   "outputs": [
    {
     "data": {
      "text/plain": [
       "array(['сотрудник', 'пенсионер', 'компаньон', 'госслужащий',\n",
       "       'безработный', 'предприниматель', 'студент', 'в декрете'],\n",
       "      dtype=object)"
      ]
     },
     "execution_count": 10,
     "metadata": {},
     "output_type": "execute_result"
    }
   ],
   "source": [
    "data.income_type.unique()"
   ]
  },
  {
   "cell_type": "markdown",
   "id": "0eae5586",
   "metadata": {},
   "source": [
    "Всё хорошо. Перейдём к последнему категориальному признаку `purpose`."
   ]
  },
  {
   "cell_type": "code",
   "execution_count": 11,
   "id": "2d46ed24",
   "metadata": {},
   "outputs": [
    {
     "data": {
      "text/plain": [
       "array(['покупка жилья', 'приобретение автомобиля',\n",
       "       'дополнительное образование', 'сыграть свадьбу',\n",
       "       'операции с жильем', 'образование', 'на проведение свадьбы',\n",
       "       'покупка жилья для семьи', 'покупка недвижимости',\n",
       "       'покупка коммерческой недвижимости', 'покупка жилой недвижимости',\n",
       "       'строительство собственной недвижимости', 'недвижимость',\n",
       "       'строительство недвижимости', 'на покупку подержанного автомобиля',\n",
       "       'на покупку своего автомобиля',\n",
       "       'операции с коммерческой недвижимостью',\n",
       "       'строительство жилой недвижимости', 'жилье',\n",
       "       'операции со своей недвижимостью', 'автомобили',\n",
       "       'заняться образованием', 'сделка с подержанным автомобилем',\n",
       "       'получение образования', 'автомобиль', 'свадьба',\n",
       "       'получение дополнительного образования', 'покупка своего жилья',\n",
       "       'операции с недвижимостью', 'получение высшего образования',\n",
       "       'свой автомобиль', 'сделка с автомобилем',\n",
       "       'профильное образование', 'высшее образование',\n",
       "       'покупка жилья для сдачи', 'на покупку автомобиля', 'ремонт жилью',\n",
       "       'заняться высшим образованием'], dtype=object)"
      ]
     },
     "execution_count": 11,
     "metadata": {},
     "output_type": "execute_result"
    }
   ],
   "source": [
    "data.purpose.unique()"
   ]
  },
  {
   "cell_type": "markdown",
   "id": "5f8941a9",
   "metadata": {},
   "source": [
    "Тут видны синтаксические ошибки. А также одни и те же цели, записанные по-разному. Оставим эти признаки пока как есть без изменений. "
   ]
  },
  {
   "cell_type": "code",
   "execution_count": 12,
   "id": "a44ab178-e964-4c79-9f95-091a274061f9",
   "metadata": {},
   "outputs": [
    {
     "name": "stdout",
     "output_type": "stream",
     "text": [
      "<class 'pandas.core.frame.DataFrame'>\n",
      "Int64Index: 21524 entries, 0 to 21524\n",
      "Data columns (total 12 columns):\n",
      " #   Column            Non-Null Count  Dtype  \n",
      "---  ------            --------------  -----  \n",
      " 0   children          21524 non-null  int64  \n",
      " 1   days_employed     19350 non-null  float64\n",
      " 2   dob_years         21524 non-null  int64  \n",
      " 3   education         21524 non-null  object \n",
      " 4   education_id      21524 non-null  int64  \n",
      " 5   family_status     21524 non-null  object \n",
      " 6   family_status_id  21524 non-null  int64  \n",
      " 7   gender            21524 non-null  object \n",
      " 8   income_type       21524 non-null  object \n",
      " 9   debt              21524 non-null  int64  \n",
      " 10  total_income      19350 non-null  float64\n",
      " 11  purpose           21524 non-null  object \n",
      "dtypes: float64(2), int64(5), object(5)\n",
      "memory usage: 2.1+ MB\n"
     ]
    }
   ],
   "source": [
    "# вывод основной информации\n",
    "\n",
    "data.info()"
   ]
  },
  {
   "cell_type": "markdown",
   "id": "98f9e231",
   "metadata": {},
   "source": [
    "## Предобработка данных"
   ]
  },
  {
   "cell_type": "markdown",
   "id": "1d58047e",
   "metadata": {},
   "source": [
    "[Назад к содержанию](#Содержание)"
   ]
  },
  {
   "cell_type": "markdown",
   "id": "5e395bd9",
   "metadata": {},
   "source": [
    "### Удаление пропусков"
   ]
  },
  {
   "cell_type": "code",
   "execution_count": 13,
   "id": "03486657",
   "metadata": {},
   "outputs": [
    {
     "data": {
      "text/plain": [
       "children               0\n",
       "days_employed       2174\n",
       "dob_years              0\n",
       "education              0\n",
       "education_id           0\n",
       "family_status          0\n",
       "family_status_id       0\n",
       "gender                 0\n",
       "income_type            0\n",
       "debt                   0\n",
       "total_income        2174\n",
       "purpose                0\n",
       "dtype: int64"
      ]
     },
     "execution_count": 13,
     "metadata": {},
     "output_type": "execute_result"
    }
   ],
   "source": [
    "# количество пропусков\n",
    "\n",
    "data.isna().sum()"
   ]
  },
  {
   "cell_type": "markdown",
   "id": "bacdca0d",
   "metadata": {},
   "source": [
    "Наблюдаем пропуски в двух столбцах: `days_employed` и `total_income`.\n",
    "\n",
    "Обработаем сначала `total_income` - данный столбец хранит данные о доходах. На сумму дохода сильнее всего влияет тип занятости, поэтому заполним пропуски в этом столбце медианным значением по каждому типу из столбца `income_type`. Например, у человека с типом занятости `сотрудник` пропуск в столбце `total_income` заполним медианным доходом среди всех записей с тем же типом."
   ]
  },
  {
   "cell_type": "code",
   "execution_count": 14,
   "id": "f412dfaf",
   "metadata": {},
   "outputs": [],
   "source": [
    "# заполнение пропусков в total_income\n",
    "# медианным значением total_income \n",
    "# по каждому типу из столбца income_type\n",
    "\n",
    "for row in data['income_type'].unique():\n",
    "    data.loc[(data['income_type'] == row) \\\n",
    "        & (data['total_income'].isna()), \\\n",
    "        'total_income'] = \\\n",
    "    data.loc[(data['income_type'] == row), \\\n",
    "        'total_income'].median()\n"
   ]
  },
  {
   "cell_type": "markdown",
   "id": "00433282",
   "metadata": {},
   "source": [
    "Перейдём к признаку трудовой стаж - `days_employed`. Трудовой стаж зависит от типа занятости. Выведем медианное значение трудового стажа для каждого типа занятости."
   ]
  },
  {
   "cell_type": "code",
   "execution_count": 15,
   "id": "06a28117",
   "metadata": {},
   "outputs": [
    {
     "data": {
      "text/plain": [
       "income_type\n",
       "безработный        366413.652744\n",
       "в декрете           -3296.759962\n",
       "госслужащий         -2689.368353\n",
       "компаньон           -1546.333214\n",
       "пенсионер          365213.306266\n",
       "предприниматель      -520.848083\n",
       "сотрудник           -1574.202821\n",
       "студент              -578.751554\n",
       "Name: days_employed, dtype: float64"
      ]
     },
     "execution_count": 15,
     "metadata": {},
     "output_type": "execute_result"
    }
   ],
   "source": [
    "# медианное значение трудового стажа для каждого типа занятости:\n",
    "\n",
    "data.groupby('income_type')['days_employed'].median()"
   ]
  },
  {
   "cell_type": "markdown",
   "id": "62416fe0",
   "metadata": {},
   "source": [
    "Наблюдаем отрицательные значения, а также аномально большие значения для безработных и пенсионеров. Заполним пропуски в `days_employed` медианным значением по типу занятости."
   ]
  },
  {
   "cell_type": "code",
   "execution_count": 16,
   "id": "06fe874b",
   "metadata": {},
   "outputs": [],
   "source": [
    "# заполнение пропусков в трудовом стаже\n",
    "# медианным значением по типу занятости:\n",
    "\n",
    "for row in data['income_type']:\n",
    "    data.loc[(data['income_type'] == row) & (data['days_employed'].isna()), 'days_employed'] = \\\n",
    "    data.loc[(data['income_type'] == row), 'days_employed'].median()\n",
    "    "
   ]
  },
  {
   "cell_type": "code",
   "execution_count": 17,
   "id": "d5890e78",
   "metadata": {},
   "outputs": [
    {
     "data": {
      "text/plain": [
       "children            0\n",
       "days_employed       0\n",
       "dob_years           0\n",
       "education           0\n",
       "education_id        0\n",
       "family_status       0\n",
       "family_status_id    0\n",
       "gender              0\n",
       "income_type         0\n",
       "debt                0\n",
       "total_income        0\n",
       "purpose             0\n",
       "dtype: int64"
      ]
     },
     "execution_count": 17,
     "metadata": {},
     "output_type": "execute_result"
    }
   ],
   "source": [
    "# проверка на пропуски\n",
    "\n",
    "data.isna().sum()"
   ]
  },
  {
   "cell_type": "markdown",
   "id": "efc75adf",
   "metadata": {},
   "source": [
    "Избавились от пропусков."
   ]
  },
  {
   "cell_type": "markdown",
   "id": "4e611936",
   "metadata": {},
   "source": [
    "### Обработка аномальных значений"
   ]
  },
  {
   "cell_type": "code",
   "execution_count": 18,
   "id": "18b743df",
   "metadata": {},
   "outputs": [
    {
     "data": {
      "text/html": [
       "<div>\n",
       "<style scoped>\n",
       "    .dataframe tbody tr th:only-of-type {\n",
       "        vertical-align: middle;\n",
       "    }\n",
       "\n",
       "    .dataframe tbody tr th {\n",
       "        vertical-align: top;\n",
       "    }\n",
       "\n",
       "    .dataframe thead th {\n",
       "        text-align: right;\n",
       "    }\n",
       "</style>\n",
       "<table border=\"1\" class=\"dataframe\">\n",
       "  <thead>\n",
       "    <tr style=\"text-align: right;\">\n",
       "      <th></th>\n",
       "      <th>children</th>\n",
       "      <th>days_employed</th>\n",
       "      <th>dob_years</th>\n",
       "      <th>education_id</th>\n",
       "      <th>family_status_id</th>\n",
       "      <th>debt</th>\n",
       "      <th>total_income</th>\n",
       "    </tr>\n",
       "  </thead>\n",
       "  <tbody>\n",
       "    <tr>\n",
       "      <th>count</th>\n",
       "      <td>21524.000000</td>\n",
       "      <td>21524.000000</td>\n",
       "      <td>21524.000000</td>\n",
       "      <td>21524.000000</td>\n",
       "      <td>21524.000000</td>\n",
       "      <td>21524.000000</td>\n",
       "      <td>2.152400e+04</td>\n",
       "    </tr>\n",
       "    <tr>\n",
       "      <th>mean</th>\n",
       "      <td>0.538933</td>\n",
       "      <td>63553.583950</td>\n",
       "      <td>43.294276</td>\n",
       "      <td>0.817181</td>\n",
       "      <td>0.972542</td>\n",
       "      <td>0.080886</td>\n",
       "      <td>1.652226e+05</td>\n",
       "    </tr>\n",
       "    <tr>\n",
       "      <th>std</th>\n",
       "      <td>1.381615</td>\n",
       "      <td>141152.972692</td>\n",
       "      <td>12.574188</td>\n",
       "      <td>0.548092</td>\n",
       "      <td>1.420357</td>\n",
       "      <td>0.272667</td>\n",
       "      <td>9.804552e+04</td>\n",
       "    </tr>\n",
       "    <tr>\n",
       "      <th>min</th>\n",
       "      <td>-1.000000</td>\n",
       "      <td>-18388.949901</td>\n",
       "      <td>0.000000</td>\n",
       "      <td>0.000000</td>\n",
       "      <td>0.000000</td>\n",
       "      <td>0.000000</td>\n",
       "      <td>2.066726e+04</td>\n",
       "    </tr>\n",
       "    <tr>\n",
       "      <th>25%</th>\n",
       "      <td>0.000000</td>\n",
       "      <td>-2570.051846</td>\n",
       "      <td>33.000000</td>\n",
       "      <td>1.000000</td>\n",
       "      <td>0.000000</td>\n",
       "      <td>0.000000</td>\n",
       "      <td>1.077960e+05</td>\n",
       "    </tr>\n",
       "    <tr>\n",
       "      <th>50%</th>\n",
       "      <td>0.000000</td>\n",
       "      <td>-1355.580204</td>\n",
       "      <td>42.000000</td>\n",
       "      <td>1.000000</td>\n",
       "      <td>0.000000</td>\n",
       "      <td>0.000000</td>\n",
       "      <td>1.425944e+05</td>\n",
       "    </tr>\n",
       "    <tr>\n",
       "      <th>75%</th>\n",
       "      <td>1.000000</td>\n",
       "      <td>-316.195939</td>\n",
       "      <td>53.000000</td>\n",
       "      <td>1.000000</td>\n",
       "      <td>1.000000</td>\n",
       "      <td>0.000000</td>\n",
       "      <td>1.955452e+05</td>\n",
       "    </tr>\n",
       "    <tr>\n",
       "      <th>max</th>\n",
       "      <td>20.000000</td>\n",
       "      <td>401755.400475</td>\n",
       "      <td>75.000000</td>\n",
       "      <td>4.000000</td>\n",
       "      <td>4.000000</td>\n",
       "      <td>1.000000</td>\n",
       "      <td>2.265604e+06</td>\n",
       "    </tr>\n",
       "  </tbody>\n",
       "</table>\n",
       "</div>"
      ],
      "text/plain": [
       "           children  days_employed     dob_years  education_id  \\\n",
       "count  21524.000000   21524.000000  21524.000000  21524.000000   \n",
       "mean       0.538933   63553.583950     43.294276      0.817181   \n",
       "std        1.381615  141152.972692     12.574188      0.548092   \n",
       "min       -1.000000  -18388.949901      0.000000      0.000000   \n",
       "25%        0.000000   -2570.051846     33.000000      1.000000   \n",
       "50%        0.000000   -1355.580204     42.000000      1.000000   \n",
       "75%        1.000000    -316.195939     53.000000      1.000000   \n",
       "max       20.000000  401755.400475     75.000000      4.000000   \n",
       "\n",
       "       family_status_id          debt  total_income  \n",
       "count      21524.000000  21524.000000  2.152400e+04  \n",
       "mean           0.972542      0.080886  1.652226e+05  \n",
       "std            1.420357      0.272667  9.804552e+04  \n",
       "min            0.000000      0.000000  2.066726e+04  \n",
       "25%            0.000000      0.000000  1.077960e+05  \n",
       "50%            0.000000      0.000000  1.425944e+05  \n",
       "75%            1.000000      0.000000  1.955452e+05  \n",
       "max            4.000000      1.000000  2.265604e+06  "
      ]
     },
     "execution_count": 18,
     "metadata": {},
     "output_type": "execute_result"
    }
   ],
   "source": [
    "# вывод общей информации:\n",
    "\n",
    "data.describe()"
   ]
  },
  {
   "cell_type": "markdown",
   "id": "fc57ed64",
   "metadata": {},
   "source": [
    "Отметим следующие аномалии:\n",
    "\n",
    "   - минимальное количество детей равно -1;\n",
    "   - максимальное количество детей равно 20;\n",
    "   - отрицательное количество дней трудового стажа в столбце `days_employed`"
   ]
  },
  {
   "cell_type": "code",
   "execution_count": 19,
   "id": "bc0f9c20",
   "metadata": {},
   "outputs": [
    {
     "data": {
      "text/html": [
       "<div>\n",
       "<style scoped>\n",
       "    .dataframe tbody tr th:only-of-type {\n",
       "        vertical-align: middle;\n",
       "    }\n",
       "\n",
       "    .dataframe tbody tr th {\n",
       "        vertical-align: top;\n",
       "    }\n",
       "\n",
       "    .dataframe thead th {\n",
       "        text-align: right;\n",
       "    }\n",
       "</style>\n",
       "<table border=\"1\" class=\"dataframe\">\n",
       "  <thead>\n",
       "    <tr style=\"text-align: right;\">\n",
       "      <th></th>\n",
       "      <th>children</th>\n",
       "      <th>days_employed</th>\n",
       "      <th>dob_years</th>\n",
       "      <th>education</th>\n",
       "      <th>education_id</th>\n",
       "      <th>family_status</th>\n",
       "      <th>family_status_id</th>\n",
       "      <th>gender</th>\n",
       "      <th>income_type</th>\n",
       "      <th>debt</th>\n",
       "      <th>total_income</th>\n",
       "      <th>purpose</th>\n",
       "    </tr>\n",
       "  </thead>\n",
       "  <tbody>\n",
       "    <tr>\n",
       "      <th>291</th>\n",
       "      <td>-1</td>\n",
       "      <td>-4417.703588</td>\n",
       "      <td>46</td>\n",
       "      <td>среднее</td>\n",
       "      <td>1</td>\n",
       "      <td>гражданский брак</td>\n",
       "      <td>1</td>\n",
       "      <td>F</td>\n",
       "      <td>сотрудник</td>\n",
       "      <td>0</td>\n",
       "      <td>102816.346412</td>\n",
       "      <td>профильное образование</td>\n",
       "    </tr>\n",
       "    <tr>\n",
       "      <th>705</th>\n",
       "      <td>-1</td>\n",
       "      <td>-902.084528</td>\n",
       "      <td>50</td>\n",
       "      <td>среднее</td>\n",
       "      <td>1</td>\n",
       "      <td>женат / замужем</td>\n",
       "      <td>0</td>\n",
       "      <td>F</td>\n",
       "      <td>госслужащий</td>\n",
       "      <td>0</td>\n",
       "      <td>137882.899271</td>\n",
       "      <td>приобретение автомобиля</td>\n",
       "    </tr>\n",
       "    <tr>\n",
       "      <th>742</th>\n",
       "      <td>-1</td>\n",
       "      <td>-3174.456205</td>\n",
       "      <td>57</td>\n",
       "      <td>среднее</td>\n",
       "      <td>1</td>\n",
       "      <td>женат / замужем</td>\n",
       "      <td>0</td>\n",
       "      <td>F</td>\n",
       "      <td>сотрудник</td>\n",
       "      <td>0</td>\n",
       "      <td>64268.044444</td>\n",
       "      <td>дополнительное образование</td>\n",
       "    </tr>\n",
       "    <tr>\n",
       "      <th>800</th>\n",
       "      <td>-1</td>\n",
       "      <td>349987.852217</td>\n",
       "      <td>54</td>\n",
       "      <td>среднее</td>\n",
       "      <td>1</td>\n",
       "      <td>Не женат / не замужем</td>\n",
       "      <td>4</td>\n",
       "      <td>F</td>\n",
       "      <td>пенсионер</td>\n",
       "      <td>0</td>\n",
       "      <td>86293.724153</td>\n",
       "      <td>дополнительное образование</td>\n",
       "    </tr>\n",
       "    <tr>\n",
       "      <th>941</th>\n",
       "      <td>-1</td>\n",
       "      <td>365213.306266</td>\n",
       "      <td>57</td>\n",
       "      <td>среднее</td>\n",
       "      <td>1</td>\n",
       "      <td>женат / замужем</td>\n",
       "      <td>0</td>\n",
       "      <td>F</td>\n",
       "      <td>пенсионер</td>\n",
       "      <td>0</td>\n",
       "      <td>118514.486412</td>\n",
       "      <td>на покупку своего автомобиля</td>\n",
       "    </tr>\n",
       "    <tr>\n",
       "      <th>1363</th>\n",
       "      <td>-1</td>\n",
       "      <td>-1195.264956</td>\n",
       "      <td>55</td>\n",
       "      <td>среднее</td>\n",
       "      <td>1</td>\n",
       "      <td>женат / замужем</td>\n",
       "      <td>0</td>\n",
       "      <td>F</td>\n",
       "      <td>компаньон</td>\n",
       "      <td>0</td>\n",
       "      <td>69550.699692</td>\n",
       "      <td>профильное образование</td>\n",
       "    </tr>\n",
       "    <tr>\n",
       "      <th>1929</th>\n",
       "      <td>-1</td>\n",
       "      <td>-1461.303336</td>\n",
       "      <td>38</td>\n",
       "      <td>среднее</td>\n",
       "      <td>1</td>\n",
       "      <td>Не женат / не замужем</td>\n",
       "      <td>4</td>\n",
       "      <td>M</td>\n",
       "      <td>сотрудник</td>\n",
       "      <td>0</td>\n",
       "      <td>109121.569013</td>\n",
       "      <td>покупка жилья</td>\n",
       "    </tr>\n",
       "    <tr>\n",
       "      <th>2073</th>\n",
       "      <td>-1</td>\n",
       "      <td>-2539.761232</td>\n",
       "      <td>42</td>\n",
       "      <td>среднее</td>\n",
       "      <td>1</td>\n",
       "      <td>в разводе</td>\n",
       "      <td>3</td>\n",
       "      <td>F</td>\n",
       "      <td>компаньон</td>\n",
       "      <td>0</td>\n",
       "      <td>162638.609373</td>\n",
       "      <td>покупка жилья</td>\n",
       "    </tr>\n",
       "    <tr>\n",
       "      <th>3814</th>\n",
       "      <td>-1</td>\n",
       "      <td>-3045.290443</td>\n",
       "      <td>26</td>\n",
       "      <td>среднее</td>\n",
       "      <td>1</td>\n",
       "      <td>гражданский брак</td>\n",
       "      <td>1</td>\n",
       "      <td>F</td>\n",
       "      <td>госслужащий</td>\n",
       "      <td>0</td>\n",
       "      <td>131892.785435</td>\n",
       "      <td>на проведение свадьбы</td>\n",
       "    </tr>\n",
       "    <tr>\n",
       "      <th>4201</th>\n",
       "      <td>-1</td>\n",
       "      <td>-901.101738</td>\n",
       "      <td>41</td>\n",
       "      <td>среднее</td>\n",
       "      <td>1</td>\n",
       "      <td>женат / замужем</td>\n",
       "      <td>0</td>\n",
       "      <td>F</td>\n",
       "      <td>госслужащий</td>\n",
       "      <td>0</td>\n",
       "      <td>226375.766751</td>\n",
       "      <td>операции со своей недвижимостью</td>\n",
       "    </tr>\n",
       "    <tr>\n",
       "      <th>4402</th>\n",
       "      <td>-1</td>\n",
       "      <td>398001.302888</td>\n",
       "      <td>64</td>\n",
       "      <td>среднее</td>\n",
       "      <td>1</td>\n",
       "      <td>женат / замужем</td>\n",
       "      <td>0</td>\n",
       "      <td>F</td>\n",
       "      <td>пенсионер</td>\n",
       "      <td>0</td>\n",
       "      <td>163264.062064</td>\n",
       "      <td>покупка недвижимости</td>\n",
       "    </tr>\n",
       "    <tr>\n",
       "      <th>4542</th>\n",
       "      <td>-1</td>\n",
       "      <td>-1811.899756</td>\n",
       "      <td>32</td>\n",
       "      <td>среднее</td>\n",
       "      <td>1</td>\n",
       "      <td>женат / замужем</td>\n",
       "      <td>0</td>\n",
       "      <td>F</td>\n",
       "      <td>сотрудник</td>\n",
       "      <td>0</td>\n",
       "      <td>160544.718446</td>\n",
       "      <td>образование</td>\n",
       "    </tr>\n",
       "    <tr>\n",
       "      <th>5272</th>\n",
       "      <td>-1</td>\n",
       "      <td>-1143.485347</td>\n",
       "      <td>46</td>\n",
       "      <td>среднее</td>\n",
       "      <td>1</td>\n",
       "      <td>вдовец / вдова</td>\n",
       "      <td>2</td>\n",
       "      <td>F</td>\n",
       "      <td>сотрудник</td>\n",
       "      <td>0</td>\n",
       "      <td>278708.018820</td>\n",
       "      <td>покупка недвижимости</td>\n",
       "    </tr>\n",
       "    <tr>\n",
       "      <th>6013</th>\n",
       "      <td>-1</td>\n",
       "      <td>-1361.258696</td>\n",
       "      <td>46</td>\n",
       "      <td>высшее</td>\n",
       "      <td>0</td>\n",
       "      <td>женат / замужем</td>\n",
       "      <td>0</td>\n",
       "      <td>F</td>\n",
       "      <td>сотрудник</td>\n",
       "      <td>0</td>\n",
       "      <td>143008.454914</td>\n",
       "      <td>строительство собственной недвижимости</td>\n",
       "    </tr>\n",
       "    <tr>\n",
       "      <th>6385</th>\n",
       "      <td>-1</td>\n",
       "      <td>370215.476226</td>\n",
       "      <td>48</td>\n",
       "      <td>среднее</td>\n",
       "      <td>1</td>\n",
       "      <td>вдовец / вдова</td>\n",
       "      <td>2</td>\n",
       "      <td>F</td>\n",
       "      <td>пенсионер</td>\n",
       "      <td>0</td>\n",
       "      <td>36052.447435</td>\n",
       "      <td>образование</td>\n",
       "    </tr>\n",
       "    <tr>\n",
       "      <th>7190</th>\n",
       "      <td>-1</td>\n",
       "      <td>-5928.202068</td>\n",
       "      <td>34</td>\n",
       "      <td>среднее</td>\n",
       "      <td>1</td>\n",
       "      <td>женат / замужем</td>\n",
       "      <td>0</td>\n",
       "      <td>M</td>\n",
       "      <td>сотрудник</td>\n",
       "      <td>0</td>\n",
       "      <td>184315.121979</td>\n",
       "      <td>приобретение автомобиля</td>\n",
       "    </tr>\n",
       "    <tr>\n",
       "      <th>7278</th>\n",
       "      <td>-1</td>\n",
       "      <td>-526.318451</td>\n",
       "      <td>51</td>\n",
       "      <td>среднее</td>\n",
       "      <td>1</td>\n",
       "      <td>женат / замужем</td>\n",
       "      <td>0</td>\n",
       "      <td>F</td>\n",
       "      <td>сотрудник</td>\n",
       "      <td>0</td>\n",
       "      <td>146928.769439</td>\n",
       "      <td>операции с коммерческой недвижимостью</td>\n",
       "    </tr>\n",
       "    <tr>\n",
       "      <th>7615</th>\n",
       "      <td>-1</td>\n",
       "      <td>-1574.202821</td>\n",
       "      <td>35</td>\n",
       "      <td>среднее</td>\n",
       "      <td>1</td>\n",
       "      <td>женат / замужем</td>\n",
       "      <td>0</td>\n",
       "      <td>M</td>\n",
       "      <td>сотрудник</td>\n",
       "      <td>0</td>\n",
       "      <td>142594.396847</td>\n",
       "      <td>образование</td>\n",
       "    </tr>\n",
       "    <tr>\n",
       "      <th>7685</th>\n",
       "      <td>-1</td>\n",
       "      <td>-3237.360455</td>\n",
       "      <td>53</td>\n",
       "      <td>среднее</td>\n",
       "      <td>1</td>\n",
       "      <td>вдовец / вдова</td>\n",
       "      <td>2</td>\n",
       "      <td>F</td>\n",
       "      <td>сотрудник</td>\n",
       "      <td>0</td>\n",
       "      <td>159676.174958</td>\n",
       "      <td>строительство жилой недвижимости</td>\n",
       "    </tr>\n",
       "    <tr>\n",
       "      <th>8229</th>\n",
       "      <td>-1</td>\n",
       "      <td>-1803.441074</td>\n",
       "      <td>54</td>\n",
       "      <td>высшее</td>\n",
       "      <td>0</td>\n",
       "      <td>женат / замужем</td>\n",
       "      <td>0</td>\n",
       "      <td>F</td>\n",
       "      <td>компаньон</td>\n",
       "      <td>0</td>\n",
       "      <td>138809.082930</td>\n",
       "      <td>покупка недвижимости</td>\n",
       "    </tr>\n",
       "    <tr>\n",
       "      <th>8251</th>\n",
       "      <td>-1</td>\n",
       "      <td>-3113.998449</td>\n",
       "      <td>31</td>\n",
       "      <td>среднее</td>\n",
       "      <td>1</td>\n",
       "      <td>гражданский брак</td>\n",
       "      <td>1</td>\n",
       "      <td>F</td>\n",
       "      <td>сотрудник</td>\n",
       "      <td>0</td>\n",
       "      <td>54412.056005</td>\n",
       "      <td>свой автомобиль</td>\n",
       "    </tr>\n",
       "    <tr>\n",
       "      <th>8561</th>\n",
       "      <td>-1</td>\n",
       "      <td>-195.479496</td>\n",
       "      <td>31</td>\n",
       "      <td>среднее</td>\n",
       "      <td>1</td>\n",
       "      <td>женат / замужем</td>\n",
       "      <td>0</td>\n",
       "      <td>F</td>\n",
       "      <td>сотрудник</td>\n",
       "      <td>0</td>\n",
       "      <td>145577.881522</td>\n",
       "      <td>ремонт жилью</td>\n",
       "    </tr>\n",
       "    <tr>\n",
       "      <th>9565</th>\n",
       "      <td>-1</td>\n",
       "      <td>-2896.629686</td>\n",
       "      <td>34</td>\n",
       "      <td>высшее</td>\n",
       "      <td>0</td>\n",
       "      <td>женат / замужем</td>\n",
       "      <td>0</td>\n",
       "      <td>M</td>\n",
       "      <td>сотрудник</td>\n",
       "      <td>0</td>\n",
       "      <td>126754.656529</td>\n",
       "      <td>операции с недвижимостью</td>\n",
       "    </tr>\n",
       "    <tr>\n",
       "      <th>9574</th>\n",
       "      <td>-1</td>\n",
       "      <td>-2710.419901</td>\n",
       "      <td>28</td>\n",
       "      <td>высшее</td>\n",
       "      <td>0</td>\n",
       "      <td>женат / замужем</td>\n",
       "      <td>0</td>\n",
       "      <td>M</td>\n",
       "      <td>госслужащий</td>\n",
       "      <td>0</td>\n",
       "      <td>303137.161001</td>\n",
       "      <td>получение дополнительного образования</td>\n",
       "    </tr>\n",
       "    <tr>\n",
       "      <th>10177</th>\n",
       "      <td>-1</td>\n",
       "      <td>-1743.604011</td>\n",
       "      <td>37</td>\n",
       "      <td>среднее</td>\n",
       "      <td>1</td>\n",
       "      <td>женат / замужем</td>\n",
       "      <td>0</td>\n",
       "      <td>M</td>\n",
       "      <td>сотрудник</td>\n",
       "      <td>0</td>\n",
       "      <td>310367.509001</td>\n",
       "      <td>получение образования</td>\n",
       "    </tr>\n",
       "    <tr>\n",
       "      <th>10365</th>\n",
       "      <td>-1</td>\n",
       "      <td>345774.125957</td>\n",
       "      <td>63</td>\n",
       "      <td>высшее</td>\n",
       "      <td>0</td>\n",
       "      <td>вдовец / вдова</td>\n",
       "      <td>2</td>\n",
       "      <td>F</td>\n",
       "      <td>пенсионер</td>\n",
       "      <td>0</td>\n",
       "      <td>170762.751325</td>\n",
       "      <td>строительство жилой недвижимости</td>\n",
       "    </tr>\n",
       "    <tr>\n",
       "      <th>10918</th>\n",
       "      <td>-1</td>\n",
       "      <td>340499.039342</td>\n",
       "      <td>50</td>\n",
       "      <td>среднее</td>\n",
       "      <td>1</td>\n",
       "      <td>женат / замужем</td>\n",
       "      <td>0</td>\n",
       "      <td>M</td>\n",
       "      <td>пенсионер</td>\n",
       "      <td>0</td>\n",
       "      <td>170762.773162</td>\n",
       "      <td>покупка своего жилья</td>\n",
       "    </tr>\n",
       "    <tr>\n",
       "      <th>11109</th>\n",
       "      <td>-1</td>\n",
       "      <td>-3438.463024</td>\n",
       "      <td>59</td>\n",
       "      <td>среднее</td>\n",
       "      <td>1</td>\n",
       "      <td>женат / замужем</td>\n",
       "      <td>0</td>\n",
       "      <td>F</td>\n",
       "      <td>сотрудник</td>\n",
       "      <td>0</td>\n",
       "      <td>219874.012345</td>\n",
       "      <td>операции с жильем</td>\n",
       "    </tr>\n",
       "    <tr>\n",
       "      <th>11268</th>\n",
       "      <td>-1</td>\n",
       "      <td>-1048.782203</td>\n",
       "      <td>30</td>\n",
       "      <td>высшее</td>\n",
       "      <td>0</td>\n",
       "      <td>гражданский брак</td>\n",
       "      <td>1</td>\n",
       "      <td>F</td>\n",
       "      <td>компаньон</td>\n",
       "      <td>0</td>\n",
       "      <td>321603.700207</td>\n",
       "      <td>на покупку автомобиля</td>\n",
       "    </tr>\n",
       "    <tr>\n",
       "      <th>11617</th>\n",
       "      <td>-1</td>\n",
       "      <td>-370.827130</td>\n",
       "      <td>27</td>\n",
       "      <td>среднее</td>\n",
       "      <td>1</td>\n",
       "      <td>женат / замужем</td>\n",
       "      <td>0</td>\n",
       "      <td>F</td>\n",
       "      <td>компаньон</td>\n",
       "      <td>0</td>\n",
       "      <td>164591.260338</td>\n",
       "      <td>покупка жилья для сдачи</td>\n",
       "    </tr>\n",
       "    <tr>\n",
       "      <th>12304</th>\n",
       "      <td>-1</td>\n",
       "      <td>-8493.101252</td>\n",
       "      <td>61</td>\n",
       "      <td>неоконченное высшее</td>\n",
       "      <td>2</td>\n",
       "      <td>женат / замужем</td>\n",
       "      <td>0</td>\n",
       "      <td>M</td>\n",
       "      <td>сотрудник</td>\n",
       "      <td>0</td>\n",
       "      <td>315006.182056</td>\n",
       "      <td>недвижимость</td>\n",
       "    </tr>\n",
       "    <tr>\n",
       "      <th>13786</th>\n",
       "      <td>-1</td>\n",
       "      <td>-1546.333214</td>\n",
       "      <td>42</td>\n",
       "      <td>среднее</td>\n",
       "      <td>1</td>\n",
       "      <td>Не женат / не замужем</td>\n",
       "      <td>4</td>\n",
       "      <td>M</td>\n",
       "      <td>компаньон</td>\n",
       "      <td>0</td>\n",
       "      <td>172319.266339</td>\n",
       "      <td>автомобиль</td>\n",
       "    </tr>\n",
       "    <tr>\n",
       "      <th>14357</th>\n",
       "      <td>-1</td>\n",
       "      <td>-268.337037</td>\n",
       "      <td>23</td>\n",
       "      <td>среднее</td>\n",
       "      <td>1</td>\n",
       "      <td>в разводе</td>\n",
       "      <td>3</td>\n",
       "      <td>F</td>\n",
       "      <td>компаньон</td>\n",
       "      <td>0</td>\n",
       "      <td>92257.579312</td>\n",
       "      <td>покупка жилой недвижимости</td>\n",
       "    </tr>\n",
       "    <tr>\n",
       "      <th>15147</th>\n",
       "      <td>-1</td>\n",
       "      <td>-9851.184337</td>\n",
       "      <td>44</td>\n",
       "      <td>среднее</td>\n",
       "      <td>1</td>\n",
       "      <td>в разводе</td>\n",
       "      <td>3</td>\n",
       "      <td>F</td>\n",
       "      <td>сотрудник</td>\n",
       "      <td>0</td>\n",
       "      <td>110990.810581</td>\n",
       "      <td>свой автомобиль</td>\n",
       "    </tr>\n",
       "    <tr>\n",
       "      <th>15435</th>\n",
       "      <td>-1</td>\n",
       "      <td>-3614.220232</td>\n",
       "      <td>40</td>\n",
       "      <td>высшее</td>\n",
       "      <td>0</td>\n",
       "      <td>гражданский брак</td>\n",
       "      <td>1</td>\n",
       "      <td>F</td>\n",
       "      <td>сотрудник</td>\n",
       "      <td>0</td>\n",
       "      <td>98127.537462</td>\n",
       "      <td>сыграть свадьбу</td>\n",
       "    </tr>\n",
       "    <tr>\n",
       "      <th>16129</th>\n",
       "      <td>-1</td>\n",
       "      <td>-457.861760</td>\n",
       "      <td>33</td>\n",
       "      <td>среднее</td>\n",
       "      <td>1</td>\n",
       "      <td>женат / замужем</td>\n",
       "      <td>0</td>\n",
       "      <td>F</td>\n",
       "      <td>сотрудник</td>\n",
       "      <td>1</td>\n",
       "      <td>149641.079451</td>\n",
       "      <td>автомобиль</td>\n",
       "    </tr>\n",
       "    <tr>\n",
       "      <th>16265</th>\n",
       "      <td>-1</td>\n",
       "      <td>-2802.218127</td>\n",
       "      <td>40</td>\n",
       "      <td>высшее</td>\n",
       "      <td>0</td>\n",
       "      <td>женат / замужем</td>\n",
       "      <td>0</td>\n",
       "      <td>M</td>\n",
       "      <td>сотрудник</td>\n",
       "      <td>0</td>\n",
       "      <td>111984.472021</td>\n",
       "      <td>покупка жилья</td>\n",
       "    </tr>\n",
       "    <tr>\n",
       "      <th>17095</th>\n",
       "      <td>-1</td>\n",
       "      <td>-2809.693200</td>\n",
       "      <td>34</td>\n",
       "      <td>среднее</td>\n",
       "      <td>1</td>\n",
       "      <td>женат / замужем</td>\n",
       "      <td>0</td>\n",
       "      <td>F</td>\n",
       "      <td>сотрудник</td>\n",
       "      <td>0</td>\n",
       "      <td>182543.890127</td>\n",
       "      <td>на покупку подержанного автомобиля</td>\n",
       "    </tr>\n",
       "    <tr>\n",
       "      <th>17429</th>\n",
       "      <td>-1</td>\n",
       "      <td>-895.379738</td>\n",
       "      <td>37</td>\n",
       "      <td>среднее</td>\n",
       "      <td>1</td>\n",
       "      <td>женат / замужем</td>\n",
       "      <td>0</td>\n",
       "      <td>F</td>\n",
       "      <td>компаньон</td>\n",
       "      <td>0</td>\n",
       "      <td>214814.018780</td>\n",
       "      <td>жилье</td>\n",
       "    </tr>\n",
       "    <tr>\n",
       "      <th>17657</th>\n",
       "      <td>-1</td>\n",
       "      <td>-4571.957475</td>\n",
       "      <td>41</td>\n",
       "      <td>среднее</td>\n",
       "      <td>1</td>\n",
       "      <td>женат / замужем</td>\n",
       "      <td>0</td>\n",
       "      <td>F</td>\n",
       "      <td>сотрудник</td>\n",
       "      <td>0</td>\n",
       "      <td>122105.415823</td>\n",
       "      <td>операции со своей недвижимостью</td>\n",
       "    </tr>\n",
       "    <tr>\n",
       "      <th>18219</th>\n",
       "      <td>-1</td>\n",
       "      <td>-3575.215641</td>\n",
       "      <td>33</td>\n",
       "      <td>среднее</td>\n",
       "      <td>1</td>\n",
       "      <td>женат / замужем</td>\n",
       "      <td>0</td>\n",
       "      <td>F</td>\n",
       "      <td>сотрудник</td>\n",
       "      <td>0</td>\n",
       "      <td>128362.023879</td>\n",
       "      <td>высшее образование</td>\n",
       "    </tr>\n",
       "    <tr>\n",
       "      <th>19100</th>\n",
       "      <td>-1</td>\n",
       "      <td>-617.246968</td>\n",
       "      <td>38</td>\n",
       "      <td>среднее</td>\n",
       "      <td>1</td>\n",
       "      <td>Не женат / не замужем</td>\n",
       "      <td>4</td>\n",
       "      <td>M</td>\n",
       "      <td>сотрудник</td>\n",
       "      <td>0</td>\n",
       "      <td>122205.497527</td>\n",
       "      <td>строительство жилой недвижимости</td>\n",
       "    </tr>\n",
       "    <tr>\n",
       "      <th>19366</th>\n",
       "      <td>-1</td>\n",
       "      <td>-372.034749</td>\n",
       "      <td>43</td>\n",
       "      <td>среднее</td>\n",
       "      <td>1</td>\n",
       "      <td>женат / замужем</td>\n",
       "      <td>0</td>\n",
       "      <td>M</td>\n",
       "      <td>сотрудник</td>\n",
       "      <td>0</td>\n",
       "      <td>155588.766795</td>\n",
       "      <td>сделка с подержанным автомобилем</td>\n",
       "    </tr>\n",
       "    <tr>\n",
       "      <th>19417</th>\n",
       "      <td>-1</td>\n",
       "      <td>350340.760224</td>\n",
       "      <td>28</td>\n",
       "      <td>среднее</td>\n",
       "      <td>1</td>\n",
       "      <td>в разводе</td>\n",
       "      <td>3</td>\n",
       "      <td>F</td>\n",
       "      <td>пенсионер</td>\n",
       "      <td>0</td>\n",
       "      <td>52872.993654</td>\n",
       "      <td>автомобили</td>\n",
       "    </tr>\n",
       "    <tr>\n",
       "      <th>20393</th>\n",
       "      <td>-1</td>\n",
       "      <td>355157.107212</td>\n",
       "      <td>69</td>\n",
       "      <td>среднее</td>\n",
       "      <td>1</td>\n",
       "      <td>Не женат / не замужем</td>\n",
       "      <td>4</td>\n",
       "      <td>F</td>\n",
       "      <td>пенсионер</td>\n",
       "      <td>0</td>\n",
       "      <td>116521.045858</td>\n",
       "      <td>операции с недвижимостью</td>\n",
       "    </tr>\n",
       "    <tr>\n",
       "      <th>20717</th>\n",
       "      <td>-1</td>\n",
       "      <td>-661.822321</td>\n",
       "      <td>32</td>\n",
       "      <td>высшее</td>\n",
       "      <td>0</td>\n",
       "      <td>женат / замужем</td>\n",
       "      <td>0</td>\n",
       "      <td>F</td>\n",
       "      <td>сотрудник</td>\n",
       "      <td>0</td>\n",
       "      <td>137405.384917</td>\n",
       "      <td>покупка жилой недвижимости</td>\n",
       "    </tr>\n",
       "    <tr>\n",
       "      <th>21140</th>\n",
       "      <td>-1</td>\n",
       "      <td>-1422.668059</td>\n",
       "      <td>44</td>\n",
       "      <td>среднее</td>\n",
       "      <td>1</td>\n",
       "      <td>женат / замужем</td>\n",
       "      <td>0</td>\n",
       "      <td>F</td>\n",
       "      <td>компаньон</td>\n",
       "      <td>0</td>\n",
       "      <td>169562.091999</td>\n",
       "      <td>операции со своей недвижимостью</td>\n",
       "    </tr>\n",
       "  </tbody>\n",
       "</table>\n",
       "</div>"
      ],
      "text/plain": [
       "       children  days_employed  dob_years            education  education_id  \\\n",
       "291          -1   -4417.703588         46              среднее             1   \n",
       "705          -1    -902.084528         50              среднее             1   \n",
       "742          -1   -3174.456205         57              среднее             1   \n",
       "800          -1  349987.852217         54              среднее             1   \n",
       "941          -1  365213.306266         57              среднее             1   \n",
       "1363         -1   -1195.264956         55              среднее             1   \n",
       "1929         -1   -1461.303336         38              среднее             1   \n",
       "2073         -1   -2539.761232         42              среднее             1   \n",
       "3814         -1   -3045.290443         26              среднее             1   \n",
       "4201         -1    -901.101738         41              среднее             1   \n",
       "4402         -1  398001.302888         64              среднее             1   \n",
       "4542         -1   -1811.899756         32              среднее             1   \n",
       "5272         -1   -1143.485347         46              среднее             1   \n",
       "6013         -1   -1361.258696         46               высшее             0   \n",
       "6385         -1  370215.476226         48              среднее             1   \n",
       "7190         -1   -5928.202068         34              среднее             1   \n",
       "7278         -1    -526.318451         51              среднее             1   \n",
       "7615         -1   -1574.202821         35              среднее             1   \n",
       "7685         -1   -3237.360455         53              среднее             1   \n",
       "8229         -1   -1803.441074         54               высшее             0   \n",
       "8251         -1   -3113.998449         31              среднее             1   \n",
       "8561         -1    -195.479496         31              среднее             1   \n",
       "9565         -1   -2896.629686         34               высшее             0   \n",
       "9574         -1   -2710.419901         28               высшее             0   \n",
       "10177        -1   -1743.604011         37              среднее             1   \n",
       "10365        -1  345774.125957         63               высшее             0   \n",
       "10918        -1  340499.039342         50              среднее             1   \n",
       "11109        -1   -3438.463024         59              среднее             1   \n",
       "11268        -1   -1048.782203         30               высшее             0   \n",
       "11617        -1    -370.827130         27              среднее             1   \n",
       "12304        -1   -8493.101252         61  неоконченное высшее             2   \n",
       "13786        -1   -1546.333214         42              среднее             1   \n",
       "14357        -1    -268.337037         23              среднее             1   \n",
       "15147        -1   -9851.184337         44              среднее             1   \n",
       "15435        -1   -3614.220232         40               высшее             0   \n",
       "16129        -1    -457.861760         33              среднее             1   \n",
       "16265        -1   -2802.218127         40               высшее             0   \n",
       "17095        -1   -2809.693200         34              среднее             1   \n",
       "17429        -1    -895.379738         37              среднее             1   \n",
       "17657        -1   -4571.957475         41              среднее             1   \n",
       "18219        -1   -3575.215641         33              среднее             1   \n",
       "19100        -1    -617.246968         38              среднее             1   \n",
       "19366        -1    -372.034749         43              среднее             1   \n",
       "19417        -1  350340.760224         28              среднее             1   \n",
       "20393        -1  355157.107212         69              среднее             1   \n",
       "20717        -1    -661.822321         32               высшее             0   \n",
       "21140        -1   -1422.668059         44              среднее             1   \n",
       "\n",
       "               family_status  family_status_id gender  income_type  debt  \\\n",
       "291         гражданский брак                 1      F    сотрудник     0   \n",
       "705          женат / замужем                 0      F  госслужащий     0   \n",
       "742          женат / замужем                 0      F    сотрудник     0   \n",
       "800    Не женат / не замужем                 4      F    пенсионер     0   \n",
       "941          женат / замужем                 0      F    пенсионер     0   \n",
       "1363         женат / замужем                 0      F    компаньон     0   \n",
       "1929   Не женат / не замужем                 4      M    сотрудник     0   \n",
       "2073               в разводе                 3      F    компаньон     0   \n",
       "3814        гражданский брак                 1      F  госслужащий     0   \n",
       "4201         женат / замужем                 0      F  госслужащий     0   \n",
       "4402         женат / замужем                 0      F    пенсионер     0   \n",
       "4542         женат / замужем                 0      F    сотрудник     0   \n",
       "5272          вдовец / вдова                 2      F    сотрудник     0   \n",
       "6013         женат / замужем                 0      F    сотрудник     0   \n",
       "6385          вдовец / вдова                 2      F    пенсионер     0   \n",
       "7190         женат / замужем                 0      M    сотрудник     0   \n",
       "7278         женат / замужем                 0      F    сотрудник     0   \n",
       "7615         женат / замужем                 0      M    сотрудник     0   \n",
       "7685          вдовец / вдова                 2      F    сотрудник     0   \n",
       "8229         женат / замужем                 0      F    компаньон     0   \n",
       "8251        гражданский брак                 1      F    сотрудник     0   \n",
       "8561         женат / замужем                 0      F    сотрудник     0   \n",
       "9565         женат / замужем                 0      M    сотрудник     0   \n",
       "9574         женат / замужем                 0      M  госслужащий     0   \n",
       "10177        женат / замужем                 0      M    сотрудник     0   \n",
       "10365         вдовец / вдова                 2      F    пенсионер     0   \n",
       "10918        женат / замужем                 0      M    пенсионер     0   \n",
       "11109        женат / замужем                 0      F    сотрудник     0   \n",
       "11268       гражданский брак                 1      F    компаньон     0   \n",
       "11617        женат / замужем                 0      F    компаньон     0   \n",
       "12304        женат / замужем                 0      M    сотрудник     0   \n",
       "13786  Не женат / не замужем                 4      M    компаньон     0   \n",
       "14357              в разводе                 3      F    компаньон     0   \n",
       "15147              в разводе                 3      F    сотрудник     0   \n",
       "15435       гражданский брак                 1      F    сотрудник     0   \n",
       "16129        женат / замужем                 0      F    сотрудник     1   \n",
       "16265        женат / замужем                 0      M    сотрудник     0   \n",
       "17095        женат / замужем                 0      F    сотрудник     0   \n",
       "17429        женат / замужем                 0      F    компаньон     0   \n",
       "17657        женат / замужем                 0      F    сотрудник     0   \n",
       "18219        женат / замужем                 0      F    сотрудник     0   \n",
       "19100  Не женат / не замужем                 4      M    сотрудник     0   \n",
       "19366        женат / замужем                 0      M    сотрудник     0   \n",
       "19417              в разводе                 3      F    пенсионер     0   \n",
       "20393  Не женат / не замужем                 4      F    пенсионер     0   \n",
       "20717        женат / замужем                 0      F    сотрудник     0   \n",
       "21140        женат / замужем                 0      F    компаньон     0   \n",
       "\n",
       "        total_income                                 purpose  \n",
       "291    102816.346412                  профильное образование  \n",
       "705    137882.899271                 приобретение автомобиля  \n",
       "742     64268.044444              дополнительное образование  \n",
       "800     86293.724153              дополнительное образование  \n",
       "941    118514.486412            на покупку своего автомобиля  \n",
       "1363    69550.699692                  профильное образование  \n",
       "1929   109121.569013                           покупка жилья  \n",
       "2073   162638.609373                           покупка жилья  \n",
       "3814   131892.785435                   на проведение свадьбы  \n",
       "4201   226375.766751         операции со своей недвижимостью  \n",
       "4402   163264.062064                    покупка недвижимости  \n",
       "4542   160544.718446                             образование  \n",
       "5272   278708.018820                    покупка недвижимости  \n",
       "6013   143008.454914  строительство собственной недвижимости  \n",
       "6385    36052.447435                             образование  \n",
       "7190   184315.121979                 приобретение автомобиля  \n",
       "7278   146928.769439   операции с коммерческой недвижимостью  \n",
       "7615   142594.396847                             образование  \n",
       "7685   159676.174958        строительство жилой недвижимости  \n",
       "8229   138809.082930                    покупка недвижимости  \n",
       "8251    54412.056005                         свой автомобиль  \n",
       "8561   145577.881522                            ремонт жилью  \n",
       "9565   126754.656529                операции с недвижимостью  \n",
       "9574   303137.161001   получение дополнительного образования  \n",
       "10177  310367.509001                   получение образования  \n",
       "10365  170762.751325        строительство жилой недвижимости  \n",
       "10918  170762.773162                    покупка своего жилья  \n",
       "11109  219874.012345                       операции с жильем  \n",
       "11268  321603.700207                   на покупку автомобиля  \n",
       "11617  164591.260338                 покупка жилья для сдачи  \n",
       "12304  315006.182056                            недвижимость  \n",
       "13786  172319.266339                              автомобиль  \n",
       "14357   92257.579312              покупка жилой недвижимости  \n",
       "15147  110990.810581                         свой автомобиль  \n",
       "15435   98127.537462                         сыграть свадьбу  \n",
       "16129  149641.079451                              автомобиль  \n",
       "16265  111984.472021                           покупка жилья  \n",
       "17095  182543.890127      на покупку подержанного автомобиля  \n",
       "17429  214814.018780                                   жилье  \n",
       "17657  122105.415823         операции со своей недвижимостью  \n",
       "18219  128362.023879                      высшее образование  \n",
       "19100  122205.497527        строительство жилой недвижимости  \n",
       "19366  155588.766795        сделка с подержанным автомобилем  \n",
       "19417   52872.993654                              автомобили  \n",
       "20393  116521.045858                операции с недвижимостью  \n",
       "20717  137405.384917              покупка жилой недвижимости  \n",
       "21140  169562.091999         операции со своей недвижимостью  "
      ]
     },
     "execution_count": 19,
     "metadata": {},
     "output_type": "execute_result"
    }
   ],
   "source": [
    "# вывод строк с количеством детей равным -1:\n",
    "\n",
    "data.query('children == -1')"
   ]
  },
  {
   "cell_type": "code",
   "execution_count": 20,
   "id": "29444d59",
   "metadata": {},
   "outputs": [
    {
     "data": {
      "text/plain": [
       "47"
      ]
     },
     "execution_count": 20,
     "metadata": {},
     "output_type": "execute_result"
    }
   ],
   "source": [
    "# кол-во строк с количеством детей равным -1:\n",
    "\n",
    "data.query('children == -1')['children'].count()"
   ]
  },
  {
   "cell_type": "markdown",
   "id": "66edff1f",
   "metadata": {},
   "source": [
    "Всего 47 записей. Удалим все записи с количеством детей равным -1."
   ]
  },
  {
   "cell_type": "code",
   "execution_count": 21,
   "id": "ec369197",
   "metadata": {},
   "outputs": [],
   "source": [
    "data = data.query('children != -1')"
   ]
  },
  {
   "cell_type": "markdown",
   "id": "9c773a64",
   "metadata": {},
   "source": [
    "Выведем строки с количеством детей равным 20:"
   ]
  },
  {
   "cell_type": "code",
   "execution_count": 22,
   "id": "ef29c67e",
   "metadata": {},
   "outputs": [
    {
     "data": {
      "text/html": [
       "<div>\n",
       "<style scoped>\n",
       "    .dataframe tbody tr th:only-of-type {\n",
       "        vertical-align: middle;\n",
       "    }\n",
       "\n",
       "    .dataframe tbody tr th {\n",
       "        vertical-align: top;\n",
       "    }\n",
       "\n",
       "    .dataframe thead th {\n",
       "        text-align: right;\n",
       "    }\n",
       "</style>\n",
       "<table border=\"1\" class=\"dataframe\">\n",
       "  <thead>\n",
       "    <tr style=\"text-align: right;\">\n",
       "      <th></th>\n",
       "      <th>children</th>\n",
       "      <th>days_employed</th>\n",
       "      <th>dob_years</th>\n",
       "      <th>education</th>\n",
       "      <th>education_id</th>\n",
       "      <th>family_status</th>\n",
       "      <th>family_status_id</th>\n",
       "      <th>gender</th>\n",
       "      <th>income_type</th>\n",
       "      <th>debt</th>\n",
       "      <th>total_income</th>\n",
       "      <th>purpose</th>\n",
       "    </tr>\n",
       "  </thead>\n",
       "  <tbody>\n",
       "    <tr>\n",
       "      <th>606</th>\n",
       "      <td>20</td>\n",
       "      <td>-880.221113</td>\n",
       "      <td>21</td>\n",
       "      <td>среднее</td>\n",
       "      <td>1</td>\n",
       "      <td>женат / замужем</td>\n",
       "      <td>0</td>\n",
       "      <td>M</td>\n",
       "      <td>компаньон</td>\n",
       "      <td>0</td>\n",
       "      <td>145334.865002</td>\n",
       "      <td>покупка жилья</td>\n",
       "    </tr>\n",
       "    <tr>\n",
       "      <th>720</th>\n",
       "      <td>20</td>\n",
       "      <td>-855.595512</td>\n",
       "      <td>44</td>\n",
       "      <td>среднее</td>\n",
       "      <td>1</td>\n",
       "      <td>женат / замужем</td>\n",
       "      <td>0</td>\n",
       "      <td>F</td>\n",
       "      <td>компаньон</td>\n",
       "      <td>0</td>\n",
       "      <td>112998.738649</td>\n",
       "      <td>покупка недвижимости</td>\n",
       "    </tr>\n",
       "    <tr>\n",
       "      <th>1074</th>\n",
       "      <td>20</td>\n",
       "      <td>-3310.411598</td>\n",
       "      <td>56</td>\n",
       "      <td>среднее</td>\n",
       "      <td>1</td>\n",
       "      <td>женат / замужем</td>\n",
       "      <td>0</td>\n",
       "      <td>F</td>\n",
       "      <td>сотрудник</td>\n",
       "      <td>1</td>\n",
       "      <td>229518.537004</td>\n",
       "      <td>получение образования</td>\n",
       "    </tr>\n",
       "    <tr>\n",
       "      <th>2510</th>\n",
       "      <td>20</td>\n",
       "      <td>-2714.161249</td>\n",
       "      <td>59</td>\n",
       "      <td>высшее</td>\n",
       "      <td>0</td>\n",
       "      <td>вдовец / вдова</td>\n",
       "      <td>2</td>\n",
       "      <td>F</td>\n",
       "      <td>сотрудник</td>\n",
       "      <td>0</td>\n",
       "      <td>264474.835577</td>\n",
       "      <td>операции с коммерческой недвижимостью</td>\n",
       "    </tr>\n",
       "    <tr>\n",
       "      <th>2941</th>\n",
       "      <td>20</td>\n",
       "      <td>-2161.591519</td>\n",
       "      <td>0</td>\n",
       "      <td>среднее</td>\n",
       "      <td>1</td>\n",
       "      <td>женат / замужем</td>\n",
       "      <td>0</td>\n",
       "      <td>F</td>\n",
       "      <td>сотрудник</td>\n",
       "      <td>0</td>\n",
       "      <td>199739.941398</td>\n",
       "      <td>на покупку автомобиля</td>\n",
       "    </tr>\n",
       "    <tr>\n",
       "      <th>...</th>\n",
       "      <td>...</td>\n",
       "      <td>...</td>\n",
       "      <td>...</td>\n",
       "      <td>...</td>\n",
       "      <td>...</td>\n",
       "      <td>...</td>\n",
       "      <td>...</td>\n",
       "      <td>...</td>\n",
       "      <td>...</td>\n",
       "      <td>...</td>\n",
       "      <td>...</td>\n",
       "      <td>...</td>\n",
       "    </tr>\n",
       "    <tr>\n",
       "      <th>21008</th>\n",
       "      <td>20</td>\n",
       "      <td>-1240.257910</td>\n",
       "      <td>40</td>\n",
       "      <td>среднее</td>\n",
       "      <td>1</td>\n",
       "      <td>женат / замужем</td>\n",
       "      <td>0</td>\n",
       "      <td>F</td>\n",
       "      <td>сотрудник</td>\n",
       "      <td>1</td>\n",
       "      <td>133524.010303</td>\n",
       "      <td>свой автомобиль</td>\n",
       "    </tr>\n",
       "    <tr>\n",
       "      <th>21325</th>\n",
       "      <td>20</td>\n",
       "      <td>-601.174883</td>\n",
       "      <td>37</td>\n",
       "      <td>среднее</td>\n",
       "      <td>1</td>\n",
       "      <td>женат / замужем</td>\n",
       "      <td>0</td>\n",
       "      <td>F</td>\n",
       "      <td>компаньон</td>\n",
       "      <td>0</td>\n",
       "      <td>102986.065978</td>\n",
       "      <td>профильное образование</td>\n",
       "    </tr>\n",
       "    <tr>\n",
       "      <th>21390</th>\n",
       "      <td>20</td>\n",
       "      <td>-1546.333214</td>\n",
       "      <td>53</td>\n",
       "      <td>среднее</td>\n",
       "      <td>1</td>\n",
       "      <td>женат / замужем</td>\n",
       "      <td>0</td>\n",
       "      <td>M</td>\n",
       "      <td>компаньон</td>\n",
       "      <td>0</td>\n",
       "      <td>172319.266339</td>\n",
       "      <td>покупка жилой недвижимости</td>\n",
       "    </tr>\n",
       "    <tr>\n",
       "      <th>21404</th>\n",
       "      <td>20</td>\n",
       "      <td>-494.788448</td>\n",
       "      <td>52</td>\n",
       "      <td>среднее</td>\n",
       "      <td>1</td>\n",
       "      <td>женат / замужем</td>\n",
       "      <td>0</td>\n",
       "      <td>M</td>\n",
       "      <td>компаньон</td>\n",
       "      <td>0</td>\n",
       "      <td>156629.683642</td>\n",
       "      <td>операции со своей недвижимостью</td>\n",
       "    </tr>\n",
       "    <tr>\n",
       "      <th>21491</th>\n",
       "      <td>20</td>\n",
       "      <td>-173.954460</td>\n",
       "      <td>27</td>\n",
       "      <td>среднее</td>\n",
       "      <td>1</td>\n",
       "      <td>женат / замужем</td>\n",
       "      <td>0</td>\n",
       "      <td>F</td>\n",
       "      <td>сотрудник</td>\n",
       "      <td>0</td>\n",
       "      <td>155520.899688</td>\n",
       "      <td>на покупку подержанного автомобиля</td>\n",
       "    </tr>\n",
       "  </tbody>\n",
       "</table>\n",
       "<p>76 rows × 12 columns</p>\n",
       "</div>"
      ],
      "text/plain": [
       "       children  days_employed  dob_years education  education_id  \\\n",
       "606          20    -880.221113         21   среднее             1   \n",
       "720          20    -855.595512         44   среднее             1   \n",
       "1074         20   -3310.411598         56   среднее             1   \n",
       "2510         20   -2714.161249         59    высшее             0   \n",
       "2941         20   -2161.591519          0   среднее             1   \n",
       "...         ...            ...        ...       ...           ...   \n",
       "21008        20   -1240.257910         40   среднее             1   \n",
       "21325        20    -601.174883         37   среднее             1   \n",
       "21390        20   -1546.333214         53   среднее             1   \n",
       "21404        20    -494.788448         52   среднее             1   \n",
       "21491        20    -173.954460         27   среднее             1   \n",
       "\n",
       "         family_status  family_status_id gender income_type  debt  \\\n",
       "606    женат / замужем                 0      M   компаньон     0   \n",
       "720    женат / замужем                 0      F   компаньон     0   \n",
       "1074   женат / замужем                 0      F   сотрудник     1   \n",
       "2510    вдовец / вдова                 2      F   сотрудник     0   \n",
       "2941   женат / замужем                 0      F   сотрудник     0   \n",
       "...                ...               ...    ...         ...   ...   \n",
       "21008  женат / замужем                 0      F   сотрудник     1   \n",
       "21325  женат / замужем                 0      F   компаньон     0   \n",
       "21390  женат / замужем                 0      M   компаньон     0   \n",
       "21404  женат / замужем                 0      M   компаньон     0   \n",
       "21491  женат / замужем                 0      F   сотрудник     0   \n",
       "\n",
       "        total_income                                purpose  \n",
       "606    145334.865002                          покупка жилья  \n",
       "720    112998.738649                   покупка недвижимости  \n",
       "1074   229518.537004                  получение образования  \n",
       "2510   264474.835577  операции с коммерческой недвижимостью  \n",
       "2941   199739.941398                  на покупку автомобиля  \n",
       "...              ...                                    ...  \n",
       "21008  133524.010303                        свой автомобиль  \n",
       "21325  102986.065978                 профильное образование  \n",
       "21390  172319.266339             покупка жилой недвижимости  \n",
       "21404  156629.683642        операции со своей недвижимостью  \n",
       "21491  155520.899688     на покупку подержанного автомобиля  \n",
       "\n",
       "[76 rows x 12 columns]"
      ]
     },
     "execution_count": 22,
     "metadata": {},
     "output_type": "execute_result"
    }
   ],
   "source": [
    "# вывод строк с количеством детей равным 20:\n",
    "\n",
    "data.query('children == 20')"
   ]
  },
  {
   "cell_type": "code",
   "execution_count": 23,
   "id": "f4186c37",
   "metadata": {},
   "outputs": [
    {
     "data": {
      "text/plain": [
       "76"
      ]
     },
     "execution_count": 23,
     "metadata": {},
     "output_type": "execute_result"
    }
   ],
   "source": [
    "# кол-во строк с количеством детей равным 20:\n",
    "\n",
    "data.query('children == 20')['children'].count()"
   ]
  },
  {
   "cell_type": "markdown",
   "id": "51d74b4f",
   "metadata": {},
   "source": [
    "Данных совсем немного, поэтому избавимся от них:"
   ]
  },
  {
   "cell_type": "code",
   "execution_count": 24,
   "id": "d5018c10",
   "metadata": {},
   "outputs": [],
   "source": [
    "data = data.query('children != 20')"
   ]
  },
  {
   "cell_type": "code",
   "execution_count": 25,
   "id": "7d71089d",
   "metadata": {},
   "outputs": [
    {
     "data": {
      "text/plain": [
       "0"
      ]
     },
     "execution_count": 25,
     "metadata": {},
     "output_type": "execute_result"
    }
   ],
   "source": [
    "# проверка\n",
    "\n",
    "data.query('children == -1 | children == 20')['children'].count()"
   ]
  },
  {
   "cell_type": "code",
   "execution_count": 26,
   "id": "69310f0d",
   "metadata": {},
   "outputs": [
    {
     "data": {
      "text/plain": [
       "array([1, 0, 3, 2, 4, 5])"
      ]
     },
     "execution_count": 26,
     "metadata": {},
     "output_type": "execute_result"
    }
   ],
   "source": [
    "# уникальные значения в столбце children:\n",
    "\n",
    "data.children.unique()"
   ]
  },
  {
   "cell_type": "markdown",
   "id": "d3b8c542",
   "metadata": {},
   "source": [
    "Избавились от аномалий в столбце с количеством детей. Далее перейдём к столбцу с количеством дней трудового стажа `days_employed`."
   ]
  },
  {
   "cell_type": "code",
   "execution_count": 27,
   "id": "7a33920d",
   "metadata": {},
   "outputs": [
    {
     "data": {
      "text/html": [
       "<div>\n",
       "<style scoped>\n",
       "    .dataframe tbody tr th:only-of-type {\n",
       "        vertical-align: middle;\n",
       "    }\n",
       "\n",
       "    .dataframe tbody tr th {\n",
       "        vertical-align: top;\n",
       "    }\n",
       "\n",
       "    .dataframe thead th {\n",
       "        text-align: right;\n",
       "    }\n",
       "</style>\n",
       "<table border=\"1\" class=\"dataframe\">\n",
       "  <thead>\n",
       "    <tr style=\"text-align: right;\">\n",
       "      <th></th>\n",
       "      <th>children</th>\n",
       "      <th>days_employed</th>\n",
       "      <th>dob_years</th>\n",
       "      <th>education</th>\n",
       "      <th>education_id</th>\n",
       "      <th>family_status</th>\n",
       "      <th>family_status_id</th>\n",
       "      <th>gender</th>\n",
       "      <th>income_type</th>\n",
       "      <th>debt</th>\n",
       "      <th>total_income</th>\n",
       "      <th>purpose</th>\n",
       "    </tr>\n",
       "  </thead>\n",
       "  <tbody>\n",
       "    <tr>\n",
       "      <th>0</th>\n",
       "      <td>1</td>\n",
       "      <td>-8437.673028</td>\n",
       "      <td>42</td>\n",
       "      <td>высшее</td>\n",
       "      <td>0</td>\n",
       "      <td>женат / замужем</td>\n",
       "      <td>0</td>\n",
       "      <td>F</td>\n",
       "      <td>сотрудник</td>\n",
       "      <td>0</td>\n",
       "      <td>253875.639453</td>\n",
       "      <td>покупка жилья</td>\n",
       "    </tr>\n",
       "    <tr>\n",
       "      <th>1</th>\n",
       "      <td>1</td>\n",
       "      <td>-4024.803754</td>\n",
       "      <td>36</td>\n",
       "      <td>среднее</td>\n",
       "      <td>1</td>\n",
       "      <td>женат / замужем</td>\n",
       "      <td>0</td>\n",
       "      <td>F</td>\n",
       "      <td>сотрудник</td>\n",
       "      <td>0</td>\n",
       "      <td>112080.014102</td>\n",
       "      <td>приобретение автомобиля</td>\n",
       "    </tr>\n",
       "    <tr>\n",
       "      <th>2</th>\n",
       "      <td>0</td>\n",
       "      <td>-5623.422610</td>\n",
       "      <td>33</td>\n",
       "      <td>среднее</td>\n",
       "      <td>1</td>\n",
       "      <td>женат / замужем</td>\n",
       "      <td>0</td>\n",
       "      <td>M</td>\n",
       "      <td>сотрудник</td>\n",
       "      <td>0</td>\n",
       "      <td>145885.952297</td>\n",
       "      <td>покупка жилья</td>\n",
       "    </tr>\n",
       "    <tr>\n",
       "      <th>3</th>\n",
       "      <td>3</td>\n",
       "      <td>-4124.747207</td>\n",
       "      <td>32</td>\n",
       "      <td>среднее</td>\n",
       "      <td>1</td>\n",
       "      <td>женат / замужем</td>\n",
       "      <td>0</td>\n",
       "      <td>M</td>\n",
       "      <td>сотрудник</td>\n",
       "      <td>0</td>\n",
       "      <td>267628.550329</td>\n",
       "      <td>дополнительное образование</td>\n",
       "    </tr>\n",
       "    <tr>\n",
       "      <th>5</th>\n",
       "      <td>0</td>\n",
       "      <td>-926.185831</td>\n",
       "      <td>27</td>\n",
       "      <td>высшее</td>\n",
       "      <td>0</td>\n",
       "      <td>гражданский брак</td>\n",
       "      <td>1</td>\n",
       "      <td>M</td>\n",
       "      <td>компаньон</td>\n",
       "      <td>0</td>\n",
       "      <td>255763.565419</td>\n",
       "      <td>покупка жилья</td>\n",
       "    </tr>\n",
       "    <tr>\n",
       "      <th>...</th>\n",
       "      <td>...</td>\n",
       "      <td>...</td>\n",
       "      <td>...</td>\n",
       "      <td>...</td>\n",
       "      <td>...</td>\n",
       "      <td>...</td>\n",
       "      <td>...</td>\n",
       "      <td>...</td>\n",
       "      <td>...</td>\n",
       "      <td>...</td>\n",
       "      <td>...</td>\n",
       "      <td>...</td>\n",
       "    </tr>\n",
       "    <tr>\n",
       "      <th>21519</th>\n",
       "      <td>1</td>\n",
       "      <td>-2351.431934</td>\n",
       "      <td>37</td>\n",
       "      <td>ученая степень</td>\n",
       "      <td>4</td>\n",
       "      <td>в разводе</td>\n",
       "      <td>3</td>\n",
       "      <td>M</td>\n",
       "      <td>сотрудник</td>\n",
       "      <td>0</td>\n",
       "      <td>115949.039788</td>\n",
       "      <td>покупка коммерческой недвижимости</td>\n",
       "    </tr>\n",
       "    <tr>\n",
       "      <th>21520</th>\n",
       "      <td>1</td>\n",
       "      <td>-4529.316663</td>\n",
       "      <td>43</td>\n",
       "      <td>среднее</td>\n",
       "      <td>1</td>\n",
       "      <td>гражданский брак</td>\n",
       "      <td>1</td>\n",
       "      <td>F</td>\n",
       "      <td>компаньон</td>\n",
       "      <td>0</td>\n",
       "      <td>224791.862382</td>\n",
       "      <td>операции с жильем</td>\n",
       "    </tr>\n",
       "    <tr>\n",
       "      <th>21522</th>\n",
       "      <td>1</td>\n",
       "      <td>-2113.346888</td>\n",
       "      <td>38</td>\n",
       "      <td>среднее</td>\n",
       "      <td>1</td>\n",
       "      <td>гражданский брак</td>\n",
       "      <td>1</td>\n",
       "      <td>M</td>\n",
       "      <td>сотрудник</td>\n",
       "      <td>1</td>\n",
       "      <td>89672.561153</td>\n",
       "      <td>недвижимость</td>\n",
       "    </tr>\n",
       "    <tr>\n",
       "      <th>21523</th>\n",
       "      <td>3</td>\n",
       "      <td>-3112.481705</td>\n",
       "      <td>38</td>\n",
       "      <td>среднее</td>\n",
       "      <td>1</td>\n",
       "      <td>женат / замужем</td>\n",
       "      <td>0</td>\n",
       "      <td>M</td>\n",
       "      <td>сотрудник</td>\n",
       "      <td>1</td>\n",
       "      <td>244093.050500</td>\n",
       "      <td>на покупку своего автомобиля</td>\n",
       "    </tr>\n",
       "    <tr>\n",
       "      <th>21524</th>\n",
       "      <td>2</td>\n",
       "      <td>-1984.507589</td>\n",
       "      <td>40</td>\n",
       "      <td>среднее</td>\n",
       "      <td>1</td>\n",
       "      <td>женат / замужем</td>\n",
       "      <td>0</td>\n",
       "      <td>F</td>\n",
       "      <td>сотрудник</td>\n",
       "      <td>0</td>\n",
       "      <td>82047.418899</td>\n",
       "      <td>на покупку автомобиля</td>\n",
       "    </tr>\n",
       "  </tbody>\n",
       "</table>\n",
       "<p>17560 rows × 12 columns</p>\n",
       "</div>"
      ],
      "text/plain": [
       "       children  days_employed  dob_years       education  education_id  \\\n",
       "0             1   -8437.673028         42          высшее             0   \n",
       "1             1   -4024.803754         36         среднее             1   \n",
       "2             0   -5623.422610         33         среднее             1   \n",
       "3             3   -4124.747207         32         среднее             1   \n",
       "5             0    -926.185831         27          высшее             0   \n",
       "...         ...            ...        ...             ...           ...   \n",
       "21519         1   -2351.431934         37  ученая степень             4   \n",
       "21520         1   -4529.316663         43         среднее             1   \n",
       "21522         1   -2113.346888         38         среднее             1   \n",
       "21523         3   -3112.481705         38         среднее             1   \n",
       "21524         2   -1984.507589         40         среднее             1   \n",
       "\n",
       "          family_status  family_status_id gender income_type  debt  \\\n",
       "0       женат / замужем                 0      F   сотрудник     0   \n",
       "1       женат / замужем                 0      F   сотрудник     0   \n",
       "2       женат / замужем                 0      M   сотрудник     0   \n",
       "3       женат / замужем                 0      M   сотрудник     0   \n",
       "5      гражданский брак                 1      M   компаньон     0   \n",
       "...                 ...               ...    ...         ...   ...   \n",
       "21519         в разводе                 3      M   сотрудник     0   \n",
       "21520  гражданский брак                 1      F   компаньон     0   \n",
       "21522  гражданский брак                 1      M   сотрудник     1   \n",
       "21523   женат / замужем                 0      M   сотрудник     1   \n",
       "21524   женат / замужем                 0      F   сотрудник     0   \n",
       "\n",
       "        total_income                            purpose  \n",
       "0      253875.639453                      покупка жилья  \n",
       "1      112080.014102            приобретение автомобиля  \n",
       "2      145885.952297                      покупка жилья  \n",
       "3      267628.550329         дополнительное образование  \n",
       "5      255763.565419                      покупка жилья  \n",
       "...              ...                                ...  \n",
       "21519  115949.039788  покупка коммерческой недвижимости  \n",
       "21520  224791.862382                  операции с жильем  \n",
       "21522   89672.561153                       недвижимость  \n",
       "21523  244093.050500       на покупку своего автомобиля  \n",
       "21524   82047.418899              на покупку автомобиля  \n",
       "\n",
       "[17560 rows x 12 columns]"
      ]
     },
     "execution_count": 27,
     "metadata": {},
     "output_type": "execute_result"
    }
   ],
   "source": [
    "# строки с отрицательным количеством дней трудового стажа:\n",
    "\n",
    "data.query('days_employed < 0')"
   ]
  },
  {
   "cell_type": "code",
   "execution_count": 28,
   "id": "37bd8c00",
   "metadata": {},
   "outputs": [
    {
     "data": {
      "text/plain": [
       "17560"
      ]
     },
     "execution_count": 28,
     "metadata": {},
     "output_type": "execute_result"
    }
   ],
   "source": [
    "# кол-во строк с отрицательным трудовым стажем:\n",
    "\n",
    "data.query('days_employed < 0')['days_employed'].count()"
   ]
  },
  {
   "cell_type": "markdown",
   "id": "ea5744b6",
   "metadata": {},
   "source": [
    "Данных много, не можем от них избавиться. Предположим, что данные по ошибке были введены со знаком \"минус\", поэтому избавимся от отрицательных значений."
   ]
  },
  {
   "cell_type": "code",
   "execution_count": 29,
   "id": "a0029477",
   "metadata": {},
   "outputs": [],
   "source": [
    "# избавимся от отрицательных значений в столбце days_employed:\n",
    "\n",
    "data['days_employed'] = data['days_employed'].abs()"
   ]
  },
  {
   "cell_type": "code",
   "execution_count": 30,
   "id": "fabeee0b",
   "metadata": {},
   "outputs": [
    {
     "data": {
      "text/plain": [
       "0"
      ]
     },
     "execution_count": 30,
     "metadata": {},
     "output_type": "execute_result"
    }
   ],
   "source": [
    "# проверка:\n",
    "\n",
    "data.query('days_employed < 0')['days_employed'].count()"
   ]
  },
  {
   "cell_type": "markdown",
   "id": "28f022fb",
   "metadata": {},
   "source": [
    "Избавились от отрицательных значений в трудовом стаже. Выведем общую информацию."
   ]
  },
  {
   "cell_type": "code",
   "execution_count": 31,
   "id": "ab4ea616",
   "metadata": {},
   "outputs": [
    {
     "name": "stdout",
     "output_type": "stream",
     "text": [
      "<class 'pandas.core.frame.DataFrame'>\n",
      "Int64Index: 21401 entries, 0 to 21524\n",
      "Data columns (total 12 columns):\n",
      " #   Column            Non-Null Count  Dtype  \n",
      "---  ------            --------------  -----  \n",
      " 0   children          21401 non-null  int64  \n",
      " 1   days_employed     21401 non-null  float64\n",
      " 2   dob_years         21401 non-null  int64  \n",
      " 3   education         21401 non-null  object \n",
      " 4   education_id      21401 non-null  int64  \n",
      " 5   family_status     21401 non-null  object \n",
      " 6   family_status_id  21401 non-null  int64  \n",
      " 7   gender            21401 non-null  object \n",
      " 8   income_type       21401 non-null  object \n",
      " 9   debt              21401 non-null  int64  \n",
      " 10  total_income      21401 non-null  float64\n",
      " 11  purpose           21401 non-null  object \n",
      "dtypes: float64(2), int64(5), object(5)\n",
      "memory usage: 2.1+ MB\n"
     ]
    }
   ],
   "source": [
    "data.info()"
   ]
  },
  {
   "cell_type": "markdown",
   "id": "3a12fe1b",
   "metadata": {},
   "source": [
    "Можно отметить, что признак с общим доходом `total_income` имеет вещественный тип данных. Выведем несколько первых строк."
   ]
  },
  {
   "cell_type": "code",
   "execution_count": 32,
   "id": "51e57c0f",
   "metadata": {},
   "outputs": [
    {
     "data": {
      "text/html": [
       "<div>\n",
       "<style scoped>\n",
       "    .dataframe tbody tr th:only-of-type {\n",
       "        vertical-align: middle;\n",
       "    }\n",
       "\n",
       "    .dataframe tbody tr th {\n",
       "        vertical-align: top;\n",
       "    }\n",
       "\n",
       "    .dataframe thead th {\n",
       "        text-align: right;\n",
       "    }\n",
       "</style>\n",
       "<table border=\"1\" class=\"dataframe\">\n",
       "  <thead>\n",
       "    <tr style=\"text-align: right;\">\n",
       "      <th></th>\n",
       "      <th>children</th>\n",
       "      <th>days_employed</th>\n",
       "      <th>dob_years</th>\n",
       "      <th>education</th>\n",
       "      <th>education_id</th>\n",
       "      <th>family_status</th>\n",
       "      <th>family_status_id</th>\n",
       "      <th>gender</th>\n",
       "      <th>income_type</th>\n",
       "      <th>debt</th>\n",
       "      <th>total_income</th>\n",
       "      <th>purpose</th>\n",
       "    </tr>\n",
       "  </thead>\n",
       "  <tbody>\n",
       "    <tr>\n",
       "      <th>0</th>\n",
       "      <td>1</td>\n",
       "      <td>8437.673028</td>\n",
       "      <td>42</td>\n",
       "      <td>высшее</td>\n",
       "      <td>0</td>\n",
       "      <td>женат / замужем</td>\n",
       "      <td>0</td>\n",
       "      <td>F</td>\n",
       "      <td>сотрудник</td>\n",
       "      <td>0</td>\n",
       "      <td>253875.639453</td>\n",
       "      <td>покупка жилья</td>\n",
       "    </tr>\n",
       "    <tr>\n",
       "      <th>1</th>\n",
       "      <td>1</td>\n",
       "      <td>4024.803754</td>\n",
       "      <td>36</td>\n",
       "      <td>среднее</td>\n",
       "      <td>1</td>\n",
       "      <td>женат / замужем</td>\n",
       "      <td>0</td>\n",
       "      <td>F</td>\n",
       "      <td>сотрудник</td>\n",
       "      <td>0</td>\n",
       "      <td>112080.014102</td>\n",
       "      <td>приобретение автомобиля</td>\n",
       "    </tr>\n",
       "    <tr>\n",
       "      <th>2</th>\n",
       "      <td>0</td>\n",
       "      <td>5623.422610</td>\n",
       "      <td>33</td>\n",
       "      <td>среднее</td>\n",
       "      <td>1</td>\n",
       "      <td>женат / замужем</td>\n",
       "      <td>0</td>\n",
       "      <td>M</td>\n",
       "      <td>сотрудник</td>\n",
       "      <td>0</td>\n",
       "      <td>145885.952297</td>\n",
       "      <td>покупка жилья</td>\n",
       "    </tr>\n",
       "    <tr>\n",
       "      <th>3</th>\n",
       "      <td>3</td>\n",
       "      <td>4124.747207</td>\n",
       "      <td>32</td>\n",
       "      <td>среднее</td>\n",
       "      <td>1</td>\n",
       "      <td>женат / замужем</td>\n",
       "      <td>0</td>\n",
       "      <td>M</td>\n",
       "      <td>сотрудник</td>\n",
       "      <td>0</td>\n",
       "      <td>267628.550329</td>\n",
       "      <td>дополнительное образование</td>\n",
       "    </tr>\n",
       "    <tr>\n",
       "      <th>4</th>\n",
       "      <td>0</td>\n",
       "      <td>340266.072047</td>\n",
       "      <td>53</td>\n",
       "      <td>среднее</td>\n",
       "      <td>1</td>\n",
       "      <td>гражданский брак</td>\n",
       "      <td>1</td>\n",
       "      <td>F</td>\n",
       "      <td>пенсионер</td>\n",
       "      <td>0</td>\n",
       "      <td>158616.077870</td>\n",
       "      <td>сыграть свадьбу</td>\n",
       "    </tr>\n",
       "  </tbody>\n",
       "</table>\n",
       "</div>"
      ],
      "text/plain": [
       "   children  days_employed  dob_years education  education_id  \\\n",
       "0         1    8437.673028         42    высшее             0   \n",
       "1         1    4024.803754         36   среднее             1   \n",
       "2         0    5623.422610         33   среднее             1   \n",
       "3         3    4124.747207         32   среднее             1   \n",
       "4         0  340266.072047         53   среднее             1   \n",
       "\n",
       "      family_status  family_status_id gender income_type  debt   total_income  \\\n",
       "0   женат / замужем                 0      F   сотрудник     0  253875.639453   \n",
       "1   женат / замужем                 0      F   сотрудник     0  112080.014102   \n",
       "2   женат / замужем                 0      M   сотрудник     0  145885.952297   \n",
       "3   женат / замужем                 0      M   сотрудник     0  267628.550329   \n",
       "4  гражданский брак                 1      F   пенсионер     0  158616.077870   \n",
       "\n",
       "                      purpose  \n",
       "0               покупка жилья  \n",
       "1     приобретение автомобиля  \n",
       "2               покупка жилья  \n",
       "3  дополнительное образование  \n",
       "4             сыграть свадьбу  "
      ]
     },
     "execution_count": 32,
     "metadata": {},
     "output_type": "execute_result"
    }
   ],
   "source": [
    "data.head()"
   ]
  },
  {
   "cell_type": "markdown",
   "id": "fc5967f3",
   "metadata": {},
   "source": [
    "Далее избавимся от значений в `total_income` после запятой."
   ]
  },
  {
   "cell_type": "markdown",
   "id": "91e54459",
   "metadata": {},
   "source": [
    "### Изменение типов данных"
   ]
  },
  {
   "cell_type": "code",
   "execution_count": 33,
   "id": "f3a24f90",
   "metadata": {},
   "outputs": [],
   "source": [
    "# изменение вещественного типа данных на целочисленный:\n",
    "\n",
    "data['total_income'] = data['total_income'].astype('int')"
   ]
  },
  {
   "cell_type": "code",
   "execution_count": 34,
   "id": "d2d255cc",
   "metadata": {},
   "outputs": [
    {
     "name": "stdout",
     "output_type": "stream",
     "text": [
      "<class 'pandas.core.frame.DataFrame'>\n",
      "Int64Index: 21401 entries, 0 to 21524\n",
      "Data columns (total 12 columns):\n",
      " #   Column            Non-Null Count  Dtype  \n",
      "---  ------            --------------  -----  \n",
      " 0   children          21401 non-null  int64  \n",
      " 1   days_employed     21401 non-null  float64\n",
      " 2   dob_years         21401 non-null  int64  \n",
      " 3   education         21401 non-null  object \n",
      " 4   education_id      21401 non-null  int64  \n",
      " 5   family_status     21401 non-null  object \n",
      " 6   family_status_id  21401 non-null  int64  \n",
      " 7   gender            21401 non-null  object \n",
      " 8   income_type       21401 non-null  object \n",
      " 9   debt              21401 non-null  int64  \n",
      " 10  total_income      21401 non-null  int64  \n",
      " 11  purpose           21401 non-null  object \n",
      "dtypes: float64(1), int64(6), object(5)\n",
      "memory usage: 2.1+ MB\n"
     ]
    }
   ],
   "source": [
    "# проверка:\n",
    "\n",
    "data.info()"
   ]
  },
  {
   "cell_type": "markdown",
   "id": "99619cf5",
   "metadata": {},
   "source": [
    "Привели значения признака `total_income` к целочисленному виду. Остальные признаки не требуют изменения типов данных и готовы для дальнейшего использования."
   ]
  },
  {
   "cell_type": "markdown",
   "id": "dc4b13e0",
   "metadata": {},
   "source": [
    "### Обработка дубликатов"
   ]
  },
  {
   "cell_type": "code",
   "execution_count": 35,
   "id": "6375469f",
   "metadata": {},
   "outputs": [
    {
     "data": {
      "text/plain": [
       "71"
      ]
     },
     "execution_count": 35,
     "metadata": {},
     "output_type": "execute_result"
    }
   ],
   "source": [
    "# проверим датасет на явные дубликаты:\n",
    "\n",
    "data.duplicated().sum()"
   ]
  },
  {
   "cell_type": "code",
   "execution_count": 36,
   "id": "ae3476bb",
   "metadata": {},
   "outputs": [
    {
     "data": {
      "text/html": [
       "<div>\n",
       "<style scoped>\n",
       "    .dataframe tbody tr th:only-of-type {\n",
       "        vertical-align: middle;\n",
       "    }\n",
       "\n",
       "    .dataframe tbody tr th {\n",
       "        vertical-align: top;\n",
       "    }\n",
       "\n",
       "    .dataframe thead th {\n",
       "        text-align: right;\n",
       "    }\n",
       "</style>\n",
       "<table border=\"1\" class=\"dataframe\">\n",
       "  <thead>\n",
       "    <tr style=\"text-align: right;\">\n",
       "      <th></th>\n",
       "      <th>children</th>\n",
       "      <th>days_employed</th>\n",
       "      <th>dob_years</th>\n",
       "      <th>education</th>\n",
       "      <th>education_id</th>\n",
       "      <th>family_status</th>\n",
       "      <th>family_status_id</th>\n",
       "      <th>gender</th>\n",
       "      <th>income_type</th>\n",
       "      <th>debt</th>\n",
       "      <th>total_income</th>\n",
       "      <th>purpose</th>\n",
       "    </tr>\n",
       "  </thead>\n",
       "  <tbody>\n",
       "    <tr>\n",
       "      <th>2849</th>\n",
       "      <td>0</td>\n",
       "      <td>1574.202821</td>\n",
       "      <td>41</td>\n",
       "      <td>среднее</td>\n",
       "      <td>1</td>\n",
       "      <td>женат / замужем</td>\n",
       "      <td>0</td>\n",
       "      <td>F</td>\n",
       "      <td>сотрудник</td>\n",
       "      <td>0</td>\n",
       "      <td>142594</td>\n",
       "      <td>покупка жилья для семьи</td>\n",
       "    </tr>\n",
       "    <tr>\n",
       "      <th>3290</th>\n",
       "      <td>0</td>\n",
       "      <td>365213.306266</td>\n",
       "      <td>58</td>\n",
       "      <td>среднее</td>\n",
       "      <td>1</td>\n",
       "      <td>гражданский брак</td>\n",
       "      <td>1</td>\n",
       "      <td>F</td>\n",
       "      <td>пенсионер</td>\n",
       "      <td>0</td>\n",
       "      <td>118514</td>\n",
       "      <td>сыграть свадьбу</td>\n",
       "    </tr>\n",
       "    <tr>\n",
       "      <th>4182</th>\n",
       "      <td>1</td>\n",
       "      <td>1574.202821</td>\n",
       "      <td>34</td>\n",
       "      <td>высшее</td>\n",
       "      <td>0</td>\n",
       "      <td>гражданский брак</td>\n",
       "      <td>1</td>\n",
       "      <td>F</td>\n",
       "      <td>сотрудник</td>\n",
       "      <td>0</td>\n",
       "      <td>142594</td>\n",
       "      <td>свадьба</td>\n",
       "    </tr>\n",
       "    <tr>\n",
       "      <th>4851</th>\n",
       "      <td>0</td>\n",
       "      <td>365213.306266</td>\n",
       "      <td>60</td>\n",
       "      <td>среднее</td>\n",
       "      <td>1</td>\n",
       "      <td>гражданский брак</td>\n",
       "      <td>1</td>\n",
       "      <td>F</td>\n",
       "      <td>пенсионер</td>\n",
       "      <td>0</td>\n",
       "      <td>118514</td>\n",
       "      <td>свадьба</td>\n",
       "    </tr>\n",
       "    <tr>\n",
       "      <th>5557</th>\n",
       "      <td>0</td>\n",
       "      <td>365213.306266</td>\n",
       "      <td>58</td>\n",
       "      <td>среднее</td>\n",
       "      <td>1</td>\n",
       "      <td>гражданский брак</td>\n",
       "      <td>1</td>\n",
       "      <td>F</td>\n",
       "      <td>пенсионер</td>\n",
       "      <td>0</td>\n",
       "      <td>118514</td>\n",
       "      <td>сыграть свадьбу</td>\n",
       "    </tr>\n",
       "  </tbody>\n",
       "</table>\n",
       "</div>"
      ],
      "text/plain": [
       "      children  days_employed  dob_years education  education_id  \\\n",
       "2849         0    1574.202821         41   среднее             1   \n",
       "3290         0  365213.306266         58   среднее             1   \n",
       "4182         1    1574.202821         34    высшее             0   \n",
       "4851         0  365213.306266         60   среднее             1   \n",
       "5557         0  365213.306266         58   среднее             1   \n",
       "\n",
       "         family_status  family_status_id gender income_type  debt  \\\n",
       "2849   женат / замужем                 0      F   сотрудник     0   \n",
       "3290  гражданский брак                 1      F   пенсионер     0   \n",
       "4182  гражданский брак                 1      F   сотрудник     0   \n",
       "4851  гражданский брак                 1      F   пенсионер     0   \n",
       "5557  гражданский брак                 1      F   пенсионер     0   \n",
       "\n",
       "      total_income                  purpose  \n",
       "2849        142594  покупка жилья для семьи  \n",
       "3290        118514          сыграть свадьбу  \n",
       "4182        142594                  свадьба  \n",
       "4851        118514                  свадьба  \n",
       "5557        118514          сыграть свадьбу  "
      ]
     },
     "execution_count": 36,
     "metadata": {},
     "output_type": "execute_result"
    }
   ],
   "source": [
    "# вывод нескольких строк-дубликатов:\n",
    "\n",
    "data[data.duplicated()].head()"
   ]
  },
  {
   "cell_type": "code",
   "execution_count": 37,
   "id": "91ddc9b6",
   "metadata": {},
   "outputs": [
    {
     "data": {
      "text/plain": [
       "0"
      ]
     },
     "execution_count": 37,
     "metadata": {},
     "output_type": "execute_result"
    }
   ],
   "source": [
    "# удалим все явные дубликаты:\n",
    "\n",
    "data = data.drop_duplicates()\n",
    "\n",
    "# проверка:\n",
    "data.duplicated().sum()"
   ]
  },
  {
   "cell_type": "markdown",
   "id": "d164d301",
   "metadata": {},
   "source": [
    "Избавились от явных дубликатов."
   ]
  },
  {
   "cell_type": "markdown",
   "id": "5883859a",
   "metadata": {},
   "source": [
    "### Категоризация данных"
   ]
  },
  {
   "cell_type": "markdown",
   "id": "abf875f3",
   "metadata": {},
   "source": [
    "Создадим новый признак `total_income_category` и заполним его на основании диапазонов, указанных ниже\n",
    "\n",
    "- 0–30000 — `'E'`;\n",
    "- 30001–50000 — `'D'`;\n",
    "- 50001–200000 — `'C'`;\n",
    "- 200001–1000000 — `'B'`;\n",
    "- 1000001 и выше — `'A'`.\n",
    "\n",
    "Для этого создадим новую функцию."
   ]
  },
  {
   "cell_type": "code",
   "execution_count": 39,
   "id": "702bf1f8",
   "metadata": {},
   "outputs": [],
   "source": [
    "def categorize_income(income):\n",
    "    try:\n",
    "        if 0 <= income <= 30000:\n",
    "            return 'E'\n",
    "        elif 30001 <= income <= 50000:\n",
    "            return 'D'\n",
    "        elif 50001 <= income <= 200000:\n",
    "            return 'C'\n",
    "        elif 200001 <= income <= 1000000:\n",
    "            return 'B'\n",
    "        elif income >= 1000001:\n",
    "            return 'A'\n",
    "    except:\n",
    "        pass"
   ]
  },
  {
   "cell_type": "code",
   "execution_count": 40,
   "id": "9faed4f0",
   "metadata": {},
   "outputs": [],
   "source": [
    "# создание нового признака total_income_category\n",
    "# и его заполнение с помощью функции categorize_income\n",
    "\n",
    "data['total_income_category'] = data['total_income'].apply(categorize_income)"
   ]
  },
  {
   "cell_type": "code",
   "execution_count": 41,
   "id": "97516526",
   "metadata": {},
   "outputs": [
    {
     "data": {
      "text/html": [
       "<div>\n",
       "<style scoped>\n",
       "    .dataframe tbody tr th:only-of-type {\n",
       "        vertical-align: middle;\n",
       "    }\n",
       "\n",
       "    .dataframe tbody tr th {\n",
       "        vertical-align: top;\n",
       "    }\n",
       "\n",
       "    .dataframe thead th {\n",
       "        text-align: right;\n",
       "    }\n",
       "</style>\n",
       "<table border=\"1\" class=\"dataframe\">\n",
       "  <thead>\n",
       "    <tr style=\"text-align: right;\">\n",
       "      <th></th>\n",
       "      <th>children</th>\n",
       "      <th>days_employed</th>\n",
       "      <th>dob_years</th>\n",
       "      <th>education</th>\n",
       "      <th>education_id</th>\n",
       "      <th>family_status</th>\n",
       "      <th>family_status_id</th>\n",
       "      <th>gender</th>\n",
       "      <th>income_type</th>\n",
       "      <th>debt</th>\n",
       "      <th>total_income</th>\n",
       "      <th>purpose</th>\n",
       "      <th>total_income_category</th>\n",
       "    </tr>\n",
       "  </thead>\n",
       "  <tbody>\n",
       "    <tr>\n",
       "      <th>0</th>\n",
       "      <td>1</td>\n",
       "      <td>8437.673028</td>\n",
       "      <td>42</td>\n",
       "      <td>высшее</td>\n",
       "      <td>0</td>\n",
       "      <td>женат / замужем</td>\n",
       "      <td>0</td>\n",
       "      <td>F</td>\n",
       "      <td>сотрудник</td>\n",
       "      <td>0</td>\n",
       "      <td>253875</td>\n",
       "      <td>покупка жилья</td>\n",
       "      <td>B</td>\n",
       "    </tr>\n",
       "    <tr>\n",
       "      <th>1</th>\n",
       "      <td>1</td>\n",
       "      <td>4024.803754</td>\n",
       "      <td>36</td>\n",
       "      <td>среднее</td>\n",
       "      <td>1</td>\n",
       "      <td>женат / замужем</td>\n",
       "      <td>0</td>\n",
       "      <td>F</td>\n",
       "      <td>сотрудник</td>\n",
       "      <td>0</td>\n",
       "      <td>112080</td>\n",
       "      <td>приобретение автомобиля</td>\n",
       "      <td>C</td>\n",
       "    </tr>\n",
       "    <tr>\n",
       "      <th>2</th>\n",
       "      <td>0</td>\n",
       "      <td>5623.422610</td>\n",
       "      <td>33</td>\n",
       "      <td>среднее</td>\n",
       "      <td>1</td>\n",
       "      <td>женат / замужем</td>\n",
       "      <td>0</td>\n",
       "      <td>M</td>\n",
       "      <td>сотрудник</td>\n",
       "      <td>0</td>\n",
       "      <td>145885</td>\n",
       "      <td>покупка жилья</td>\n",
       "      <td>C</td>\n",
       "    </tr>\n",
       "    <tr>\n",
       "      <th>3</th>\n",
       "      <td>3</td>\n",
       "      <td>4124.747207</td>\n",
       "      <td>32</td>\n",
       "      <td>среднее</td>\n",
       "      <td>1</td>\n",
       "      <td>женат / замужем</td>\n",
       "      <td>0</td>\n",
       "      <td>M</td>\n",
       "      <td>сотрудник</td>\n",
       "      <td>0</td>\n",
       "      <td>267628</td>\n",
       "      <td>дополнительное образование</td>\n",
       "      <td>B</td>\n",
       "    </tr>\n",
       "    <tr>\n",
       "      <th>4</th>\n",
       "      <td>0</td>\n",
       "      <td>340266.072047</td>\n",
       "      <td>53</td>\n",
       "      <td>среднее</td>\n",
       "      <td>1</td>\n",
       "      <td>гражданский брак</td>\n",
       "      <td>1</td>\n",
       "      <td>F</td>\n",
       "      <td>пенсионер</td>\n",
       "      <td>0</td>\n",
       "      <td>158616</td>\n",
       "      <td>сыграть свадьбу</td>\n",
       "      <td>C</td>\n",
       "    </tr>\n",
       "  </tbody>\n",
       "</table>\n",
       "</div>"
      ],
      "text/plain": [
       "   children  days_employed  dob_years education  education_id  \\\n",
       "0         1    8437.673028         42    высшее             0   \n",
       "1         1    4024.803754         36   среднее             1   \n",
       "2         0    5623.422610         33   среднее             1   \n",
       "3         3    4124.747207         32   среднее             1   \n",
       "4         0  340266.072047         53   среднее             1   \n",
       "\n",
       "      family_status  family_status_id gender income_type  debt  total_income  \\\n",
       "0   женат / замужем                 0      F   сотрудник     0        253875   \n",
       "1   женат / замужем                 0      F   сотрудник     0        112080   \n",
       "2   женат / замужем                 0      M   сотрудник     0        145885   \n",
       "3   женат / замужем                 0      M   сотрудник     0        267628   \n",
       "4  гражданский брак                 1      F   пенсионер     0        158616   \n",
       "\n",
       "                      purpose total_income_category  \n",
       "0               покупка жилья                     B  \n",
       "1     приобретение автомобиля                     C  \n",
       "2               покупка жилья                     C  \n",
       "3  дополнительное образование                     B  \n",
       "4             сыграть свадьбу                     C  "
      ]
     },
     "execution_count": 41,
     "metadata": {},
     "output_type": "execute_result"
    }
   ],
   "source": [
    "# проверка\n",
    "\n",
    "data.head()"
   ]
  },
  {
   "cell_type": "markdown",
   "id": "400ec9e2",
   "metadata": {},
   "source": [
    "### Анализ признака `purpose`"
   ]
  },
  {
   "cell_type": "markdown",
   "id": "166e354b",
   "metadata": {},
   "source": [
    "Выведем на экран перечень уникальных целей взятия кредита из столбца `purpose`"
   ]
  },
  {
   "cell_type": "code",
   "execution_count": 42,
   "id": "3fe2024e",
   "metadata": {},
   "outputs": [
    {
     "data": {
      "text/plain": [
       "array(['покупка жилья', 'приобретение автомобиля',\n",
       "       'дополнительное образование', 'сыграть свадьбу',\n",
       "       'операции с жильем', 'образование', 'на проведение свадьбы',\n",
       "       'покупка жилья для семьи', 'покупка недвижимости',\n",
       "       'покупка коммерческой недвижимости', 'покупка жилой недвижимости',\n",
       "       'строительство собственной недвижимости', 'недвижимость',\n",
       "       'строительство недвижимости', 'на покупку подержанного автомобиля',\n",
       "       'на покупку своего автомобиля',\n",
       "       'операции с коммерческой недвижимостью',\n",
       "       'строительство жилой недвижимости', 'жилье',\n",
       "       'операции со своей недвижимостью', 'автомобили',\n",
       "       'заняться образованием', 'сделка с подержанным автомобилем',\n",
       "       'получение образования', 'автомобиль', 'свадьба',\n",
       "       'получение дополнительного образования', 'покупка своего жилья',\n",
       "       'операции с недвижимостью', 'получение высшего образования',\n",
       "       'свой автомобиль', 'сделка с автомобилем',\n",
       "       'профильное образование', 'высшее образование',\n",
       "       'покупка жилья для сдачи', 'на покупку автомобиля', 'ремонт жилью',\n",
       "       'заняться высшим образованием'], dtype=object)"
      ]
     },
     "execution_count": 42,
     "metadata": {},
     "output_type": "execute_result"
    }
   ],
   "source": [
    "data.purpose.unique()"
   ]
  },
  {
   "cell_type": "markdown",
   "id": "dffa19ce",
   "metadata": {},
   "source": [
    "Встречаются одинаковые цели взятия кредита, записанные по-разному. Можно выделить следующие категории кредитов:\n",
    "   - операции с автомобилем;\n",
    "   - операции с недвижимостью;\n",
    "   - проведение свадьбы;\n",
    "   - получение образования.\n",
    "   \n",
    "Сделаем новый признак `purpose_category` и на основании данных из столбца `purpose` заполним его перечисленными выше категориями. Для этого создадим собственную функцию. "
   ]
  },
  {
   "cell_type": "code",
   "execution_count": 43,
   "id": "478266f1",
   "metadata": {},
   "outputs": [],
   "source": [
    "def categorize_purpose(row):\n",
    "    try:\n",
    "        if 'автом' in row:\n",
    "            return 'операции с автомобилем'\n",
    "        elif 'жил' in row or 'недвиж' in row:\n",
    "            return 'операции с недвижимостью'\n",
    "        elif 'свад' in row:\n",
    "            return 'проведение свадьбы'\n",
    "        elif 'образов' in row:\n",
    "            return 'получение образования'\n",
    "    except:\n",
    "        return 'нет категории'"
   ]
  },
  {
   "cell_type": "code",
   "execution_count": 44,
   "id": "0e288c96",
   "metadata": {},
   "outputs": [],
   "source": [
    "# создание новго признака purpose_category\n",
    "# и заполнение его с помощью функции categorize_purpose\n",
    "\n",
    "data['purpose_category'] = data['purpose'].apply(categorize_purpose)"
   ]
  },
  {
   "cell_type": "code",
   "execution_count": 45,
   "id": "26960bde",
   "metadata": {},
   "outputs": [
    {
     "data": {
      "text/html": [
       "<div>\n",
       "<style scoped>\n",
       "    .dataframe tbody tr th:only-of-type {\n",
       "        vertical-align: middle;\n",
       "    }\n",
       "\n",
       "    .dataframe tbody tr th {\n",
       "        vertical-align: top;\n",
       "    }\n",
       "\n",
       "    .dataframe thead th {\n",
       "        text-align: right;\n",
       "    }\n",
       "</style>\n",
       "<table border=\"1\" class=\"dataframe\">\n",
       "  <thead>\n",
       "    <tr style=\"text-align: right;\">\n",
       "      <th></th>\n",
       "      <th>children</th>\n",
       "      <th>days_employed</th>\n",
       "      <th>dob_years</th>\n",
       "      <th>education</th>\n",
       "      <th>education_id</th>\n",
       "      <th>family_status</th>\n",
       "      <th>family_status_id</th>\n",
       "      <th>gender</th>\n",
       "      <th>income_type</th>\n",
       "      <th>debt</th>\n",
       "      <th>total_income</th>\n",
       "      <th>purpose</th>\n",
       "      <th>total_income_category</th>\n",
       "      <th>purpose_category</th>\n",
       "    </tr>\n",
       "  </thead>\n",
       "  <tbody>\n",
       "    <tr>\n",
       "      <th>0</th>\n",
       "      <td>1</td>\n",
       "      <td>8437.673028</td>\n",
       "      <td>42</td>\n",
       "      <td>высшее</td>\n",
       "      <td>0</td>\n",
       "      <td>женат / замужем</td>\n",
       "      <td>0</td>\n",
       "      <td>F</td>\n",
       "      <td>сотрудник</td>\n",
       "      <td>0</td>\n",
       "      <td>253875</td>\n",
       "      <td>покупка жилья</td>\n",
       "      <td>B</td>\n",
       "      <td>операции с недвижимостью</td>\n",
       "    </tr>\n",
       "    <tr>\n",
       "      <th>1</th>\n",
       "      <td>1</td>\n",
       "      <td>4024.803754</td>\n",
       "      <td>36</td>\n",
       "      <td>среднее</td>\n",
       "      <td>1</td>\n",
       "      <td>женат / замужем</td>\n",
       "      <td>0</td>\n",
       "      <td>F</td>\n",
       "      <td>сотрудник</td>\n",
       "      <td>0</td>\n",
       "      <td>112080</td>\n",
       "      <td>приобретение автомобиля</td>\n",
       "      <td>C</td>\n",
       "      <td>операции с автомобилем</td>\n",
       "    </tr>\n",
       "    <tr>\n",
       "      <th>2</th>\n",
       "      <td>0</td>\n",
       "      <td>5623.422610</td>\n",
       "      <td>33</td>\n",
       "      <td>среднее</td>\n",
       "      <td>1</td>\n",
       "      <td>женат / замужем</td>\n",
       "      <td>0</td>\n",
       "      <td>M</td>\n",
       "      <td>сотрудник</td>\n",
       "      <td>0</td>\n",
       "      <td>145885</td>\n",
       "      <td>покупка жилья</td>\n",
       "      <td>C</td>\n",
       "      <td>операции с недвижимостью</td>\n",
       "    </tr>\n",
       "    <tr>\n",
       "      <th>3</th>\n",
       "      <td>3</td>\n",
       "      <td>4124.747207</td>\n",
       "      <td>32</td>\n",
       "      <td>среднее</td>\n",
       "      <td>1</td>\n",
       "      <td>женат / замужем</td>\n",
       "      <td>0</td>\n",
       "      <td>M</td>\n",
       "      <td>сотрудник</td>\n",
       "      <td>0</td>\n",
       "      <td>267628</td>\n",
       "      <td>дополнительное образование</td>\n",
       "      <td>B</td>\n",
       "      <td>получение образования</td>\n",
       "    </tr>\n",
       "    <tr>\n",
       "      <th>4</th>\n",
       "      <td>0</td>\n",
       "      <td>340266.072047</td>\n",
       "      <td>53</td>\n",
       "      <td>среднее</td>\n",
       "      <td>1</td>\n",
       "      <td>гражданский брак</td>\n",
       "      <td>1</td>\n",
       "      <td>F</td>\n",
       "      <td>пенсионер</td>\n",
       "      <td>0</td>\n",
       "      <td>158616</td>\n",
       "      <td>сыграть свадьбу</td>\n",
       "      <td>C</td>\n",
       "      <td>проведение свадьбы</td>\n",
       "    </tr>\n",
       "  </tbody>\n",
       "</table>\n",
       "</div>"
      ],
      "text/plain": [
       "   children  days_employed  dob_years education  education_id  \\\n",
       "0         1    8437.673028         42    высшее             0   \n",
       "1         1    4024.803754         36   среднее             1   \n",
       "2         0    5623.422610         33   среднее             1   \n",
       "3         3    4124.747207         32   среднее             1   \n",
       "4         0  340266.072047         53   среднее             1   \n",
       "\n",
       "      family_status  family_status_id gender income_type  debt  total_income  \\\n",
       "0   женат / замужем                 0      F   сотрудник     0        253875   \n",
       "1   женат / замужем                 0      F   сотрудник     0        112080   \n",
       "2   женат / замужем                 0      M   сотрудник     0        145885   \n",
       "3   женат / замужем                 0      M   сотрудник     0        267628   \n",
       "4  гражданский брак                 1      F   пенсионер     0        158616   \n",
       "\n",
       "                      purpose total_income_category          purpose_category  \n",
       "0               покупка жилья                     B  операции с недвижимостью  \n",
       "1     приобретение автомобиля                     C    операции с автомобилем  \n",
       "2               покупка жилья                     C  операции с недвижимостью  \n",
       "3  дополнительное образование                     B     получение образования  \n",
       "4             сыграть свадьбу                     C        проведение свадьбы  "
      ]
     },
     "execution_count": 45,
     "metadata": {},
     "output_type": "execute_result"
    }
   ],
   "source": [
    "# проверка\n",
    "\n",
    "data.head()"
   ]
  },
  {
   "cell_type": "markdown",
   "id": "cb01d5f8",
   "metadata": {},
   "source": [
    "## Анализ данных и ответы на вопросы"
   ]
  },
  {
   "cell_type": "markdown",
   "id": "e7a7bdff",
   "metadata": {},
   "source": [
    "[Назад к содержанию](#Содержание)"
   ]
  },
  {
   "cell_type": "markdown",
   "id": "9ec44f18",
   "metadata": {},
   "source": [
    "### Есть ли зависимость между количеством детей и возвратом кредита в срок?"
   ]
  },
  {
   "cell_type": "markdown",
   "id": "29e3c5d6",
   "metadata": {},
   "source": [
    "Подсчитаем количество возвратов и невозвратов кредита в срок в зависимости от количества детей."
   ]
  },
  {
   "cell_type": "code",
   "execution_count": 46,
   "id": "5c02f0ed",
   "metadata": {},
   "outputs": [
    {
     "name": "stdout",
     "output_type": "stream",
     "text": [
      "children  debt\n",
      "0         0       13027\n",
      "          1        1063\n",
      "1         0        4364\n",
      "          1         444\n",
      "2         0        1858\n",
      "          1         194\n",
      "3         0         303\n",
      "          1          27\n",
      "4         0          37\n",
      "          1           4\n",
      "5         0           9\n",
      "Name: debt, dtype: int64\n"
     ]
    }
   ],
   "source": [
    "# сгруппируем данные по столбцу children и подсчитаем количество возвратов и \n",
    "# невозвратов кредита в срок по столбцу debt, применив метод value_counts()\n",
    "\n",
    "print(data.groupby('children')['debt'].value_counts())"
   ]
  },
  {
   "cell_type": "markdown",
   "id": "4123e18c",
   "metadata": {},
   "source": [
    "Из таблицы видно, что, не смотря на количество детей, у всех были задолженности по возвратам, за исключением тех у кого 5 детей (таких людей всего 9). Для наглядности построим график зависимости от количества детей и задолженности по возвратам."
   ]
  },
  {
   "cell_type": "code",
   "execution_count": 49,
   "id": "94b8c62e",
   "metadata": {},
   "outputs": [
    {
     "data": {
      "image/png": "[encoded data removed]",
      "text/plain": [
       "<Figure size 432x288 with 1 Axes>"
      ]
     },
     "metadata": {
      "needs_background": "light"
     },
     "output_type": "display_data"
    }
   ],
   "source": [
    "# построим график зависимости где по оси Х будет количество детей, \n",
    "# а по оси Y будет значения наличия задолженности\n",
    "\n",
    "sns.barplot(x=data['children'], y=data['debt']);"
   ]
  },
  {
   "cell_type": "markdown",
   "id": "41215fe1",
   "metadata": {},
   "source": [
    "График также показывает наличие задолженности по всем категориям, кроме тех у кого 5 детей. По графику видно, что меньше всего задолженности было у кого нет детей и у кого трое детей. Больше всего задолженностей у кого четверо детей. В целом распределение примерно одинаковое - все категории людей практически одинаково возвращают кредит в срок.\n",
    "\n",
    "Для более точного понимания подсчитаем процент возврата кредита в срок в зависимости от количества детей. Для этого создадим функцию, на вход которой будем подавать количество детей, а на выходе получать процент возврата кредита в срок. Подсчет сделаем для всех категорий людей, за исключением тех у кого пятеро детей, т.к. у них проблем с выплатами отсутствуют."
   ]
  },
  {
   "cell_type": "code",
   "execution_count": 50,
   "id": "df8bae15",
   "metadata": {},
   "outputs": [],
   "source": [
    "# создадим универсальную функцию debt, которая будет принимать на входе два параметра:\n",
    "# 1) столбец, по которому идет анализ, например children,\n",
    "# 2) значение, например, количество детей,\n",
    "# на выходе функция будет возвращать процент возврата кредита в срок. \n",
    "# данная функция также пригодится для последующего анализа.\n",
    "\n",
    "def debt(row, value):\n",
    "    # подсчитаем количество возвращенных кредитов в срок:\n",
    "    without_debt = data.loc[(data[row] == value) & (data['debt'] == 0)]['debt'].count()\n",
    "    \n",
    "    # подсчитаем количество кредитов, выплаченных с задержкой:\n",
    "    with_debt = data.loc[(data[row] == value) & (data['debt'] == 1)]['debt'].count()\n",
    "    \n",
    "    # подсчитаем процент возврата кредита в срок\n",
    "    percent = 1 - with_debt / without_debt\n",
    "    \n",
    "    # выведем процент возврата кредита в срок\n",
    "    return f'{percent:.2%}'"
   ]
  },
  {
   "cell_type": "code",
   "execution_count": 51,
   "id": "00e2dcc2",
   "metadata": {},
   "outputs": [
    {
     "name": "stdout",
     "output_type": "stream",
     "text": [
      "Процент возврата кредита в срок у кого 0 детей/ребенок 91.84%\n",
      "Процент возврата кредита в срок у кого 1 детей/ребенок 89.83%\n",
      "Процент возврата кредита в срок у кого 2 детей/ребенок 89.56%\n",
      "Процент возврата кредита в срок у кого 3 детей/ребенок 91.09%\n",
      "Процент возврата кредита в срок у кого 4 детей/ребенок 89.19%\n"
     ]
    }
   ],
   "source": [
    "# выведем процент возврата кредита в срок для тех у кого нет детей\n",
    "# и для тех у кого до четырех детей включительно:\n",
    "\n",
    "for i in range(5):\n",
    "    print(f\"Процент возврата кредита в срок у кого {i} детей/ребенок {debt('children', i)}\")"
   ]
  },
  {
   "cell_type": "markdown",
   "id": "0bed11ab",
   "metadata": {},
   "source": [
    "Далее найдём общее количество клиентов, количество просрочек по платежам и долю просрочек. Данные сведём в таблицу, сгруппировав по количеству детей. "
   ]
  },
  {
   "cell_type": "code",
   "execution_count": 52,
   "id": "57353c2f",
   "metadata": {},
   "outputs": [],
   "source": [
    "# создадим функцию, которая будет возвращать долю возврата кредита с просрочкой в процентах\n",
    "# для этого разделим кол-во возвратов с задержкой на общее количество взятых кредитов\n",
    "# кол-во возвратов с задержкой - это сумма единиц в столбце 'debt', \n",
    "    # т.к. 1 - это задержка, а 0 - возврат вовремя \n",
    "# общее количество взятых кредитов - это кол-во значений в столбце 'debt' (также это равно общему кол-ву клиентов)\n",
    "\n",
    "def percentage(debt):\n",
    "    return str(round((debt.sum() / debt.count()) * 100, 2)) + '%' # вывод округляем до 2 знаков после запятой и добавляем знак '%'\n"
   ]
  },
  {
   "cell_type": "code",
   "execution_count": 53,
   "id": "37684f60",
   "metadata": {},
   "outputs": [],
   "source": [
    "# создадим еще одну функцию, которая будет возвращать количество вовремя возвращенных кредитов\n",
    "\n",
    "def debt_free_qnt(debt):\n",
    "    return debt.count() - debt.sum()"
   ]
  },
  {
   "cell_type": "code",
   "execution_count": 54,
   "id": "cacc26ad",
   "metadata": {},
   "outputs": [
    {
     "data": {
      "text/html": [
       "<div>\n",
       "<style scoped>\n",
       "    .dataframe tbody tr th:only-of-type {\n",
       "        vertical-align: middle;\n",
       "    }\n",
       "\n",
       "    .dataframe tbody tr th {\n",
       "        vertical-align: top;\n",
       "    }\n",
       "\n",
       "    .dataframe thead tr th {\n",
       "        text-align: left;\n",
       "    }\n",
       "\n",
       "    .dataframe thead tr:last-of-type th {\n",
       "        text-align: right;\n",
       "    }\n",
       "</style>\n",
       "<table border=\"1\" class=\"dataframe\">\n",
       "  <thead>\n",
       "    <tr>\n",
       "      <th></th>\n",
       "      <th>count</th>\n",
       "      <th>debt_free_qnt</th>\n",
       "      <th>sum</th>\n",
       "      <th>percentage</th>\n",
       "    </tr>\n",
       "    <tr>\n",
       "      <th></th>\n",
       "      <th>debt</th>\n",
       "      <th>debt</th>\n",
       "      <th>debt</th>\n",
       "      <th>debt</th>\n",
       "    </tr>\n",
       "    <tr>\n",
       "      <th>children</th>\n",
       "      <th></th>\n",
       "      <th></th>\n",
       "      <th></th>\n",
       "      <th></th>\n",
       "    </tr>\n",
       "  </thead>\n",
       "  <tbody>\n",
       "    <tr>\n",
       "      <th>0</th>\n",
       "      <td>14090</td>\n",
       "      <td>13027</td>\n",
       "      <td>1063</td>\n",
       "      <td>7.54%</td>\n",
       "    </tr>\n",
       "    <tr>\n",
       "      <th>1</th>\n",
       "      <td>4808</td>\n",
       "      <td>4364</td>\n",
       "      <td>444</td>\n",
       "      <td>9.23%</td>\n",
       "    </tr>\n",
       "    <tr>\n",
       "      <th>2</th>\n",
       "      <td>2052</td>\n",
       "      <td>1858</td>\n",
       "      <td>194</td>\n",
       "      <td>9.45%</td>\n",
       "    </tr>\n",
       "    <tr>\n",
       "      <th>3</th>\n",
       "      <td>330</td>\n",
       "      <td>303</td>\n",
       "      <td>27</td>\n",
       "      <td>8.18%</td>\n",
       "    </tr>\n",
       "    <tr>\n",
       "      <th>4</th>\n",
       "      <td>41</td>\n",
       "      <td>37</td>\n",
       "      <td>4</td>\n",
       "      <td>9.76%</td>\n",
       "    </tr>\n",
       "    <tr>\n",
       "      <th>5</th>\n",
       "      <td>9</td>\n",
       "      <td>9</td>\n",
       "      <td>0</td>\n",
       "      <td>0.0%</td>\n",
       "    </tr>\n",
       "  </tbody>\n",
       "</table>\n",
       "</div>"
      ],
      "text/plain": [
       "          count debt_free_qnt   sum percentage\n",
       "           debt          debt  debt       debt\n",
       "children                                      \n",
       "0         14090         13027  1063      7.54%\n",
       "1          4808          4364   444      9.23%\n",
       "2          2052          1858   194      9.45%\n",
       "3           330           303    27      8.18%\n",
       "4            41            37     4      9.76%\n",
       "5             9             9     0       0.0%"
      ]
     },
     "execution_count": 54,
     "metadata": {},
     "output_type": "execute_result"
    }
   ],
   "source": [
    "# для формирования сводной таблицы, в которой будет отражено общее кол-во клиентов, кол-во просрочек и \n",
    "# доля возврата кредита в срок, сгруппированной по количеству детей, воспользуемся методом pivot_table\n",
    "# в качестве 'index' передадим столбец 'children' - по нему будет идти группировка данных\n",
    "# в качестве 'values' передаем столбец 'debt' - по нему будут идти подсчеты данных\n",
    "# в 'aggfunc' передаем функции:\n",
    "    # 'count' - для подсчета общего кол-ва значений в столбце 'debt'\n",
    "    # собственную функцию debt_free_qnt для вывода количества кредитов, выплаченных в срок\n",
    "    # 'sum' - для суммирования данных в столбце 'debt'\n",
    "    # собственную функцию percentage, для вывода доли возврата кредита с задержкой\n",
    "    \n",
    "data_pivot_by_children = pd.pivot_table( \\\n",
    "        data, index='children', values=['debt'], aggfunc=['count', debt_free_qnt, 'sum', percentage])\n",
    "data_pivot_by_children"
   ]
  },
  {
   "cell_type": "markdown",
   "id": "0a99e949",
   "metadata": {},
   "source": [
    "Из сводной таблицы стало сразу отчетливо видно: не смотря на более-менее равномерное распределение возврата кредита в срок по категориям, мы видим, что для некоторых категорий людей совсем небольшой объем взятых кредитов. Так для тех категорий у кого трое или четверо детей количество взятых кредитов невелико, поэтому мы пренебрежем этими категориями в анализе. В итоге у нас остаётся три категории людей - у кого либо нет детей, либо у кого один или двое детей. Количество взятых кредитов достаточна, поэтому мы будем использовать полученные данные при анализе. \n",
    "Итак, у кого нет детей берут кредиты намного чаще и возвращают вовремя тоже намного чаще, вопреки мнениям о том, что бездетные менее серьезные и более халатно относятся к выплатам.\n",
    "У кого один ребенок задерживают выплаты чаще, да и берут кредиты почти в три раза реже. Поэтому есть вероятность того, что если кол-во кредиторов с одним ребенком было бы равно кол-ву кредиторов без детей, то и процент выплат с задержкой был бы еще больше. Для тех у кого двое детей процент задержек почти равен категории с одним ребенком, но и кредит берут реже чем в два раза. Поэтому предполагаю, что категория с двумя детьми задерживает с платежами чаще. \n",
    "\n",
    "**Вывод:** \n",
    "\n",
    "Итак, зависимость между количеством детей и возвратом кредита в срок существует. В анализе исключили категории людей у кого трое, четверо и пятеро детей из-за недостаточного количества данных. Остались категории без детей и у кого один или двое детей. Категория людей без детей выплачивает кредит в срок намного чаще, чем те у кого один или двое детей.\n",
    "\n"
   ]
  },
  {
   "cell_type": "markdown",
   "id": "4b33cd87",
   "metadata": {},
   "source": [
    "### Есть ли зависимость между семейным положением и возвратом кредита в срок?"
   ]
  },
  {
   "cell_type": "markdown",
   "id": "70e28b64",
   "metadata": {},
   "source": [
    "Проанализируем зависимость теми же способами, что и для первоначального анализа."
   ]
  },
  {
   "cell_type": "code",
   "execution_count": 56,
   "id": "988a159f",
   "metadata": {},
   "outputs": [
    {
     "data": {
      "text/plain": [
       "family_status          debt\n",
       "Не женат / не замужем  0        2523\n",
       "                       1         273\n",
       "в разводе              0        1105\n",
       "                       1          84\n",
       "вдовец / вдова         0         888\n",
       "                       1          63\n",
       "гражданский брак       0        3748\n",
       "                       1         385\n",
       "женат / замужем        0       11334\n",
       "                       1         927\n",
       "Name: debt, dtype: int64"
      ]
     },
     "execution_count": 56,
     "metadata": {},
     "output_type": "execute_result"
    }
   ],
   "source": [
    "# подсчитаем количество возвратов и невозвратов кредита в срок в зависимости от семейного положения\n",
    "# для чего сгруппируем данные по столбцу family_status и подсчитаем количество возвратов и невозвратов кредита в срок \n",
    "# по столбцу debt, применив метод value_counts()\n",
    "\n",
    "data.groupby('family_status')['debt'].value_counts()"
   ]
  },
  {
   "cell_type": "markdown",
   "id": "1633fc5a",
   "metadata": {},
   "source": [
    "Видно, что у всех категорий были задолженности. Для визуального представления ниже построим график зависимости"
   ]
  },
  {
   "cell_type": "code",
   "execution_count": 58,
   "id": "bce3ec5f",
   "metadata": {},
   "outputs": [
    {
     "data": {
      "image/png": "[encoded data removed]",
      "text/plain": [
       "<Figure size 432x288 with 1 Axes>"
      ]
     },
     "metadata": {
      "needs_background": "light"
     },
     "output_type": "display_data"
    }
   ],
   "source": [
    "# график зависимости где по оси Х будут значения наличия задолженности, \n",
    "# а по оси Y будет семейный статус \n",
    "\n",
    "sns.barplot(x=data['debt'], y=data['family_status']);"
   ]
  },
  {
   "cell_type": "markdown",
   "id": "93c77373",
   "metadata": {},
   "source": [
    "Из графика видно, что больше всего задолженности по возвратам кредита в срок у тех кто не женат/не замужем и состоит в гражданском браке. Меньше всего задолженностей у овдовевших и кто находится в разводе. Далее выведем процент возврата кредита в срок в зависимости от семейного положения. Для чего воспользуемся ранее созданной функцией debt."
   ]
  },
  {
   "cell_type": "code",
   "execution_count": 59,
   "id": "c6d3c6f7",
   "metadata": {},
   "outputs": [],
   "source": [
    "# создадим список с уникальными категориями,\n",
    "# его будем использовать для удобства при выводе данных\n",
    "\n",
    "category = data['family_status'].unique()"
   ]
  },
  {
   "cell_type": "code",
   "execution_count": 60,
   "id": "115ff456",
   "metadata": {},
   "outputs": [
    {
     "name": "stdout",
     "output_type": "stream",
     "text": [
      "Процент возврата кредита в срок для категории 'женат / замужем': 91.82%\n",
      "Процент возврата кредита в срок для категории 'гражданский брак': 89.73%\n",
      "Процент возврата кредита в срок для категории 'вдовец / вдова': 92.91%\n",
      "Процент возврата кредита в срок для категории 'в разводе': 92.40%\n",
      "Процент возврата кредита в срок для категории 'Не женат / не замужем': 89.18%\n"
     ]
    }
   ],
   "source": [
    "# теперь воспользуемся ранее созданной функцией debt\n",
    "# в качестве первого параметра в функцию debt передадим столбец family_status\n",
    "# в качестве второго параметра - категории граждан по семейному положению (из списка category)\n",
    "\n",
    "for i in range(len(category)):\n",
    "    print(f\"Процент возврата кредита в срок для категории '{category[i]}': {debt('family_status', category[i])}\")"
   ]
  },
  {
   "cell_type": "markdown",
   "id": "3ab3f30e",
   "metadata": {},
   "source": [
    "Создадим сводную таблицу, в которой сгруппируем данные по категориям людей и выведем общее количество кредитов, количество просрочек и долю просрочек. Решение будет аналогичным предыдущему расчету, где мы вывели данные значения в зависимости от количества детей. "
   ]
  },
  {
   "cell_type": "code",
   "execution_count": 63,
   "id": "3b739de8",
   "metadata": {},
   "outputs": [
    {
     "data": {
      "text/html": [
       "<div>\n",
       "<style scoped>\n",
       "    .dataframe tbody tr th:only-of-type {\n",
       "        vertical-align: middle;\n",
       "    }\n",
       "\n",
       "    .dataframe tbody tr th {\n",
       "        vertical-align: top;\n",
       "    }\n",
       "\n",
       "    .dataframe thead tr th {\n",
       "        text-align: left;\n",
       "    }\n",
       "\n",
       "    .dataframe thead tr:last-of-type th {\n",
       "        text-align: right;\n",
       "    }\n",
       "</style>\n",
       "<table border=\"1\" class=\"dataframe\">\n",
       "  <thead>\n",
       "    <tr>\n",
       "      <th></th>\n",
       "      <th>count</th>\n",
       "      <th>debt_free_qnt</th>\n",
       "      <th>sum</th>\n",
       "      <th>percentage</th>\n",
       "    </tr>\n",
       "    <tr>\n",
       "      <th></th>\n",
       "      <th>debt</th>\n",
       "      <th>debt</th>\n",
       "      <th>debt</th>\n",
       "      <th>debt</th>\n",
       "    </tr>\n",
       "    <tr>\n",
       "      <th>family_status</th>\n",
       "      <th></th>\n",
       "      <th></th>\n",
       "      <th></th>\n",
       "      <th></th>\n",
       "    </tr>\n",
       "  </thead>\n",
       "  <tbody>\n",
       "    <tr>\n",
       "      <th>Не женат / не замужем</th>\n",
       "      <td>2796</td>\n",
       "      <td>2523</td>\n",
       "      <td>273</td>\n",
       "      <td>9.76%</td>\n",
       "    </tr>\n",
       "    <tr>\n",
       "      <th>в разводе</th>\n",
       "      <td>1189</td>\n",
       "      <td>1105</td>\n",
       "      <td>84</td>\n",
       "      <td>7.06%</td>\n",
       "    </tr>\n",
       "    <tr>\n",
       "      <th>вдовец / вдова</th>\n",
       "      <td>951</td>\n",
       "      <td>888</td>\n",
       "      <td>63</td>\n",
       "      <td>6.62%</td>\n",
       "    </tr>\n",
       "    <tr>\n",
       "      <th>гражданский брак</th>\n",
       "      <td>4133</td>\n",
       "      <td>3748</td>\n",
       "      <td>385</td>\n",
       "      <td>9.32%</td>\n",
       "    </tr>\n",
       "    <tr>\n",
       "      <th>женат / замужем</th>\n",
       "      <td>12261</td>\n",
       "      <td>11334</td>\n",
       "      <td>927</td>\n",
       "      <td>7.56%</td>\n",
       "    </tr>\n",
       "  </tbody>\n",
       "</table>\n",
       "</div>"
      ],
      "text/plain": [
       "                       count debt_free_qnt  sum percentage\n",
       "                        debt          debt debt       debt\n",
       "family_status                                             \n",
       "Не женат / не замужем   2796          2523  273      9.76%\n",
       "в разводе               1189          1105   84      7.06%\n",
       "вдовец / вдова           951           888   63      6.62%\n",
       "гражданский брак        4133          3748  385      9.32%\n",
       "женат / замужем        12261         11334  927      7.56%"
      ]
     },
     "execution_count": 63,
     "metadata": {},
     "output_type": "execute_result"
    }
   ],
   "source": [
    "# в качестве 'index' передадим столбец 'family_status' - по нему будет идти группировка данных\n",
    "# в качестве 'values' передаем столбец 'debt' - по нему будут идти подсчеты данных\n",
    "# в 'aggfunc' передаем функции:\n",
    "    # 'count' - для подсчета общего кол-ва взятых кредитов\n",
    "    # собственную функцию debt_free_qnt для вывода количества кредитов, выплаченных в срок\n",
    "    # 'sum' - для подсчета кредитов с просрочкой\n",
    "    # собственную функцию percentage, для вывода доли возврата кредита с задержкой\n",
    "    \n",
    "data_pivot_by_family_status = pd.pivot_table( \\\n",
    "        data, index='family_status', values=['debt'], aggfunc=['count', debt_free_qnt, 'sum', percentage])\n",
    "data_pivot_by_family_status"
   ]
  },
  {
   "cell_type": "markdown",
   "id": "a6bec462",
   "metadata": {},
   "source": [
    "Исходя из полученной сводной таблицы можно сделать следующие выводы. Меньше всех кредитов взяли овдовевшие и разведеные категории людей. Поэтому исключим из анализа эти категории. Итак, больше всех берут кредиты в категории \"женат / замужем\". Доля просрочек в этой категории минимальна. Осталось две категории: \"гражданский брак\" и \"Не женат / не замужем\". Доля возврата кредита в срок для этих категорий практически одинаковая. \n",
    "\n",
    "**Вывод:** \n",
    "\n",
    "Проанализировав исходные данные, пришли к следующим выводам. Зависимость между семейным положением и возвратом кредита в срок действительно существует. Чаще всего в срок возвращают женатые/замужние. Это весьма логично, т.к. эта категория людей скорее всего должна более ответственно подходить к таким вопросам, да и есть вероятность того, что оба члена семьи работают и с выплатами проще, чем тем кто не женат/не замужем. Категории \"гражданский брак\" и \"Не женат / не замужем\" выплачивают вовремя реже. Для данных групп доля выплат с задержкой практически одинаковая."
   ]
  },
  {
   "cell_type": "markdown",
   "id": "4a4cba14",
   "metadata": {},
   "source": [
    "### Есть ли зависимость между уровнем дохода и возвратом кредита в срок?"
   ]
  },
  {
   "cell_type": "markdown",
   "id": "c7944b3e",
   "metadata": {},
   "source": [
    "Ранее мы добавили в датафрейм столбец total_income_category, в котором мы разбили людей по категориям - A, B, C, D, E - в зависимости от их дохода. Используем эту группировку в расчете."
   ]
  },
  {
   "cell_type": "code",
   "execution_count": 65,
   "id": "a88adddf",
   "metadata": {},
   "outputs": [
    {
     "data": {
      "text/plain": [
       "total_income_category  debt\n",
       "A                      0          23\n",
       "                       1           2\n",
       "B                      0        4659\n",
       "                       1         354\n",
       "C                      0       14568\n",
       "                       1        1353\n",
       "D                      0         328\n",
       "                       1          21\n",
       "E                      0          20\n",
       "                       1           2\n",
       "Name: debt, dtype: int64"
      ]
     },
     "execution_count": 65,
     "metadata": {},
     "output_type": "execute_result"
    }
   ],
   "source": [
    "# подсчитаем количество возвратов и невозвратов кредита в срок в зависимости от уровня дохода\n",
    "# сгруппируем данные по столбцу total_income_category и подсчитаем количество возвратов и невозвратов кредита в срок \n",
    "# по столбцу debt, применив метод value_counts()\n",
    "\n",
    "data.groupby('total_income_category')['debt'].value_counts()"
   ]
  },
  {
   "cell_type": "markdown",
   "id": "28a0fb01",
   "metadata": {},
   "source": [
    "Видно, что у всех категорий были задолженности. Для наглядного представления ниже построим график зависимости."
   ]
  },
  {
   "cell_type": "code",
   "execution_count": 68,
   "id": "42e1dad1",
   "metadata": {},
   "outputs": [
    {
     "data": {
      "image/png": "[encoded data removed]",
      "text/plain": [
       "<Figure size 432x288 with 1 Axes>"
      ]
     },
     "metadata": {
      "needs_background": "light"
     },
     "output_type": "display_data"
    }
   ],
   "source": [
    "# построим график зависимости где по оси Х будут значения наличия задолженности,\n",
    "# а по оси Y будет категория людей по их доходу \n",
    "\n",
    "sns.barplot(x=data['debt'], y=data['total_income_category']);"
   ]
  },
  {
   "cell_type": "markdown",
   "id": "20b989a0",
   "metadata": {},
   "source": [
    "Из графика видно, что больше всего задолженностей было у граждан в категории Е, т.е. с доходом от 0 до 30 000. Меньше всего задолженностей было в категории D, т.е. с доходом от 30 001 до 50 000. Распределение в целом примерно одинаковое. Далее подсчитаем процент вовзрата кредита в срок по каждой категории. Для этого задействуем функцию `debt`."
   ]
  },
  {
   "cell_type": "code",
   "execution_count": 69,
   "id": "f5015b70",
   "metadata": {},
   "outputs": [
    {
     "data": {
      "text/plain": [
       "['A', 'B', 'C', 'D', 'E']"
      ]
     },
     "execution_count": 69,
     "metadata": {},
     "output_type": "execute_result"
    }
   ],
   "source": [
    "# создадим список с уникальными категориями:\n",
    "\n",
    "category_income = sorted(data.total_income_category.unique()) # отсортируем категории в порядке возрастания\n",
    "category_income"
   ]
  },
  {
   "cell_type": "code",
   "execution_count": 70,
   "id": "8fa672fa",
   "metadata": {},
   "outputs": [
    {
     "name": "stdout",
     "output_type": "stream",
     "text": [
      "Процент возврата кредита в срок для категории     'A': 91.30%\n",
      "Процент возврата кредита в срок для категории     'B': 92.40%\n",
      "Процент возврата кредита в срок для категории     'C': 90.71%\n",
      "Процент возврата кредита в срок для категории     'D': 93.60%\n",
      "Процент возврата кредита в срок для категории     'E': 90.00%\n"
     ]
    }
   ],
   "source": [
    "# воспользуемся ранее созданной функцией debt\n",
    "# в качестве первого параметра в функцию debt передадим столбец total_income_category\n",
    "# в качестве второго параметра - категории людей - A, B, C, D, E\n",
    "\n",
    "for i in range(len(category_income)):\n",
    "    print(f\"Процент возврата кредита в срок для категории \\\n",
    "    '{category_income[i]}': {debt('total_income_category', category_income[i])}\")"
   ]
  },
  {
   "cell_type": "markdown",
   "id": "698b5b24",
   "metadata": {},
   "source": [
    "Меньше всего задолженностей по возврату в категории D - с доходом от 30 001 до 50 000. Больше всего задолженностей в категории E - с доходом от 0 до 30 000. В целом явно-выраженной зависимости возврата кредита в срок от уровня дохода нет. Распределение примерно одинаковое для всех групп граждан.\n",
    "\n",
    "Создадим сводную таблицу, в которой сгруппируем данные по доходу людей и выведем общее количество кредитов, количество просрочек и долю просрочек. Решение будет аналогичным предыдущему расчету."
   ]
  },
  {
   "cell_type": "code",
   "execution_count": 71,
   "id": "31b5d8c3",
   "metadata": {},
   "outputs": [
    {
     "data": {
      "text/html": [
       "<div>\n",
       "<style scoped>\n",
       "    .dataframe tbody tr th:only-of-type {\n",
       "        vertical-align: middle;\n",
       "    }\n",
       "\n",
       "    .dataframe tbody tr th {\n",
       "        vertical-align: top;\n",
       "    }\n",
       "\n",
       "    .dataframe thead tr th {\n",
       "        text-align: left;\n",
       "    }\n",
       "\n",
       "    .dataframe thead tr:last-of-type th {\n",
       "        text-align: right;\n",
       "    }\n",
       "</style>\n",
       "<table border=\"1\" class=\"dataframe\">\n",
       "  <thead>\n",
       "    <tr>\n",
       "      <th></th>\n",
       "      <th>count</th>\n",
       "      <th>debt_free_qnt</th>\n",
       "      <th>sum</th>\n",
       "      <th>percentage</th>\n",
       "    </tr>\n",
       "    <tr>\n",
       "      <th></th>\n",
       "      <th>debt</th>\n",
       "      <th>debt</th>\n",
       "      <th>debt</th>\n",
       "      <th>debt</th>\n",
       "    </tr>\n",
       "    <tr>\n",
       "      <th>total_income_category</th>\n",
       "      <th></th>\n",
       "      <th></th>\n",
       "      <th></th>\n",
       "      <th></th>\n",
       "    </tr>\n",
       "  </thead>\n",
       "  <tbody>\n",
       "    <tr>\n",
       "      <th>A</th>\n",
       "      <td>25</td>\n",
       "      <td>23</td>\n",
       "      <td>2</td>\n",
       "      <td>8.0%</td>\n",
       "    </tr>\n",
       "    <tr>\n",
       "      <th>B</th>\n",
       "      <td>5013</td>\n",
       "      <td>4659</td>\n",
       "      <td>354</td>\n",
       "      <td>7.06%</td>\n",
       "    </tr>\n",
       "    <tr>\n",
       "      <th>C</th>\n",
       "      <td>15921</td>\n",
       "      <td>14568</td>\n",
       "      <td>1353</td>\n",
       "      <td>8.5%</td>\n",
       "    </tr>\n",
       "    <tr>\n",
       "      <th>D</th>\n",
       "      <td>349</td>\n",
       "      <td>328</td>\n",
       "      <td>21</td>\n",
       "      <td>6.02%</td>\n",
       "    </tr>\n",
       "    <tr>\n",
       "      <th>E</th>\n",
       "      <td>22</td>\n",
       "      <td>20</td>\n",
       "      <td>2</td>\n",
       "      <td>9.09%</td>\n",
       "    </tr>\n",
       "  </tbody>\n",
       "</table>\n",
       "</div>"
      ],
      "text/plain": [
       "                       count debt_free_qnt   sum percentage\n",
       "                        debt          debt  debt       debt\n",
       "total_income_category                                      \n",
       "A                         25            23     2       8.0%\n",
       "B                       5013          4659   354      7.06%\n",
       "C                      15921         14568  1353       8.5%\n",
       "D                        349           328    21      6.02%\n",
       "E                         22            20     2      9.09%"
      ]
     },
     "execution_count": 71,
     "metadata": {},
     "output_type": "execute_result"
    }
   ],
   "source": [
    "# в качестве 'index' передадим столбец 'total_income_category' - по нему будет идти группировка данных\n",
    "# в качестве 'values' передаем столбец 'debt' - по нему будут идти подсчеты данных\n",
    "# в 'aggfunc' передаем функции:\n",
    "    # 'count' - для подсчета общего кол-ва взятых кредитов\n",
    "    # собственную функцию debt_free_qnt для вывода количества кредитов, выплаченных в срок\n",
    "    # 'sum' - для подсчета кредитов с просрочкой\n",
    "    # собственную функцию percentage, для вывода доли возврата кредита с задержкой\n",
    "    \n",
    "data_pivot_by_total_income = pd.pivot_table(data, index='total_income_category', values=['debt'], aggfunc=['count', debt_free_qnt, 'sum', percentage])\n",
    "data_pivot_by_total_income"
   ]
  },
  {
   "cell_type": "markdown",
   "id": "3e7d2d66",
   "metadata": {},
   "source": [
    "Получив таблицу, сможем сделать следующие выводы. Категории А, D и Е придется исключить из анализа, в связи с недостаточным количеством клиентов. Отсутствие достаточного количества клиентов в этих категориях можно понять - или слишком маленький доход, или слишком большой. У кого слишком низкий доход кредит обычно не берут, т.к. отдавать будет нечем. У кого доход более миллиона рублей скорее всего кредит возьмут как юридическое лицо, а в данный список вероятнее всего входят физические лица. Для анализа остались две группы - В (с доходом от 200001 до 1000000) и С (с доходом от 50001 до 200000). Категория В возвращала кредиты вовремя чаще, чем категория С. Это напрямую связано от уровня дохода - в этой группе доход выше. Соответственно категория С возвращала кредиты вовремя реже.  \n",
    "\n",
    "**Вывод:**\n",
    "\n",
    "В данном исследовании смогли проанализировать только две категории людей - В (с доходом от 200001 до 1000000) и С (с доходом от 50001 до 200000). Остальные категории пришлось из анализа исключить в связи с недостаточным количеством кредитов по ним. В ходе анализа обнаружили прямую зависимость возврата кредита в срок от уровня дохода - клиенты с бОльшим уровнем дохода реже допускают просрочки по кредитам. "
   ]
  },
  {
   "cell_type": "markdown",
   "id": "ea2d7aec",
   "metadata": {},
   "source": [
    "### Как разные цели кредита влияют на его возврат в срок?"
   ]
  },
  {
   "cell_type": "code",
   "execution_count": 72,
   "id": "5d2bb621",
   "metadata": {},
   "outputs": [
    {
     "data": {
      "text/plain": [
       "purpose_category          debt\n",
       "операции с автомобилем    0       3879\n",
       "                          1        400\n",
       "операции с недвижимостью  0       9970\n",
       "                          1        780\n",
       "получение образования     0       3619\n",
       "                          1        369\n",
       "проведение свадьбы        0       2130\n",
       "                          1        183\n",
       "Name: debt, dtype: int64"
      ]
     },
     "execution_count": 72,
     "metadata": {},
     "output_type": "execute_result"
    }
   ],
   "source": [
    "# подсчитаем количество возвратов и невозвратов кредита в срок в зависимости от цели кредита\n",
    "# сгруппируем данные по столбцу purpose_category и подсчитаем количество возвратов и невозвратов кредита в срок \n",
    "# по столбцу debt, применив метод value_counts()\n",
    "\n",
    "data.groupby('purpose_category')['debt'].value_counts()"
   ]
  },
  {
   "cell_type": "markdown",
   "id": "6d342799",
   "metadata": {},
   "source": [
    "Везде были задержки при возврате кредита в срок. Визуализируем данные:"
   ]
  },
  {
   "cell_type": "code",
   "execution_count": 75,
   "id": "5365e3bb",
   "metadata": {},
   "outputs": [
    {
     "data": {
      "image/png": "[encoded data removed]",
      "text/plain": [
       "<Figure size 432x288 with 1 Axes>"
      ]
     },
     "metadata": {
      "needs_background": "light"
     },
     "output_type": "display_data"
    }
   ],
   "source": [
    "# построим график зависимости где по оси Х будут значения наличия задолженности,\n",
    "# а по оси Y будут перечислены цели кредита\n",
    "\n",
    "sns.barplot(x=data['debt'], y=data['purpose_category']);"
   ]
  },
  {
   "cell_type": "markdown",
   "id": "e840f811",
   "metadata": {},
   "source": [
    "Из графика видно, что меньше всего задолженностей при возврате было при кредитах, взятых для операций с недвижимостью и для проведения свадеб. Больше всего задержек при возврате было при кредитах под операции с автомобилем и при кредитах, взятых для получения образования.\n",
    "\n",
    "Для более точного понимания воспользуемся ранее созданной функцией debt и выведем результаты в процентах. Сперва создадим дополнительный список с целями кредита, он нам потребуется для вывода данных."
   ]
  },
  {
   "cell_type": "code",
   "execution_count": 76,
   "id": "9cca1488",
   "metadata": {},
   "outputs": [
    {
     "data": {
      "text/plain": [
       "array(['операции с недвижимостью', 'операции с автомобилем',\n",
       "       'получение образования', 'проведение свадьбы'], dtype=object)"
      ]
     },
     "execution_count": 76,
     "metadata": {},
     "output_type": "execute_result"
    }
   ],
   "source": [
    "# список с целями кредита для удобства выдачи информации:\n",
    "\n",
    "purpose_debt = data.purpose_category.unique()\n",
    "purpose_debt"
   ]
  },
  {
   "cell_type": "code",
   "execution_count": 78,
   "id": "4a1b459a",
   "metadata": {},
   "outputs": [
    {
     "name": "stdout",
     "output_type": "stream",
     "text": [
      "Если кредит был взят на 'операции с недвижимостью',         то процент возврата кредита в срок: 92.18%\n",
      "Если кредит был взят на 'операции с автомобилем',         то процент возврата кредита в срок: 89.69%\n",
      "Если кредит был взят на 'получение образования',         то процент возврата кредита в срок: 89.80%\n",
      "Если кредит был взят на 'проведение свадьбы',         то процент возврата кредита в срок: 91.41%\n"
     ]
    }
   ],
   "source": [
    "# воспользуемся ранее созданной функцией debt\n",
    "# в качестве первого параметра в функцию debt передадим столбец purpose_category\n",
    "# в качестве второго параметра - цели кредита\n",
    "\n",
    "for i in range(len(purpose_debt)):\n",
    "    print(f\"Если кредит был взят на '{purpose_debt[i]}', \\\n",
    "        то процент возврата кредита в срок: {debt('purpose_category', purpose_debt[i])}\")\n",
    "    \n",
    "    "
   ]
  },
  {
   "cell_type": "markdown",
   "id": "aae1a794",
   "metadata": {},
   "source": [
    "Создадим сводную таблицу, в которой сгруппируем данные по цели кредита и выведем общее количество кредитов, количество просрочек и долю просрочек. Решение будет аналогичным предыдущему расчету."
   ]
  },
  {
   "cell_type": "code",
   "execution_count": 79,
   "id": "3151a934",
   "metadata": {},
   "outputs": [
    {
     "data": {
      "text/html": [
       "<div>\n",
       "<style scoped>\n",
       "    .dataframe tbody tr th:only-of-type {\n",
       "        vertical-align: middle;\n",
       "    }\n",
       "\n",
       "    .dataframe tbody tr th {\n",
       "        vertical-align: top;\n",
       "    }\n",
       "\n",
       "    .dataframe thead tr th {\n",
       "        text-align: left;\n",
       "    }\n",
       "\n",
       "    .dataframe thead tr:last-of-type th {\n",
       "        text-align: right;\n",
       "    }\n",
       "</style>\n",
       "<table border=\"1\" class=\"dataframe\">\n",
       "  <thead>\n",
       "    <tr>\n",
       "      <th></th>\n",
       "      <th>count</th>\n",
       "      <th>debt_free_qnt</th>\n",
       "      <th>sum</th>\n",
       "      <th>percentage</th>\n",
       "    </tr>\n",
       "    <tr>\n",
       "      <th></th>\n",
       "      <th>debt</th>\n",
       "      <th>debt</th>\n",
       "      <th>debt</th>\n",
       "      <th>debt</th>\n",
       "    </tr>\n",
       "    <tr>\n",
       "      <th>purpose_category</th>\n",
       "      <th></th>\n",
       "      <th></th>\n",
       "      <th></th>\n",
       "      <th></th>\n",
       "    </tr>\n",
       "  </thead>\n",
       "  <tbody>\n",
       "    <tr>\n",
       "      <th>операции с автомобилем</th>\n",
       "      <td>4279</td>\n",
       "      <td>3879</td>\n",
       "      <td>400</td>\n",
       "      <td>9.35%</td>\n",
       "    </tr>\n",
       "    <tr>\n",
       "      <th>операции с недвижимостью</th>\n",
       "      <td>10750</td>\n",
       "      <td>9970</td>\n",
       "      <td>780</td>\n",
       "      <td>7.26%</td>\n",
       "    </tr>\n",
       "    <tr>\n",
       "      <th>получение образования</th>\n",
       "      <td>3988</td>\n",
       "      <td>3619</td>\n",
       "      <td>369</td>\n",
       "      <td>9.25%</td>\n",
       "    </tr>\n",
       "    <tr>\n",
       "      <th>проведение свадьбы</th>\n",
       "      <td>2313</td>\n",
       "      <td>2130</td>\n",
       "      <td>183</td>\n",
       "      <td>7.91%</td>\n",
       "    </tr>\n",
       "  </tbody>\n",
       "</table>\n",
       "</div>"
      ],
      "text/plain": [
       "                          count debt_free_qnt  sum percentage\n",
       "                           debt          debt debt       debt\n",
       "purpose_category                                             \n",
       "операции с автомобилем     4279          3879  400      9.35%\n",
       "операции с недвижимостью  10750          9970  780      7.26%\n",
       "получение образования      3988          3619  369      9.25%\n",
       "проведение свадьбы         2313          2130  183      7.91%"
      ]
     },
     "execution_count": 79,
     "metadata": {},
     "output_type": "execute_result"
    }
   ],
   "source": [
    "# в качестве 'index' передадим столбец 'purpose_category' - по нему будет идти группировка данных\n",
    "# в качестве 'values' передаем столбец 'debt' - по нему будут идти подсчеты данных\n",
    "# в 'aggfunc' передаем функции:\n",
    "    # 'count' - для подсчета общего кол-ва взятых кредитов\n",
    "    # собственную функцию debt_free_qnt для вывода количества кредитов, выплаченных в срок\n",
    "    # 'sum' - для подсчета кредитов с просрочкой\n",
    "    # собственную функцию percentage, для вывода доли возврата кредита с задержкой\n",
    "    \n",
    "data_pivot_by_purpose = pd.pivot_table(data, index='purpose_category', values=['debt'], aggfunc=['count', debt_free_qnt, 'sum', percentage])\n",
    "data_pivot_by_purpose"
   ]
  },
  {
   "cell_type": "markdown",
   "id": "26da3354",
   "metadata": {},
   "source": [
    "В данной таблице видно, что для анализа хватает данных по всем категориям. Далее распишем возврат кредита по категориям, начиная от наименьшего количества просрочек и заканчивая самыми большими просрочками по платежам. Меньше всего задержек по выплатам связаны с операциями с недвижимостью. Это весьма логично, т.к. суммы кредита большие, соответственно и штрафы за просрочки большие, поэтому все стораются платить вовремя. На проведение свадьбы доля просрочек немного больше. И больше всего просрочек по кредитам, взятым на получение образования и операции с автомобилем.\n",
    "\n",
    "**Вывод:** \n",
    "\n",
    "Цель кредита влияет на его возврат в срок. Самые дорогие кредиты - это операции с недвижимостью - чаще возвращают вовремя. "
   ]
  },
  {
   "cell_type": "markdown",
   "id": "a78e7cb0",
   "metadata": {},
   "source": [
    "### Возможные причины появления пропусков в исходных данных"
   ]
  },
  {
   "cell_type": "markdown",
   "id": "2f757417",
   "metadata": {},
   "source": [
    "Пропуски в исходных данных могут быть вызваны несколькими причинами. Например, человеческий фактор - человек, заполняющий данные, мог отвлечься и случайно не заполнить тот или иной столбец. Также пропуски могут быть вызваны техническими сбоями или ошибками, например, при обновлении базы данных или неправильной выгрузке данных. В анализируемых данных было много пропусков в столбцах days_employed (общий трудовой стаж в днях) и в столбце total_income (ежемесячный доход). Причем количество пропусков в данных столбцах одинаковое - 2174. Это неслучайные пропуски. Возможно кто-то из этих людей работает в этом банке и как-то по особому идут расчеты. Возможно даже умышленно данные скрыты или не предоставлены клиентами. Также это может касаться пенсионеров. "
   ]
  },
  {
   "cell_type": "markdown",
   "id": "b1e64a26",
   "metadata": {},
   "source": [
    "### Почему заполнить пропуски медианным значением — лучшее решение для количественных переменных"
   ]
  },
  {
   "cell_type": "markdown",
   "id": "a31e6899",
   "metadata": {},
   "source": [
    "В нашем анализе отсутствовали данные с ежемесячным доходом. Это количественные переменные. Заполнить такие пропуски можно было средним арифметическим значением или медианным. Средним арифметическим значением в нашем случае заполнять было бы не верно, т.к. на ежемесячный доход влияет тип занятости человека. Поэтому заполнять нужно медианным доходом среди всех записей с таким же типом занятости.\n",
    "\n",
    "Также медиана не исказит статистики выборки в случае наличия выбросов, т.к. она к ним менее чувствительна.\n"
   ]
  },
  {
   "cell_type": "markdown",
   "id": "d03be84c",
   "metadata": {},
   "source": [
    "## Общий вывод"
   ]
  },
  {
   "cell_type": "markdown",
   "id": "b55629da",
   "metadata": {},
   "source": [
    "[Назад к содержанию](#Содержание)"
   ]
  },
  {
   "cell_type": "markdown",
   "id": "cf21c9b7",
   "metadata": {},
   "source": [
    "В настоящей работе провели анализ полученных данных от кредитного банка. Анализировали зависимость возврата кредита в срок от нескольких факторов: количества детей, семейного статуса, уровня дохода и цели кредита. Для наглядного представления зависимости построили графики по всем параметрам. Для количественного понимания вывели сводные таблицы с общим количеством взятых кредитов, с количеством кредитов, выплаченных вовремя и с просрочкой, а также долю просрочки в процентах, сгруппированные по требуемым категориям. \n",
    "\n",
    "**Выводы следующие:** \n",
    "\n",
    "   1) Зависимость между количеством детей и возвратом кредита в срок существует. Бездетные выплачивает кредит в срок чаще, чем те у кого один или два ребенка. У кого трое, четверо и пятеро детей из анализа пришлось исключить из-за недостаточного количества взятых кредитов.\n",
    "   \n",
    "   2) Зависимость между семейным положением и возвратом кредита в срок существует. Чаще всего в срок возвращают женатые/замужние. Категории \"гражданский брак\" и \"Не женат / не замужем\" выплачивают вовремя реже. Для данных групп доля выплат с задержкой практически одинаковая. Исключили из анализа группы овдовевших и разведеных людей из-за недостаточного количества взятых кредитов.\n",
    "   \n",
    "   3) Зависимость возврата кредита в срок от уровня дохода существует - чем доход выше, тем количество возвратов кредита в срок больше. Без анализа сходу не смогли ответить на этот вопрос, т.к. в исходных данных были пропуски, которые мы заполнили медианным способом.\n",
    "   \n",
    "   4) Цель кредита также влияет на его возврат в срок. Кредиты, взятые на операции с недвижимостью возвращают в срок чаще остальных."
   ]
  }
 ],
 "metadata": {
  "ExecuteTimeLog": [
   {
    "duration": 781,
    "start_time": "2023-10-11T20:55:57.822Z"
   },
   {
    "duration": 10,
    "start_time": "2023-10-11T20:58:40.794Z"
   },
   {
    "duration": 22,
    "start_time": "2023-10-11T20:59:12.166Z"
   },
   {
    "duration": 17,
    "start_time": "2023-10-11T20:59:37.986Z"
   },
   {
    "duration": 21,
    "start_time": "2023-10-11T21:02:37.589Z"
   },
   {
    "duration": 11,
    "start_time": "2023-10-11T21:02:42.754Z"
   },
   {
    "duration": 53,
    "start_time": "2023-10-11T21:16:35.852Z"
   },
   {
    "duration": 18,
    "start_time": "2023-10-11T21:17:19.270Z"
   },
   {
    "duration": 13,
    "start_time": "2023-10-11T21:17:39.455Z"
   },
   {
    "duration": 500,
    "start_time": "2023-10-11T21:18:03.689Z"
   },
   {
    "duration": 23,
    "start_time": "2023-10-11T21:18:04.191Z"
   },
   {
    "duration": 54,
    "start_time": "2023-10-11T21:18:04.216Z"
   },
   {
    "duration": 20,
    "start_time": "2023-10-11T21:18:08.026Z"
   },
   {
    "duration": 36,
    "start_time": "2023-10-11T21:18:14.072Z"
   },
   {
    "duration": 19,
    "start_time": "2023-10-11T21:18:14.726Z"
   },
   {
    "duration": 10,
    "start_time": "2023-10-11T21:19:35.021Z"
   },
   {
    "duration": 46,
    "start_time": "2023-10-12T19:50:54.273Z"
   },
   {
    "duration": 5,
    "start_time": "2023-10-12T19:51:01.651Z"
   },
   {
    "duration": 1082,
    "start_time": "2023-10-12T19:51:14.179Z"
   },
   {
    "duration": 20,
    "start_time": "2023-10-12T19:51:15.263Z"
   },
   {
    "duration": 31,
    "start_time": "2023-10-12T19:51:15.285Z"
   },
   {
    "duration": 29,
    "start_time": "2023-10-12T19:51:15.318Z"
   },
   {
    "duration": 59,
    "start_time": "2023-10-12T19:51:15.348Z"
   },
   {
    "duration": 14,
    "start_time": "2023-10-12T19:51:15.409Z"
   },
   {
    "duration": 28,
    "start_time": "2023-10-12T19:51:18.862Z"
   },
   {
    "duration": 1017,
    "start_time": "2023-10-12T19:51:43.970Z"
   },
   {
    "duration": 11987,
    "start_time": "2023-10-12T19:51:48.943Z"
   },
   {
    "duration": 1020,
    "start_time": "2023-10-12T19:53:20.306Z"
   },
   {
    "duration": 1157,
    "start_time": "2023-10-12T19:53:37.035Z"
   },
   {
    "duration": 35,
    "start_time": "2023-10-12T19:54:32.235Z"
   },
   {
    "duration": 88,
    "start_time": "2023-10-12T19:56:52.475Z"
   },
   {
    "duration": 32,
    "start_time": "2023-10-12T19:57:22.515Z"
   },
   {
    "duration": 25,
    "start_time": "2023-10-12T20:05:38.271Z"
   },
   {
    "duration": 55,
    "start_time": "2023-10-12T20:07:10.834Z"
   },
   {
    "duration": 10,
    "start_time": "2023-10-12T20:07:16.826Z"
   },
   {
    "duration": 8,
    "start_time": "2023-10-12T20:10:27.798Z"
   },
   {
    "duration": 15,
    "start_time": "2023-10-12T20:10:59.062Z"
   },
   {
    "duration": 6,
    "start_time": "2023-10-12T20:11:27.534Z"
   },
   {
    "duration": 73,
    "start_time": "2023-10-12T20:13:20.357Z"
   },
   {
    "duration": 80,
    "start_time": "2023-10-12T20:13:29.201Z"
   },
   {
    "duration": 4,
    "start_time": "2023-10-12T20:13:46.898Z"
   },
   {
    "duration": 8,
    "start_time": "2023-10-12T20:14:22.345Z"
   },
   {
    "duration": 30,
    "start_time": "2023-10-12T20:14:38.025Z"
   },
   {
    "duration": 15,
    "start_time": "2023-10-12T20:14:53.150Z"
   },
   {
    "duration": 14,
    "start_time": "2023-10-12T20:15:06.901Z"
   },
   {
    "duration": 6,
    "start_time": "2023-10-12T20:15:48.823Z"
   },
   {
    "duration": 10,
    "start_time": "2023-10-12T20:16:07.845Z"
   },
   {
    "duration": 22,
    "start_time": "2023-10-12T20:17:07.780Z"
   },
   {
    "duration": 6,
    "start_time": "2023-10-12T20:17:32.417Z"
   },
   {
    "duration": 6,
    "start_time": "2023-10-12T20:18:39.657Z"
   },
   {
    "duration": 10,
    "start_time": "2023-10-12T20:19:36.326Z"
   },
   {
    "duration": 8,
    "start_time": "2023-10-12T20:21:22.433Z"
   },
   {
    "duration": 7,
    "start_time": "2023-10-12T20:21:34.416Z"
   },
   {
    "duration": 23,
    "start_time": "2023-10-12T20:24:47.133Z"
   },
   {
    "duration": 21,
    "start_time": "2023-10-12T20:25:44.181Z"
   },
   {
    "duration": 9,
    "start_time": "2023-10-12T20:26:37.752Z"
   },
   {
    "duration": 128,
    "start_time": "2023-10-12T20:27:04.548Z"
   },
   {
    "duration": 8,
    "start_time": "2023-10-12T20:27:40.343Z"
   },
   {
    "duration": 6,
    "start_time": "2023-10-12T20:27:49.184Z"
   },
   {
    "duration": 4,
    "start_time": "2023-10-12T20:30:46.408Z"
   },
   {
    "duration": 3,
    "start_time": "2023-10-12T20:32:25.577Z"
   },
   {
    "duration": 9,
    "start_time": "2023-10-12T20:32:45.908Z"
   },
   {
    "duration": 4,
    "start_time": "2023-10-12T20:33:33.112Z"
   },
   {
    "duration": 8,
    "start_time": "2023-10-12T20:33:33.687Z"
   },
   {
    "duration": 653,
    "start_time": "2023-10-12T20:35:20.391Z"
   },
   {
    "duration": 47,
    "start_time": "2023-10-12T20:35:37.133Z"
   },
   {
    "duration": 10280,
    "start_time": "2023-10-12T20:36:11.351Z"
   },
   {
    "duration": 8,
    "start_time": "2023-10-12T20:38:14.203Z"
   },
   {
    "duration": 53,
    "start_time": "2023-10-13T10:23:51.696Z"
   },
   {
    "duration": 786,
    "start_time": "2023-10-13T10:23:58.251Z"
   },
   {
    "duration": 25,
    "start_time": "2023-10-13T10:23:59.039Z"
   },
   {
    "duration": 23,
    "start_time": "2023-10-13T10:23:59.066Z"
   },
   {
    "duration": 13,
    "start_time": "2023-10-13T10:23:59.092Z"
   },
   {
    "duration": 61,
    "start_time": "2023-10-13T10:23:59.107Z"
   },
   {
    "duration": 11,
    "start_time": "2023-10-13T10:23:59.170Z"
   },
   {
    "duration": 39,
    "start_time": "2023-10-13T10:23:59.183Z"
   },
   {
    "duration": 39,
    "start_time": "2023-10-13T10:23:59.224Z"
   },
   {
    "duration": 9,
    "start_time": "2023-10-13T10:23:59.265Z"
   },
   {
    "duration": 17,
    "start_time": "2023-10-13T10:23:59.276Z"
   },
   {
    "duration": 23,
    "start_time": "2023-10-13T10:23:59.295Z"
   },
   {
    "duration": 27,
    "start_time": "2023-10-13T10:23:59.320Z"
   },
   {
    "duration": 8,
    "start_time": "2023-10-13T10:23:59.349Z"
   },
   {
    "duration": 26,
    "start_time": "2023-10-13T10:23:59.358Z"
   },
   {
    "duration": 28,
    "start_time": "2023-10-13T10:23:59.385Z"
   },
   {
    "duration": 35,
    "start_time": "2023-10-13T10:23:59.415Z"
   },
   {
    "duration": 8,
    "start_time": "2023-10-13T10:23:59.452Z"
   },
   {
    "duration": 7,
    "start_time": "2023-10-13T10:23:59.461Z"
   },
   {
    "duration": 10,
    "start_time": "2023-10-13T10:23:59.470Z"
   },
   {
    "duration": 33,
    "start_time": "2023-10-13T10:25:17.881Z"
   },
   {
    "duration": 13,
    "start_time": "2023-10-13T10:25:52.112Z"
   },
   {
    "duration": 13,
    "start_time": "2023-10-13T10:28:26.307Z"
   },
   {
    "duration": 5,
    "start_time": "2023-10-13T10:36:43.094Z"
   },
   {
    "duration": 461,
    "start_time": "2023-10-13T10:45:16.992Z"
   },
   {
    "duration": 22,
    "start_time": "2023-10-13T10:45:17.455Z"
   },
   {
    "duration": 24,
    "start_time": "2023-10-13T10:45:17.479Z"
   },
   {
    "duration": 11,
    "start_time": "2023-10-13T10:45:17.506Z"
   },
   {
    "duration": 55,
    "start_time": "2023-10-13T10:45:17.519Z"
   },
   {
    "duration": 12,
    "start_time": "2023-10-13T10:45:23.813Z"
   },
   {
    "duration": 87,
    "start_time": "2023-10-13T10:52:26.513Z"
   },
   {
    "duration": 8,
    "start_time": "2023-10-13T10:52:33.615Z"
   },
   {
    "duration": 6,
    "start_time": "2023-10-13T10:57:46.062Z"
   },
   {
    "duration": 20,
    "start_time": "2023-10-13T10:58:00.104Z"
   },
   {
    "duration": 91795,
    "start_time": "2023-10-13T11:01:12.601Z"
   },
   {
    "duration": 15,
    "start_time": "2023-10-13T11:02:50.902Z"
   },
   {
    "duration": 11,
    "start_time": "2023-10-13T11:03:06.100Z"
   },
   {
    "duration": 28,
    "start_time": "2023-10-13T11:04:02.942Z"
   },
   {
    "duration": 9,
    "start_time": "2023-10-13T11:04:05.719Z"
   },
   {
    "duration": 13,
    "start_time": "2023-10-13T11:04:07.413Z"
   },
   {
    "duration": 30,
    "start_time": "2023-10-13T11:04:09.484Z"
   },
   {
    "duration": 8,
    "start_time": "2023-10-13T11:04:14.197Z"
   },
   {
    "duration": 9,
    "start_time": "2023-10-13T11:04:17.065Z"
   },
   {
    "duration": 9,
    "start_time": "2023-10-13T11:04:17.442Z"
   },
   {
    "duration": 5,
    "start_time": "2023-10-13T11:04:19.394Z"
   },
   {
    "duration": 8,
    "start_time": "2023-10-13T11:04:52.754Z"
   },
   {
    "duration": 4,
    "start_time": "2023-10-13T11:05:37.418Z"
   },
   {
    "duration": 8,
    "start_time": "2023-10-13T11:05:37.799Z"
   },
   {
    "duration": 13,
    "start_time": "2023-10-13T11:05:39.401Z"
   },
   {
    "duration": 728,
    "start_time": "2023-10-13T11:08:09.675Z"
   },
   {
    "duration": 27,
    "start_time": "2023-10-13T11:13:33.734Z"
   },
   {
    "duration": 19,
    "start_time": "2023-10-13T11:15:30.280Z"
   },
   {
    "duration": 15,
    "start_time": "2023-10-13T11:16:50.349Z"
   },
   {
    "duration": 13,
    "start_time": "2023-10-13T11:18:26.735Z"
   },
   {
    "duration": 3,
    "start_time": "2023-10-13T11:21:14.901Z"
   },
   {
    "duration": 17,
    "start_time": "2023-10-13T11:21:29.864Z"
   },
   {
    "duration": 21,
    "start_time": "2023-10-13T11:21:51.660Z"
   },
   {
    "duration": 9,
    "start_time": "2023-10-13T11:22:03.367Z"
   },
   {
    "duration": 10,
    "start_time": "2023-10-13T11:22:15.843Z"
   },
   {
    "duration": 8,
    "start_time": "2023-10-13T11:22:19.555Z"
   },
   {
    "duration": 5,
    "start_time": "2023-10-13T11:22:40.822Z"
   },
   {
    "duration": 16,
    "start_time": "2023-10-13T11:22:51.842Z"
   },
   {
    "duration": 79,
    "start_time": "2023-10-13T19:50:51.298Z"
   },
   {
    "duration": 771,
    "start_time": "2023-10-13T19:50:59.250Z"
   },
   {
    "duration": 35,
    "start_time": "2023-10-13T19:51:00.035Z"
   },
   {
    "duration": 71,
    "start_time": "2023-10-13T19:51:00.073Z"
   },
   {
    "duration": 11,
    "start_time": "2023-10-13T19:51:00.149Z"
   },
   {
    "duration": 84,
    "start_time": "2023-10-13T19:51:00.162Z"
   },
   {
    "duration": 7,
    "start_time": "2023-10-13T19:51:00.249Z"
   },
   {
    "duration": 95121,
    "start_time": "2023-10-13T19:51:00.258Z"
   },
   {
    "duration": 11,
    "start_time": "2023-10-13T19:52:35.380Z"
   },
   {
    "duration": 52,
    "start_time": "2023-10-13T19:52:35.393Z"
   },
   {
    "duration": 81,
    "start_time": "2023-10-13T19:52:35.450Z"
   },
   {
    "duration": 8,
    "start_time": "2023-10-13T19:52:35.533Z"
   },
   {
    "duration": 16,
    "start_time": "2023-10-13T19:52:35.543Z"
   },
   {
    "duration": 51,
    "start_time": "2023-10-13T19:52:35.561Z"
   },
   {
    "duration": 14,
    "start_time": "2023-10-13T19:52:35.622Z"
   },
   {
    "duration": 12,
    "start_time": "2023-10-13T19:52:35.639Z"
   },
   {
    "duration": 9,
    "start_time": "2023-10-13T19:52:35.652Z"
   },
   {
    "duration": 5,
    "start_time": "2023-10-13T19:52:35.663Z"
   },
   {
    "duration": 25,
    "start_time": "2023-10-13T19:52:35.669Z"
   },
   {
    "duration": 23,
    "start_time": "2023-10-13T19:52:35.696Z"
   },
   {
    "duration": 9,
    "start_time": "2023-10-13T19:52:35.721Z"
   },
   {
    "duration": 9,
    "start_time": "2023-10-13T19:52:35.733Z"
   },
   {
    "duration": 27,
    "start_time": "2023-10-13T19:52:35.744Z"
   },
   {
    "duration": 13,
    "start_time": "2023-10-13T19:52:35.773Z"
   },
   {
    "duration": 12,
    "start_time": "2023-10-13T19:52:35.810Z"
   },
   {
    "duration": 23,
    "start_time": "2023-10-13T19:52:35.827Z"
   },
   {
    "duration": 43,
    "start_time": "2023-10-13T19:52:35.852Z"
   },
   {
    "duration": 16,
    "start_time": "2023-10-13T19:53:23.434Z"
   },
   {
    "duration": 22,
    "start_time": "2023-10-13T19:53:32.090Z"
   },
   {
    "duration": 13,
    "start_time": "2023-10-13T19:53:44.308Z"
   },
   {
    "duration": 32,
    "start_time": "2023-10-13T19:55:13.721Z"
   },
   {
    "duration": 5,
    "start_time": "2023-10-13T20:06:40.644Z"
   },
   {
    "duration": 464,
    "start_time": "2023-10-13T20:07:03.373Z"
   },
   {
    "duration": 21,
    "start_time": "2023-10-13T20:07:03.839Z"
   },
   {
    "duration": 5,
    "start_time": "2023-10-13T20:07:08.352Z"
   },
   {
    "duration": 26,
    "start_time": "2023-10-13T20:09:07.804Z"
   },
   {
    "duration": 7,
    "start_time": "2023-10-13T20:09:29.672Z"
   },
   {
    "duration": 5,
    "start_time": "2023-10-13T20:11:14.952Z"
   },
   {
    "duration": 5,
    "start_time": "2023-10-13T20:12:37.023Z"
   },
   {
    "duration": 14,
    "start_time": "2023-10-13T20:14:18.248Z"
   },
   {
    "duration": 13,
    "start_time": "2023-10-13T20:19:02.818Z"
   },
   {
    "duration": 28,
    "start_time": "2023-10-13T20:22:15.734Z"
   },
   {
    "duration": 27,
    "start_time": "2023-10-13T20:22:46.002Z"
   },
   {
    "duration": 451,
    "start_time": "2023-10-13T20:23:12.426Z"
   },
   {
    "duration": 21,
    "start_time": "2023-10-13T20:23:12.879Z"
   },
   {
    "duration": 19,
    "start_time": "2023-10-13T20:23:12.901Z"
   },
   {
    "duration": 28,
    "start_time": "2023-10-13T20:23:12.922Z"
   },
   {
    "duration": 11,
    "start_time": "2023-10-13T20:23:12.951Z"
   },
   {
    "duration": 13,
    "start_time": "2023-10-13T20:23:12.963Z"
   },
   {
    "duration": 8,
    "start_time": "2023-10-13T20:23:12.977Z"
   },
   {
    "duration": 13,
    "start_time": "2023-10-13T20:23:12.986Z"
   },
   {
    "duration": 3,
    "start_time": "2023-10-13T20:23:28.026Z"
   },
   {
    "duration": 10,
    "start_time": "2023-10-13T20:23:54.010Z"
   },
   {
    "duration": 15,
    "start_time": "2023-10-13T20:24:16.702Z"
   },
   {
    "duration": 10,
    "start_time": "2023-10-13T20:24:41.986Z"
   },
   {
    "duration": 5,
    "start_time": "2023-10-13T20:26:18.026Z"
   },
   {
    "duration": 114,
    "start_time": "2023-10-13T20:27:14.817Z"
   },
   {
    "duration": 10,
    "start_time": "2023-10-13T20:27:31.006Z"
   },
   {
    "duration": 19,
    "start_time": "2023-10-13T20:29:05.977Z"
   },
   {
    "duration": 12,
    "start_time": "2023-10-13T20:29:11.818Z"
   },
   {
    "duration": 43,
    "start_time": "2023-10-13T20:29:16.573Z"
   },
   {
    "duration": 19,
    "start_time": "2023-10-13T20:29:19.001Z"
   },
   {
    "duration": 85913,
    "start_time": "2023-10-13T20:29:23.925Z"
   },
   {
    "duration": 9,
    "start_time": "2023-10-13T20:30:49.840Z"
   },
   {
    "duration": 37,
    "start_time": "2023-10-13T20:30:49.851Z"
   },
   {
    "duration": 34,
    "start_time": "2023-10-13T20:30:49.890Z"
   },
   {
    "duration": 7,
    "start_time": "2023-10-13T20:30:49.926Z"
   },
   {
    "duration": 7,
    "start_time": "2023-10-13T20:32:09.825Z"
   },
   {
    "duration": 23,
    "start_time": "2023-10-13T20:32:17.217Z"
   },
   {
    "duration": 7,
    "start_time": "2023-10-13T20:32:20.872Z"
   },
   {
    "duration": 11,
    "start_time": "2023-10-13T20:32:24.905Z"
   },
   {
    "duration": 7,
    "start_time": "2023-10-13T20:32:25.561Z"
   },
   {
    "duration": 4,
    "start_time": "2023-10-13T20:32:28.085Z"
   },
   {
    "duration": 21,
    "start_time": "2023-10-13T20:32:31.058Z"
   },
   {
    "duration": 8,
    "start_time": "2023-10-13T20:32:34.065Z"
   },
   {
    "duration": 3,
    "start_time": "2023-10-13T20:32:38.721Z"
   },
   {
    "duration": 6,
    "start_time": "2023-10-13T20:32:39.692Z"
   },
   {
    "duration": 14,
    "start_time": "2023-10-13T20:32:43.125Z"
   },
   {
    "duration": 16,
    "start_time": "2023-10-13T20:32:49.441Z"
   },
   {
    "duration": 5,
    "start_time": "2023-10-13T20:32:53.649Z"
   },
   {
    "duration": 15,
    "start_time": "2023-10-13T20:32:54.317Z"
   },
   {
    "duration": 17,
    "start_time": "2023-10-13T20:33:01.057Z"
   },
   {
    "duration": 32,
    "start_time": "2023-10-13T20:33:14.645Z"
   },
   {
    "duration": 35,
    "start_time": "2023-10-13T20:34:43.924Z"
   },
   {
    "duration": 19,
    "start_time": "2023-10-13T20:38:33.281Z"
   },
   {
    "duration": 515,
    "start_time": "2023-10-13T20:39:01.909Z"
   },
   {
    "duration": 23,
    "start_time": "2023-10-13T20:39:02.426Z"
   },
   {
    "duration": 30,
    "start_time": "2023-10-13T20:39:02.451Z"
   },
   {
    "duration": 47,
    "start_time": "2023-10-13T20:39:02.483Z"
   },
   {
    "duration": 32,
    "start_time": "2023-10-13T20:39:02.532Z"
   },
   {
    "duration": 17,
    "start_time": "2023-10-13T20:39:02.566Z"
   },
   {
    "duration": 12,
    "start_time": "2023-10-13T20:39:02.584Z"
   },
   {
    "duration": 21,
    "start_time": "2023-10-13T20:39:02.598Z"
   },
   {
    "duration": 24,
    "start_time": "2023-10-13T20:39:02.621Z"
   },
   {
    "duration": 39,
    "start_time": "2023-10-13T20:39:02.647Z"
   },
   {
    "duration": 32,
    "start_time": "2023-10-13T20:39:02.688Z"
   },
   {
    "duration": 18,
    "start_time": "2023-10-13T20:39:02.722Z"
   },
   {
    "duration": 23,
    "start_time": "2023-10-13T20:39:02.741Z"
   },
   {
    "duration": 57,
    "start_time": "2023-10-13T20:39:02.765Z"
   },
   {
    "duration": 7,
    "start_time": "2023-10-13T20:39:02.824Z"
   },
   {
    "duration": 85188,
    "start_time": "2023-10-13T20:39:02.833Z"
   },
   {
    "duration": 11,
    "start_time": "2023-10-13T20:40:28.023Z"
   },
   {
    "duration": 37,
    "start_time": "2023-10-13T20:40:28.036Z"
   },
   {
    "duration": 21,
    "start_time": "2023-10-13T20:40:28.075Z"
   },
   {
    "duration": 21,
    "start_time": "2023-10-13T20:40:28.097Z"
   },
   {
    "duration": 7,
    "start_time": "2023-10-13T20:40:28.119Z"
   },
   {
    "duration": 21,
    "start_time": "2023-10-13T20:40:28.127Z"
   },
   {
    "duration": 5,
    "start_time": "2023-10-13T20:40:28.149Z"
   },
   {
    "duration": 16,
    "start_time": "2023-10-13T20:40:28.156Z"
   },
   {
    "duration": 6,
    "start_time": "2023-10-13T20:40:28.174Z"
   },
   {
    "duration": 11,
    "start_time": "2023-10-13T20:40:28.181Z"
   },
   {
    "duration": 31,
    "start_time": "2023-10-13T20:40:28.194Z"
   },
   {
    "duration": 7,
    "start_time": "2023-10-13T20:40:28.228Z"
   },
   {
    "duration": 10,
    "start_time": "2023-10-13T20:40:28.237Z"
   },
   {
    "duration": 18,
    "start_time": "2023-10-13T20:40:28.248Z"
   },
   {
    "duration": 18,
    "start_time": "2023-10-13T20:40:28.268Z"
   },
   {
    "duration": 13,
    "start_time": "2023-10-13T20:40:28.287Z"
   },
   {
    "duration": 18,
    "start_time": "2023-10-13T20:40:28.301Z"
   },
   {
    "duration": 23,
    "start_time": "2023-10-13T20:40:28.321Z"
   },
   {
    "duration": 15,
    "start_time": "2023-10-13T20:40:28.346Z"
   },
   {
    "duration": 22,
    "start_time": "2023-10-13T20:40:28.363Z"
   },
   {
    "duration": 37,
    "start_time": "2023-10-13T20:40:28.387Z"
   },
   {
    "duration": 707,
    "start_time": "2023-10-15T16:53:58.933Z"
   },
   {
    "duration": 25,
    "start_time": "2023-10-15T16:53:59.642Z"
   },
   {
    "duration": 13,
    "start_time": "2023-10-15T16:53:59.669Z"
   },
   {
    "duration": 14,
    "start_time": "2023-10-15T16:53:59.684Z"
   },
   {
    "duration": 27,
    "start_time": "2023-10-15T16:53:59.700Z"
   },
   {
    "duration": 15,
    "start_time": "2023-10-15T16:53:59.729Z"
   },
   {
    "duration": 13,
    "start_time": "2023-10-15T16:53:59.746Z"
   },
   {
    "duration": 19,
    "start_time": "2023-10-15T16:53:59.761Z"
   },
   {
    "duration": 11,
    "start_time": "2023-10-15T16:53:59.782Z"
   },
   {
    "duration": 12,
    "start_time": "2023-10-15T16:53:59.795Z"
   },
   {
    "duration": 26,
    "start_time": "2023-10-15T16:53:59.809Z"
   },
   {
    "duration": 34,
    "start_time": "2023-10-15T16:53:59.837Z"
   },
   {
    "duration": 12,
    "start_time": "2023-10-15T16:53:59.873Z"
   },
   {
    "duration": 49,
    "start_time": "2023-10-15T16:53:59.886Z"
   },
   {
    "duration": 8,
    "start_time": "2023-10-15T16:53:59.937Z"
   },
   {
    "duration": 92059,
    "start_time": "2023-10-15T16:53:59.947Z"
   },
   {
    "duration": 16,
    "start_time": "2023-10-15T16:55:32.008Z"
   },
   {
    "duration": 62,
    "start_time": "2023-10-15T16:55:32.026Z"
   },
   {
    "duration": 24,
    "start_time": "2023-10-15T16:55:32.090Z"
   },
   {
    "duration": 9,
    "start_time": "2023-10-15T16:55:32.116Z"
   },
   {
    "duration": 29,
    "start_time": "2023-10-15T16:55:32.127Z"
   },
   {
    "duration": 40,
    "start_time": "2023-10-15T16:55:32.158Z"
   },
   {
    "duration": 25,
    "start_time": "2023-10-15T16:55:32.200Z"
   },
   {
    "duration": 35,
    "start_time": "2023-10-15T16:55:32.226Z"
   },
   {
    "duration": 46,
    "start_time": "2023-10-15T16:55:32.263Z"
   },
   {
    "duration": 24,
    "start_time": "2023-10-15T16:55:32.311Z"
   },
   {
    "duration": 47,
    "start_time": "2023-10-15T16:55:32.337Z"
   },
   {
    "duration": 12,
    "start_time": "2023-10-15T16:55:32.387Z"
   },
   {
    "duration": 205,
    "start_time": "2023-10-15T16:55:32.401Z"
   },
   {
    "duration": 42,
    "start_time": "2023-10-15T16:55:32.607Z"
   },
   {
    "duration": 38,
    "start_time": "2023-10-15T16:55:32.651Z"
   },
   {
    "duration": 51,
    "start_time": "2023-10-15T16:55:32.691Z"
   },
   {
    "duration": 38,
    "start_time": "2023-10-15T16:55:32.743Z"
   },
   {
    "duration": 52,
    "start_time": "2023-10-15T16:55:32.783Z"
   },
   {
    "duration": 58,
    "start_time": "2023-10-15T16:55:32.837Z"
   },
   {
    "duration": 58,
    "start_time": "2023-10-15T16:55:32.898Z"
   },
   {
    "duration": 55,
    "start_time": "2023-10-15T16:55:32.959Z"
   },
   {
    "duration": 4,
    "start_time": "2023-10-15T16:56:47.289Z"
   },
   {
    "duration": 4,
    "start_time": "2023-10-15T16:59:50.581Z"
   },
   {
    "duration": 11,
    "start_time": "2023-10-15T17:00:08.101Z"
   },
   {
    "duration": 14,
    "start_time": "2023-10-15T17:00:25.017Z"
   },
   {
    "duration": 6,
    "start_time": "2023-10-15T17:05:34.107Z"
   },
   {
    "duration": 4,
    "start_time": "2023-10-15T17:12:49.224Z"
   },
   {
    "duration": 10,
    "start_time": "2023-10-15T17:13:46.190Z"
   },
   {
    "duration": 13,
    "start_time": "2023-10-15T17:13:58.882Z"
   },
   {
    "duration": 8,
    "start_time": "2023-10-15T17:29:04.448Z"
   },
   {
    "duration": 1098,
    "start_time": "2023-10-15T17:31:37.384Z"
   },
   {
    "duration": 414,
    "start_time": "2023-10-15T17:33:01.920Z"
   },
   {
    "duration": 376,
    "start_time": "2023-10-15T17:33:05.779Z"
   },
   {
    "duration": 5,
    "start_time": "2023-10-15T17:40:53.859Z"
   },
   {
    "duration": 29,
    "start_time": "2023-10-15T17:42:04.219Z"
   },
   {
    "duration": 3,
    "start_time": "2023-10-15T17:44:41.683Z"
   },
   {
    "duration": 2,
    "start_time": "2023-10-15T17:44:59.667Z"
   },
   {
    "duration": 42,
    "start_time": "2023-10-15T17:47:34.722Z"
   },
   {
    "duration": 98,
    "start_time": "2023-10-15T17:50:24.593Z"
   },
   {
    "duration": 9,
    "start_time": "2023-10-15T18:09:47.717Z"
   },
   {
    "duration": 99,
    "start_time": "2023-10-15T18:11:28.765Z"
   },
   {
    "duration": 345,
    "start_time": "2023-10-15T18:11:39.852Z"
   },
   {
    "duration": 4,
    "start_time": "2023-10-15T18:13:59.577Z"
   },
   {
    "duration": 29,
    "start_time": "2023-10-15T18:14:14.969Z"
   },
   {
    "duration": 42,
    "start_time": "2023-10-15T18:15:23.845Z"
   },
   {
    "duration": 43,
    "start_time": "2023-10-15T18:15:44.469Z"
   },
   {
    "duration": 41,
    "start_time": "2023-10-15T18:16:31.177Z"
   },
   {
    "duration": 7,
    "start_time": "2023-10-15T18:20:03.761Z"
   },
   {
    "duration": 9,
    "start_time": "2023-10-15T18:20:11.285Z"
   },
   {
    "duration": 9,
    "start_time": "2023-10-15T18:20:48.756Z"
   },
   {
    "duration": 334,
    "start_time": "2023-10-15T18:20:54.969Z"
   },
   {
    "duration": 364,
    "start_time": "2023-10-15T18:20:58.464Z"
   },
   {
    "duration": 6,
    "start_time": "2023-10-15T18:21:41.365Z"
   },
   {
    "duration": 30,
    "start_time": "2023-10-15T18:22:20.676Z"
   },
   {
    "duration": 41,
    "start_time": "2023-10-15T18:23:46.957Z"
   },
   {
    "duration": 11,
    "start_time": "2023-10-15T18:26:21.472Z"
   },
   {
    "duration": 9,
    "start_time": "2023-10-15T18:26:50.733Z"
   },
   {
    "duration": 332,
    "start_time": "2023-10-15T18:26:56.296Z"
   },
   {
    "duration": 318,
    "start_time": "2023-10-15T18:27:00.844Z"
   },
   {
    "duration": 6,
    "start_time": "2023-10-15T18:28:02.385Z"
   },
   {
    "duration": 29,
    "start_time": "2023-10-15T18:28:26.957Z"
   },
   {
    "duration": 29,
    "start_time": "2023-10-15T18:28:38.795Z"
   },
   {
    "duration": 50,
    "start_time": "2023-10-15T18:29:16.547Z"
   }
  ],
  "kernelspec": {
   "display_name": "Python 3 (ipykernel)",
   "language": "python",
   "name": "python3"
  },
  "language_info": {
   "codemirror_mode": {
    "name": "ipython",
    "version": 3
   },
   "file_extension": ".py",
   "mimetype": "text/x-python",
   "name": "python",
   "nbconvert_exporter": "python",
   "pygments_lexer": "ipython3",
   "version": "3.9.5"
  },
  "toc": {
   "base_numbering": 1,
   "nav_menu": {},
   "number_sections": true,
   "sideBar": true,
   "skip_h1_title": true,
   "title_cell": "Table of Contents",
   "title_sidebar": "Contents",
   "toc_cell": false,
   "toc_position": {},
   "toc_section_display": true,
   "toc_window_display": false
  },
  "toc-autonumbering": true,
  "toc-showcode": false,
  "toc-showmarkdowntxt": true
 },
 "nbformat": 4,
 "nbformat_minor": 5
}
