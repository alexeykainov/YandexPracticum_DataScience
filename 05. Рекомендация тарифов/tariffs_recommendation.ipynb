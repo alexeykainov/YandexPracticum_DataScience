{
 "cells": [
  {
   "cell_type": "markdown",
   "metadata": {},
   "source": [
    "# Рекомендация тарифов"
   ]
  },
  {
   "cell_type": "markdown",
   "metadata": {},
   "source": [
    "**Описание проектной работы**\n",
    "\n",
    "Оператор мобильной связи «Мегалайн» выяснил: многие клиенты пользуются архивными тарифами. Оператор хочет построить систему, способную проанализировать поведение клиентов и предложить пользователям новый тариф: «Смарт» или «Ультра».\n",
    "\n",
    "Предоставлены данные о поведении клиентов, которые уже перешли на эти тарифы.\n",
    "\n",
    "**Цель проекта**\n",
    "\n",
    "Требуется построить модель для задачи классификации, которая предложит подходящий тариф. Итоговая `accuracy` должна быть не ниже `0.75`. "
   ]
  },
  {
   "cell_type": "markdown",
   "metadata": {},
   "source": [
    "**План выполнения работы**\n",
    "   \n",
    "1. Изучение общей информации\n",
    "2. Разделение данных на выборки\n",
    "3. Исследование моделей\n",
    "4. Проверка модели на тестовой выборке\n",
    "5. Проверка модели на адекватность\n",
    "6. Общие выводы"
   ]
  },
  {
   "cell_type": "markdown",
   "metadata": {},
   "source": [
    "# Содержание"
   ]
  },
  {
   "cell_type": "markdown",
   "metadata": {},
   "source": [
    "[1. Изучение общей информации](#Изучение-общей-информации)\n",
    "\n",
    "[2. Разделение данных на выборки](#Разделение-данных-на-выборки)\n",
    "\n",
    "[3. Исследование моделей](#Исследование-моделей)\n",
    "\n",
    "[4. Проверка модели на тестовой выборке](#Проверка-модели-на-тестовой-выборке)\n",
    "\n",
    "[5. Проверка модели на адекватность](#Проверка-модели-на-адекватность)\n",
    "\n",
    "[6. Общие выводы](#Общие-выводы)"
   ]
  },
  {
   "cell_type": "markdown",
   "metadata": {},
   "source": [
    "## Изучение общей информации"
   ]
  },
  {
   "cell_type": "markdown",
   "metadata": {},
   "source": [
    "[Назад к содержанию](#Содержание)"
   ]
  },
  {
   "cell_type": "code",
   "execution_count": 1,
   "metadata": {},
   "outputs": [],
   "source": [
    "# импорт библиотек:\n",
    "\n",
    "import pandas as pd\n",
    "from sklearn.model_selection import train_test_split\n",
    "from sklearn.tree import DecisionTreeClassifier\n",
    "from sklearn.ensemble import RandomForestClassifier\n",
    "from sklearn.linear_model import LogisticRegression\n",
    "from sklearn.metrics import accuracy_score\n"
   ]
  },
  {
   "cell_type": "code",
   "execution_count": 2,
   "metadata": {},
   "outputs": [
    {
     "name": "stdout",
     "output_type": "stream",
     "text": [
      "Датафрейм сформирован!\n"
     ]
    }
   ],
   "source": [
    "# чтение исходного датасета:\n",
    "\n",
    "df = pd.read_csv('/datasets/users_behavior.csv')\n",
    "print('Датафрейм сформирован!')"
   ]
  },
  {
   "cell_type": "code",
   "execution_count": 3,
   "metadata": {},
   "outputs": [
    {
     "data": {
      "text/html": [
       "<div>\n",
       "<style scoped>\n",
       "    .dataframe tbody tr th:only-of-type {\n",
       "        vertical-align: middle;\n",
       "    }\n",
       "\n",
       "    .dataframe tbody tr th {\n",
       "        vertical-align: top;\n",
       "    }\n",
       "\n",
       "    .dataframe thead th {\n",
       "        text-align: right;\n",
       "    }\n",
       "</style>\n",
       "<table border=\"1\" class=\"dataframe\">\n",
       "  <thead>\n",
       "    <tr style=\"text-align: right;\">\n",
       "      <th></th>\n",
       "      <th>calls</th>\n",
       "      <th>minutes</th>\n",
       "      <th>messages</th>\n",
       "      <th>mb_used</th>\n",
       "      <th>is_ultra</th>\n",
       "    </tr>\n",
       "  </thead>\n",
       "  <tbody>\n",
       "    <tr>\n",
       "      <th>0</th>\n",
       "      <td>40.0</td>\n",
       "      <td>311.90</td>\n",
       "      <td>83.0</td>\n",
       "      <td>19915.42</td>\n",
       "      <td>0</td>\n",
       "    </tr>\n",
       "    <tr>\n",
       "      <th>1</th>\n",
       "      <td>85.0</td>\n",
       "      <td>516.75</td>\n",
       "      <td>56.0</td>\n",
       "      <td>22696.96</td>\n",
       "      <td>0</td>\n",
       "    </tr>\n",
       "    <tr>\n",
       "      <th>2</th>\n",
       "      <td>77.0</td>\n",
       "      <td>467.66</td>\n",
       "      <td>86.0</td>\n",
       "      <td>21060.45</td>\n",
       "      <td>0</td>\n",
       "    </tr>\n",
       "    <tr>\n",
       "      <th>3</th>\n",
       "      <td>106.0</td>\n",
       "      <td>745.53</td>\n",
       "      <td>81.0</td>\n",
       "      <td>8437.39</td>\n",
       "      <td>1</td>\n",
       "    </tr>\n",
       "    <tr>\n",
       "      <th>4</th>\n",
       "      <td>66.0</td>\n",
       "      <td>418.74</td>\n",
       "      <td>1.0</td>\n",
       "      <td>14502.75</td>\n",
       "      <td>0</td>\n",
       "    </tr>\n",
       "  </tbody>\n",
       "</table>\n",
       "</div>"
      ],
      "text/plain": [
       "   calls  minutes  messages   mb_used  is_ultra\n",
       "0   40.0   311.90      83.0  19915.42         0\n",
       "1   85.0   516.75      56.0  22696.96         0\n",
       "2   77.0   467.66      86.0  21060.45         0\n",
       "3  106.0   745.53      81.0   8437.39         1\n",
       "4   66.0   418.74       1.0  14502.75         0"
      ]
     },
     "execution_count": 3,
     "metadata": {},
     "output_type": "execute_result"
    }
   ],
   "source": [
    "# выведем несколько строк исходного датафрейма:\n",
    "\n",
    "df.head()\n"
   ]
  },
  {
   "cell_type": "code",
   "execution_count": 4,
   "metadata": {},
   "outputs": [
    {
     "name": "stdout",
     "output_type": "stream",
     "text": [
      "<class 'pandas.core.frame.DataFrame'>\n",
      "RangeIndex: 3214 entries, 0 to 3213\n",
      "Data columns (total 5 columns):\n",
      " #   Column    Non-Null Count  Dtype  \n",
      "---  ------    --------------  -----  \n",
      " 0   calls     3214 non-null   float64\n",
      " 1   minutes   3214 non-null   float64\n",
      " 2   messages  3214 non-null   float64\n",
      " 3   mb_used   3214 non-null   float64\n",
      " 4   is_ultra  3214 non-null   int64  \n",
      "dtypes: float64(4), int64(1)\n",
      "memory usage: 125.7 KB\n"
     ]
    }
   ],
   "source": [
    "# выведем общую информацию о датафрейме:\n",
    "\n",
    "df.info()\n"
   ]
  },
  {
   "cell_type": "code",
   "execution_count": 5,
   "metadata": {},
   "outputs": [
    {
     "data": {
      "text/html": [
       "<div>\n",
       "<style scoped>\n",
       "    .dataframe tbody tr th:only-of-type {\n",
       "        vertical-align: middle;\n",
       "    }\n",
       "\n",
       "    .dataframe tbody tr th {\n",
       "        vertical-align: top;\n",
       "    }\n",
       "\n",
       "    .dataframe thead th {\n",
       "        text-align: right;\n",
       "    }\n",
       "</style>\n",
       "<table border=\"1\" class=\"dataframe\">\n",
       "  <thead>\n",
       "    <tr style=\"text-align: right;\">\n",
       "      <th></th>\n",
       "      <th>calls</th>\n",
       "      <th>minutes</th>\n",
       "      <th>messages</th>\n",
       "      <th>mb_used</th>\n",
       "      <th>is_ultra</th>\n",
       "    </tr>\n",
       "  </thead>\n",
       "  <tbody>\n",
       "    <tr>\n",
       "      <th>count</th>\n",
       "      <td>3214.000000</td>\n",
       "      <td>3214.000000</td>\n",
       "      <td>3214.000000</td>\n",
       "      <td>3214.000000</td>\n",
       "      <td>3214.000000</td>\n",
       "    </tr>\n",
       "    <tr>\n",
       "      <th>mean</th>\n",
       "      <td>63.038892</td>\n",
       "      <td>438.208787</td>\n",
       "      <td>38.281269</td>\n",
       "      <td>17207.673836</td>\n",
       "      <td>0.306472</td>\n",
       "    </tr>\n",
       "    <tr>\n",
       "      <th>std</th>\n",
       "      <td>33.236368</td>\n",
       "      <td>234.569872</td>\n",
       "      <td>36.148326</td>\n",
       "      <td>7570.968246</td>\n",
       "      <td>0.461100</td>\n",
       "    </tr>\n",
       "    <tr>\n",
       "      <th>min</th>\n",
       "      <td>0.000000</td>\n",
       "      <td>0.000000</td>\n",
       "      <td>0.000000</td>\n",
       "      <td>0.000000</td>\n",
       "      <td>0.000000</td>\n",
       "    </tr>\n",
       "    <tr>\n",
       "      <th>25%</th>\n",
       "      <td>40.000000</td>\n",
       "      <td>274.575000</td>\n",
       "      <td>9.000000</td>\n",
       "      <td>12491.902500</td>\n",
       "      <td>0.000000</td>\n",
       "    </tr>\n",
       "    <tr>\n",
       "      <th>50%</th>\n",
       "      <td>62.000000</td>\n",
       "      <td>430.600000</td>\n",
       "      <td>30.000000</td>\n",
       "      <td>16943.235000</td>\n",
       "      <td>0.000000</td>\n",
       "    </tr>\n",
       "    <tr>\n",
       "      <th>75%</th>\n",
       "      <td>82.000000</td>\n",
       "      <td>571.927500</td>\n",
       "      <td>57.000000</td>\n",
       "      <td>21424.700000</td>\n",
       "      <td>1.000000</td>\n",
       "    </tr>\n",
       "    <tr>\n",
       "      <th>max</th>\n",
       "      <td>244.000000</td>\n",
       "      <td>1632.060000</td>\n",
       "      <td>224.000000</td>\n",
       "      <td>49745.730000</td>\n",
       "      <td>1.000000</td>\n",
       "    </tr>\n",
       "  </tbody>\n",
       "</table>\n",
       "</div>"
      ],
      "text/plain": [
       "             calls      minutes     messages       mb_used     is_ultra\n",
       "count  3214.000000  3214.000000  3214.000000   3214.000000  3214.000000\n",
       "mean     63.038892   438.208787    38.281269  17207.673836     0.306472\n",
       "std      33.236368   234.569872    36.148326   7570.968246     0.461100\n",
       "min       0.000000     0.000000     0.000000      0.000000     0.000000\n",
       "25%      40.000000   274.575000     9.000000  12491.902500     0.000000\n",
       "50%      62.000000   430.600000    30.000000  16943.235000     0.000000\n",
       "75%      82.000000   571.927500    57.000000  21424.700000     1.000000\n",
       "max     244.000000  1632.060000   224.000000  49745.730000     1.000000"
      ]
     },
     "execution_count": 5,
     "metadata": {},
     "output_type": "execute_result"
    }
   ],
   "source": [
    "# посмотрим на датафрейм с помощью метода describe:\n",
    "\n",
    "df.describe()\n"
   ]
  },
  {
   "cell_type": "code",
   "execution_count": 6,
   "metadata": {},
   "outputs": [
    {
     "data": {
      "text/plain": [
       "calls       0\n",
       "minutes     0\n",
       "messages    0\n",
       "mb_used     0\n",
       "is_ultra    0\n",
       "dtype: int64"
      ]
     },
     "execution_count": 6,
     "metadata": {},
     "output_type": "execute_result"
    }
   ],
   "source": [
    "# проверка наличия пропусков:\n",
    "\n",
    "df.isna().sum()\n"
   ]
  },
  {
   "cell_type": "code",
   "execution_count": 7,
   "metadata": {},
   "outputs": [
    {
     "data": {
      "text/plain": [
       "0"
      ]
     },
     "execution_count": 7,
     "metadata": {},
     "output_type": "execute_result"
    }
   ],
   "source": [
    "# поиск дубликатов:\n",
    "\n",
    "df.duplicated().sum()\n"
   ]
  },
  {
   "cell_type": "markdown",
   "metadata": {},
   "source": [
    "**Выводы по изучению общей информации**\n",
    "\n",
    "1. Загрузили и преобразовали исходный датасет в датафрейм. Присвоили переменной `df` исходный датафрейм;\n",
    "2. Вывели несколько строк датафрейма;\n",
    "3. Изучили общую информацию о датафрейме:\n",
    "\n",
    "  - датафрейм состоит из `5` столбцов и `3214` строк;\n",
    "  - типы данных в столбцах не требуют преобразования в другие типы и готовы для работы;\n",
    "  - пропуски в данных отсутствуют;\n",
    "  - явные дубликаты отсутствуют.\n",
    "  \n",
    "4. Описание данных. Каждый объект в наборе данных — это информация о поведении одного пользователя за месяц. Известно:\n",
    "      \n",
    "  - `сalls` — количество звонков,\n",
    "  - `minutes` — суммарная длительность звонков в минутах,\n",
    "  - `messages` — количество sms-сообщений,\n",
    "  - `mb_used` — израсходованный интернет-трафик в Мб,\n",
    "  - `is_ultra` — каким тарифом пользовался в течение месяца («Ультра» — 1, «Смарт» — 0).\n",
    "      \n",
    "Исходный датафрейм полностью готов для дальнейшей работы.\n"
   ]
  },
  {
   "cell_type": "markdown",
   "metadata": {},
   "source": [
    "## Разделение данных на выборки"
   ]
  },
  {
   "cell_type": "markdown",
   "metadata": {},
   "source": [
    "[Назад к содержанию](#Содержание)"
   ]
  },
  {
   "cell_type": "markdown",
   "metadata": {},
   "source": [
    "Создадим переменные для признаков и целевого признака: \n",
    "\n",
    "   - в качестве целевого признака `target` будем использовать значения из столбца `is_ultra` - `0` или `1`;\n",
    "   - в качестве признаков `features` будем использовать все признаки, за исключением целевого. \n",
    "   \n",
    "Пропишем переменные:"
   ]
  },
  {
   "cell_type": "code",
   "execution_count": 8,
   "metadata": {},
   "outputs": [],
   "source": [
    "# признаки: \n",
    "features = df.drop('is_ultra', axis=1)\n",
    "\n",
    "# целевой признак:\n",
    "target = df['is_ultra']"
   ]
  },
  {
   "cell_type": "markdown",
   "metadata": {},
   "source": [
    "Поскольку у нас отсутствует отдельный датасет для тестирования модели, разобьем исходный датафрейм на обучающую, валидационную и тестовую выборки в соотношении 3:1:1:\n",
    "\n",
    "   - 60% под обучающую выборку;\n",
    "   - 20% под валидационную выборку;\n",
    "   - 20% под тестовую выборку \n",
    "\n",
    "В качестве параметра `random_state` примем значение `12345`.\n",
    "\n",
    "Разделение выборок выполним поэтапно: сперва выделим 60% под обучающую выборку, оставшиеся 40% поделим поровну между валидационной и тестовой выборками.\n"
   ]
  },
  {
   "cell_type": "markdown",
   "metadata": {},
   "source": [
    "В связи с тем, что наш исходный датасет небольшой, то имеет смысл разделять данные с помощью стратификации. Стратификация позволяет избежать случая когда распределение тренировочного и тестового множеств оказываются не таким, как у всего исходного множества. Т.е. стратификация помогает сохранить соотношение классов, представленное в исходном датасете.\n"
   ]
  },
  {
   "cell_type": "code",
   "execution_count": 9,
   "metadata": {},
   "outputs": [],
   "source": [
    "# выделим 60% под обучающую выборку\n",
    "# применим аргумент stratify  к целевому признаку target:\n",
    "\n",
    "features_train, features_valid_test, target_train, target_valid_test = \\\n",
    "    train_test_split(features, target, test_size = 0.4, random_state = 12345, stratify = target)\n"
   ]
  },
  {
   "cell_type": "code",
   "execution_count": 10,
   "metadata": {},
   "outputs": [
    {
     "name": "stdout",
     "output_type": "stream",
     "text": [
      "features_train: (1928, 4)\n",
      "features_valid_test: (1286, 4)\n",
      "target_train: (1928,)\n",
      "target_valid_test: (1286,)\n"
     ]
    }
   ],
   "source": [
    "# проверим количество получившихся объектов:\n",
    "\n",
    "print('features_train:', features_train.shape)\n",
    "print('features_valid_test:', features_valid_test.shape)\n",
    "print('target_train:', target_train.shape)\n",
    "print('target_valid_test:', target_valid_test.shape)\n"
   ]
  },
  {
   "cell_type": "markdown",
   "metadata": {},
   "source": [
    "1928 строк - это 60% от общего числа строк в исходном датафрейме (3214), т.е. разбили верно. \n",
    "\n",
    "Далее оставшиеся 40% разобъем поровну между валидационной и тестовой выборками.\n"
   ]
  },
  {
   "cell_type": "code",
   "execution_count": 11,
   "metadata": {},
   "outputs": [],
   "source": [
    "# выделим по 20% под валидационную и тестовую выборки\n",
    "# аргумент stratify применим к target_valid_test:\n",
    "\n",
    "features_valid, features_test, target_valid, target_test = \\\n",
    "    train_test_split(features_valid_test, target_valid_test, \\\n",
    "    test_size = 0.5, random_state = 12345, stratify = target_valid_test) \n",
    "                                                    "
   ]
  },
  {
   "cell_type": "code",
   "execution_count": 12,
   "metadata": {},
   "outputs": [
    {
     "name": "stdout",
     "output_type": "stream",
     "text": [
      "features_valid: (643, 4)\n",
      "features_test: (643, 4)\n",
      "target_valid: (643,)\n",
      "target_test: (643,)\n"
     ]
    }
   ],
   "source": [
    "# проверим количество получившихся объектов:\n",
    "\n",
    "print('features_valid:', features_valid.shape)\n",
    "print('features_test:', features_test.shape)\n",
    "print('target_valid:', target_valid.shape)\n",
    "print('target_test:', target_test.shape)\n"
   ]
  },
  {
   "cell_type": "markdown",
   "metadata": {},
   "source": [
    "643 строки - это 20% от общего числа строк в исходном датафрейме. Т.е. разбили верно."
   ]
  },
  {
   "cell_type": "markdown",
   "metadata": {},
   "source": [
    "**Вывод по разделению данных на выборки**\n",
    "\n",
    "В данном пункте мы разбили исходный датафрейм на обучающую, валидационную и тестовую выборки в соотношении `3:1:1`:\n",
    "\n",
    "   - `60%` выделили под обучающую выборку: `features_train` и `target_train;\n",
    "   - `20%` под валидационную выборку: `features_valid` и `target_valid`;\n",
    "   - `20%` под тестовую выборку: `features_test` и `target_test`\n"
   ]
  },
  {
   "cell_type": "markdown",
   "metadata": {},
   "source": [
    "## Исследование моделей"
   ]
  },
  {
   "cell_type": "markdown",
   "metadata": {},
   "source": [
    "[Назад к содержанию](#Содержание)"
   ]
  },
  {
   "cell_type": "markdown",
   "metadata": {},
   "source": [
    "Целевой признак, который нужно предсказать в нашей задаче, это значение `0` или `1` в столбце `is_ultra`. Целевой признак является категориальным, т.к. принимает всего два значения: `0` или `1`. Поэтому наша задача сводится к бинарной (двоичной) классификации."
   ]
  },
  {
   "cell_type": "markdown",
   "metadata": {},
   "source": [
    "Решить задачу можно следующими способами:\n",
    "\n",
    "   - решающее дерево;\n",
    "   - случайный лес;\n",
    "   - логистическая регрессия\n",
    "   "
   ]
  },
  {
   "cell_type": "markdown",
   "metadata": {},
   "source": [
    "### Исследование модели с помощью решающего дерева\n"
   ]
  },
  {
   "cell_type": "markdown",
   "metadata": {},
   "source": [
    "Обучим модель с помощью решающего дерева. С помощью цикла будем изменять значения гиперпараметра `max_depth` от 1 до 5. Для каждого значения `max_depth` выведем значение качества (`accuracy`) на валидационной выборке."
   ]
  },
  {
   "cell_type": "code",
   "execution_count": 14,
   "metadata": {},
   "outputs": [
    {
     "name": "stdout",
     "output_type": "stream",
     "text": [
      "Accuracy наилучшей модели на валидационной выборке: 0.7853810264385692\n",
      "Гиперпараметр max_depth = 5\n"
     ]
    }
   ],
   "source": [
    "# обучение модели методом DecisionTreeClassifier\n",
    "# изменение гиперпараметра max_depth от 1 до 5:\n",
    "   \n",
    "best_model = None\n",
    "best_result = 0\n",
    "max_depth = 0\n",
    "for depth in range(1, 6):  \n",
    "    model_DTC = DecisionTreeClassifier(random_state=12345, max_depth=depth) # обучение модели с заданным параметром max_depth\n",
    "    model_DTC.fit(features_train, target_train) # обучение модели на тренировочной выборке\n",
    "    result = model_DTC.score(features_valid, target_valid) # качество модели на валидационной выборке\n",
    "    if result > best_result:\n",
    "        best_model_DTC = model_DTC # сохранение наилучшей модели\n",
    "        best_result = result #  сохранение наилучшего значения метрики accuracy на валидационных данных\n",
    "        max_depth = depth\n",
    "\n",
    "print(\"Accuracy наилучшей модели на валидационной выборке:\", best_result)\n",
    "print(\"Гиперпараметр max_depth =\", max_depth)\n",
    "\n"
   ]
  },
  {
   "cell_type": "markdown",
   "metadata": {},
   "source": [
    "Обучили модель с помощью решающего дерева. Протестировали модель на валидационной выборке. Получили наилучшее значение качества модели `accuracy` равное `0.785` при значении гиперпараметра `max_depth` = `5`.\n"
   ]
  },
  {
   "cell_type": "markdown",
   "metadata": {},
   "source": [
    "### Исследование модели с помощью случайного леса"
   ]
  },
  {
   "cell_type": "markdown",
   "metadata": {},
   "source": [
    "Далее обучим модель с помощью случайного леса. Число деревьев возьмем от 1 до 30 и выберем наилучшую модель.\n"
   ]
  },
  {
   "cell_type": "code",
   "execution_count": 15,
   "metadata": {},
   "outputs": [
    {
     "name": "stdout",
     "output_type": "stream",
     "text": [
      "Accuracy наилучшей модели на валидационной выборке: 0.7993779160186625\n",
      "Количество деревьев равно: 21\n"
     ]
    }
   ],
   "source": [
    "# обучение модели методом RandomForestClassifier\n",
    "# изменение числа деревьев от 1 до 30\n",
    "\n",
    "best_model = None\n",
    "best_result = 0\n",
    "estimators = 0\n",
    "for est in range(1, 31):\n",
    "    model_RFC = RandomForestClassifier(random_state=12345, n_estimators=est) # обучение модели с заданным количеством деревьев\n",
    "    model_RFC.fit(features_train, target_train) # обучение модели на тренировочной выборке\n",
    "    result = model_RFC.score(features_valid, target_valid) # качество модели на валидационной выборке\n",
    "    if result > best_result:\n",
    "        best_model_RFC = model_RFC # сохранение наилучшей модели\n",
    "        best_result = result # наилучшее значение метрики accuracy на валидационных данных\n",
    "        estimators = est # количество деревьев\n",
    "        \n",
    "print(\"Accuracy наилучшей модели на валидационной выборке:\", best_result)\n",
    "print(\"Количество деревьев равно:\", estimators)"
   ]
  },
  {
   "cell_type": "markdown",
   "metadata": {},
   "source": [
    "Обучили модель с помощью случайного леса. Протестировали модель на валидационной выборке. Получили наилучшее значение качества модели `accuracy` равное `0.799` при количестве деревьев равное `21`.\n"
   ]
  },
  {
   "cell_type": "markdown",
   "metadata": {},
   "source": [
    "### Исследование модели с помощью логистической регрессии"
   ]
  },
  {
   "cell_type": "markdown",
   "metadata": {},
   "source": [
    "Обучим модель с помощью логистической регрессии. \n",
    "\n",
    "В качестве гиперпараметров примем:\n",
    "\n",
    "   - `random_state` = `12345`;\n",
    "   - алгоритм обучения будем использовать один из самых распространенных - 'lbfgs' — он подходит для решения большинства задач;\n",
    "   - максимальное количество итераций `max_iter` примем равное `1000`."
   ]
  },
  {
   "cell_type": "code",
   "execution_count": 16,
   "metadata": {},
   "outputs": [
    {
     "data": {
      "text/plain": [
       "0.7387247278382582"
      ]
     },
     "execution_count": 16,
     "metadata": {},
     "output_type": "execute_result"
    }
   ],
   "source": [
    "# обучение модели с помощью логистической регрессии:\n",
    "\n",
    "model_LgR = LogisticRegression(random_state=12345, solver='lbfgs', max_iter=1000)\n",
    "model_LgR.fit(features_train, target_train) # обучение модели на тренировочной выборке\n",
    "\n",
    "model_LgR.score(features_valid, target_valid) # качество модели на валидационной выборке\n",
    "\n"
   ]
  },
  {
   "cell_type": "markdown",
   "metadata": {},
   "source": [
    "Обучили модель с помощью логистической регрессии. Получили самое низкое качество модели `0.738`.\n"
   ]
  },
  {
   "cell_type": "markdown",
   "metadata": {},
   "source": [
    "### Вывод\n",
    "\n",
    "Обучили модели на тренировочной выборке тремя способами:\n",
    "\n",
    "   - с помощью дерева решений;\n",
    "   \n",
    "   - с помощью случайного леса;\n",
    "   \n",
    "   - с помощью логистической регрессии.\n",
    "   \n",
    "   \n",
    "Проверили качество получившихся моделей на валидационной выборке. Получили следующие результаты:\n",
    "\n",
    "\n",
    "   - наилучшее значение `accuracy` модели, обученной с помощью `дерева решений`, получили равное `0.785`;\n",
    "   \n",
    "   - наилучшее значение `accuracy` модели, обученной с помощью `случайного леса`, получили равное `0.799`, при количестве деревьев равное `21`;\n",
    "   \n",
    "   - значение `accuracy` модели, обученной с помощью `логистической регрессии`, получили равное `0.738`.\n",
    "\n",
    "Как видно, самое `высокое` качество у модели, обученной с помощью `случайного леса`. Качество модели равно `0.799`.\n",
    "\n",
    "Самое `низкое` качество у `логистической регрессии`: значение `accuracy` = `0.738`.\n"
   ]
  },
  {
   "cell_type": "markdown",
   "metadata": {},
   "source": [
    "## Проверка модели на тестовой выборке"
   ]
  },
  {
   "cell_type": "markdown",
   "metadata": {},
   "source": [
    "[Назад к содержанию](#Содержание)"
   ]
  },
  {
   "cell_type": "markdown",
   "metadata": {},
   "source": [
    "Проверим наилучшую модель на тестовой выборке. "
   ]
  },
  {
   "cell_type": "code",
   "execution_count": 17,
   "metadata": {},
   "outputs": [
    {
     "data": {
      "text/plain": [
       "0.80248833592535"
      ]
     },
     "execution_count": 17,
     "metadata": {},
     "output_type": "execute_result"
    }
   ],
   "source": [
    "# проверка наилучшей модели на тестовой выборке:\n",
    "\n",
    "best_model_RFC.predict(features_test) # предсказание модели по тестовой выборке\n",
    "best_model_RFC.score(features_test, target_test) # качество модели на тестовой выборке"
   ]
  },
  {
   "cell_type": "markdown",
   "metadata": {},
   "source": [
    "Попробуем улучшить качество нашей наилучшей модели `best_model_RFC`. Для чего объединим обучающую и валидационную выборки в одну и заново обучим на ней нашу модель `best_model_RFC` с теми же гиперпараметрами. \n",
    "\n",
    "Тестировать новую модель будем также на тестовой выборке.\n"
   ]
  },
  {
   "cell_type": "code",
   "execution_count": 18,
   "metadata": {},
   "outputs": [
    {
     "name": "stdout",
     "output_type": "stream",
     "text": [
      "features_train: (1928, 4)\n",
      "features_valid: (643, 4)\n",
      "target_train: (1928,)\n",
      "target_valid: (643,)\n"
     ]
    }
   ],
   "source": [
    "# перед объединением выборок посмотрим на них:\n",
    "# features_train, features_valid, target_train и target_valid:\n",
    "\n",
    "print('features_train:', features_train.shape)\n",
    "print('features_valid:', features_valid.shape)\n",
    "print('target_train:', target_train.shape)\n",
    "print('target_valid:', target_valid.shape)"
   ]
  },
  {
   "cell_type": "code",
   "execution_count": 19,
   "metadata": {},
   "outputs": [],
   "source": [
    "# объединение выборок features_train и features_valid:\n",
    "\n",
    "train_df = pd.concat([features_train, features_valid])\n",
    "\n",
    "# объединение выборок target_train и target_valid:\n",
    "\n",
    "target_df = pd.concat([target_train, target_valid])"
   ]
  },
  {
   "cell_type": "code",
   "execution_count": 20,
   "metadata": {},
   "outputs": [
    {
     "name": "stdout",
     "output_type": "stream",
     "text": [
      "(2571, 4)\n",
      "(2571,)\n"
     ]
    }
   ],
   "source": [
    "# проверим получившиеся выборки:\n",
    "\n",
    "print(train_df.shape)\n",
    "print(target_df.shape)"
   ]
  },
  {
   "cell_type": "markdown",
   "metadata": {},
   "source": [
    "1928 + 643 = 2571, т.е. объединили верно"
   ]
  },
  {
   "cell_type": "code",
   "execution_count": 21,
   "metadata": {},
   "outputs": [],
   "source": [
    "# обучение модели по обучающим большим выборкам train_df и target_df:\n",
    "\n",
    "new_model = best_model_RFC.fit(train_df, target_df)"
   ]
  },
  {
   "cell_type": "code",
   "execution_count": 22,
   "metadata": {},
   "outputs": [
    {
     "data": {
      "text/plain": [
       "0.8289269051321928"
      ]
     },
     "execution_count": 22,
     "metadata": {},
     "output_type": "execute_result"
    }
   ],
   "source": [
    "# проверка новой модели на тестовой выборке:\n",
    "\n",
    "new_model.score(features_test, target_test)"
   ]
  },
  {
   "cell_type": "markdown",
   "metadata": {},
   "source": [
    "Действительно получилось увеличить качество модели. В связи с чем будем считать модель `new_model` итоговой моделью."
   ]
  },
  {
   "cell_type": "markdown",
   "metadata": {},
   "source": [
    "**Вывод после проверки наилучшей модели на тестовой выборке**\n",
    "\n",
    "Сперва проверили наилучшую модель на тестовой выборке. Значение `accuracy` на тестовой выборке получили равным `0.802`.\n",
    "\n",
    "Затем заново обучили модель на выборке побольше - объединили обучающую и валидационную выборки. После чего протестировали на тестовой выборке. Значение `accuracy` итоговой модели получили равным `0.828`. \n"
   ]
  },
  {
   "cell_type": "markdown",
   "metadata": {},
   "source": [
    "## Проверка модели на адекватность"
   ]
  },
  {
   "cell_type": "markdown",
   "metadata": {},
   "source": [
    "[Назад к содержанию](#Содержание)"
   ]
  },
  {
   "cell_type": "markdown",
   "metadata": {},
   "source": [
    "Чтобы оценить адекватность модели в задачах классификации, нужно сравнить её со случайной моделью. Для чего импортируем из библиотеки `sklearn DummyClassifier` - это классификатор, который делает прогнозы, используя простые правила.\n",
    "\n",
    "В качестве параметра выберем `most_frequent` - этот параметр всегда предсказывает наиболее часто встречающуюся метку в обучающем наборе.\n"
   ]
  },
  {
   "cell_type": "code",
   "execution_count": 23,
   "metadata": {},
   "outputs": [
    {
     "data": {
      "text/plain": [
       "0.6936236391912908"
      ]
     },
     "execution_count": 23,
     "metadata": {},
     "output_type": "execute_result"
    }
   ],
   "source": [
    "# импорт DummyClassifier  \n",
    "from sklearn.dummy import DummyClassifier\n",
    "\n",
    "# создание случайной dummy-модели\n",
    "dc_mf = DummyClassifier(strategy=\"most_frequent\") \n",
    "\n",
    "# обучение dummy-модели на тренировочной выборке:\n",
    "dc_mf.fit(features_train, target_train)\n",
    "\n",
    "dc_mf.predict(features_test) # предсказание dummy-модели по тестовой выборке\n",
    "dc_mf.score(features_test, target_test) # качество dummy-модели на тестовой выборке\n"
   ]
  },
  {
   "cell_type": "markdown",
   "metadata": {},
   "source": [
    "`Accuracy` `dummy-модели` получили `0.693`, что гораздо ниже нашей итоговой модели - `0.828`.\n",
    "\n",
    "Таким образом, подтвериди, что наша модель лучше случайной `dummy-модели`."
   ]
  },
  {
   "cell_type": "markdown",
   "metadata": {},
   "source": [
    "**Вывод проверки модели на адекватность**\n",
    "   \n",
    "Сравнили наилучшую модель со случайной. Наша модель лучше случайной. Значения качества нашей и случайной моделей `0.828` и `0.693`, соответственно."
   ]
  },
  {
   "cell_type": "markdown",
   "metadata": {},
   "source": [
    "## Общие выводы"
   ]
  },
  {
   "cell_type": "markdown",
   "metadata": {},
   "source": [
    "[Назад к содержанию](#Содержание)"
   ]
  },
  {
   "cell_type": "markdown",
   "metadata": {},
   "source": [
    "Целью настоящей работы было разработать систему, способную проанализировать поведение клиентов и предложить пользователям новый тариф: `«Смарт»` или `«Ультра»`. Для чего была предоставлена информация о поведении пользователей за месяц. В исходном датасете были предоставлены следующие данные:\n",
    "\n",
    "   - количество звонков;\n",
    "   - суммарная длительность звонков в минутах;\n",
    "   - количество sms-сообщений;\n",
    "   - израсходованный интернет-трафик в Мб;\n",
    "   - каким тарифом пользовался в течение месяца («Ультра» — 1, «Смарт» — 0).\n",
    "   \n",
    "Задача свелась к бинарной (двоичной) классификации. В результате проведения работы должны были обучить модель, способную по переданным ей признакам предсказать целевой признак - тариф `\"Ультра\"` или `\"Смарт\"`.   \n",
    "\n",
    "В первую очередь разбили исходный датафрейм на следующие выборки:\n",
    "\n",
    "   - 60% под обучающую выборку;\n",
    "   - 20% под валидационную выборку;\n",
    "   - 20% под тестовую выборку\n",
    "\n",
    "В ходе проведения работы обучили три модели различными способами и получили различные качественные параметры моделей. Обучали модели на обучающей выборке, тестировали на валидационной выборке. Получили следующие результаты для моделей:\n",
    "\n",
    "   - `решающее дерево` со значением `accuracy` = `0.785`;\n",
    "   - `случайный лес` со значением `accuracy` = `0.799`;\n",
    "   - `логистическая регрессия` со значением `accuracy` = `0.738`.\n",
    "   \n",
    "Исходя из результатов показателей качества, выбрали наилучшую модель, обученную с помощью `случайного леса` и значением `accuracy` = `0.799`.\n",
    "\n",
    "С помощью выбранной модели проверили модель на тестовой выборке. Сперва получили значение `accuracy` равное `0.802`. Затем улучшили качество модели следующим способом: объединили обучающую и валидационную выборки в одну большую и заново обучили модель. Протестировали получившуюся модель на тестовой выборке и получили качество `итоговой` модели `accuracy` равное `0.828`.\n",
    "\n",
    "Сравнили выбранную модель со случайной `dummy-моделью`. В результате `accuracy` `dummy-модели` получили `0.693`, что ниже нашей выбранной модели. В связи с чем можем считать нашу итоговую модель рабочей.\n",
    " "
   ]
  }
 ],
 "metadata": {
  "ExecuteTimeLog": [
   {
    "duration": 361,
    "start_time": "2023-01-03T15:03:46.753Z"
   },
   {
    "duration": 112,
    "start_time": "2023-01-03T15:07:05.776Z"
   },
   {
    "duration": 16,
    "start_time": "2023-01-03T15:07:52.020Z"
   },
   {
    "duration": 9,
    "start_time": "2023-01-03T15:08:33.076Z"
   },
   {
    "duration": 10,
    "start_time": "2023-01-03T15:08:40.980Z"
   },
   {
    "duration": 5,
    "start_time": "2023-01-03T15:11:47.092Z"
   },
   {
    "duration": 6,
    "start_time": "2023-01-03T15:20:08.538Z"
   },
   {
    "duration": 21,
    "start_time": "2023-01-03T15:31:46.753Z"
   },
   {
    "duration": 703,
    "start_time": "2023-01-03T15:49:13.682Z"
   },
   {
    "duration": 13,
    "start_time": "2023-01-03T16:06:06.072Z"
   },
   {
    "duration": 6,
    "start_time": "2023-01-03T16:26:18.083Z"
   },
   {
    "duration": 4,
    "start_time": "2023-01-03T16:26:23.696Z"
   },
   {
    "duration": 6,
    "start_time": "2023-01-03T16:28:43.427Z"
   },
   {
    "duration": 36,
    "start_time": "2023-01-03T16:30:00.387Z"
   },
   {
    "duration": 51,
    "start_time": "2023-01-03T16:50:30.677Z"
   },
   {
    "duration": 4,
    "start_time": "2023-01-03T16:58:10.060Z"
   },
   {
    "duration": 5,
    "start_time": "2023-01-03T16:58:21.277Z"
   },
   {
    "duration": 4,
    "start_time": "2023-01-03T16:59:42.223Z"
   },
   {
    "duration": 4,
    "start_time": "2023-01-03T17:12:57.682Z"
   },
   {
    "duration": 3,
    "start_time": "2023-01-03T17:39:13.143Z"
   },
   {
    "duration": 10,
    "start_time": "2023-01-03T17:42:16.011Z"
   },
   {
    "duration": 29,
    "start_time": "2023-01-03T18:07:39.906Z"
   },
   {
    "duration": 9,
    "start_time": "2023-01-03T18:07:46.251Z"
   },
   {
    "duration": 10,
    "start_time": "2023-01-03T18:07:53.007Z"
   },
   {
    "duration": 21,
    "start_time": "2023-01-03T18:08:00.115Z"
   },
   {
    "duration": 5,
    "start_time": "2023-01-03T18:08:05.687Z"
   },
   {
    "duration": 6,
    "start_time": "2023-01-03T18:08:11.219Z"
   },
   {
    "duration": 3,
    "start_time": "2023-01-03T18:08:56.333Z"
   },
   {
    "duration": 5,
    "start_time": "2023-01-03T18:51:39.639Z"
   },
   {
    "duration": 3,
    "start_time": "2023-01-03T18:53:40.727Z"
   },
   {
    "duration": 4,
    "start_time": "2023-01-03T18:54:19.279Z"
   },
   {
    "duration": 2,
    "start_time": "2023-01-03T18:54:27.219Z"
   },
   {
    "duration": 9,
    "start_time": "2023-01-03T18:55:17.703Z"
   },
   {
    "duration": 4,
    "start_time": "2023-01-03T18:55:33.647Z"
   },
   {
    "duration": 5,
    "start_time": "2023-01-03T19:06:07.022Z"
   },
   {
    "duration": 5,
    "start_time": "2023-01-03T19:07:08.866Z"
   },
   {
    "duration": 43,
    "start_time": "2023-01-04T09:38:53.448Z"
   },
   {
    "duration": 1096,
    "start_time": "2023-01-04T09:39:04.904Z"
   },
   {
    "duration": 121,
    "start_time": "2023-01-04T09:39:06.002Z"
   },
   {
    "duration": 24,
    "start_time": "2023-01-04T09:39:06.125Z"
   },
   {
    "duration": 10,
    "start_time": "2023-01-04T09:39:06.151Z"
   },
   {
    "duration": 21,
    "start_time": "2023-01-04T09:39:06.162Z"
   },
   {
    "duration": 5,
    "start_time": "2023-01-04T09:39:06.185Z"
   },
   {
    "duration": 8,
    "start_time": "2023-01-04T09:39:06.191Z"
   },
   {
    "duration": 5,
    "start_time": "2023-01-04T09:39:06.200Z"
   },
   {
    "duration": 17,
    "start_time": "2023-01-04T09:39:06.206Z"
   },
   {
    "duration": 9,
    "start_time": "2023-01-04T09:39:06.225Z"
   },
   {
    "duration": 10,
    "start_time": "2023-01-04T09:39:06.235Z"
   },
   {
    "duration": 8,
    "start_time": "2023-01-04T09:39:06.246Z"
   },
   {
    "duration": 37,
    "start_time": "2023-01-04T09:39:24.863Z"
   },
   {
    "duration": 28,
    "start_time": "2023-01-04T09:47:42.952Z"
   },
   {
    "duration": 28,
    "start_time": "2023-01-04T09:51:05.455Z"
   },
   {
    "duration": 37,
    "start_time": "2023-01-04T10:03:19.062Z"
   },
   {
    "duration": 294,
    "start_time": "2023-01-04T10:06:54.351Z"
   },
   {
    "duration": 4724,
    "start_time": "2023-01-04T10:07:16.314Z"
   },
   {
    "duration": 17922,
    "start_time": "2023-01-04T10:07:41.638Z"
   },
   {
    "duration": 1833,
    "start_time": "2023-01-04T10:08:28.794Z"
   },
   {
    "duration": 3,
    "start_time": "2023-01-04T10:33:50.380Z"
   },
   {
    "duration": 27,
    "start_time": "2023-01-04T10:45:00.635Z"
   },
   {
    "duration": 21,
    "start_time": "2023-01-04T10:45:25.299Z"
   },
   {
    "duration": 26,
    "start_time": "2023-01-04T10:45:31.671Z"
   },
   {
    "duration": 36,
    "start_time": "2023-01-04T10:45:36.395Z"
   },
   {
    "duration": 6,
    "start_time": "2023-01-04T11:14:56.318Z"
   },
   {
    "duration": 8,
    "start_time": "2023-01-04T11:17:39.558Z"
   },
   {
    "duration": 59,
    "start_time": "2023-01-04T11:22:23.934Z"
   },
   {
    "duration": 92,
    "start_time": "2023-01-04T11:22:36.753Z"
   },
   {
    "duration": 97,
    "start_time": "2023-01-04T11:22:52.074Z"
   },
   {
    "duration": 90,
    "start_time": "2023-01-04T11:24:23.485Z"
   },
   {
    "duration": 17,
    "start_time": "2023-01-04T11:25:03.337Z"
   },
   {
    "duration": 16,
    "start_time": "2023-01-04T11:27:25.529Z"
   },
   {
    "duration": 90,
    "start_time": "2023-01-04T11:33:58.215Z"
   },
   {
    "duration": 49,
    "start_time": "2023-01-04T11:34:13.888Z"
   },
   {
    "duration": 82,
    "start_time": "2023-01-04T11:34:42.759Z"
   },
   {
    "duration": 17,
    "start_time": "2023-01-04T11:34:48.439Z"
   },
   {
    "duration": 1732,
    "start_time": "2023-01-04T11:42:48.446Z"
   },
   {
    "duration": 1732,
    "start_time": "2023-01-04T11:49:35.345Z"
   },
   {
    "duration": 40,
    "start_time": "2023-01-04T11:56:54.801Z"
   },
   {
    "duration": 4,
    "start_time": "2023-01-04T11:57:27.025Z"
   },
   {
    "duration": 4,
    "start_time": "2023-01-04T11:57:40.460Z"
   },
   {
    "duration": 5,
    "start_time": "2023-01-04T11:57:49.572Z"
   },
   {
    "duration": 31,
    "start_time": "2023-01-04T11:59:00.453Z"
   },
   {
    "duration": 1824,
    "start_time": "2023-01-04T12:00:30.036Z"
   },
   {
    "duration": 1043,
    "start_time": "2023-01-04T12:08:21.405Z"
   },
   {
    "duration": 119,
    "start_time": "2023-01-04T12:08:22.450Z"
   },
   {
    "duration": 19,
    "start_time": "2023-01-04T12:08:22.570Z"
   },
   {
    "duration": 9,
    "start_time": "2023-01-04T12:08:22.591Z"
   },
   {
    "duration": 28,
    "start_time": "2023-01-04T12:08:22.601Z"
   },
   {
    "duration": 5,
    "start_time": "2023-01-04T12:08:22.631Z"
   },
   {
    "duration": 9,
    "start_time": "2023-01-04T12:08:22.637Z"
   },
   {
    "duration": 5,
    "start_time": "2023-01-04T12:08:22.648Z"
   },
   {
    "duration": 6,
    "start_time": "2023-01-04T12:08:22.654Z"
   },
   {
    "duration": 6,
    "start_time": "2023-01-04T12:08:22.662Z"
   },
   {
    "duration": 6,
    "start_time": "2023-01-04T12:08:22.670Z"
   },
   {
    "duration": 22,
    "start_time": "2023-01-04T12:08:22.678Z"
   },
   {
    "duration": 53,
    "start_time": "2023-01-04T12:08:22.702Z"
   },
   {
    "duration": 1750,
    "start_time": "2023-01-04T12:08:22.757Z"
   },
   {
    "duration": 23,
    "start_time": "2023-01-04T12:08:51.869Z"
   },
   {
    "duration": 18,
    "start_time": "2023-01-04T12:10:30.621Z"
   },
   {
    "duration": 1734,
    "start_time": "2023-01-04T12:11:35.293Z"
   },
   {
    "duration": 109,
    "start_time": "2023-01-04T12:16:41.872Z"
   },
   {
    "duration": 18,
    "start_time": "2023-01-04T12:17:00.828Z"
   },
   {
    "duration": 1866,
    "start_time": "2023-01-04T12:17:04.100Z"
   },
   {
    "duration": 15,
    "start_time": "2023-01-04T12:17:35.484Z"
   },
   {
    "duration": 10,
    "start_time": "2023-01-04T13:02:26.810Z"
   },
   {
    "duration": 10,
    "start_time": "2023-01-04T13:03:32.274Z"
   },
   {
    "duration": 11,
    "start_time": "2023-01-04T13:09:13.133Z"
   },
   {
    "duration": 9,
    "start_time": "2023-01-04T13:09:39.317Z"
   },
   {
    "duration": 12,
    "start_time": "2023-01-04T13:11:42.273Z"
   },
   {
    "duration": 10,
    "start_time": "2023-01-04T13:26:06.069Z"
   },
   {
    "duration": 11,
    "start_time": "2023-01-04T13:26:17.105Z"
   },
   {
    "duration": 13,
    "start_time": "2023-01-04T13:26:31.621Z"
   },
   {
    "duration": 709,
    "start_time": "2023-01-04T13:27:16.381Z"
   },
   {
    "duration": 764,
    "start_time": "2023-01-04T13:27:37.192Z"
   },
   {
    "duration": 654,
    "start_time": "2023-01-04T13:28:09.013Z"
   },
   {
    "duration": 8,
    "start_time": "2023-01-04T15:40:45.392Z"
   },
   {
    "duration": 4,
    "start_time": "2023-01-04T15:41:12.411Z"
   },
   {
    "duration": 4,
    "start_time": "2023-01-04T15:41:32.615Z"
   },
   {
    "duration": 5,
    "start_time": "2023-01-04T15:42:22.443Z"
   },
   {
    "duration": 5,
    "start_time": "2023-01-04T15:42:44.648Z"
   },
   {
    "duration": 3,
    "start_time": "2023-01-04T15:43:02.487Z"
   },
   {
    "duration": 4,
    "start_time": "2023-01-04T15:43:08.759Z"
   },
   {
    "duration": 5,
    "start_time": "2023-01-04T15:47:56.939Z"
   },
   {
    "duration": 7,
    "start_time": "2023-01-04T16:11:17.315Z"
   },
   {
    "duration": 7,
    "start_time": "2023-01-04T16:12:35.863Z"
   },
   {
    "duration": 8,
    "start_time": "2023-01-04T17:27:19.799Z"
   },
   {
    "duration": 6,
    "start_time": "2023-01-04T17:47:39.468Z"
   },
   {
    "duration": 1076,
    "start_time": "2023-01-04T19:06:45.481Z"
   },
   {
    "duration": 32,
    "start_time": "2023-01-04T19:06:46.559Z"
   },
   {
    "duration": 18,
    "start_time": "2023-01-04T19:06:46.593Z"
   },
   {
    "duration": 10,
    "start_time": "2023-01-04T19:06:46.612Z"
   },
   {
    "duration": 20,
    "start_time": "2023-01-04T19:06:46.623Z"
   },
   {
    "duration": 5,
    "start_time": "2023-01-04T19:06:46.645Z"
   },
   {
    "duration": 12,
    "start_time": "2023-01-04T19:06:46.651Z"
   },
   {
    "duration": 9,
    "start_time": "2023-01-04T19:06:46.664Z"
   },
   {
    "duration": 25,
    "start_time": "2023-01-04T19:06:46.674Z"
   },
   {
    "duration": 5,
    "start_time": "2023-01-04T19:06:46.701Z"
   },
   {
    "duration": 8,
    "start_time": "2023-01-04T19:06:46.707Z"
   },
   {
    "duration": 7,
    "start_time": "2023-01-04T19:06:46.717Z"
   },
   {
    "duration": 39,
    "start_time": "2023-01-04T19:06:46.725Z"
   },
   {
    "duration": 1766,
    "start_time": "2023-01-04T19:06:46.766Z"
   },
   {
    "duration": 22,
    "start_time": "2023-01-04T19:06:48.534Z"
   },
   {
    "duration": 16,
    "start_time": "2023-01-04T19:06:48.558Z"
   },
   {
    "duration": 23,
    "start_time": "2023-01-04T19:06:48.575Z"
   },
   {
    "duration": 1505,
    "start_time": "2023-01-04T19:27:40.088Z"
   },
   {
    "duration": 29,
    "start_time": "2023-01-04T19:27:41.595Z"
   },
   {
    "duration": 14,
    "start_time": "2023-01-04T19:27:41.626Z"
   },
   {
    "duration": 9,
    "start_time": "2023-01-04T19:27:41.642Z"
   },
   {
    "duration": 24,
    "start_time": "2023-01-04T19:27:41.653Z"
   },
   {
    "duration": 5,
    "start_time": "2023-01-04T19:27:41.678Z"
   },
   {
    "duration": 10,
    "start_time": "2023-01-04T19:27:41.685Z"
   },
   {
    "duration": 25,
    "start_time": "2023-01-04T19:27:41.696Z"
   },
   {
    "duration": 11,
    "start_time": "2023-01-04T19:27:41.723Z"
   },
   {
    "duration": 5,
    "start_time": "2023-01-04T19:27:41.736Z"
   },
   {
    "duration": 5,
    "start_time": "2023-01-04T19:27:41.742Z"
   },
   {
    "duration": 6,
    "start_time": "2023-01-04T19:27:41.748Z"
   },
   {
    "duration": 31,
    "start_time": "2023-01-04T19:27:41.755Z"
   },
   {
    "duration": 1737,
    "start_time": "2023-01-04T19:27:41.788Z"
   },
   {
    "duration": 24,
    "start_time": "2023-01-04T19:27:43.526Z"
   },
   {
    "duration": 19,
    "start_time": "2023-01-04T19:27:43.552Z"
   },
   {
    "duration": 7,
    "start_time": "2023-01-04T19:27:43.573Z"
   },
   {
    "duration": 1478,
    "start_time": "2023-01-04T20:09:58.704Z"
   },
   {
    "duration": 37,
    "start_time": "2023-01-04T20:10:00.184Z"
   },
   {
    "duration": 16,
    "start_time": "2023-01-04T20:10:00.223Z"
   },
   {
    "duration": 16,
    "start_time": "2023-01-04T20:10:00.240Z"
   },
   {
    "duration": 39,
    "start_time": "2023-01-04T20:10:00.258Z"
   },
   {
    "duration": 6,
    "start_time": "2023-01-04T20:10:00.299Z"
   },
   {
    "duration": 18,
    "start_time": "2023-01-04T20:10:00.307Z"
   },
   {
    "duration": 11,
    "start_time": "2023-01-04T20:10:00.326Z"
   },
   {
    "duration": 8,
    "start_time": "2023-01-04T20:10:00.338Z"
   },
   {
    "duration": 6,
    "start_time": "2023-01-04T20:10:00.348Z"
   },
   {
    "duration": 16,
    "start_time": "2023-01-04T20:10:00.356Z"
   },
   {
    "duration": 8,
    "start_time": "2023-01-04T20:10:00.373Z"
   },
   {
    "duration": 33,
    "start_time": "2023-01-04T20:10:00.382Z"
   },
   {
    "duration": 1776,
    "start_time": "2023-01-04T20:10:00.418Z"
   },
   {
    "duration": 35,
    "start_time": "2023-01-04T20:10:02.196Z"
   },
   {
    "duration": 19,
    "start_time": "2023-01-04T20:10:02.233Z"
   },
   {
    "duration": 6,
    "start_time": "2023-01-04T20:10:02.254Z"
   },
   {
    "duration": 1108,
    "start_time": "2023-01-05T16:44:06.082Z"
   },
   {
    "duration": 121,
    "start_time": "2023-01-05T16:44:07.192Z"
   },
   {
    "duration": 14,
    "start_time": "2023-01-05T16:44:07.315Z"
   },
   {
    "duration": 10,
    "start_time": "2023-01-05T16:44:07.331Z"
   },
   {
    "duration": 20,
    "start_time": "2023-01-05T16:44:07.342Z"
   },
   {
    "duration": 5,
    "start_time": "2023-01-05T16:44:07.364Z"
   },
   {
    "duration": 7,
    "start_time": "2023-01-05T16:44:07.370Z"
   },
   {
    "duration": 4,
    "start_time": "2023-01-05T16:44:07.378Z"
   },
   {
    "duration": 4,
    "start_time": "2023-01-05T16:44:07.415Z"
   },
   {
    "duration": 4,
    "start_time": "2023-01-05T16:44:07.421Z"
   },
   {
    "duration": 4,
    "start_time": "2023-01-05T16:44:07.427Z"
   },
   {
    "duration": 135,
    "start_time": "2023-01-05T16:47:45.748Z"
   },
   {
    "duration": 2,
    "start_time": "2023-01-05T17:29:45.177Z"
   },
   {
    "duration": 38,
    "start_time": "2023-01-05T17:29:45.183Z"
   },
   {
    "duration": 9,
    "start_time": "2023-01-05T17:29:45.223Z"
   },
   {
    "duration": 21,
    "start_time": "2023-01-05T17:29:45.233Z"
   },
   {
    "duration": 27,
    "start_time": "2023-01-05T17:29:45.255Z"
   },
   {
    "duration": 6,
    "start_time": "2023-01-05T17:29:45.286Z"
   },
   {
    "duration": 14,
    "start_time": "2023-01-05T17:29:45.293Z"
   },
   {
    "duration": 8,
    "start_time": "2023-01-05T17:29:45.308Z"
   },
   {
    "duration": 6,
    "start_time": "2023-01-05T17:29:55.617Z"
   },
   {
    "duration": 4,
    "start_time": "2023-01-05T17:29:56.532Z"
   },
   {
    "duration": 6,
    "start_time": "2023-01-05T17:32:34.062Z"
   },
   {
    "duration": 6,
    "start_time": "2023-01-05T17:32:35.357Z"
   },
   {
    "duration": 28,
    "start_time": "2023-01-05T17:33:09.398Z"
   },
   {
    "duration": 54,
    "start_time": "2023-01-05T17:33:51.874Z"
   },
   {
    "duration": 143,
    "start_time": "2023-01-05T17:34:07.250Z"
   },
   {
    "duration": 62,
    "start_time": "2023-01-05T17:34:48.882Z"
   },
   {
    "duration": 1741,
    "start_time": "2023-01-05T17:36:15.718Z"
   },
   {
    "duration": 38,
    "start_time": "2023-01-05T17:38:00.822Z"
   },
   {
    "duration": 10,
    "start_time": "2023-01-05T17:41:26.353Z"
   },
   {
    "duration": 16,
    "start_time": "2023-01-05T17:41:53.938Z"
   },
   {
    "duration": 27,
    "start_time": "2023-01-05T17:42:18.533Z"
   },
   {
    "duration": 27,
    "start_time": "2023-01-05T17:42:48.547Z"
   },
   {
    "duration": 1735,
    "start_time": "2023-01-05T17:44:05.945Z"
   },
   {
    "duration": 16,
    "start_time": "2023-01-05T17:47:24.304Z"
   },
   {
    "duration": 11,
    "start_time": "2023-01-05T17:47:53.045Z"
   },
   {
    "duration": 20,
    "start_time": "2023-01-05T17:48:02.401Z"
   },
   {
    "duration": 12,
    "start_time": "2023-01-05T18:24:50.499Z"
   },
   {
    "duration": 11,
    "start_time": "2023-01-05T18:24:59.771Z"
   },
   {
    "duration": 4,
    "start_time": "2023-01-05T18:28:24.851Z"
   },
   {
    "duration": 11,
    "start_time": "2023-01-05T18:28:34.920Z"
   },
   {
    "duration": 3,
    "start_time": "2023-01-05T18:28:51.547Z"
   },
   {
    "duration": 5,
    "start_time": "2023-01-05T18:28:56.528Z"
   },
   {
    "duration": 3,
    "start_time": "2023-01-05T18:29:18.927Z"
   },
   {
    "duration": 4,
    "start_time": "2023-01-05T18:30:38.359Z"
   },
   {
    "duration": 3,
    "start_time": "2023-01-05T18:30:51.437Z"
   },
   {
    "duration": 7,
    "start_time": "2023-01-05T18:32:02.421Z"
   },
   {
    "duration": 3,
    "start_time": "2023-01-05T18:32:09.393Z"
   },
   {
    "duration": 4,
    "start_time": "2023-01-05T18:32:51.596Z"
   },
   {
    "duration": 4,
    "start_time": "2023-01-05T18:48:17.683Z"
   },
   {
    "duration": 4,
    "start_time": "2023-01-05T18:48:18.158Z"
   },
   {
    "duration": 10,
    "start_time": "2023-01-05T18:53:03.372Z"
   },
   {
    "duration": 8,
    "start_time": "2023-01-05T18:53:11.360Z"
   },
   {
    "duration": 3,
    "start_time": "2023-01-05T18:53:21.305Z"
   },
   {
    "duration": 4,
    "start_time": "2023-01-05T18:53:21.940Z"
   },
   {
    "duration": 6,
    "start_time": "2023-01-05T18:56:34.081Z"
   },
   {
    "duration": 4,
    "start_time": "2023-01-05T18:56:40.836Z"
   },
   {
    "duration": 3,
    "start_time": "2023-01-05T18:58:29.832Z"
   },
   {
    "duration": 99,
    "start_time": "2023-01-05T19:05:29.487Z"
   },
   {
    "duration": 12,
    "start_time": "2023-01-05T19:07:01.947Z"
   },
   {
    "duration": 97,
    "start_time": "2023-01-05T19:10:47.939Z"
   },
   {
    "duration": 10,
    "start_time": "2023-01-05T19:10:58.091Z"
   },
   {
    "duration": 103,
    "start_time": "2023-01-05T19:15:43.518Z"
   },
   {
    "duration": 6,
    "start_time": "2023-01-05T19:19:47.098Z"
   },
   {
    "duration": 1113,
    "start_time": "2023-01-05T19:34:29.330Z"
   },
   {
    "duration": 34,
    "start_time": "2023-01-05T19:34:30.446Z"
   },
   {
    "duration": 21,
    "start_time": "2023-01-05T19:34:30.482Z"
   },
   {
    "duration": 35,
    "start_time": "2023-01-05T19:34:30.505Z"
   },
   {
    "duration": 46,
    "start_time": "2023-01-05T19:34:30.542Z"
   },
   {
    "duration": 42,
    "start_time": "2023-01-05T19:34:30.590Z"
   },
   {
    "duration": 36,
    "start_time": "2023-01-05T19:34:30.634Z"
   },
   {
    "duration": 23,
    "start_time": "2023-01-05T19:34:30.672Z"
   },
   {
    "duration": 45,
    "start_time": "2023-01-05T19:34:30.697Z"
   },
   {
    "duration": 39,
    "start_time": "2023-01-05T19:34:30.745Z"
   },
   {
    "duration": 55,
    "start_time": "2023-01-05T19:34:30.786Z"
   },
   {
    "duration": 37,
    "start_time": "2023-01-05T19:34:30.842Z"
   },
   {
    "duration": 82,
    "start_time": "2023-01-05T19:34:30.880Z"
   },
   {
    "duration": 1820,
    "start_time": "2023-01-05T19:34:30.964Z"
   },
   {
    "duration": 42,
    "start_time": "2023-01-05T19:34:32.785Z"
   },
   {
    "duration": 16,
    "start_time": "2023-01-05T19:34:32.831Z"
   },
   {
    "duration": 5,
    "start_time": "2023-01-05T19:34:32.848Z"
   },
   {
    "duration": 8,
    "start_time": "2023-01-05T19:34:32.854Z"
   },
   {
    "duration": 3,
    "start_time": "2023-01-05T19:34:32.864Z"
   },
   {
    "duration": 120,
    "start_time": "2023-01-05T19:34:32.869Z"
   },
   {
    "duration": 10,
    "start_time": "2023-01-05T19:34:32.991Z"
   },
   {
    "duration": 23,
    "start_time": "2023-01-05T19:34:33.003Z"
   },
   {
    "duration": 1235,
    "start_time": "2023-11-12T15:40:03.812Z"
   },
   {
    "duration": 32,
    "start_time": "2023-11-12T15:40:06.488Z"
   },
   {
    "duration": 16,
    "start_time": "2023-11-12T15:40:07.496Z"
   },
   {
    "duration": 14,
    "start_time": "2023-11-12T15:40:08.681Z"
   },
   {
    "duration": 29,
    "start_time": "2023-11-12T15:40:10.073Z"
   },
   {
    "duration": 7,
    "start_time": "2023-11-12T15:40:11.000Z"
   },
   {
    "duration": 6,
    "start_time": "2023-11-12T15:40:11.708Z"
   },
   {
    "duration": 5,
    "start_time": "2023-11-12T15:45:42.562Z"
   },
   {
    "duration": 7,
    "start_time": "2023-11-12T15:47:47.220Z"
   },
   {
    "duration": 10,
    "start_time": "2023-11-12T15:48:00.881Z"
   },
   {
    "duration": 6,
    "start_time": "2023-11-12T15:48:37.335Z"
   },
   {
    "duration": 5,
    "start_time": "2023-11-12T15:48:38.035Z"
   },
   {
    "duration": 1252,
    "start_time": "2023-11-12T16:01:18.464Z"
   },
   {
    "duration": 31,
    "start_time": "2023-11-12T16:01:19.718Z"
   },
   {
    "duration": 24,
    "start_time": "2023-11-12T16:01:19.751Z"
   },
   {
    "duration": 24,
    "start_time": "2023-11-12T16:01:19.778Z"
   },
   {
    "duration": 24,
    "start_time": "2023-11-12T16:01:19.803Z"
   },
   {
    "duration": 5,
    "start_time": "2023-11-12T16:01:19.828Z"
   },
   {
    "duration": 17,
    "start_time": "2023-11-12T16:01:19.835Z"
   },
   {
    "duration": 4,
    "start_time": "2023-11-12T16:01:19.854Z"
   },
   {
    "duration": 23,
    "start_time": "2023-11-12T16:01:19.860Z"
   },
   {
    "duration": 15,
    "start_time": "2023-11-12T16:01:19.887Z"
   },
   {
    "duration": 13,
    "start_time": "2023-11-12T16:01:19.904Z"
   },
   {
    "duration": 6,
    "start_time": "2023-11-12T16:01:19.918Z"
   },
   {
    "duration": 30,
    "start_time": "2023-11-12T16:01:19.925Z"
   },
   {
    "duration": 29,
    "start_time": "2023-11-12T16:01:26.907Z"
   },
   {
    "duration": 2033,
    "start_time": "2023-11-12T16:02:39.476Z"
   },
   {
    "duration": 52,
    "start_time": "2023-11-12T16:03:54.644Z"
   },
   {
    "duration": 18,
    "start_time": "2023-11-12T16:08:14.510Z"
   },
   {
    "duration": 6,
    "start_time": "2023-11-12T16:09:12.351Z"
   },
   {
    "duration": 5,
    "start_time": "2023-11-12T16:09:15.442Z"
   },
   {
    "duration": 3,
    "start_time": "2023-11-12T16:09:15.735Z"
   },
   {
    "duration": 114,
    "start_time": "2023-11-12T16:09:25.638Z"
   },
   {
    "duration": 11,
    "start_time": "2023-11-12T16:09:28.438Z"
   },
   {
    "duration": 9,
    "start_time": "2023-11-12T16:12:51.766Z"
   }
  ],
  "kernelspec": {
   "display_name": "Python 3 (ipykernel)",
   "language": "python",
   "name": "python3"
  },
  "language_info": {
   "codemirror_mode": {
    "name": "ipython",
    "version": 3
   },
   "file_extension": ".py",
   "mimetype": "text/x-python",
   "name": "python",
   "nbconvert_exporter": "python",
   "pygments_lexer": "ipython3",
   "version": "3.9.5"
  },
  "toc": {
   "base_numbering": 1,
   "nav_menu": {},
   "number_sections": true,
   "sideBar": true,
   "skip_h1_title": true,
   "title_cell": "Table of Contents",
   "title_sidebar": "Contents",
   "toc_cell": false,
   "toc_position": {},
   "toc_section_display": true,
   "toc_window_display": false
  }
 },
 "nbformat": 4,
 "nbformat_minor": 2
}
